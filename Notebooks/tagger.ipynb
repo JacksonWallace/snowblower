{
 "cells": [
  {
   "cell_type": "code",
   "execution_count": null,
   "id": "60b843c3",
   "metadata": {},
   "outputs": [],
   "source": [
    "%load_ext autoreload\n",
    "%autoreload 2"
   ]
  },
  {
   "cell_type": "code",
   "execution_count": null,
   "id": "9e7a7ccd",
   "metadata": {},
   "outputs": [],
   "source": [
    "import warnings\n",
    "warnings.filterwarnings(\"ignore\")\n",
    "\n",
    "import os\n",
    "\n",
    "import awkward as ak\n",
    "import uproot\n",
    "import numpy as np\n",
    "import glob\n",
    "from coffea.nanoevents import NanoEventsFactory, BaseSchema, NanoAODSchema\n",
    "from coffea import hist, processor\n",
    "# register our candidate behaviors\n",
    "from coffea.nanoevents.methods import candidate\n",
    "ak.behavior.update(candidate.behavior)\n",
    "\n",
    "from functools import partial\n",
    "\n",
    "from tools.helpers import get_four_vec_fromPtEtaPhiM, match\n",
    "\n",
    "from yahist import Hist1D, Hist2D\n",
    "\n",
    "import json\n",
    "\n",
    "%matplotlib inline\n",
    "import matplotlib\n",
    "import matplotlib.pyplot as plt\n",
    "\n",
    "import mplhep as hep\n",
    "\n",
    "plt.style.use(hep.style.CMS)  # or ATLAS/LHCb"
   ]
  },
  {
   "cell_type": "code",
   "execution_count": null,
   "id": "bbe5254c",
   "metadata": {},
   "outputs": [],
   "source": [
    "from tools.helpers import dasWrapper\n",
    "from analysis.tagger import desired_output\n",
    "\n",
    "redirector_ucsd = 'root://xcache-redirector.t2.ucsd.edu:2042/'\n",
    "redirector_fnal = 'root://cmsxrootd.fnal.gov/'\n",
    "\n",
    "# maybe we'll need the number of events for weighting, but not at the moment\n",
    "def get_nevents(name):\n",
    "    res = dasWrapper(name, query='summary')\n",
    "    return json.loads(res[0])[0]['nevents']\n"
   ]
  },
  {
   "cell_type": "code",
   "execution_count": null,
   "id": "8c7d5245",
   "metadata": {},
   "outputs": [],
   "source": [
    "samples_signal = [\n",
    "    '/ttHTobb_M125_TuneCP5_13TeV-powheg-pythia8/RunIISummer20UL18NanoAODv9-106X_upgrade2018_realistic_v16_L1v1-v2/NANOAODSIM',\n",
    "]\n",
    "\n",
    "Z_samples = [\n",
    "    '/ZJetsToNuNu_HT-100To200_TuneCP5_13TeV-madgraphMLM-pythia8/RunIISummer20UL18NanoAODv9-106X_upgrade2018_realistic_v16_L1v1-v1/NANOAODSIM',\n",
    "    '/ZJetsToNuNu_HT-200To400_TuneCP5_13TeV-madgraphMLM-pythia8/RunIISummer20UL18NanoAODv9-106X_upgrade2018_realistic_v16_L1v1-v1/NANOAODSIM',\n",
    "    '/ZJetsToNuNu_HT-400To600_TuneCP5_13TeV-madgraphMLM-pythia8/RunIISummer20UL18NanoAODv9-106X_upgrade2018_realistic_v16_L1v1-v1/NANOAODSIM',\n",
    "    '/ZJetsToNuNu_HT-600To800_TuneCP5_13TeV-madgraphMLM-pythia8/RunIISummer20UL18NanoAODv9-106X_upgrade2018_realistic_v16_L1v1-v1/NANOAODSIM',\n",
    "    '/ZJetsToNuNu_HT-800To1200_TuneCP5_13TeV-madgraphMLM-pythia8/RunIISummer20UL18NanoAODv9-106X_upgrade2018_realistic_v16_L1v1-v1/NANOAODSIM',\n",
    "    '/ZJetsToNuNu_HT-1200To2500_TuneCP5_13TeV-madgraphMLM-pythia8/RunIISummer20UL18NanoAODv9-106X_upgrade2018_realistic_v16_L1v1-v1/NANOAODSIM',\n",
    "    '/ZJetsToNuNu_HT-2500ToInf_TuneCP5_13TeV-madgraphMLM-pythia8/RunIISummer20UL18NanoAODv9-106X_upgrade2018_realistic_v16_L1v1-v1/NANOAODSIM',\n",
    "]\n",
    "\n",
    "tt_samples = [\n",
    "    '/TTToSemiLeptonic_TuneCP5_13TeV-powheg-pythia8/RunIISummer20UL18NanoAODv9-106X_upgrade2018_realistic_v16_L1v1-v1/NANOAODSIM',\n",
    "    #'/TTTo2L2Nu_TuneCP5_13TeV-powheg-pythia8/RunIISummer20UL18NanoAODv9-106X_upgrade2018_realistic_v16_L1v1-v1/NANOAODSIM',\n",
    "    '/TT_Mtt-1000toInf_TuneCP5_13TeV-powheg-pythia8/RunIISummer20UL18NanoAODv9-106X_upgrade2018_realistic_v16_L1v1-v1/NANOAODSIM',\n",
    "    '/ST_tW_top_5f_inclusiveDecays_TuneCP5_13TeV-powheg-pythia8/RunIISummer20UL18NanoAODv9-106X_upgrade2018_realistic_v16_L1v1-v2/NANOAODSIM',\n",
    "    '/ST_tW_antitop_5f_inclusiveDecays_TuneCP5_13TeV-powheg-pythia8/RunIISummer20UL18NanoAODv9-106X_upgrade2018_realistic_v16_L1v1-v2/NANOAODSIM',\n",
    "    '/ST_t-channel_top_4f_InclusiveDecays_TuneCP5_13TeV-powheg-madspin-pythia8/RunIISummer20UL18NanoAODv9-20UL18JMENano_106X_upgrade2018_realistic_v16_L1v1-v1/NANOAODSIM',\n",
    "    '/ST_t-channel_antitop_4f_InclusiveDecays_TuneCP5_13TeV-powheg-madspin-pythia8/RunIISummer20UL18NanoAODv9-20UL18JMENano_106X_upgrade2018_realistic_v16_L1v1-v1/NANOAODSIM',\n",
    "]\n",
    "\n",
    "QCD_samples = [\n",
    "    '/QCD_bEnriched_HT100to200_TuneCP5_13TeV-madgraph-pythia8/RunIISummer20UL18NanoAODv9-106X_upgrade2018_realistic_v16_L1v1-v1/NANOAODSIM',\n",
    "    '/QCD_bEnriched_HT200to300_TuneCP5_13TeV-madgraph-pythia8/RunIISummer20UL18NanoAODv9-106X_upgrade2018_realistic_v16_L1v1-v1/NANOAODSIM',\n",
    "    '/QCD_bEnriched_HT300to500_TuneCP5_13TeV-madgraph-pythia8/RunIISummer20UL18NanoAODv9-106X_upgrade2018_realistic_v16_L1v1-v1/NANOAODSIM',\n",
    "    '/QCD_bEnriched_HT500to700_TuneCP5_13TeV-madgraph-pythia8/RunIISummer20UL18NanoAODv9-106X_upgrade2018_realistic_v16_L1v1-v1/NANOAODSIM',\n",
    "    '/QCD_bEnriched_HT700to1000_TuneCP5_13TeV-madgraph-pythia8/RunIISummer20UL18NanoAODv9-106X_upgrade2018_realistic_v16_L1v1-v1/NANOAODSIM',\n",
    "    '/QCD_bEnriched_HT1000to1500_TuneCP5_13TeV-madgraph-pythia8/RunIISummer20UL18NanoAODv9-106X_upgrade2018_realistic_v16_L1v1-v1/NANOAODSIM',\n",
    "    '/QCD_bEnriched_HT1500to2000_TuneCP5_13TeV-madgraph-pythia8/RunIISummer20UL18NanoAODv9-106X_upgrade2018_realistic_v16_L1v1-v1/NANOAODSIM',\n",
    "    '/QCD_bEnriched_HT2000toInf_TuneCP5_13TeV-madgraph-pythia8/RunIISummer20UL18NanoAODv9-106X_upgrade2018_realistic_v16_L1v1-v1/NANOAODSIM',\n",
    "]\n",
    "\n",
    "W_samples = [\n",
    "    #'/W0JetsToLNu_TuneCP5_13TeV-madgraphMLM-pythia8/RunIISummer20UL18NanoAODv9-106X_upgrade2018_realistic_v16_L1v1-v1/NANOAODSIM'\n",
    "    #'/W1JetsToLNu_TuneCP5_13TeV-madgraphMLM-pythia8/RunIISummer20UL18NanoAODv9-106X_upgrade2018_realistic_v16_L1v1-v1/NANOAODSIM',\n",
    "    #'/W2JetsToLNu_TuneCP5_13TeV-madgraphMLM-pythia8/RunIISummer20UL18NanoAODv9-106X_upgrade2018_realistic_v16_L1v1-v1/NANOAODSIM',\n",
    "    #'/W3JetsToLNu_TuneCP5_13TeV-madgraphMLM-pythia8/RunIISummer20UL18NanoAODv9-106X_upgrade2018_realistic_v16_L1v1-v1/NANOAODSIM',\n",
    "    #'/W4JetsToLNu_TuneCP5_13TeV-madgraphMLM-pythia8/RunIISummer20UL18NanoAODv9-106X_upgrade2018_realistic_v16_L1v1-v2/NANOAODSIM',\n",
    "    '/WJetsToLNu_TuneCP5_13TeV-madgraphMLM-pythia8/RunIISummer20UL18NanoAODv9-106X_upgrade2018_realistic_v16_L1v1-v1/NANOAODSIM'\n",
    "]\n",
    "\n",
    "rare_samples = [\n",
    "    '',\n",
    "]"
   ]
  },
  {
   "cell_type": "code",
   "execution_count": null,
   "id": "1c2588d2",
   "metadata": {},
   "outputs": [],
   "source": [
    "fileset_signal = {s.split('/')[1]: [redirector_fnal+p for p in dasWrapper(s)] for s in samples_signal}\n",
    "fileset_Z = {s.split('/')[1]: [redirector_ucsd+p for p in dasWrapper(s)] for s in Z_samples}\n",
    "fileset_QCD = {s.split('/')[1]: [redirector_ucsd+p for p in dasWrapper(s)] for s in QCD_samples}\n",
    "fileset_W = {s.split('/')[1]: [redirector_ucsd+p for p in dasWrapper(s)] for s in W_samples}\n",
    "fileset_tt = {s.split('/')[1]: [redirector_ucsd+p for p in dasWrapper(s)][:10] for s in tt_samples}"
   ]
  },
  {
   "cell_type": "code",
   "execution_count": null,
   "id": "1a782cd7",
   "metadata": {},
   "outputs": [],
   "source": [
    "exe_args = {\n",
    "    'workers': 12,\n",
    "    \"schema\": NanoAODSchema,\n",
    "    \"skipbadfiles\": True,\n",
    "}\n",
    "exe = processor.futures_executor\n",
    "\n",
    "fileset = fileset_tt\n",
    "\n"
   ]
  },
  {
   "cell_type": "markdown",
   "id": "e4e65489",
   "metadata": {},
   "source": [
    "## Mass resolutions"
   ]
  },
  {
   "cell_type": "markdown",
   "id": "1ff4011b",
   "metadata": {},
   "source": [
    "### Run 2 FullSim"
   ]
  },
  {
   "cell_type": "code",
   "execution_count": null,
   "id": "adf25e2f",
   "metadata": {},
   "outputs": [],
   "source": [
    "fileset_signal;"
   ]
  },
  {
   "cell_type": "code",
   "execution_count": null,
   "id": "fc544762",
   "metadata": {},
   "outputs": [],
   "source": [
    "ev = NanoEventsFactory.from_root(\n",
    "        #'6BF93845-49D5-2547-B860-4F7601074715.root',\n",
    "        #'/nfs-7/userdata/dspitzba/ZJetsToNuNu_HT-200To400_14TeV-madgraph_200PU//ZJetsToNuNu_HT-200To400_14TeV-madgraph_200PU_1.root:myana',\n",
    "        #'/hadoop/cms/store/user/dspitzba/ProjectMetis/WJetsToLNu_GenMET-100_TuneCUETP8M1_14TeV-madgraphMLM-pythia8_200PU_v16/skim_13.root',\n",
    "        treepath='mytree',\n",
    "        schemaclass=NanoAODSchema,\n",
    "    ).events()"
   ]
  },
  {
   "cell_type": "code",
   "execution_count": null,
   "id": "1b071721",
   "metadata": {},
   "outputs": [],
   "source": [
    "from tools.helpers import get_four_vec_fromPtEtaPhiM, match, delta_r, delta_r2, yahist_2D_lookup\n",
    "\n",
    "\n",
    "\n",
    "def match_count(first, second, deltaRCut=0.4):\n",
    "    drCut2 = deltaRCut**2\n",
    "    combs = ak.cartesian([first, second], nested=True)\n",
    "    return ak.sum((delta_r2(combs['0'], combs['1'])<drCut2), axis=2)"
   ]
  },
  {
   "cell_type": "code",
   "execution_count": null,
   "id": "9760afc2",
   "metadata": {},
   "outputs": [],
   "source": [
    "fat = ev.FatJet[\n",
    "    (ev.FatJet.pt>300) &\\\n",
    "    (abs(ev.FatJet.eta)<2.4) &\\\n",
    "    (ev.FatJet.jetId>0)\n",
    "]\n",
    "\n",
    "higgs = ev.GenPart[((abs(ev.GenPart.pdgId)==25)&(ev.GenPart.status==62))]\n",
    "\n",
    "bquark = ev.GenPart[((abs(ev.GenPart.pdgId)==5)&(ev.GenPart.status==71))]\n",
    "\n",
    "nb_in_fat = match_count(fat, bquark, deltaRCut=0.8)\n",
    "\n",
    "nhiggs_in_fat = match_count(fat, higgs, deltaRCut=0.8)"
   ]
  },
  {
   "cell_type": "code",
   "execution_count": null,
   "id": "b9dc9184",
   "metadata": {
    "scrolled": false
   },
   "outputs": [],
   "source": [
    "h_mSD_res_full = Hist1D(\n",
    "    np.abs(ak.flatten(fat[((nhiggs_in_fat>0)&(nb_in_fat>1))].msoftdrop)-125),\n",
    "    bins=np.linspace(0,100,21)\n",
    ")\n",
    "h_mSD_res_full"
   ]
  },
  {
   "cell_type": "code",
   "execution_count": null,
   "id": "d57f93ad",
   "metadata": {},
   "outputs": [],
   "source": [
    "sum(h_mSD_res_full.counts[0:5])"
   ]
  },
  {
   "cell_type": "code",
   "execution_count": null,
   "id": "4937c1fc",
   "metadata": {},
   "outputs": [],
   "source": [
    "sum(h_mSD_res_full.counts)"
   ]
  },
  {
   "cell_type": "code",
   "execution_count": null,
   "id": "d7271e9e",
   "metadata": {},
   "outputs": [],
   "source": [
    "h_mSD_full = Hist1D(\n",
    "    ak.flatten(fat[((nhiggs_in_fat>0)&(nb_in_fat>1))].msoftdrop),\n",
    "    bins=np.linspace(0,250,26)\n",
    ")\n",
    "h_mSD_full"
   ]
  },
  {
   "cell_type": "code",
   "execution_count": null,
   "id": "69d081b0",
   "metadata": {},
   "outputs": [],
   "source": [
    "Hist1D(\n",
    "    np.abs(ak.flatten(fat[((nhiggs_in_fat>0)&(nb_in_fat>1))].msoftdrop)-125),\n",
    "    bins=np.linspace(0,200,21)\n",
    ")"
   ]
  },
  {
   "cell_type": "code",
   "execution_count": null,
   "id": "5600e45d",
   "metadata": {},
   "outputs": [],
   "source": [
    "np.median(ak.flatten(fat[((nhiggs_in_fat>0)&(nb_in_fat>1))].msoftdrop))"
   ]
  },
  {
   "cell_type": "code",
   "execution_count": null,
   "id": "a2a794b8",
   "metadata": {},
   "outputs": [],
   "source": [
    "Hist1D(\n",
    "    ak.flatten(fat[((nhiggs_in_fat>0))].msoftdrop),\n",
    "    bins=np.linspace(0,250,int(250/10)+1)\n",
    ")"
   ]
  },
  {
   "cell_type": "code",
   "execution_count": null,
   "id": "1e2e44a7",
   "metadata": {},
   "outputs": [],
   "source": [
    "Hist2D(\n",
    "    (\n",
    "        ak.flatten(fat[((nhiggs_in_fat>0)&(nb_in_fat>1))].msoftdrop),\n",
    "        ak.flatten(fat[((nhiggs_in_fat>0)&(nb_in_fat>1))].pt)\n",
    "    ),\n",
    "    bins=\"20,0,200,10,200,500\",\n",
    ")"
   ]
  },
  {
   "cell_type": "code",
   "execution_count": null,
   "id": "9873c339",
   "metadata": {},
   "outputs": [],
   "source": [
    "np.linspace(0,250,int(250/10)+1)"
   ]
  },
  {
   "cell_type": "markdown",
   "id": "d9fada23",
   "metadata": {},
   "source": [
    "### Delphes Phase 2"
   ]
  },
  {
   "cell_type": "code",
   "execution_count": null,
   "id": "2e9fa5a5",
   "metadata": {},
   "outputs": [],
   "source": [
    "events = NanoEventsFactory.from_root(\n",
    "        '/nfs-7/userdata/dspitzba/merge_ZH_HToBB_ZToNuNu_M125_13TeV_powheg_pythia8_200PU_v16/merge_1.root',\n",
    "        treepath='mytree',\n",
    "        schemaclass=BaseSchema,\n",
    "    ).events()"
   ]
  },
  {
   "cell_type": "code",
   "execution_count": null,
   "id": "3674c58b",
   "metadata": {},
   "outputs": [],
   "source": [
    "gen_sel = ((abs(events.genpart_pid)==6) | (abs(events.genpart_pid)==5) | (abs(events.genpart_pid)==25))  # NOTE: attempt to speed up reading gigantic gen particle branches\n",
    "\n",
    "gen = get_four_vec_fromPtEtaPhiM(\n",
    "    None,\n",
    "    pt = events.genpart_pt[gen_sel],\n",
    "    eta = events.genpart_eta[gen_sel],\n",
    "    phi = events.genpart_phi[gen_sel],\n",
    "    M = events.genpart_mass[gen_sel],\n",
    "    copy = False,\n",
    ")\n",
    "gen['pdgId'] = events.genpart_pid[gen_sel]\n",
    "gen['status'] = events.genpart_status[gen_sel]\n",
    "\n",
    "bquark = gen[((abs(gen.pdgId)==5)&(gen.status==71))]  # I suspect that Delphes does not keep b's with pt less than 20?\n",
    "higgs = gen[(abs(gen.pdgId)==25)][:,-1:]  # just get the last Higgs. Delphes is not keeping all the higgses.\n",
    "\n",
    "fatjet = get_four_vec_fromPtEtaPhiM(\n",
    "        None,\n",
    "        pt = events.fatjet_pt,\n",
    "        eta = events.fatjet_eta,\n",
    "        phi = events.fatjet_phi,\n",
    "        M = events.fatjet_msoftdrop,        #Using softdrop from now on\n",
    "        copy = False,\n",
    "    )\n",
    "\n",
    "fatjet = fatjet[\n",
    "    (fatjet.pt>300) &\\\n",
    "    (abs(fatjet.eta)<2.4) \n",
    "    #(ev.FatJet.jetId>0)\n",
    "]\n",
    "\n",
    "nhiggs_in_fat = match_count(fatjet, higgs, deltaRCut=0.8)\n",
    "nb_in_fat = match_count(fatjet, bquark, deltaRCut=0.8)"
   ]
  },
  {
   "cell_type": "code",
   "execution_count": null,
   "id": "ef4e1a5e",
   "metadata": {},
   "outputs": [],
   "source": [
    "h_mSD_res = Hist1D(\n",
    "    np.abs(ak.flatten(fatjet[((nhiggs_in_fat>0)&(nb_in_fat>1))].mass)-125),\n",
    "    bins=np.linspace(0,100,21)\n",
    ")\n",
    "h_mSD_res"
   ]
  },
  {
   "cell_type": "code",
   "execution_count": null,
   "id": "5cee1dfc",
   "metadata": {},
   "outputs": [],
   "source": [
    "h_mSD = Hist1D(\n",
    "    ak.flatten(fatjet[((nhiggs_in_fat>0)&(nb_in_fat>1))].mass),\n",
    "    bins=np.linspace(0,250,26)\n",
    ")\n",
    "h_mSD"
   ]
  },
  {
   "cell_type": "code",
   "execution_count": null,
   "id": "45a2d1b8",
   "metadata": {},
   "outputs": [],
   "source": [
    "smear_by = 1+np.maximum(np.random.normal(loc=1.2, scale=1.0, size=len(ak.flatten(fatjet[((nhiggs_in_fat>0)&(nb_in_fat>1))].mass))), 0)\n",
    "\n",
    "h_mSD_res_smeared = Hist1D(\n",
    "    np.abs(ak.flatten(fatjet[((nhiggs_in_fat>0)&(nb_in_fat>1))].mass)-125)*smear_by,\n",
    "    bins=np.linspace(0,100,21)\n",
    ")\n",
    "h_mSD_res_smeared"
   ]
  },
  {
   "cell_type": "code",
   "execution_count": null,
   "id": "be1522ee",
   "metadata": {},
   "outputs": [],
   "source": [
    "def correct_mass(jet, scale, res):\n",
    "    import numpy as np\n",
    "    np.random.seed(seed=123)\n",
    "    \n",
    "    jet_flat = ak.flatten(jet)\n",
    "    \n",
    "    correction = np.maximum(\n",
    "        1+np.random.normal(\n",
    "            loc=scale,\n",
    "            scale=res,\n",
    "            size=len(jet_flat),\n",
    "        ),\n",
    "        0\n",
    "    )\n",
    "    \n",
    "    jet['mass'] = ak.unflatten(jet_flat.mass * correction, ak.num(jet))\n",
    "    \n",
    "    return jet"
   ]
  },
  {
   "cell_type": "code",
   "execution_count": null,
   "id": "37a354a1",
   "metadata": {},
   "outputs": [],
   "source": [
    "ak.flatten(fatjet.mass[((nhiggs_in_fat>0)&(nb_in_fat>1))])"
   ]
  },
  {
   "cell_type": "code",
   "execution_count": null,
   "id": "eb0fc5aa",
   "metadata": {},
   "outputs": [],
   "source": [
    "fj = correct_mass(fatjet, 0.5, 0.1)"
   ]
  },
  {
   "cell_type": "code",
   "execution_count": null,
   "id": "928b04f4",
   "metadata": {},
   "outputs": [],
   "source": [
    "ak.flatten(fj.mass[((nhiggs_in_fat>0)&(nb_in_fat>1))])"
   ]
  },
  {
   "cell_type": "code",
   "execution_count": null,
   "id": "070ab48b",
   "metadata": {},
   "outputs": [],
   "source": [
    "np.random.seed(seed=123)\n",
    "\n",
    "smear_by = np.maximum(1+np.random.normal(loc=-0.50, scale=0.10, size=len(ak.flatten(fatjet[((nhiggs_in_fat>0)&(nb_in_fat>1))].mass))), 0)\n",
    "\n",
    "\n",
    "h_mSD_smeared = Hist1D(\n",
    "    ak.flatten(fatjet[((nhiggs_in_fat>0)&(nb_in_fat>1))].mass)*smear_by,\n",
    "    bins=np.linspace(0,250,26)\n",
    ")\n",
    "h_mSD_smeared"
   ]
  },
  {
   "cell_type": "code",
   "execution_count": null,
   "id": "c0bc5d1d",
   "metadata": {},
   "outputs": [],
   "source": [
    "Hist1D(\n",
    "    smear_by,\n",
    "    #bins=np.linspace(0,250,26)\n",
    ")"
   ]
  },
  {
   "cell_type": "code",
   "execution_count": null,
   "id": "539952c4",
   "metadata": {},
   "outputs": [],
   "source": [
    "sum(h_mSD_res.counts[0:2])"
   ]
  },
  {
   "cell_type": "code",
   "execution_count": null,
   "id": "24510c52",
   "metadata": {},
   "outputs": [],
   "source": [
    "sum(h_mSD_res.counts)"
   ]
  },
  {
   "cell_type": "code",
   "execution_count": null,
   "id": "279d4995",
   "metadata": {},
   "outputs": [],
   "source": [
    "h_mSD_res.edges"
   ]
  },
  {
   "cell_type": "code",
   "execution_count": null,
   "id": "d1c05062",
   "metadata": {},
   "outputs": [],
   "source": []
  },
  {
   "cell_type": "markdown",
   "id": "d8b01a3a",
   "metadata": {},
   "source": [
    "### Comparison"
   ]
  },
  {
   "cell_type": "code",
   "execution_count": null,
   "id": "c0888dfa",
   "metadata": {},
   "outputs": [],
   "source": [
    "fig, ax = plt.subplots(1,1,figsize=(7,7))\n",
    "\n",
    "hep.cms.label(\n",
    "    \"Simulation\",\n",
    "    data=True,\n",
    "    #year=2018,\n",
    "    #lumi=60.0,\n",
    "    loc=0,\n",
    "    ax=ax,\n",
    ")\n",
    "\n",
    "#vals_tagged = output['tagged'][sname].sum('phi', 'mass', 'eta', 'dataset').values()[()]\n",
    "#vals_inclusive = output['inclusive'][sname].sum('phi', 'mass', 'eta', 'dataset').values()[()]\n",
    "\n",
    "hep.histplot(\n",
    "    [ h_mSD_res_full.counts, h_mSD_res.counts, h_mSD_res_smeared.counts ],\n",
    "    h_mSD_res.edges,\n",
    "    #w2=[ vals_tagged, vals_inclusive ],\n",
    "    histtype=\"step\",\n",
    "    stack=False,\n",
    "    label=['Run 2', 'Delphes Phase-2', 'Phase-2 smeared'],\n",
    "    #color=[ my_histos[x].color for x in keys ],\n",
    "    ax=ax,density=True)\n",
    "\n",
    "ax.legend()\n",
    "\n",
    "ax.set_xlabel(r'$|m_{SD}-m_{h}|\\ (GeV)$')\n",
    "ax.set_ylabel(r'a.u.')\n",
    "\n",
    "plt.show()\n",
    "\n",
    "fig.savefig('/home/users/dspitzba/public_html/HbbMET/MSD_res.png')\n",
    "fig.savefig('/home/users/dspitzba/public_html/HbbMET/MSD_res.pdf')\n",
    "\n",
    "\n"
   ]
  },
  {
   "cell_type": "code",
   "execution_count": null,
   "id": "b36da76e",
   "metadata": {},
   "outputs": [],
   "source": [
    "fig, ax = plt.subplots(1,1,figsize=(7,7))\n",
    "\n",
    "hep.cms.label(\n",
    "    \"Simulation\",\n",
    "    data=True,\n",
    "    #year=2018,\n",
    "    #lumi=60.0,\n",
    "    loc=0,\n",
    "    ax=ax,\n",
    ")\n",
    "\n",
    "hep.histplot(\n",
    "    [ h_mSD_full.counts, h_mSD.counts, h_mSD_smeared.counts ],\n",
    "    h_mSD.edges,\n",
    "    #w2=[ vals_tagged, vals_inclusive ],\n",
    "    histtype=\"step\",\n",
    "    stack=False,\n",
    "    label=['Run 2', 'Delphes Phase-2', 'Phase-2 smeared'],\n",
    "    #color=[ my_histos[x].color for x in keys ],\n",
    "    ax=ax,density=True)\n",
    "\n",
    "ax.legend()\n",
    "\n",
    "ax.set_xlabel(r'$m_{SD}\\ (GeV)$')\n",
    "ax.set_ylabel(r'a.u.')\n",
    "\n",
    "plt.show()\n",
    "\n",
    "fig.savefig('/home/users/dspitzba/public_html/HbbMET/MSD.png')\n",
    "fig.savefig('/home/users/dspitzba/public_html/HbbMET/MSD.pdf')\n",
    "\n"
   ]
  },
  {
   "cell_type": "code",
   "execution_count": null,
   "id": "65024ef2",
   "metadata": {},
   "outputs": [],
   "source": [
    "ratio = (h_mSD_res_full.counts/sum(h_mSD_res_full.counts))/(h_mSD_res.counts/sum(h_mSD_res.counts))\n",
    "ratio"
   ]
  },
  {
   "cell_type": "code",
   "execution_count": null,
   "id": "72c7f866",
   "metadata": {},
   "outputs": [],
   "source": [
    "norm_ratio = ratio/sum(ratio)\n",
    "norm_ratio"
   ]
  },
  {
   "cell_type": "code",
   "execution_count": null,
   "id": "25f6c672",
   "metadata": {},
   "outputs": [],
   "source": [
    "np.random.choice(h_mSD_res_full.edges[:-1], 10, p=norm_ratio)"
   ]
  },
  {
   "cell_type": "code",
   "execution_count": null,
   "id": "b828bd42",
   "metadata": {},
   "outputs": [],
   "source": [
    "Hist1D(\n",
    "    np.random.choice(h_mSD_res_full.edges[:-1], 10000, p=norm_ratio),\n",
    "    bins=h_mSD_res_full.edges[:-1]\n",
    ")"
   ]
  },
  {
   "cell_type": "code",
   "execution_count": null,
   "id": "a0ec2bcc",
   "metadata": {},
   "outputs": [],
   "source": [
    "np.random.normal(loc=2.0, scale=1.0, size=1)"
   ]
  },
  {
   "cell_type": "code",
   "execution_count": null,
   "id": "35aa5b2d",
   "metadata": {},
   "outputs": [],
   "source": [
    "Hist1D(\n",
    "    np.random.normal(loc=1.0, scale=1.0, size=100000),\n",
    "    #bins=h_mSD_res_full.edges[:-1]\n",
    ")"
   ]
  },
  {
   "cell_type": "code",
   "execution_count": null,
   "id": "8a47035e",
   "metadata": {},
   "outputs": [],
   "source": [
    "smear_by = 1+np.maximum(np.random.normal(loc=1.0, scale=1.0, size=100), 0)\n",
    "smear_by"
   ]
  },
  {
   "cell_type": "markdown",
   "id": "b2094d2e",
   "metadata": {},
   "source": [
    "## Get the efficiencies"
   ]
  },
  {
   "cell_type": "code",
   "execution_count": null,
   "id": "fa2cb34d",
   "metadata": {
    "scrolled": false
   },
   "outputs": [],
   "source": [
    "from analysis.tagger import measure_eff\n",
    "\n",
    "\n",
    "output = processor.run_uproot_job(\n",
    "            fileset,\n",
    "            \"Events\",\n",
    "            measure_eff(accumulator=desired_output),\n",
    "            exe,\n",
    "            exe_args,\n",
    "            chunksize=500000,\n",
    "        )"
   ]
  },
  {
   "cell_type": "code",
   "execution_count": null,
   "id": "ee8e9c5e",
   "metadata": {},
   "outputs": [],
   "source": [
    "def get_efficiency(region, process, mass_range=slice(100,150)):\n",
    "\n",
    "    pt_bins  = hist.Bin('pt', r'$p_{T} \\ (GeV)$', [200, 300, 400, 600, 800])\n",
    "    eta_bins = hist.Bin('eta', r'$\\eta$', 3, 0, 2.4)\n",
    "\n",
    "    inclusive = output[region][process].rebin('pt', pt_bins).rebin('eta', eta_bins)\n",
    "    tagged = output[region+'_tagged'][process].rebin('pt', pt_bins).rebin('eta', eta_bins)\n",
    "\n",
    "    h1 = Hist2D.from_bincounts(\n",
    "        inclusive.integrate('mass', int_range=mass_range).sum('phi', 'dataset').values()[()].T,\n",
    "        (\n",
    "            inclusive.axis('pt').edges(),\n",
    "            inclusive.axis('eta').edges(),\n",
    "        )\n",
    "    )\n",
    "    \n",
    "    h2 = Hist2D.from_bincounts(\n",
    "        tagged.integrate('mass', int_range=mass_range).sum('phi', 'dataset').values()[()].T,\n",
    "        (\n",
    "            tagged.axis('pt').edges(),\n",
    "            tagged.axis('eta').edges(),\n",
    "        )\n",
    "    )\n",
    "    \n",
    "\n",
    "    return h2.divide(h1)"
   ]
  },
  {
   "cell_type": "code",
   "execution_count": null,
   "id": "79d11f59",
   "metadata": {},
   "outputs": [],
   "source": [
    "# check that stuff actually ran\n",
    "\n",
    "output['1b'].sum('phi', 'mass').integrate('eta', slice(0,1)).integrate('pt', slice(500,1000)).values()"
   ]
  },
  {
   "cell_type": "code",
   "execution_count": null,
   "id": "8d5a9ca1",
   "metadata": {},
   "outputs": [],
   "source": [
    "output['1h_tagged'].sum('phi', 'mass').integrate('eta', slice(0,1)).integrate('pt', slice(500,1000)).values()"
   ]
  },
  {
   "cell_type": "code",
   "execution_count": null,
   "id": "d08dfc79",
   "metadata": {},
   "outputs": [],
   "source": [
    "6534.0/10065.0"
   ]
  },
  {
   "cell_type": "code",
   "execution_count": null,
   "id": "87eb76e9",
   "metadata": {
    "scrolled": false
   },
   "outputs": [],
   "source": [
    "for s in fileset.keys():\n",
    "    print (s)\n",
    "    for b in ['0b', '1b', '2b', '1h']:\n",
    "        #print (b)\n",
    "        h = get_efficiency(b, s, mass_range=slice(0,500))\n",
    "        #h.plot()\n",
    "\n",
    "        h.to_json(os.path.expandvars(\"../data/htag/eff_%s_%s.json\"%(s,b)))\n",
    "        \n",
    "        #del h\n",
    "    \n",
    "h = get_efficiency(\n",
    "    '2b',\n",
    "    'ST_tW_antitop_5f_inclusiveDecays_TuneCP5_13TeV-powheg-pythia8',\n",
    "    mass_range=slice(0,500),\n",
    ")\n",
    "fig, ax = plt.subplots(1,1,figsize=(7,7))\n",
    "h.plot()"
   ]
  },
  {
   "cell_type": "code",
   "execution_count": null,
   "id": "d395f5ba",
   "metadata": {},
   "outputs": [],
   "source": [
    "h = get_efficiency(\n",
    "    '2b',\n",
    "    'TTToSemiLeptonic_TuneCP5_13TeV-powheg-pythia8',\n",
    "    mass_range=slice(0,500),\n",
    ")\n",
    "fig, ax = plt.subplots(1,1,figsize=(7,7))\n",
    "h.plot()"
   ]
  },
  {
   "cell_type": "markdown",
   "id": "400733a7",
   "metadata": {},
   "source": [
    "## Apply the efficiency"
   ]
  },
  {
   "cell_type": "code",
   "execution_count": null,
   "id": "3ecf9bbf",
   "metadata": {
    "scrolled": true
   },
   "outputs": [],
   "source": [
    "effs = {}\n",
    "for s in fileset_Z.keys():\n",
    "    effs[s] = {}\n",
    "    print (s)\n",
    "    for b in ['0b', '1b', '2b', '1h']:\n",
    "        #print (b)\n",
    "        #h = get_efficiency(b, s, mass_range=slice(0,500))\n",
    "        #h.plot()\n",
    "        effs[s][b] = Hist2D.from_json(os.path.expandvars(\"../data/htag/eff_%s_%s.json\"%(s,b)))\n",
    "        #effs[s][b] = effs[s][b]*0.95\n",
    "        \n",
    "for s in fileset.keys():\n",
    "    effs[s] = {}\n",
    "    print (s)\n",
    "    for b in ['0b', '1b', '2b', '1h']:\n",
    "        #print (b)\n",
    "        #h = get_efficiency(b, s, mass_range=slice(0,500))\n",
    "        #h.plot()\n",
    "        effs[s][b] = Hist2D.from_json(os.path.expandvars(\"../data/htag/eff_%s_%s.json\"%(s,b)))\n",
    "        #effs[s][b] = effs[s][b]*0.95"
   ]
  },
  {
   "cell_type": "code",
   "execution_count": null,
   "id": "734557bb",
   "metadata": {},
   "outputs": [],
   "source": [
    "fig, ax = plt.subplots()\n",
    "\n",
    "hep.cms.label(\n",
    "    \"Simulation\",\n",
    "    data=True,\n",
    "    #year=2018,\n",
    "    #lumi=60.0,\n",
    "    loc=0,\n",
    "    ax=ax,\n",
    ")\n",
    "\n",
    "effs['ttHTobb_M125_TuneCP5_13TeV-powheg-pythia8']['1h'].plot()\n",
    "\n",
    "ax.set_xlabel(r'$p_T\\ (AK8\\ jet)\\ (GeV)$')\n",
    "ax.set_ylabel(r'$|\\eta|$')\n",
    "\n",
    "plt.show()\n",
    "\n",
    "fig.savefig('/home/users/dspitzba/public_html/HbbMET/1h_true_eff.png')\n",
    "fig.savefig('/home/users/dspitzba/public_html/HbbMET/1h_true_eff.pdf')\n"
   ]
  },
  {
   "cell_type": "code",
   "execution_count": null,
   "id": "8504715b",
   "metadata": {},
   "outputs": [],
   "source": [
    "effs['ZJetsToNuNu_HT-600To800_TuneCP5_13TeV-madgraphMLM-pythia8']['1b']*1.05"
   ]
  },
  {
   "cell_type": "code",
   "execution_count": null,
   "id": "fb026899",
   "metadata": {},
   "outputs": [],
   "source": [
    "effs['ZJetsToNuNu_HT-600To800_TuneCP5_13TeV-madgraphMLM-pythia8']['1b'].counts"
   ]
  },
  {
   "cell_type": "code",
   "execution_count": null,
   "id": "bee00a14",
   "metadata": {},
   "outputs": [],
   "source": [
    "np.isnan(sum(sum(effs['ZJetsToNuNu_HT-600To800_TuneCP5_13TeV-madgraphMLM-pythia8']['1h'].counts)))"
   ]
  },
  {
   "cell_type": "code",
   "execution_count": null,
   "id": "5cad2408",
   "metadata": {},
   "outputs": [],
   "source": [
    "from tools.helpers import yahist_2D_lookup\n",
    "yahist_2D_lookup(\n",
    "    effs['ZJetsToNuNu_HT-600To800_TuneCP5_13TeV-madgraphMLM-pythia8']['0b'],\n",
    "    ak.Array([[700]]),\n",
    "    ak.Array([[2.]]),\n",
    ")"
   ]
  },
  {
   "cell_type": "code",
   "execution_count": null,
   "id": "d0f387bc",
   "metadata": {
    "scrolled": false
   },
   "outputs": [],
   "source": [
    "from analysis.tagger import apply_eff, desired_output\n",
    "\n",
    "exe_args = {\n",
    "    'workers': 12,\n",
    "    \"schema\": NanoAODSchema,\n",
    "    \"skipbadfiles\": True,\n",
    "}\n",
    "\n",
    "output = processor.run_uproot_job(\n",
    "            fileset_Z,\n",
    "            \"Events\",\n",
    "            apply_eff(\n",
    "                accumulator=desired_output,\n",
    "                effs = effs,\n",
    "            ),\n",
    "            exe,\n",
    "            exe_args,\n",
    "            chunksize=500000,\n",
    "        )"
   ]
  },
  {
   "cell_type": "markdown",
   "id": "d18c9361",
   "metadata": {},
   "source": [
    "### Closure and sanity checks\n",
    "\n",
    "Make sure that the method closes in pt, and gives reasonable agreement in the mass distribution.\n"
   ]
  },
  {
   "cell_type": "code",
   "execution_count": null,
   "id": "e631ddc1",
   "metadata": {},
   "outputs": [],
   "source": [
    "# if inclusive number below is nan we have a bug in applying the efficiencies.\n",
    "output['inclusive'].sum('pt', 'eta', 'phi', 'mass').values()"
   ]
  },
  {
   "cell_type": "code",
   "execution_count": null,
   "id": "9c672597",
   "metadata": {},
   "outputs": [],
   "source": [
    "# inclusive and tagged numbers should agree within percent level\n",
    "output['tagged'].sum('pt', 'eta', 'phi', 'mass').values()"
   ]
  },
  {
   "cell_type": "code",
   "execution_count": null,
   "id": "31b3bd06",
   "metadata": {},
   "outputs": [],
   "source": [
    "output['tagged'][sname].sum('phi', 'mass', 'eta', 'dataset').values(sumw2=True)"
   ]
  },
  {
   "cell_type": "code",
   "execution_count": null,
   "id": "c7e67ef8",
   "metadata": {},
   "outputs": [],
   "source": [
    "fig, ax = plt.subplots(1,1,figsize=(7,7))\n",
    "\n",
    "hep.cms.label(\n",
    "    \"Simulation\",\n",
    "    data=True,\n",
    "    #year=2018,\n",
    "    #lumi=60.0,\n",
    "    loc=0,\n",
    "    ax=ax,\n",
    ")\n",
    "\n",
    "sname = 'ZJetsToNuNu_HT-600To800_TuneCP5_13TeV-madgraphMLM-pythia8'\n",
    "\n",
    "vals_tagged = output['tagged'][sname].sum('phi', 'mass', 'eta', 'dataset').values()[()]\n",
    "vals_inclusive = output['inclusive'][sname].sum('phi', 'mass', 'eta', 'dataset').values()[()]\n",
    "\n",
    "hep.histplot(\n",
    "    [ vals_tagged, vals_inclusive ],\n",
    "    output['inclusive'][sname].axis('pt').edges(),\n",
    "    w2=[ vals_tagged, vals_inclusive ],\n",
    "    histtype=\"step\",\n",
    "    stack=False,\n",
    "    label=['tagged', 'reweighted'],\n",
    "    #color=[ my_histos[x].color for x in keys ],\n",
    "    ax=ax)\n",
    "\n",
    "ax.legend()\n",
    "\n",
    "ax.set_xlabel(r'$p_T\\ (AK8\\ jet)\\ (GeV)$')\n",
    "ax.set_ylabel(r'Events')\n",
    "\n",
    "plt.show()\n",
    "\n",
    "fig.savefig('/home/users/dspitzba/public_html/HbbMET/tagging/application_pt.png')\n",
    "fig.savefig('/home/users/dspitzba/public_html/HbbMET/tagging/application_pt.pdf')\n",
    "\n"
   ]
  },
  {
   "cell_type": "code",
   "execution_count": null,
   "id": "7c9282f0",
   "metadata": {},
   "outputs": [],
   "source": [
    "fig, ax = plt.subplots(1,1,figsize=(7,7))\n",
    "\n",
    "hep.cms.label(\n",
    "    \"Simulation\",\n",
    "    data=True,\n",
    "    #year=2018,\n",
    "    #lumi=60.0,\n",
    "    loc=0,\n",
    "    ax=ax,\n",
    ")\n",
    "\n",
    "sname = 'ZJetsToNuNu_HT-600To800_TuneCP5_13TeV-madgraphMLM-pythia8'\n",
    "\n",
    "vals_tagged = output['tagged'][sname].sum('phi', 'pt', 'eta', 'dataset').values()[()]\n",
    "vals_inclusive = output['inclusive'][sname].sum('phi', 'pt', 'eta', 'dataset').values()[()]\n",
    "\n",
    "hep.histplot(\n",
    "    [ vals_tagged, vals_inclusive ],\n",
    "    output['inclusive'][sname].axis('mass').edges(),\n",
    "    w2=[ vals_tagged, vals_inclusive ],\n",
    "    histtype=\"step\",\n",
    "    stack=False,\n",
    "    label=['tagged', 'reweighted'],\n",
    "    #color=[ my_histos[x].color for x in keys ],\n",
    "    ax=ax)\n",
    "\n",
    "ax.legend()\n",
    "\n",
    "ax.set_xlabel(r'$m_\\text{AK8}\\ (GeV)$')\n",
    "ax.set_ylabel(r'Events')\n",
    "\n",
    "ax.set_xlim([0,250])\n",
    "\n",
    "plt.show()\n",
    "\n",
    "fig.savefig('/home/users/dspitzba/public_html/HbbMET/tagging/application_mass.png')\n",
    "fig.savefig('/home/users/dspitzba/public_html/HbbMET/tagging/application_mass.pdf')\n",
    "\n"
   ]
  },
  {
   "cell_type": "code",
   "execution_count": null,
   "id": "c02d67db",
   "metadata": {},
   "outputs": [],
   "source": [
    "h1 = Hist1D.from_bincounts(\n",
    "        output['tagged'][sname].sum('phi', 'pt', 'eta', 'dataset').values()[()],\n",
    "        output['tagged'][sname].axis('mass').edges(),\n",
    "    )\n",
    "\n",
    "h2 = Hist1D.from_bincounts(\n",
    "        output['inclusive'][sname].sum('phi', 'pt', 'eta', 'dataset').values()[()],\n",
    "        output['inclusive'][sname].axis('mass').edges(),\n",
    "    )\n",
    "h1.plot()\n",
    "h2.plot()"
   ]
  },
  {
   "cell_type": "code",
   "execution_count": null,
   "id": "f5ec9e25",
   "metadata": {},
   "outputs": [],
   "source": [
    "fig, ax = plt.subplots(1,1,figsize=(7,7))\n",
    "\n",
    "h1 = Hist1D.from_bincounts(\n",
    "        output['NH_true'][sname].sum('dataset').values()[()],\n",
    "        output['NH_true'][sname].axis('multiplicity').edges(),\n",
    "    )\n",
    "\n",
    "h2 = Hist1D.from_bincounts(\n",
    "        output['NH_weight'][sname].sum('dataset').values()[()],\n",
    "        output['NH_weight'][sname].axis('multiplicity').edges(),\n",
    "    )\n",
    "h1.plot()\n",
    "h2.plot()\n",
    "\n",
    "ax.set_yscale('log')"
   ]
  },
  {
   "cell_type": "markdown",
   "id": "4f0abd92",
   "metadata": {},
   "source": [
    "### Compare prediction of tagged jets in the interesting mass window"
   ]
  },
  {
   "cell_type": "code",
   "execution_count": null,
   "id": "2c47ea0d",
   "metadata": {},
   "outputs": [],
   "source": [
    "output['inclusive'][sname].integrate('mass', int_range=slice(100,150)).sum('phi', 'pt', 'eta', 'dataset').values()[()]"
   ]
  },
  {
   "cell_type": "code",
   "execution_count": null,
   "id": "7797ff03",
   "metadata": {},
   "outputs": [],
   "source": [
    "output['tagged'][sname].integrate('mass', int_range=slice(100,150)).sum('phi', 'pt', 'eta', 'dataset').values()[()]"
   ]
  },
  {
   "cell_type": "code",
   "execution_count": null,
   "id": "20209dfa",
   "metadata": {},
   "outputs": [],
   "source": [
    "1539.101715319699/1462.0"
   ]
  },
  {
   "cell_type": "code",
   "execution_count": null,
   "id": "d956bb5e",
   "metadata": {},
   "outputs": [],
   "source": [
    "test_eff = ak.Array([[0.1,0.2], [0.15], []])\n",
    "1-ak.prod(1-test_eff, axis=1)"
   ]
  },
  {
   "cell_type": "code",
   "execution_count": null,
   "id": "d9debed8",
   "metadata": {},
   "outputs": [],
   "source": [
    "np.zeros_like(ak.num(test_eff))"
   ]
  },
  {
   "cell_type": "code",
   "execution_count": null,
   "id": "48805665",
   "metadata": {},
   "outputs": [],
   "source": [
    "output['NH_true'][sname].values()"
   ]
  },
  {
   "cell_type": "code",
   "execution_count": null,
   "id": "edb411bf",
   "metadata": {},
   "outputs": [],
   "source": [
    "output['NH_weight'][sname].values()"
   ]
  },
  {
   "cell_type": "code",
   "execution_count": null,
   "id": "e283540a",
   "metadata": {},
   "outputs": [],
   "source": [
    "54281.68960112/(5.3884000e+04+1.7600000e+02)"
   ]
  },
  {
   "cell_type": "markdown",
   "id": "fd16e3fe",
   "metadata": {},
   "source": [
    "## WIP"
   ]
  },
  {
   "cell_type": "code",
   "execution_count": null,
   "id": "407c26d9",
   "metadata": {},
   "outputs": [],
   "source": [
    "def compute_darkness(r, g, b, a=1.0):\n",
    "    \"\"\"Compute the 'darkness' value from RGBA (darkness = 1 - luminance)\n",
    "       stolen from Nick Amin: https://github.com/aminnj/yahist\n",
    "       Version from Jonathan Guiang: https://gist.github.com/jkguiang/279cb4d2e68e64148afc62274df09f18\n",
    "    \"\"\"\n",
    "    return a * (1.0 - (0.299 * r + 0.587 * g + 0.114 * b))\n",
    "\n",
    "def bin_text(counts, x_edges, y_edges, axes, cbar, errors=None, size=10, fmt=\":0.2e\"):\n",
    "    \"\"\"Write bin population on top of 2D histogram bins,\n",
    "       stolen from Nick Amin: https://github.com/aminnj/yahist\n",
    "       Version from Jonathan Guiang: https://gist.github.com/jkguiang/279cb4d2e68e64148afc62274df09f18\n",
    "    \"\"\"\n",
    "    show_errors = (type(errors) != type(None))\n",
    "    x_centers = x_edges[1:]-(x_edges[1:]-x_edges[:-1])/2\n",
    "    y_centers = y_edges[1:]-(y_edges[1:]-y_edges[:-1])/2\n",
    "    \n",
    "    if show_errors:\n",
    "        label_template = r\"{0\"+fmt+\"}\\n$\\pm{1:0.2f}\\%$\"\n",
    "    else:\n",
    "        errors = np.zeros(counts.shape)\n",
    "        label_template = r\"{0\"+fmt+\"}\"\n",
    "        \n",
    "    xyz = np.c_[        \n",
    "        np.tile(x_centers, len(y_centers)),\n",
    "        np.repeat(y_centers, len(x_centers)),\n",
    "        counts.flatten(),\n",
    "        errors.flatten()\n",
    "    ][counts.flatten() != 0]\n",
    "\n",
    "    r, g, b, a = cbar.mappable.to_rgba(xyz[:, 2]).T\n",
    "    colors = np.zeros((len(xyz), 3))\n",
    "    colors[compute_darkness(r, g, b, a) > 0.45] = 1\n",
    "\n",
    "    for (x, y, count, err), color in zip(xyz, colors):\n",
    "        axes.text(\n",
    "            x,\n",
    "            y,\n",
    "            label_template.format(count, err),\n",
    "            color=color,\n",
    "            ha=\"center\",\n",
    "            va=\"center\",\n",
    "            fontsize=size,\n",
    "            wrap=True,\n",
    "        )\n",
    "\n",
    "    return"
   ]
  },
  {
   "cell_type": "code",
   "execution_count": null,
   "id": "c36174a6",
   "metadata": {},
   "outputs": [],
   "source": [
    "h2.divide(h1).counts"
   ]
  },
  {
   "cell_type": "code",
   "execution_count": null,
   "id": "2b0cff7b",
   "metadata": {},
   "outputs": [],
   "source": [
    "h2.edges[0]"
   ]
  },
  {
   "cell_type": "code",
   "execution_count": null,
   "id": "8a1d3e1a",
   "metadata": {},
   "outputs": [],
   "source": []
  }
 ],
 "metadata": {
  "kernelspec": {
   "display_name": "coffeadev",
   "language": "python",
   "name": "coffeadev"
  },
  "language_info": {
   "codemirror_mode": {
    "name": "ipython",
    "version": 3
   },
   "file_extension": ".py",
   "mimetype": "text/x-python",
   "name": "python",
   "nbconvert_exporter": "python",
   "pygments_lexer": "ipython3",
   "version": "3.9.7"
  }
 },
 "nbformat": 4,
 "nbformat_minor": 5
}
