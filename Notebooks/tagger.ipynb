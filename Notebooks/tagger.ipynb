{
 "cells": [
  {
   "cell_type": "code",
   "execution_count": null,
   "id": "60b843c3",
   "metadata": {},
   "outputs": [],
   "source": [
    "%load_ext autoreload\n",
    "%autoreload 2"
   ]
  },
  {
   "cell_type": "code",
   "execution_count": null,
   "id": "9e7a7ccd",
   "metadata": {},
   "outputs": [],
   "source": [
    "import warnings\n",
    "warnings.filterwarnings(\"ignore\")\n",
    "\n",
    "import os\n",
    "\n",
    "import awkward as ak\n",
    "import uproot\n",
    "import numpy as np\n",
    "import glob\n",
    "from coffea.nanoevents import NanoEventsFactory, BaseSchema, NanoAODSchema\n",
    "from coffea import hist, processor\n",
    "# register our candidate behaviors\n",
    "from coffea.nanoevents.methods import candidate\n",
    "ak.behavior.update(candidate.behavior)\n",
    "\n",
    "from functools import partial\n",
    "\n",
    "from tools.helpers import get_four_vec_fromPtEtaPhiM, match\n",
    "\n",
    "from yahist import Hist1D, Hist2D\n",
    "\n",
    "import json\n",
    "\n",
    "%matplotlib inline\n",
    "import matplotlib\n",
    "import matplotlib.pyplot as plt\n",
    "\n",
    "import mplhep as hep\n",
    "\n",
    "plt.style.use(hep.style.CMS)  # or ATLAS/LHCb"
   ]
  },
  {
   "cell_type": "code",
   "execution_count": null,
   "id": "bbe5254c",
   "metadata": {},
   "outputs": [],
   "source": [
    "from tools.helpers import dasWrapper\n",
    "from analysis.tagger import desired_output\n",
    "\n",
    "redirector_ucsd = 'root://xcache-redirector.t2.ucsd.edu:2042/'\n",
    "\n",
    "# maybe we'll need the number of events for weighting, but not at the moment\n",
    "def get_nevents(name):\n",
    "    res = dasWrapper(name, query='summary')\n",
    "    return json.loads(res[0])[0]['nevents']\n"
   ]
  },
  {
   "cell_type": "code",
   "execution_count": null,
   "id": "8c7d5245",
   "metadata": {},
   "outputs": [],
   "source": [
    "samples = [\n",
    "    #'/ttHTobb_M125_TuneCP5_13TeV-powheg-pythia8/RunIISummer20UL18NanoAODv9-106X_upgrade2018_realistic_v16_L1v1-v2/NANOAODSIM',\n",
    "    '/ZJetsToNuNu_HT-100To200_TuneCP5_13TeV-madgraphMLM-pythia8/RunIISummer20UL18NanoAODv9-106X_upgrade2018_realistic_v16_L1v1-v1/NANOAODSIM',\n",
    "    #'/ZJetsToNuNu_HT-200To400_TuneCP5_13TeV-madgraphMLM-pythia8/RunIISummer20UL18NanoAODv9-106X_upgrade2018_realistic_v16_L1v1-v1/NANOAODSIM',\n",
    "    #'/ZJetsToNuNu_HT-400To600_TuneCP5_13TeV-madgraphMLM-pythia8/RunIISummer20UL18NanoAODv9-106X_upgrade2018_realistic_v16_L1v1-v1/NANOAODSIM',\n",
    "    #'/ZJetsToNuNu_HT-600To800_TuneCP5_13TeV-madgraphMLM-pythia8/RunIISummer20UL18NanoAODv9-106X_upgrade2018_realistic_v16_L1v1-v1/NANOAODSIM',\n",
    "    #'/ZJetsToNuNu_HT-800To1200_TuneCP5_13TeV-madgraphMLM-pythia8/RunIISummer20UL18NanoAODv9-106X_upgrade2018_realistic_v16_L1v1-v1/NANOAODSIM',\n",
    "    #'/ZJetsToNuNu_HT-1200To2500_TuneCP5_13TeV-madgraphMLM-pythia8/RunIISummer20UL18NanoAODv9-106X_upgrade2018_realistic_v16_L1v1-v1/NANOAODSIM',\n",
    "    #'/ZJetsToNuNu_HT-2500ToInf_TuneCP5_13TeV-madgraphMLM-pythia8/RunIISummer20UL18NanoAODv9-106X_upgrade2018_realistic_v16_L1v1-v1/NANOAODSIM',\n",
    "]\n",
    "\n",
    "tt_samples = [\n",
    "    #'/TTToSemiLeptonic_TuneCP5_13TeV-powheg-pythia8/RunIISummer20UL18NanoAODv9-106X_upgrade2018_realistic_v16_L1v1-v1/NANOAODSIM',\n",
    "    #'/TTTo2L2Nu_TuneCP5_13TeV-powheg-pythia8/RunIISummer20UL18NanoAODv9-106X_upgrade2018_realistic_v16_L1v1-v1/NANOAODSIM',\n",
    "]\n",
    "\n",
    "QCD_samples = [\n",
    "    #'/QCD_bEnriched_HT100to200_TuneCP5_13TeV-madgraph-pythia8/RunIISummer20UL18NanoAODv9-106X_upgrade2018_realistic_v16_L1v1-v1/NANOAODSIM',\n",
    "    #'/QCD_bEnriched_HT200to300_TuneCP5_13TeV-madgraph-pythia8/RunIISummer20UL18NanoAODv9-106X_upgrade2018_realistic_v16_L1v1-v1/NANOAODSIM',\n",
    "    #'/QCD_bEnriched_HT300to500_TuneCP5_13TeV-madgraph-pythia8/RunIISummer20UL18NanoAODv9-106X_upgrade2018_realistic_v16_L1v1-v1/NANOAODSIM',\n",
    "    #'/QCD_bEnriched_HT500to700_TuneCP5_13TeV-madgraph-pythia8/RunIISummer20UL18NanoAODv9-106X_upgrade2018_realistic_v16_L1v1-v1/NANOAODSIM',\n",
    "    #'/QCD_bEnriched_HT700to1000_TuneCP5_13TeV-madgraph-pythia8/RunIISummer20UL18NanoAODv9-106X_upgrade2018_realistic_v16_L1v1-v1/NANOAODSIM',\n",
    "    #'/QCD_bEnriched_HT1000to1500_TuneCP5_13TeV-madgraph-pythia8/RunIISummer20UL18NanoAODv9-106X_upgrade2018_realistic_v16_L1v1-v1/NANOAODSIM',\n",
    "    #'/QCD_bEnriched_HT1500to2000_TuneCP5_13TeV-madgraph-pythia8/RunIISummer20UL18NanoAODv9-106X_upgrade2018_realistic_v16_L1v1-v1/NANOAODSIM',\n",
    "    #'/QCD_bEnriched_HT2000toInf_TuneCP5_13TeV-madgraph-pythia8/RunIISummer20UL18NanoAODv9-106X_upgrade2018_realistic_v16_L1v1-v1/NANOAODSIM',\n",
    "]\n",
    "\n",
    "W_samples = [\n",
    "    '/W0JetsToLNu_TuneCP5_13TeV-madgraphMLM-pythia8/RunIISummer20UL18NanoAODv9-106X_upgrade2018_realistic_v16_L1v1-v1/NANOAODSIM'\n",
    "    #'/W1JetsToLNu_TuneCP5_13TeV-madgraphMLM-pythia8/RunIISummer20UL18NanoAODv9-106X_upgrade2018_realistic_v16_L1v1-v1/NANOAODSIM',\n",
    "    #'/W2JetsToLNu_TuneCP5_13TeV-madgraphMLM-pythia8/RunIISummer20UL18NanoAODv9-106X_upgrade2018_realistic_v16_L1v1-v1/NANOAODSIM',\n",
    "    #'/W3JetsToLNu_TuneCP5_13TeV-madgraphMLM-pythia8/RunIISummer20UL18NanoAODv9-106X_upgrade2018_realistic_v16_L1v1-v1/NANOAODSIM',\n",
    "    #'/W4JetsToLNu_TuneCP5_13TeV-madgraphMLM-pythia8/RunIISummer20UL18NanoAODv9-106X_upgrade2018_realistic_v16_L1v1-v2/NANOAODSIM',\n",
    "]"
   ]
  },
  {
   "cell_type": "code",
   "execution_count": null,
   "id": "e967951d",
   "metadata": {},
   "outputs": [],
   "source": [
    "fileset = {s.split('/')[1]: [redirector_ucsd+p for p in dasWrapper(s)] for s in samples}"
   ]
  },
  {
   "cell_type": "code",
   "execution_count": null,
   "id": "1c2588d2",
   "metadata": {},
   "outputs": [],
   "source": [
    "fileset_QCD = {s.split('/')[1]: [redirector_ucsd+p for p in dasWrapper(s)] for s in QCD_samples}\n",
    "fileset_W = {s.split('/')[1]: [redirector_ucsd+p for p in dasWrapper(s)] for s in W_samples}\n",
    "fileset_tt = {s.split('/')[1]: [redirector_ucsd+p for p in dasWrapper(s)][:10] for s in tt_samples}"
   ]
  },
  {
   "cell_type": "code",
   "execution_count": null,
   "id": "a0927a5e",
   "metadata": {},
   "outputs": [],
   "source": [
    "dasWrapper('/W1JetsToLNu_TuneCP5_13TeV-madgraphMLM-pythia8/RunIISummer20UL18NanoAODv9-106X_upgrade2018_realistic_v16_L1v1-v1/NANOAODSIM')"
   ]
  },
  {
   "cell_type": "code",
   "execution_count": null,
   "id": "32228c8b",
   "metadata": {},
   "outputs": [],
   "source": [
    "fileset_W"
   ]
  },
  {
   "cell_type": "code",
   "execution_count": null,
   "id": "1a782cd7",
   "metadata": {},
   "outputs": [],
   "source": [
    "exe_args = {\n",
    "    'workers': 12,\n",
    "    \"schema\": NanoAODSchema,\n",
    "    \"skipbadfiles\": True,\n",
    "}\n",
    "exe = processor.futures_executor"
   ]
  },
  {
   "cell_type": "markdown",
   "id": "b2094d2e",
   "metadata": {},
   "source": [
    "## Get the efficiencies"
   ]
  },
  {
   "cell_type": "code",
   "execution_count": null,
   "id": "fa2cb34d",
   "metadata": {
    "scrolled": false
   },
   "outputs": [],
   "source": [
    "from analysis.tagger import measure_eff\n",
    "\n",
    "output = processor.run_uproot_job(\n",
    "            fileset,\n",
    "            \"Events\",\n",
    "            measure_eff(accumulator=desired_output),\n",
    "            exe,\n",
    "            exe_args,\n",
    "            chunksize=500000,\n",
    "        )"
   ]
  },
  {
   "cell_type": "code",
   "execution_count": null,
   "id": "ee8e9c5e",
   "metadata": {},
   "outputs": [],
   "source": [
    "def get_efficiency(region, process, mass_range=slice(100,150)):\n",
    "\n",
    "    pt_bins  = hist.Bin('pt', r'$p_{T} \\ (GeV)$', [200, 300, 400, 600, 800])\n",
    "    eta_bins = hist.Bin('eta', r'$\\eta$', 3, 0, 2.4)\n",
    "\n",
    "    inclusive = output[region][process].rebin('pt', pt_bins).rebin('eta', eta_bins)\n",
    "    tagged = output[region+'_tagged'][process].rebin('pt', pt_bins).rebin('eta', eta_bins)\n",
    "\n",
    "    h1 = Hist2D.from_bincounts(\n",
    "        inclusive.integrate('mass', int_range=mass_range).sum('phi', 'dataset').values()[()].T,\n",
    "        (\n",
    "            inclusive.axis('pt').edges(),\n",
    "            inclusive.axis('eta').edges(),\n",
    "        )\n",
    "    )\n",
    "    \n",
    "    h2 = Hist2D.from_bincounts(\n",
    "        tagged.integrate('mass', int_range=mass_range).sum('phi', 'dataset').values()[()].T,\n",
    "        (\n",
    "            tagged.axis('pt').edges(),\n",
    "            tagged.axis('eta').edges(),\n",
    "        )\n",
    "    )\n",
    "    \n",
    "\n",
    "    return h2.divide(h1)"
   ]
  },
  {
   "cell_type": "code",
   "execution_count": null,
   "id": "79d11f59",
   "metadata": {},
   "outputs": [],
   "source": [
    "# check that stuff actually ran\n",
    "\n",
    "output['0b'].sum('pt', 'eta', 'phi', 'mass').values()"
   ]
  },
  {
   "cell_type": "code",
   "execution_count": null,
   "id": "87eb76e9",
   "metadata": {
    "scrolled": false
   },
   "outputs": [],
   "source": [
    "for s in fileset.keys():\n",
    "    print (s)\n",
    "    for b in ['0b', '1b', '2b', '1h']:\n",
    "        #print (b)\n",
    "        h = get_efficiency(b, s, mass_range=slice(0,500))\n",
    "        #h.plot()\n",
    "\n",
    "        h.to_json(os.path.expandvars(\"../data/htag/eff_%s_%s.json\"%(s,b)))\n",
    "        \n",
    "        #del h\n",
    "    \n",
    "h = get_efficiency(\n",
    "    '2b',\n",
    "    'TTTo2L2Nu_TuneCP5_13TeV-powheg-pythia8',\n",
    "    mass_range=slice(0,500),\n",
    ")\n",
    "fig, ax = plt.subplots(1,1,figsize=(7,7))\n",
    "h.plot()"
   ]
  },
  {
   "cell_type": "code",
   "execution_count": null,
   "id": "d395f5ba",
   "metadata": {},
   "outputs": [],
   "source": [
    "h = get_efficiency(\n",
    "    '2b',\n",
    "    'TTToSemiLeptonic_TuneCP5_13TeV-powheg-pythia8',\n",
    "    mass_range=slice(0,500),\n",
    ")\n",
    "fig, ax = plt.subplots(1,1,figsize=(7,7))\n",
    "h.plot()"
   ]
  },
  {
   "cell_type": "markdown",
   "id": "400733a7",
   "metadata": {},
   "source": [
    "## Apply the efficiency"
   ]
  },
  {
   "cell_type": "code",
   "execution_count": null,
   "id": "3ecf9bbf",
   "metadata": {
    "scrolled": true
   },
   "outputs": [],
   "source": [
    "effs = {}\n",
    "for s in fileset.keys():\n",
    "    effs[s] = {}\n",
    "    print (s)\n",
    "    for b in ['0b', '1b', '2b', '1h']:\n",
    "        #print (b)\n",
    "        #h = get_efficiency(b, s, mass_range=slice(0,500))\n",
    "        #h.plot()\n",
    "        effs[s][b] = Hist2D.from_json(os.path.expandvars(\"../data/htag/eff_%s_%s.json\"%(s,b)))"
   ]
  },
  {
   "cell_type": "code",
   "execution_count": null,
   "id": "734557bb",
   "metadata": {},
   "outputs": [],
   "source": [
    "effs['ttHTobb_M125_TuneCP5_13TeV-powheg-pythia8']['1h'].plot()"
   ]
  },
  {
   "cell_type": "code",
   "execution_count": null,
   "id": "bee00a14",
   "metadata": {},
   "outputs": [],
   "source": [
    "np.isnan(sum(sum(effs['ZJetsToNuNu_HT-2500ToInf_TuneCP5_13TeV-madgraphMLM-pythia8']['1h'].counts)))"
   ]
  },
  {
   "cell_type": "code",
   "execution_count": null,
   "id": "5cad2408",
   "metadata": {},
   "outputs": [],
   "source": [
    "from tools.helpers import yahist_2D_lookup\n",
    "yahist_2D_lookup(\n",
    "    effs['ZJetsToNuNu_HT-2500ToInf_TuneCP5_13TeV-madgraphMLM-pythia8']['0b'],\n",
    "    ak.Array([[700]]),\n",
    "    ak.Array([[2.]]),\n",
    ")"
   ]
  },
  {
   "cell_type": "code",
   "execution_count": null,
   "id": "d0f387bc",
   "metadata": {
    "scrolled": false
   },
   "outputs": [],
   "source": [
    "from analysis.tagger import apply_eff, desired_output\n",
    "\n",
    "output = processor.run_uproot_job(\n",
    "            fileset,\n",
    "            \"Events\",\n",
    "            apply_eff(\n",
    "                accumulator=desired_output,\n",
    "                effs = effs,\n",
    "            ),\n",
    "            exe,\n",
    "            exe_args,\n",
    "            chunksize=500000,\n",
    "        )"
   ]
  },
  {
   "cell_type": "markdown",
   "id": "d18c9361",
   "metadata": {},
   "source": [
    "### Closure and sanity checks\n",
    "\n",
    "Make sure that the method closes in pt, and gives reasonable agreement in the mass distribution.\n"
   ]
  },
  {
   "cell_type": "code",
   "execution_count": null,
   "id": "e631ddc1",
   "metadata": {},
   "outputs": [],
   "source": [
    "# if inclusive number below is nan we have a bug in applying the efficiencies.\n",
    "output['inclusive'].sum('pt', 'eta', 'phi', 'mass').values()"
   ]
  },
  {
   "cell_type": "code",
   "execution_count": null,
   "id": "9c672597",
   "metadata": {},
   "outputs": [],
   "source": [
    "# inclusive and tagged numbers should agree within percent level\n",
    "output['tagged'].sum('pt', 'eta', 'phi', 'mass').values()"
   ]
  },
  {
   "cell_type": "code",
   "execution_count": null,
   "id": "c7e67ef8",
   "metadata": {},
   "outputs": [],
   "source": [
    "fig, ax = plt.subplots(1,1,figsize=(7,7))\n",
    "\n",
    "h1 = Hist1D.from_bincounts(\n",
    "        output['tagged']['ttHTobb_M125_TuneCP5_13TeV-powheg-pythia8'].sum('phi', 'mass', 'eta', 'dataset').values()[()],\n",
    "        output['tagged']['ttHTobb_M125_TuneCP5_13TeV-powheg-pythia8'].axis('pt').edges(),\n",
    "    )\n",
    "\n",
    "h2 = Hist1D.from_bincounts(\n",
    "        output['inclusive']['ttHTobb_M125_TuneCP5_13TeV-powheg-pythia8'].sum('phi', 'mass', 'eta', 'dataset').values()[()],\n",
    "        output['inclusive']['ttHTobb_M125_TuneCP5_13TeV-powheg-pythia8'].axis('pt').edges(),\n",
    "    )\n",
    "h1.plot()\n",
    "h2.plot()"
   ]
  },
  {
   "cell_type": "code",
   "execution_count": null,
   "id": "c02d67db",
   "metadata": {},
   "outputs": [],
   "source": [
    "h1 = Hist1D.from_bincounts(\n",
    "        output['tagged']['ttHTobb_M125_TuneCP5_13TeV-powheg-pythia8'].sum('phi', 'pt', 'eta', 'dataset').values()[()],\n",
    "        output['tagged']['ttHTobb_M125_TuneCP5_13TeV-powheg-pythia8'].axis('mass').edges(),\n",
    "    )\n",
    "\n",
    "h2 = Hist1D.from_bincounts(\n",
    "        output['inclusive']['ttHTobb_M125_TuneCP5_13TeV-powheg-pythia8'].sum('phi', 'pt', 'eta', 'dataset').values()[()],\n",
    "        output['inclusive']['ttHTobb_M125_TuneCP5_13TeV-powheg-pythia8'].axis('mass').edges(),\n",
    "    )\n",
    "h1.plot()\n",
    "h2.plot()"
   ]
  },
  {
   "cell_type": "code",
   "execution_count": null,
   "id": "f5ec9e25",
   "metadata": {},
   "outputs": [],
   "source": [
    "fig, ax = plt.subplots(1,1,figsize=(7,7))\n",
    "\n",
    "h1 = Hist1D.from_bincounts(\n",
    "        output['NH_true']['ttHTobb_M125_TuneCP5_13TeV-powheg-pythia8'].sum('dataset').values()[()],\n",
    "        output['NH_true']['ttHTobb_M125_TuneCP5_13TeV-powheg-pythia8'].axis('multiplicity').edges(),\n",
    "    )\n",
    "\n",
    "h2 = Hist1D.from_bincounts(\n",
    "        output['NH_weight']['ttHTobb_M125_TuneCP5_13TeV-powheg-pythia8'].sum('dataset').values()[()],\n",
    "        output['NH_weight']['ttHTobb_M125_TuneCP5_13TeV-powheg-pythia8'].axis('multiplicity').edges(),\n",
    "    )\n",
    "h1.plot()\n",
    "h2.plot()\n",
    "\n",
    "ax.set_yscale('log')"
   ]
  },
  {
   "cell_type": "markdown",
   "id": "4f0abd92",
   "metadata": {},
   "source": [
    "### Compare prediction of tagged jets in the interesting mass window"
   ]
  },
  {
   "cell_type": "code",
   "execution_count": null,
   "id": "2c47ea0d",
   "metadata": {},
   "outputs": [],
   "source": [
    "output['inclusive']['ttHTobb_M125_TuneCP5_13TeV-powheg-pythia8'].integrate('mass', int_range=slice(100,150)).sum('phi', 'pt', 'eta', 'dataset').values()[()]"
   ]
  },
  {
   "cell_type": "code",
   "execution_count": null,
   "id": "7797ff03",
   "metadata": {},
   "outputs": [],
   "source": [
    "output['tagged']['ttHTobb_M125_TuneCP5_13TeV-powheg-pythia8'].integrate('mass', int_range=slice(100,150)).sum('phi', 'pt', 'eta', 'dataset').values()[()]"
   ]
  },
  {
   "cell_type": "code",
   "execution_count": null,
   "id": "20209dfa",
   "metadata": {},
   "outputs": [],
   "source": [
    "16166.0/14888.0"
   ]
  },
  {
   "cell_type": "code",
   "execution_count": null,
   "id": "d956bb5e",
   "metadata": {},
   "outputs": [],
   "source": [
    "test_eff = ak.Array([[0.1,0.2], [0.15], []])\n",
    "1-ak.prod(1-test_eff, axis=1)"
   ]
  },
  {
   "cell_type": "code",
   "execution_count": null,
   "id": "d9debed8",
   "metadata": {},
   "outputs": [],
   "source": [
    "np.zeros_like(ak.num(test_eff))"
   ]
  },
  {
   "cell_type": "code",
   "execution_count": null,
   "id": "48805665",
   "metadata": {},
   "outputs": [],
   "source": [
    "output['NH_true']['ttHTobb_M125_TuneCP5_13TeV-powheg-pythia8'].values()"
   ]
  },
  {
   "cell_type": "code",
   "execution_count": null,
   "id": "edb411bf",
   "metadata": {},
   "outputs": [],
   "source": [
    "output['NH_weight']['ttHTobb_M125_TuneCP5_13TeV-powheg-pythia8'].values()"
   ]
  },
  {
   "cell_type": "code",
   "execution_count": null,
   "id": "e283540a",
   "metadata": {},
   "outputs": [],
   "source": [
    "54281.68960112/(5.3884000e+04+1.7600000e+02)"
   ]
  },
  {
   "cell_type": "markdown",
   "id": "fd16e3fe",
   "metadata": {},
   "source": [
    "## WIP"
   ]
  },
  {
   "cell_type": "code",
   "execution_count": null,
   "id": "407c26d9",
   "metadata": {},
   "outputs": [],
   "source": [
    "def compute_darkness(r, g, b, a=1.0):\n",
    "    \"\"\"Compute the 'darkness' value from RGBA (darkness = 1 - luminance)\n",
    "       stolen from Nick Amin: https://github.com/aminnj/yahist\n",
    "       Version from Jonathan Guiang: https://gist.github.com/jkguiang/279cb4d2e68e64148afc62274df09f18\n",
    "    \"\"\"\n",
    "    return a * (1.0 - (0.299 * r + 0.587 * g + 0.114 * b))\n",
    "\n",
    "def bin_text(counts, x_edges, y_edges, axes, cbar, errors=None, size=10, fmt=\":0.2e\"):\n",
    "    \"\"\"Write bin population on top of 2D histogram bins,\n",
    "       stolen from Nick Amin: https://github.com/aminnj/yahist\n",
    "       Version from Jonathan Guiang: https://gist.github.com/jkguiang/279cb4d2e68e64148afc62274df09f18\n",
    "    \"\"\"\n",
    "    show_errors = (type(errors) != type(None))\n",
    "    x_centers = x_edges[1:]-(x_edges[1:]-x_edges[:-1])/2\n",
    "    y_centers = y_edges[1:]-(y_edges[1:]-y_edges[:-1])/2\n",
    "    \n",
    "    if show_errors:\n",
    "        label_template = r\"{0\"+fmt+\"}\\n$\\pm{1:0.2f}\\%$\"\n",
    "    else:\n",
    "        errors = np.zeros(counts.shape)\n",
    "        label_template = r\"{0\"+fmt+\"}\"\n",
    "        \n",
    "    xyz = np.c_[        \n",
    "        np.tile(x_centers, len(y_centers)),\n",
    "        np.repeat(y_centers, len(x_centers)),\n",
    "        counts.flatten(),\n",
    "        errors.flatten()\n",
    "    ][counts.flatten() != 0]\n",
    "\n",
    "    r, g, b, a = cbar.mappable.to_rgba(xyz[:, 2]).T\n",
    "    colors = np.zeros((len(xyz), 3))\n",
    "    colors[compute_darkness(r, g, b, a) > 0.45] = 1\n",
    "\n",
    "    for (x, y, count, err), color in zip(xyz, colors):\n",
    "        axes.text(\n",
    "            x,\n",
    "            y,\n",
    "            label_template.format(count, err),\n",
    "            color=color,\n",
    "            ha=\"center\",\n",
    "            va=\"center\",\n",
    "            fontsize=size,\n",
    "            wrap=True,\n",
    "        )\n",
    "\n",
    "    return"
   ]
  },
  {
   "cell_type": "code",
   "execution_count": null,
   "id": "c36174a6",
   "metadata": {},
   "outputs": [],
   "source": [
    "h2.divide(h1).counts"
   ]
  },
  {
   "cell_type": "code",
   "execution_count": null,
   "id": "2b0cff7b",
   "metadata": {},
   "outputs": [],
   "source": [
    "h2.edges[0]"
   ]
  },
  {
   "cell_type": "code",
   "execution_count": null,
   "id": "8a1d3e1a",
   "metadata": {},
   "outputs": [],
   "source": []
  }
 ],
 "metadata": {
  "kernelspec": {
   "display_name": "coffeadev",
   "language": "python",
   "name": "coffeadev"
  },
  "language_info": {
   "codemirror_mode": {
    "name": "ipython",
    "version": 3
   },
   "file_extension": ".py",
   "mimetype": "text/x-python",
   "name": "python",
   "nbconvert_exporter": "python",
   "pygments_lexer": "ipython3",
   "version": "3.9.7"
  }
 },
 "nbformat": 4,
 "nbformat_minor": 5
}
