{
 "cells": [
  {
   "cell_type": "code",
   "execution_count": 1,
   "id": "60b843c3",
   "metadata": {},
   "outputs": [],
   "source": [
    "%load_ext autoreload\n",
    "%autoreload 2"
   ]
  },
  {
   "cell_type": "code",
   "execution_count": 2,
   "id": "9e7a7ccd",
   "metadata": {},
   "outputs": [],
   "source": [
    "import warnings\n",
    "warnings.filterwarnings(\"ignore\")\n",
    "\n",
    "import os\n",
    "\n",
    "import awkward as ak\n",
    "import uproot\n",
    "import numpy as np\n",
    "import glob\n",
    "from coffea.nanoevents import NanoEventsFactory, BaseSchema, NanoAODSchema\n",
    "from coffea import hist, processor\n",
    "# register our candidate behaviors\n",
    "from coffea.nanoevents.methods import candidate\n",
    "ak.behavior.update(candidate.behavior)\n",
    "\n",
    "from functools import partial\n",
    "\n",
    "from tools.helpers import get_four_vec_fromPtEtaPhiM, match\n",
    "\n",
    "from yahist import Hist1D, Hist2D\n",
    "\n",
    "import json\n",
    "\n",
    "%matplotlib inline\n",
    "import matplotlib\n",
    "import matplotlib.pyplot as plt\n",
    "\n",
    "import mplhep as hep\n",
    "\n",
    "plt.style.use(hep.style.CMS)  # or ATLAS/LHCb"
   ]
  },
  {
   "cell_type": "code",
   "execution_count": 3,
   "id": "bbe5254c",
   "metadata": {},
   "outputs": [],
   "source": [
    "from tools.helpers import dasWrapper\n",
    "from analysis.tagger import desired_output\n",
    "\n",
    "redirector_ucsd = 'root://xcache-redirector.t2.ucsd.edu:2042/'\n",
    "\n",
    "# maybe we'll need the number of events for weighting, but not at the moment\n",
    "def get_nevents(name):\n",
    "    res = dasWrapper(name, query='summary')\n",
    "    return json.loads(res[0])[0]['nevents']\n"
   ]
  },
  {
   "cell_type": "code",
   "execution_count": 4,
   "id": "8c7d5245",
   "metadata": {},
   "outputs": [],
   "source": [
    "samples_signal = [\n",
    "    '/ttHTobb_M125_TuneCP5_13TeV-powheg-pythia8/RunIISummer20UL18NanoAODv9-106X_upgrade2018_realistic_v16_L1v1-v2/NANOAODSIM',\n",
    "]\n",
    "\n",
    "Z_samples = [\n",
    "    '/ZJetsToNuNu_HT-100To200_TuneCP5_13TeV-madgraphMLM-pythia8/RunIISummer20UL18NanoAODv9-106X_upgrade2018_realistic_v16_L1v1-v1/NANOAODSIM',\n",
    "    '/ZJetsToNuNu_HT-200To400_TuneCP5_13TeV-madgraphMLM-pythia8/RunIISummer20UL18NanoAODv9-106X_upgrade2018_realistic_v16_L1v1-v1/NANOAODSIM',\n",
    "    '/ZJetsToNuNu_HT-400To600_TuneCP5_13TeV-madgraphMLM-pythia8/RunIISummer20UL18NanoAODv9-106X_upgrade2018_realistic_v16_L1v1-v1/NANOAODSIM',\n",
    "    '/ZJetsToNuNu_HT-600To800_TuneCP5_13TeV-madgraphMLM-pythia8/RunIISummer20UL18NanoAODv9-106X_upgrade2018_realistic_v16_L1v1-v1/NANOAODSIM',\n",
    "    '/ZJetsToNuNu_HT-800To1200_TuneCP5_13TeV-madgraphMLM-pythia8/RunIISummer20UL18NanoAODv9-106X_upgrade2018_realistic_v16_L1v1-v1/NANOAODSIM',\n",
    "    '/ZJetsToNuNu_HT-1200To2500_TuneCP5_13TeV-madgraphMLM-pythia8/RunIISummer20UL18NanoAODv9-106X_upgrade2018_realistic_v16_L1v1-v1/NANOAODSIM',\n",
    "    '/ZJetsToNuNu_HT-2500ToInf_TuneCP5_13TeV-madgraphMLM-pythia8/RunIISummer20UL18NanoAODv9-106X_upgrade2018_realistic_v16_L1v1-v1/NANOAODSIM',\n",
    "]\n",
    "\n",
    "tt_samples = [\n",
    "    '/TTToSemiLeptonic_TuneCP5_13TeV-powheg-pythia8/RunIISummer20UL18NanoAODv9-106X_upgrade2018_realistic_v16_L1v1-v1/NANOAODSIM',\n",
    "    #'/TTTo2L2Nu_TuneCP5_13TeV-powheg-pythia8/RunIISummer20UL18NanoAODv9-106X_upgrade2018_realistic_v16_L1v1-v1/NANOAODSIM',\n",
    "    '/TT_Mtt-1000toInf_TuneCP5_13TeV-powheg-pythia8/RunIISummer20UL18NanoAODv9-106X_upgrade2018_realistic_v16_L1v1-v1/NANOAODSIM',\n",
    "    '/ST_tW_top_5f_inclusiveDecays_TuneCP5_13TeV-powheg-pythia8/RunIISummer20UL18NanoAODv9-106X_upgrade2018_realistic_v16_L1v1-v2/NANOAODSIM',\n",
    "    '/ST_tW_antitop_5f_inclusiveDecays_TuneCP5_13TeV-powheg-pythia8/RunIISummer20UL18NanoAODv9-106X_upgrade2018_realistic_v16_L1v1-v2/NANOAODSIM',\n",
    "    '/ST_t-channel_top_4f_InclusiveDecays_TuneCP5_13TeV-powheg-madspin-pythia8/RunIISummer20UL18NanoAODv9-20UL18JMENano_106X_upgrade2018_realistic_v16_L1v1-v1/NANOAODSIM',\n",
    "    '/ST_t-channel_antitop_4f_InclusiveDecays_TuneCP5_13TeV-powheg-madspin-pythia8/RunIISummer20UL18NanoAODv9-20UL18JMENano_106X_upgrade2018_realistic_v16_L1v1-v1/NANOAODSIM',\n",
    "]\n",
    "\n",
    "QCD_samples = [\n",
    "    '/QCD_bEnriched_HT100to200_TuneCP5_13TeV-madgraph-pythia8/RunIISummer20UL18NanoAODv9-106X_upgrade2018_realistic_v16_L1v1-v1/NANOAODSIM',\n",
    "    '/QCD_bEnriched_HT200to300_TuneCP5_13TeV-madgraph-pythia8/RunIISummer20UL18NanoAODv9-106X_upgrade2018_realistic_v16_L1v1-v1/NANOAODSIM',\n",
    "    '/QCD_bEnriched_HT300to500_TuneCP5_13TeV-madgraph-pythia8/RunIISummer20UL18NanoAODv9-106X_upgrade2018_realistic_v16_L1v1-v1/NANOAODSIM',\n",
    "    '/QCD_bEnriched_HT500to700_TuneCP5_13TeV-madgraph-pythia8/RunIISummer20UL18NanoAODv9-106X_upgrade2018_realistic_v16_L1v1-v1/NANOAODSIM',\n",
    "    '/QCD_bEnriched_HT700to1000_TuneCP5_13TeV-madgraph-pythia8/RunIISummer20UL18NanoAODv9-106X_upgrade2018_realistic_v16_L1v1-v1/NANOAODSIM',\n",
    "    '/QCD_bEnriched_HT1000to1500_TuneCP5_13TeV-madgraph-pythia8/RunIISummer20UL18NanoAODv9-106X_upgrade2018_realistic_v16_L1v1-v1/NANOAODSIM',\n",
    "    '/QCD_bEnriched_HT1500to2000_TuneCP5_13TeV-madgraph-pythia8/RunIISummer20UL18NanoAODv9-106X_upgrade2018_realistic_v16_L1v1-v1/NANOAODSIM',\n",
    "    '/QCD_bEnriched_HT2000toInf_TuneCP5_13TeV-madgraph-pythia8/RunIISummer20UL18NanoAODv9-106X_upgrade2018_realistic_v16_L1v1-v1/NANOAODSIM',\n",
    "]\n",
    "\n",
    "W_samples = [\n",
    "    #'/W0JetsToLNu_TuneCP5_13TeV-madgraphMLM-pythia8/RunIISummer20UL18NanoAODv9-106X_upgrade2018_realistic_v16_L1v1-v1/NANOAODSIM'\n",
    "    #'/W1JetsToLNu_TuneCP5_13TeV-madgraphMLM-pythia8/RunIISummer20UL18NanoAODv9-106X_upgrade2018_realistic_v16_L1v1-v1/NANOAODSIM',\n",
    "    #'/W2JetsToLNu_TuneCP5_13TeV-madgraphMLM-pythia8/RunIISummer20UL18NanoAODv9-106X_upgrade2018_realistic_v16_L1v1-v1/NANOAODSIM',\n",
    "    #'/W3JetsToLNu_TuneCP5_13TeV-madgraphMLM-pythia8/RunIISummer20UL18NanoAODv9-106X_upgrade2018_realistic_v16_L1v1-v1/NANOAODSIM',\n",
    "    #'/W4JetsToLNu_TuneCP5_13TeV-madgraphMLM-pythia8/RunIISummer20UL18NanoAODv9-106X_upgrade2018_realistic_v16_L1v1-v2/NANOAODSIM',\n",
    "    '/WJetsToLNu_TuneCP5_13TeV-madgraphMLM-pythia8/RunIISummer20UL18NanoAODv9-106X_upgrade2018_realistic_v16_L1v1-v1/NANOAODSIM'\n",
    "]\n",
    "\n",
    "rare_samples = [\n",
    "    '',\n",
    "]"
   ]
  },
  {
   "cell_type": "code",
   "execution_count": 5,
   "id": "1c2588d2",
   "metadata": {},
   "outputs": [],
   "source": [
    "fileset_signal = {s.split('/')[1]: [redirector_ucsd+p for p in dasWrapper(s)] for s in samples_signal}\n",
    "fileset_Z = {s.split('/')[1]: [redirector_ucsd+p for p in dasWrapper(s)] for s in Z_samples}\n",
    "fileset_QCD = {s.split('/')[1]: [redirector_ucsd+p for p in dasWrapper(s)] for s in QCD_samples}\n",
    "fileset_W = {s.split('/')[1]: [redirector_ucsd+p for p in dasWrapper(s)] for s in W_samples}\n",
    "fileset_tt = {s.split('/')[1]: [redirector_ucsd+p for p in dasWrapper(s)][:10] for s in tt_samples}"
   ]
  },
  {
   "cell_type": "code",
   "execution_count": 6,
   "id": "1a782cd7",
   "metadata": {},
   "outputs": [],
   "source": [
    "exe_args = {\n",
    "    'workers': 12,\n",
    "    \"schema\": NanoAODSchema,\n",
    "    \"skipbadfiles\": True,\n",
    "}\n",
    "exe = processor.futures_executor\n",
    "\n",
    "fileset = fileset_tt\n",
    "\n"
   ]
  },
  {
   "cell_type": "markdown",
   "id": "b2094d2e",
   "metadata": {},
   "source": [
    "## Get the efficiencies"
   ]
  },
  {
   "cell_type": "code",
   "execution_count": 7,
   "id": "fa2cb34d",
   "metadata": {
    "scrolled": false
   },
   "outputs": [
    {
     "data": {
      "application/vnd.jupyter.widget-view+json": {
       "model_id": "73599841948e4b6999d6fa1f8cfd0987",
       "version_major": 2,
       "version_minor": 0
      },
      "text/plain": [
       "Preprocessing:   0%|          | 0/60 [00:00<?, ?file/s]"
      ]
     },
     "metadata": {},
     "output_type": "display_data"
    },
    {
     "data": {
      "application/vnd.jupyter.widget-view+json": {
       "model_id": "06d7558be74d4ff3a7d324c6aec1887d",
       "version_major": 2,
       "version_minor": 0
      },
      "text/plain": [
       "Processing:   0%|          | 0/82 [00:00<?, ?chunk/s]"
      ]
     },
     "metadata": {},
     "output_type": "display_data"
    }
   ],
   "source": [
    "from analysis.tagger import measure_eff\n",
    "\n",
    "\n",
    "output = processor.run_uproot_job(\n",
    "            fileset,\n",
    "            \"Events\",\n",
    "            measure_eff(accumulator=desired_output),\n",
    "            exe,\n",
    "            exe_args,\n",
    "            chunksize=500000,\n",
    "        )"
   ]
  },
  {
   "cell_type": "code",
   "execution_count": 8,
   "id": "ee8e9c5e",
   "metadata": {},
   "outputs": [],
   "source": [
    "def get_efficiency(region, process, mass_range=slice(100,150)):\n",
    "\n",
    "    pt_bins  = hist.Bin('pt', r'$p_{T} \\ (GeV)$', [200, 300, 400, 600, 800])\n",
    "    eta_bins = hist.Bin('eta', r'$\\eta$', 3, 0, 2.4)\n",
    "\n",
    "    inclusive = output[region][process].rebin('pt', pt_bins).rebin('eta', eta_bins)\n",
    "    tagged = output[region+'_tagged'][process].rebin('pt', pt_bins).rebin('eta', eta_bins)\n",
    "\n",
    "    h1 = Hist2D.from_bincounts(\n",
    "        inclusive.integrate('mass', int_range=mass_range).sum('phi', 'dataset').values()[()].T,\n",
    "        (\n",
    "            inclusive.axis('pt').edges(),\n",
    "            inclusive.axis('eta').edges(),\n",
    "        )\n",
    "    )\n",
    "    \n",
    "    h2 = Hist2D.from_bincounts(\n",
    "        tagged.integrate('mass', int_range=mass_range).sum('phi', 'dataset').values()[()].T,\n",
    "        (\n",
    "            tagged.axis('pt').edges(),\n",
    "            tagged.axis('eta').edges(),\n",
    "        )\n",
    "    )\n",
    "    \n",
    "\n",
    "    return h2.divide(h1)"
   ]
  },
  {
   "cell_type": "code",
   "execution_count": 9,
   "id": "79d11f59",
   "metadata": {},
   "outputs": [
    {
     "data": {
      "text/plain": [
       "{('ST_t-channel_antitop_4f_InclusiveDecays_TuneCP5_13TeV-powheg-madspin-pythia8',): 82.0,\n",
       " ('ST_t-channel_top_4f_InclusiveDecays_TuneCP5_13TeV-powheg-madspin-pythia8',): 156.0,\n",
       " ('ST_tW_antitop_5f_inclusiveDecays_TuneCP5_13TeV-powheg-pythia8',): 554.0,\n",
       " ('ST_tW_top_5f_inclusiveDecays_TuneCP5_13TeV-powheg-pythia8',): 288.0,\n",
       " ('TT_Mtt-1000toInf_TuneCP5_13TeV-powheg-pythia8',): 40075.0,\n",
       " ('TTToSemiLeptonic_TuneCP5_13TeV-powheg-pythia8',): 6555.0}"
      ]
     },
     "execution_count": 9,
     "metadata": {},
     "output_type": "execute_result"
    }
   ],
   "source": [
    "# check that stuff actually ran\n",
    "\n",
    "output['1b'].sum('phi', 'mass').integrate('eta', slice(0,1)).integrate('pt', slice(500,1000)).values()"
   ]
  },
  {
   "cell_type": "code",
   "execution_count": 10,
   "id": "8d5a9ca1",
   "metadata": {},
   "outputs": [
    {
     "data": {
      "text/plain": [
       "{('ST_t-channel_antitop_4f_InclusiveDecays_TuneCP5_13TeV-powheg-madspin-pythia8',): 0.0,\n",
       " ('ST_t-channel_top_4f_InclusiveDecays_TuneCP5_13TeV-powheg-madspin-pythia8',): 0.0,\n",
       " ('ST_tW_antitop_5f_inclusiveDecays_TuneCP5_13TeV-powheg-pythia8',): 0.0,\n",
       " ('ST_tW_top_5f_inclusiveDecays_TuneCP5_13TeV-powheg-pythia8',): 0.0,\n",
       " ('TT_Mtt-1000toInf_TuneCP5_13TeV-powheg-pythia8',): 0.0,\n",
       " ('TTToSemiLeptonic_TuneCP5_13TeV-powheg-pythia8',): 0.0}"
      ]
     },
     "execution_count": 10,
     "metadata": {},
     "output_type": "execute_result"
    }
   ],
   "source": [
    "output['1h_tagged'].sum('phi', 'mass').integrate('eta', slice(0,1)).integrate('pt', slice(500,1000)).values()"
   ]
  },
  {
   "cell_type": "code",
   "execution_count": 79,
   "id": "d08dfc79",
   "metadata": {},
   "outputs": [
    {
     "data": {
      "text/plain": [
       "0.6491803278688525"
      ]
     },
     "execution_count": 79,
     "metadata": {},
     "output_type": "execute_result"
    }
   ],
   "source": [
    "6534.0/10065.0"
   ]
  },
  {
   "cell_type": "code",
   "execution_count": 12,
   "id": "87eb76e9",
   "metadata": {
    "scrolled": false
   },
   "outputs": [
    {
     "name": "stdout",
     "output_type": "stream",
     "text": [
      "TTToSemiLeptonic_TuneCP5_13TeV-powheg-pythia8\n",
      "TT_Mtt-1000toInf_TuneCP5_13TeV-powheg-pythia8\n",
      "ST_tW_top_5f_inclusiveDecays_TuneCP5_13TeV-powheg-pythia8\n",
      "ST_tW_antitop_5f_inclusiveDecays_TuneCP5_13TeV-powheg-pythia8\n",
      "ST_t-channel_top_4f_InclusiveDecays_TuneCP5_13TeV-powheg-madspin-pythia8\n",
      "ST_t-channel_antitop_4f_InclusiveDecays_TuneCP5_13TeV-powheg-madspin-pythia8\n"
     ]
    },
    {
     "data": {
      "text/plain": [
       "(<matplotlib.image.PcolorImage at 0x7f942839d9a0>, <AxesSubplot:>)"
      ]
     },
     "execution_count": 12,
     "metadata": {},
     "output_type": "execute_result"
    },
    {
     "data": {
      "image/png": "[encoded data removed]",
      "text/plain": [
       "<Figure size 504x504 with 2 Axes>"
      ]
     },
     "metadata": {
      "needs_background": "light"
     },
     "output_type": "display_data"
    }
   ],
   "source": [
    "for s in fileset.keys():\n",
    "    print (s)\n",
    "    for b in ['0b', '1b', '2b', '1h']:\n",
    "        #print (b)\n",
    "        h = get_efficiency(b, s, mass_range=slice(0,500))\n",
    "        #h.plot()\n",
    "\n",
    "        h.to_json(os.path.expandvars(\"../data/htag/eff_%s_%s.json\"%(s,b)))\n",
    "        \n",
    "        #del h\n",
    "    \n",
    "h = get_efficiency(\n",
    "    '2b',\n",
    "    'ST_tW_antitop_5f_inclusiveDecays_TuneCP5_13TeV-powheg-pythia8',\n",
    "    mass_range=slice(0,500),\n",
    ")\n",
    "fig, ax = plt.subplots(1,1,figsize=(7,7))\n",
    "h.plot()"
   ]
  },
  {
   "cell_type": "code",
   "execution_count": 17,
   "id": "d395f5ba",
   "metadata": {},
   "outputs": [
    {
     "data": {
      "text/plain": [
       "(<matplotlib.image.PcolorImage at 0x7f92503ccc70>, <AxesSubplot:>)"
      ]
     },
     "execution_count": 17,
     "metadata": {},
     "output_type": "execute_result"
    },
    {
     "data": {
      "image/png": "[encoded data removed]",
      "text/plain": [
       "<Figure size 504x504 with 2 Axes>"
      ]
     },
     "metadata": {
      "needs_background": "light"
     },
     "output_type": "display_data"
    }
   ],
   "source": [
    "h = get_efficiency(\n",
    "    '2b',\n",
    "    'TTToSemiLeptonic_TuneCP5_13TeV-powheg-pythia8',\n",
    "    mass_range=slice(0,500),\n",
    ")\n",
    "fig, ax = plt.subplots(1,1,figsize=(7,7))\n",
    "h.plot()"
   ]
  },
  {
   "cell_type": "markdown",
   "id": "400733a7",
   "metadata": {},
   "source": [
    "## Apply the efficiency"
   ]
  },
  {
   "cell_type": "code",
   "execution_count": 93,
   "id": "3ecf9bbf",
   "metadata": {
    "scrolled": true
   },
   "outputs": [
    {
     "name": "stdout",
     "output_type": "stream",
     "text": [
      "ZJetsToNuNu_HT-100To200_TuneCP5_13TeV-madgraphMLM-pythia8\n",
      "ZJetsToNuNu_HT-200To400_TuneCP5_13TeV-madgraphMLM-pythia8\n",
      "ZJetsToNuNu_HT-400To600_TuneCP5_13TeV-madgraphMLM-pythia8\n",
      "ZJetsToNuNu_HT-600To800_TuneCP5_13TeV-madgraphMLM-pythia8\n",
      "ZJetsToNuNu_HT-800To1200_TuneCP5_13TeV-madgraphMLM-pythia8\n",
      "ZJetsToNuNu_HT-1200To2500_TuneCP5_13TeV-madgraphMLM-pythia8\n",
      "ZJetsToNuNu_HT-2500ToInf_TuneCP5_13TeV-madgraphMLM-pythia8\n",
      "ttHTobb_M125_TuneCP5_13TeV-powheg-pythia8\n"
     ]
    }
   ],
   "source": [
    "effs = {}\n",
    "for s in fileset_Z.keys():\n",
    "    effs[s] = {}\n",
    "    print (s)\n",
    "    for b in ['0b', '1b', '2b', '1h']:\n",
    "        #print (b)\n",
    "        #h = get_efficiency(b, s, mass_range=slice(0,500))\n",
    "        #h.plot()\n",
    "        effs[s][b] = Hist2D.from_json(os.path.expandvars(\"../data/htag/eff_%s_%s.json\"%(s,b)))\n",
    "        #effs[s][b] = effs[s][b]*0.95\n",
    "        \n",
    "for s in fileset.keys():\n",
    "    effs[s] = {}\n",
    "    print (s)\n",
    "    for b in ['0b', '1b', '2b', '1h']:\n",
    "        #print (b)\n",
    "        #h = get_efficiency(b, s, mass_range=slice(0,500))\n",
    "        #h.plot()\n",
    "        effs[s][b] = Hist2D.from_json(os.path.expandvars(\"../data/htag/eff_%s_%s.json\"%(s,b)))\n",
    "        #effs[s][b] = effs[s][b]*0.95"
   ]
  },
  {
   "cell_type": "code",
   "execution_count": 94,
   "id": "734557bb",
   "metadata": {},
   "outputs": [
    {
     "data": {
      "image/png": "[encoded data removed]",
      "text/plain": [
       "<Figure size 720x720 with 2 Axes>"
      ]
     },
     "metadata": {
      "needs_background": "light"
     },
     "output_type": "display_data"
    }
   ],
   "source": [
    "fig, ax = plt.subplots()\n",
    "\n",
    "hep.cms.label(\n",
    "    \"Simulation\",\n",
    "    data=True,\n",
    "    #year=2018,\n",
    "    #lumi=60.0,\n",
    "    loc=0,\n",
    "    ax=ax,\n",
    ")\n",
    "\n",
    "effs['ttHTobb_M125_TuneCP5_13TeV-powheg-pythia8']['1h'].plot()\n",
    "\n",
    "ax.set_xlabel(r'$p_T\\ (AK8\\ jet)\\ (GeV)$')\n",
    "ax.set_ylabel(r'$|\\eta|$')\n",
    "\n",
    "plt.show()\n",
    "\n",
    "fig.savefig('/home/users/dspitzba/public_html/HbbMET/1h_true_eff.png')\n",
    "fig.savefig('/home/users/dspitzba/public_html/HbbMET/1h_true_eff.pdf')\n"
   ]
  },
  {
   "cell_type": "code",
   "execution_count": 42,
   "id": "8504715b",
   "metadata": {},
   "outputs": [
    {
     "data": {
      "text/html": [
       "\n",
       "        <div style=\"max-height:1000px;max-width:1500px;overflow:auto\">\n",
       "        <b>total count</b>: 1.5505662378645102, <b>metadata</b>: {}<br>\n",
       "        <div style=\"display:flex;\">\n",
       "            <img src='data:image/svg+xml;base64,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'/>\n",
       "        </div>\n",
       "        "
      ],
      "text/plain": [
       "[[ 0.27 ± 0.01    0.18 ± 0.01    0.16 ± 0.01    0.18 ± 0.02]\n",
       " [ 0.20 ± 0.01    0.12 ± 0.01    0.11 ± 0.01    0.10 ± 0.02]\n",
       " [ 0.09 ± 0.01    0.07 ± 0.01    0.05 ± 0.01    0.02 ± 0.02]]"
      ]
     },
     "execution_count": 42,
     "metadata": {},
     "output_type": "execute_result"
    }
   ],
   "source": [
    "effs['ZJetsToNuNu_HT-600To800_TuneCP5_13TeV-madgraphMLM-pythia8']['1b']*1.05"
   ]
  },
  {
   "cell_type": "code",
   "execution_count": 43,
   "id": "fb026899",
   "metadata": {},
   "outputs": [
    {
     "data": {
      "text/plain": [
       "array([[0.26036866, 0.17354754, 0.1568438 , 0.17021277],\n",
       "       [0.19107622, 0.11665128, 0.10434057, 0.09259259],\n",
       "       [0.08163265, 0.06629834, 0.04867257, 0.01449275]])"
      ]
     },
     "execution_count": 43,
     "metadata": {},
     "output_type": "execute_result"
    }
   ],
   "source": [
    "effs['ZJetsToNuNu_HT-600To800_TuneCP5_13TeV-madgraphMLM-pythia8']['1b'].counts"
   ]
  },
  {
   "cell_type": "code",
   "execution_count": 44,
   "id": "bee00a14",
   "metadata": {},
   "outputs": [
    {
     "data": {
      "text/plain": [
       "True"
      ]
     },
     "execution_count": 44,
     "metadata": {},
     "output_type": "execute_result"
    }
   ],
   "source": [
    "np.isnan(sum(sum(effs['ZJetsToNuNu_HT-600To800_TuneCP5_13TeV-madgraphMLM-pythia8']['1h'].counts)))"
   ]
  },
  {
   "cell_type": "code",
   "execution_count": 45,
   "id": "5cad2408",
   "metadata": {},
   "outputs": [
    {
     "data": {
      "text/plain": [
       "<Array [[0.00195]] type='1 * var * float64'>"
      ]
     },
     "execution_count": 45,
     "metadata": {},
     "output_type": "execute_result"
    }
   ],
   "source": [
    "from tools.helpers import yahist_2D_lookup\n",
    "yahist_2D_lookup(\n",
    "    effs['ZJetsToNuNu_HT-600To800_TuneCP5_13TeV-madgraphMLM-pythia8']['0b'],\n",
    "    ak.Array([[700]]),\n",
    "    ak.Array([[2.]]),\n",
    ")"
   ]
  },
  {
   "cell_type": "code",
   "execution_count": 97,
   "id": "d0f387bc",
   "metadata": {
    "scrolled": false
   },
   "outputs": [
    {
     "data": {
      "application/vnd.jupyter.widget-view+json": {
       "model_id": "d7858883a15f41038bfd3b631aa01063",
       "version_major": 2,
       "version_minor": 0
      },
      "text/plain": [
       "Processing:   0%|          | 0/218 [00:00<?, ?chunk/s]"
      ]
     },
     "metadata": {},
     "output_type": "display_data"
    }
   ],
   "source": [
    "from analysis.tagger import apply_eff, desired_output\n",
    "\n",
    "exe_args = {\n",
    "    'workers': 12,\n",
    "    \"schema\": NanoAODSchema,\n",
    "    \"skipbadfiles\": True,\n",
    "}\n",
    "\n",
    "output = processor.run_uproot_job(\n",
    "            fileset_Z,\n",
    "            \"Events\",\n",
    "            apply_eff(\n",
    "                accumulator=desired_output,\n",
    "                effs = effs,\n",
    "            ),\n",
    "            exe,\n",
    "            exe_args,\n",
    "            chunksize=500000,\n",
    "        )"
   ]
  },
  {
   "cell_type": "markdown",
   "id": "d18c9361",
   "metadata": {},
   "source": [
    "### Closure and sanity checks\n",
    "\n",
    "Make sure that the method closes in pt, and gives reasonable agreement in the mass distribution.\n"
   ]
  },
  {
   "cell_type": "code",
   "execution_count": 98,
   "id": "e631ddc1",
   "metadata": {},
   "outputs": [
    {
     "data": {
      "text/plain": [
       "{('ZJetsToNuNu_HT-1200To2500_TuneCP5_13TeV-madgraphMLM-pythia8',): 2261.29967650816,\n",
       " ('ZJetsToNuNu_HT-2500ToInf_TuneCP5_13TeV-madgraphMLM-pythia8',): 843.6441674018162,\n",
       " ('ZJetsToNuNu_HT-800To1200_TuneCP5_13TeV-madgraphMLM-pythia8',): 8717.163300381211,\n",
       " ('ZJetsToNuNu_HT-600To800_TuneCP5_13TeV-madgraphMLM-pythia8',): 14786.910422661294,\n",
       " ('ZJetsToNuNu_HT-400To600_TuneCP5_13TeV-madgraphMLM-pythia8',): 27094.156602625975,\n",
       " ('ZJetsToNuNu_HT-200To400_TuneCP5_13TeV-madgraphMLM-pythia8',): 12060.999999999998,\n",
       " ('ZJetsToNuNu_HT-100To200_TuneCP5_13TeV-madgraphMLM-pythia8',): 330.0}"
      ]
     },
     "execution_count": 98,
     "metadata": {},
     "output_type": "execute_result"
    }
   ],
   "source": [
    "# if inclusive number below is nan we have a bug in applying the efficiencies.\n",
    "output['inclusive'].sum('pt', 'eta', 'phi', 'mass').values()"
   ]
  },
  {
   "cell_type": "code",
   "execution_count": 99,
   "id": "9c672597",
   "metadata": {},
   "outputs": [
    {
     "data": {
      "text/plain": [
       "{('ZJetsToNuNu_HT-1200To2500_TuneCP5_13TeV-madgraphMLM-pythia8',): 2360.0,\n",
       " ('ZJetsToNuNu_HT-2500ToInf_TuneCP5_13TeV-madgraphMLM-pythia8',): 929.0,\n",
       " ('ZJetsToNuNu_HT-800To1200_TuneCP5_13TeV-madgraphMLM-pythia8',): 8828.0,\n",
       " ('ZJetsToNuNu_HT-600To800_TuneCP5_13TeV-madgraphMLM-pythia8',): 14795.0,\n",
       " ('ZJetsToNuNu_HT-400To600_TuneCP5_13TeV-madgraphMLM-pythia8',): 27094.0,\n",
       " ('ZJetsToNuNu_HT-200To400_TuneCP5_13TeV-madgraphMLM-pythia8',): 12061.0,\n",
       " ('ZJetsToNuNu_HT-100To200_TuneCP5_13TeV-madgraphMLM-pythia8',): 331.0}"
      ]
     },
     "execution_count": 99,
     "metadata": {},
     "output_type": "execute_result"
    }
   ],
   "source": [
    "# inclusive and tagged numbers should agree within percent level\n",
    "output['tagged'].sum('pt', 'eta', 'phi', 'mass').values()"
   ]
  },
  {
   "cell_type": "code",
   "execution_count": 110,
   "id": "31b3bd06",
   "metadata": {},
   "outputs": [
    {
     "data": {
      "text/plain": [
       "{(): (array([0.000e+00, 0.000e+00, 0.000e+00, 0.000e+00, 0.000e+00, 0.000e+00,\n",
       "         0.000e+00, 0.000e+00, 0.000e+00, 0.000e+00, 1.539e+03, 1.257e+03,\n",
       "         1.081e+03, 1.016e+03, 8.070e+02, 7.090e+02, 6.630e+02, 6.800e+02,\n",
       "         6.940e+02, 7.590e+02, 7.310e+02, 7.420e+02, 6.430e+02, 6.130e+02,\n",
       "         4.960e+02, 4.330e+02, 3.150e+02, 2.950e+02, 2.610e+02, 2.190e+02,\n",
       "         1.960e+02, 1.630e+02, 1.420e+02, 9.300e+01, 6.300e+01, 6.100e+01,\n",
       "         4.700e+01, 3.000e+01, 1.800e+01, 7.000e+00, 1.500e+01, 6.000e+00,\n",
       "         1.000e+00, 0.000e+00, 0.000e+00, 0.000e+00, 0.000e+00, 0.000e+00,\n",
       "         0.000e+00, 0.000e+00]),\n",
       "  array([0.000e+00, 0.000e+00, 0.000e+00, 0.000e+00, 0.000e+00, 0.000e+00,\n",
       "         0.000e+00, 0.000e+00, 0.000e+00, 0.000e+00, 1.539e+03, 1.257e+03,\n",
       "         1.081e+03, 1.016e+03, 8.070e+02, 7.090e+02, 6.630e+02, 6.800e+02,\n",
       "         6.940e+02, 7.590e+02, 7.310e+02, 7.420e+02, 6.430e+02, 6.130e+02,\n",
       "         4.960e+02, 4.330e+02, 3.150e+02, 2.950e+02, 2.610e+02, 2.190e+02,\n",
       "         1.960e+02, 1.630e+02, 1.420e+02, 9.300e+01, 6.300e+01, 6.100e+01,\n",
       "         4.700e+01, 3.000e+01, 1.800e+01, 7.000e+00, 1.500e+01, 6.000e+00,\n",
       "         1.000e+00, 0.000e+00, 0.000e+00, 0.000e+00, 0.000e+00, 0.000e+00,\n",
       "         0.000e+00, 0.000e+00]))}"
      ]
     },
     "execution_count": 110,
     "metadata": {},
     "output_type": "execute_result"
    }
   ],
   "source": [
    "output['tagged'][sname].sum('phi', 'mass', 'eta', 'dataset').values(sumw2=True)"
   ]
  },
  {
   "cell_type": "code",
   "execution_count": 111,
   "id": "c7e67ef8",
   "metadata": {},
   "outputs": [
    {
     "data": {
      "image/png": "[encoded data removed]",
      "text/plain": [
       "<Figure size 504x504 with 1 Axes>"
      ]
     },
     "metadata": {
      "needs_background": "light"
     },
     "output_type": "display_data"
    }
   ],
   "source": [
    "fig, ax = plt.subplots(1,1,figsize=(7,7))\n",
    "\n",
    "hep.cms.label(\n",
    "    \"Simulation\",\n",
    "    data=True,\n",
    "    #year=2018,\n",
    "    #lumi=60.0,\n",
    "    loc=0,\n",
    "    ax=ax,\n",
    ")\n",
    "\n",
    "sname = 'ZJetsToNuNu_HT-600To800_TuneCP5_13TeV-madgraphMLM-pythia8'\n",
    "\n",
    "vals_tagged = output['tagged'][sname].sum('phi', 'mass', 'eta', 'dataset').values()[()]\n",
    "vals_inclusive = output['inclusive'][sname].sum('phi', 'mass', 'eta', 'dataset').values()[()]\n",
    "\n",
    "hep.histplot(\n",
    "    [ vals_tagged, vals_inclusive ],\n",
    "    output['inclusive'][sname].axis('pt').edges(),\n",
    "    w2=[ vals_tagged, vals_inclusive ],\n",
    "    histtype=\"step\",\n",
    "    stack=False,\n",
    "    label=['tagged', 'reweighted'],\n",
    "    #color=[ my_histos[x].color for x in keys ],\n",
    "    ax=ax)\n",
    "\n",
    "ax.legend()\n",
    "\n",
    "ax.set_xlabel(r'$p_T\\ (AK8\\ jet)\\ (GeV)$')\n",
    "ax.set_ylabel(r'Events')\n",
    "\n",
    "plt.show()\n",
    "\n",
    "fig.savefig('/home/users/dspitzba/public_html/HbbMET/tagging/application_pt.png')\n",
    "fig.savefig('/home/users/dspitzba/public_html/HbbMET/tagging/application_pt.pdf')\n",
    "\n"
   ]
  },
  {
   "cell_type": "code",
   "execution_count": 114,
   "id": "7c9282f0",
   "metadata": {},
   "outputs": [
    {
     "data": {
      "image/png": "[encoded data removed]",
      "text/plain": [
       "<Figure size 504x504 with 1 Axes>"
      ]
     },
     "metadata": {
      "needs_background": "light"
     },
     "output_type": "display_data"
    }
   ],
   "source": [
    "fig, ax = plt.subplots(1,1,figsize=(7,7))\n",
    "\n",
    "hep.cms.label(\n",
    "    \"Simulation\",\n",
    "    data=True,\n",
    "    #year=2018,\n",
    "    #lumi=60.0,\n",
    "    loc=0,\n",
    "    ax=ax,\n",
    ")\n",
    "\n",
    "sname = 'ZJetsToNuNu_HT-600To800_TuneCP5_13TeV-madgraphMLM-pythia8'\n",
    "\n",
    "vals_tagged = output['tagged'][sname].sum('phi', 'pt', 'eta', 'dataset').values()[()]\n",
    "vals_inclusive = output['inclusive'][sname].sum('phi', 'pt', 'eta', 'dataset').values()[()]\n",
    "\n",
    "hep.histplot(\n",
    "    [ vals_tagged, vals_inclusive ],\n",
    "    output['inclusive'][sname].axis('mass').edges(),\n",
    "    w2=[ vals_tagged, vals_inclusive ],\n",
    "    histtype=\"step\",\n",
    "    stack=False,\n",
    "    label=['tagged', 'reweighted'],\n",
    "    #color=[ my_histos[x].color for x in keys ],\n",
    "    ax=ax)\n",
    "\n",
    "ax.legend()\n",
    "\n",
    "ax.set_xlabel(r'$M\\ (AK8\\ jet)\\ (GeV)$')\n",
    "ax.set_ylabel(r'Events')\n",
    "\n",
    "ax.set_xlim([0,250])\n",
    "\n",
    "plt.show()\n",
    "\n",
    "fig.savefig('/home/users/dspitzba/public_html/HbbMET/tagging/application_mass.png')\n",
    "fig.savefig('/home/users/dspitzba/public_html/HbbMET/tagging/application_mass.pdf')\n",
    "\n"
   ]
  },
  {
   "cell_type": "code",
   "execution_count": 50,
   "id": "c02d67db",
   "metadata": {},
   "outputs": [
    {
     "data": {
      "text/plain": [
       "<AxesSubplot:>"
      ]
     },
     "execution_count": 50,
     "metadata": {},
     "output_type": "execute_result"
    },
    {
     "data": {
      "image/png": "[encoded data removed]",
      "text/plain": [
       "<Figure size 720x720 with 1 Axes>"
      ]
     },
     "metadata": {
      "needs_background": "light"
     },
     "output_type": "display_data"
    }
   ],
   "source": [
    "h1 = Hist1D.from_bincounts(\n",
    "        output['tagged'][sname].sum('phi', 'pt', 'eta', 'dataset').values()[()],\n",
    "        output['tagged'][sname].axis('mass').edges(),\n",
    "    )\n",
    "\n",
    "h2 = Hist1D.from_bincounts(\n",
    "        output['inclusive'][sname].sum('phi', 'pt', 'eta', 'dataset').values()[()],\n",
    "        output['inclusive'][sname].axis('mass').edges(),\n",
    "    )\n",
    "h1.plot()\n",
    "h2.plot()"
   ]
  },
  {
   "cell_type": "code",
   "execution_count": 51,
   "id": "f5ec9e25",
   "metadata": {},
   "outputs": [
    {
     "data": {
      "image/png": "[encoded data removed]",
      "text/plain": [
       "<Figure size 504x504 with 1 Axes>"
      ]
     },
     "metadata": {
      "needs_background": "light"
     },
     "output_type": "display_data"
    }
   ],
   "source": [
    "fig, ax = plt.subplots(1,1,figsize=(7,7))\n",
    "\n",
    "h1 = Hist1D.from_bincounts(\n",
    "        output['NH_true'][sname].sum('dataset').values()[()],\n",
    "        output['NH_true'][sname].axis('multiplicity').edges(),\n",
    "    )\n",
    "\n",
    "h2 = Hist1D.from_bincounts(\n",
    "        output['NH_weight'][sname].sum('dataset').values()[()],\n",
    "        output['NH_weight'][sname].axis('multiplicity').edges(),\n",
    "    )\n",
    "h1.plot()\n",
    "h2.plot()\n",
    "\n",
    "ax.set_yscale('log')"
   ]
  },
  {
   "cell_type": "markdown",
   "id": "4f0abd92",
   "metadata": {},
   "source": [
    "### Compare prediction of tagged jets in the interesting mass window"
   ]
  },
  {
   "cell_type": "code",
   "execution_count": 52,
   "id": "2c47ea0d",
   "metadata": {},
   "outputs": [
    {
     "data": {
      "text/plain": [
       "1539.101715319699"
      ]
     },
     "execution_count": 52,
     "metadata": {},
     "output_type": "execute_result"
    }
   ],
   "source": [
    "output['inclusive'][sname].integrate('mass', int_range=slice(100,150)).sum('phi', 'pt', 'eta', 'dataset').values()[()]"
   ]
  },
  {
   "cell_type": "code",
   "execution_count": 53,
   "id": "7797ff03",
   "metadata": {},
   "outputs": [
    {
     "data": {
      "text/plain": [
       "1462.0"
      ]
     },
     "execution_count": 53,
     "metadata": {},
     "output_type": "execute_result"
    }
   ],
   "source": [
    "output['tagged'][sname].integrate('mass', int_range=slice(100,150)).sum('phi', 'pt', 'eta', 'dataset').values()[()]"
   ]
  },
  {
   "cell_type": "code",
   "execution_count": 54,
   "id": "20209dfa",
   "metadata": {},
   "outputs": [
    {
     "data": {
      "text/plain": [
       "1.052737151381463"
      ]
     },
     "execution_count": 54,
     "metadata": {},
     "output_type": "execute_result"
    }
   ],
   "source": [
    "1539.101715319699/1462.0"
   ]
  },
  {
   "cell_type": "code",
   "execution_count": null,
   "id": "d956bb5e",
   "metadata": {},
   "outputs": [],
   "source": [
    "test_eff = ak.Array([[0.1,0.2], [0.15], []])\n",
    "1-ak.prod(1-test_eff, axis=1)"
   ]
  },
  {
   "cell_type": "code",
   "execution_count": null,
   "id": "d9debed8",
   "metadata": {},
   "outputs": [],
   "source": [
    "np.zeros_like(ak.num(test_eff))"
   ]
  },
  {
   "cell_type": "code",
   "execution_count": 39,
   "id": "48805665",
   "metadata": {},
   "outputs": [
    {
     "data": {
      "text/plain": [
       "{('ZJetsToNuNu_HT-400To600_TuneCP5_13TeV-madgraphMLM-pythia8',): array([1.348125e+06, 1.727500e+04, 4.100000e+01])}"
      ]
     },
     "execution_count": 39,
     "metadata": {},
     "output_type": "execute_result"
    }
   ],
   "source": [
    "output['NH_true'][sname].values()"
   ]
  },
  {
   "cell_type": "code",
   "execution_count": 40,
   "id": "edb411bf",
   "metadata": {},
   "outputs": [
    {
     "data": {
      "text/plain": [
       "{('ZJetsToNuNu_HT-400To600_TuneCP5_13TeV-madgraphMLM-pythia8',): array([1347971.26474227,   17205.73525705,       0.        ])}"
      ]
     },
     "execution_count": 40,
     "metadata": {},
     "output_type": "execute_result"
    }
   ],
   "source": [
    "output['NH_weight'][sname].values()"
   ]
  },
  {
   "cell_type": "code",
   "execution_count": null,
   "id": "e283540a",
   "metadata": {},
   "outputs": [],
   "source": [
    "54281.68960112/(5.3884000e+04+1.7600000e+02)"
   ]
  },
  {
   "cell_type": "markdown",
   "id": "fd16e3fe",
   "metadata": {},
   "source": [
    "## WIP"
   ]
  },
  {
   "cell_type": "code",
   "execution_count": null,
   "id": "407c26d9",
   "metadata": {},
   "outputs": [],
   "source": [
    "def compute_darkness(r, g, b, a=1.0):\n",
    "    \"\"\"Compute the 'darkness' value from RGBA (darkness = 1 - luminance)\n",
    "       stolen from Nick Amin: https://github.com/aminnj/yahist\n",
    "       Version from Jonathan Guiang: https://gist.github.com/jkguiang/279cb4d2e68e64148afc62274df09f18\n",
    "    \"\"\"\n",
    "    return a * (1.0 - (0.299 * r + 0.587 * g + 0.114 * b))\n",
    "\n",
    "def bin_text(counts, x_edges, y_edges, axes, cbar, errors=None, size=10, fmt=\":0.2e\"):\n",
    "    \"\"\"Write bin population on top of 2D histogram bins,\n",
    "       stolen from Nick Amin: https://github.com/aminnj/yahist\n",
    "       Version from Jonathan Guiang: https://gist.github.com/jkguiang/279cb4d2e68e64148afc62274df09f18\n",
    "    \"\"\"\n",
    "    show_errors = (type(errors) != type(None))\n",
    "    x_centers = x_edges[1:]-(x_edges[1:]-x_edges[:-1])/2\n",
    "    y_centers = y_edges[1:]-(y_edges[1:]-y_edges[:-1])/2\n",
    "    \n",
    "    if show_errors:\n",
    "        label_template = r\"{0\"+fmt+\"}\\n$\\pm{1:0.2f}\\%$\"\n",
    "    else:\n",
    "        errors = np.zeros(counts.shape)\n",
    "        label_template = r\"{0\"+fmt+\"}\"\n",
    "        \n",
    "    xyz = np.c_[        \n",
    "        np.tile(x_centers, len(y_centers)),\n",
    "        np.repeat(y_centers, len(x_centers)),\n",
    "        counts.flatten(),\n",
    "        errors.flatten()\n",
    "    ][counts.flatten() != 0]\n",
    "\n",
    "    r, g, b, a = cbar.mappable.to_rgba(xyz[:, 2]).T\n",
    "    colors = np.zeros((len(xyz), 3))\n",
    "    colors[compute_darkness(r, g, b, a) > 0.45] = 1\n",
    "\n",
    "    for (x, y, count, err), color in zip(xyz, colors):\n",
    "        axes.text(\n",
    "            x,\n",
    "            y,\n",
    "            label_template.format(count, err),\n",
    "            color=color,\n",
    "            ha=\"center\",\n",
    "            va=\"center\",\n",
    "            fontsize=size,\n",
    "            wrap=True,\n",
    "        )\n",
    "\n",
    "    return"
   ]
  },
  {
   "cell_type": "code",
   "execution_count": null,
   "id": "c36174a6",
   "metadata": {},
   "outputs": [],
   "source": [
    "h2.divide(h1).counts"
   ]
  },
  {
   "cell_type": "code",
   "execution_count": null,
   "id": "2b0cff7b",
   "metadata": {},
   "outputs": [],
   "source": [
    "h2.edges[0]"
   ]
  },
  {
   "cell_type": "code",
   "execution_count": null,
   "id": "8a1d3e1a",
   "metadata": {},
   "outputs": [],
   "source": []
  }
 ],
 "metadata": {
  "kernelspec": {
   "display_name": "coffeadev4",
   "language": "python",
   "name": "coffeadev4"
  },
  "language_info": {
   "codemirror_mode": {
    "name": "ipython",
    "version": 3
   },
   "file_extension": ".py",
   "mimetype": "text/x-python",
   "name": "python",
   "nbconvert_exporter": "python",
   "pygments_lexer": "ipython3",
   "version": "3.9.7"
  }
 },
 "nbformat": 4,
 "nbformat_minor": 5
}
