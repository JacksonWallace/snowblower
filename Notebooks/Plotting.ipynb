{
 "cells": [
  {
   "cell_type": "code",
   "execution_count": null,
   "id": "418d9395",
   "metadata": {},
   "outputs": [],
   "source": [
    "import uproot\n",
    "import awkward as ak\n",
    "import numpy as np\n",
    "from coffea.nanoevents import NanoEventsFactory, NanoAODSchema, BaseSchema, DelphesSchema\n",
    "from coffea.analysis_tools import Weights, PackedSelection\n",
    "from coffea import hist, processor\n",
    "from yahist import Hist1D, Hist2D"
   ]
  },
  {
   "cell_type": "code",
   "execution_count": null,
   "id": "f1e04b97",
   "metadata": {},
   "outputs": [],
   "source": [
    "from tools.helpers import *\n",
    "from tools.basic_objects import getJets, getFatjets"
   ]
  },
  {
   "cell_type": "code",
   "execution_count": null,
   "id": "c87feed4",
   "metadata": {},
   "outputs": [],
   "source": [
    "from tools.jes import JES"
   ]
  },
  {
   "cell_type": "code",
   "execution_count": null,
   "id": "e1a723d3",
   "metadata": {},
   "outputs": [],
   "source": [
    "jes_corrector = JES(verbose=False)"
   ]
  },
  {
   "cell_type": "code",
   "execution_count": null,
   "id": "296cd07c",
   "metadata": {
    "scrolled": true
   },
   "outputs": [],
   "source": [
    "events_150 = NanoEventsFactory.from_root(\n",
    "        '/nfs-7/userdata/ewallace/Hbb_MET/2HDMA_bb-gg_YY_XX_10_v4/2HDMa_gg_1500_150_10_delphes_ntuple.root:myana',\n",
    "        treepath='mytree',\n",
    "        schemaclass = BaseSchema,\n",
    "        #entry_stop = n_max,\n",
    "    ).events()\n",
    "\n",
    "events_250 = NanoEventsFactory.from_root(\n",
    "        '/nfs-7/userdata/ewallace/Hbb_MET/2HDMA_bb-gg_YY_XX_10_v4/2HDMa_gg_1500_250_10_delphes_ntuple.root',\n",
    "        treepath='myana/mytree',\n",
    "        schemaclass = BaseSchema,\n",
    "        #entry_stop = n_max,\n",
    "    ).events()\n",
    "\n",
    "events_350 = NanoEventsFactory.from_root(\n",
    "        '/nfs-7/userdata/ewallace/Hbb_MET/2HDMA_bb-gg_YY_XX_10_v4/2HDMa_gg_1500_350_10_delphes_ntuple.root',\n",
    "        treepath='myana/mytree',\n",
    "        schemaclass = BaseSchema,\n",
    "        #entry_stop = n_max,\n",
    "    ).events()\n",
    "\n",
    "events_500 = NanoEventsFactory.from_root(\n",
    "        '/nfs-7/userdata/ewallace/Hbb_MET/2HDMA_bb-gg_YY_XX_10_v4/2HDMa_gg_1500_500_10_delphes_ntuple.root',\n",
    "        treepath='myana/mytree',\n",
    "        schemaclass = BaseSchema,\n",
    "        #entry_stop = n_max,\n",
    "    ).events()   \n",
    "\n",
    "events_750 = NanoEventsFactory.from_root(\n",
    "        '/nfs-7/userdata/ewallace/Hbb_MET/2HDMA_bb-gg_YY_XX_10_v4/2HDMa_gg_1500_750_10_delphes_ntuple.root',\n",
    "        treepath='myana/mytree',\n",
    "        schemaclass = BaseSchema,\n",
    "        #entry_stop = n_max,\n",
    "    ).events()"
   ]
  },
  {
   "cell_type": "code",
   "execution_count": null,
   "id": "8387d419",
   "metadata": {},
   "outputs": [],
   "source": [
    "events_250 = NanoEventsFactory.from_root(\n",
    "        '/nfs-7/userdata/ewallace/Hbb_MET/2HDMA_bb-gg_YY_XX_10_v4/2HDMa_gg_2250_250_10_delphes_ntuple.root:myana',\n",
    "        treepath='mytree',\n",
    "        schemaclass = BaseSchema,\n",
    "        #entry_stop = n_max,\n",
    "    ).events()"
   ]
  },
  {
   "cell_type": "code",
   "execution_count": null,
   "id": "1e46155b",
   "metadata": {},
   "outputs": [],
   "source": [
    "len(events_250)"
   ]
  },
  {
   "cell_type": "code",
   "execution_count": null,
   "id": "8177301d",
   "metadata": {},
   "outputs": [],
   "source": [
    "events_250.lheweight_size"
   ]
  },
  {
   "cell_type": "code",
   "execution_count": null,
   "id": "ea03b96d",
   "metadata": {},
   "outputs": [],
   "source": [
    "events_250.lheweight_val[0]"
   ]
  },
  {
   "cell_type": "code",
   "execution_count": null,
   "id": "6b6aafd1",
   "metadata": {},
   "outputs": [],
   "source": [
    "len(events_500)"
   ]
  },
  {
   "cell_type": "code",
   "execution_count": null,
   "id": "c430eae4",
   "metadata": {},
   "outputs": [],
   "source": [
    "from yaml import Loader, Dumper\n",
    "import yaml\n",
    "    \n",
    "with open('../data/samples.yaml', 'r') as f:\n",
    "    samples = yaml.load(f, Loader = Loader)\n",
    "\n",
    "fileset = {\n",
    "            #'TT_TuneCUETP8M2T4_14TeV-powheg-pythia8_200PU': samples['TT_TuneCUETP8M2T4_14TeV-powheg-pythia8_200PU']['skim'],\n",
    "            #'ZJetsToNuNu_HT-100To200_14TeV-madgraph_200PU': samples['ZJetsToNuNu_HT-100To200_14TeV-madgraph_200PU']['skim'],\n",
    "            #'ZJetsToNuNu_HT-200To400_14TeV-madgraph_200PU': samples['ZJetsToNuNu_HT-200To400_14TeV-madgraph_200PU']['skim'],\n",
    "            #'ZJetsToNuNu_HT-400To600_14TeV-madgraph_200PU': samples['ZJetsToNuNu_HT-400To600_14TeV-madgraph_200PU']['skim'],\n",
    "            #'ZJetsToNuNu_HT-600To800_14TeV-madgraph_200PU': samples['ZJetsToNuNu_HT-600To800_14TeV-madgraph_200PU']['skim'],\n",
    "            #'ZJetsToNuNu_HT-800To1200_14TeV-madgraph_200PU': samples['ZJetsToNuNu_HT-800To1200_14TeV-madgraph_200PU']['skim'],\n",
    "            #'ZJetsToNuNu_HT-1200To2500_14TeV-madgraph_200PU': samples['ZJetsToNuNu_HT-1200To2500_14TeV-madgraph_200PU']['skim'],\n",
    "            #'W0JetsToLNu_TuneCUETP8M1_14TeV-madgraphMLM-pythia8_200PU': samples['W0JetsToLNu_TuneCUETP8M1_14TeV-madgraphMLM-pythia8_200PU']['skim'],\n",
    "            #'W1JetsToLNu_TuneCUETP8M1_14TeV-madgraphMLM-pythia8_200PU': samples['W1JetsToLNu_TuneCUETP8M1_14TeV-madgraphMLM-pythia8_200PU']['skim'],\n",
    "            #'W2JetsToLNu_TuneCUETP8M1_14TeV-madgraphMLM-pythia8_200PU': samples['W2JetsToLNu_TuneCUETP8M1_14TeV-madgraphMLM-pythia8_200PU']['skim'],\n",
    "            #'W3JetsToLNu_TuneCUETP8M1_14TeV-madgraphMLM-pythia8_200PU': samples['W3JetsToLNu_TuneCUETP8M1_14TeV-madgraphMLM-pythia8_200PU']['skim'],\n",
    "            #'2HDMa_bb_sinp_0.35_tanb_1.0_mXd_10_MH3_1500_MH4_150_MH2_1500_MHC_1500': samples['2HDMa_bb_sinp_0.35_tanb_1.0_mXd_10_MH3_1500_MH4_150_MH2_1500_MHC_1500']['ntuples'],\n",
    "            #'2HDMa_bb_sinp_0.35_tanb_1.0_mXd_10_MH3_1500_MH4_250_MH2_1500_MHC_1500': samples['2HDMa_bb_sinp_0.35_tanb_1.0_mXd_10_MH3_1500_MH4_250_MH2_1500_MHC_1500']['ntuples'],\n",
    "            #'2HDMa_bb_sinp_0.35_tanb_1.0_mXd_10_MH3_1500_MH4_350_MH2_1500_MHC_1500': samples['2HDMa_bb_sinp_0.35_tanb_1.0_mXd_10_MH3_1500_MH4_350_MH2_1500_MHC_1500']['ntuples'],\n",
    "            #'2HDMa_bb_sinp_0.35_tanb_1.0_mXd_10_MH3_1500_MH4_500_MH2_1500_MHC_1500': samples['2HDMa_bb_sinp_0.35_tanb_1.0_mXd_10_MH3_1500_MH4_500_MH2_1500_MHC_1500']['ntuples'],\n",
    "            #'2HDMa_bb_sinp_0.35_tanb_1.0_mXd_10_MH3_1500_MH4_750_MH2_1500_MHC_1500': samples['2HDMa_bb_sinp_0.35_tanb_1.0_mXd_10_MH3_1500_MH4_750_MH2_1500_MHC_1500']['ntuples'],\n",
    "            '2HDMa_gg_sinp_0.35_tanb_1.0_mXd_10_MH3_1500_MH4_750_MH2_1500_MHC_1500': samples['2HDMa_gg_sinp_0.35_tanb_1.0_mXd_10_MH3_1500_MH4_750_MH2_1500_MHC_1500']['ntuples'],\n",
    "}\n",
    "\n",
    "meta_accumulator = {}\n",
    "for sample in fileset:\n",
    "    if sample not in meta_accumulator:\n",
    "        meta_accumulator.update({sample: processor.defaultdict_accumulator(int)})\n",
    "    for f in fileset[sample]:\n",
    "        meta_accumulator.update({f: processor.defaultdict_accumulator(int)})"
   ]
  },
  {
   "cell_type": "code",
   "execution_count": null,
   "id": "c497cb02",
   "metadata": {},
   "outputs": [],
   "source": [
    "events_250 = NanoEventsFactory.from_root(\n",
    "        samples['2HDMa_gg_sinp_0.35_tanb_1.0_mXd_10_MH3_1500_MH4_750_MH2_1500_MHC_1500']['ntuples'][0],\n",
    "        treepath='mytree',\n",
    "        schemaclass = BaseSchema,\n",
    "        #entry_stop = n_max,\n",
    "    ).events()"
   ]
  },
  {
   "cell_type": "code",
   "execution_count": null,
   "id": "efb2ba76",
   "metadata": {},
   "outputs": [],
   "source": [
    "fatjet = get_four_vec_fromPtEtaPhiM(\n",
    "            None,\n",
    "            pt = events_250.fatjet_pt,\n",
    "            eta = events_250.fatjet_eta,\n",
    "            phi = events_250.fatjet_phi,\n",
    "            M = events_250.fatjet_msoftdrop,        #Using softdrop from now on\n",
    "            copy = False,\n",
    "        )"
   ]
  },
  {
   "cell_type": "code",
   "execution_count": null,
   "id": "69c435ea",
   "metadata": {},
   "outputs": [],
   "source": [
    "fatjet.pt[ak.num(fatjet)>1]"
   ]
  },
  {
   "cell_type": "code",
   "execution_count": null,
   "id": "5401c55c",
   "metadata": {},
   "outputs": [],
   "source": [
    "electron = get_four_vec_fromPtEtaPhiM(\n",
    "            None,\n",
    "            pt = events_250.elec_pt,\n",
    "            eta = events_250.elec_eta,\n",
    "            phi = events_250.elec_phi,\n",
    "            M = events_250.elec_mass,\n",
    "            copy = False,\n",
    "        )\n",
    "electron['id'] = events_250.elec_idpass  # > 0 should be loose\n",
    "electron['iso'] = events_250.elec_isopass\n",
    "electron['charge'] = events_250.elec_charge\n",
    "\n",
    "ele_l = electron[((electron['id']>0)&(electron['iso']>0)&(electron.pt>10)&(np.abs(electron.eta)<3))]\n",
    "        \n",
    "        #muons\n",
    "        \n",
    "muon = get_four_vec_fromPtEtaPhiM(\n",
    "            None,\n",
    "            pt = events_250.muon_pt,\n",
    "            eta = events_250.muon_eta,\n",
    "            phi = events_250.muon_phi,\n",
    "            M = events_250.muon_mass,\n",
    "            copy = False,\n",
    "        )\n",
    "muon['id'] = events_250.muon_idpass  # > 0 should be loose\n",
    "muon['iso'] = events_250.muon_isopass\n",
    "muon['charge'] = events_250.muon_charge\n",
    "\n",
    "muon_l = muon[((muon['id']>0)&(muon['iso']>0)&(muon.pt>4)&(np.abs(muon.eta)<2.8))]\n",
    "        \n",
    "#taus\n",
    "        \n",
    "tau = get_four_vec_fromPtEtaPhiM(\n",
    "            None,\n",
    "            pt = events_250.tau_pt,\n",
    "            eta = events_250.tau_eta,\n",
    "            phi = events_250.tau_phi,\n",
    "            M = events_250.tau_mass,\n",
    "            copy = False,\n",
    "        )\n",
    "tau['iso'] = events_250.tau_isopass   # > 0 should be loose\n",
    "tau['charge'] = events_250.tau_charge\n",
    "\n",
    "tau_l = tau[((tau['iso']>0)&(tau.pt>30)&(np.abs(tau.eta)<3))]\n",
    "        \n",
    "#photons\n",
    "        \n",
    "gamma = get_four_vec_fromPtEtaPhiM(\n",
    "            None,\n",
    "            pt = events_250.gamma_pt,\n",
    "            eta = events_250.gamma_eta,\n",
    "            phi = events_250.gamma_phi,\n",
    "            M = events_250.gamma_mass,\n",
    "            copy = False,\n",
    "        )\n",
    "gamma['id'] = events_250.gamma_idpass  # > 0 should be loose\n",
    "gamma['iso'] = events_250.gamma_isopass\n",
    "\n",
    "gamma_l = gamma[((gamma['id']>0)&(gamma['iso']>0)&(gamma.pt>20)&(np.abs(gamma.eta)<3))]\n",
    "\n",
    "\n",
    "jet = getJets(events_250, jes_corrector, pt_var='central')\n",
    "jet['id'] = events_250.jetpuppi_idpass\n",
    "jet['btag'] = events_250.jetpuppi_btag\n",
    "        \n",
    "        \n",
    "#follow Delphes recommendations\n",
    "jet = jet[jet.pt > 30]\n",
    "jet = jet[jet.id > 0]\n",
    "jet = jet[np.abs(jet.eta) < 3] #eta within tracker range\n",
    "        \n",
    "jet = jet[~match(jet, ele_l, deltaRCut=0.4)] #remove electron overlap\n",
    "jet = jet[~match(jet, muon_l, deltaRCut=0.4)] #remove muon overlap\n",
    "\n",
    "btag = jet[jet.btag>0] #loose wp for now\n",
    "        \n",
    "#fatjets\n",
    "\n",
    "# Need FatJets and GenParts\n",
    "# FatJets start at pt>200 and go all the way to eta 3.x\n",
    "# This should be fine?\n",
    "# Objects are defined here: https://twiki.cern.ch/twiki/bin/view/CMS/DelphesInstructions\n",
    "# Maybe restrict abs(eta) to 2.8 or 3 (whatever the tracker acceptance of PhaseII CMS is)\n",
    "fatjet = get_four_vec_fromPtEtaPhiM(\n",
    "            None,\n",
    "            pt = events_250.fatjet_pt,\n",
    "            eta = events_250.fatjet_eta,\n",
    "            phi = events_250.fatjet_phi,\n",
    "            M = events_250.fatjet_msoftdrop,        #Using softdrop from now on\n",
    "            copy = False,\n",
    "        )\n",
    "        \n",
    "#fatjet['m'] = events.fatjet_mass\n",
    "fatjet['tau1'] = events_250.fatjet_tau1\n",
    "fatjet['tau2'] = events_250.fatjet_tau2\n",
    "fatjet['tau3'] = events_250.fatjet_tau3\n",
    "fatjet['tau4'] = events_250.fatjet_tau4\n",
    "        \n",
    "fatjet = fatjet[np.abs(fatjet.eta) < 3] #eta within tracker range\n",
    "fatjet = fatjet[ak.argsort(fatjet.pt, ascending=False)]\n",
    "#\n",
    "fatjet = fatjet[~match(fatjet, ele_l, deltaRCut=0.8)] #remove electron overlap\n",
    "fatjet = fatjet[~match(fatjet, muon_l, deltaRCut=0.8)] #remove muon overlap\n",
    "#\n",
    "extrajet  = jet[~match(jet, fatjet, deltaRCut=1.2)] # remove AK4 jets that overlap with AK8 jets\n",
    "extrabtag = extrajet[extrajet.btag>0] #loose wp for now]\n",
    "        \n",
    "tau21 = np.divide(fatjet.tau2, fatjet.tau1)\n",
    "        \n",
    "fatjet_on_h = fatjet[np.abs(fatjet.mass-125)<25]\n",
    "on_h = (ak.num(fatjet_on_h) > 0)\n",
    "        \n",
    "lead_fatjet = fatjet[:,0:1]\n",
    "\n",
    "difatjet = choose(fatjet, 2)\n",
    "dijet = choose(jet[:,:4], 2)  # only take the 4 leading jets\n",
    "di_AK8_AK4 = cross(extrajet, fatjet)\n",
    "\n",
    "dphi_difatjet = np.arccos(np.cos(difatjet['0'].phi-difatjet['1'].phi))\n",
    "dphi_dijet = np.arccos(np.cos(dijet['0'].phi-dijet['1'].phi))\n",
    "dphi_AK8_AK4 = np.arccos(np.cos(di_AK8_AK4['0'].phi-di_AK8_AK4['1'].phi))\n",
    "# not back-to-back\n",
    "AK8_QCD_veto = ak.all(dphi_difatjet<3.0, axis=1)  # veto any event with a back-to-back dijet system. No implicit cut on N_AK8 (ak.all!)\n",
    "AK4_QCD_veto = ak.all(dphi_dijet<3.0, axis=1)  # veto any event with a back-to-back dijet system. No implicit cut on N_AK4 (ak.all!)\n",
    "min_dphi_AK8_AK4 = ak.to_numpy(ak.min(dphi_AK8_AK4, axis=1))"
   ]
  },
  {
   "cell_type": "code",
   "execution_count": null,
   "id": "156b75fb",
   "metadata": {},
   "outputs": [],
   "source": [
    "met_pt = ak.flatten(events_250.metpuppi_pt)\n",
    "met_phi = ak.flatten(events_250.metpuppi_phi)\n",
    "        \n",
    "mt_AK8_MET = mt(fatjet.pt, fatjet.phi, met_pt, met_phi)\n",
    "min_mt_AK8_MET = ak.to_numpy(ak.min(mt_AK8_MET, axis=1))\n",
    "min_dphi_AK8_MET = ak.to_numpy(ak.min(np.arccos(np.cos(fatjet.phi-met_phi)), axis=1))\n",
    "min_dphi_AK4_MET = ak.to_numpy(ak.min(np.arccos(np.cos(jet.phi-met_phi)), axis=1))\n",
    "min_dphi_AK4clean_MET = ak.to_numpy(ak.min(np.arccos(np.cos(extrajet.phi-met_phi)), axis=1))  "
   ]
  },
  {
   "cell_type": "code",
   "execution_count": null,
   "id": "aef4adf6",
   "metadata": {},
   "outputs": [],
   "source": [
    "run2_to_delphes = {\n",
    "    #'ZJetsToNuNu_HT-200To400_14TeV-madgraph_200PU': 'ZJetsToNuNu_HT-200To400_TuneCP5_13TeV-madgraphMLM-pythia8',\n",
    "    #'ZJetsToNuNu_HT-400To600_14TeV-madgraph_200PU': 'ZJetsToNuNu_HT-400To600_TuneCP5_13TeV-madgraphMLM-pythia8',\n",
    "    #'ZJetsToNuNu_HT-600To800_14TeV-madgraph_200PU': 'ZJetsToNuNu_HT-600To800_TuneCP5_13TeV-madgraphMLM-pythia8',\n",
    "    #'ZJetsToNuNu_HT-800To1200_14TeV-madgraph_200PU': 'ZJetsToNuNu_HT-800To1200_TuneCP5_13TeV-madgraphMLM-pythia8',\n",
    "    #'ZJetsToNuNu_HT-1200To2500_14TeV-madgraph_200PU': 'ZJetsToNuNu_HT-1200To2500_TuneCP5_13TeV-madgraphMLM-pythia8',\n",
    "    '2HDMa_gg_sinp_0.35_tanb_1.0_mXd_10_MH3_1500_MH4_750_MH2_1500_MHC_1500': 'ttHTobb_M125_TuneCP5_13TeV-powheg-pythia8',\n",
    "}\n",
    "\n",
    "effs = {}\n",
    "for s in fileset.keys():\n",
    "    effs[s] = {}\n",
    "    for b in ['0b', '1b', '2b', '1h']:\n",
    "        effs[s][b] = Hist2D.from_json(os.path.expandvars(\"../data/htag/eff_%s_%s.json\"%(run2_to_delphes[s],b)))"
   ]
  },
  {
   "cell_type": "code",
   "execution_count": null,
   "id": "822933a8",
   "metadata": {},
   "outputs": [],
   "source": [
    "gen = get_four_vec_fromPtEtaPhiM(\n",
    "            None,\n",
    "            pt = events_250.genpart_pt,\n",
    "            eta = events_250.genpart_eta,\n",
    "            phi = events_250.genpart_phi,\n",
    "            M = events_250.genpart_mass,\n",
    "            copy = False,\n",
    "        )\n",
    "gen['pdgId'] = events_250.genpart_pid\n",
    "gen['status'] = events_250.genpart_status\n",
    "\n",
    "higgs = gen[((abs(gen.pdgId)==25)&(gen.status==62))]\n",
    "\n",
    "bquark = gen[((abs(gen.pdgId)==5)&(gen.status==71))]\n",
    "        \n",
    "nb_in_fat = match_count(fatjet, bquark, deltaRCut=0.8)\n",
    "nhiggs_in_fat = match_count(fatjet, higgs, deltaRCut=0.8)\n",
    "zerohiggs = (nhiggs_in_fat==0)\n",
    "onehiggs = (nhiggs_in_fat==1)\n",
    "        \n",
    "zerob = ((nb_in_fat==0) & (zerohiggs))  # verified to work!\n",
    "oneb  = ((nb_in_fat==1) & (zerohiggs))  # verified to work!\n",
    "twob  = ((nb_in_fat>=2) & (zerohiggs))  # verified to work!\n",
    "        \n",
    "w_0b = get_weight(effs['2HDMa_gg_sinp_0.35_tanb_1.0_mXd_10_MH3_1500_MH4_750_MH2_1500_MHC_1500']['0b'], fatjet.pt, fatjet.eta)\n",
    "w_1b = get_weight(effs['2HDMa_gg_sinp_0.35_tanb_1.0_mXd_10_MH3_1500_MH4_750_MH2_1500_MHC_1500']['1b'], fatjet.pt, fatjet.eta)\n",
    "w_2b = get_weight(effs['2HDMa_gg_sinp_0.35_tanb_1.0_mXd_10_MH3_1500_MH4_750_MH2_1500_MHC_1500']['2b'], fatjet.pt, fatjet.eta)\n",
    "w_1h = get_weight(effs['2HDMa_gg_sinp_0.35_tanb_1.0_mXd_10_MH3_1500_MH4_750_MH2_1500_MHC_1500']['1h'], fatjet.pt, fatjet.eta)\n",
    "        \n",
    "w_all = w_0b * zerob + w_1b * oneb + w_2b * twob # + w_1h * onehiggs  # this should work\n",
    "if not np.isnan(sum(sum(effs['2HDMa_gg_sinp_0.35_tanb_1.0_mXd_10_MH3_1500_MH4_750_MH2_1500_MHC_1500']['1h'].counts))):\n",
    "#        np.isnan(sum(ak.flatten(w_1h * onehiggs))):\n",
    "    w_all = w_all + w_1h * onehiggs"
   ]
  },
  {
   "cell_type": "code",
   "execution_count": null,
   "id": "949dd1df",
   "metadata": {},
   "outputs": [],
   "source": [
    "ak.num(higgs)"
   ]
  },
  {
   "cell_type": "code",
   "execution_count": null,
   "id": "84b7305f",
   "metadata": {},
   "outputs": [],
   "source": [
    "dibquark = choose(bquark, 2)"
   ]
  },
  {
   "cell_type": "code",
   "execution_count": null,
   "id": "322a9384",
   "metadata": {},
   "outputs": [],
   "source": [
    "dibquark"
   ]
  },
  {
   "cell_type": "code",
   "execution_count": null,
   "id": "7a0ddec7",
   "metadata": {},
   "outputs": [],
   "source": [
    "b_DeltaR = delta_r(dibquark['0'], dibquark['1'])"
   ]
  },
  {
   "cell_type": "code",
   "execution_count": null,
   "id": "f3877caa",
   "metadata": {},
   "outputs": [],
   "source": [
    "ak.flatten(b_DeltaR[ak.num(bquark)==2])"
   ]
  },
  {
   "cell_type": "code",
   "execution_count": null,
   "id": "cac013c4",
   "metadata": {},
   "outputs": [],
   "source": [
    "pad_and_flatten(higgs.pt[ak.num(bquark)==2])"
   ]
  },
  {
   "cell_type": "code",
   "execution_count": null,
   "id": "7dea59b3",
   "metadata": {},
   "outputs": [],
   "source": [
    "weight = Weights(len(events_250))\n",
    "weight.add(\"NH>0\", np.nan_to_num(1-ak.prod(1-w_all, axis=1), 0))"
   ]
  },
  {
   "cell_type": "code",
   "execution_count": null,
   "id": "50337da6",
   "metadata": {},
   "outputs": [],
   "source": [
    "selection = PackedSelection()\n",
    "\n",
    "selection.add('ele_veto', ak.num(ele_l, axis=1)==0)\n",
    "selection.add('mu_veto',  ak.num(muon_l, axis=1)==0)\n",
    "selection.add('tau_veto', ak.num(tau_l, axis=1)==0)\n",
    "selection.add('met',      met_pt>300)\n",
    "selection.add('nAK4',     ak.num(jet, axis=1)>1)\n",
    "selection.add('nAK8',     ak.num(fatjet, axis=1)>0)\n",
    "selection.add('min_AK8_pt', ak.min(fatjet.pt, axis=1)>300)\n",
    "selection.add('dphi_AK8_MET>1', min_dphi_AK8_MET>1.0)\n",
    "selection.add('dphi_AK4_MET<3', min_dphi_AK4_MET<3.0)\n",
    "selection.add('dphi_AK4_MET>1', min_dphi_AK4_MET>1.0)\n",
    "selection.add('AK4_QCD_veto', AK4_QCD_veto)\n",
    "selection.add('AK8_QCD_veto', AK8_QCD_veto)\n",
    "selection.add('on_H',     on_h)\n",
    "selection.add('MT>600',   min_mt_AK8_MET>600)"
   ]
  },
  {
   "cell_type": "code",
   "execution_count": null,
   "id": "12e6129f",
   "metadata": {},
   "outputs": [],
   "source": [
    "def n_minus_one(selection, requirements, minus_one):\n",
    "    reqs_d = { sel: True for sel in requirements if not sel in minus_one }\n",
    "    return selection.require(**reqs_d)\n",
    "\n",
    "baseline = [\n",
    "    'ele_veto',\n",
    "    'mu_veto',\n",
    "    'tau_veto',\n",
    "    'met',\n",
    "    'nAK8',\n",
    "]\n",
    "\n",
    "tight = [\n",
    "    'ele_veto',\n",
    "    'mu_veto',\n",
    "'tau_veto',\n",
    "    'met',\n",
    "    'nAK8',\n",
    "    'nAK4',\n",
    "    'min_AK8_pt',\n",
    "    'dphi_AK8_MET>1',\n",
    "    'dphi_AK4_MET<3',\n",
    "    'dphi_AK4_MET>1',\n",
    "    'AK4_QCD_veto',\n",
    "    'AK8_QCD_veto',\n",
    "    'on_H',\n",
    "    'MT>600',\n",
    "]\n",
    "        \n",
    "base_sel = n_minus_one(selection, baseline, [])\n",
    "tight_sel = n_minus_one(selection, tight, [])"
   ]
  },
  {
   "cell_type": "code",
   "execution_count": null,
   "id": "f3f1a990",
   "metadata": {},
   "outputs": [],
   "source": [
    "len(events_250[n_minus_one(selection, baseline, ['met', 'nAK8'])])"
   ]
  },
  {
   "cell_type": "code",
   "execution_count": null,
   "id": "e85e9754",
   "metadata": {},
   "outputs": [],
   "source": [
    "len(events_250[n_minus_one(selection, baseline, ['ele veto', 'muon veto', 'tau veto', 'met', 'nAK8'])])"
   ]
  },
  {
   "cell_type": "code",
   "execution_count": null,
   "id": "4fbcad80",
   "metadata": {},
   "outputs": [],
   "source": [
    "len(events_250[n_minus_one(selection, baseline, ['nAK8'])])"
   ]
  },
  {
   "cell_type": "code",
   "execution_count": null,
   "id": "a6ab08a4",
   "metadata": {},
   "outputs": [],
   "source": [
    "len(events_250[base_sel])"
   ]
  },
  {
   "cell_type": "code",
   "execution_count": null,
   "id": "020a1cba",
   "metadata": {},
   "outputs": [],
   "source": [
    "dphi_difatjet[baseline &(ak.num(fatjet)>1)].tolist()"
   ]
  },
  {
   "cell_type": "code",
   "execution_count": null,
   "id": "da99a202",
   "metadata": {},
   "outputs": [],
   "source": [
    "weight.weight()[baseline &(ak.num(fatjet)>1)]"
   ]
  },
  {
   "cell_type": "code",
   "execution_count": null,
   "id": "5beed613",
   "metadata": {},
   "outputs": [],
   "source": [
    "ak.min(fatjet.pt[baseline], axis=1)"
   ]
  },
  {
   "cell_type": "code",
   "execution_count": null,
   "id": "0bbb3da0",
   "metadata": {},
   "outputs": [],
   "source": []
  },
  {
   "cell_type": "code",
   "execution_count": null,
   "id": "880f71e7",
   "metadata": {},
   "outputs": [],
   "source": [
    "events_QCD = NanoEventsFactory.from_root(\n",
    "        '/hadoop/cms/store/user/dspitzba/ProjectMetis/merge_QCD_bEnriched_HT1000to1500_TuneCUETP8M1_14TeV-madgraphMLM-pythia8_200PU_v15/merge_1.root:nevents',\n",
    "        #treepath='nevents',\n",
    "        schemaclass = BaseSchema,\n",
    "        #entry_stop = n_max,\n",
    "    ).events()"
   ]
  },
  {
   "cell_type": "code",
   "execution_count": null,
   "id": "429c6861",
   "metadata": {},
   "outputs": [],
   "source": [
    "events_QCD"
   ]
  },
  {
   "cell_type": "code",
   "execution_count": null,
   "id": "0c6bddaf",
   "metadata": {},
   "outputs": [],
   "source": [
    "import uproot"
   ]
  },
  {
   "cell_type": "code",
   "execution_count": null,
   "id": "55c8a9cc",
   "metadata": {},
   "outputs": [],
   "source": [
    "file = uproot.open('/hadoop/cms/store/user/dspitzba/ProjectMetis/merge_QCD_bEnriched_HT1000to1500_TuneCUETP8M1_14TeV-madgraphMLM-pythia8_200PU_v15/merge_1.root:nevents',)"
   ]
  },
  {
   "cell_type": "code",
   "execution_count": null,
   "id": "8e330460",
   "metadata": {},
   "outputs": [],
   "source": [
    "file"
   ]
  },
  {
   "cell_type": "code",
   "execution_count": null,
   "id": "9f26d7a9",
   "metadata": {},
   "outputs": [],
   "source": [
    "file.counts()[0]"
   ]
  },
  {
   "cell_type": "code",
   "execution_count": null,
   "id": "dc87dd43",
   "metadata": {},
   "outputs": [],
   "source": [
    "fileset = {\n",
    "            'WJetsToLNu_TuneCUETP8M1_14TeV-madgraphMLM-pythia8_200PU': samples['WJetsToLNu_TuneCUETP8M1_14TeV-madgraphMLM-pythia8_200PU']['skim'],\n",
    "}"
   ]
  },
  {
   "cell_type": "code",
   "execution_count": null,
   "id": "39ccf007",
   "metadata": {},
   "outputs": [],
   "source": [
    "with uproot.open('/nfs-7/userdata/ewallace/Hbb_MET/merge_QCD_bEnriched_HT500to700_TuneCUETP8M1_14TeV-madgraphMLM-pythia8_200PU_v15/merge_1.root:nevents') as counts:\n",
    "    print(counts.counts())"
   ]
  },
  {
   "cell_type": "code",
   "execution_count": null,
   "id": "65e2ca8f",
   "metadata": {},
   "outputs": [],
   "source": [
    "nevents = {}\n",
    "\n",
    "for key in fileset:\n",
    "    nevents[key] = 0\n",
    "    for file in fileset[key]:\n",
    "        with uproot.open(file+':nevents') as counts:\n",
    "            nevents[file] = counts.counts()[0] \n",
    "        nevents[key] += nevents[file]"
   ]
  },
  {
   "cell_type": "code",
   "execution_count": null,
   "id": "05931b30",
   "metadata": {},
   "outputs": [],
   "source": [
    "nevents"
   ]
  }
 ],
 "metadata": {
  "kernelspec": {
   "display_name": "coffeadev",
   "language": "python",
   "name": "coffeadev"
  },
  "language_info": {
   "codemirror_mode": {
    "name": "ipython",
    "version": 3
   },
   "file_extension": ".py",
   "mimetype": "text/x-python",
   "name": "python",
   "nbconvert_exporter": "python",
   "pygments_lexer": "ipython3",
   "version": "3.9.7"
  }
 },
 "nbformat": 4,
 "nbformat_minor": 5
}
