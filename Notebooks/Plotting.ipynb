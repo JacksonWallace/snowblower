{
 "cells": [
  {
   "cell_type": "code",
   "execution_count": 64,
   "id": "418d9395",
   "metadata": {},
   "outputs": [],
   "source": [
    "import uproot\n",
    "import awkward as ak\n",
    "import numpy as np\n",
    "from coffea.nanoevents import NanoEventsFactory, NanoAODSchema, BaseSchema,DelphesSchema\n",
    "from coffea import hist"
   ]
  },
  {
   "cell_type": "code",
   "execution_count": 46,
   "id": "296cd07c",
   "metadata": {},
   "outputs": [
    {
     "name": "stderr",
     "output_type": "stream",
     "text": [
      "/home/users/ewallace/miniconda3/envs/coffeadev/lib/python3.9/site-packages/coffea/nanoevents/mapping/uproot.py:74: UserWarning: Found duplicate branch fatjet_pt in <TTree 'mytree' (103 branches) at 0x7f51565d28b0>, taking first instance\n",
      "  warnings.warn(\n",
      "/home/users/ewallace/miniconda3/envs/coffeadev/lib/python3.9/site-packages/coffea/nanoevents/mapping/uproot.py:74: UserWarning: Found duplicate branch fatjet_pt in <TTree 'mytree' (103 branches) at 0x7f51563c0a90>, taking first instance\n",
      "  warnings.warn(\n",
      "/home/users/ewallace/miniconda3/envs/coffeadev/lib/python3.9/site-packages/coffea/nanoevents/mapping/uproot.py:74: UserWarning: Found duplicate branch fatjet_pt in <TTree 'mytree' (103 branches) at 0x7f5155324850>, taking first instance\n",
      "  warnings.warn(\n",
      "/home/users/ewallace/miniconda3/envs/coffeadev/lib/python3.9/site-packages/coffea/nanoevents/mapping/uproot.py:74: UserWarning: Found duplicate branch fatjet_pt in <TTree 'mytree' (103 branches) at 0x7f52915dff10>, taking first instance\n",
      "  warnings.warn(\n",
      "/home/users/ewallace/miniconda3/envs/coffeadev/lib/python3.9/site-packages/coffea/nanoevents/mapping/uproot.py:74: UserWarning: Found duplicate branch fatjet_pt in <TTree 'mytree' (103 branches) at 0x7f5154cd2850>, taking first instance\n",
      "  warnings.warn(\n",
      "/home/users/ewallace/miniconda3/envs/coffeadev/lib/python3.9/site-packages/coffea/nanoevents/mapping/uproot.py:74: UserWarning: Found duplicate branch fatjet_pt in <TTree 'mytree' (103 branches) at 0x7f51558cbe50>, taking first instance\n",
      "  warnings.warn(\n",
      "/home/users/ewallace/miniconda3/envs/coffeadev/lib/python3.9/site-packages/coffea/nanoevents/mapping/uproot.py:74: UserWarning: Found duplicate branch fatjet_pt in <TTree 'mytree' (103 branches) at 0x7f5155976b50>, taking first instance\n",
      "  warnings.warn(\n",
      "/home/users/ewallace/miniconda3/envs/coffeadev/lib/python3.9/site-packages/coffea/nanoevents/mapping/uproot.py:74: UserWarning: Found duplicate branch fatjet_pt in <TTree 'mytree' (103 branches) at 0x7f5155ba3580>, taking first instance\n",
      "  warnings.warn(\n"
     ]
    }
   ],
   "source": [
    "events_11 = NanoEventsFactory.from_root(\n",
    "        '/nfs-7/userdata/ewallace/Hbb_MET/bbDM_2HDMa_MH3_1500_MH4_150_Mchi_10_HLLHC_GEN_v3/delphes_ntuple_one.root',\n",
    "        treepath='myana/mytree',\n",
    "        schemaclass = BaseSchema,\n",
    "        #entry_stop = n_max,\n",
    "    ).events()\n",
    "\n",
    "events_12 = NanoEventsFactory.from_root(\n",
    "        '/nfs-7/userdata/ewallace/Hbb_MET/bbDM_2HDMa_MH3_1500_MH4_150_Mchi_10_HLLHC_GEN_v3/delphes_ntuple_two.root',\n",
    "        treepath='myana/mytree',\n",
    "        schemaclass = BaseSchema,\n",
    "        #entry_stop = n_max,\n",
    "    ).events()\n",
    "\n",
    "\n",
    "events_21 = NanoEventsFactory.from_root(\n",
    "        '/nfs-7/userdata/ewallace/Hbb_MET/bbDM_2HDMa_MH3_1500_MH4_250_Mchi_10_HLLHC_GEN_v3/delphes_ntuple_one.root',\n",
    "        treepath='myana/mytree',\n",
    "        schemaclass = BaseSchema,\n",
    "        #entry_stop = n_max,\n",
    "    ).events()\n",
    "\n",
    "events_22 = NanoEventsFactory.from_root(\n",
    "        '/nfs-7/userdata/ewallace/Hbb_MET/bbDM_2HDMa_MH3_1500_MH4_250_Mchi_10_HLLHC_GEN_v3/delphes_ntuple_two.root',\n",
    "        treepath='myana/mytree',\n",
    "        schemaclass = BaseSchema,\n",
    "        #entry_stop = n_max,\n",
    "    ).events()   \n",
    "\n",
    "events_31 = NanoEventsFactory.from_root(\n",
    "        '/nfs-7/userdata/ewallace/Hbb_MET/bbDM_2HDMa_MH3_1500_MH4_300_Mchi_10_HLLHC_GEN_v3/delphes_ntuple_one.root',\n",
    "        treepath='myana/mytree',\n",
    "        schemaclass = BaseSchema,\n",
    "        #entry_stop = n_max,\n",
    "    ).events()\n",
    "\n",
    "events_32 = NanoEventsFactory.from_root(\n",
    "        '/nfs-7/userdata/ewallace/Hbb_MET/bbDM_2HDMa_MH3_1500_MH4_300_Mchi_10_HLLHC_GEN_v3/delphes_ntuple_two.root',\n",
    "        treepath='myana/mytree',\n",
    "        schemaclass = BaseSchema,\n",
    "        #entry_stop = n_max,\n",
    "    ).events()   \n",
    "\n",
    "events_41 = NanoEventsFactory.from_root(\n",
    "        '/nfs-7/userdata/ewallace/Hbb_MET/bbDM_2HDMa_MH3_1500_MH4_400_Mchi_10_HLLHC_GEN_v3/delphes_ntuple_one.root',\n",
    "        treepath='myana/mytree',\n",
    "        schemaclass = BaseSchema,\n",
    "        #entry_stop = n_max,\n",
    "    ).events()\n",
    "\n",
    "events_42 = NanoEventsFactory.from_root(\n",
    "        '/nfs-7/userdata/ewallace/Hbb_MET/bbDM_2HDMa_MH3_1500_MH4_400_Mchi_10_HLLHC_GEN_v3/delphes_ntuple_two.root',\n",
    "        treepath='myana/mytree',\n",
    "        schemaclass = BaseSchema,\n",
    "        #entry_stop = n_max,\n",
    "    ).events()   "
   ]
  },
  {
   "cell_type": "code",
   "execution_count": 99,
   "id": "21c46ef2",
   "metadata": {},
   "outputs": [],
   "source": [
    "puppiMET = [[],[],[],[], np.linspace(0,250,11), r'$Puppi\\ MET_{pt}$']\n",
    "genMET = [[],[],[],[], np.linspace(0,80,9), r'$Gen\\ MET_{pt}$']\n",
    "fatjet_pt = [[],[],[],[], np.linspace(200,450,26), r'$Fatjet\\ p_{T}$']\n",
    "fatjet_eta = [[],[],[],[], np.linspace(-4,4,9), r'$Fatjet\\ \\eta$']\n",
    "fatjet_phi = [[],[],[],[], np.linspace(-4,4,9), r'$Fatjet\\ \\phi$']\n",
    "fatjet_mass = [[],[],[],[], np.linspace(0,200,21), r'$Fatjet\\ mass$']\n",
    "fatjet_msoftdrop = [[],[],[],[], np.linspace(0,150,16), r'$Fatjet\\ sd\\ mass$']\n",
    "fatjet_tau1 = [[],[],[],[], np.linspace(0,0.6,13), r'$Fatjet\\ \\tau_1$']\n",
    "fatjet_tau2 = [[],[],[],[], np.linspace(0,0.25,6), r'$Fatjet\\ \\tau_2$']\n",
    "fatjet_tau3 = [[],[],[],[], np.linspace(0,0.2,5), r'$Fatjet\\ \\tau_3$']\n",
    "fatjet_tau4 = [[],[],[],[], np.linspace(0,0.15,4), r'$Fatjet\\ \\tau_4$']\n",
    "varis = {'metpuppi_pt': puppiMET, 'genmet_pt': genMET, 'fatjet_pt': fatjet_pt, 'fatjet_eta': fatjet_eta, \n",
    "         'fatjet_phi': fatjet_phi, 'fatjet_mass': fatjet_mass, 'fatjet_msoftdrop': fatjet_msoftdrop,\n",
    "        'fatjet_tau1': fatjet_tau1, 'fatjet_tau2': fatjet_tau2, 'fatjet_tau3': fatjet_tau3, 'fatjet_tau4': fatjet_tau4}"
   ]
  },
  {
   "cell_type": "code",
   "execution_count": 84,
   "id": "9f38d433",
   "metadata": {
    "collapsed": true
   },
   "outputs": [
    {
     "data": {
      "text/plain": [
       "{'metpuppi_pt': [[],\n",
       "  [],\n",
       "  [],\n",
       "  [],\n",
       "  array([  0.,  10.,  20.,  30.,  40.,  50.,  60.,  70.,  80.,  90., 100.,\n",
       "         110., 120., 130., 140., 150., 160., 170., 180., 190., 200., 210.,\n",
       "         220., 230., 240., 250.]),\n",
       "  '$Puppi\\\\ MET_{pt}$'],\n",
       " 'genmet_pt': [[],\n",
       "  [],\n",
       "  [],\n",
       "  [],\n",
       "  array([  0.,  10.,  20.,  30.,  40.,  50.,  60.,  70.,  80.,  90., 100.]),\n",
       "  '$Gen\\\\ MET_{pt}$'],\n",
       " 'fatjet_pt': [[],\n",
       "  [],\n",
       "  [],\n",
       "  [],\n",
       "  array([  0.,  10.,  20.,  30.,  40.,  50.,  60.,  70.,  80.,  90., 100.,\n",
       "         110., 120., 130., 140., 150., 160., 170., 180., 190., 200., 210.,\n",
       "         220., 230., 240., 250.]),\n",
       "  '$Fatjet\\\\ p_{T}$'],\n",
       " 'fatjet_eta': [[],\n",
       "  [],\n",
       "  [],\n",
       "  [],\n",
       "  array([-5., -4., -3., -2., -1.,  0.,  1.,  2.,  3.,  4.,  5.]),\n",
       "  '$Fatjet\\\\ \\\\eta$'],\n",
       " 'fatjet_phi': [[],\n",
       "  [],\n",
       "  [],\n",
       "  [],\n",
       "  array([-5., -4., -3., -2., -1.,  0.,  1.,  2.,  3.,  4.,  5.]),\n",
       "  '$Fatjet\\\\ \\\\phi$'],\n",
       " 'fatjet_mass': [[],\n",
       "  [],\n",
       "  [],\n",
       "  [],\n",
       "  array([  0.,  10.,  20.,  30.,  40.,  50.,  60.,  70.,  80.,  90., 100.,\n",
       "         110., 120., 130., 140., 150., 160., 170., 180., 190., 200., 210.,\n",
       "         220., 230., 240., 250.]),\n",
       "  '$Fatjet\\\\ mass$'],\n",
       " 'fatjet_msoftdrop': [[],\n",
       "  [],\n",
       "  [],\n",
       "  [],\n",
       "  array([  0.,  10.,  20.,  30.,  40.,  50.,  60.,  70.,  80.,  90., 100.,\n",
       "         110., 120., 130., 140., 150., 160., 170., 180., 190., 200., 210.,\n",
       "         220., 230., 240., 250.]),\n",
       "  '$Fatjet\\\\ sd\\\\ mass$'],\n",
       " 'fatjet_tau1': [[],\n",
       "  [],\n",
       "  [],\n",
       "  [],\n",
       "  array([0.  , 0.04, 0.08, 0.12, 0.16, 0.2 , 0.24, 0.28, 0.32, 0.36, 0.4 ,\n",
       "         0.44, 0.48, 0.52, 0.56, 0.6 , 0.64, 0.68, 0.72, 0.76, 0.8 , 0.84,\n",
       "         0.88, 0.92, 0.96, 1.  ]),\n",
       "  '$Fatjet\\\\ \\\\tau_1$'],\n",
       " 'fatjet_tau2': [[],\n",
       "  [],\n",
       "  [],\n",
       "  [],\n",
       "  array([0.  , 0.04, 0.08, 0.12, 0.16, 0.2 , 0.24, 0.28, 0.32, 0.36, 0.4 ,\n",
       "         0.44, 0.48, 0.52, 0.56, 0.6 , 0.64, 0.68, 0.72, 0.76, 0.8 , 0.84,\n",
       "         0.88, 0.92, 0.96, 1.  ]),\n",
       "  '$Fatjet\\\\ \\\\tau_2$'],\n",
       " 'fatjet_tau3': [[],\n",
       "  [],\n",
       "  [],\n",
       "  [],\n",
       "  array([0.  , 0.04, 0.08, 0.12, 0.16, 0.2 , 0.24, 0.28, 0.32, 0.36, 0.4 ,\n",
       "         0.44, 0.48, 0.52, 0.56, 0.6 , 0.64, 0.68, 0.72, 0.76, 0.8 , 0.84,\n",
       "         0.88, 0.92, 0.96, 1.  ]),\n",
       "  '$Fatjet\\\\ \\\\tau_3$'],\n",
       " 'fatjet_tau4': [[],\n",
       "  [],\n",
       "  [],\n",
       "  [],\n",
       "  array([0.  , 0.04, 0.08, 0.12, 0.16, 0.2 , 0.24, 0.28, 0.32, 0.36, 0.4 ,\n",
       "         0.44, 0.48, 0.52, 0.56, 0.6 , 0.64, 0.68, 0.72, 0.76, 0.8 , 0.84,\n",
       "         0.88, 0.92, 0.96, 1.  ]),\n",
       "  '$Fatjet\\\\ \\\\tau_4$']}"
      ]
     },
     "execution_count": 84,
     "metadata": {},
     "output_type": "execute_result"
    }
   ],
   "source": [
    "varis"
   ]
  },
  {
   "cell_type": "code",
   "execution_count": 100,
   "id": "bcdffc71",
   "metadata": {},
   "outputs": [],
   "source": [
    "for vari in varis:\n",
    "    varis[vari][0] = ak.flatten(ak.concatenate([events_11[vari],events_12[vari]]))\n",
    "    varis[vari][1] = ak.flatten(ak.concatenate([events_21[vari],events_22[vari]]))\n",
    "    varis[vari][2] = ak.flatten(ak.concatenate([events_31[vari],events_32[vari]]))\n",
    "    varis[vari][3] = ak.flatten(ak.concatenate([events_41[vari],events_42[vari]]))"
   ]
  },
  {
   "cell_type": "code",
   "execution_count": 90,
   "id": "21c2e961",
   "metadata": {
    "collapsed": true
   },
   "outputs": [
    {
     "data": {
      "text/plain": [
       "{'metpuppi_pt': [<Array [240, 30.6, 33.6, ... 13.7, 32.4, 1.97] type='439912 * float32[parameters...'>,\n",
       "  <Array [22.4, 1.5, 77.4, ... 16.7, 46.8, 41.9] type='419916 * float32[parameters...'>,\n",
       "  <Array [33.3, 31.6, 30.5, ... 116, 11.1, 13.5] type='444911 * float32[parameters...'>,\n",
       "  <Array [42.2, 28.4, 36.3, ... 18.2, 128, 8.11] type='434913 * float32[parameters...'>,\n",
       "  array([  0.,  10.,  20.,  30.,  40.,  50.,  60.,  70.,  80.,  90., 100.,\n",
       "         110., 120., 130., 140., 150., 160., 170., 180., 190., 200., 210.,\n",
       "         220., 230., 240., 250.]),\n",
       "  '$Puppi\\\\ MET_{pt}$'],\n",
       " 'genmet_pt': [<Array [1.7, 18.2, 0.00636, ... 12.7, 0.000363] type='439912 * float32[parameter...'>,\n",
       "  <Array [10.2, 0.03, 13.1, ... 0.00199, 0.00472] type='419916 * float32[parameter...'>,\n",
       "  <Array [0.493, 25, 0.218, ... 0.00422, 0.0154] type='444911 * float32[parameters...'>,\n",
       "  <Array [0.493, 25, 0.218, ... 3.98, 1.98] type='434913 * float32[parameters={\"__...'>,\n",
       "  array([  0.,  10.,  20.,  30.,  40.,  50.,  60.,  70.,  80.,  90., 100.]),\n",
       "  '$Gen\\\\ MET_{pt}$'],\n",
       " 'fatjet_pt': [<Array [224, 240, 252, 252, ... 220, 215, 205] type='112366 * float32[parameters...'>,\n",
       "  <Array [298, 255, 222, 246, ... 203, 208, 232] type='107138 * float32[parameters...'>,\n",
       "  <Array [256, 244, 215, 230, ... 259, 211, 200] type='199979 * float32[parameters...'>,\n",
       "  <Array [253, 225, 244, 203, ... 211, 273, 214] type='195480 * float32[parameters...'>,\n",
       "  array([  0.,  10.,  20.,  30.,  40.,  50.,  60.,  70.,  80.,  90., 100.,\n",
       "         110., 120., 130., 140., 150., 160., 170., 180., 190., 200., 210.,\n",
       "         220., 230., 240., 250.]),\n",
       "  '$Fatjet\\\\ p_{T}$'],\n",
       " 'fatjet_eta': [<Array [1.48, 2.33, 0.281, ... -0.369, -0.411] type='112366 * float32[parameters...'>,\n",
       "  <Array [-0.556, -0.306, ... -0.618, -2.53] type='107138 * float32[parameters={\"_...'>,\n",
       "  <Array [-0.893, 1.33, 1.39, ... -1.96, 1.49] type='199979 * float32[parameters={...'>,\n",
       "  <Array [1.34, -0.896, -0.763, ... 1.35, -0.361] type='195480 * float32[parameter...'>,\n",
       "  array([-5., -4., -3., -2., -1.,  0.,  1.,  2.,  3.,  4.,  5.]),\n",
       "  '$Fatjet\\\\ \\\\eta$'],\n",
       " 'fatjet_phi': [<Array [1.89, 2.67, -2.88, ... 1.45, -1.14] type='112366 * float32[parameters={\"...'>,\n",
       "  <Array [-0.995, 1.89, -1.78, ... 0.978, -2.7] type='107138 * float32[parameters=...'>,\n",
       "  <Array [-2.25, 1.56, 2.42, ... -0.928, -0.709] type='199979 * float32[parameters...'>,\n",
       "  <Array [1.54, -2.26, 2.33, ... 1.68, -2.29] type='195480 * float32[parameters={\"...'>,\n",
       "  array([-5., -4., -3., -2., -1.,  0.,  1.,  2.,  3.,  4.,  5.]),\n",
       "  '$Fatjet\\\\ \\\\phi$'],\n",
       " 'fatjet_mass': [<Array [17.3, 24.2, 26, ... 30.9, 33.7, 76] type='112366 * float32[parameters={\"...'>,\n",
       "  <Array [19.4, 22.5, 38.9, ... 62.3, 12.9, 65.9] type='107138 * float32[parameter...'>,\n",
       "  <Array [11.8, 12.1, 31.3, ... 14.3, 13.8, 22.5] type='199979 * float32[parameter...'>,\n",
       "  <Array [17.2, 10.7, 26.8, ... 92.8, 22.8, 84.6] type='195480 * float32[parameter...'>,\n",
       "  array([  0.,  10.,  20.,  30.,  40.,  50.,  60.,  70.,  80.,  90., 100.,\n",
       "         110., 120., 130., 140., 150., 160., 170., 180., 190., 200., 210.,\n",
       "         220., 230., 240., 250.]),\n",
       "  '$Fatjet\\\\ mass$'],\n",
       " 'fatjet_msoftdrop': [<Array [10, 5.89, 6.92, 10, ... 10, 10, 76] type='112366 * float32[parameters={\"...'>,\n",
       "  <Array [10, 14.7, 10, 10.8, ... 60.1, 10, 65.4] type='107138 * float32[parameter...'>,\n",
       "  <Array [11, 7.16, 10, 10, ... 10, 11.1, 10, 10] type='199979 * float32[parameter...'>,\n",
       "  <Array [11.7, 10, 10, 10, ... 92.8, 10, 73.1] type='195480 * float32[parameters=...'>,\n",
       "  array([  0.,  10.,  20.,  30.,  40.,  50.,  60.,  70.,  80.,  90., 100.,\n",
       "         110., 120., 130., 140., 150., 160., 170., 180., 190., 200., 210.,\n",
       "         220., 230., 240., 250.]),\n",
       "  '$Fatjet\\\\ sd\\\\ mass$'],\n",
       " 'fatjet_tau1': [<Array [0.0075, 0.0517, ... 0.0456, 0.289] type='112366 * float32[parameters={\"_...'>,\n",
       "  <Array [0.00711, 0.0734, ... 0.00706, 0.316] type='107138 * float32[parameters={...'>,\n",
       "  <Array [0.0072, 0.0351, ... 0.00325, 0.0165] type='199979 * float32[parameters={...'>,\n",
       "  <Array [0.0624, 0.00273, ... 0.0138, 0.374] type='195480 * float32[parameters={\"...'>,\n",
       "  array([0.  , 0.04, 0.08, 0.12, 0.16, 0.2 , 0.24, 0.28, 0.32, 0.36, 0.4 ,\n",
       "         0.44, 0.48, 0.52, 0.56, 0.6 , 0.64, 0.68, 0.72, 0.76, 0.8 , 0.84,\n",
       "         0.88, 0.92, 0.96, 1.  ]),\n",
       "  '$Fatjet\\\\ \\\\tau_1$'],\n",
       " 'fatjet_tau2': [<Array [0.00379, 0.0447, ... 0.0185, 0.0488] type='112366 * float32[parameters={...'>,\n",
       "  <Array [0.00379, 0.0487, ... 0.00341, 0.0964] type='107138 * float32[parameters=...'>,\n",
       "  <Array [0.00217, 0.0215, 0.0207, ... 0, 0.011] type='199979 * float32[parameters...'>,\n",
       "  <Array [0.0308, 0.00082, ... 0.00731, 0.144] type='195480 * float32[parameters={...'>,\n",
       "  array([0.  , 0.04, 0.08, 0.12, 0.16, 0.2 , 0.24, 0.28, 0.32, 0.36, 0.4 ,\n",
       "         0.44, 0.48, 0.52, 0.56, 0.6 , 0.64, 0.68, 0.72, 0.76, 0.8 , 0.84,\n",
       "         0.88, 0.92, 0.96, 1.  ]),\n",
       "  '$Fatjet\\\\ \\\\tau_2$'],\n",
       " 'fatjet_tau3': [<Array [0.000982, 0.041, ... 0.0123, 0.0389] type='112366 * float32[parameters={...'>,\n",
       "  <Array [0.00259, 0.0332, ... 0.00134, 0.0494] type='107138 * float32[parameters=...'>,\n",
       "  <Array [0.000973, 0.0164, ... 0, 0.00795] type='199979 * float32[parameters={\"__...'>,\n",
       "  <Array [0.0202, 0.000214, ... 0.00197, 0.103] type='195480 * float32[parameters=...'>,\n",
       "  array([0.  , 0.04, 0.08, 0.12, 0.16, 0.2 , 0.24, 0.28, 0.32, 0.36, 0.4 ,\n",
       "         0.44, 0.48, 0.52, 0.56, 0.6 , 0.64, 0.68, 0.72, 0.76, 0.8 , 0.84,\n",
       "         0.88, 0.92, 0.96, 1.  ]),\n",
       "  '$Fatjet\\\\ \\\\tau_3$'],\n",
       " 'fatjet_tau4': [<Array [0.000152, 0.0356, ... 0.00884, 0.0269] type='112366 * float32[parameters...'>,\n",
       "  <Array [0.00158, 0.0277, 0.0107, ... 0, 0.0412] type='107138 * float32[parameter...'>,\n",
       "  <Array [0.000128, 0.0116, ... 0, 0.00528] type='199979 * float32[parameters={\"__...'>,\n",
       "  <Array [0.018, 0, ... 0.000909, 0.0718] type='195480 * float32[parameters={\"__do...'>,\n",
       "  array([0.  , 0.04, 0.08, 0.12, 0.16, 0.2 , 0.24, 0.28, 0.32, 0.36, 0.4 ,\n",
       "         0.44, 0.48, 0.52, 0.56, 0.6 , 0.64, 0.68, 0.72, 0.76, 0.8 , 0.84,\n",
       "         0.88, 0.92, 0.96, 1.  ]),\n",
       "  '$Fatjet\\\\ \\\\tau_4$']}"
      ]
     },
     "execution_count": 90,
     "metadata": {},
     "output_type": "execute_result"
    }
   ],
   "source": [
    "varis"
   ]
  },
  {
   "cell_type": "code",
   "execution_count": 91,
   "id": "1b54d37e",
   "metadata": {},
   "outputs": [
    {
     "data": {
      "text/plain": [
       "434913"
      ]
     },
     "execution_count": 91,
     "metadata": {},
     "output_type": "execute_result"
    }
   ],
   "source": [
    "len(varis['metpuppi_pt'][3])"
   ]
  },
  {
   "cell_type": "code",
   "execution_count": 92,
   "id": "d859b029",
   "metadata": {},
   "outputs": [],
   "source": [
    "import matplotlib.pyplot as plt\n",
    "import mplhep as hep\n",
    "plt.style.use(hep.style.CMS)"
   ]
  },
  {
   "cell_type": "code",
   "execution_count": 101,
   "id": "bdc8b598",
   "metadata": {},
   "outputs": [
    {
     "data": {
      "text/plain": [
       "<Figure size 720x720 with 0 Axes>"
      ]
     },
     "metadata": {},
     "output_type": "display_data"
    }
   ],
   "source": [
    "for vari in varis:\n",
    "    plt.hist(varis[vari][0], bins=varis[vari][4], histtype = 'step', label = 'MH3_1500_MH4_150_Mchi_10')\n",
    "    plt.hist(varis[vari][1], bins=varis[vari][4], histtype = 'step', label = 'MH3_1500_MH4_250_Mchi_10')\n",
    "    plt.hist(varis[vari][2], bins=varis[vari][4], histtype = 'step', label = 'MH3_1500_MH4_300_Mchi_10') \n",
    "    plt.hist(varis[vari][3], bins=varis[vari][4], histtype = 'step', label = 'MH3_1500_MH4_400_Mchi_10')\n",
    "    plt.xlabel(varis[vari][5])\n",
    "    plt.ylabel(r'Events')\n",
    "    plt.legend(prop={'size': 13})\n",
    "    plt.savefig('/home/users/ewallace/public_html/HbbMET/delphes_'+str(vari)+'.png')\n",
    "    plt.clf()"
   ]
  },
  {
   "cell_type": "code",
   "execution_count": null,
   "id": "7ac8f1ff",
   "metadata": {},
   "outputs": [],
   "source": []
  }
 ],
 "metadata": {
  "kernelspec": {
   "display_name": "coffeadev",
   "language": "python",
   "name": "coffeadev"
  },
  "language_info": {
   "codemirror_mode": {
    "name": "ipython",
    "version": 3
   },
   "file_extension": ".py",
   "mimetype": "text/x-python",
   "name": "python",
   "nbconvert_exporter": "python",
   "pygments_lexer": "ipython3",
   "version": "3.9.7"
  }
 },
 "nbformat": 4,
 "nbformat_minor": 5
}
