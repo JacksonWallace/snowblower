{
 "cells": [
  {
   "cell_type": "code",
   "execution_count": null,
   "id": "418d9395",
   "metadata": {},
   "outputs": [],
   "source": [
    "import uproot\n",
    "import awkward as ak\n",
    "import numpy as np\n",
    "from coffea.nanoevents import NanoEventsFactory, NanoAODSchema, BaseSchema, DelphesSchema\n",
    "from coffea import hist"
   ]
  },
  {
   "cell_type": "code",
   "execution_count": null,
   "id": "296cd07c",
   "metadata": {},
   "outputs": [],
   "source": [
    "events_11 = NanoEventsFactory.from_root(\n",
    "        '/nfs-7/userdata/ewallace/Hbb_MET/bbDM_2HDMa_MH3_1500_MH4_150_Mchi_10_HLLHC_GEN_v3/delphes_ntuple_one.root',\n",
    "        treepath='myana/mytree',\n",
    "        schemaclass = BaseSchema,\n",
    "        #entry_stop = n_max,\n",
    "    ).events()\n",
    "\n",
    "events_12 = NanoEventsFactory.from_root(\n",
    "        '/nfs-7/userdata/ewallace/Hbb_MET/bbDM_2HDMa_MH3_1500_MH4_150_Mchi_10_HLLHC_GEN_v3/delphes_ntuple_two.root',\n",
    "        treepath='myana/mytree',\n",
    "        schemaclass = BaseSchema,\n",
    "        #entry_stop = n_max,\n",
    "    ).events()\n",
    "\n",
    "events_21 = NanoEventsFactory.from_root(\n",
    "        '/nfs-7/userdata/ewallace/Hbb_MET/bbDM_2HDMa_MH3_1500_MH4_250_Mchi_10_HLLHC_GEN_v3/delphes_ntuple_one.root',\n",
    "        treepath='myana/mytree',\n",
    "        schemaclass = BaseSchema,\n",
    "        #entry_stop = n_max,\n",
    "    ).events()\n",
    "\n",
    "events_22 = NanoEventsFactory.from_root(\n",
    "        '/nfs-7/userdata/ewallace/Hbb_MET/bbDM_2HDMa_MH3_1500_MH4_250_Mchi_10_HLLHC_GEN_v3/delphes_ntuple_two.root',\n",
    "        treepath='myana/mytree',\n",
    "        schemaclass = BaseSchema,\n",
    "        #entry_stop = n_max,\n",
    "    ).events()   \n",
    "\n",
    "events_31 = NanoEventsFactory.from_root(\n",
    "        '/nfs-7/userdata/ewallace/Hbb_MET/bbDM_2HDMa_MH3_1500_MH4_300_Mchi_10_HLLHC_GEN_v3/delphes_ntuple_one.root',\n",
    "        treepath='myana/mytree',\n",
    "        schemaclass = BaseSchema,\n",
    "        #entry_stop = n_max,\n",
    "    ).events()\n",
    "\n",
    "events_32 = NanoEventsFactory.from_root(\n",
    "        '/nfs-7/userdata/ewallace/Hbb_MET/bbDM_2HDMa_MH3_1500_MH4_300_Mchi_10_HLLHC_GEN_v3/delphes_ntuple_two.root',\n",
    "        treepath='myana/mytree',\n",
    "        schemaclass = BaseSchema,\n",
    "        #entry_stop = n_max,\n",
    "    ).events()   \n",
    "\n",
    "events_41 = NanoEventsFactory.from_root(\n",
    "        '/nfs-7/userdata/ewallace/Hbb_MET/bbDM_2HDMa_MH3_1500_MH4_400_Mchi_10_HLLHC_GEN_v3/delphes_ntuple_one.root',\n",
    "        treepath='myana/mytree',\n",
    "        schemaclass = BaseSchema,\n",
    "        #entry_stop = n_max,\n",
    "    ).events()\n",
    "\n",
    "events_42 = NanoEventsFactory.from_root(\n",
    "        '/nfs-7/userdata/ewallace/Hbb_MET/bbDM_2HDMa_MH3_1500_MH4_400_Mchi_10_HLLHC_GEN_v3/delphes_ntuple_two.root',\n",
    "        treepath='myana/mytree',\n",
    "        schemaclass = BaseSchema,\n",
    "        #entry_stop = n_max,\n",
    "    ).events()   "
   ]
  },
  {
   "cell_type": "code",
   "execution_count": null,
   "id": "21c46ef2",
   "metadata": {},
   "outputs": [],
   "source": [
    "puppiMET = [[],[],[],[], np.linspace(0,250,11), r'$Puppi\\ MET_{pt}$']\n",
    "genMET = [[],[],[],[], np.linspace(0,80,9), r'$Gen\\ MET_{pt}$']\n",
    "fatjet_pt = [[],[],[],[], np.linspace(200,450,26), r'$Fatjet\\ p_{T}$']\n",
    "fatjet_eta = [[],[],[],[], np.linspace(-4,4,9), r'$Fatjet\\ \\eta$']\n",
    "fatjet_phi = [[],[],[],[], np.linspace(-4,4,9), r'$Fatjet\\ \\phi$']\n",
    "fatjet_mass = [[],[],[],[], np.linspace(0,200,21), r'$Fatjet\\ mass$']\n",
    "fatjet_msoftdrop = [[],[],[],[], np.linspace(0,150,16), r'$Fatjet\\ sd\\ mass$']\n",
    "fatjet_tau1 = [[],[],[],[], np.linspace(0,0.6,13), r'$Fatjet\\ \\tau_1$']\n",
    "fatjet_tau2 = [[],[],[],[], np.linspace(0,0.25,6), r'$Fatjet\\ \\tau_2$']\n",
    "fatjet_tau3 = [[],[],[],[], np.linspace(0,0.2,5), r'$Fatjet\\ \\tau_3$']\n",
    "fatjet_tau4 = [[],[],[],[], np.linspace(0,0.15,4), r'$Fatjet\\ \\tau_4$']\n",
    "varis = {'metpuppi_pt': puppiMET, 'genmet_pt': genMET, 'fatjet_pt': fatjet_pt, 'fatjet_eta': fatjet_eta, \n",
    "         'fatjet_phi': fatjet_phi, 'fatjet_mass': fatjet_mass, 'fatjet_msoftdrop': fatjet_msoftdrop,\n",
    "        'fatjet_tau1': fatjet_tau1, 'fatjet_tau2': fatjet_tau2, 'fatjet_tau3': fatjet_tau3, 'fatjet_tau4': fatjet_tau4}"
   ]
  },
  {
   "cell_type": "code",
   "execution_count": null,
   "id": "bf7fa4bc",
   "metadata": {},
   "outputs": [],
   "source": [
    "events_42.genweight"
   ]
  },
  {
   "cell_type": "code",
   "execution_count": null,
   "id": "951e82d4",
   "metadata": {},
   "outputs": [],
   "source": [
    "fatjet_events = events_42[ak.num(events_42.fatjet_pt)>0]\n",
    "print(fatjet_events.fatjet_pt)"
   ]
  },
  {
   "cell_type": "code",
   "execution_count": null,
   "id": "a8d4c664",
   "metadata": {},
   "outputs": [],
   "source": [
    "{\n",
    "            \"met\": hist.Hist(\n",
    "                \"Events\",\n",
    "                hist.Cat(\"dataset\", \"Dataset\"),\n",
    "                hist.Bin(\"pt\", \"$p_{T}$ [GeV]\", 75, 0, 750),\n",
    "            ),\n",
    "             \"lead_fatjet_pt\": hist.Hist(\n",
    "                \"Events\",\n",
    "                hist.Cat(\"dataset\", \"Dataset\"),\n",
    "                hist.Bin(\"pt\", \"$p_{T}$ [GeV]\", 75, 0, 750),\n",
    "            ),\n",
    "            \"lead_fatjet_eta\": hist.Hist(\n",
    "                \"Events\",\n",
    "                hist.Cat(\"dataset\", \"Dataset\"),\n",
    "                hist.Bin(\"eta\", \"$\\eta$\", 33, -4, 4),\n",
    "            ),\n",
    "            \"lead_fatjet_phi\": hist.Hist(\n",
    "                \"Events\",\n",
    "                hist.Cat(\"dataset\", \"Dataset\"),\n",
    "                hist.Bin(\"phi\", \"$\\phi$\", 33, -4, 4),\n",
    "            ),\n",
    "            \"lead_fatjet_mass\": hist.Hist(\n",
    "                \"Events\",\n",
    "                hist.Cat(\"dataset\", \"Dataset\"),\n",
    "                hist.Bin(\"mass\", \"$p_{T}$ [GeV]\", 50, 0, 500),\n",
    "            ),\n",
    "            \"lead_fatjet_sdmass\": hist.Hist(\n",
    "                \"Events\",\n",
    "                hist.Cat(\"dataset\", \"Dataset\"),\n",
    "                hist.Bin(\"mass\", \"$p_{T}$ [GeV]\", 50, 0, 500),\n",
    "            ),\n",
    "            \"lead_fatjet_tau1\": hist.Hist(\n",
    "                \"Events\",\n",
    "                hist.Cat(\"dataset\", \"Dataset\"),\n",
    "                hist.Bin(\"tau\", \"$\\tau_1$\", 10, 0, 1),\n",
    "            ),\n",
    "            \"lead_fatjet_tau2\": hist.Hist(\n",
    "                \"Events\",\n",
    "                hist.Cat(\"dataset\", \"Dataset\"),\n",
    "                hist.Bin(\"tau\", \"$\\tau_2$\", 10, 0, 1),\n",
    "            ),\n",
    "            \"lead_fatjet_tau3\": hist.Hist(\n",
    "                \"Events\",\n",
    "                hist.Cat(\"dataset\", \"Dataset\"),\n",
    "                hist.Bin(\"tau\", \"$\\tau_3$\", 10, 0, 1),\n",
    "            ),\n",
    "            \"lead_fatjet_tau4\": hist.Hist(\n",
    "                \"Events\",\n",
    "                hist.Cat(\"dataset\", \"Dataset\"),\n",
    "                hist.Bin(\"tau\", \"$\\tau_4$\", 10, 0, 1),\n",
    "            ),\n",
    "            \"nfatjet\": hist.Hist(\n",
    "                \"Events\",\n",
    "                hist.Cat(\"dataset\", \"Dataset\"),\n",
    "                hist.Bin(\"multiplicity\", \"$n_{fatjet}$\", 6, -0.5, 5.5),\n",
    "            ),\n",
    "             #\"cutflow\": processor.defaultdict_accumulator(\n",
    "                # we don't use a lambda function to avoid pickle issues\n",
    "             #   partial(processor.defaultdict_accumulator, int)\n",
    "            #),\n",
    "        }.items()|{}.items()"
   ]
  },
  {
   "cell_type": "code",
   "execution_count": null,
   "id": "2a47ab0e",
   "metadata": {},
   "outputs": [],
   "source": [
    "ak.flatten(fatjet_events.fatjet_msoftdrop[ak.argsort(fatjet_events.fatjet_pt, ascending=False)][:,0:1], axis=1)"
   ]
  },
  {
   "cell_type": "code",
   "execution_count": null,
   "id": "9f38d433",
   "metadata": {},
   "outputs": [],
   "source": [
    "varis"
   ]
  },
  {
   "cell_type": "code",
   "execution_count": null,
   "id": "bcdffc71",
   "metadata": {},
   "outputs": [],
   "source": [
    "for vari in varis:\n",
    "    varis[vari][0] = ak.flatten(ak.concatenate([events_11[vari],events_12[vari]]))\n",
    "    varis[vari][1] = ak.flatten(ak.concatenate([events_21[vari],events_22[vari]]))\n",
    "    varis[vari][2] = ak.flatten(ak.concatenate([events_31[vari],events_32[vari]]))\n",
    "    varis[vari][3] = ak.flatten(ak.concatenate([events_41[vari],events_42[vari]]))"
   ]
  },
  {
   "cell_type": "code",
   "execution_count": null,
   "id": "21c2e961",
   "metadata": {},
   "outputs": [],
   "source": [
    "varis"
   ]
  },
  {
   "cell_type": "code",
   "execution_count": null,
   "id": "1b54d37e",
   "metadata": {},
   "outputs": [],
   "source": [
    "len(varis['metpuppi_pt'][3])"
   ]
  },
  {
   "cell_type": "code",
   "execution_count": null,
   "id": "d859b029",
   "metadata": {},
   "outputs": [],
   "source": [
    "import matplotlib.pyplot as plt\n",
    "import mplhep as hep\n",
    "plt.style.use(hep.style.CMS)"
   ]
  },
  {
   "cell_type": "code",
   "execution_count": null,
   "id": "bdc8b598",
   "metadata": {},
   "outputs": [],
   "source": [
    "for vari in varis:\n",
    "    plt.hist(varis[vari][0], bins=varis[vari][4], histtype = 'step', label = 'MH3_1500_MH4_150_Mchi_10')\n",
    "    plt.hist(varis[vari][1], bins=varis[vari][4], histtype = 'step', label = 'MH3_1500_MH4_250_Mchi_10')\n",
    "    plt.hist(varis[vari][2], bins=varis[vari][4], histtype = 'step', label = 'MH3_1500_MH4_300_Mchi_10') \n",
    "    plt.hist(varis[vari][3], bins=varis[vari][4], histtype = 'step', label = 'MH3_1500_MH4_400_Mchi_10')\n",
    "    plt.xlabel(varis[vari][5])\n",
    "    plt.ylabel(r'Events')\n",
    "    plt.legend(prop={'size': 13})\n",
    "    plt.savefig('/home/users/ewallace/public_html/HbbMET/delphes_'+str(vari)+'.png')\n",
    "    plt.clf()"
   ]
  }
 ],
 "metadata": {
  "kernelspec": {
   "display_name": "coffeadev",
   "language": "python",
   "name": "coffeadev"
  },
  "language_info": {
   "codemirror_mode": {
    "name": "ipython",
    "version": 3
   },
   "file_extension": ".py",
   "mimetype": "text/x-python",
   "name": "python",
   "nbconvert_exporter": "python",
   "pygments_lexer": "ipython3",
   "version": "3.9.7"
  }
 },
 "nbformat": 4,
 "nbformat_minor": 5
}
