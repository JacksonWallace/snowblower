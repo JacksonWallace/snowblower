{
 "cells": [
  {
   "cell_type": "code",
   "execution_count": null,
   "id": "418d9395",
   "metadata": {},
   "outputs": [],
   "source": [
    "import uproot\n",
    "import awkward as ak\n",
    "import numpy as np\n",
    "from coffea.nanoevents import NanoEventsFactory, NanoAODSchema, BaseSchema, DelphesSchema\n",
    "from coffea import hist, processor\n",
    "from yahist import Hist1D, Hist2D"
   ]
  },
  {
   "cell_type": "code",
   "execution_count": null,
   "id": "f1e04b97",
   "metadata": {},
   "outputs": [],
   "source": [
    "from tools.helpers import *"
   ]
  },
  {
   "cell_type": "code",
   "execution_count": null,
   "id": "296cd07c",
   "metadata": {
    "scrolled": true
   },
   "outputs": [],
   "source": [
    "events_150 = NanoEventsFactory.from_root(\n",
    "        '/nfs-7/userdata/ewallace/Hbb_MET/2HDMA_bb-gg_YY_XX_10_v4/2HDMa_bb_1500_150_10_delphes_ntuple.root:myana',\n",
    "        treepath='mytree',\n",
    "        schemaclass = BaseSchema,\n",
    "        #entry_stop = n_max,\n",
    "    ).events()\n",
    "\n",
    "events_250 = NanoEventsFactory.from_root(\n",
    "        '/nfs-7/userdata/ewallace/Hbb_MET/2HDMA_bb-gg_YY_XX_10_v4/2HDMa_bb_1500_250_10_delphes_ntuple.root',\n",
    "        treepath='myana/mytree',\n",
    "        schemaclass = BaseSchema,\n",
    "        #entry_stop = n_max,\n",
    "    ).events()\n",
    "\n",
    "events_350 = NanoEventsFactory.from_root(\n",
    "        '/nfs-7/userdata/ewallace/Hbb_MET/2HDMA_bb-gg_YY_XX_10_v4/2HDMa_bb_1500_350_10_delphes_ntuple.root',\n",
    "        treepath='myana/mytree',\n",
    "        schemaclass = BaseSchema,\n",
    "        #entry_stop = n_max,\n",
    "    ).events()\n",
    "\n",
    "events_500 = NanoEventsFactory.from_root(\n",
    "        '/nfs-7/userdata/ewallace/Hbb_MET/2HDMA_bb-gg_YY_XX_10_v4/2HDMa_bb_1500_500_10_delphes_ntuple.root',\n",
    "        treepath='myana/mytree',\n",
    "        schemaclass = BaseSchema,\n",
    "        #entry_stop = n_max,\n",
    "    ).events()   \n",
    "\n",
    "events_750 = NanoEventsFactory.from_root(\n",
    "        '/nfs-7/userdata/ewallace/Hbb_MET/2HDMA_bb-gg_YY_XX_10_v4/2HDMa_bb_1500_750_10_delphes_ntuple.root',\n",
    "        treepath='myana/mytree',\n",
    "        schemaclass = BaseSchema,\n",
    "        #entry_stop = n_max,\n",
    "    ).events()"
   ]
  },
  {
   "cell_type": "code",
   "execution_count": null,
   "id": "cf8df560",
   "metadata": {},
   "outputs": [],
   "source": [
    "events_bb_1750_750 = NanoEventsFactory.from_root(\n",
    "        '/nfs-7/userdata/ewallace/Hbb_MET/2HDMA_bb-gg_YY_XX_10_v4/2HDMa_gg_2000_750_10_delphes_ntuple.root',\n",
    "        treepath='myana/mytree',\n",
    "        schemaclass = BaseSchema,\n",
    "        #entry_stop = n_max,\n",
    "    ).events()"
   ]
  },
  {
   "cell_type": "code",
   "execution_count": null,
   "id": "fe74fa43",
   "metadata": {},
   "outputs": [],
   "source": [
    "len(events_bb_1750_750)"
   ]
  },
  {
   "cell_type": "code",
   "execution_count": null,
   "id": "c430eae4",
   "metadata": {},
   "outputs": [],
   "source": [
    "from yaml import Loader, Dumper\n",
    "import yaml\n",
    "    \n",
    "with open('../data/samples.yaml', 'r') as f:\n",
    "    samples = yaml.load(f, Loader = Loader)\n",
    "\n",
    "fileset = {\n",
    "            #'TT_TuneCUETP8M2T4_14TeV-powheg-pythia8_200PU': samples['TT_TuneCUETP8M2T4_14TeV-powheg-pythia8_200PU']['skim'],\n",
    "            #'ZJetsToNuNu_HT-100To200_14TeV-madgraph_200PU': samples['ZJetsToNuNu_HT-100To200_14TeV-madgraph_200PU']['skim'],\n",
    "            'ZJetsToNuNu_HT-200To400_14TeV-madgraph_200PU': samples['ZJetsToNuNu_HT-200To400_14TeV-madgraph_200PU']['skim'],\n",
    "            'ZJetsToNuNu_HT-400To600_14TeV-madgraph_200PU': samples['ZJetsToNuNu_HT-400To600_14TeV-madgraph_200PU']['skim'],\n",
    "            'ZJetsToNuNu_HT-600To800_14TeV-madgraph_200PU': samples['ZJetsToNuNu_HT-600To800_14TeV-madgraph_200PU']['skim'],\n",
    "            'ZJetsToNuNu_HT-800To1200_14TeV-madgraph_200PU': samples['ZJetsToNuNu_HT-800To1200_14TeV-madgraph_200PU']['skim'],\n",
    "            'ZJetsToNuNu_HT-1200To2500_14TeV-madgraph_200PU': samples['ZJetsToNuNu_HT-1200To2500_14TeV-madgraph_200PU']['skim'],\n",
    "            #'W0JetsToLNu_TuneCUETP8M1_14TeV-madgraphMLM-pythia8_200PU': samples['W0JetsToLNu_TuneCUETP8M1_14TeV-madgraphMLM-pythia8_200PU']['skim'],\n",
    "            #'W1JetsToLNu_TuneCUETP8M1_14TeV-madgraphMLM-pythia8_200PU': samples['W1JetsToLNu_TuneCUETP8M1_14TeV-madgraphMLM-pythia8_200PU']['skim'],\n",
    "            #'W2JetsToLNu_TuneCUETP8M1_14TeV-madgraphMLM-pythia8_200PU': samples['W2JetsToLNu_TuneCUETP8M1_14TeV-madgraphMLM-pythia8_200PU']['skim'],\n",
    "            #'W3JetsToLNu_TuneCUETP8M1_14TeV-madgraphMLM-pythia8_200PU': samples['W3JetsToLNu_TuneCUETP8M1_14TeV-madgraphMLM-pythia8_200PU']['skim'],\n",
    "            #'2HDMa_bb_sinp_0.35_tanb_1.0_mXd_10_MH3_1500_MH4_150_MH2_1500_MHC_1500': samples['2HDMa_bb_sinp_0.35_tanb_1.0_mXd_10_MH3_1500_MH4_150_MH2_1500_MHC_1500']['ntuples'],\n",
    "            #'2HDMa_bb_sinp_0.35_tanb_1.0_mXd_10_MH3_1500_MH4_250_MH2_1500_MHC_1500': samples['2HDMa_bb_sinp_0.35_tanb_1.0_mXd_10_MH3_1500_MH4_250_MH2_1500_MHC_1500']['ntuples'],\n",
    "            #'2HDMa_bb_sinp_0.35_tanb_1.0_mXd_10_MH3_1500_MH4_350_MH2_1500_MHC_1500': samples['2HDMa_bb_sinp_0.35_tanb_1.0_mXd_10_MH3_1500_MH4_350_MH2_1500_MHC_1500']['ntuples'],\n",
    "            #'2HDMa_bb_sinp_0.35_tanb_1.0_mXd_10_MH3_1500_MH4_500_MH2_1500_MHC_1500': samples['2HDMa_bb_sinp_0.35_tanb_1.0_mXd_10_MH3_1500_MH4_500_MH2_1500_MHC_1500']['ntuples'],\n",
    "            #'2HDMa_bb_sinp_0.35_tanb_1.0_mXd_10_MH3_1500_MH4_750_MH2_1500_MHC_1500': samples['2HDMa_bb_sinp_0.35_tanb_1.0_mXd_10_MH3_1500_MH4_750_MH2_1500_MHC_1500']['ntuples'],\n",
    "        }\n",
    "\n",
    "meta_accumulator = {}\n",
    "for sample in fileset:\n",
    "    if sample not in meta_accumulator:\n",
    "        meta_accumulator.update({sample: processor.defaultdict_accumulator(int)})\n",
    "    for f in fileset[sample]:\n",
    "        meta_accumulator.update({f: processor.defaultdict_accumulator(int)})"
   ]
  },
  {
   "cell_type": "code",
   "execution_count": null,
   "id": "c497cb02",
   "metadata": {},
   "outputs": [],
   "source": [
    "events_250 = NanoEventsFactory.from_root(\n",
    "        samples['ZJetsToNuNu_HT-200To400_14TeV-madgraph_200PU']['skim'][0],\n",
    "        treepath='mytree',\n",
    "        schemaclass = BaseSchema,\n",
    "        #entry_stop = n_max,\n",
    "    ).events()"
   ]
  },
  {
   "cell_type": "code",
   "execution_count": null,
   "id": "5401c55c",
   "metadata": {},
   "outputs": [],
   "source": [
    "electron = get_four_vec_fromPtEtaPhiM(\n",
    "            None,\n",
    "            pt = events_250.elec_pt,\n",
    "            eta = events_250.elec_eta,\n",
    "            phi = events_250.elec_phi,\n",
    "            M = events_250.elec_mass,\n",
    "            copy = False,\n",
    "        )\n",
    "electron['id'] = events_250.elec_idpass  # > 0 should be loose\n",
    "electron['iso'] = events_250.elec_isopass\n",
    "electron['charge'] = events_250.elec_charge\n",
    "\n",
    "ele_l = electron[((electron['id']>0)&(electron['iso']>0)&(electron.pt>10)&(np.abs(electron.eta)<3))]\n",
    "        \n",
    "        #muons\n",
    "        \n",
    "muon = get_four_vec_fromPtEtaPhiM(\n",
    "            None,\n",
    "            pt = events_250.muon_pt,\n",
    "            eta = events_250.muon_eta,\n",
    "            phi = events_250.muon_phi,\n",
    "            M = events_250.muon_mass,\n",
    "            copy = False,\n",
    "        )\n",
    "muon['id'] = events_250.muon_idpass  # > 0 should be loose\n",
    "muon['iso'] = events_250.muon_isopass\n",
    "muon['charge'] = events_250.muon_charge\n",
    "\n",
    "muon_l = muon[((muon['id']>0)&(muon['iso']>0)&(muon.pt>4)&(np.abs(muon.eta)<2.8))]\n",
    "        \n",
    "#taus\n",
    "        \n",
    "tau = get_four_vec_fromPtEtaPhiM(\n",
    "            None,\n",
    "            pt = events_250.tau_pt,\n",
    "            eta = events_250.tau_eta,\n",
    "            phi = events_250.tau_phi,\n",
    "            M = events_250.tau_mass,\n",
    "            copy = False,\n",
    "        )\n",
    "tau['iso'] = events_250.tau_isopass   # > 0 should be loose\n",
    "tau['charge'] = events_250.tau_charge\n",
    "\n",
    "tau_l = tau[((tau['iso']>0)&(tau.pt>30)&(np.abs(tau.eta)<3))]\n",
    "        \n",
    "#photons\n",
    "        \n",
    "gamma = get_four_vec_fromPtEtaPhiM(\n",
    "            None,\n",
    "            pt = events_250.gamma_pt,\n",
    "            eta = events_250.gamma_eta,\n",
    "            phi = events_250.gamma_phi,\n",
    "            M = events_250.gamma_mass,\n",
    "            copy = False,\n",
    "        )\n",
    "gamma['id'] = events_250.gamma_idpass  # > 0 should be loose\n",
    "gamma['iso'] = events_250.gamma_isopass\n",
    "\n",
    "gamma_l = gamma[((gamma['id']>0)&(gamma['iso']>0)&(gamma.pt>20)&(np.abs(gamma.eta)<3))]\n",
    "\n",
    "\n",
    "jet = get_four_vec_fromPtEtaPhiM(\n",
    "            None,\n",
    "            pt = events_250.jetpuppi_pt,\n",
    "            eta = events_250.jetpuppi_eta,\n",
    "            phi = events_250.jetpuppi_phi,\n",
    "            M = events_250.jetpuppi_mass,\n",
    "            copy = False,\n",
    "        )\n",
    "jet['id'] = events_250.jetpuppi_idpass\n",
    "jet['btag'] = events_250.jetpuppi_btag\n",
    "        \n",
    "        \n",
    "#follow Delphes recommendations\n",
    "jet = jet[jet.pt > 30]\n",
    "jet = jet[jet.id > 0]\n",
    "jet = jet[np.abs(jet.eta) < 3] #eta within tracker range\n",
    "        \n",
    "jet = jet[~match(jet, electron, deltaRCut=0.4)] #remove electron overlap\n",
    "jet = jet[~match(jet, muon, deltaRCut=0.4)] #remove muon overlap\n",
    "\n",
    "btag = jet[jet.btag>0] #loose wp for now\n",
    "        \n",
    "#fatjets\n",
    "\n",
    "# Need FatJets and GenParts\n",
    "# FatJets start at pt>200 and go all the way to eta 3.x\n",
    "# This should be fine?\n",
    "# Objects are defined here: https://twiki.cern.ch/twiki/bin/view/CMS/DelphesInstructions\n",
    "# Maybe restrict abs(eta) to 2.8 or 3 (whatever the tracker acceptance of PhaseII CMS is)\n",
    "fatjet = get_four_vec_fromPtEtaPhiM(\n",
    "            None,\n",
    "            pt = events_250.fatjet_pt,\n",
    "            eta = events_250.fatjet_eta,\n",
    "            phi = events_250.fatjet_phi,\n",
    "            M = events_250.fatjet_msoftdrop,        #Using softdrop from now on\n",
    "            copy = False,\n",
    "        )\n",
    "        \n",
    "#fatjet['m'] = events.fatjet_mass\n",
    "fatjet['tau1'] = events_250.fatjet_tau1\n",
    "fatjet['tau2'] = events_250.fatjet_tau2\n",
    "fatjet['tau3'] = events_250.fatjet_tau3\n",
    "fatjet['tau4'] = events_250.fatjet_tau4\n",
    "        \n",
    "#eta within tracker range\n",
    "fatjet = fatjet[np.abs(fatjet.eta) < 3]\n",
    "fatjet = fatjet[ak.argsort(fatjet.pt, ascending=False)]\n",
    "        \n",
    "fatjet_on_h = fatjet[np.abs(fatjet.mass-125)<25]\n",
    "on_h = (ak.num(fatjet_on_h) > 0)\n",
    "        \n",
    "lead_fatjet = fatjet[:,0:1]\n",
    "#sublead_fatjet = fatjet[:,1:2] \n",
    "        \n",
    "lead_fatjets = fatjet[:,0:2]\n",
    "difatjet = choose(lead_fatjets, 2)\n",
    "dphiDiFatJet = np.arccos(np.cos(difatjet['0'].phi-difatjet['1'].phi))\n",
    "        \n",
    "tau21 = np.divide(lead_fatjet.tau2, lead_fatjet.tau1)\n",
    "        \n",
    "extrajet  = jet[~match(jet, fatjet, deltaRCut=1.2)] # remove AK4 jets that overlap with AK8 jets\n",
    "extrabtag = extrajet[extrajet.btag>0] #loose wp for now]\n",
    "extrajet = extrajet[ak.argsort(extrajet.pt, ascending=False)]\n",
    "extrabtag = extrabtag[ak.argsort(extrabtag.pt, ascending=False)]\n",
    "lead_extrajet = extrajet[:,0:1]\n",
    "lead_extrabtag = extrabtag[:,0:1]\n",
    "\n",
    "met_pt = ak.flatten(events_250.metpuppi_pt)\n",
    "met_phi = ak.flatten(events_250.metpuppi_phi)"
   ]
  },
  {
   "cell_type": "code",
   "execution_count": null,
   "id": "a635014e",
   "metadata": {},
   "outputs": [],
   "source": [
    "lead_fatjets = fatjet[:,0:2]\n",
    "difatjet = choose(lead_fatjets, 2)\n",
    "dphiDiFatJet = np.arccos(np.cos(difatjet['0'].phi-difatjet['1'].phi))"
   ]
  },
  {
   "cell_type": "code",
   "execution_count": null,
   "id": "0013cf55",
   "metadata": {},
   "outputs": [],
   "source": [
    "extrajet  = jet[~match(jet, fatjet, deltaRCut=1.2)] # remove AK4 jets that overlap with AK8 jets\n",
    "extrabtag = extrajet[extrajet.btag>0] #loose wp for now]\n",
    "extrajet = extrajet[ak.argsort(extrajet.pt, ascending=False)]\n",
    "extrabtag = extrabtag[ak.argsort(extrabtag.pt, ascending=False)]\n",
    "lead_extrajet = extrajet[:,0:1]\n",
    "lead_extrabtag = extrabtag[:,0:1]"
   ]
  },
  {
   "cell_type": "code",
   "execution_count": null,
   "id": "193c8a34",
   "metadata": {},
   "outputs": [],
   "source": [
    "dphileadextrajet = delta_phi_alt_paf(lead_fatjet, lead_extrajet)"
   ]
  },
  {
   "cell_type": "code",
   "execution_count": null,
   "id": "1a7e6d11",
   "metadata": {},
   "outputs": [],
   "source": [
    "lead_fatjet.phi"
   ]
  },
  {
   "cell_type": "code",
   "execution_count": null,
   "id": "7047f471",
   "metadata": {},
   "outputs": [],
   "source": [
    "met_phi"
   ]
  },
  {
   "cell_type": "code",
   "execution_count": null,
   "id": "aef4adf6",
   "metadata": {},
   "outputs": [],
   "source": [
    "run2_to_delphes = {\n",
    "            'ZJetsToNuNu_HT-200To400_14TeV-madgraph_200PU': 'ZJetsToNuNu_HT-200To400_TuneCP5_13TeV-madgraphMLM-pythia8',\n",
    "            'ZJetsToNuNu_HT-400To600_14TeV-madgraph_200PU': 'ZJetsToNuNu_HT-400To600_TuneCP5_13TeV-madgraphMLM-pythia8',\n",
    "            'ZJetsToNuNu_HT-600To800_14TeV-madgraph_200PU': 'ZJetsToNuNu_HT-600To800_TuneCP5_13TeV-madgraphMLM-pythia8',\n",
    "            'ZJetsToNuNu_HT-800To1200_14TeV-madgraph_200PU': 'ZJetsToNuNu_HT-800To1200_TuneCP5_13TeV-madgraphMLM-pythia8',\n",
    "            'ZJetsToNuNu_HT-1200To2500_14TeV-madgraph_200PU': 'ZJetsToNuNu_HT-1200To2500_TuneCP5_13TeV-madgraphMLM-pythia8',\n",
    "}\n",
    "\n",
    "effs = {}\n",
    "for s in fileset.keys():\n",
    "    effs[s] = {}\n",
    "    for b in ['0b', '1b', '2b', '1h']:\n",
    "        effs[s][b] = Hist2D.from_json(os.path.expandvars(\"../data/htag/eff_%s_%s.json\"%(run2_to_delphes[s],b)))"
   ]
  },
  {
   "cell_type": "code",
   "execution_count": null,
   "id": "822933a8",
   "metadata": {},
   "outputs": [],
   "source": [
    "gen = get_four_vec_fromPtEtaPhiM(\n",
    "            None,\n",
    "            pt = events_250.genpart_pt,\n",
    "            eta = events_250.genpart_eta,\n",
    "            phi = events_250.genpart_phi,\n",
    "            M = events_250.genpart_mass,\n",
    "            copy = False,\n",
    "        )\n",
    "gen['pdgId'] = events_250.genpart_pid\n",
    "gen['status'] = events_250.genpart_status\n",
    "\n",
    "higgs = gen[((abs(gen.pdgId)==25)&(gen.status==62))]\n",
    "\n",
    "bquark = gen[((abs(gen.pdgId)==5)&(gen.status==71))]\n",
    "        \n",
    "nb_in_fat = match_count(fatjet, bquark, deltaRCut=0.8)\n",
    "nhiggs_in_fat = match_count(fatjet, higgs, deltaRCut=0.8)\n",
    "zerohiggs = (nhiggs_in_fat==0)\n",
    "onehiggs = (nhiggs_in_fat==1)\n",
    "        \n",
    "zerob = ((nb_in_fat==0) & (zerohiggs))  # verified to work!\n",
    "oneb  = ((nb_in_fat==1) & (zerohiggs))  # verified to work!\n",
    "twob  = ((nb_in_fat>=2) & (zerohiggs))  # verified to work!\n",
    "        \n",
    "w_0b = get_weight(effs['ZJetsToNuNu_HT-200To400_14TeV-madgraph_200PU']['0b'], fatjet.pt, fatjet.eta)\n",
    "w_1b = get_weight(effs['ZJetsToNuNu_HT-200To400_14TeV-madgraph_200PU']['1b'], fatjet.pt, fatjet.eta)\n",
    "w_2b = get_weight(effs['ZJetsToNuNu_HT-200To400_14TeV-madgraph_200PU']['2b'], fatjet.pt, fatjet.eta)\n",
    "w_1h = get_weight(effs['ZJetsToNuNu_HT-200To400_14TeV-madgraph_200PU']['1h'], fatjet.pt, fatjet.eta)\n",
    "        \n",
    "w_all = w_0b * zerob + w_1b * oneb + w_2b * twob # + w_1h * onehiggs  # this should work\n",
    "if not np.isnan(sum(sum(effs['ZJetsToNuNu_HT-200To400_14TeV-madgraph_200PU']['1h'].counts))):\n",
    "#        np.isnan(sum(ak.flatten(w_1h * onehiggs))):\n",
    "    w_all = w_all + w_1h * onehiggs"
   ]
  },
  {
   "cell_type": "code",
   "execution_count": null,
   "id": "0be8b00c",
   "metadata": {},
   "outputs": [],
   "source": [
    "ak.to_numpy(min_dphiFatJetMet4[baseline])"
   ]
  },
  {
   "cell_type": "code",
   "execution_count": null,
   "id": "9424262b",
   "metadata": {},
   "outputs": [],
   "source": [
    "np.nan_to_num(1-ak.prod(1-w_all[baseline], axis=1), 0)"
   ]
  },
  {
   "cell_type": "code",
   "execution_count": null,
   "id": "4f768bb5",
   "metadata": {},
   "outputs": [],
   "source": [
    "fatjet_on_h = fatjet[np.abs(fatjet.mass-125)<25]\n",
    "on_h = (ak.num(fatjet_on_h) > 0)\n",
    "mt_fj_met = mt(fatjet_on_h.pt, fatjet_on_h.phi, met_pt, met_phi)\n",
    "min_mt_fj_met = ak.min(mt_fj_met, axis=1, mask_identity=False)\n",
    "min_dphiFatJetMet4 = ak.min(np.arccos(np.cos(fatjet[:,:4].phi-met_phi)), axis=1)\n",
    "min_dphiJetMetAll = ak.min(np.arccos(np.cos(jet.phi-met_phi)), axis=1)"
   ]
  },
  {
   "cell_type": "code",
   "execution_count": null,
   "id": "86baf9eb",
   "metadata": {},
   "outputs": [],
   "source": [
    "min_dphiFatJetMet4[min_dphiFatJetMet4>4]"
   ]
  },
  {
   "cell_type": "code",
   "execution_count": null,
   "id": "bed697d5",
   "metadata": {},
   "outputs": [],
   "source": [
    "min_dphiJetMetAll[min_dphiJetMetAll>4]"
   ]
  },
  {
   "cell_type": "code",
   "execution_count": null,
   "id": "50337da6",
   "metadata": {},
   "outputs": [],
   "source": [
    "ele_sel = (ak.num(ele_l)==0)\n",
    "mu_sel = ((ak.num(muon_l)==0) & ele_sel)\n",
    "tau_sel = ((ak.num(tau_l)==0) & mu_sel)\n",
    "met_sel = (tau_sel & (met_pt>200))\n",
    "baseline = ((ak.num(fatjet)>0) & met_sel)\n",
    "min_dphiFatJetMet4_sel = ((min_dphiFatJetMet4 > 0.5) & baseline)\n",
    "dphiDiFatJet_sel = (ak.all(dphiDiFatJet < 2.5, axis=1) & min_dphiFatJetMet4_sel)\n",
    "on_h_sel = (on_h & dphiDiFatJet_sel)\n",
    "min_mt = ((min_mt_fj_met > 200) & on_h_sel)"
   ]
  },
  {
   "cell_type": "code",
   "execution_count": null,
   "id": "925a39ce",
   "metadata": {},
   "outputs": [],
   "source": [
    "min_dphiFatJetMet4_sel = ak.to_numpy((min_dphiFatJetMet4 > 0.5) & baseline)"
   ]
  },
  {
   "cell_type": "code",
   "execution_count": null,
   "id": "d09c0829",
   "metadata": {},
   "outputs": [],
   "source": [
    "min_dphiFatJetMet4_sel"
   ]
  }
 ],
 "metadata": {
  "kernelspec": {
   "display_name": "coffeadev",
   "language": "python",
   "name": "coffeadev"
  },
  "language_info": {
   "codemirror_mode": {
    "name": "ipython",
    "version": 3
   },
   "file_extension": ".py",
   "mimetype": "text/x-python",
   "name": "python",
   "nbconvert_exporter": "python",
   "pygments_lexer": "ipython3",
   "version": "3.9.7"
  }
 },
 "nbformat": 4,
 "nbformat_minor": 5
}
