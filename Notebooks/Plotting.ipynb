{
 "cells": [
  {
   "cell_type": "code",
   "execution_count": null,
   "id": "418d9395",
   "metadata": {},
   "outputs": [],
   "source": [
    "import uproot\n",
    "import awkward as ak\n",
    "import numpy as np\n",
    "from coffea.nanoevents import NanoEventsFactory, NanoAODSchema, BaseSchema, DelphesSchema\n",
    "from coffea import hist, processor"
   ]
  },
  {
   "cell_type": "code",
   "execution_count": null,
   "id": "f1e04b97",
   "metadata": {},
   "outputs": [],
   "source": [
    "from tools.helpers import *"
   ]
  },
  {
   "cell_type": "code",
   "execution_count": null,
   "id": "296cd07c",
   "metadata": {},
   "outputs": [],
   "source": [
    "events_150 = NanoEventsFactory.from_root(\n",
    "        '/nfs-7/userdata/ewallace/Hbb_MET/2HDMA_bb_1500_XX_10_v4/2HDMa_bb_1500_150_10_delphes_ntuple.root',\n",
    "        treepath='myana/mytree',\n",
    "        schemaclass = BaseSchema,\n",
    "        #entry_stop = n_max,\n",
    "    ).events()\n",
    "\n",
    "events_250 = NanoEventsFactory.from_root(\n",
    "        '/nfs-7/userdata/ewallace/Hbb_MET/2HDMA_bb_1500_XX_10_v4/2HDMa_bb_1500_250_10_delphes_ntuple.root',\n",
    "        treepath='myana/mytree',\n",
    "        schemaclass = BaseSchema,\n",
    "        #entry_stop = n_max,\n",
    "    ).events()\n",
    "\n",
    "events_350 = NanoEventsFactory.from_root(\n",
    "        '/nfs-7/userdata/ewallace/Hbb_MET/2HDMA_bb_1500_XX_10_v4/2HDMa_bb_1500_350_10_delphes_ntuple.root',\n",
    "        treepath='myana/mytree',\n",
    "        schemaclass = BaseSchema,\n",
    "        #entry_stop = n_max,\n",
    "    ).events()\n",
    "\n",
    "events_500 = NanoEventsFactory.from_root(\n",
    "        '/nfs-7/userdata/ewallace/Hbb_MET/2HDMA_bb_1500_XX_10_v4/2HDMa_bb_1500_500_10_delphes_ntuple.root',\n",
    "        treepath='myana/mytree',\n",
    "        schemaclass = BaseSchema,\n",
    "        #entry_stop = n_max,\n",
    "    ).events()   \n",
    "\n",
    "events_750 = NanoEventsFactory.from_root(\n",
    "        '/nfs-7/userdata/ewallace/Hbb_MET/2HDMA_bb_1500_XX_10_v4/2HDMa_bb_1500_750_10_delphes_ntuple.root',\n",
    "        treepath='myana/mytree',\n",
    "        schemaclass = BaseSchema,\n",
    "        #entry_stop = n_max,\n",
    "    ).events()"
   ]
  },
  {
   "cell_type": "code",
   "execution_count": null,
   "id": "5401c55c",
   "metadata": {},
   "outputs": [],
   "source": [
    "electron = get_four_vec_fromPtEtaPhiM(\n",
    "            None,\n",
    "            pt = events_750.elec_pt,\n",
    "            eta = events_750.elec_eta,\n",
    "            phi = events_750.elec_phi,\n",
    "            M = events_750.elec_mass,\n",
    "            copy = False,\n",
    "        )\n",
    "electron['id'] = events_750.elec_idpass  # > 0 should be loose\n",
    "electron['iso'] = events_750.elec_isopass\n",
    "electron['charge'] = events_750.elec_charge\n",
    "\n",
    "ele_l = electron[((electron['id']>0)&(electron['iso']>0)&(electron.pt>10)&(np.abs(electron.eta)<3))]\n",
    "        \n",
    "        #muons\n",
    "        \n",
    "muon = get_four_vec_fromPtEtaPhiM(\n",
    "            None,\n",
    "            pt = events_750.muon_pt,\n",
    "            eta = events_750.muon_eta,\n",
    "            phi = events_750.muon_phi,\n",
    "            M = events_750.muon_mass,\n",
    "            copy = False,\n",
    "        )\n",
    "muon['id'] = events_750.muon_idpass  # > 0 should be loose\n",
    "muon['iso'] = events_750.muon_isopass\n",
    "muon['charge'] = events_750.muon_charge\n",
    "\n",
    "muon_l = muon[((muon['id']>0)&(muon['iso']>0)&(muon.pt>4)&(np.abs(muon.eta)<2.8))]\n",
    "        \n",
    "#taus\n",
    "        \n",
    "tau = get_four_vec_fromPtEtaPhiM(\n",
    "            None,\n",
    "            pt = events_750.tau_pt,\n",
    "            eta = events_750.tau_eta,\n",
    "            phi = events_750.tau_phi,\n",
    "            M = events_750.tau_mass,\n",
    "            copy = False,\n",
    "        )\n",
    "tau['iso'] = events_750.tau_isopass   # > 0 should be loose\n",
    "tau['charge'] = events_750.tau_charge\n",
    "\n",
    "tau_l = tau[((tau['iso']>0)&(tau.pt>30)&(np.abs(tau.eta)<3))]\n",
    "        \n",
    "#photons\n",
    "        \n",
    "gamma = get_four_vec_fromPtEtaPhiM(\n",
    "            None,\n",
    "            pt = events_750.gamma_pt,\n",
    "            eta = events_750.gamma_eta,\n",
    "            phi = events_750.gamma_phi,\n",
    "            M = events_750.gamma_mass,\n",
    "            copy = False,\n",
    "        )\n",
    "gamma['id'] = events_750.gamma_idpass  # > 0 should be loose\n",
    "gamma['iso'] = events_750.gamma_isopass\n",
    "\n",
    "gamma_l = gamma[((gamma['id']>0)&(gamma['iso']>0)&(gamma.pt>20)&(np.abs(gamma.eta)<3))]\n",
    "\n",
    "\n",
    "fatjet = get_four_vec_fromPtEtaPhiM(\n",
    "            None,\n",
    "            pt = events_750.fatjet_pt,\n",
    "            eta = events_750.fatjet_eta,\n",
    "            phi = events_750.fatjet_phi,\n",
    "            M = events_750.fatjet_mass,\n",
    "            copy = False,\n",
    "        )\n",
    "\n",
    "met = ak.flatten(events_750.metpuppi_pt)"
   ]
  },
  {
   "cell_type": "code",
   "execution_count": null,
   "id": "ab50e6ca",
   "metadata": {},
   "outputs": [],
   "source": [
    "lead_fatjet = fatjet[:,0:1]"
   ]
  },
  {
   "cell_type": "code",
   "execution_count": null,
   "id": "0277b322",
   "metadata": {},
   "outputs": [],
   "source": [
    "gen = get_four_vec_fromPtEtaPhiM(\n",
    "            None,\n",
    "            pt = events_750.genpart_pt,\n",
    "            eta = events_750.genpart_eta,\n",
    "            phi = events_750.genpart_phi,\n",
    "            M = events_750.genpart_mass,\n",
    "            copy = False,\n",
    "        )\n",
    "gen['pdgId'] = events_750.genpart_pid\n",
    "#gen['status'] = events.genpart_status\n",
    "higgs = gen[(gen.pdgId==25)][:,-1:]  # only keep the last copy. status codes seem messed up?\n",
    "\n",
    "matched_jet = fatjet[match(fatjet, higgs, deltaRCut=0.8)]"
   ]
  },
  {
   "cell_type": "code",
   "execution_count": null,
   "id": "fbb4ba7c",
   "metadata": {},
   "outputs": [],
   "source": [
    "delta_r_paf(matched_jet[:,0:1], lead_fatjet)"
   ]
  },
  {
   "cell_type": "code",
   "execution_count": null,
   "id": "1356a38e",
   "metadata": {
    "scrolled": true
   },
   "outputs": [],
   "source": [
    "ak.to_numpy(delta_r_paf(matched_jet[:,0:1], lead_fatjet))"
   ]
  },
  {
   "cell_type": "code",
   "execution_count": null,
   "id": "345f74ec",
   "metadata": {},
   "outputs": [],
   "source": [
    "plt.hist(ak.to_numpy(delta_r_paf(matched_jet[:,0:1], lead_fatjet)), np.linspace(0,1,10), histtype = 'step', label = '1500_750_10', log=True)"
   ]
  },
  {
   "cell_type": "code",
   "execution_count": null,
   "id": "644019ac",
   "metadata": {},
   "outputs": [],
   "source": [
    "plt.hist(delta_r_paf(matched_jet[:,0:1], lead_fatjet), np.linspace(0,1,11), histtype = 'step', label = '1500_750_10', log=True)"
   ]
  },
  {
   "cell_type": "code",
   "execution_count": null,
   "id": "2779f2ca",
   "metadata": {},
   "outputs": [],
   "source": [
    "met_sel = (met>200)\n",
    "ele_sel = ((ak.num(ele_l)==0) & met_sel)\n",
    "mu_sel = ((ak.num(muon_l)==0) & ele_sel)\n",
    "tau_sel = ((ak.num(tau_l)==0) & mu_sel)\n",
    "baseline = ((ak.num(gamma_l)==0) & tau_sel)"
   ]
  },
  {
   "cell_type": "code",
   "execution_count": null,
   "id": "3864f2de",
   "metadata": {},
   "outputs": [],
   "source": [
    "fatjet[ak.argsort(fatjet.pt, ascending=False)][:,0:1].pt"
   ]
  },
  {
   "cell_type": "code",
   "execution_count": null,
   "id": "ff56dfdd",
   "metadata": {},
   "outputs": [],
   "source": [
    "fatjet.pt[baseline]"
   ]
  },
  {
   "cell_type": "code",
   "execution_count": null,
   "id": "c1f024c9",
   "metadata": {},
   "outputs": [],
   "source": [
    "len(met[baseline])"
   ]
  },
  {
   "cell_type": "code",
   "execution_count": null,
   "id": "f6d8243f",
   "metadata": {},
   "outputs": [],
   "source": [
    "electron_150_pt = events_150.elec_pt[(events_150.elec_pt>10) & (abs(events_150.elec_eta)<3) & (events_150.elec_isopass>0) & (events_150.elec_idpass>0)]\n",
    "electron_250_pt = events_250.elec_pt[(events_250.elec_pt>10) & (abs(events_250.elec_eta)<3) & (events_250.elec_isopass>0) & (events_250.elec_idpass>0)]\n",
    "electron_350_pt = events_350.elec_pt[(events_350.elec_pt>10) & (abs(events_350.elec_eta)<3) & (events_350.elec_isopass>0) & (events_350.elec_idpass>0)]\n",
    "electron_500_pt = events_500.elec_pt[(events_500.elec_pt>10) & (abs(events_500.elec_eta)<3) & (events_500.elec_isopass>0) & (events_500.elec_idpass>0)]\n",
    "electron_750_pt = events_750.elec_pt[(events_750.elec_pt>10) & (abs(events_750.elec_eta)<3) & (events_750.elec_isopass>0) & (events_750.elec_idpass>0)]"
   ]
  },
  {
   "cell_type": "code",
   "execution_count": null,
   "id": "7aa6fb9b",
   "metadata": {},
   "outputs": [],
   "source": [
    "muon_150_pt = events_150.muon_pt[(events_150.muon_pt>4) &(abs(events_150.muon_eta)<2.8) & (events_150.muon_isopass>0) & (events_150.muon_idpass>0)]\n",
    "muon_250_pt = events_250.muon_pt[(events_250.muon_pt>4) &(abs(events_250.muon_eta)<2.8) & (events_250.muon_isopass>0) & (events_250.muon_idpass>0)]\n",
    "muon_350_pt = events_350.muon_pt[(events_350.muon_pt>4) &(abs(events_350.muon_eta)<2.8) & (events_350.muon_isopass>0) & (events_350.muon_idpass>0)]\n",
    "muon_500_pt = events_500.muon_pt[(events_500.muon_pt>4) &(abs(events_500.muon_eta)<2.8) & (events_500.muon_isopass>0) & (events_500.muon_idpass>0)]\n",
    "muon_750_pt = events_750.muon_pt[(events_750.muon_pt>4) &(abs(events_750.muon_eta)<2.8) & (events_750.muon_isopass>0) & (events_750.muon_idpass>0)]"
   ]
  },
  {
   "cell_type": "code",
   "execution_count": null,
   "id": "78713bdc",
   "metadata": {},
   "outputs": [],
   "source": [
    "tau_150_pt = events_150.tau_pt[(events_150.tau_pt>30) &(abs(events_150.tau_eta)<3) & (events_150.tau_isopass>0)]\n",
    "tau_250_pt = events_250.tau_pt[(events_250.tau_pt>30) &(abs(events_250.tau_eta)<3) & (events_250.tau_isopass>0)]\n",
    "tau_350_pt = events_350.tau_pt[(events_350.tau_pt>30) &(abs(events_350.tau_eta)<3) & (events_350.tau_isopass>0)]\n",
    "tau_500_pt = events_500.tau_pt[(events_500.tau_pt>30) &(abs(events_500.tau_eta)<3) & (events_500.tau_isopass>0)]\n",
    "tau_750_pt = events_750.tau_pt[(events_750.tau_pt>30) &(abs(events_750.tau_eta)<3) &(events_750.tau_isopass>0)]"
   ]
  },
  {
   "cell_type": "code",
   "execution_count": null,
   "id": "13fb2b96",
   "metadata": {},
   "outputs": [],
   "source": [
    "gamma_150_pt = events_150.gamma_pt[(events_150.gamma_pt>20) &(abs(events_150.gamma_eta)<3) & (events_150.gamma_isopass>0) & (events_150.gamma_idpass>0)]\n",
    "gamma_250_pt = events_250.gamma_pt[(events_250.gamma_pt>20) &(abs(events_250.gamma_eta)<3) & (events_250.gamma_isopass>0) & (events_250.gamma_idpass>0)]\n",
    "gamma_350_pt = events_350.gamma_pt[(events_350.gamma_pt>20) &(abs(events_350.gamma_eta)<3) & (events_350.gamma_isopass>0) & (events_350.gamma_idpass>0)]\n",
    "gamma_500_pt = events_500.gamma_pt[(events_500.gamma_pt>20) &(abs(events_500.gamma_eta)<3) & (events_500.gamma_isopass>0) & (events_500.gamma_idpass>0)]\n",
    "gamma_750_pt = events_750.gamma_pt[(events_750.gamma_pt>20) &(abs(events_750.gamma_eta)<3) & (events_750.gamma_isopass>0) & (events_750.gamma_idpass>0)]"
   ]
  },
  {
   "cell_type": "code",
   "execution_count": null,
   "id": "a4570161",
   "metadata": {},
   "outputs": [],
   "source": [
    "plt.hist(ak.num(electron_150_pt), np.linspace(-0.5,5.5,7), histtype = 'step', label = '1500_150_10', log=True)\n",
    "plt.hist(ak.num(electron_250_pt), np.linspace(-0.5,5.5,7), histtype = 'step', label = '1500_250_10', log=True)\n",
    "plt.hist(ak.num(electron_350_pt), np.linspace(-0.5,5.5,7), histtype = 'step', label = '1500_350_10', log=True)\n",
    "plt.hist(ak.num(electron_500_pt), np.linspace(-0.5,5.5,7), histtype = 'step', label = '1500_500_10', log=True)\n",
    "plt.hist(ak.num(electron_750_pt), np.linspace(-0.5,5.5,7), histtype = 'step', label = '1500_750_10', log=True)\n",
    "plt.xlabel(r'$N_{electron}$')\n",
    "plt.ylabel(r'Events')\n",
    "plt.legend()"
   ]
  },
  {
   "cell_type": "code",
   "execution_count": null,
   "id": "ee9fc51b",
   "metadata": {},
   "outputs": [],
   "source": [
    "plt.hist(ak.num(electron_150_pt), np.linspace(-0.5,5.5,7), histtype = 'step', label = '1500_150_10')\n",
    "plt.hist(ak.num(electron_250_pt), np.linspace(-0.5,5.5,7), histtype = 'step', label = '1500_250_10')\n",
    "plt.hist(ak.num(electron_350_pt), np.linspace(-0.5,5.5,7), histtype = 'step', label = '1500_350_10')\n",
    "plt.hist(ak.num(electron_500_pt), np.linspace(-0.5,5.5,7), histtype = 'step', label = '1500_500_10')\n",
    "plt.hist(ak.num(electron_750_pt), np.linspace(-0.5,5.5,7), histtype = 'step', label = '1500_750_10')\n",
    "plt.xlabel(r'$N_{electron}$')\n",
    "plt.ylabel(r'Events')\n",
    "plt.legend()"
   ]
  },
  {
   "cell_type": "code",
   "execution_count": null,
   "id": "7dbf9427",
   "metadata": {},
   "outputs": [],
   "source": [
    "plt.hist(ak.num(muon_150_pt), np.linspace(-0.5,5.5,7), histtype = 'step', label = '1500_150_10', log=True)\n",
    "plt.hist(ak.num(muon_250_pt), np.linspace(-0.5,5.5,7), histtype = 'step', label = '1500_250_10', log=True)\n",
    "plt.hist(ak.num(muon_350_pt), np.linspace(-0.5,5.5,7), histtype = 'step', label = '1500_350_10', log=True)\n",
    "plt.hist(ak.num(muon_500_pt), np.linspace(-0.5,5.5,7), histtype = 'step', label = '1500_500_10', log=True)\n",
    "plt.hist(ak.num(muon_750_pt), np.linspace(-0.5,5.5,7), histtype = 'step', label = '1500_750_10', log=True)\n",
    "plt.xlabel(r'$N_{muon}$')\n",
    "plt.ylabel(r'Events')\n",
    "plt.legend()"
   ]
  },
  {
   "cell_type": "code",
   "execution_count": null,
   "id": "63b68c55",
   "metadata": {},
   "outputs": [],
   "source": [
    "plt.hist(ak.num(muon_150_pt), np.linspace(-0.5,5.5,7), histtype = 'step', label = '1500_150_10')\n",
    "plt.hist(ak.num(muon_250_pt), np.linspace(-0.5,5.5,7), histtype = 'step', label = '1500_250_10')\n",
    "plt.hist(ak.num(muon_350_pt), np.linspace(-0.5,5.5,7), histtype = 'step', label = '1500_350_10')\n",
    "plt.hist(ak.num(muon_500_pt), np.linspace(-0.5,5.5,7), histtype = 'step', label = '1500_500_10')\n",
    "plt.hist(ak.num(muon_750_pt), np.linspace(-0.5,5.5,7), histtype = 'step', label = '1500_750_10')\n",
    "plt.xlabel(r'$N_{electron}$')\n",
    "plt.ylabel(r'Events')\n",
    "plt.legend()"
   ]
  },
  {
   "cell_type": "code",
   "execution_count": null,
   "id": "00f0dc37",
   "metadata": {},
   "outputs": [],
   "source": [
    "plt.hist(ak.num(tau_150_pt), np.linspace(-0.5,5.5,7), histtype = 'step', label = '1500_150_10', log=True)\n",
    "plt.hist(ak.num(tau_250_pt), np.linspace(-0.5,5.5,7), histtype = 'step', label = '1500_250_10', log=True)\n",
    "plt.hist(ak.num(tau_350_pt), np.linspace(-0.5,5.5,7), histtype = 'step', label = '1500_350_10', log=True)\n",
    "plt.hist(ak.num(tau_500_pt), np.linspace(-0.5,5.5,7), histtype = 'step', label = '1500_500_10', log=True)\n",
    "plt.hist(ak.num(tau_750_pt), np.linspace(-0.5,5.5,7), histtype = 'step', label = '1500_750_10', log=True)\n",
    "plt.xlabel(r'$N_{\\tau}$')\n",
    "plt.ylabel(r'Events')\n",
    "plt.legend()"
   ]
  },
  {
   "cell_type": "code",
   "execution_count": null,
   "id": "d4f386d3",
   "metadata": {},
   "outputs": [],
   "source": [
    "plt.hist(ak.num(tau_150_pt), np.linspace(-0.5,5.5,7), histtype = 'step', label = '1500_150_10')\n",
    "plt.hist(ak.num(tau_250_pt), np.linspace(-0.5,5.5,7), histtype = 'step', label = '1500_250_10')\n",
    "plt.hist(ak.num(tau_350_pt), np.linspace(-0.5,5.5,7), histtype = 'step', label = '1500_350_10')\n",
    "plt.hist(ak.num(tau_500_pt), np.linspace(-0.5,5.5,7), histtype = 'step', label = '1500_500_10')\n",
    "plt.hist(ak.num(tau_750_pt), np.linspace(-0.5,5.5,7), histtype = 'step', label = '1500_750_10')\n",
    "plt.xlabel(r'$N_{\\tau}$')\n",
    "plt.ylabel(r'Events')\n",
    "plt.legend()"
   ]
  },
  {
   "cell_type": "code",
   "execution_count": null,
   "id": "fa1ce674",
   "metadata": {},
   "outputs": [],
   "source": [
    "plt.hist(ak.num(gamma_150_pt), np.linspace(-0.5,5.5,7), histtype = 'step', label = '1500_150_10', log=True)\n",
    "plt.hist(ak.num(gamma_250_pt), np.linspace(-0.5,5.5,7), histtype = 'step', label = '1500_250_10', log=True)\n",
    "plt.hist(ak.num(gamma_350_pt), np.linspace(-0.5,5.5,7), histtype = 'step', label = '1500_350_10', log=True)\n",
    "plt.hist(ak.num(gamma_500_pt), np.linspace(-0.5,5.5,7), histtype = 'step', label = '1500_500_10', log=True)\n",
    "plt.hist(ak.num(gamma_750_pt), np.linspace(-0.5,5.5,7), histtype = 'step', label = '1500_750_10', log=True)\n",
    "plt.xlabel(r'$N_{\\gamma}$')\n",
    "plt.ylabel(r'Events')\n",
    "plt.legend()"
   ]
  },
  {
   "cell_type": "code",
   "execution_count": null,
   "id": "21c46ef2",
   "metadata": {},
   "outputs": [],
   "source": [
    "puppiMET = [[],[],[],[], np.linspace(0,250,11), r'$Puppi\\ MET_{pt}$']\n",
    "genMET = [[],[],[],[], np.linspace(0,80,9), r'$Gen\\ MET_{pt}$']\n",
    "fatjet_pt = [[],[],[],[], np.linspace(200,450,26), r'$Fatjet\\ p_{T}$']\n",
    "fatjet_eta = [[],[],[],[], np.linspace(-4,4,9), r'$Fatjet\\ \\eta$']\n",
    "fatjet_phi = [[],[],[],[], np.linspace(-4,4,9), r'$Fatjet\\ \\phi$']\n",
    "fatjet_mass = [[],[],[],[], np.linspace(0,200,21), r'$Fatjet\\ mass$']\n",
    "fatjet_msoftdrop = [[],[],[],[], np.linspace(0,150,16), r'$Fatjet\\ sd\\ mass$']\n",
    "fatjet_tau1 = [[],[],[],[], np.linspace(0,0.6,13), r'$Fatjet\\ \\tau_1$']\n",
    "fatjet_tau2 = [[],[],[],[], np.linspace(0,0.25,6), r'$Fatjet\\ \\tau_2$']\n",
    "fatjet_tau3 = [[],[],[],[], np.linspace(0,0.2,5), r'$Fatjet\\ \\tau_3$']\n",
    "fatjet_tau4 = [[],[],[],[], np.linspace(0,0.15,4), r'$Fatjet\\ \\tau_4$']\n",
    "varis = {'metpuppi_pt': puppiMET, 'genmet_pt': genMET, 'fatjet_pt': fatjet_pt, 'fatjet_eta': fatjet_eta, \n",
    "         'fatjet_phi': fatjet_phi, 'fatjet_mass': fatjet_mass, 'fatjet_msoftdrop': fatjet_msoftdrop,\n",
    "        'fatjet_tau1': fatjet_tau1, 'fatjet_tau2': fatjet_tau2, 'fatjet_tau3': fatjet_tau3, 'fatjet_tau4': fatjet_tau4}"
   ]
  },
  {
   "cell_type": "code",
   "execution_count": null,
   "id": "23d0ec62",
   "metadata": {},
   "outputs": [],
   "source": [
    "plt.hist(ak.flatten(events_150_4.fatjet_pt), np.linspace(200,600,40), histtype = 'step', label = '1500_150_10')\n",
    "plt.hist(ak.flatten(events_250_4.fatjet_pt), np.linspace(200,600,40), histtype = 'step', label = '1500_250_10')\n",
    "plt.hist(ak.flatten(events_350_4.fatjet_pt), np.linspace(200,600,40), histtype = 'step', label = '1500_350_10')\n",
    "plt.hist(ak.flatten(events_500_4.fatjet_pt), np.linspace(200,600,40), histtype = 'step', label = '1500_500_10')\n",
    "plt.hist(ak.flatten(events_750_4.fatjet_pt), np.linspace(200,600,40), histtype = 'step', label = '1500_750_10')\n",
    "plt.xlabel(r'$fatjet\\ P_{T}$')\n",
    "plt.ylabel(r'Events')\n",
    "plt.legend()"
   ]
  },
  {
   "cell_type": "code",
   "execution_count": null,
   "id": "951e82d4",
   "metadata": {},
   "outputs": [],
   "source": [
    "fatjet_events = events_42[ak.num(events_42.fatjet_pt)>0]\n",
    "print(fatjet_events.fatjet_pt)"
   ]
  },
  {
   "cell_type": "code",
   "execution_count": null,
   "id": "2a47ab0e",
   "metadata": {},
   "outputs": [],
   "source": [
    "ak.flatten(fatjet_events.fatjet_msoftdrop[ak.argsort(fatjet_events.fatjet_pt, ascending=False)][:,0:1], axis=1)"
   ]
  },
  {
   "cell_type": "code",
   "execution_count": null,
   "id": "9f38d433",
   "metadata": {},
   "outputs": [],
   "source": [
    "varis"
   ]
  },
  {
   "cell_type": "code",
   "execution_count": null,
   "id": "bcdffc71",
   "metadata": {},
   "outputs": [],
   "source": [
    "for vari in varis:\n",
    "    varis[vari][0] = ak.flatten(ak.concatenate([events_11[vari],events_12[vari]]))\n",
    "    varis[vari][1] = ak.flatten(ak.concatenate([events_21[vari],events_22[vari]]))\n",
    "    varis[vari][2] = ak.flatten(ak.concatenate([events_31[vari],events_32[vari]]))\n",
    "    varis[vari][3] = ak.flatten(ak.concatenate([events_41[vari],events_42[vari]]))"
   ]
  },
  {
   "cell_type": "code",
   "execution_count": null,
   "id": "21c2e961",
   "metadata": {},
   "outputs": [],
   "source": [
    "varis"
   ]
  },
  {
   "cell_type": "code",
   "execution_count": null,
   "id": "1b54d37e",
   "metadata": {},
   "outputs": [],
   "source": [
    "len(varis['metpuppi_pt'][3])"
   ]
  },
  {
   "cell_type": "code",
   "execution_count": null,
   "id": "d859b029",
   "metadata": {},
   "outputs": [],
   "source": [
    "import matplotlib.pyplot as plt\n",
    "import mplhep as hep\n",
    "plt.style.use(hep.style.CMS)"
   ]
  },
  {
   "cell_type": "code",
   "execution_count": null,
   "id": "bdc8b598",
   "metadata": {},
   "outputs": [],
   "source": [
    "for vari in varis:\n",
    "    plt.hist(varis[vari][0], bins=varis[vari][4], histtype = 'step', label = 'MH3_1500_MH4_150_Mchi_10')\n",
    "    plt.hist(varis[vari][1], bins=varis[vari][4], histtype = 'step', label = 'MH3_1500_MH4_250_Mchi_10')\n",
    "    plt.hist(varis[vari][2], bins=varis[vari][4], histtype = 'step', label = 'MH3_1500_MH4_300_Mchi_10') \n",
    "    plt.hist(varis[vari][3], bins=varis[vari][4], histtype = 'step', label = 'MH3_1500_MH4_400_Mchi_10')\n",
    "    plt.xlabel(varis[vari][5])\n",
    "    plt.ylabel(r'Events')\n",
    "    plt.legend(prop={'size': 13})\n",
    "    plt.savefig('/home/users/ewallace/public_html/HbbMET/delphes_'+str(vari)+'.png')\n",
    "    plt.clf()"
   ]
  },
  {
   "cell_type": "code",
   "execution_count": null,
   "id": "561a2d0c",
   "metadata": {},
   "outputs": [],
   "source": []
  },
  {
   "cell_type": "code",
   "execution_count": null,
   "id": "9e7f9448",
   "metadata": {},
   "outputs": [],
   "source": [
    "from analysis.test import meta_processor"
   ]
  },
  {
   "cell_type": "code",
   "execution_count": null,
   "id": "d5ee4006",
   "metadata": {},
   "outputs": [],
   "source": [
    "from yaml import Loader, Dumper\n",
    "import yaml"
   ]
  },
  {
   "cell_type": "code",
   "execution_count": null,
   "id": "bb19f5fc",
   "metadata": {},
   "outputs": [],
   "source": [
    "with open('../data/samples.yaml', 'r') as f:\n",
    "    samples = yaml.load(f, Loader = Loader)"
   ]
  },
  {
   "cell_type": "code",
   "execution_count": null,
   "id": "8fd28597",
   "metadata": {},
   "outputs": [],
   "source": [
    "fileset = {\n",
    "            'TT_TuneCUETP8M2T4_14TeV-powheg-pythia8_200PU': samples['TT_TuneCUETP8M2T4_14TeV-powheg-pythia8_200PU']['ntuples'],\n",
    "            'ZJetsToNuNu_HT-200To400_14TeV-madgraph_200PU': samples['ZJetsToNuNu_HT-200To400_14TeV-madgraph_200PU']['ntuples'],\n",
    "            'ZJetsToNuNu_HT-400To600_14TeV-madgraph_200PU': samples['ZJetsToNuNu_HT-400To600_14TeV-madgraph_200PU']['ntuples'],\n",
    "            'ZJetsToNuNu_HT-600To800_14TeV-madgraph_200PU': samples['ZJetsToNuNu_HT-600To800_14TeV-madgraph_200PU']['ntuples'],\n",
    "            'ZJetsToNuNu_HT-800To1200_14TeV-madgraph_200PU': samples['ZJetsToNuNu_HT-800To1200_14TeV-madgraph_200PU']['ntuples'],\n",
    "            'ZJetsToNuNu_HT-1200To2500_14TeV-madgraph_200PU': samples['ZJetsToNuNu_HT-1200To2500_14TeV-madgraph_200PU']['ntuples'],\n",
    "        }"
   ]
  },
  {
   "cell_type": "code",
   "execution_count": null,
   "id": "d6a521e2",
   "metadata": {},
   "outputs": [],
   "source": [
    "meta_accumulator = {}\n",
    "for sample in fileset:\n",
    "    if sample not in meta_accumulator:\n",
    "        meta_accumulator.update({sample: processor.defaultdict_accumulator(int)})"
   ]
  },
  {
   "cell_type": "code",
   "execution_count": null,
   "id": "9b1bbdb5",
   "metadata": {},
   "outputs": [],
   "source": [
    "meta_accumulator"
   ]
  },
  {
   "cell_type": "code",
   "execution_count": null,
   "id": "d94fe18a",
   "metadata": {},
   "outputs": [],
   "source": [
    "exe = processor.futures_executor\n",
    "exe_args = {\"schema\": BaseSchema, \"workers\": 20, \"skipbadfiles\": True,}\n",
    "\n",
    "meta_output_flat_remote = processor.run_uproot_job(\n",
    "            fileset,\n",
    "            treename='myana/mytree',\n",
    "            processor_instance = meta_processor(accumulator=meta_accumulator),\n",
    "            executor = exe,\n",
    "            executor_args = exe_args,\n",
    "            chunksize = 1000000,\n",
    "            maxchunks = None,\n",
    "        )"
   ]
  },
  {
   "cell_type": "code",
   "execution_count": null,
   "id": "db0c71e8",
   "metadata": {},
   "outputs": [],
   "source": [
    "meta_output_flat_remote['TT_TuneCUETP8M2T4_14TeV-powheg-pythia8_200PU']['sumWeight']=1"
   ]
  },
  {
   "cell_type": "code",
   "execution_count": null,
   "id": "087bfcf1",
   "metadata": {},
   "outputs": [],
   "source": [
    "tt_accum = {'TT_TuneCUETP8M2T4_14TeV-powheg-pythia8_200PU'\n",
    ": processor.defaultdict_accumulator(int)}"
   ]
  },
  {
   "cell_type": "code",
   "execution_count": null,
   "id": "b8a83158",
   "metadata": {},
   "outputs": [],
   "source": [
    "meta = {}\n",
    "for sample in fileset:\n",
    "    meta[sample] = meta_output_flat_remote[sample]\n",
    "    meta[sample]['xsec'] = samples[sample]['xsec']\n",
    "\n",
    "meta['TT_TuneCUETP8M2T4_14TeV-powheg-pythia8_200PU']['xsec'] = 0"
   ]
  },
  {
   "cell_type": "code",
   "execution_count": null,
   "id": "a200bcd4",
   "metadata": {},
   "outputs": [],
   "source": [
    "meta"
   ]
  },
  {
   "cell_type": "code",
   "execution_count": null,
   "id": "11b13351",
   "metadata": {},
   "outputs": [],
   "source": [
    "from plots.helpers import scale_histos"
   ]
  },
  {
   "cell_type": "code",
   "execution_count": null,
   "id": "22e44e43",
   "metadata": {},
   "outputs": [],
   "source": [
    "from plots.helpers import makePlot2"
   ]
  },
  {
   "cell_type": "code",
   "execution_count": null,
   "id": "3e4a4133",
   "metadata": {},
   "outputs": [],
   "source": [
    "import gzip\n",
    "import pickle\n",
    "path = '../analysis/test_output.pkl.gz'\n",
    "with gzip.open(path) as fin:\n",
    "    output_flat_remote = pickle.load(fin)"
   ]
  },
  {
   "cell_type": "code",
   "execution_count": null,
   "id": "b77f1551",
   "metadata": {},
   "outputs": [],
   "source": [
    "for key in output_flat_remote.keys():\n",
    "    if type(output_flat_remote[key]) is not type(output_flat_remote['cutflow']):\n",
    "        output_flat_remote[key] = scale_histos(output_flat_remote[key], meta, fileset, lumi=0.001)"
   ]
  },
  {
   "cell_type": "code",
   "execution_count": null,
   "id": "02bca0d4",
   "metadata": {},
   "outputs": [],
   "source": [
    "N_bins = hist.Bin('multiplicity', r'$N$', 6, -0.5, 5.5)\n",
    "mass_bins = hist.Bin('mass', r'$M\\ (GeV)$', 30, 0, 300)\n",
    "pt_bins = hist.Bin('pt', r'$p_{T}\\ (GeV)$', 50, 0, 500)\n",
    "ht_bins = hist.Bin('pt', r'$H_{T}\\ (GeV)$', 50, 0, 2500)\n",
    "fatjet_pt_bins = hist.Bin('pt', r'$p_{T}\\ (GeV)$', 50, 200, 700)\n",
    "eta_bins = hist.Bin(\"eta\", \"$\\eta$\", 33, -4, 4)\n",
    "phi_bins = hist.Bin(\"phi\", \"$\\phi$\", 33, -4, 4)\n",
    "tau_bins = hist.Bin(\"tau\", \"$\\tau$\", 10, 0, 1)\n",
    "\n",
    "labels ={\n",
    "    ('ZJetsToNuNu_HT-200To400_14TeV-madgraph_200PU',): r'$ZJets\\to\\nu\\nu\\ (HT\\ 200\\ to\\ 400)$',\n",
    "    ('ZJetsToNuNu_HT-400To600_14TeV-madgraph_200PU',): r'$ZJets\\to\\nu\\nu\\ (HT\\ 400\\ to\\ 600)$',\n",
    "    ('ZJetsToNuNu_HT-600To800_14TeV-madgraph_200PU',): r'$ZJets\\to\\nu\\nu\\ (HT\\ 600\\ to\\ 800)$',\n",
    "    ('ZJetsToNuNu_HT-800To1200_14TeV-madgraph_200PU',): r'$ZJets\\to\\nu\\nu\\ (HT\\ 800\\ to\\ 1200)$',\n",
    "    ('ZJetsToNuNu_HT-1200To2500_14TeV-madgraph_200PU',): r'$ZJets\\to\\nu\\nu\\ (HT\\ 1200\\ to\\ 2500)$',\n",
    "    ('TT_TuneCUETP8M2T4_14TeV-powheg-pythia8_200PU',): r'$t\\bar{t}$',\n",
    "}\n",
    "\n",
    "colors ={\n",
    "    ('ZJetsToNuNu_HT-200To400_14TeV-madgraph_200PU',): '#FED23F',\n",
    "    ('ZJetsToNuNu_HT-400To600_14TeV-madgraph_200PU',): '#EB7DB5',\n",
    "    ('ZJetsToNuNu_HT-600To800_14TeV-madgraph_200PU',): '#442288',\n",
    "    ('ZJetsToNuNu_HT-800To1200_14TeV-madgraph_200PU',): '#6CA2EA',\n",
    "    ('ZJetsToNuNu_HT-1200To2500_14TeV-madgraph_200PU',): '#B5D33D',\n",
    "    ('TT_TuneCUETP8M2T4_14TeV-powheg-pythia8_200PU',): '#355C7D',\n",
    "}\n",
    "            \n",
    "makePlot2(output_flat_remote, 'met', 'pt', pt_bins, r'$MET_{pt}\\ (GeV)$', labels, colors, remote=True)\n",
    "makePlot2(output_flat_remote, 'lead_fatjet_pt', 'pt', fatjet_pt_bins, r'$p_{T}\\ (GeV)$', labels, colors, remote=True)\n",
    "makePlot2(output_flat_remote, 'lead_fatjet_eta', 'eta', eta_bins, r'$\\eta$', labels, colors, remote=True)\n",
    "makePlot2(output_flat_remote, 'lead_fatjet_phi', 'phi', phi_bins, r'$\\phi$', labels, colors, remote=True)\n",
    "makePlot2(output_flat_remote, 'lead_fatjet_mass', 'mass', mass_bins, r'$mass\\ (GeV)$', labels, colors, remote=True)\n",
    "makePlot2(output_flat_remote, 'lead_fatjet_sdmass', 'mass', mass_bins, r'$softdrop\\ mass\\ (GeV)$', labels, colors, remote=True)\n",
    "makePlot2(output_flat_remote, 'lead_fatjet_tau1', 'tau', tau_bins, r'$\\tau_1$', labels, colors, remote=True)\n",
    "makePlot2(output_flat_remote, 'lead_fatjet_tau2', 'tau', tau_bins, r'$\\tau_2$', labels, colors, remote=True)\n",
    "makePlot2(output_flat_remote, 'lead_fatjet_tau3', 'tau', tau_bins, r'$\\tau_3$', labels, colors, remote=True)\n",
    "makePlot2(output_flat_remote, 'lead_fatjet_tau4', 'tau', tau_bins, r'$\\tau_4$', labels, colors, remote=True)\n",
    "makePlot2(output_flat_remote, 'nfatjet', 'multiplicity', N_bins, r'$n_{fatjet}$', labels, colors, remote=True)        \n",
    "makePlot2(output_flat_remote, 'ht', 'pt', ht_bins, r'$H_{T}$', labels, colors, remote=True)"
   ]
  },
  {
   "cell_type": "code",
   "execution_count": null,
   "id": "37c9d166",
   "metadata": {},
   "outputs": [],
   "source": [
    "output_flat_remote['ht'].values()"
   ]
  }
 ],
 "metadata": {
  "kernelspec": {
   "display_name": "coffeadev",
   "language": "python",
   "name": "coffeadev"
  },
  "language_info": {
   "codemirror_mode": {
    "name": "ipython",
    "version": 3
   },
   "file_extension": ".py",
   "mimetype": "text/x-python",
   "name": "python",
   "nbconvert_exporter": "python",
   "pygments_lexer": "ipython3",
   "version": "3.9.7"
  }
 },
 "nbformat": 4,
 "nbformat_minor": 5
}
