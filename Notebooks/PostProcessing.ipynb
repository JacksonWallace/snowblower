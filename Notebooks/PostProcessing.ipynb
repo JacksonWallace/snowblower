{
 "cells": [
  {
   "cell_type": "markdown",
   "id": "22c76d58",
   "metadata": {},
   "source": [
    "# Post Processing"
   ]
  },
  {
   "cell_type": "code",
   "execution_count": null,
   "id": "366c6eb3",
   "metadata": {},
   "outputs": [],
   "source": [
    "import gzip\n",
    "import pickle"
   ]
  },
  {
   "cell_type": "code",
   "execution_count": null,
   "id": "a9695d40",
   "metadata": {},
   "outputs": [],
   "source": [
    "import matplotlib.pyplot as plt\n",
    "import mplhep as hep\n",
    "plt.style.use(hep.style.CMS)\n",
    "from coffea import hist\n",
    "from plots.helpers import makePlot2, merge_histos"
   ]
  },
  {
   "cell_type": "markdown",
   "id": "a5948a7d",
   "metadata": {},
   "source": [
    "## Import Histograms"
   ]
  },
  {
   "cell_type": "code",
   "execution_count": null,
   "id": "ed5c4d93",
   "metadata": {},
   "outputs": [],
   "source": [
    "from yaml import Loader, Dumper\n",
    "import yaml\n",
    "\n",
    "with open('../data/samples.yaml', 'r') as f:\n",
    "    samples = yaml.load(f, Loader = Loader)"
   ]
  },
  {
   "cell_type": "code",
   "execution_count": null,
   "id": "d3711224",
   "metadata": {},
   "outputs": [],
   "source": [
    "samples.keys()"
   ]
  },
  {
   "cell_type": "code",
   "execution_count": null,
   "id": "5e915069",
   "metadata": {},
   "outputs": [],
   "source": [
    "path = '../analysis/backgrounds_pres.pkl.gz'\n",
    "with gzip.open(path) as fin:\n",
    "    output_flat= pickle.load(fin)"
   ]
  },
  {
   "cell_type": "code",
   "execution_count": null,
   "id": "ffb39c4d",
   "metadata": {},
   "outputs": [],
   "source": [
    "path = '../analysis/meta_pres.pkl.gz'\n",
    "with gzip.open(path) as fin:\n",
    "    meta= pickle.load(fin)"
   ]
  },
  {
   "cell_type": "code",
   "execution_count": null,
   "id": "8e85ccab",
   "metadata": {},
   "outputs": [],
   "source": [
    "output_flat['cutflow'].keys()"
   ]
  },
  {
   "cell_type": "code",
   "execution_count": null,
   "id": "70b62082",
   "metadata": {},
   "outputs": [],
   "source": [
    "output_flat['cutflow']['ZJetsToNuNu_HT-1200To2500_14TeV-madgraph_200PU']"
   ]
  },
  {
   "cell_type": "code",
   "execution_count": null,
   "id": "5354a8cf",
   "metadata": {},
   "outputs": [],
   "source": [
    "meta"
   ]
  },
  {
   "cell_type": "code",
   "execution_count": null,
   "id": "ba3d28a5",
   "metadata": {},
   "outputs": [],
   "source": [
    "import math\n",
    "import pandas as pd\n",
    "import numpy as np"
   ]
  },
  {
   "cell_type": "code",
   "execution_count": null,
   "id": "bcb709a3",
   "metadata": {},
   "outputs": [],
   "source": [
    "def getCutFlowTable(output, processes=['tW_scattering', 'TTW', 'ttbar'], lines=['skim', 'twoJet', 'oneBTag'], significantFigures=3, absolute=True, signal=None, total=False):\n",
    "    '''\n",
    "    Takes the output of a coffea processor (i.e. a python dictionary) and returns a formated cut-flow table of processes.\n",
    "    Lines and processes have to follow the naming of the coffea processor output.\n",
    "    '''\n",
    "    res = {}\n",
    "    eff = {}\n",
    "    for proc in processes:\n",
    "        res[proc] = {line: \"%s +/- %s\"%(round(output[proc][line], significantFigures-len(str(int(output[proc][line])))), round(math.sqrt(output[proc][line+'_w2']), significantFigures-len(str(int(output[proc][line]))))) for line in lines}\n",
    "        \n",
    "        # for efficiencies. doesn't deal with uncertainties yet\n",
    "        eff[proc] = {lines[i]: round(output[proc][lines[i]]/output[proc][lines[i-1]], significantFigures) if (i>0 and output[proc][lines[i-1]]>0) else 1. for i,x in enumerate(lines)}\n",
    "    \n",
    "    if total:\n",
    "        res['total'] = {line: \"%s\"%round( sum([ output[proc][line] for proc in total ] ), significantFigures-len(str(int(sum([ output[proc][line] for proc in total ] ))))) for line in lines }\n",
    "    \n",
    "    # if a signal is specified, calculate S/B\n",
    "    if signal is not None:\n",
    "        backgrounds = copy.deepcopy(processes)\n",
    "        for s in signal:\n",
    "            backgrounds.remove(s)\n",
    "        res['S/B'] = {line: round( sum([output[s][line] for s in signal])/sum([ output[proc][line] for proc in backgrounds ]) if sum([ output[proc][line] for proc in backgrounds ])>0 else 1, significantFigures) for line in lines }\n",
    "            \n",
    "    if not absolute:\n",
    "        res=eff\n",
    "    df = pd.DataFrame(res)\n",
    "    df = df.reindex(lines) # restores the proper order\n",
    "    return df"
   ]
  },
  {
   "cell_type": "code",
   "execution_count": null,
   "id": "2741c068",
   "metadata": {},
   "outputs": [],
   "source": [
    "getCutFlowTable(output_flat, processes=['W3JetsToLNu_TuneCUETP8M1_14TeV-madgraphMLM-pythia8_200PU'], lines=['total'])"
   ]
  },
  {
   "cell_type": "markdown",
   "id": "a343ddc2",
   "metadata": {},
   "source": [
    "## Setting Up Plots"
   ]
  },
  {
   "cell_type": "code",
   "execution_count": null,
   "id": "e5cca204",
   "metadata": {},
   "outputs": [],
   "source": [
    "N_bins = hist.Bin('multiplicity', r'$N$', 6, -0.5, 5.5)\n",
    "mass_bins = hist.Bin('mass', r'$M\\ (GeV)$', 40, 0, 400)\n",
    "ht_bins = hist.Bin('pt', r'$H_{T}\\ (GeV)$', 60, 0, 3000)\n",
    "pt_bins = hist.Bin('pt', r'$p_{T}\\ (GeV)$', 80, 200, 1000)\n",
    "eta_bins = hist.Bin(\"eta\", \"$\\eta$\", 33, -4, 4)\n",
    "phi_bins = hist.Bin(\"phi\", \"$\\phi$\", 33, -4, 4)\n",
    "deltaR_bins = hist.Bin(\"deltaR\", \"$\\DeltaR$\", 10, 0, 1)\n",
    "tau1_bins = hist.Bin(\"tau\", \"$\\tau_1$\", 10, 0, 0.7)\n",
    "tau2_bins = hist.Bin(\"tau\", \"$\\tau_2$\", 10, 0, 0.5)\n",
    "tau3_bins = hist.Bin(\"tau\", \"$\\tau_3$\", 10, 0, 0.4)\n",
    "tau4_bins = hist.Bin(\"tau\", \"$\\tau_4$\", 10, 0, 0.3)\n",
    "\n",
    "labels ={\n",
    "    ('ZJetsToNuNu_HT',): r'$ZJets\\to\\nu\\nu\\ (binned\\ by\\ HT)$',\n",
    "    ('WJetsToLNu_Njet',): r'$WJets\\to L\\nu\\ (binned\\ by\\ N_{jets})$',\n",
    "    #('TT_TuneCUETP8M2T4_14TeV-powheg-pythia8_200PU',): r'$t\\bar{t}$',\n",
    "    ('2HDMa_bb_sinp_0.35_tanb_1.0_mXd_10_MH3_1500_MH4_150_MH2_1500_MHC_1500',): '2HDMa_bb_1500_150_10',\n",
    "    ('2HDMa_bb_sinp_0.35_tanb_1.0_mXd_10_MH3_1500_MH4_250_MH2_1500_MHC_1500',): '2HDMa_bb_1500_250_10',\n",
    "    ('2HDMa_bb_sinp_0.35_tanb_1.0_mXd_10_MH3_1500_MH4_350_MH2_1500_MHC_1500',): '2HDMa_bb_1500_350_10',\n",
    "    ('2HDMa_bb_sinp_0.35_tanb_1.0_mXd_10_MH3_1500_MH4_500_MH2_1500_MHC_1500',): '2HDMa_bb_1500_500_10',\n",
    "    ('2HDMa_bb_sinp_0.35_tanb_1.0_mXd_10_MH3_1500_MH4_750_MH2_1500_MHC_1500',): '2HDMa_bb_1500_750_10',\n",
    "}\n",
    "\n",
    "colors ={\n",
    "    ('ZJetsToNuNu_HT',): '#355C7D',\n",
    "    ('WJetsToLNu_Njet',): '#FED23F',\n",
    "    #('TT_TuneCUETP8M2T4_14TeV-powheg-pythia8_200PU',): '#EB7DB5',\n",
    "}\n",
    "        \n",
    "signals = [\n",
    "    ('2HDMa_bb_sinp_0.35_tanb_1.0_mXd_10_MH3_1500_MH4_150_MH2_1500_MHC_1500',),\n",
    "    ('2HDMa_bb_sinp_0.35_tanb_1.0_mXd_10_MH3_1500_MH4_250_MH2_1500_MHC_1500',), \n",
    "    ('2HDMa_bb_sinp_0.35_tanb_1.0_mXd_10_MH3_1500_MH4_350_MH2_1500_MHC_1500',), \n",
    "    ('2HDMa_bb_sinp_0.35_tanb_1.0_mXd_10_MH3_1500_MH4_500_MH2_1500_MHC_1500',), \n",
    "    ('2HDMa_bb_sinp_0.35_tanb_1.0_mXd_10_MH3_1500_MH4_750_MH2_1500_MHC_1500',)\n",
    "]"
   ]
  },
  {
   "cell_type": "code",
   "execution_count": null,
   "id": "535d8a54",
   "metadata": {},
   "outputs": [],
   "source": [
    "makePlot2(output_flat, 'met', 'pt', pt_bins, r'$MET_{pt}\\ (GeV)$', labels, colors, signals=signals)\n",
    "makePlot2(output_flat, 'lead_fatjet_pt', 'pt', pt_bins, r'$p_{T}\\ (GeV)$', labels, colors, signals=signals)\n",
    "makePlot2(output_flat, 'lead_fatjet_eta', 'eta', eta_bins, r'$\\eta$', labels, colors, signals=signals)\n",
    "makePlot2(output_flat, 'lead_fatjet_phi', 'phi', phi_bins, r'$\\phi$', labels, colors, signals=signals)\n",
    "makePlot2(output_flat, 'lead_fatjet_sdmass', 'mass', mass_bins, r'$mass\\ (GeV)$', labels, colors, signals=signals)\n",
    "makePlot2(output_flat, 'lead_fatjet_tau1', 'tau', tau1_bins, r'$\\tau_1$', labels, colors, signals=signals)\n",
    "makePlot2(output_flat, 'lead_fatjet_tau2', 'tau', tau2_bins, r'$\\tau_2$', labels, colors, signals=signals)\n",
    "makePlot2(output_flat, 'lead_fatjet_tau3', 'tau', tau3_bins, r'$\\tau_3$', labels, colors, signals=signals)\n",
    "makePlot2(output_flat, 'lead_fatjet_tau4', 'tau', tau4_bins, r'$\\tau_4$', labels, colors, signals=signals)\n",
    "makePlot2(output_flat, 'nfatjet', 'multiplicity', N_bins, r'$n_{fatjet}$', labels, colors, signals=signals)\n",
    "makePlot2(output_flat, 'ht', 'pt', ht_bins, r'$H_{T}$', labels, colors, signals=signals)"
   ]
  }
 ],
 "metadata": {
  "kernelspec": {
   "display_name": "coffeadev",
   "language": "python",
   "name": "coffeadev"
  },
  "language_info": {
   "codemirror_mode": {
    "name": "ipython",
    "version": 3
   },
   "file_extension": ".py",
   "mimetype": "text/x-python",
   "name": "python",
   "nbconvert_exporter": "python",
   "pygments_lexer": "ipython3",
   "version": "3.9.7"
  }
 },
 "nbformat": 4,
 "nbformat_minor": 5
}
