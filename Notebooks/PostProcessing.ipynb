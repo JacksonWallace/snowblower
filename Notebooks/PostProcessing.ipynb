{
 "cells": [
  {
   "cell_type": "markdown",
   "id": "22c76d58",
   "metadata": {},
   "source": [
    "# Post Processing"
   ]
  },
  {
   "cell_type": "code",
   "execution_count": null,
   "id": "366c6eb3",
   "metadata": {},
   "outputs": [],
   "source": [
    "import gzip\n",
    "import pickle\n",
    "from yaml import Loader, Dumper\n",
    "import yaml"
   ]
  },
  {
   "cell_type": "code",
   "execution_count": null,
   "id": "a9695d40",
   "metadata": {},
   "outputs": [],
   "source": [
    "import numpy as np\n",
    "import awkward as ak\n",
    "import matplotlib.pyplot as plt\n",
    "import mplhep as hep\n",
    "plt.style.use(hep.style.CMS)\n",
    "from coffea import hist\n",
    "from plots.helpers import makePlot2\n",
    "from tools.helpers import cutflow_scale_and_merge, getCutFlowTable\n",
    "from yahist import Hist1D, Hist2D"
   ]
  },
  {
   "cell_type": "markdown",
   "id": "a5948a7d",
   "metadata": {},
   "source": [
    "## Import Histograms"
   ]
  },
  {
   "cell_type": "code",
   "execution_count": null,
   "id": "5e915069",
   "metadata": {},
   "outputs": [],
   "source": [
    "path = '../analysis/histos/limits_36.pkl.gz'\n",
    "with gzip.open(path) as fin:\n",
    "    scaled_output = pickle.load(fin)"
   ]
  },
  {
   "cell_type": "markdown",
   "id": "ebb04b3d",
   "metadata": {},
   "source": [
    "# Data Cards"
   ]
  },
  {
   "cell_type": "code",
   "execution_count": null,
   "id": "3b092f8a",
   "metadata": {},
   "outputs": [],
   "source": [
    "MT_vs_sdmass_1500_150_central = Hist2D.from_bincounts(\n",
    "    scaled_output['MT_vs_sdmass_central'].values(overflow='over')[('2HDMa_sinp_0.35_tanb_1.0_mXd_10_MH3_1500_MH4_150_MH2_1500_MHC_1500',)].T,\n",
    "    (scaled_output['MT_vs_sdmass_central'].axis('mt').edges(overflow='over'), scaled_output['MT_vs_sdmass_central'].axis('mass').edges(overflow='over')),\n",
    "    errors = np.sqrt(scaled_output['MT_vs_sdmass_central'].values(sumw2=True, overflow='over')[('2HDMa_sinp_0.35_tanb_1.0_mXd_10_MH3_1500_MH4_150_MH2_1500_MHC_1500',)][1].T),\n",
    ")"
   ]
  },
  {
   "cell_type": "code",
   "execution_count": null,
   "id": "4d56b081",
   "metadata": {},
   "outputs": [],
   "source": [
    "for b in range(0,4):\n",
    "    for j in range(0,10):\n",
    "        if MT_vs_sdmass_1500_150_central.counts[b][j] == 0:\n",
    "            MT_vs_sdmass_1500_150_central.counts[b][j] = 0.01\n",
    "            MT_vs_sdmass_1500_150_central.errors[b][j] = 0.01"
   ]
  },
  {
   "cell_type": "code",
   "execution_count": null,
   "id": "d093008f",
   "metadata": {},
   "outputs": [],
   "source": [
    "MT_vs_sdmass_1500_750_central = Hist2D.from_bincounts(\n",
    "    scaled_output['MT_vs_sdmass_central'].values(overflow='over')[('2HDMa_sinp_0.35_tanb_1.0_mXd_10_MH3_1500_MH4_750_MH2_1500_MHC_1500',)].T,\n",
    "    (scaled_output['MT_vs_sdmass_central'].axis('mt').edges(overflow='over'), scaled_output['MT_vs_sdmass_central'].axis('mass').edges(overflow='over')),\n",
    "    errors = np.sqrt(scaled_output['MT_vs_sdmass_central'].values(sumw2=True, overflow='over')[('2HDMa_sinp_0.35_tanb_1.0_mXd_10_MH3_1500_MH4_750_MH2_1500_MHC_1500',)][1].T),\n",
    ")"
   ]
  },
  {
   "cell_type": "code",
   "execution_count": null,
   "id": "1ec7015b",
   "metadata": {},
   "outputs": [],
   "source": [
    "for b in range(0,4):\n",
    "    for j in range(0,10):\n",
    "        if MT_vs_sdmass_1500_750_central.counts[b][j] == 0:\n",
    "            MT_vs_sdmass_1500_750_central.counts[b][j] = 0.01\n",
    "            MT_vs_sdmass_1500_750_central.errors[b][j] = 0.01"
   ]
  },
  {
   "cell_type": "code",
   "execution_count": null,
   "id": "47d2a81a",
   "metadata": {},
   "outputs": [],
   "source": [
    "MT_vs_sdmass_1750_750_central = Hist2D.from_bincounts(\n",
    "    scaled_output['MT_vs_sdmass_central'].values(overflow='over')[('2HDMa_sinp_0.35_tanb_1.0_mXd_10_MH3_1750_MH4_750_MH2_1750_MHC_1750',)].T,\n",
    "    (scaled_output['MT_vs_sdmass_central'].axis('mt').edges(overflow='over'), scaled_output['MT_vs_sdmass_central'].axis('mass').edges(overflow='over')),\n",
    "    errors = np.sqrt(scaled_output['MT_vs_sdmass_central'].values(sumw2=True, overflow='over')[('2HDMa_sinp_0.35_tanb_1.0_mXd_10_MH3_1750_MH4_750_MH2_1750_MHC_1750',)][1].T),\n",
    ")"
   ]
  },
  {
   "cell_type": "code",
   "execution_count": null,
   "id": "98da6046",
   "metadata": {},
   "outputs": [],
   "source": [
    "for b in range(0,4):\n",
    "    for j in range(0,10):\n",
    "        if MT_vs_sdmass_1750_750_central.counts[b][j] == 0:\n",
    "            MT_vs_sdmass_1750_750_central.counts[b][j] = 0.01\n",
    "            MT_vs_sdmass_1750_750_central.errors[b][j] = 0.01"
   ]
  },
  {
   "cell_type": "code",
   "execution_count": null,
   "id": "bab84992",
   "metadata": {},
   "outputs": [],
   "source": [
    "MT_vs_sdmass_2000_750_central = Hist2D.from_bincounts(\n",
    "    scaled_output['MT_vs_sdmass_central'].values(overflow='over')[('2HDMa_sinp_0.35_tanb_1.0_mXd_10_MH3_2000_MH4_750_MH2_2000_MHC_2000',)].T,\n",
    "    (scaled_output['MT_vs_sdmass_central'].axis('mt').edges(overflow='over'), scaled_output['MT_vs_sdmass_central'].axis('mass').edges(overflow='over')),\n",
    "    errors = np.sqrt(scaled_output['MT_vs_sdmass_central'].values(sumw2=True, overflow='over')[('2HDMa_sinp_0.35_tanb_1.0_mXd_10_MH3_2000_MH4_750_MH2_2000_MHC_2000',)][1].T),\n",
    ")"
   ]
  },
  {
   "cell_type": "code",
   "execution_count": null,
   "id": "3373250f",
   "metadata": {},
   "outputs": [],
   "source": [
    "for b in range(0,4):\n",
    "    for j in range(0,10):\n",
    "        if MT_vs_sdmass_2000_750_central.counts[b][j] == 0:\n",
    "            MT_vs_sdmass_2000_750_central.counts[b][j] = 0.01\n",
    "            MT_vs_sdmass_2000_750_central.errors[b][j] = 0.01"
   ]
  },
  {
   "cell_type": "code",
   "execution_count": null,
   "id": "37a0e383",
   "metadata": {},
   "outputs": [],
   "source": [
    "MT_vs_sdmass_Z_central = Hist2D.from_bincounts(\n",
    "     scaled_output['MT_vs_sdmass_central'].values(overflow='over')[('ZJetsToNuNu_HT',)].T,\n",
    "    (scaled_output['MT_vs_sdmass_central'].axis('mt').edges(overflow='over'), scaled_output['MT_vs_sdmass_central'].axis('mass').edges(overflow='over')),\n",
    "    errors = np.sqrt(scaled_output['MT_vs_sdmass_central'].values(sumw2=True, overflow='over')[('ZJetsToNuNu_HT',)][1].T),\n",
    ")"
   ]
  },
  {
   "cell_type": "code",
   "execution_count": null,
   "id": "83466cf5",
   "metadata": {},
   "outputs": [],
   "source": [
    "for b in range(0,4):\n",
    "    for j in range(0,10):\n",
    "        if MT_vs_sdmass_Z_central.counts[b][j] == 0:\n",
    "            MT_vs_sdmass_Z_central.counts[b][j] = 0.01\n",
    "            MT_vs_sdmass_Z_central.errors[b][j] = 0.01"
   ]
  },
  {
   "cell_type": "code",
   "execution_count": null,
   "id": "15b8ed7f",
   "metadata": {},
   "outputs": [],
   "source": [
    "MT_vs_sdmass_tt_central = Hist2D.from_bincounts(\n",
    "     scaled_output['MT_vs_sdmass_central'].values(overflow='over')[('TT',)].T,\n",
    "    (scaled_output['MT_vs_sdmass_central'].axis('mt').edges(overflow='over'), scaled_output['MT_vs_sdmass_central'].axis('mass').edges(overflow='over')),\n",
    "    errors = np.sqrt(scaled_output['MT_vs_sdmass_central'].values(sumw2=True, overflow='over')[('TT',)][1].T),\n",
    ")"
   ]
  },
  {
   "cell_type": "code",
   "execution_count": null,
   "id": "1424b315",
   "metadata": {},
   "outputs": [],
   "source": [
    "for b in range(0,4):\n",
    "    for j in range(0,10):\n",
    "        if MT_vs_sdmass_tt_central.counts[b][j] == 0:\n",
    "            MT_vs_sdmass_tt_central.counts[b][j] = 0.01\n",
    "            MT_vs_sdmass_tt_central.errors[b][j] = 0.01"
   ]
  },
  {
   "cell_type": "code",
   "execution_count": null,
   "id": "e33de33b",
   "metadata": {},
   "outputs": [],
   "source": [
    "MT_vs_sdmass_W_central = Hist2D.from_bincounts(\n",
    "     scaled_output['MT_vs_sdmass_central'].values(overflow='over')[('WJetsToLNu_Njet',)].T,\n",
    "    (scaled_output['MT_vs_sdmass_central'].axis('mt').edges(overflow='over'), scaled_output['MT_vs_sdmass_central'].axis('mass').edges(overflow='over')),\n",
    "    errors = np.sqrt(scaled_output['MT_vs_sdmass_central'].values(sumw2=True, overflow='over')[('WJetsToLNu_Njet',)][1].T),\n",
    ")"
   ]
  },
  {
   "cell_type": "code",
   "execution_count": null,
   "id": "fe093eab",
   "metadata": {},
   "outputs": [],
   "source": [
    "for b in range(0,4):\n",
    "    for j in range(0,10):\n",
    "        if MT_vs_sdmass_W_central.counts[b][j] == 0:\n",
    "            MT_vs_sdmass_W_central.counts[b][j] = 0.01\n",
    "            MT_vs_sdmass_W_central.errors[b][j] = 0.01"
   ]
  },
  {
   "cell_type": "code",
   "execution_count": null,
   "id": "7bcd6d3c",
   "metadata": {},
   "outputs": [],
   "source": [
    "MT_vs_sdmass_QCD_central = Hist2D.from_bincounts(\n",
    "     scaled_output['MT_vs_sdmass_central'].values(overflow='over')[('QCD_bEnriched_HT',)].T,\n",
    "    (scaled_output['MT_vs_sdmass_central'].axis('mt').edges(overflow='over'), scaled_output['MT_vs_sdmass_central'].axis('mass').edges(overflow='over')),\n",
    "    errors = np.sqrt(scaled_output['MT_vs_sdmass_central'].values(sumw2=True, overflow='over')[('QCD_bEnriched_HT',)][1].T),\n",
    ")"
   ]
  },
  {
   "cell_type": "code",
   "execution_count": null,
   "id": "c118a250",
   "metadata": {},
   "outputs": [],
   "source": [
    "for b in range(0,4):\n",
    "    for j in range(0,10):\n",
    "        if MT_vs_sdmass_QCD_central.counts[b][j] == 0:\n",
    "            MT_vs_sdmass_QCD_central.counts[b][j] = 0.01\n",
    "            MT_vs_sdmass_QCD_central.errors[b][j] = 0.01"
   ]
  },
  {
   "cell_type": "markdown",
   "id": "9a1d6177",
   "metadata": {},
   "source": [
    "$~$"
   ]
  },
  {
   "cell_type": "code",
   "execution_count": null,
   "id": "75a26357",
   "metadata": {},
   "outputs": [],
   "source": [
    "MT_vs_sdmass_1500_150_up = Hist2D.from_bincounts(\n",
    "    scaled_output['MT_vs_sdmass_up'].values(overflow='over')[('2HDMa_sinp_0.35_tanb_1.0_mXd_10_MH3_1500_MH4_150_MH2_1500_MHC_1500',)].T,\n",
    "    (scaled_output['MT_vs_sdmass_up'].axis('mt').edges(overflow='over'), scaled_output['MT_vs_sdmass_up'].axis('mass').edges(overflow='over')),\n",
    "    errors = np.sqrt(scaled_output['MT_vs_sdmass_up'].values(sumw2=True, overflow='over')[('2HDMa_sinp_0.35_tanb_1.0_mXd_10_MH3_1500_MH4_150_MH2_1500_MHC_1500',)][1].T),\n",
    ")"
   ]
  },
  {
   "cell_type": "code",
   "execution_count": null,
   "id": "f692a4fc",
   "metadata": {},
   "outputs": [],
   "source": [
    "for b in range(0,4):\n",
    "    for j in range(0,10):\n",
    "        if MT_vs_sdmass_1500_150_up.counts[b][j] == 0:\n",
    "            MT_vs_sdmass_1500_150_up.counts[b][j] = 0.01\n",
    "            MT_vs_sdmass_1500_150_up.errors[b][j] = 0.01"
   ]
  },
  {
   "cell_type": "code",
   "execution_count": null,
   "id": "70d51410",
   "metadata": {},
   "outputs": [],
   "source": [
    "MT_vs_sdmass_1500_750_up = Hist2D.from_bincounts(\n",
    "    scaled_output['MT_vs_sdmass_up'].values(overflow='over')[('2HDMa_sinp_0.35_tanb_1.0_mXd_10_MH3_1500_MH4_750_MH2_1500_MHC_1500',)].T,\n",
    "    (scaled_output['MT_vs_sdmass_up'].axis('mt').edges(overflow='over'), scaled_output['MT_vs_sdmass_up'].axis('mass').edges(overflow='over')),\n",
    "    errors = np.sqrt(scaled_output['MT_vs_sdmass_up'].values(sumw2=True, overflow='over')[('2HDMa_sinp_0.35_tanb_1.0_mXd_10_MH3_1500_MH4_750_MH2_1500_MHC_1500',)][1].T),\n",
    ")"
   ]
  },
  {
   "cell_type": "code",
   "execution_count": null,
   "id": "f4146ebe",
   "metadata": {},
   "outputs": [],
   "source": [
    "for b in range(0,4):\n",
    "    for j in range(0,10):\n",
    "        if MT_vs_sdmass_1500_750_up.counts[b][j] == 0:\n",
    "            MT_vs_sdmass_1500_750_up.counts[b][j] = 0.01\n",
    "            MT_vs_sdmass_1500_750_up.errors[b][j] = 0.01"
   ]
  },
  {
   "cell_type": "code",
   "execution_count": null,
   "id": "9aa85405",
   "metadata": {},
   "outputs": [],
   "source": [
    "MT_vs_sdmass_1750_750_up = Hist2D.from_bincounts(\n",
    "    scaled_output['MT_vs_sdmass_up'].values(overflow='over')[('2HDMa_sinp_0.35_tanb_1.0_mXd_10_MH3_1750_MH4_750_MH2_1750_MHC_1750',)].T,\n",
    "    (scaled_output['MT_vs_sdmass_up'].axis('mt').edges(overflow='over'), scaled_output['MT_vs_sdmass_up'].axis('mass').edges(overflow='over')),\n",
    "    errors = np.sqrt(scaled_output['MT_vs_sdmass_up'].values(sumw2=True, overflow='over')[('2HDMa_sinp_0.35_tanb_1.0_mXd_10_MH3_1750_MH4_750_MH2_1750_MHC_1750',)][1].T),\n",
    ")"
   ]
  },
  {
   "cell_type": "code",
   "execution_count": null,
   "id": "19d9fd11",
   "metadata": {},
   "outputs": [],
   "source": [
    "for b in range(0,4):\n",
    "    for j in range(0,10):\n",
    "        if MT_vs_sdmass_1750_750_up.counts[b][j] == 0:\n",
    "            MT_vs_sdmass_1750_750_up.counts[b][j] = 0.01\n",
    "            MT_vs_sdmass_1750_750_up.errors[b][j] = 0.01"
   ]
  },
  {
   "cell_type": "code",
   "execution_count": null,
   "id": "4476530a",
   "metadata": {},
   "outputs": [],
   "source": [
    "MT_vs_sdmass_2000_750_up = Hist2D.from_bincounts(\n",
    "    scaled_output['MT_vs_sdmass_up'].values(overflow='over')[('2HDMa_sinp_0.35_tanb_1.0_mXd_10_MH3_2000_MH4_750_MH2_2000_MHC_2000',)].T,\n",
    "    (scaled_output['MT_vs_sdmass_up'].axis('mt').edges(overflow='over'), scaled_output['MT_vs_sdmass_up'].axis('mass').edges(overflow='over')),\n",
    "    errors = np.sqrt(scaled_output['MT_vs_sdmass_up'].values(sumw2=True, overflow='over')[('2HDMa_sinp_0.35_tanb_1.0_mXd_10_MH3_2000_MH4_750_MH2_2000_MHC_2000',)][1].T),\n",
    ")"
   ]
  },
  {
   "cell_type": "code",
   "execution_count": null,
   "id": "6080bba7",
   "metadata": {},
   "outputs": [],
   "source": [
    "for b in range(0,4):\n",
    "    for j in range(0,10):\n",
    "        if MT_vs_sdmass_2000_750_up.counts[b][j] == 0:\n",
    "            MT_vs_sdmass_2000_750_up.counts[b][j] = 0.01\n",
    "            MT_vs_sdmass_2000_750_up.errors[b][j] = 0.01"
   ]
  },
  {
   "cell_type": "code",
   "execution_count": null,
   "id": "39146aaa",
   "metadata": {},
   "outputs": [],
   "source": [
    "MT_vs_sdmass_Z_up = Hist2D.from_bincounts(\n",
    "     scaled_output['MT_vs_sdmass_up'].values(overflow='over')[('ZJetsToNuNu_HT',)].T,\n",
    "    (scaled_output['MT_vs_sdmass_up'].axis('mt').edges(overflow='over'), scaled_output['MT_vs_sdmass_up'].axis('mass').edges(overflow='over')),\n",
    "    errors = np.sqrt(scaled_output['MT_vs_sdmass_up'].values(sumw2=True, overflow='over')[('ZJetsToNuNu_HT',)][1].T),\n",
    ")"
   ]
  },
  {
   "cell_type": "code",
   "execution_count": null,
   "id": "12f610b0",
   "metadata": {},
   "outputs": [],
   "source": [
    "for b in range(0,4):\n",
    "    for j in range(0,10):\n",
    "        if MT_vs_sdmass_Z_up.counts[b][j] == 0:\n",
    "            MT_vs_sdmass_Z_up.counts[b][j] = 0.01\n",
    "            MT_vs_sdmass_Z_up.errors[b][j] = 0.01"
   ]
  },
  {
   "cell_type": "code",
   "execution_count": null,
   "id": "59a8e06c",
   "metadata": {},
   "outputs": [],
   "source": [
    "MT_vs_sdmass_tt_up = Hist2D.from_bincounts(\n",
    "     scaled_output['MT_vs_sdmass_up'].values(overflow='over')[('TT',)].T,\n",
    "    (scaled_output['MT_vs_sdmass_up'].axis('mt').edges(overflow='over'), scaled_output['MT_vs_sdmass_up'].axis('mass').edges(overflow='over')),\n",
    "    errors = np.sqrt(scaled_output['MT_vs_sdmass_up'].values(sumw2=True, overflow='over')[('TT',)][1].T),\n",
    ")"
   ]
  },
  {
   "cell_type": "code",
   "execution_count": null,
   "id": "2a9d6c3b",
   "metadata": {},
   "outputs": [],
   "source": [
    "for b in range(0,4):\n",
    "    for j in range(0,10):\n",
    "        if MT_vs_sdmass_tt_up.counts[b][j] == 0:\n",
    "            MT_vs_sdmass_tt_up.counts[b][j] = 0.01\n",
    "            MT_vs_sdmass_tt_up.errors[b][j] = 0.01"
   ]
  },
  {
   "cell_type": "code",
   "execution_count": null,
   "id": "4f231227",
   "metadata": {},
   "outputs": [],
   "source": [
    "MT_vs_sdmass_W_up = Hist2D.from_bincounts(\n",
    "     scaled_output['MT_vs_sdmass_up'].values(overflow='over')[('WJetsToLNu_Njet',)].T,\n",
    "    (scaled_output['MT_vs_sdmass_up'].axis('mt').edges(overflow='over'), scaled_output['MT_vs_sdmass_up'].axis('mass').edges(overflow='over')),\n",
    "    errors = np.sqrt(scaled_output['MT_vs_sdmass_up'].values(sumw2=True, overflow='over')[('WJetsToLNu_Njet',)][1].T),\n",
    ")"
   ]
  },
  {
   "cell_type": "code",
   "execution_count": null,
   "id": "10f6ba72",
   "metadata": {},
   "outputs": [],
   "source": [
    "for b in range(0,4):\n",
    "    for j in range(0,10):\n",
    "        if MT_vs_sdmass_W_up.counts[b][j] == 0:\n",
    "            MT_vs_sdmass_W_up.counts[b][j] = 0.01\n",
    "            MT_vs_sdmass_W_up.errors[b][j] = 0.01"
   ]
  },
  {
   "cell_type": "code",
   "execution_count": null,
   "id": "737c9a13",
   "metadata": {},
   "outputs": [],
   "source": [
    "MT_vs_sdmass_QCD_up = Hist2D.from_bincounts(\n",
    "     scaled_output['MT_vs_sdmass_up'].values(overflow='over')[('QCD_bEnriched_HT',)].T,\n",
    "    (scaled_output['MT_vs_sdmass_up'].axis('mt').edges(overflow='over'), scaled_output['MT_vs_sdmass_up'].axis('mass').edges(overflow='over')),\n",
    "    errors = np.sqrt(scaled_output['MT_vs_sdmass_up'].values(sumw2=True, overflow='over')[('QCD_bEnriched_HT',)][1].T),\n",
    ")"
   ]
  },
  {
   "cell_type": "code",
   "execution_count": null,
   "id": "9b7e9e61",
   "metadata": {},
   "outputs": [],
   "source": [
    "for b in range(0,4):\n",
    "    for j in range(0,10):\n",
    "        if MT_vs_sdmass_QCD_up.counts[b][j] == 0:\n",
    "            MT_vs_sdmass_QCD_up.counts[b][j] = 0.01\n",
    "            MT_vs_sdmass_QCD_up.errors[b][j] = 0.01"
   ]
  },
  {
   "cell_type": "markdown",
   "id": "ecac0cbb",
   "metadata": {},
   "source": [
    "$~$"
   ]
  },
  {
   "cell_type": "code",
   "execution_count": null,
   "id": "1a92946e",
   "metadata": {},
   "outputs": [],
   "source": [
    "MT_vs_sdmass_1500_150_down = Hist2D.from_bincounts(\n",
    "    scaled_output['MT_vs_sdmass_down'].values(overflow='over')[('2HDMa_sinp_0.35_tanb_1.0_mXd_10_MH3_1500_MH4_150_MH2_1500_MHC_1500',)].T,\n",
    "    (scaled_output['MT_vs_sdmass_down'].axis('mt').edges(overflow='over'), scaled_output['MT_vs_sdmass_down'].axis('mass').edges(overflow='over')),\n",
    "    errors = np.sqrt(scaled_output['MT_vs_sdmass_down'].values(sumw2=True, overflow='over')[('2HDMa_sinp_0.35_tanb_1.0_mXd_10_MH3_1500_MH4_150_MH2_1500_MHC_1500',)][1].T),\n",
    ")"
   ]
  },
  {
   "cell_type": "code",
   "execution_count": null,
   "id": "fc8f1a83",
   "metadata": {},
   "outputs": [],
   "source": [
    "for b in range(0,4):\n",
    "    for j in range(0,10):\n",
    "        if MT_vs_sdmass_1500_150_down.counts[b][j] == 0:\n",
    "            MT_vs_sdmass_1500_150_down.counts[b][j] = 0.01\n",
    "            MT_vs_sdmass_1500_150_down.errors[b][j] = 0.01"
   ]
  },
  {
   "cell_type": "code",
   "execution_count": null,
   "id": "fbeafc79",
   "metadata": {},
   "outputs": [],
   "source": [
    "MT_vs_sdmass_1500_750_down = Hist2D.from_bincounts(\n",
    "    scaled_output['MT_vs_sdmass_down'].values(overflow='over')[('2HDMa_sinp_0.35_tanb_1.0_mXd_10_MH3_1500_MH4_750_MH2_1500_MHC_1500',)].T,\n",
    "    (scaled_output['MT_vs_sdmass_down'].axis('mt').edges(overflow='over'), scaled_output['MT_vs_sdmass_down'].axis('mass').edges(overflow='over')),\n",
    "    errors = np.sqrt(scaled_output['MT_vs_sdmass_down'].values(sumw2=True, overflow='over')[('2HDMa_sinp_0.35_tanb_1.0_mXd_10_MH3_1500_MH4_750_MH2_1500_MHC_1500',)][1].T),\n",
    ")"
   ]
  },
  {
   "cell_type": "code",
   "execution_count": null,
   "id": "4d57c12d",
   "metadata": {},
   "outputs": [],
   "source": [
    "for b in range(0,4):\n",
    "    for j in range(0,10):\n",
    "        if MT_vs_sdmass_1500_750_down.counts[b][j] == 0:\n",
    "            MT_vs_sdmass_1500_750_down.counts[b][j] = 0.01\n",
    "            MT_vs_sdmass_1500_750_down.errors[b][j] = 0.01"
   ]
  },
  {
   "cell_type": "code",
   "execution_count": null,
   "id": "e04e882f",
   "metadata": {},
   "outputs": [],
   "source": [
    "MT_vs_sdmass_1750_750_down = Hist2D.from_bincounts(\n",
    "    scaled_output['MT_vs_sdmass_down'].values(overflow='over')[('2HDMa_sinp_0.35_tanb_1.0_mXd_10_MH3_1750_MH4_750_MH2_1750_MHC_1750',)].T,\n",
    "    (scaled_output['MT_vs_sdmass_down'].axis('mt').edges(overflow='over'), scaled_output['MT_vs_sdmass_down'].axis('mass').edges(overflow='over')),\n",
    "    errors = np.sqrt(scaled_output['MT_vs_sdmass_down'].values(sumw2=True, overflow='over')[('2HDMa_sinp_0.35_tanb_1.0_mXd_10_MH3_1750_MH4_750_MH2_1750_MHC_1750',)][1].T),\n",
    ")"
   ]
  },
  {
   "cell_type": "code",
   "execution_count": null,
   "id": "cf2e96c2",
   "metadata": {},
   "outputs": [],
   "source": [
    "for b in range(0,4):\n",
    "    for j in range(0,10):\n",
    "        if MT_vs_sdmass_1750_750_down.counts[b][j] == 0:\n",
    "            MT_vs_sdmass_1750_750_down.counts[b][j] = 0.01\n",
    "            MT_vs_sdmass_1750_750_down.errors[b][j] = 0.01"
   ]
  },
  {
   "cell_type": "code",
   "execution_count": null,
   "id": "f5fce205",
   "metadata": {},
   "outputs": [],
   "source": [
    "MT_vs_sdmass_2000_750_down = Hist2D.from_bincounts(\n",
    "    scaled_output['MT_vs_sdmass_down'].values(overflow='over')[('2HDMa_sinp_0.35_tanb_1.0_mXd_10_MH3_2000_MH4_750_MH2_2000_MHC_2000',)].T,\n",
    "    (scaled_output['MT_vs_sdmass_down'].axis('mt').edges(overflow='over'), scaled_output['MT_vs_sdmass_down'].axis('mass').edges(overflow='over')),\n",
    "    errors = np.sqrt(scaled_output['MT_vs_sdmass_down'].values(sumw2=True, overflow='over')[('2HDMa_sinp_0.35_tanb_1.0_mXd_10_MH3_2000_MH4_750_MH2_2000_MHC_2000',)][1].T),\n",
    ")"
   ]
  },
  {
   "cell_type": "code",
   "execution_count": null,
   "id": "06ba324b",
   "metadata": {},
   "outputs": [],
   "source": [
    "for b in range(0,4):\n",
    "    for j in range(0,10):\n",
    "        if MT_vs_sdmass_2000_750_down.counts[b][j] == 0:\n",
    "            MT_vs_sdmass_2000_750_down.counts[b][j] = 0.01\n",
    "            MT_vs_sdmass_2000_750_down.errors[b][j] = 0.01"
   ]
  },
  {
   "cell_type": "code",
   "execution_count": null,
   "id": "5471d6ca",
   "metadata": {},
   "outputs": [],
   "source": [
    "MT_vs_sdmass_Z_down = Hist2D.from_bincounts(\n",
    "     scaled_output['MT_vs_sdmass_down'].values(overflow='over')[('ZJetsToNuNu_HT',)].T,\n",
    "    (scaled_output['MT_vs_sdmass_down'].axis('mt').edges(overflow='over'), scaled_output['MT_vs_sdmass_down'].axis('mass').edges(overflow='over')),\n",
    "    errors = np.sqrt(scaled_output['MT_vs_sdmass_down'].values(sumw2=True, overflow='over')[('ZJetsToNuNu_HT',)][1].T),\n",
    ")"
   ]
  },
  {
   "cell_type": "code",
   "execution_count": null,
   "id": "d721b0a4",
   "metadata": {},
   "outputs": [],
   "source": [
    "for b in range(0,4):\n",
    "    for j in range(0,10):\n",
    "        if MT_vs_sdmass_Z_down.counts[b][j] == 0:\n",
    "            MT_vs_sdmass_Z_down.counts[b][j] = 0.01\n",
    "            MT_vs_sdmass_Z_down.errors[b][j] = 0.01"
   ]
  },
  {
   "cell_type": "code",
   "execution_count": null,
   "id": "aa4671ee",
   "metadata": {},
   "outputs": [],
   "source": [
    "MT_vs_sdmass_tt_down = Hist2D.from_bincounts(\n",
    "     scaled_output['MT_vs_sdmass_down'].values(overflow='over')[('TT',)].T,\n",
    "    (scaled_output['MT_vs_sdmass_down'].axis('mt').edges(overflow='over'), scaled_output['MT_vs_sdmass_down'].axis('mass').edges(overflow='over')),\n",
    "    errors = np.sqrt(scaled_output['MT_vs_sdmass_down'].values(sumw2=True, overflow='over')[('TT',)][1].T),\n",
    ")"
   ]
  },
  {
   "cell_type": "code",
   "execution_count": null,
   "id": "5502369d",
   "metadata": {},
   "outputs": [],
   "source": [
    "for b in range(0,4):\n",
    "    for j in range(0,10):\n",
    "        if MT_vs_sdmass_tt_down.counts[b][j] == 0:\n",
    "            MT_vs_sdmass_tt_down.counts[b][j] = 0.01\n",
    "            MT_vs_sdmass_tt_down.errors[b][j] = 0.01"
   ]
  },
  {
   "cell_type": "code",
   "execution_count": null,
   "id": "7baef86d",
   "metadata": {},
   "outputs": [],
   "source": [
    "MT_vs_sdmass_W_down = Hist2D.from_bincounts(\n",
    "     scaled_output['MT_vs_sdmass_down'].values(overflow='over')[('WJetsToLNu_Njet',)].T,\n",
    "    (scaled_output['MT_vs_sdmass_down'].axis('mt').edges(overflow='over'), scaled_output['MT_vs_sdmass_down'].axis('mass').edges(overflow='over')),\n",
    "    errors = np.sqrt(scaled_output['MT_vs_sdmass_down'].values(sumw2=True, overflow='over')[('WJetsToLNu_Njet',)][1].T),\n",
    ")"
   ]
  },
  {
   "cell_type": "code",
   "execution_count": null,
   "id": "980acd9f",
   "metadata": {},
   "outputs": [],
   "source": [
    "for b in range(0,4):\n",
    "    for j in range(0,10):\n",
    "        if MT_vs_sdmass_W_down.counts[b][j] == 0:\n",
    "            MT_vs_sdmass_W_down.counts[b][j] = 0.01\n",
    "            MT_vs_sdmass_W_down.errors[b][j] = 0.01"
   ]
  },
  {
   "cell_type": "code",
   "execution_count": null,
   "id": "3f90208a",
   "metadata": {},
   "outputs": [],
   "source": [
    "MT_vs_sdmass_QCD_down = Hist2D.from_bincounts(\n",
    "     scaled_output['MT_vs_sdmass_down'].values(overflow='over')[('QCD_bEnriched_HT',)].T,\n",
    "    (scaled_output['MT_vs_sdmass_down'].axis('mt').edges(overflow='over'), scaled_output['MT_vs_sdmass_down'].axis('mass').edges(overflow='over')),\n",
    "    errors = np.sqrt(scaled_output['MT_vs_sdmass_down'].values(sumw2=True, overflow='over')[('QCD_bEnriched_HT',)][1].T),\n",
    ")"
   ]
  },
  {
   "cell_type": "code",
   "execution_count": null,
   "id": "2fda041c",
   "metadata": {},
   "outputs": [],
   "source": [
    "for b in range(0,4):\n",
    "    for j in range(0,10):\n",
    "        if MT_vs_sdmass_QCD_down.counts[b][j] == 0:\n",
    "            MT_vs_sdmass_QCD_down.counts[b][j] = 0.01\n",
    "            MT_vs_sdmass_QCD_down.errors[b][j] = 0.01"
   ]
  },
  {
   "cell_type": "markdown",
   "id": "958d7e85",
   "metadata": {},
   "source": [
    "$~$"
   ]
  },
  {
   "cell_type": "code",
   "execution_count": null,
   "id": "39adc18d",
   "metadata": {},
   "outputs": [],
   "source": [
    "differences_avg_1500_150 = abs((MT_vs_sdmass_1500_150_up-MT_vs_sdmass_1500_150_down).counts)/(2*MT_vs_sdmass_1500_150_central.counts)+1"
   ]
  },
  {
   "cell_type": "code",
   "execution_count": null,
   "id": "077ae1b0",
   "metadata": {},
   "outputs": [],
   "source": [
    "differences_avg_1500_750 = abs((MT_vs_sdmass_1500_750_up-MT_vs_sdmass_1500_750_down).counts)/(2*MT_vs_sdmass_1500_750_central.counts)+1"
   ]
  },
  {
   "cell_type": "code",
   "execution_count": null,
   "id": "f7a841c0",
   "metadata": {},
   "outputs": [],
   "source": [
    "differences_avg_1750_750 = abs((MT_vs_sdmass_1750_750_up-MT_vs_sdmass_1750_750_down).counts)/(2*MT_vs_sdmass_1750_750_central.counts)+1"
   ]
  },
  {
   "cell_type": "code",
   "execution_count": null,
   "id": "274f68f3",
   "metadata": {},
   "outputs": [],
   "source": [
    "differences_avg_2000_750 = abs((MT_vs_sdmass_2000_750_up-MT_vs_sdmass_2000_750_down).counts)/(2*MT_vs_sdmass_2000_750_central.counts)+1"
   ]
  },
  {
   "cell_type": "code",
   "execution_count": null,
   "id": "7091a96c",
   "metadata": {},
   "outputs": [],
   "source": [
    "differences_avg_Z = abs((MT_vs_sdmass_Z_up-MT_vs_sdmass_Z_down).counts)/(2*MT_vs_sdmass_Z_central.counts)+1"
   ]
  },
  {
   "cell_type": "code",
   "execution_count": null,
   "id": "deb83616",
   "metadata": {},
   "outputs": [],
   "source": [
    "differences_avg_tt = abs((MT_vs_sdmass_tt_up-MT_vs_sdmass_tt_down).counts)/(2*MT_vs_sdmass_tt_central.counts)+1"
   ]
  },
  {
   "cell_type": "code",
   "execution_count": null,
   "id": "b028d783",
   "metadata": {},
   "outputs": [],
   "source": [
    "differences_avg_W = abs((MT_vs_sdmass_W_up-MT_vs_sdmass_W_down).counts)/(2*MT_vs_sdmass_W_central.counts)+1"
   ]
  },
  {
   "cell_type": "code",
   "execution_count": null,
   "id": "57e948f6",
   "metadata": {},
   "outputs": [],
   "source": [
    "differences_avg_QCD = abs((MT_vs_sdmass_QCD_up-MT_vs_sdmass_QCD_down).counts)/(2*MT_vs_sdmass_QCD_central.counts)+1"
   ]
  },
  {
   "cell_type": "markdown",
   "id": "f4d5cc5c",
   "metadata": {},
   "source": [
    "$~$"
   ]
  },
  {
   "cell_type": "code",
   "execution_count": null,
   "id": "e6645f32",
   "metadata": {},
   "outputs": [],
   "source": [
    "MT_vs_sdmass_1500_150_0b_up = Hist2D.from_bincounts(\n",
    "    scaled_output['MT_vs_sdmass_central_0b_up'].values(overflow='over')[('2HDMa_sinp_0.35_tanb_1.0_mXd_10_MH3_1500_MH4_150_MH2_1500_MHC_1500',)].T,\n",
    "    (scaled_output['MT_vs_sdmass_central_0b_up'].axis('mt').edges(overflow='over'), scaled_output['MT_vs_sdmass_central_0b_up'].axis('mass').edges(overflow='over')),\n",
    "    errors = np.sqrt(scaled_output['MT_vs_sdmass_central_0b_up'].values(sumw2=True, overflow='over')[('2HDMa_sinp_0.35_tanb_1.0_mXd_10_MH3_1500_MH4_150_MH2_1500_MHC_1500',)][1].T),\n",
    ")"
   ]
  },
  {
   "cell_type": "code",
   "execution_count": null,
   "id": "f4725d91",
   "metadata": {},
   "outputs": [],
   "source": [
    "for b in range(0,4):\n",
    "    for j in range(0,10):\n",
    "        if MT_vs_sdmass_1500_150_0b_up.counts[b][j] == 0:\n",
    "            MT_vs_sdmass_1500_150_0b_up.counts[b][j] = 0.01\n",
    "            MT_vs_sdmass_1500_150_0b_up.errors[b][j] = 0.01"
   ]
  },
  {
   "cell_type": "code",
   "execution_count": null,
   "id": "7f1395ba",
   "metadata": {},
   "outputs": [],
   "source": [
    "MT_vs_sdmass_1500_750_0b_up = Hist2D.from_bincounts(\n",
    "    scaled_output['MT_vs_sdmass_central_0b_up'].values(overflow='over')[('2HDMa_sinp_0.35_tanb_1.0_mXd_10_MH3_1500_MH4_750_MH2_1500_MHC_1500',)].T,\n",
    "    (scaled_output['MT_vs_sdmass_central_0b_up'].axis('mt').edges(overflow='over'), scaled_output['MT_vs_sdmass_central_0b_up'].axis('mass').edges(overflow='over')),\n",
    "    errors = np.sqrt(scaled_output['MT_vs_sdmass_central_0b_up'].values(sumw2=True, overflow='over')[('2HDMa_sinp_0.35_tanb_1.0_mXd_10_MH3_1500_MH4_750_MH2_1500_MHC_1500',)][1].T),\n",
    ")"
   ]
  },
  {
   "cell_type": "code",
   "execution_count": null,
   "id": "bf3ec52b",
   "metadata": {},
   "outputs": [],
   "source": [
    "for b in range(0,4):\n",
    "    for j in range(0,10):\n",
    "        if MT_vs_sdmass_1500_750_0b_up.counts[b][j] == 0:\n",
    "            MT_vs_sdmass_1500_750_0b_up.counts[b][j] = 0.01\n",
    "            MT_vs_sdmass_1500_750_0b_up.errors[b][j] = 0.01"
   ]
  },
  {
   "cell_type": "code",
   "execution_count": null,
   "id": "0ce2ca53",
   "metadata": {},
   "outputs": [],
   "source": [
    "MT_vs_sdmass_1750_750_0b_up = Hist2D.from_bincounts(\n",
    "    scaled_output['MT_vs_sdmass_central_0b_up'].values(overflow='over')[('2HDMa_sinp_0.35_tanb_1.0_mXd_10_MH3_1750_MH4_750_MH2_1750_MHC_1750',)].T,\n",
    "    (scaled_output['MT_vs_sdmass_central_0b_up'].axis('mt').edges(overflow='over'), scaled_output['MT_vs_sdmass_central_0b_up'].axis('mass').edges(overflow='over')),\n",
    "    errors = np.sqrt(scaled_output['MT_vs_sdmass_central_0b_up'].values(sumw2=True, overflow='over')[('2HDMa_sinp_0.35_tanb_1.0_mXd_10_MH3_1750_MH4_750_MH2_1750_MHC_1750',)][1].T),\n",
    ")"
   ]
  },
  {
   "cell_type": "code",
   "execution_count": null,
   "id": "e5d1a500",
   "metadata": {},
   "outputs": [],
   "source": [
    "for b in range(0,4):\n",
    "    for j in range(0,10):\n",
    "        if MT_vs_sdmass_1750_750_0b_up.counts[b][j] == 0:\n",
    "            MT_vs_sdmass_1750_750_0b_up.counts[b][j] = 0.01\n",
    "            MT_vs_sdmass_1750_750_0b_up.errors[b][j] = 0.01"
   ]
  },
  {
   "cell_type": "code",
   "execution_count": null,
   "id": "3761f4e5",
   "metadata": {},
   "outputs": [],
   "source": [
    "MT_vs_sdmass_2000_750_0b_up = Hist2D.from_bincounts(\n",
    "    scaled_output['MT_vs_sdmass_central_0b_up'].values(overflow='over')[('2HDMa_sinp_0.35_tanb_1.0_mXd_10_MH3_2000_MH4_750_MH2_2000_MHC_2000',)].T,\n",
    "    (scaled_output['MT_vs_sdmass_central_0b_up'].axis('mt').edges(overflow='over'), scaled_output['MT_vs_sdmass_central_0b_up'].axis('mass').edges(overflow='over')),\n",
    "    errors = np.sqrt(scaled_output['MT_vs_sdmass_central_0b_up'].values(sumw2=True, overflow='over')[('2HDMa_sinp_0.35_tanb_1.0_mXd_10_MH3_2000_MH4_750_MH2_2000_MHC_2000',)][1].T),\n",
    ")"
   ]
  },
  {
   "cell_type": "code",
   "execution_count": null,
   "id": "523e1735",
   "metadata": {},
   "outputs": [],
   "source": [
    "for b in range(0,4):\n",
    "    for j in range(0,10):\n",
    "        if MT_vs_sdmass_2000_750_0b_up.counts[b][j] == 0:\n",
    "            MT_vs_sdmass_2000_750_0b_up.counts[b][j] = 0.01\n",
    "            MT_vs_sdmass_2000_750_0b_up.errors[b][j] = 0.01"
   ]
  },
  {
   "cell_type": "code",
   "execution_count": null,
   "id": "49220285",
   "metadata": {},
   "outputs": [],
   "source": [
    "MT_vs_sdmass_Z_0b_up = Hist2D.from_bincounts(\n",
    "     scaled_output['MT_vs_sdmass_central_0b_up'].values(overflow='over')[('ZJetsToNuNu_HT',)].T,\n",
    "    (scaled_output['MT_vs_sdmass_central_0b_up'].axis('mt').edges(overflow='over'), scaled_output['MT_vs_sdmass_central_0b_up'].axis('mass').edges(overflow='over')),\n",
    "    errors = np.sqrt(scaled_output['MT_vs_sdmass_central_0b_up'].values(sumw2=True, overflow='over')[('ZJetsToNuNu_HT',)][1].T),\n",
    ")"
   ]
  },
  {
   "cell_type": "code",
   "execution_count": null,
   "id": "564e5428",
   "metadata": {},
   "outputs": [],
   "source": [
    "for b in range(0,4):\n",
    "    for j in range(0,10):\n",
    "        if MT_vs_sdmass_Z_0b_up.counts[b][j] == 0:\n",
    "            MT_vs_sdmass_Z_0b_up.counts[b][j] = 0.01\n",
    "            MT_vs_sdmass_Z_0b_up.errors[b][j] = 0.01"
   ]
  },
  {
   "cell_type": "code",
   "execution_count": null,
   "id": "29c2333e",
   "metadata": {},
   "outputs": [],
   "source": [
    "MT_vs_sdmass_tt_0b_up = Hist2D.from_bincounts(\n",
    "     scaled_output['MT_vs_sdmass_central_0b_up'].values(overflow='over')[('TT',)].T,\n",
    "    (scaled_output['MT_vs_sdmass_central_0b_up'].axis('mt').edges(overflow='over'), scaled_output['MT_vs_sdmass_central_0b_up'].axis('mass').edges(overflow='over')),\n",
    "    errors = np.sqrt(scaled_output['MT_vs_sdmass_central_0b_up'].values(sumw2=True, overflow='over')[('TT',)][1].T),\n",
    ")"
   ]
  },
  {
   "cell_type": "code",
   "execution_count": null,
   "id": "f99bd783",
   "metadata": {},
   "outputs": [],
   "source": [
    "for b in range(0,4):\n",
    "    for j in range(0,10):\n",
    "        if MT_vs_sdmass_tt_0b_up.counts[b][j] == 0:\n",
    "            MT_vs_sdmass_tt_0b_up.counts[b][j] = 0.01\n",
    "            MT_vs_sdmass_tt_0b_up.errors[b][j] = 0.01"
   ]
  },
  {
   "cell_type": "code",
   "execution_count": null,
   "id": "ca745380",
   "metadata": {},
   "outputs": [],
   "source": [
    "MT_vs_sdmass_W_0b_up = Hist2D.from_bincounts(\n",
    "     scaled_output['MT_vs_sdmass_central_0b_up'].values(overflow='over')[('WJetsToLNu_Njet',)].T,\n",
    "    (scaled_output['MT_vs_sdmass_central_0b_up'].axis('mt').edges(overflow='over'), scaled_output['MT_vs_sdmass_central_0b_up'].axis('mass').edges(overflow='over')),\n",
    "    errors = np.sqrt(scaled_output['MT_vs_sdmass_central_0b_up'].values(sumw2=True, overflow='over')[('WJetsToLNu_Njet',)][1].T),\n",
    ")"
   ]
  },
  {
   "cell_type": "code",
   "execution_count": null,
   "id": "a844b4e5",
   "metadata": {},
   "outputs": [],
   "source": [
    "for b in range(0,4):\n",
    "    for j in range(0,10):\n",
    "        if MT_vs_sdmass_W_0b_up.counts[b][j] == 0:\n",
    "            MT_vs_sdmass_W_0b_up.counts[b][j] = 0.01\n",
    "            MT_vs_sdmass_W_0b_up.errors[b][j] = 0.01"
   ]
  },
  {
   "cell_type": "code",
   "execution_count": null,
   "id": "0599d24a",
   "metadata": {},
   "outputs": [],
   "source": [
    "MT_vs_sdmass_QCD_0b_up = Hist2D.from_bincounts(\n",
    "     scaled_output['MT_vs_sdmass_central_0b_up'].values(overflow='over')[('QCD_bEnriched_HT',)].T,\n",
    "    (scaled_output['MT_vs_sdmass_central_0b_up'].axis('mt').edges(overflow='over'), scaled_output['MT_vs_sdmass_central_0b_up'].axis('mass').edges(overflow='over')),\n",
    "    errors = np.sqrt(scaled_output['MT_vs_sdmass_central_0b_up'].values(sumw2=True, overflow='over')[('QCD_bEnriched_HT',)][1].T),\n",
    ")"
   ]
  },
  {
   "cell_type": "code",
   "execution_count": null,
   "id": "ddee3929",
   "metadata": {},
   "outputs": [],
   "source": [
    "for b in range(0,4):\n",
    "    for j in range(0,10):\n",
    "        if MT_vs_sdmass_QCD_0b_up.counts[b][j] == 0:\n",
    "            MT_vs_sdmass_QCD_0b_up.counts[b][j] = 0.01\n",
    "            MT_vs_sdmass_QCD_0b_up.errors[b][j] = 0.01"
   ]
  },
  {
   "cell_type": "markdown",
   "id": "f10fbda7",
   "metadata": {},
   "source": [
    "$~$"
   ]
  },
  {
   "cell_type": "code",
   "execution_count": null,
   "id": "1813bb2c",
   "metadata": {},
   "outputs": [],
   "source": [
    "MT_vs_sdmass_1500_150_0b_down = Hist2D.from_bincounts(\n",
    "    scaled_output['MT_vs_sdmass_central_0b_down'].values(overflow='over')[('2HDMa_sinp_0.35_tanb_1.0_mXd_10_MH3_1500_MH4_150_MH2_1500_MHC_1500',)].T,\n",
    "    (scaled_output['MT_vs_sdmass_central_0b_down'].axis('mt').edges(overflow='over'), scaled_output['MT_vs_sdmass_central_0b_down'].axis('mass').edges(overflow='over')),\n",
    "    errors = np.sqrt(scaled_output['MT_vs_sdmass_central_0b_down'].values(sumw2=True, overflow='over')[('2HDMa_sinp_0.35_tanb_1.0_mXd_10_MH3_1500_MH4_150_MH2_1500_MHC_1500',)][1].T),\n",
    ")"
   ]
  },
  {
   "cell_type": "code",
   "execution_count": null,
   "id": "5d359517",
   "metadata": {},
   "outputs": [],
   "source": [
    "for b in range(0,4):\n",
    "    for j in range(0,10):\n",
    "        if MT_vs_sdmass_1500_150_0b_down.counts[b][j] == 0:\n",
    "            MT_vs_sdmass_1500_150_0b_down.counts[b][j] = 0.01\n",
    "            MT_vs_sdmass_1500_150_0b_down.errors[b][j] = 0.01"
   ]
  },
  {
   "cell_type": "code",
   "execution_count": null,
   "id": "c9870eaa",
   "metadata": {},
   "outputs": [],
   "source": [
    "MT_vs_sdmass_1500_750_0b_down = Hist2D.from_bincounts(\n",
    "    scaled_output['MT_vs_sdmass_central_0b_down'].values(overflow='over')[('2HDMa_sinp_0.35_tanb_1.0_mXd_10_MH3_1500_MH4_750_MH2_1500_MHC_1500',)].T,\n",
    "    (scaled_output['MT_vs_sdmass_central_0b_down'].axis('mt').edges(overflow='over'), scaled_output['MT_vs_sdmass_central_0b_down'].axis('mass').edges(overflow='over')),\n",
    "    errors = np.sqrt(scaled_output['MT_vs_sdmass_central_0b_down'].values(sumw2=True, overflow='over')[('2HDMa_sinp_0.35_tanb_1.0_mXd_10_MH3_1500_MH4_750_MH2_1500_MHC_1500',)][1].T),\n",
    ")"
   ]
  },
  {
   "cell_type": "code",
   "execution_count": null,
   "id": "05a432de",
   "metadata": {},
   "outputs": [],
   "source": [
    "for b in range(0,4):\n",
    "    for j in range(0,10):\n",
    "        if MT_vs_sdmass_1500_750_0b_down.counts[b][j] == 0:\n",
    "            MT_vs_sdmass_1500_750_0b_down.counts[b][j] = 0.01\n",
    "            MT_vs_sdmass_1500_750_0b_down.errors[b][j] = 0.01"
   ]
  },
  {
   "cell_type": "code",
   "execution_count": null,
   "id": "d1118a24",
   "metadata": {},
   "outputs": [],
   "source": [
    "MT_vs_sdmass_1750_750_0b_down = Hist2D.from_bincounts(\n",
    "    scaled_output['MT_vs_sdmass_central_0b_down'].values(overflow='over')[('2HDMa_sinp_0.35_tanb_1.0_mXd_10_MH3_1750_MH4_750_MH2_1750_MHC_1750',)].T,\n",
    "    (scaled_output['MT_vs_sdmass_central_0b_down'].axis('mt').edges(overflow='over'), scaled_output['MT_vs_sdmass_central_0b_down'].axis('mass').edges(overflow='over')),\n",
    "    errors = np.sqrt(scaled_output['MT_vs_sdmass_central_0b_down'].values(sumw2=True, overflow='over')[('2HDMa_sinp_0.35_tanb_1.0_mXd_10_MH3_1750_MH4_750_MH2_1750_MHC_1750',)][1].T),\n",
    ")"
   ]
  },
  {
   "cell_type": "code",
   "execution_count": null,
   "id": "cc78b1e1",
   "metadata": {},
   "outputs": [],
   "source": [
    "for b in range(0,4):\n",
    "    for j in range(0,10):\n",
    "        if MT_vs_sdmass_1750_750_0b_down.counts[b][j] == 0:\n",
    "            MT_vs_sdmass_1750_750_0b_down.counts[b][j] = 0.01\n",
    "            MT_vs_sdmass_1750_750_0b_down.errors[b][j] = 0.01"
   ]
  },
  {
   "cell_type": "code",
   "execution_count": null,
   "id": "6c016115",
   "metadata": {},
   "outputs": [],
   "source": [
    "MT_vs_sdmass_2000_750_0b_down = Hist2D.from_bincounts(\n",
    "    scaled_output['MT_vs_sdmass_central_0b_down'].values(overflow='over')[('2HDMa_sinp_0.35_tanb_1.0_mXd_10_MH3_2000_MH4_750_MH2_2000_MHC_2000',)].T,\n",
    "    (scaled_output['MT_vs_sdmass_central_0b_down'].axis('mt').edges(overflow='over'), scaled_output['MT_vs_sdmass_central_0b_down'].axis('mass').edges(overflow='over')),\n",
    "    errors = np.sqrt(scaled_output['MT_vs_sdmass_central_0b_down'].values(sumw2=True, overflow='over')[('2HDMa_sinp_0.35_tanb_1.0_mXd_10_MH3_2000_MH4_750_MH2_2000_MHC_2000',)][1].T),\n",
    ")"
   ]
  },
  {
   "cell_type": "code",
   "execution_count": null,
   "id": "d0c2d402",
   "metadata": {},
   "outputs": [],
   "source": [
    "for b in range(0,4):\n",
    "    for j in range(0,10):\n",
    "        if MT_vs_sdmass_2000_750_0b_down.counts[b][j] == 0:\n",
    "            MT_vs_sdmass_2000_750_0b_down.counts[b][j] = 0.01\n",
    "            MT_vs_sdmass_2000_750_0b_down.errors[b][j] = 0.01"
   ]
  },
  {
   "cell_type": "code",
   "execution_count": null,
   "id": "68d56c48",
   "metadata": {},
   "outputs": [],
   "source": [
    "MT_vs_sdmass_Z_0b_down = Hist2D.from_bincounts(\n",
    "     scaled_output['MT_vs_sdmass_central_0b_down'].values(overflow='over')[('ZJetsToNuNu_HT',)].T,\n",
    "    (scaled_output['MT_vs_sdmass_central_0b_down'].axis('mt').edges(overflow='over'), scaled_output['MT_vs_sdmass_central_0b_down'].axis('mass').edges(overflow='over')),\n",
    "    errors = np.sqrt(scaled_output['MT_vs_sdmass_central_0b_down'].values(sumw2=True, overflow='over')[('ZJetsToNuNu_HT',)][1].T),\n",
    ")"
   ]
  },
  {
   "cell_type": "code",
   "execution_count": null,
   "id": "82cd2a1d",
   "metadata": {},
   "outputs": [],
   "source": [
    "for b in range(0,4):\n",
    "    for j in range(0,10):\n",
    "        if MT_vs_sdmass_Z_0b_down.counts[b][j] == 0:\n",
    "            MT_vs_sdmass_Z_0b_down.counts[b][j] = 0.01\n",
    "            MT_vs_sdmass_Z_0b_down.errors[b][j] = 0.01"
   ]
  },
  {
   "cell_type": "code",
   "execution_count": null,
   "id": "849a58f0",
   "metadata": {},
   "outputs": [],
   "source": [
    "MT_vs_sdmass_tt_0b_down = Hist2D.from_bincounts(\n",
    "     scaled_output['MT_vs_sdmass_central_0b_down'].values(overflow='over')[('TT',)].T,\n",
    "    (scaled_output['MT_vs_sdmass_central_0b_down'].axis('mt').edges(overflow='over'), scaled_output['MT_vs_sdmass_central_0b_down'].axis('mass').edges(overflow='over')),\n",
    "    errors = np.sqrt(scaled_output['MT_vs_sdmass_central_0b_down'].values(sumw2=True, overflow='over')[('TT',)][1].T),\n",
    ")"
   ]
  },
  {
   "cell_type": "code",
   "execution_count": null,
   "id": "f61e087d",
   "metadata": {},
   "outputs": [],
   "source": [
    "for b in range(0,4):\n",
    "    for j in range(0,10):\n",
    "        if MT_vs_sdmass_tt_0b_down.counts[b][j] == 0:\n",
    "            MT_vs_sdmass_tt_0b_down.counts[b][j] = 0.01\n",
    "            MT_vs_sdmass_tt_0b_down.errors[b][j] = 0.01"
   ]
  },
  {
   "cell_type": "code",
   "execution_count": null,
   "id": "b637e9cb",
   "metadata": {},
   "outputs": [],
   "source": [
    "MT_vs_sdmass_W_0b_down = Hist2D.from_bincounts(\n",
    "     scaled_output['MT_vs_sdmass_central_0b_down'].values(overflow='over')[('WJetsToLNu_Njet',)].T,\n",
    "    (scaled_output['MT_vs_sdmass_central_0b_down'].axis('mt').edges(overflow='over'), scaled_output['MT_vs_sdmass_central_0b_down'].axis('mass').edges(overflow='over')),\n",
    "    errors = np.sqrt(scaled_output['MT_vs_sdmass_central_0b_down'].values(sumw2=True, overflow='over')[('WJetsToLNu_Njet',)][1].T),\n",
    ")"
   ]
  },
  {
   "cell_type": "code",
   "execution_count": null,
   "id": "1494b45a",
   "metadata": {},
   "outputs": [],
   "source": [
    "for b in range(0,4):\n",
    "    for j in range(0,10):\n",
    "        if MT_vs_sdmass_W_0b_down.counts[b][j] == 0:\n",
    "            MT_vs_sdmass_W_0b_down.counts[b][j] = 0.01\n",
    "            MT_vs_sdmass_W_0b_down.errors[b][j] = 0.01"
   ]
  },
  {
   "cell_type": "code",
   "execution_count": null,
   "id": "03d377db",
   "metadata": {},
   "outputs": [],
   "source": [
    "MT_vs_sdmass_QCD_0b_down = Hist2D.from_bincounts(\n",
    "     scaled_output['MT_vs_sdmass_central_0b_down'].values(overflow='over')[('QCD_bEnriched_HT',)].T,\n",
    "    (scaled_output['MT_vs_sdmass_central_0b_down'].axis('mt').edges(overflow='over'), scaled_output['MT_vs_sdmass_central_0b_down'].axis('mass').edges(overflow='over')),\n",
    "    errors = np.sqrt(scaled_output['MT_vs_sdmass_central_0b_down'].values(sumw2=True, overflow='over')[('QCD_bEnriched_HT',)][1].T),\n",
    ")"
   ]
  },
  {
   "cell_type": "code",
   "execution_count": null,
   "id": "90da3be3",
   "metadata": {},
   "outputs": [],
   "source": [
    "for b in range(0,4):\n",
    "    for j in range(0,10):\n",
    "        if MT_vs_sdmass_QCD_0b_down.counts[b][j] == 0:\n",
    "            MT_vs_sdmass_QCD_0b_down.counts[b][j] = 0.01\n",
    "            MT_vs_sdmass_QCD_0b_down.errors[b][j] = 0.01"
   ]
  },
  {
   "cell_type": "markdown",
   "id": "53b1a4f9",
   "metadata": {},
   "source": [
    "$~$"
   ]
  },
  {
   "cell_type": "code",
   "execution_count": null,
   "id": "a78fdbd8",
   "metadata": {},
   "outputs": [],
   "source": [
    "differences_0b_avg_1500_150 = abs((MT_vs_sdmass_1500_150_0b_up-MT_vs_sdmass_1500_150_0b_down).counts)/(2*MT_vs_sdmass_1500_150_central.counts)+1"
   ]
  },
  {
   "cell_type": "code",
   "execution_count": null,
   "id": "0d84e785",
   "metadata": {},
   "outputs": [],
   "source": [
    "differences_0b_avg_1500_750 = abs(MT_vs_sdmass_1500_750_0b_up-MT_vs_sdmass_1500_750_0b_down)/(2*MT_vs_sdmass_1500_750_central)"
   ]
  },
  {
   "cell_type": "code",
   "execution_count": null,
   "id": "62166f2f",
   "metadata": {},
   "outputs": [],
   "source": [
    "differences_0b_avg_1750_750 = abs(MT_vs_sdmass_1750_750_0b_up-MT_vs_sdmass_1750_750_0b_down)/(2*MT_vs_sdmass_1750_750_central)"
   ]
  },
  {
   "cell_type": "code",
   "execution_count": null,
   "id": "3aeaae8b",
   "metadata": {},
   "outputs": [],
   "source": [
    "differences_0b_avg_2000_750 = abs(MT_vs_sdmass_2000_750_0b_up-MT_vs_sdmass_2000_750_0b_down)/(2*MT_vs_sdmass_2000_750_central)"
   ]
  },
  {
   "cell_type": "code",
   "execution_count": null,
   "id": "93d0dfa7",
   "metadata": {},
   "outputs": [],
   "source": [
    "differences_0b_avg_Z = abs((MT_vs_sdmass_Z_0b_up-MT_vs_sdmass_Z_0b_down).counts)/(2*MT_vs_sdmass_Z_central.counts)+1"
   ]
  },
  {
   "cell_type": "code",
   "execution_count": null,
   "id": "1c7a29e2",
   "metadata": {},
   "outputs": [],
   "source": [
    "differences_0b_avg_tt = abs((MT_vs_sdmass_tt_0b_up-MT_vs_sdmass_tt_0b_down).counts)/(2*MT_vs_sdmass_tt_central.counts)+1"
   ]
  },
  {
   "cell_type": "code",
   "execution_count": null,
   "id": "311b7951",
   "metadata": {},
   "outputs": [],
   "source": [
    "differences_0b_avg_W = abs((MT_vs_sdmass_W_0b_up-MT_vs_sdmass_W_0b_down).counts)/(2*MT_vs_sdmass_W_central.counts)+1"
   ]
  },
  {
   "cell_type": "code",
   "execution_count": null,
   "id": "a2b334cb",
   "metadata": {},
   "outputs": [],
   "source": [
    "differences_0b_avg_QCD = abs((MT_vs_sdmass_QCD_0b_up-MT_vs_sdmass_QCD_0b_down).counts)/(2*MT_vs_sdmass_QCD_central.counts)+1"
   ]
  },
  {
   "cell_type": "markdown",
   "id": "c416ebac",
   "metadata": {},
   "source": [
    "$~$"
   ]
  },
  {
   "cell_type": "code",
   "execution_count": null,
   "id": "2fcea44a",
   "metadata": {},
   "outputs": [],
   "source": [
    "MT_vs_sdmass_1500_150_1b_up = Hist2D.from_bincounts(\n",
    "    scaled_output['MT_vs_sdmass_central_1b_up'].values(overflow='over')[('2HDMa_sinp_0.35_tanb_1.0_mXd_10_MH3_1500_MH4_150_MH2_1500_MHC_1500',)].T,\n",
    "    (scaled_output['MT_vs_sdmass_central_1b_up'].axis('mt').edges(overflow='over'), scaled_output['MT_vs_sdmass_central_1b_up'].axis('mass').edges(overflow='over')),\n",
    "    errors = np.sqrt(scaled_output['MT_vs_sdmass_central_1b_up'].values(sumw2=True, overflow='over')[('2HDMa_sinp_0.35_tanb_1.0_mXd_10_MH3_1500_MH4_150_MH2_1500_MHC_1500',)][1].T),\n",
    ")"
   ]
  },
  {
   "cell_type": "code",
   "execution_count": null,
   "id": "31692337",
   "metadata": {},
   "outputs": [],
   "source": [
    "for b in range(0,4):\n",
    "    for j in range(0,10):\n",
    "        if MT_vs_sdmass_1500_150_1b_up.counts[b][j] == 0:\n",
    "            MT_vs_sdmass_1500_150_1b_up.counts[b][j] = 0.01\n",
    "            MT_vs_sdmass_1500_150_1b_up.errors[b][j] = 0.01"
   ]
  },
  {
   "cell_type": "code",
   "execution_count": null,
   "id": "2c82f815",
   "metadata": {},
   "outputs": [],
   "source": [
    "MT_vs_sdmass_1500_750_1b_up = Hist2D.from_bincounts(\n",
    "    scaled_output_1b_up['MT_vs_sdmass_central'].values(overflow='over')[('2HDMa_sinp_0.35_tanb_1.0_mXd_10_MH3_1500_MH4_750_MH2_1500_MHC_1500',)].T,\n",
    "    (scaled_output_1b_up['MT_vs_sdmass_central'].axis('mt').edges(overflow='over'), scaled_output_1b_up['MT_vs_sdmass_central'].axis('mass').edges(overflow='over')),\n",
    "    errors = np.sqrt(scaled_output_1b_up['MT_vs_sdmass_central'].values(sumw2=True, overflow='over')[('2HDMa_sinp_0.35_tanb_1.0_mXd_10_MH3_1500_MH4_750_MH2_1500_MHC_1500',)][1].T),\n",
    ")"
   ]
  },
  {
   "cell_type": "code",
   "execution_count": null,
   "id": "8902d927",
   "metadata": {},
   "outputs": [],
   "source": [
    "for b in range(0,4):\n",
    "    for j in range(0,10):\n",
    "        if MT_vs_sdmass_1500_750_1b_up.counts[b][j] == 0:\n",
    "            MT_vs_sdmass_1500_750_1b_up.counts[b][j] = 0.01\n",
    "            MT_vs_sdmass_1500_750_1b_up.errors[b][j] = 0.01"
   ]
  },
  {
   "cell_type": "code",
   "execution_count": null,
   "id": "43f591e1",
   "metadata": {},
   "outputs": [],
   "source": [
    "MT_vs_sdmass_1750_750_1b_up = Hist2D.from_bincounts(\n",
    "    scaled_output_1b_up['MT_vs_sdmass_central'].values(overflow='over')[('2HDMa_sinp_0.35_tanb_1.0_mXd_10_MH3_1750_MH4_750_MH2_1750_MHC_1750',)].T,\n",
    "    (scaled_output_1b_up['MT_vs_sdmass_central'].axis('mt').edges(overflow='over'), scaled_output_1b_up['MT_vs_sdmass_central'].axis('mass').edges(overflow='over')),\n",
    "    errors = np.sqrt(scaled_output_1b_up['MT_vs_sdmass_central'].values(sumw2=True, overflow='over')[('2HDMa_sinp_0.35_tanb_1.0_mXd_10_MH3_1750_MH4_750_MH2_1750_MHC_1750',)][1].T),\n",
    ")"
   ]
  },
  {
   "cell_type": "code",
   "execution_count": null,
   "id": "27d3dd3c",
   "metadata": {},
   "outputs": [],
   "source": [
    "for b in range(0,4):\n",
    "    for j in range(0,10):\n",
    "        if MT_vs_sdmass_1750_750_1b_up.counts[b][j] == 0:\n",
    "            MT_vs_sdmass_1750_750_1b_up.counts[b][j] = 0.01\n",
    "            MT_vs_sdmass_1750_750_1b_up.errors[b][j] = 0.01"
   ]
  },
  {
   "cell_type": "code",
   "execution_count": null,
   "id": "bf80d5c4",
   "metadata": {},
   "outputs": [],
   "source": [
    "MT_vs_sdmass_2000_750_1b_up = Hist2D.from_bincounts(\n",
    "    scaled_output_1b_up['MT_vs_sdmass_central'].values(overflow='over')[('2HDMa_sinp_0.35_tanb_1.0_mXd_10_MH3_2000_MH4_750_MH2_2000_MHC_2000',)].T,\n",
    "    (scaled_output_1b_up['MT_vs_sdmass_central'].axis('mt').edges(overflow='over'), scaled_output_1b_up['MT_vs_sdmass_central'].axis('mass').edges(overflow='over')),\n",
    "    errors = np.sqrt(scaled_output_1b_up['MT_vs_sdmass_central'].values(sumw2=True, overflow='over')[('2HDMa_sinp_0.35_tanb_1.0_mXd_10_MH3_2000_MH4_750_MH2_2000_MHC_2000',)][1].T),\n",
    ")"
   ]
  },
  {
   "cell_type": "code",
   "execution_count": null,
   "id": "fbf5a4ac",
   "metadata": {},
   "outputs": [],
   "source": [
    "for b in range(0,4):\n",
    "    for j in range(0,10):\n",
    "        if MT_vs_sdmass_2000_750_1b_up.counts[b][j] == 0:\n",
    "            MT_vs_sdmass_2000_750_1b_up.counts[b][j] = 0.01\n",
    "            MT_vs_sdmass_2000_750_1b_up.errors[b][j] = 0.01"
   ]
  },
  {
   "cell_type": "code",
   "execution_count": null,
   "id": "79d98c47",
   "metadata": {},
   "outputs": [],
   "source": [
    "MT_vs_sdmass_Z_1b_up = Hist2D.from_bincounts(\n",
    "     scaled_output['MT_vs_sdmass_central_1b_up'].values(overflow='over')[('ZJetsToNuNu_HT',)].T,\n",
    "    (scaled_output['MT_vs_sdmass_central_1b_up'].axis('mt').edges(overflow='over'), scaled_output['MT_vs_sdmass_central_1b_up'].axis('mass').edges(overflow='over')),\n",
    "    errors = np.sqrt(scaled_output['MT_vs_sdmass_central_1b_up'].values(sumw2=True, overflow='over')[('ZJetsToNuNu_HT',)][1].T),\n",
    ")"
   ]
  },
  {
   "cell_type": "code",
   "execution_count": null,
   "id": "577d5d35",
   "metadata": {},
   "outputs": [],
   "source": [
    "for b in range(0,4):\n",
    "    for j in range(0,10):\n",
    "        if MT_vs_sdmass_Z_1b_up.counts[b][j] == 0:\n",
    "            MT_vs_sdmass_Z_1b_up.counts[b][j] = 0.01\n",
    "            MT_vs_sdmass_Z_1b_up.errors[b][j] = 0.01"
   ]
  },
  {
   "cell_type": "code",
   "execution_count": null,
   "id": "23d7bcd7",
   "metadata": {},
   "outputs": [],
   "source": [
    "MT_vs_sdmass_tt_1b_up = Hist2D.from_bincounts(\n",
    "     scaled_output['MT_vs_sdmass_central_1b_up'].values(overflow='over')[('TT',)].T,\n",
    "    (scaled_output['MT_vs_sdmass_central_1b_up'].axis('mt').edges(overflow='over'), scaled_output['MT_vs_sdmass_central_1b_up'].axis('mass').edges(overflow='over')),\n",
    "    errors = np.sqrt(scaled_output['MT_vs_sdmass_central_1b_up'].values(sumw2=True, overflow='over')[('TT',)][1].T),\n",
    ")"
   ]
  },
  {
   "cell_type": "code",
   "execution_count": null,
   "id": "0c2474c4",
   "metadata": {},
   "outputs": [],
   "source": [
    "for b in range(0,4):\n",
    "    for j in range(0,10):\n",
    "        if MT_vs_sdmass_tt_1b_up.counts[b][j] == 0:\n",
    "            MT_vs_sdmass_tt_1b_up.counts[b][j] = 0.01\n",
    "            MT_vs_sdmass_tt_1b_up.errors[b][j] = 0.01"
   ]
  },
  {
   "cell_type": "code",
   "execution_count": null,
   "id": "834809a4",
   "metadata": {},
   "outputs": [],
   "source": [
    "MT_vs_sdmass_W_1b_up = Hist2D.from_bincounts(\n",
    "     scaled_output['MT_vs_sdmass_central_1b_up'].values(overflow='over')[('WJetsToLNu_Njet',)].T,\n",
    "    (scaled_output['MT_vs_sdmass_central_1b_up'].axis('mt').edges(overflow='over'), scaled_output['MT_vs_sdmass_central_1b_up'].axis('mass').edges(overflow='over')),\n",
    "    errors = np.sqrt(scaled_output['MT_vs_sdmass_central_1b_up'].values(sumw2=True, overflow='over')[('WJetsToLNu_Njet',)][1].T),\n",
    ")"
   ]
  },
  {
   "cell_type": "code",
   "execution_count": null,
   "id": "38299988",
   "metadata": {},
   "outputs": [],
   "source": [
    "for b in range(0,4):\n",
    "    for j in range(0,10):\n",
    "        if MT_vs_sdmass_W_1b_up.counts[b][j] == 0:\n",
    "            MT_vs_sdmass_W_1b_up.counts[b][j] = 0.01\n",
    "            MT_vs_sdmass_W_1b_up.errors[b][j] = 0.01"
   ]
  },
  {
   "cell_type": "code",
   "execution_count": null,
   "id": "921f3612",
   "metadata": {},
   "outputs": [],
   "source": [
    "MT_vs_sdmass_QCD_1b_up = Hist2D.from_bincounts(\n",
    "     scaled_output['MT_vs_sdmass_central_1b_up'].values(overflow='over')[('QCD_bEnriched_HT',)].T,\n",
    "    (scaled_output['MT_vs_sdmass_central_1b_up'].axis('mt').edges(overflow='over'), scaled_output['MT_vs_sdmass_central_1b_up'].axis('mass').edges(overflow='over')),\n",
    "    errors = np.sqrt(scaled_output['MT_vs_sdmass_central_1b_up'].values(sumw2=True, overflow='over')[('QCD_bEnriched_HT',)][1].T),\n",
    ")"
   ]
  },
  {
   "cell_type": "code",
   "execution_count": null,
   "id": "e83402db",
   "metadata": {},
   "outputs": [],
   "source": [
    "for b in range(0,4):\n",
    "    for j in range(0,10):\n",
    "        if MT_vs_sdmass_QCD_1b_up.counts[b][j] == 0:\n",
    "            MT_vs_sdmass_QCD_1b_up.counts[b][j] = 0.01\n",
    "            MT_vs_sdmass_QCD_1b_up.errors[b][j] = 0.01"
   ]
  },
  {
   "cell_type": "markdown",
   "id": "ef079e1a",
   "metadata": {},
   "source": [
    "$~$"
   ]
  },
  {
   "cell_type": "code",
   "execution_count": null,
   "id": "8eadcb69",
   "metadata": {},
   "outputs": [],
   "source": [
    "MT_vs_sdmass_1500_150_1b_down = Hist2D.from_bincounts(\n",
    "    scaled_output['MT_vs_sdmass_central_1b_down'].values(overflow='over')[('2HDMa_sinp_0.35_tanb_1.0_mXd_10_MH3_1500_MH4_150_MH2_1500_MHC_1500',)].T,\n",
    "    (scaled_output['MT_vs_sdmass_central_1b_down'].axis('mt').edges(overflow='over'), scaled_output['MT_vs_sdmass_central_1b_down'].axis('mass').edges(overflow='over')),\n",
    "    errors = np.sqrt(scaled_output['MT_vs_sdmass_central_1b_down'].values(sumw2=True, overflow='over')[('2HDMa_sinp_0.35_tanb_1.0_mXd_10_MH3_1500_MH4_150_MH2_1500_MHC_1500',)][1].T),\n",
    ")"
   ]
  },
  {
   "cell_type": "code",
   "execution_count": null,
   "id": "ab9478e4",
   "metadata": {},
   "outputs": [],
   "source": [
    "for b in range(0,4):\n",
    "    for j in range(0,10):\n",
    "        if MT_vs_sdmass_1500_150_1b_down.counts[b][j] == 0:\n",
    "            MT_vs_sdmass_1500_150_1b_down.counts[b][j] = 0.01\n",
    "            MT_vs_sdmass_1500_150_1b_down.errors[b][j] = 0.01"
   ]
  },
  {
   "cell_type": "code",
   "execution_count": null,
   "id": "c259a084",
   "metadata": {},
   "outputs": [],
   "source": [
    "MT_vs_sdmass_1500_750_1b_down = Hist2D.from_bincounts(\n",
    "    scaled_output_1b_down['MT_vs_sdmass_central'].values(overflow='over')[('2HDMa_sinp_0.35_tanb_1.0_mXd_10_MH3_1500_MH4_750_MH2_1500_MHC_1500',)].T,\n",
    "    (scaled_output_1b_down['MT_vs_sdmass_central'].axis('mt').edges(overflow='over'), scaled_output_1b_down['MT_vs_sdmass_central'].axis('mass').edges(overflow='over')),\n",
    "    errors = np.sqrt(scaled_output_1b_down['MT_vs_sdmass_central'].values(sumw2=True, overflow='over')[('2HDMa_sinp_0.35_tanb_1.0_mXd_10_MH3_1500_MH4_750_MH2_1500_MHC_1500',)][1].T),\n",
    ")"
   ]
  },
  {
   "cell_type": "code",
   "execution_count": null,
   "id": "e545ff93",
   "metadata": {},
   "outputs": [],
   "source": [
    "for b in range(0,4):\n",
    "    for j in range(0,10):\n",
    "        if MT_vs_sdmass_1500_750_1b_down.counts[b][j] == 0:\n",
    "            MT_vs_sdmass_1500_750_1b_down.counts[b][j] = 0.01\n",
    "            MT_vs_sdmass_1500_750_1b_down.errors[b][j] = 0.01"
   ]
  },
  {
   "cell_type": "code",
   "execution_count": null,
   "id": "32445177",
   "metadata": {},
   "outputs": [],
   "source": [
    "MT_vs_sdmass_1750_750_1b_down = Hist2D.from_bincounts(\n",
    "    scaled_output_1b_down['MT_vs_sdmass_central'].values(overflow='over')[('2HDMa_sinp_0.35_tanb_1.0_mXd_10_MH3_1750_MH4_750_MH2_1750_MHC_1750',)].T,\n",
    "    (scaled_output_1b_down['MT_vs_sdmass_central'].axis('mt').edges(overflow='over'), scaled_output_1b_down['MT_vs_sdmass_central'].axis('mass').edges(overflow='over')),\n",
    "    errors = np.sqrt(scaled_output_1b_down['MT_vs_sdmass_central'].values(sumw2=True, overflow='over')[('2HDMa_sinp_0.35_tanb_1.0_mXd_10_MH3_1750_MH4_750_MH2_1750_MHC_1750',)][1].T),\n",
    ")"
   ]
  },
  {
   "cell_type": "code",
   "execution_count": null,
   "id": "a664b08e",
   "metadata": {},
   "outputs": [],
   "source": [
    "for b in range(0,4):\n",
    "    for j in range(0,10):\n",
    "        if MT_vs_sdmass_1750_750_1b_down.counts[b][j] == 0:\n",
    "            MT_vs_sdmass_1750_750_1b_down.counts[b][j] = 0.01\n",
    "            MT_vs_sdmass_1750_750_1b_down.errors[b][j] = 0.01"
   ]
  },
  {
   "cell_type": "code",
   "execution_count": null,
   "id": "69835ae4",
   "metadata": {},
   "outputs": [],
   "source": [
    "MT_vs_sdmass_2000_750_1b_down = Hist2D.from_bincounts(\n",
    "    scaled_output_1b_down['MT_vs_sdmass_central'].values(overflow='over')[('2HDMa_sinp_0.35_tanb_1.0_mXd_10_MH3_2000_MH4_750_MH2_2000_MHC_2000',)].T,\n",
    "    (scaled_output_1b_down['MT_vs_sdmass_central'].axis('mt').edges(overflow='over'), scaled_output_1b_down['MT_vs_sdmass_central'].axis('mass').edges(overflow='over')),\n",
    "    errors = np.sqrt(scaled_output_1b_down['MT_vs_sdmass_central'].values(sumw2=True, overflow='over')[('2HDMa_sinp_0.35_tanb_1.0_mXd_10_MH3_2000_MH4_750_MH2_2000_MHC_2000',)][1].T),\n",
    ")"
   ]
  },
  {
   "cell_type": "code",
   "execution_count": null,
   "id": "e1e3691c",
   "metadata": {},
   "outputs": [],
   "source": [
    "for b in range(0,4):\n",
    "    for j in range(0,10):\n",
    "        if MT_vs_sdmass_2000_750_1b_down.counts[b][j] == 0:\n",
    "            MT_vs_sdmass_2000_750_1b_down.counts[b][j] = 0.01\n",
    "            MT_vs_sdmass_2000_750_1b_down.errors[b][j] = 0.01"
   ]
  },
  {
   "cell_type": "code",
   "execution_count": null,
   "id": "67f42f33",
   "metadata": {},
   "outputs": [],
   "source": [
    "MT_vs_sdmass_Z_1b_down = Hist2D.from_bincounts(\n",
    "     scaled_output['MT_vs_sdmass_central_1b_down'].values(overflow='over')[('ZJetsToNuNu_HT',)].T,\n",
    "    (scaled_output['MT_vs_sdmass_central_1b_down'].axis('mt').edges(overflow='over'), scaled_output['MT_vs_sdmass_central_1b_down'].axis('mass').edges(overflow='over')),\n",
    "    errors = np.sqrt(scaled_output['MT_vs_sdmass_central_1b_down'].values(sumw2=True, overflow='over')[('ZJetsToNuNu_HT',)][1].T),\n",
    ")"
   ]
  },
  {
   "cell_type": "code",
   "execution_count": null,
   "id": "b64d23a0",
   "metadata": {},
   "outputs": [],
   "source": [
    "for b in range(0,4):\n",
    "    for j in range(0,10):\n",
    "        if MT_vs_sdmass_Z_1b_down.counts[b][j] == 0:\n",
    "            MT_vs_sdmass_Z_1b_down.counts[b][j] = 0.01\n",
    "            MT_vs_sdmass_Z_1b_down.errors[b][j] = 0.01"
   ]
  },
  {
   "cell_type": "code",
   "execution_count": null,
   "id": "bb9b937a",
   "metadata": {},
   "outputs": [],
   "source": [
    "MT_vs_sdmass_tt_1b_down = Hist2D.from_bincounts(\n",
    "     scaled_output['MT_vs_sdmass_central_1b_down'].values(overflow='over')[('TT',)].T,\n",
    "    (scaled_output['MT_vs_sdmass_central_1b_down'].axis('mt').edges(overflow='over'), scaled_output['MT_vs_sdmass_central_1b_down'].axis('mass').edges(overflow='over')),\n",
    "    errors = np.sqrt(scaled_output['MT_vs_sdmass_central_1b_down'].values(sumw2=True, overflow='over')[('TT',)][1].T),\n",
    ")"
   ]
  },
  {
   "cell_type": "code",
   "execution_count": null,
   "id": "2421cb9a",
   "metadata": {},
   "outputs": [],
   "source": [
    "for b in range(0,4):\n",
    "    for j in range(0,10):\n",
    "        if MT_vs_sdmass_tt_1b_down.counts[b][j] == 0:\n",
    "            MT_vs_sdmass_tt_1b_down.counts[b][j] = 0.01\n",
    "            MT_vs_sdmass_tt_1b_down.errors[b][j] = 0.01"
   ]
  },
  {
   "cell_type": "code",
   "execution_count": null,
   "id": "97d89cba",
   "metadata": {},
   "outputs": [],
   "source": [
    "MT_vs_sdmass_W_1b_down = Hist2D.from_bincounts(\n",
    "     scaled_output['MT_vs_sdmass_central_1b_down'].values(overflow='over')[('WJetsToLNu_Njet',)].T,\n",
    "    (scaled_output['MT_vs_sdmass_central_1b_down'].axis('mt').edges(overflow='over'), scaled_output['MT_vs_sdmass_central_1b_down'].axis('mass').edges(overflow='over')),\n",
    "    errors = np.sqrt(scaled_output['MT_vs_sdmass_central_1b_down'].values(sumw2=True, overflow='over')[('WJetsToLNu_Njet',)][1].T),\n",
    ")"
   ]
  },
  {
   "cell_type": "code",
   "execution_count": null,
   "id": "367959b3",
   "metadata": {},
   "outputs": [],
   "source": [
    "for b in range(0,4):\n",
    "    for j in range(0,10):\n",
    "        if MT_vs_sdmass_W_1b_down.counts[b][j] == 0:\n",
    "            MT_vs_sdmass_W_1b_down.counts[b][j] = 0.01\n",
    "            MT_vs_sdmass_W_1b_down.errors[b][j] = 0.01"
   ]
  },
  {
   "cell_type": "code",
   "execution_count": null,
   "id": "2561a116",
   "metadata": {},
   "outputs": [],
   "source": [
    "MT_vs_sdmass_QCD_1b_down = Hist2D.from_bincounts(\n",
    "     scaled_output['MT_vs_sdmass_central_1b_down'].values(overflow='over')[('QCD_bEnriched_HT',)].T,\n",
    "    (scaled_output['MT_vs_sdmass_central_1b_down'].axis('mt').edges(overflow='over'), scaled_output['MT_vs_sdmass_central_1b_down'].axis('mass').edges(overflow='over')),\n",
    "    errors = np.sqrt(scaled_output['MT_vs_sdmass_central_1b_down'].values(sumw2=True, overflow='over')[('QCD_bEnriched_HT',)][1].T),\n",
    ")"
   ]
  },
  {
   "cell_type": "code",
   "execution_count": null,
   "id": "8640c32e",
   "metadata": {},
   "outputs": [],
   "source": [
    "for b in range(0,4):\n",
    "    for j in range(0,10):\n",
    "        if MT_vs_sdmass_QCD_1b_down.counts[b][j] == 0:\n",
    "            MT_vs_sdmass_QCD_1b_down.counts[b][j] = 0.01\n",
    "            MT_vs_sdmass_QCD_1b_down.errors[b][j] = 0.01"
   ]
  },
  {
   "cell_type": "markdown",
   "id": "4882d47a",
   "metadata": {},
   "source": [
    "$~$"
   ]
  },
  {
   "cell_type": "code",
   "execution_count": null,
   "id": "6b30235e",
   "metadata": {},
   "outputs": [],
   "source": [
    "differences_1b_avg_1500_150 = abs((MT_vs_sdmass_1500_150_1b_up-MT_vs_sdmass_1500_150_1b_down).counts)/(2*MT_vs_sdmass_1500_150_central.counts)+1"
   ]
  },
  {
   "cell_type": "code",
   "execution_count": null,
   "id": "fe183af6",
   "metadata": {},
   "outputs": [],
   "source": [
    "differences_1b_avg_1500_750 = abs(MT_vs_sdmass_1500_750_1b_up-MT_vs_sdmass_1500_750_1b_down)/(2*MT_vs_sdmass_1500_750_central)"
   ]
  },
  {
   "cell_type": "code",
   "execution_count": null,
   "id": "ff7bf1c9",
   "metadata": {},
   "outputs": [],
   "source": [
    "differences_1b_avg_1750_750 = abs(MT_vs_sdmass_1750_750_1b_up-MT_vs_sdmass_1750_750_1b_down)/(2*MT_vs_sdmass_1750_750_central)"
   ]
  },
  {
   "cell_type": "code",
   "execution_count": null,
   "id": "068d7623",
   "metadata": {},
   "outputs": [],
   "source": [
    "differences_1b_avg_2000_750 = abs(MT_vs_sdmass_2000_750_1b_up-MT_vs_sdmass_2000_750_1b_down)/(2*MT_vs_sdmass_2000_750_central)"
   ]
  },
  {
   "cell_type": "code",
   "execution_count": null,
   "id": "0662afd8",
   "metadata": {},
   "outputs": [],
   "source": [
    "differences_1b_avg_Z = abs((MT_vs_sdmass_Z_1b_up-MT_vs_sdmass_Z_1b_down).counts)/(2*MT_vs_sdmass_Z_central.counts)+1"
   ]
  },
  {
   "cell_type": "code",
   "execution_count": null,
   "id": "a6ff7f96",
   "metadata": {},
   "outputs": [],
   "source": [
    "differences_1b_avg_tt = abs((MT_vs_sdmass_tt_1b_up-MT_vs_sdmass_tt_1b_down).counts)/(2*MT_vs_sdmass_tt_central.counts)+1"
   ]
  },
  {
   "cell_type": "code",
   "execution_count": null,
   "id": "f0fac46d",
   "metadata": {},
   "outputs": [],
   "source": [
    "differences_1b_avg_W = abs((MT_vs_sdmass_W_1b_up-MT_vs_sdmass_W_1b_down).counts)/(2*MT_vs_sdmass_W_central.counts)+1"
   ]
  },
  {
   "cell_type": "code",
   "execution_count": null,
   "id": "4bad79f9",
   "metadata": {},
   "outputs": [],
   "source": [
    "differences_1b_avg_QCD = abs((MT_vs_sdmass_QCD_1b_up-MT_vs_sdmass_QCD_1b_down).counts)/(2*MT_vs_sdmass_QCD_central.counts)+1"
   ]
  },
  {
   "cell_type": "markdown",
   "id": "9cbfa63e",
   "metadata": {},
   "source": [
    "$~$"
   ]
  },
  {
   "cell_type": "code",
   "execution_count": null,
   "id": "c12280f5",
   "metadata": {},
   "outputs": [],
   "source": [
    "MT_vs_sdmass_1500_150_2b_up = Hist2D.from_bincounts(\n",
    "    scaled_output['MT_vs_sdmass_central_2b_up'].values(overflow='over')[('2HDMa_sinp_0.35_tanb_1.0_mXd_10_MH3_1500_MH4_150_MH2_1500_MHC_1500',)].T,\n",
    "    (scaled_output['MT_vs_sdmass_central_2b_up'].axis('mt').edges(overflow='over'), scaled_output['MT_vs_sdmass_central_2b_up'].axis('mass').edges(overflow='over')),\n",
    "    errors = np.sqrt(scaled_output['MT_vs_sdmass_central_2b_up'].values(sumw2=True, overflow='over')[('2HDMa_sinp_0.35_tanb_1.0_mXd_10_MH3_1500_MH4_150_MH2_1500_MHC_1500',)][1].T),\n",
    ")"
   ]
  },
  {
   "cell_type": "code",
   "execution_count": null,
   "id": "b6b7b5a4",
   "metadata": {},
   "outputs": [],
   "source": [
    "for b in range(0,4):\n",
    "    for j in range(0,10):\n",
    "        if MT_vs_sdmass_1500_150_2b_up.counts[b][j] == 0:\n",
    "            MT_vs_sdmass_1500_150_2b_up.counts[b][j] = 0.01\n",
    "            MT_vs_sdmass_1500_150_2b_up.errors[b][j] = 0.01"
   ]
  },
  {
   "cell_type": "code",
   "execution_count": null,
   "id": "9eb6ddb8",
   "metadata": {},
   "outputs": [],
   "source": [
    "MT_vs_sdmass_1500_750_2b_up = Hist2D.from_bincounts(\n",
    "    scaled_output_2b_up['MT_vs_sdmass_central'].values(overflow='over')[('2HDMa_sinp_0.35_tanb_1.0_mXd_10_MH3_1500_MH4_750_MH2_1500_MHC_1500',)].T,\n",
    "    (scaled_output_2b_up['MT_vs_sdmass_central'].axis('mt').edges(overflow='over'), scaled_output_2b_up['MT_vs_sdmass_central'].axis('mass').edges(overflow='over')),\n",
    "    errors = np.sqrt(scaled_output_2b_up['MT_vs_sdmass_central'].values(sumw2=True, overflow='over')[('2HDMa_sinp_0.35_tanb_1.0_mXd_10_MH3_1500_MH4_750_MH2_1500_MHC_1500',)][1].T),\n",
    ")"
   ]
  },
  {
   "cell_type": "code",
   "execution_count": null,
   "id": "c65cb772",
   "metadata": {},
   "outputs": [],
   "source": [
    "for b in range(0,4):\n",
    "    for j in range(0,10):\n",
    "        if MT_vs_sdmass_1500_750_2b_up.counts[b][j] == 0:\n",
    "            MT_vs_sdmass_1500_750_2b_up.counts[b][j] = 0.01\n",
    "            MT_vs_sdmass_1500_750_2b_up.errors[b][j] = 0.01"
   ]
  },
  {
   "cell_type": "code",
   "execution_count": null,
   "id": "6ed9f204",
   "metadata": {},
   "outputs": [],
   "source": [
    "MT_vs_sdmass_1750_750_2b_up = Hist2D.from_bincounts(\n",
    "    scaled_output_2b_up['MT_vs_sdmass_central'].values(overflow='over')[('2HDMa_sinp_0.35_tanb_1.0_mXd_10_MH3_1750_MH4_750_MH2_1750_MHC_1750',)].T,\n",
    "    (scaled_output_2b_up['MT_vs_sdmass_central'].axis('mt').edges(overflow='over'), scaled_output_2b_up['MT_vs_sdmass_central'].axis('mass').edges(overflow='over')),\n",
    "    errors = np.sqrt(scaled_output_2b_up['MT_vs_sdmass_central'].values(sumw2=True, overflow='over')[('2HDMa_sinp_0.35_tanb_1.0_mXd_10_MH3_1750_MH4_750_MH2_1750_MHC_1750',)][1].T),\n",
    ")"
   ]
  },
  {
   "cell_type": "code",
   "execution_count": null,
   "id": "956d3512",
   "metadata": {},
   "outputs": [],
   "source": [
    "for b in range(0,4):\n",
    "    for j in range(0,10):\n",
    "        if MT_vs_sdmass_1750_750_2b_up.counts[b][j] == 0:\n",
    "            MT_vs_sdmass_1750_750_2b_up.counts[b][j] = 0.01\n",
    "            MT_vs_sdmass_1750_750_2b_up.errors[b][j] = 0.01"
   ]
  },
  {
   "cell_type": "code",
   "execution_count": null,
   "id": "1b35217d",
   "metadata": {},
   "outputs": [],
   "source": [
    "MT_vs_sdmass_2000_750_2b_up = Hist2D.from_bincounts(\n",
    "    scaled_output_2b_up['MT_vs_sdmass_central'].values(overflow='over')[('2HDMa_sinp_0.35_tanb_1.0_mXd_10_MH3_2000_MH4_750_MH2_2000_MHC_2000',)].T,\n",
    "    (scaled_output_2b_up['MT_vs_sdmass_central'].axis('mt').edges(overflow='over'), scaled_output_2b_up['MT_vs_sdmass_central'].axis('mass').edges(overflow='over')),\n",
    "    errors = np.sqrt(scaled_output_2b_up['MT_vs_sdmass_central'].values(sumw2=True, overflow='over')[('2HDMa_sinp_0.35_tanb_1.0_mXd_10_MH3_2000_MH4_750_MH2_2000_MHC_2000',)][1].T),\n",
    ")"
   ]
  },
  {
   "cell_type": "code",
   "execution_count": null,
   "id": "5a18c3a9",
   "metadata": {},
   "outputs": [],
   "source": [
    "for b in range(0,4):\n",
    "    for j in range(0,10):\n",
    "        if MT_vs_sdmass_2000_750_2b_up.counts[b][j] == 0:\n",
    "            MT_vs_sdmass_2000_750_2b_up.counts[b][j] = 0.01\n",
    "            MT_vs_sdmass_2000_750_2b_up.errors[b][j] = 0.01"
   ]
  },
  {
   "cell_type": "code",
   "execution_count": null,
   "id": "86def889",
   "metadata": {},
   "outputs": [],
   "source": [
    "MT_vs_sdmass_Z_2b_up = Hist2D.from_bincounts(\n",
    "     scaled_output['MT_vs_sdmass_central_2b_up'].values(overflow='over')[('ZJetsToNuNu_HT',)].T,\n",
    "    (scaled_output['MT_vs_sdmass_central_2b_up'].axis('mt').edges(overflow='over'), scaled_output['MT_vs_sdmass_central_2b_up'].axis('mass').edges(overflow='over')),\n",
    "    errors = np.sqrt(scaled_output['MT_vs_sdmass_central_2b_up'].values(sumw2=True, overflow='over')[('ZJetsToNuNu_HT',)][1].T),\n",
    ")"
   ]
  },
  {
   "cell_type": "code",
   "execution_count": null,
   "id": "769fb7b1",
   "metadata": {},
   "outputs": [],
   "source": [
    "for b in range(0,4):\n",
    "    for j in range(0,10):\n",
    "        if MT_vs_sdmass_Z_2b_up.counts[b][j] == 0:\n",
    "            MT_vs_sdmass_Z_2b_up.counts[b][j] = 0.01\n",
    "            MT_vs_sdmass_Z_2b_up.errors[b][j] = 0.01"
   ]
  },
  {
   "cell_type": "code",
   "execution_count": null,
   "id": "5984629e",
   "metadata": {},
   "outputs": [],
   "source": [
    "MT_vs_sdmass_tt_2b_up = Hist2D.from_bincounts(\n",
    "     scaled_output['MT_vs_sdmass_central_2b_up'].values(overflow='over')[('TT',)].T,\n",
    "    (scaled_output['MT_vs_sdmass_central_2b_up'].axis('mt').edges(overflow='over'), scaled_output['MT_vs_sdmass_central_2b_up'].axis('mass').edges(overflow='over')),\n",
    "    errors = np.sqrt(scaled_output['MT_vs_sdmass_central_2b_up'].values(sumw2=True, overflow='over')[('TT',)][1].T),\n",
    ")"
   ]
  },
  {
   "cell_type": "code",
   "execution_count": null,
   "id": "b6b1bde2",
   "metadata": {},
   "outputs": [],
   "source": [
    "for b in range(0,4):\n",
    "    for j in range(0,10):\n",
    "        if MT_vs_sdmass_tt_2b_up.counts[b][j] == 0:\n",
    "            MT_vs_sdmass_tt_2b_up.counts[b][j] = 0.01\n",
    "            MT_vs_sdmass_tt_2b_up.errors[b][j] = 0.01"
   ]
  },
  {
   "cell_type": "code",
   "execution_count": null,
   "id": "e5f83b60",
   "metadata": {},
   "outputs": [],
   "source": [
    "MT_vs_sdmass_W_2b_up = Hist2D.from_bincounts(\n",
    "     scaled_output['MT_vs_sdmass_central_2b_up'].values(overflow='over')[('WJetsToLNu_Njet',)].T,\n",
    "    (scaled_output['MT_vs_sdmass_central_2b_up'].axis('mt').edges(overflow='over'), scaled_output['MT_vs_sdmass_central_2b_up'].axis('mass').edges(overflow='over')),\n",
    "    errors = np.sqrt(scaled_output['MT_vs_sdmass_central_2b_up'].values(sumw2=True, overflow='over')[('WJetsToLNu_Njet',)][1].T),\n",
    ")"
   ]
  },
  {
   "cell_type": "code",
   "execution_count": null,
   "id": "16bdb0ce",
   "metadata": {},
   "outputs": [],
   "source": [
    "for b in range(0,4):\n",
    "    for j in range(0,10):\n",
    "        if MT_vs_sdmass_W_2b_up.counts[b][j] == 0:\n",
    "            MT_vs_sdmass_W_2b_up.counts[b][j] = 0.01\n",
    "            MT_vs_sdmass_W_2b_up.errors[b][j] = 0.01"
   ]
  },
  {
   "cell_type": "code",
   "execution_count": null,
   "id": "025ab3fb",
   "metadata": {},
   "outputs": [],
   "source": [
    "MT_vs_sdmass_QCD_2b_up = Hist2D.from_bincounts(\n",
    "     scaled_output['MT_vs_sdmass_central_2b_up'].values(overflow='over')[('QCD_bEnriched_HT',)].T,\n",
    "    (scaled_output['MT_vs_sdmass_central_2b_up'].axis('mt').edges(overflow='over'), scaled_output['MT_vs_sdmass_central_2b_up'].axis('mass').edges(overflow='over')),\n",
    "    errors = np.sqrt(scaled_output['MT_vs_sdmass_central_2b_up'].values(sumw2=True, overflow='over')[('QCD_bEnriched_HT',)][1].T),\n",
    ")"
   ]
  },
  {
   "cell_type": "code",
   "execution_count": null,
   "id": "94bba2ae",
   "metadata": {},
   "outputs": [],
   "source": [
    "for b in range(0,4):\n",
    "    for j in range(0,10):\n",
    "        if MT_vs_sdmass_QCD_2b_up.counts[b][j] == 0:\n",
    "            MT_vs_sdmass_QCD_2b_up.counts[b][j] = 0.01\n",
    "            MT_vs_sdmass_QCD_2b_up.errors[b][j] = 0.01"
   ]
  },
  {
   "cell_type": "markdown",
   "id": "e4539d31",
   "metadata": {},
   "source": [
    "$~$"
   ]
  },
  {
   "cell_type": "code",
   "execution_count": null,
   "id": "4ec13fc6",
   "metadata": {},
   "outputs": [],
   "source": [
    "MT_vs_sdmass_1500_150_2b_down = Hist2D.from_bincounts(\n",
    "    scaled_output['MT_vs_sdmass_central_2b_down'].values(overflow='over')[('2HDMa_sinp_0.35_tanb_1.0_mXd_10_MH3_1500_MH4_150_MH2_1500_MHC_1500',)].T,\n",
    "    (scaled_output['MT_vs_sdmass_central_2b_down'].axis('mt').edges(overflow='over'), scaled_output['MT_vs_sdmass_central_2b_down'].axis('mass').edges(overflow='over')),\n",
    "    errors = np.sqrt(scaled_output['MT_vs_sdmass_central_2b_down'].values(sumw2=True, overflow='over')[('2HDMa_sinp_0.35_tanb_1.0_mXd_10_MH3_1500_MH4_150_MH2_1500_MHC_1500',)][1].T),\n",
    ")"
   ]
  },
  {
   "cell_type": "code",
   "execution_count": null,
   "id": "67335d47",
   "metadata": {},
   "outputs": [],
   "source": [
    "for b in range(0,4):\n",
    "    for j in range(0,10):\n",
    "        if MT_vs_sdmass_1500_150_2b_down.counts[b][j] == 0:\n",
    "            MT_vs_sdmass_1500_150_2b_down.counts[b][j] = 0.01\n",
    "            MT_vs_sdmass_1500_150_2b_down.errors[b][j] = 0.01"
   ]
  },
  {
   "cell_type": "code",
   "execution_count": null,
   "id": "b917ec61",
   "metadata": {},
   "outputs": [],
   "source": [
    "MT_vs_sdmass_1500_750_2b_down = Hist2D.from_bincounts(\n",
    "    scaled_output_2b_down['MT_vs_sdmass_central'].values(overflow='over')[('2HDMa_sinp_0.35_tanb_1.0_mXd_10_MH3_1500_MH4_750_MH2_1500_MHC_1500',)].T,\n",
    "    (scaled_output_2b_down['MT_vs_sdmass_central'].axis('mt').edges(overflow='over'), scaled_output_2b_down['MT_vs_sdmass_central'].axis('mass').edges(overflow='over')),\n",
    "    errors = np.sqrt(scaled_output_2b_down['MT_vs_sdmass_central'].values(sumw2=True, overflow='over')[('2HDMa_sinp_0.35_tanb_1.0_mXd_10_MH3_1500_MH4_750_MH2_1500_MHC_1500',)][1].T),\n",
    ")"
   ]
  },
  {
   "cell_type": "code",
   "execution_count": null,
   "id": "8606a4da",
   "metadata": {},
   "outputs": [],
   "source": [
    "for b in range(0,4):\n",
    "    for j in range(0,10):\n",
    "        if MT_vs_sdmass_1500_750_2b_down.counts[b][j] == 0:\n",
    "            MT_vs_sdmass_1500_750_2b_down.counts[b][j] = 0.01\n",
    "            MT_vs_sdmass_1500_750_2b_down.errors[b][j] = 0.01"
   ]
  },
  {
   "cell_type": "code",
   "execution_count": null,
   "id": "ae6dbfa8",
   "metadata": {},
   "outputs": [],
   "source": [
    "MT_vs_sdmass_1750_750_2b_down = Hist2D.from_bincounts(\n",
    "    scaled_output_2b_down['MT_vs_sdmass_central'].values(overflow='over')[('2HDMa_sinp_0.35_tanb_1.0_mXd_10_MH3_1750_MH4_750_MH2_1750_MHC_1750',)].T,\n",
    "    (scaled_output_2b_down['MT_vs_sdmass_central'].axis('mt').edges(overflow='over'), scaled_output_2b_down['MT_vs_sdmass_central'].axis('mass').edges(overflow='over')),\n",
    "    errors = np.sqrt(scaled_output_2b_down['MT_vs_sdmass_central'].values(sumw2=True, overflow='over')[('2HDMa_sinp_0.35_tanb_1.0_mXd_10_MH3_1750_MH4_750_MH2_1750_MHC_1750',)][1].T),\n",
    ")"
   ]
  },
  {
   "cell_type": "code",
   "execution_count": null,
   "id": "ea5a0036",
   "metadata": {},
   "outputs": [],
   "source": [
    "for b in range(0,4):\n",
    "    for j in range(0,10):\n",
    "        if MT_vs_sdmass_1750_750_2b_down.counts[b][j] == 0:\n",
    "            MT_vs_sdmass_1750_750_2b_down.counts[b][j] = 0.01\n",
    "            MT_vs_sdmass_1750_750_2b_down.errors[b][j] = 0.01"
   ]
  },
  {
   "cell_type": "code",
   "execution_count": null,
   "id": "7ca816f5",
   "metadata": {},
   "outputs": [],
   "source": [
    "MT_vs_sdmass_2000_750_2b_down = Hist2D.from_bincounts(\n",
    "    scaled_output_2b_down['MT_vs_sdmass_central'].values(overflow='over')[('2HDMa_sinp_0.35_tanb_1.0_mXd_10_MH3_2000_MH4_750_MH2_2000_MHC_2000',)].T,\n",
    "    (scaled_output_2b_down['MT_vs_sdmass_central'].axis('mt').edges(overflow='over'), scaled_output_2b_down['MT_vs_sdmass_central'].axis('mass').edges(overflow='over')),\n",
    "    errors = np.sqrt(scaled_output_2b_down['MT_vs_sdmass_central'].values(sumw2=True, overflow='over')[('2HDMa_sinp_0.35_tanb_1.0_mXd_10_MH3_2000_MH4_750_MH2_2000_MHC_2000',)][1].T),\n",
    ")"
   ]
  },
  {
   "cell_type": "code",
   "execution_count": null,
   "id": "55553e7b",
   "metadata": {},
   "outputs": [],
   "source": [
    "for b in range(0,4):\n",
    "    for j in range(0,10):\n",
    "        if MT_vs_sdmass_2000_750_2b_down.counts[b][j] == 0:\n",
    "            MT_vs_sdmass_2000_750_2b_down.counts[b][j] = 0.01\n",
    "            MT_vs_sdmass_2000_750_2b_down.errors[b][j] = 0.01"
   ]
  },
  {
   "cell_type": "code",
   "execution_count": null,
   "id": "fac34703",
   "metadata": {},
   "outputs": [],
   "source": [
    "MT_vs_sdmass_Z_2b_down = Hist2D.from_bincounts(\n",
    "     scaled_output['MT_vs_sdmass_central_2b_down'].values(overflow='over')[('ZJetsToNuNu_HT',)].T,\n",
    "    (scaled_output['MT_vs_sdmass_central_2b_down'].axis('mt').edges(overflow='over'), scaled_output['MT_vs_sdmass_central_2b_down'].axis('mass').edges(overflow='over')),\n",
    "    errors = np.sqrt(scaled_output['MT_vs_sdmass_central_2b_down'].values(sumw2=True, overflow='over')[('ZJetsToNuNu_HT',)][1].T),\n",
    ")"
   ]
  },
  {
   "cell_type": "code",
   "execution_count": null,
   "id": "2687615a",
   "metadata": {},
   "outputs": [],
   "source": [
    "for b in range(0,4):\n",
    "    for j in range(0,10):\n",
    "        if MT_vs_sdmass_Z_2b_down.counts[b][j] == 0:\n",
    "            MT_vs_sdmass_Z_2b_down.counts[b][j] = 0.01\n",
    "            MT_vs_sdmass_Z_2b_down.errors[b][j] = 0.01"
   ]
  },
  {
   "cell_type": "code",
   "execution_count": null,
   "id": "f14dee13",
   "metadata": {},
   "outputs": [],
   "source": [
    "MT_vs_sdmass_tt_2b_down = Hist2D.from_bincounts(\n",
    "     scaled_output['MT_vs_sdmass_central_2b_down'].values(overflow='over')[('TT',)].T,\n",
    "    (scaled_output['MT_vs_sdmass_central_2b_down'].axis('mt').edges(overflow='over'), scaled_output['MT_vs_sdmass_central_2b_down'].axis('mass').edges(overflow='over')),\n",
    "    errors = np.sqrt(scaled_output['MT_vs_sdmass_central_2b_down'].values(sumw2=True, overflow='over')[('TT',)][1].T),\n",
    ")"
   ]
  },
  {
   "cell_type": "code",
   "execution_count": null,
   "id": "d020d988",
   "metadata": {},
   "outputs": [],
   "source": [
    "for b in range(0,4):\n",
    "    for j in range(0,10):\n",
    "        if MT_vs_sdmass_tt_2b_down.counts[b][j] == 0:\n",
    "            MT_vs_sdmass_tt_2b_down.counts[b][j] = 0.01\n",
    "            MT_vs_sdmass_tt_2b_down.errors[b][j] = 0.01"
   ]
  },
  {
   "cell_type": "code",
   "execution_count": null,
   "id": "78267a48",
   "metadata": {},
   "outputs": [],
   "source": [
    "MT_vs_sdmass_W_2b_down = Hist2D.from_bincounts(\n",
    "     scaled_output['MT_vs_sdmass_central_2b_down'].values(overflow='over')[('WJetsToLNu_Njet',)].T,\n",
    "    (scaled_output['MT_vs_sdmass_central_2b_down'].axis('mt').edges(overflow='over'), scaled_output['MT_vs_sdmass_central_2b_down'].axis('mass').edges(overflow='over')),\n",
    "    errors = np.sqrt(scaled_output['MT_vs_sdmass_central_2b_down'].values(sumw2=True, overflow='over')[('WJetsToLNu_Njet',)][1].T),\n",
    ")"
   ]
  },
  {
   "cell_type": "code",
   "execution_count": null,
   "id": "37282b55",
   "metadata": {},
   "outputs": [],
   "source": [
    "for b in range(0,4):\n",
    "    for j in range(0,10):\n",
    "        if MT_vs_sdmass_W_2b_down.counts[b][j] == 0:\n",
    "            MT_vs_sdmass_W_2b_down.counts[b][j] = 0.01\n",
    "            MT_vs_sdmass_W_2b_down.errors[b][j] = 0.01"
   ]
  },
  {
   "cell_type": "code",
   "execution_count": null,
   "id": "64c29185",
   "metadata": {},
   "outputs": [],
   "source": [
    "MT_vs_sdmass_QCD_2b_down = Hist2D.from_bincounts(\n",
    "     scaled_output['MT_vs_sdmass_central_2b_down'].values(overflow='over')[('QCD_bEnriched_HT',)].T,\n",
    "    (scaled_output['MT_vs_sdmass_central_2b_down'].axis('mt').edges(overflow='over'), scaled_output['MT_vs_sdmass_central_2b_down'].axis('mass').edges(overflow='over')),\n",
    "    errors = np.sqrt(scaled_output['MT_vs_sdmass_central_2b_down'].values(sumw2=True, overflow='over')[('QCD_bEnriched_HT',)][1].T),\n",
    ")"
   ]
  },
  {
   "cell_type": "code",
   "execution_count": null,
   "id": "6e5eb243",
   "metadata": {},
   "outputs": [],
   "source": [
    "for b in range(0,4):\n",
    "    for j in range(0,10):\n",
    "        if MT_vs_sdmass_QCD_2b_down.counts[b][j] == 0:\n",
    "            MT_vs_sdmass_QCD_2b_down.counts[b][j] = 0.01\n",
    "            MT_vs_sdmass_QCD_2b_down.errors[b][j] = 0.01"
   ]
  },
  {
   "cell_type": "markdown",
   "id": "d9f76105",
   "metadata": {},
   "source": [
    "$~$"
   ]
  },
  {
   "cell_type": "code",
   "execution_count": null,
   "id": "4d3b0051",
   "metadata": {},
   "outputs": [],
   "source": [
    "differences_2b_avg_1500_150 = abs((MT_vs_sdmass_1500_150_2b_up-MT_vs_sdmass_1500_150_2b_down).counts)/(2*MT_vs_sdmass_1500_150_central.counts)+1"
   ]
  },
  {
   "cell_type": "code",
   "execution_count": null,
   "id": "49735c53",
   "metadata": {},
   "outputs": [],
   "source": [
    "differences_2b_avg_1500_750 = abs(MT_vs_sdmass_1500_750_2b_up-MT_vs_sdmass_1500_750_2b_down)/(2*MT_vs_sdmass_1500_750_central)"
   ]
  },
  {
   "cell_type": "code",
   "execution_count": null,
   "id": "e4e11d9b",
   "metadata": {},
   "outputs": [],
   "source": [
    "differences_2b_avg_1750_750 = abs(MT_vs_sdmass_1750_750_2b_up-MT_vs_sdmass_1750_750_2b_down)/(2*MT_vs_sdmass_1750_750_central)"
   ]
  },
  {
   "cell_type": "code",
   "execution_count": null,
   "id": "8130a724",
   "metadata": {},
   "outputs": [],
   "source": [
    "differences_2b_avg_2000_750 = abs(MT_vs_sdmass_2000_750_2b_up-MT_vs_sdmass_2000_750_2b_down)/(2*MT_vs_sdmass_2000_750_central)"
   ]
  },
  {
   "cell_type": "code",
   "execution_count": null,
   "id": "dff50f14",
   "metadata": {},
   "outputs": [],
   "source": [
    "differences_2b_avg_Z = abs((MT_vs_sdmass_Z_2b_up-MT_vs_sdmass_Z_2b_down).counts)/(2*MT_vs_sdmass_Z_central.counts)+1"
   ]
  },
  {
   "cell_type": "code",
   "execution_count": null,
   "id": "c15a7090",
   "metadata": {},
   "outputs": [],
   "source": [
    "differences_2b_avg_tt = abs((MT_vs_sdmass_tt_2b_up-MT_vs_sdmass_tt_2b_down).counts)/(2*MT_vs_sdmass_tt_central.counts)+1"
   ]
  },
  {
   "cell_type": "code",
   "execution_count": null,
   "id": "aed09426",
   "metadata": {},
   "outputs": [],
   "source": [
    "differences_2b_avg_W = abs((MT_vs_sdmass_W_2b_up-MT_vs_sdmass_W_2b_down).counts)/(2*MT_vs_sdmass_W_central.counts)+1"
   ]
  },
  {
   "cell_type": "code",
   "execution_count": null,
   "id": "a687e4c0",
   "metadata": {},
   "outputs": [],
   "source": [
    "differences_2b_avg_W = (MT_vs_sdmass_W_2b_up-MT_vs_sdmass_W_2b_down).counts/(2*MT_vs_sdmass_W_central.counts)+1"
   ]
  },
  {
   "cell_type": "code",
   "execution_count": null,
   "id": "05167553",
   "metadata": {},
   "outputs": [],
   "source": [
    "differences_2b_avg_W"
   ]
  },
  {
   "cell_type": "code",
   "execution_count": null,
   "id": "54ce0488",
   "metadata": {},
   "outputs": [],
   "source": [
    "differences_2b_avg_QCD = abs((MT_vs_sdmass_QCD_2b_up-MT_vs_sdmass_QCD_2b_down).counts)/(2*MT_vs_sdmass_QCD_central.counts)+1"
   ]
  },
  {
   "cell_type": "markdown",
   "id": "3c32a8ce",
   "metadata": {},
   "source": [
    "$~$"
   ]
  },
  {
   "cell_type": "code",
   "execution_count": null,
   "id": "57f22c21",
   "metadata": {},
   "outputs": [],
   "source": [
    "MT_vs_sdmass_1500_150_1h_up = Hist2D.from_bincounts(\n",
    "    scaled_output['MT_vs_sdmass_central_1h_up'].values(overflow='over')[('2HDMa_sinp_0.35_tanb_1.0_mXd_10_MH3_1500_MH4_150_MH2_1500_MHC_1500',)].T,\n",
    "    (scaled_output['MT_vs_sdmass_central_1h_up'].axis('mt').edges(overflow='over'), scaled_output['MT_vs_sdmass_central_1h_up'].axis('mass').edges(overflow='over')),\n",
    "    errors = np.sqrt(scaled_output['MT_vs_sdmass_central_1h_up'].values(sumw2=True, overflow='over')[('2HDMa_sinp_0.35_tanb_1.0_mXd_10_MH3_1500_MH4_150_MH2_1500_MHC_1500',)][1].T),\n",
    ")"
   ]
  },
  {
   "cell_type": "code",
   "execution_count": null,
   "id": "4c1ed2c3",
   "metadata": {},
   "outputs": [],
   "source": [
    "for b in range(0,4):\n",
    "    for j in range(0,10):\n",
    "        if MT_vs_sdmass_1500_150_1h_up.counts[b][j] == 0:\n",
    "            MT_vs_sdmass_1500_150_1h_up.counts[b][j] = 0.01\n",
    "            MT_vs_sdmass_1500_150_1h_up.errors[b][j] = 0.01"
   ]
  },
  {
   "cell_type": "code",
   "execution_count": null,
   "id": "ece09d4d",
   "metadata": {},
   "outputs": [],
   "source": [
    "MT_vs_sdmass_1500_750_1h_up = Hist2D.from_bincounts(\n",
    "    scaled_output_1h_up['MT_vs_sdmass_central'].values(overflow='over')[('2HDMa_sinp_0.35_tanb_1.0_mXd_10_MH3_1500_MH4_750_MH2_1500_MHC_1500',)].T,\n",
    "    (scaled_output_1h_up['MT_vs_sdmass_central'].axis('mt').edges(overflow='over'), scaled_output_1h_up['MT_vs_sdmass_central'].axis('mass').edges(overflow='over')),\n",
    "    errors = np.sqrt(scaled_output_1h_up['MT_vs_sdmass_central'].values(sumw2=True, overflow='over')[('2HDMa_sinp_0.35_tanb_1.0_mXd_10_MH3_1500_MH4_750_MH2_1500_MHC_1500',)][1].T),\n",
    ")"
   ]
  },
  {
   "cell_type": "code",
   "execution_count": null,
   "id": "414a6247",
   "metadata": {},
   "outputs": [],
   "source": [
    "for b in range(0,4):\n",
    "    for j in range(0,10):\n",
    "        if MT_vs_sdmass_1500_750_1h_up.counts[b][j] == 0:\n",
    "            MT_vs_sdmass_1500_750_1h_up.counts[b][j] = 0.01\n",
    "            MT_vs_sdmass_1500_750_1h_up.errors[b][j] = 0.01"
   ]
  },
  {
   "cell_type": "code",
   "execution_count": null,
   "id": "6dd7d459",
   "metadata": {},
   "outputs": [],
   "source": [
    "MT_vs_sdmass_1750_750_1h_up = Hist2D.from_bincounts(\n",
    "    scaled_output_1h_up['MT_vs_sdmass_central'].values(overflow='over')[('2HDMa_sinp_0.35_tanb_1.0_mXd_10_MH3_1750_MH4_750_MH2_1750_MHC_1750',)].T,\n",
    "    (scaled_output_1h_up['MT_vs_sdmass_central'].axis('mt').edges(overflow='over'), scaled_output_1h_up['MT_vs_sdmass_central'].axis('mass').edges(overflow='over')),\n",
    "    errors = np.sqrt(scaled_output_1h_up['MT_vs_sdmass_central'].values(sumw2=True, overflow='over')[('2HDMa_sinp_0.35_tanb_1.0_mXd_10_MH3_1750_MH4_750_MH2_1750_MHC_1750',)][1].T),\n",
    ")"
   ]
  },
  {
   "cell_type": "code",
   "execution_count": null,
   "id": "962e21d8",
   "metadata": {},
   "outputs": [],
   "source": [
    "for b in range(0,4):\n",
    "    for j in range(0,10):\n",
    "        if MT_vs_sdmass_1750_750_1h_up.counts[b][j] == 0:\n",
    "            MT_vs_sdmass_1750_750_1h_up.counts[b][j] = 0.01\n",
    "            MT_vs_sdmass_1750_750_1h_up.errors[b][j] = 0.01"
   ]
  },
  {
   "cell_type": "code",
   "execution_count": null,
   "id": "7b26d9e8",
   "metadata": {},
   "outputs": [],
   "source": [
    "MT_vs_sdmass_2000_750_1h_up = Hist2D.from_bincounts(\n",
    "    scaled_output_1h_up['MT_vs_sdmass_central'].values(overflow='over')[('2HDMa_sinp_0.35_tanb_1.0_mXd_10_MH3_2000_MH4_750_MH2_2000_MHC_2000',)].T,\n",
    "    (scaled_output_1h_up['MT_vs_sdmass_central'].axis('mt').edges(overflow='over'), scaled_output_1h_up['MT_vs_sdmass_central'].axis('mass').edges(overflow='over')),\n",
    "    errors = np.sqrt(scaled_output_1h_up['MT_vs_sdmass_central'].values(sumw2=True, overflow='over')[('2HDMa_sinp_0.35_tanb_1.0_mXd_10_MH3_2000_MH4_750_MH2_2000_MHC_2000',)][1].T),\n",
    ")"
   ]
  },
  {
   "cell_type": "code",
   "execution_count": null,
   "id": "d2297e51",
   "metadata": {},
   "outputs": [],
   "source": [
    "for b in range(0,4):\n",
    "    for j in range(0,10):\n",
    "        if MT_vs_sdmass_2000_750_1h_up.counts[b][j] == 0:\n",
    "            MT_vs_sdmass_2000_750_1h_up.counts[b][j] = 0.01\n",
    "            MT_vs_sdmass_2000_750_1h_up.errors[b][j] = 0.01"
   ]
  },
  {
   "cell_type": "code",
   "execution_count": null,
   "id": "652dbb49",
   "metadata": {},
   "outputs": [],
   "source": [
    "MT_vs_sdmass_Z_1h_up = Hist2D.from_bincounts(\n",
    "     scaled_output['MT_vs_sdmass_central_1h_up'].values(overflow='over')[('ZJetsToNuNu_HT',)].T,\n",
    "    (scaled_output['MT_vs_sdmass_central_1h_up'].axis('mt').edges(overflow='over'), scaled_output['MT_vs_sdmass_central_1h_up'].axis('mass').edges(overflow='over')),\n",
    "    errors = np.sqrt(scaled_output['MT_vs_sdmass_central_1h_up'].values(sumw2=True, overflow='over')[('ZJetsToNuNu_HT',)][1].T),\n",
    ")"
   ]
  },
  {
   "cell_type": "code",
   "execution_count": null,
   "id": "81d56a7c",
   "metadata": {},
   "outputs": [],
   "source": [
    "for b in range(0,4):\n",
    "    for j in range(0,10):\n",
    "        if MT_vs_sdmass_Z_1h_up.counts[b][j] == 0:\n",
    "            MT_vs_sdmass_Z_1h_up.counts[b][j] = 0.01\n",
    "            MT_vs_sdmass_Z_1h_up.errors[b][j] = 0.01"
   ]
  },
  {
   "cell_type": "code",
   "execution_count": null,
   "id": "555e8ad1",
   "metadata": {},
   "outputs": [],
   "source": [
    "MT_vs_sdmass_tt_1h_up = Hist2D.from_bincounts(\n",
    "     scaled_output['MT_vs_sdmass_central_1h_up'].values(overflow='over')[('TT',)].T,\n",
    "    (scaled_output['MT_vs_sdmass_central_1h_up'].axis('mt').edges(overflow='over'), scaled_output['MT_vs_sdmass_central_1h_up'].axis('mass').edges(overflow='over')),\n",
    "    errors = np.sqrt(scaled_output['MT_vs_sdmass_central_1h_up'].values(sumw2=True, overflow='over')[('TT',)][1].T),\n",
    ")"
   ]
  },
  {
   "cell_type": "code",
   "execution_count": null,
   "id": "a3a05812",
   "metadata": {},
   "outputs": [],
   "source": [
    "for b in range(0,4):\n",
    "    for j in range(0,10):\n",
    "        if MT_vs_sdmass_tt_1h_up.counts[b][j] == 0:\n",
    "            MT_vs_sdmass_tt_1h_up.counts[b][j] = 0.01\n",
    "            MT_vs_sdmass_tt_1h_up.errors[b][j] = 0.01"
   ]
  },
  {
   "cell_type": "code",
   "execution_count": null,
   "id": "8808659f",
   "metadata": {},
   "outputs": [],
   "source": [
    "MT_vs_sdmass_W_1h_up = Hist2D.from_bincounts(\n",
    "     scaled_output['MT_vs_sdmass_central_1h_up'].values(overflow='over')[('WJetsToLNu_Njet',)].T,\n",
    "    (scaled_output['MT_vs_sdmass_central_1h_up'].axis('mt').edges(overflow='over'), scaled_output['MT_vs_sdmass_central_1h_up'].axis('mass').edges(overflow='over')),\n",
    "    errors = np.sqrt(scaled_output['MT_vs_sdmass_central_1h_up'].values(sumw2=True, overflow='over')[('WJetsToLNu_Njet',)][1].T),\n",
    ")"
   ]
  },
  {
   "cell_type": "code",
   "execution_count": null,
   "id": "ef303108",
   "metadata": {},
   "outputs": [],
   "source": [
    "for b in range(0,4):\n",
    "    for j in range(0,10):\n",
    "        if MT_vs_sdmass_W_1h_up.counts[b][j] == 0:\n",
    "            MT_vs_sdmass_W_1h_up.counts[b][j] = 0.01\n",
    "            MT_vs_sdmass_W_1h_up.errors[b][j] = 0.01"
   ]
  },
  {
   "cell_type": "code",
   "execution_count": null,
   "id": "bb3e0990",
   "metadata": {},
   "outputs": [],
   "source": [
    "MT_vs_sdmass_QCD_1h_up = Hist2D.from_bincounts(\n",
    "     scaled_output['MT_vs_sdmass_central_1h_up'].values(overflow='over')[('QCD_bEnriched_HT',)].T,\n",
    "    (scaled_output['MT_vs_sdmass_central_1h_up'].axis('mt').edges(overflow='over'), scaled_output['MT_vs_sdmass_central_1h_up'].axis('mass').edges(overflow='over')),\n",
    "    errors = np.sqrt(scaled_output['MT_vs_sdmass_central_1h_up'].values(sumw2=True, overflow='over')[('QCD_bEnriched_HT',)][1].T),\n",
    ")"
   ]
  },
  {
   "cell_type": "code",
   "execution_count": null,
   "id": "ffeed213",
   "metadata": {},
   "outputs": [],
   "source": [
    "for b in range(0,4):\n",
    "    for j in range(0,10):\n",
    "        if MT_vs_sdmass_QCD_1h_up.counts[b][j] == 0:\n",
    "            MT_vs_sdmass_QCD_1h_up.counts[b][j] = 0.01\n",
    "            MT_vs_sdmass_QCD_1h_up.errors[b][j] = 0.01"
   ]
  },
  {
   "cell_type": "markdown",
   "id": "d82119e9",
   "metadata": {},
   "source": [
    "$~$"
   ]
  },
  {
   "cell_type": "code",
   "execution_count": null,
   "id": "e526505e",
   "metadata": {},
   "outputs": [],
   "source": [
    "MT_vs_sdmass_1500_150_1h_down = Hist2D.from_bincounts(\n",
    "    scaled_output['MT_vs_sdmass_central_1h_down'].values(overflow='over')[('2HDMa_sinp_0.35_tanb_1.0_mXd_10_MH3_1500_MH4_150_MH2_1500_MHC_1500',)].T,\n",
    "    (scaled_output['MT_vs_sdmass_central_1h_down'].axis('mt').edges(overflow='over'), scaled_output['MT_vs_sdmass_central_1h_down'].axis('mass').edges(overflow='over')),\n",
    "    errors = np.sqrt(scaled_output['MT_vs_sdmass_central_1h_down'].values(sumw2=True, overflow='over')[('2HDMa_sinp_0.35_tanb_1.0_mXd_10_MH3_1500_MH4_150_MH2_1500_MHC_1500',)][1].T),\n",
    ")"
   ]
  },
  {
   "cell_type": "code",
   "execution_count": null,
   "id": "a4018f75",
   "metadata": {},
   "outputs": [],
   "source": [
    "for b in range(0,4):\n",
    "    for j in range(0,10):\n",
    "        if MT_vs_sdmass_1500_150_1h_down.counts[b][j] == 0:\n",
    "            MT_vs_sdmass_1500_150_1h_down.counts[b][j] = 0.01\n",
    "            MT_vs_sdmass_1500_150_1h_down.errors[b][j] = 0.01"
   ]
  },
  {
   "cell_type": "code",
   "execution_count": null,
   "id": "d5ba7082",
   "metadata": {},
   "outputs": [],
   "source": [
    "MT_vs_sdmass_1500_750_1h_down = Hist2D.from_bincounts(\n",
    "    scaled_output_1h_down['MT_vs_sdmass_central'].values(overflow='over')[('2HDMa_sinp_0.35_tanb_1.0_mXd_10_MH3_1500_MH4_750_MH2_1500_MHC_1500',)].T,\n",
    "    (scaled_output_1h_down['MT_vs_sdmass_central'].axis('mt').edges(overflow='over'), scaled_output_1h_down['MT_vs_sdmass_central'].axis('mass').edges(overflow='over')),\n",
    "    errors = np.sqrt(scaled_output_1h_down['MT_vs_sdmass_central'].values(sumw2=True, overflow='over')[('2HDMa_sinp_0.35_tanb_1.0_mXd_10_MH3_1500_MH4_750_MH2_1500_MHC_1500',)][1].T),\n",
    ")"
   ]
  },
  {
   "cell_type": "code",
   "execution_count": null,
   "id": "dc7e818f",
   "metadata": {},
   "outputs": [],
   "source": [
    "for b in range(0,4):\n",
    "    for j in range(0,10):\n",
    "        if MT_vs_sdmass_1500_750_1h_down.counts[b][j] == 0:\n",
    "            MT_vs_sdmass_1500_750_1h_down.counts[b][j] = 0.01\n",
    "            MT_vs_sdmass_1500_750_1h_down.errors[b][j] = 0.01"
   ]
  },
  {
   "cell_type": "code",
   "execution_count": null,
   "id": "32ccaaa3",
   "metadata": {},
   "outputs": [],
   "source": [
    "MT_vs_sdmass_1750_750_1h_down = Hist2D.from_bincounts(\n",
    "    scaled_output_1h_down['MT_vs_sdmass_central'].values(overflow='over')[('2HDMa_sinp_0.35_tanb_1.0_mXd_10_MH3_1750_MH4_750_MH2_1750_MHC_1750',)].T,\n",
    "    (scaled_output_1h_down['MT_vs_sdmass_central'].axis('mt').edges(overflow='over'), scaled_output_1h_down['MT_vs_sdmass_central'].axis('mass').edges(overflow='over')),\n",
    "    errors = np.sqrt(scaled_output_1h_down['MT_vs_sdmass_central'].values(sumw2=True, overflow='over')[('2HDMa_sinp_0.35_tanb_1.0_mXd_10_MH3_1750_MH4_750_MH2_1750_MHC_1750',)][1].T),\n",
    ")"
   ]
  },
  {
   "cell_type": "code",
   "execution_count": null,
   "id": "4d8993f1",
   "metadata": {},
   "outputs": [],
   "source": [
    "for b in range(0,4):\n",
    "    for j in range(0,10):\n",
    "        if MT_vs_sdmass_1750_750_1h_down.counts[b][j] == 0:\n",
    "            MT_vs_sdmass_1750_750_1h_down.counts[b][j] = 0.01\n",
    "            MT_vs_sdmass_1750_750_1h_down.errors[b][j] = 0.01"
   ]
  },
  {
   "cell_type": "code",
   "execution_count": null,
   "id": "16da5801",
   "metadata": {},
   "outputs": [],
   "source": [
    "MT_vs_sdmass_2000_750_1h_down = Hist2D.from_bincounts(\n",
    "    scaled_output_1h_down['MT_vs_sdmass_central'].values(overflow='over')[('2HDMa_sinp_0.35_tanb_1.0_mXd_10_MH3_2000_MH4_750_MH2_2000_MHC_2000',)].T,\n",
    "    (scaled_output_1h_down['MT_vs_sdmass_central'].axis('mt').edges(overflow='over'), scaled_output_1h_down['MT_vs_sdmass_central'].axis('mass').edges(overflow='over')),\n",
    "    errors = np.sqrt(scaled_output_1h_down['MT_vs_sdmass_central'].values(sumw2=True, overflow='over')[('2HDMa_sinp_0.35_tanb_1.0_mXd_10_MH3_2000_MH4_750_MH2_2000_MHC_2000',)][1].T),\n",
    ")"
   ]
  },
  {
   "cell_type": "code",
   "execution_count": null,
   "id": "968de94e",
   "metadata": {},
   "outputs": [],
   "source": [
    "for b in range(0,4):\n",
    "    for j in range(0,10):\n",
    "        if MT_vs_sdmass_2000_750_1h_down.counts[b][j] == 0:\n",
    "            MT_vs_sdmass_2000_750_1h_down.counts[b][j] = 0.01\n",
    "            MT_vs_sdmass_2000_750_1h_down.errors[b][j] = 0.01"
   ]
  },
  {
   "cell_type": "code",
   "execution_count": null,
   "id": "6e54ac37",
   "metadata": {},
   "outputs": [],
   "source": [
    "MT_vs_sdmass_Z_1h_down = Hist2D.from_bincounts(\n",
    "     scaled_output['MT_vs_sdmass_central_1h_down'].values(overflow='over')[('ZJetsToNuNu_HT',)].T,\n",
    "    (scaled_output['MT_vs_sdmass_central_1h_down'].axis('mt').edges(overflow='over'), scaled_output['MT_vs_sdmass_central_1h_down'].axis('mass').edges(overflow='over')),\n",
    "    errors = np.sqrt(scaled_output['MT_vs_sdmass_central_1h_down'].values(sumw2=True, overflow='over')[('ZJetsToNuNu_HT',)][1].T),\n",
    ")"
   ]
  },
  {
   "cell_type": "code",
   "execution_count": null,
   "id": "1fb1b1f1",
   "metadata": {},
   "outputs": [],
   "source": [
    "for b in range(0,4):\n",
    "    for j in range(0,10):\n",
    "        if MT_vs_sdmass_Z_1h_down.counts[b][j] == 0:\n",
    "            MT_vs_sdmass_Z_1h_down.counts[b][j] = 0.01\n",
    "            MT_vs_sdmass_Z_1h_down.errors[b][j] = 0.01"
   ]
  },
  {
   "cell_type": "code",
   "execution_count": null,
   "id": "c8f9488e",
   "metadata": {},
   "outputs": [],
   "source": [
    "MT_vs_sdmass_tt_1h_down = Hist2D.from_bincounts(\n",
    "     scaled_output['MT_vs_sdmass_central_1h_down'].values(overflow='over')[('TT',)].T,\n",
    "    (scaled_output['MT_vs_sdmass_central_1h_down'].axis('mt').edges(overflow='over'), scaled_output['MT_vs_sdmass_central_1h_down'].axis('mass').edges(overflow='over')),\n",
    "    errors = np.sqrt(scaled_output['MT_vs_sdmass_central_1h_down'].values(sumw2=True, overflow='over')[('TT',)][1].T),\n",
    ")"
   ]
  },
  {
   "cell_type": "code",
   "execution_count": null,
   "id": "39e1504f",
   "metadata": {},
   "outputs": [],
   "source": [
    "for b in range(0,4):\n",
    "    for j in range(0,10):\n",
    "        if MT_vs_sdmass_tt_1h_down.counts[b][j] == 0:\n",
    "            MT_vs_sdmass_tt_1h_down.counts[b][j] = 0.01\n",
    "            MT_vs_sdmass_tt_1h_down.errors[b][j] = 0.01"
   ]
  },
  {
   "cell_type": "code",
   "execution_count": null,
   "id": "b6fc3609",
   "metadata": {},
   "outputs": [],
   "source": [
    "MT_vs_sdmass_W_1h_down = Hist2D.from_bincounts(\n",
    "     scaled_output['MT_vs_sdmass_central_1h_down'].values(overflow='over')[('WJetsToLNu_Njet',)].T,\n",
    "    (scaled_output['MT_vs_sdmass_central_1h_down'].axis('mt').edges(overflow='over'), scaled_output['MT_vs_sdmass_central_1h_down'].axis('mass').edges(overflow='over')),\n",
    "    errors = np.sqrt(scaled_output['MT_vs_sdmass_central_1h_down'].values(sumw2=True, overflow='over')[('WJetsToLNu_Njet',)][1].T),\n",
    ")"
   ]
  },
  {
   "cell_type": "code",
   "execution_count": null,
   "id": "fbe706bd",
   "metadata": {},
   "outputs": [],
   "source": [
    "for b in range(0,4):\n",
    "    for j in range(0,10):\n",
    "        if MT_vs_sdmass_W_1h_down.counts[b][j] == 0:\n",
    "            MT_vs_sdmass_W_1h_down.counts[b][j] = 0.01\n",
    "            MT_vs_sdmass_W_1h_down.errors[b][j] = 0.01"
   ]
  },
  {
   "cell_type": "code",
   "execution_count": null,
   "id": "1d9aeb89",
   "metadata": {},
   "outputs": [],
   "source": [
    "MT_vs_sdmass_QCD_1h_down = Hist2D.from_bincounts(\n",
    "     scaled_output['MT_vs_sdmass_central_1h_down'].values(overflow='over')[('QCD_bEnriched_HT',)].T,\n",
    "    (scaled_output['MT_vs_sdmass_central_1h_down'].axis('mt').edges(overflow='over'), scaled_output['MT_vs_sdmass_central_1h_down'].axis('mass').edges(overflow='over')),\n",
    "    errors = np.sqrt(scaled_output['MT_vs_sdmass_central_1h_down'].values(sumw2=True, overflow='over')[('QCD_bEnriched_HT',)][1].T),\n",
    ")"
   ]
  },
  {
   "cell_type": "code",
   "execution_count": null,
   "id": "a58dcee8",
   "metadata": {},
   "outputs": [],
   "source": [
    "for b in range(0,4):\n",
    "    for j in range(0,10):\n",
    "        if MT_vs_sdmass_QCD_1h_down.counts[b][j] == 0:\n",
    "            MT_vs_sdmass_QCD_1h_down.counts[b][j] = 0.01\n",
    "            MT_vs_sdmass_QCD_1h_down.errors[b][j] = 0.01"
   ]
  },
  {
   "cell_type": "markdown",
   "id": "e59fe765",
   "metadata": {},
   "source": [
    "$~$"
   ]
  },
  {
   "cell_type": "code",
   "execution_count": null,
   "id": "05b4b1c3",
   "metadata": {},
   "outputs": [],
   "source": [
    "differences_1h_avg_1500_150 = abs((MT_vs_sdmass_1500_150_1h_up-MT_vs_sdmass_1500_150_1h_down).counts)/(2*MT_vs_sdmass_1500_150_central.counts)+1"
   ]
  },
  {
   "cell_type": "code",
   "execution_count": null,
   "id": "d9d86c57",
   "metadata": {},
   "outputs": [],
   "source": [
    "differences_1h_avg_1500_750 = abs(MT_vs_sdmass_1500_750_1h_up-MT_vs_sdmass_1500_750_1h_down)/(2*MT_vs_sdmass_1500_750_central)"
   ]
  },
  {
   "cell_type": "code",
   "execution_count": null,
   "id": "8da10873",
   "metadata": {},
   "outputs": [],
   "source": [
    "differences_1h_avg_1750_750 = abs(MT_vs_sdmass_1750_750_1h_up-MT_vs_sdmass_1750_750_1h_down)/(2*MT_vs_sdmass_1750_750_central)"
   ]
  },
  {
   "cell_type": "code",
   "execution_count": null,
   "id": "e8ae93fc",
   "metadata": {},
   "outputs": [],
   "source": [
    "differences_1h_avg_2000_750 = abs(MT_vs_sdmass_2000_750_1h_up-MT_vs_sdmass_2000_750_1h_down)/(2*MT_vs_sdmass_2000_750_central)"
   ]
  },
  {
   "cell_type": "code",
   "execution_count": null,
   "id": "b1fd408a",
   "metadata": {},
   "outputs": [],
   "source": [
    "differences_1h_avg_Z = abs((MT_vs_sdmass_Z_1h_up-MT_vs_sdmass_Z_1h_down).counts)/(2*MT_vs_sdmass_1500_150_central.counts)+1"
   ]
  },
  {
   "cell_type": "code",
   "execution_count": null,
   "id": "34aff108",
   "metadata": {},
   "outputs": [],
   "source": [
    "differences_1h_avg_tt = abs((MT_vs_sdmass_tt_1h_up-MT_vs_sdmass_tt_1h_down).counts)/(2*MT_vs_sdmass_1500_150_central.counts)+1"
   ]
  },
  {
   "cell_type": "code",
   "execution_count": null,
   "id": "1958a276",
   "metadata": {},
   "outputs": [],
   "source": [
    "differences_1h_avg_W = abs((MT_vs_sdmass_W_1h_up-MT_vs_sdmass_W_1h_down).counts)/(2*MT_vs_sdmass_1500_150_central.counts)+1"
   ]
  },
  {
   "cell_type": "code",
   "execution_count": null,
   "id": "0d526ac1",
   "metadata": {},
   "outputs": [],
   "source": [
    "differences_1h_avg_QCD = abs((MT_vs_sdmass_QCD_1h_up-MT_vs_sdmass_QCD_1h_down).counts)/(2*MT_vs_sdmass_1500_150_central.counts)+1"
   ]
  },
  {
   "cell_type": "markdown",
   "id": "dc45fb30",
   "metadata": {},
   "source": [
    "## datacards"
   ]
  },
  {
   "cell_type": "code",
   "execution_count": null,
   "id": "926e7d8b",
   "metadata": {
    "scrolled": false
   },
   "outputs": [],
   "source": [
    "from tools.dataCard import dataCard\n",
    "\n",
    "c = dataCard()\n",
    "c.setPrecision(3)\n",
    "\n",
    "c.addUncertainty('lumi',        'lnN')\n",
    "c.addUncertainty('JES',        'lnN')\n",
    "c.addUncertainty('0b',         'lnN')\n",
    "c.addUncertainty('1b',         'lnN')\n",
    "c.addUncertainty('2b',         'lnN')\n",
    "c.addUncertainty('1h',         'lnN')\n",
    "\n",
    "binnum = 0\n",
    "\n",
    "for b in range(0,4):\n",
    "    for j in range(0,10):\n",
    "        binname = 'bin'+str(binnum)\n",
    "        Binname = str(b+1)+'_'+str(j+1)\n",
    "        binnum += 1\n",
    "        c.addBin(binname, ['Wjets', 'QCD', 'ttjets', 'Zjets'], Binname) # signal is automatically added\n",
    "        \n",
    "        processes = {'signal': MT_vs_sdmass_1500_150_central, 'QCD': MT_vs_sdmass_QCD_central, 'Wjets': MT_vs_sdmass_W_central, 'ttjets': MT_vs_sdmass_tt_central, 'Zjets': MT_vs_sdmass_Z_central}\n",
    "        for process in processes:\n",
    "            uname = 'Stat_'+binname+'_'+process\n",
    "            c.addUncertainty(uname, 'lnN')\n",
    "            c.specifyUncertainty(uname, binname, process, round(1+processes[process].errors[b][j]/processes[process].counts[b][j], 3))\n",
    "        \n",
    "        c.specifyExpectation(binname, 'signal',  round(MT_vs_sdmass_1500_150_central.counts[b][j], 3))\n",
    "        c.specifyExpectation(binname, 'QCD',    round(MT_vs_sdmass_QCD_central.counts[b][j], 3))\n",
    "        c.specifyExpectation(binname, 'Wjets',    round(MT_vs_sdmass_W_central.counts[b][j], 3))\n",
    "        c.specifyExpectation(binname, 'ttjets',    round(MT_vs_sdmass_tt_central.counts[b][j], 3))\n",
    "        c.specifyExpectation(binname, 'Zjets',    round(MT_vs_sdmass_Z_central.counts[b][j], 3))\n",
    "\n",
    "        c.specifyObservation(binname, round(MT_vs_sdmass_QCD_central.counts[b][j] + MT_vs_sdmass_W_central.counts[b][j] + MT_vs_sdmass_tt_central.counts[b][j] + MT_vs_sdmass_Z_central.counts[b][j], 3))\n",
    "        \n",
    "        c.specifyUncertainty('JES', binname, 'signal', differences_avg_1500_150[b][j])\n",
    "        c.specifyUncertainty('JES', binname, 'QCD',   differences_avg_QCD[b][j])\n",
    "        c.specifyUncertainty('JES', binname, 'Wjets',   differences_avg_W[b][j])\n",
    "        c.specifyUncertainty('JES', binname, 'ttjets',  differences_avg_tt[b][j])\n",
    "        c.specifyUncertainty('JES', binname, 'Zjets',  differences_avg_Z[b][j])\n",
    "        \n",
    "        c.specifyUncertainty('0b', binname, 'signal', differences_0b_avg_1500_150[b][j])\n",
    "        c.specifyUncertainty('0b', binname, 'QCD',   differences_0b_avg_QCD[b][j])\n",
    "        c.specifyUncertainty('0b', binname, 'Wjets',   differences_0b_avg_W[b][j])\n",
    "        c.specifyUncertainty('0b', binname, 'ttjets',  differences_0b_avg_tt[b][j])\n",
    "        c.specifyUncertainty('0b', binname, 'Zjets',  differences_0b_avg_Z[b][j])\n",
    "        \n",
    "        c.specifyUncertainty('1b', binname, 'signal', differences_1b_avg_1500_150[b][j])\n",
    "        c.specifyUncertainty('1b', binname, 'QCD',   differences_1b_avg_QCD[b][j])\n",
    "        c.specifyUncertainty('1b', binname, 'Wjets',   differences_1b_avg_W[b][j])\n",
    "        c.specifyUncertainty('1b', binname, 'ttjets',  differences_1b_avg_tt[b][j])\n",
    "        c.specifyUncertainty('1b', binname, 'Zjets',  differences_1b_avg_Z[b][j])\n",
    "        \n",
    "        c.specifyUncertainty('2b', binname, 'signal', differences_2b_avg_1500_150[b][j])\n",
    "        c.specifyUncertainty('2b', binname, 'QCD',   differences_2b_avg_QCD[b][j])\n",
    "        c.specifyUncertainty('2b', binname, 'Wjets',   differences_2b_avg_W[b][j])\n",
    "        c.specifyUncertainty('2b', binname, 'ttjets',  differences_2b_avg_tt[b][j])\n",
    "        c.specifyUncertainty('2b', binname, 'Zjets',  differences_2b_avg_Z[b][j])\n",
    "        \n",
    "        c.specifyUncertainty('1h', binname, 'signal', differences_1h_avg_1500_150[b][j])\n",
    "        c.specifyUncertainty('1h', binname, 'QCD',   differences_1h_avg_QCD[b][j])\n",
    "        c.specifyUncertainty('1h', binname, 'Wjets',   differences_1h_avg_W[b][j])\n",
    "        c.specifyUncertainty('1h', binname, 'ttjets',  differences_1h_avg_tt[b][j])\n",
    "        c.specifyUncertainty('1h', binname, 'Zjets',  differences_1h_avg_Z[b][j])\n",
    "        \n",
    "c.specifyFlatUncertainty('lumi', 1.01)\n",
    "c.writeToFile('./2HDMa_1500_150_2.txt')"
   ]
  },
  {
   "cell_type": "code",
   "execution_count": null,
   "id": "e56236b2",
   "metadata": {
    "scrolled": false
   },
   "outputs": [],
   "source": [
    "from tools.dataCard import dataCard\n",
    "\n",
    "c = dataCard()\n",
    "c.setPrecision(3)\n",
    "\n",
    "c.addUncertainty('lumi',        'lnN')\n",
    "c.addUncertainty('JES',        'lnN')\n",
    "c.addUncertainty('0b',         'lnN')\n",
    "c.addUncertainty('1b',         'lnN')\n",
    "c.addUncertainty('2b',         'lnN')\n",
    "c.addUncertainty('1h',         'lnN')\n",
    "\n",
    "binnum = 0\n",
    "\n",
    "for b in range(0,4):\n",
    "    for j in range(0,10):\n",
    "        binname = 'bin'+str(binnum)\n",
    "        Binname = str(b+1)+'_'+str(j+1)\n",
    "        binnum += 1\n",
    "        c.addBin(binname, ['Wjets', 'QCD', 'ttjets', 'Zjets'], Binname) # signal is automatically added\n",
    "        \n",
    "        processes = {'signal': MT_vs_sdmass_1500_750_central, 'QCD': MT_vs_sdmass_QCD_central, 'Wjets': MT_vs_sdmass_W_central, 'ttjets': MT_vs_sdmass_tt_central, 'Zjets': MT_vs_sdmass_Z_central}\n",
    "        for process in processes:\n",
    "            uname = 'Stat_'+binname+'_'+process\n",
    "            c.addUncertainty(uname, 'lnN')\n",
    "            c.specifyUncertainty(uname, binname, process, round(1+processes[process].errors[b][j]/processes[process].counts[b][j], 3))\n",
    "        \n",
    "        c.specifyExpectation(binname, 'signal',  round(MT_vs_sdmass_1500_750_central.counts[b][j], 3))\n",
    "        c.specifyExpectation(binname, 'QCD',    round(MT_vs_sdmass_QCD_central.counts[b][j], 3))\n",
    "        c.specifyExpectation(binname, 'Wjets',    round(MT_vs_sdmass_W_central.counts[b][j], 3))\n",
    "        c.specifyExpectation(binname, 'ttjets',    round(MT_vs_sdmass_tt_central.counts[b][j], 3))\n",
    "        c.specifyExpectation(binname, 'Zjets',    round(MT_vs_sdmass_Z_central.counts[b][j], 3))\n",
    "\n",
    "        c.specifyObservation(binname, round(MT_vs_sdmass_QCD_central.counts[b][j] + MT_vs_sdmass_W_central.counts[b][j] + MT_vs_sdmass_tt_central.counts[b][j] + MT_vs_sdmass_Z_central.counts[b][j], 3))\n",
    "        \n",
    "        c.specifyUncertainty('JES', binname, 'signal', differences_avg_1500_750.counts[b][j]+1)\n",
    "        c.specifyUncertainty('JES', binname, 'QCD',   differences_avg_QCD.counts[b][j]+1)\n",
    "        c.specifyUncertainty('JES', binname, 'Wjets',   differences_avg_W.counts[b][j]+1)\n",
    "        c.specifyUncertainty('JES', binname, 'ttjets',  differences_avg_tt.counts[b][j]+1)\n",
    "        c.specifyUncertainty('JES', binname, 'Zjets',  differences_avg_Z.counts[b][j]+1)\n",
    "        \n",
    "        c.specifyUncertainty('0b', binname, 'signal', differences_0b_avg_1500_750.counts[b][j]+1)\n",
    "        c.specifyUncertainty('0b', binname, 'QCD',   differences_0b_avg_QCD.counts[b][j]+1)\n",
    "        c.specifyUncertainty('0b', binname, 'Wjets',   differences_0b_avg_W.counts[b][j]+1)\n",
    "        c.specifyUncertainty('0b', binname, 'ttjets',  differences_0b_avg_tt.counts[b][j]+1)\n",
    "        c.specifyUncertainty('0b', binname, 'Zjets',  differences_0b_avg_Z.counts[b][j]+1)\n",
    "        \n",
    "        c.specifyUncertainty('1b', binname, 'signal', differences_1b_avg_1500_750.counts[b][j]+1)\n",
    "        c.specifyUncertainty('1b', binname, 'QCD',   differences_1b_avg_QCD.counts[b][j]+1)\n",
    "        c.specifyUncertainty('1b', binname, 'Wjets',   differences_1b_avg_W.counts[b][j]+1)\n",
    "        c.specifyUncertainty('1b', binname, 'ttjets',  differences_1b_avg_tt.counts[b][j]+1)\n",
    "        c.specifyUncertainty('1b', binname, 'Zjets',  differences_1b_avg_Z.counts[b][j]+1)\n",
    "        \n",
    "        c.specifyUncertainty('2b', binname, 'signal', differences_2b_avg_1500_750.counts[b][j]+1)\n",
    "        c.specifyUncertainty('2b', binname, 'QCD',   differences_2b_avg_QCD.counts[b][j]+1)\n",
    "        c.specifyUncertainty('2b', binname, 'Wjets',   differences_2b_avg_W.counts[b][j]+1)\n",
    "        c.specifyUncertainty('2b', binname, 'ttjets',  differences_2b_avg_tt.counts[b][j]+1)\n",
    "        c.specifyUncertainty('2b', binname, 'Zjets',  differences_2b_avg_Z.counts[b][j]+1)\n",
    "        \n",
    "        c.specifyUncertainty('1h', binname, 'signal', differences_1h_avg_1500_750.counts[b][j]+1)\n",
    "        c.specifyUncertainty('1h', binname, 'QCD',   differences_1h_avg_QCD.counts[b][j]+1)\n",
    "        c.specifyUncertainty('1h', binname, 'Wjets',   differences_1h_avg_W.counts[b][j]+1)\n",
    "        c.specifyUncertainty('1h', binname, 'ttjets',  differences_1h_avg_tt.counts[b][j]+1)\n",
    "        c.specifyUncertainty('1h', binname, 'Zjets',  differences_1h_avg_Z.counts[b][j]+1)\n",
    "        \n",
    "c.specifyFlatUncertainty('lumi', 1.01)\n",
    "c.writeToFile('./2HDMa_1500_750_1.txt')"
   ]
  },
  {
   "cell_type": "code",
   "execution_count": null,
   "id": "271584f1",
   "metadata": {
    "scrolled": false
   },
   "outputs": [],
   "source": [
    "from tools.dataCard import dataCard\n",
    "\n",
    "c = dataCard()\n",
    "c.setPrecision(3)\n",
    "\n",
    "c.addUncertainty('lumi',        'lnN')\n",
    "c.addUncertainty('JES',        'lnN')\n",
    "c.addUncertainty('0b',         'lnN')\n",
    "c.addUncertainty('1b',         'lnN')\n",
    "c.addUncertainty('2b',         'lnN')\n",
    "c.addUncertainty('1h',         'lnN')\n",
    "\n",
    "binnum = 0\n",
    "\n",
    "for b in range(0,4):\n",
    "    for j in range(0,10):\n",
    "        binname = 'bin'+str(binnum)\n",
    "        Binname = str(b+1)+'_'+str(j+1)\n",
    "        binnum += 1\n",
    "        c.addBin(binname, ['Wjets', 'QCD', 'ttjets', 'Zjets'], Binname) # signal is automatically added\n",
    "        \n",
    "        processes = {'signal': MT_vs_sdmass_1750_750_central, 'QCD': MT_vs_sdmass_QCD_central, 'Wjets': MT_vs_sdmass_W_central, 'ttjets': MT_vs_sdmass_tt_central, 'Zjets': MT_vs_sdmass_Z_central}\n",
    "        for process in processes:\n",
    "            uname = 'Stat_'+binname+'_'+process\n",
    "            c.addUncertainty(uname, 'lnN')\n",
    "            c.specifyUncertainty(uname, binname, process, round(1+processes[process].errors[b][j]/processes[process].counts[b][j], 3))\n",
    "        \n",
    "        c.specifyExpectation(binname, 'signal',  round(MT_vs_sdmass_1750_750_central.counts[b][j], 3))\n",
    "        c.specifyExpectation(binname, 'QCD',    round(MT_vs_sdmass_QCD_central.counts[b][j], 3))\n",
    "        c.specifyExpectation(binname, 'Wjets',    round(MT_vs_sdmass_W_central.counts[b][j], 3))\n",
    "        c.specifyExpectation(binname, 'ttjets',    round(MT_vs_sdmass_tt_central.counts[b][j], 3))\n",
    "        c.specifyExpectation(binname, 'Zjets',    round(MT_vs_sdmass_Z_central.counts[b][j], 3))\n",
    "\n",
    "        c.specifyObservation(binname, round(MT_vs_sdmass_QCD_central.counts[b][j] + MT_vs_sdmass_W_central.counts[b][j] + MT_vs_sdmass_tt_central.counts[b][j] + MT_vs_sdmass_Z_central.counts[b][j], 3))\n",
    "        \n",
    "        c.specifyUncertainty('JES', binname, 'signal', differences_avg_1750_750.counts[b][j]+1)\n",
    "        c.specifyUncertainty('JES', binname, 'QCD',   differences_avg_QCD.counts[b][j]+1)\n",
    "        c.specifyUncertainty('JES', binname, 'Wjets',   differences_avg_W.counts[b][j]+1)\n",
    "        c.specifyUncertainty('JES', binname, 'ttjets',  differences_avg_tt.counts[b][j]+1)\n",
    "        c.specifyUncertainty('JES', binname, 'Zjets',  differences_avg_Z.counts[b][j]+1)\n",
    "        \n",
    "        c.specifyUncertainty('0b', binname, 'signal', differences_0b_avg_1750_750.counts[b][j]+1)\n",
    "        c.specifyUncertainty('0b', binname, 'QCD',   differences_0b_avg_QCD.counts[b][j]+1)\n",
    "        c.specifyUncertainty('0b', binname, 'Wjets',   differences_0b_avg_W.counts[b][j]+1)\n",
    "        c.specifyUncertainty('0b', binname, 'ttjets',  differences_0b_avg_tt.counts[b][j]+1)\n",
    "        c.specifyUncertainty('0b', binname, 'Zjets',  differences_0b_avg_Z.counts[b][j]+1)\n",
    "        \n",
    "        c.specifyUncertainty('1b', binname, 'signal', differences_1b_avg_1750_750.counts[b][j]+1)\n",
    "        c.specifyUncertainty('1b', binname, 'QCD',   differences_1b_avg_QCD.counts[b][j]+1)\n",
    "        c.specifyUncertainty('1b', binname, 'Wjets',   differences_1b_avg_W.counts[b][j]+1)\n",
    "        c.specifyUncertainty('1b', binname, 'ttjets',  differences_1b_avg_tt.counts[b][j]+1)\n",
    "        c.specifyUncertainty('1b', binname, 'Zjets',  differences_1b_avg_Z.counts[b][j]+1)\n",
    "        \n",
    "        c.specifyUncertainty('2b', binname, 'signal', differences_2b_avg_1750_750.counts[b][j]+1)\n",
    "        c.specifyUncertainty('2b', binname, 'QCD',   differences_2b_avg_QCD.counts[b][j]+1)\n",
    "        c.specifyUncertainty('2b', binname, 'Wjets',   differences_2b_avg_W.counts[b][j]+1)\n",
    "        c.specifyUncertainty('2b', binname, 'ttjets',  differences_2b_avg_tt.counts[b][j]+1)\n",
    "        c.specifyUncertainty('2b', binname, 'Zjets',  differences_2b_avg_Z.counts[b][j]+1)\n",
    "        \n",
    "        c.specifyUncertainty('1h', binname, 'signal', differences_1h_avg_1750_750.counts[b][j]+1)\n",
    "        c.specifyUncertainty('1h', binname, 'QCD',   differences_1h_avg_QCD.counts[b][j]+1)\n",
    "        c.specifyUncertainty('1h', binname, 'Wjets',   differences_1h_avg_W.counts[b][j]+1)\n",
    "        c.specifyUncertainty('1h', binname, 'ttjets',  differences_1h_avg_tt.counts[b][j]+1)\n",
    "        c.specifyUncertainty('1h', binname, 'Zjets',  differences_1h_avg_Z.counts[b][j]+1)\n",
    "        \n",
    "c.specifyFlatUncertainty('lumi', 1.01)\n",
    "c.writeToFile('./2HDMa_1750_750_1.txt')"
   ]
  },
  {
   "cell_type": "code",
   "execution_count": null,
   "id": "33b8e47f",
   "metadata": {
    "scrolled": false
   },
   "outputs": [],
   "source": [
    "from tools.dataCard import dataCard\n",
    "\n",
    "c = dataCard()\n",
    "c.setPrecision(3)\n",
    "\n",
    "c.addUncertainty('lumi',        'lnN')\n",
    "c.addUncertainty('JES',        'lnN')\n",
    "c.addUncertainty('0b',         'lnN')\n",
    "c.addUncertainty('1b',         'lnN')\n",
    "c.addUncertainty('2b',         'lnN')\n",
    "c.addUncertainty('1h',         'lnN')\n",
    "\n",
    "binnum = 0\n",
    "\n",
    "for b in range(0,4):\n",
    "    for j in range(0,10):\n",
    "        binname = 'bin'+str(binnum)\n",
    "        Binname = str(b+1)+'_'+str(j+1)\n",
    "        binnum += 1\n",
    "        c.addBin(binname, ['Wjets', 'QCD', 'ttjets', 'Zjets'], Binname) # signal is automatically added\n",
    "        \n",
    "        processes = {'signal': MT_vs_sdmass_2000_750_central, 'QCD': MT_vs_sdmass_QCD_central, 'Wjets': MT_vs_sdmass_W_central, 'ttjets': MT_vs_sdmass_tt_central, 'Zjets': MT_vs_sdmass_Z_central}\n",
    "        for process in processes:\n",
    "            uname = 'Stat_'+binname+'_'+process\n",
    "            c.addUncertainty(uname, 'lnN')\n",
    "            c.specifyUncertainty(uname, binname, process, round(1+processes[process].errors[b][j]/processes[process].counts[b][j], 3))\n",
    "        \n",
    "        c.specifyExpectation(binname, 'signal',  round(MT_vs_sdmass_2000_750_central.counts[b][j], 3))\n",
    "        c.specifyExpectation(binname, 'QCD',    round(MT_vs_sdmass_QCD_central.counts[b][j], 3))\n",
    "        c.specifyExpectation(binname, 'Wjets',    round(MT_vs_sdmass_W_central.counts[b][j], 3))\n",
    "        c.specifyExpectation(binname, 'ttjets',    round(MT_vs_sdmass_tt_central.counts[b][j], 3))\n",
    "        c.specifyExpectation(binname, 'Zjets',    round(MT_vs_sdmass_Z_central.counts[b][j], 3))\n",
    "\n",
    "        c.specifyObservation(binname, round(MT_vs_sdmass_QCD_central.counts[b][j] + MT_vs_sdmass_W_central.counts[b][j] + MT_vs_sdmass_tt_central.counts[b][j] + MT_vs_sdmass_Z_central.counts[b][j], 3))\n",
    "        \n",
    "        c.specifyUncertainty('JES', binname, 'signal', differences_avg_2000_750.counts[b][j]+1)\n",
    "        c.specifyUncertainty('JES', binname, 'QCD',   differences_avg_QCD.counts[b][j]+1)\n",
    "        c.specifyUncertainty('JES', binname, 'Wjets',   differences_avg_W.counts[b][j]+1)\n",
    "        c.specifyUncertainty('JES', binname, 'ttjets',  differences_avg_tt.counts[b][j]+1)\n",
    "        c.specifyUncertainty('JES', binname, 'Zjets',  differences_avg_Z.counts[b][j]+1)\n",
    "      \n",
    "        c.specifyUncertainty('0b', binname, 'signal', differences_0b_avg_2000_750.counts[b][j]+1)\n",
    "        c.specifyUncertainty('0b', binname, 'QCD',   differences_0b_avg_QCD.counts[b][j]+1)\n",
    "        c.specifyUncertainty('0b', binname, 'Wjets',   differences_0b_avg_W.counts[b][j]+1)\n",
    "        c.specifyUncertainty('0b', binname, 'ttjets',  differences_0b_avg_tt.counts[b][j]+1)\n",
    "        c.specifyUncertainty('0b', binname, 'Zjets',  differences_0b_avg_Z.counts[b][j]+1)\n",
    "        \n",
    "        c.specifyUncertainty('1b', binname, 'signal', differences_1b_avg_2000_750.counts[b][j]+1)\n",
    "        c.specifyUncertainty('1b', binname, 'QCD',   differences_1b_avg_QCD.counts[b][j]+1)\n",
    "        c.specifyUncertainty('1b', binname, 'Wjets',   differences_1b_avg_W.counts[b][j]+1)\n",
    "        c.specifyUncertainty('1b', binname, 'ttjets',  differences_1b_avg_tt.counts[b][j]+1)\n",
    "        c.specifyUncertainty('1b', binname, 'Zjets',  differences_1b_avg_Z.counts[b][j]+1)\n",
    "        \n",
    "        c.specifyUncertainty('2b', binname, 'signal', differences_2b_avg_2000_750.counts[b][j]+1)\n",
    "        c.specifyUncertainty('2b', binname, 'QCD',   differences_2b_avg_QCD.counts[b][j]+1)\n",
    "        c.specifyUncertainty('2b', binname, 'Wjets',   differences_2b_avg_W.counts[b][j]+1)\n",
    "        c.specifyUncertainty('2b', binname, 'ttjets',  differences_2b_avg_tt.counts[b][j]+1)\n",
    "        c.specifyUncertainty('2b', binname, 'Zjets',  differences_2b_avg_Z.counts[b][j]+1)\n",
    "        \n",
    "        c.specifyUncertainty('1h', binname, 'signal', differences_1h_avg_2000_750.counts[b][j]+1)\n",
    "        c.specifyUncertainty('1h', binname, 'QCD',   differences_1h_avg_QCD.counts[b][j]+1)\n",
    "        c.specifyUncertainty('1h', binname, 'Wjets',   differences_1h_avg_W.counts[b][j]+1)\n",
    "        c.specifyUncertainty('1h', binname, 'ttjets',  differences_1h_avg_tt.counts[b][j]+1)\n",
    "        c.specifyUncertainty('1h', binname, 'Zjets',  differences_1h_avg_Z.counts[b][j]+1)\n",
    "        \n",
    "c.specifyFlatUncertainty('lumi', 1.01)\n",
    "c.writeToFile('./2HDMa_2000_750_1.txt')"
   ]
  },
  {
   "cell_type": "markdown",
   "id": "57d137a7",
   "metadata": {},
   "source": [
    "## Plotting Regions"
   ]
  },
  {
   "cell_type": "code",
   "execution_count": null,
   "id": "a747c5c5",
   "metadata": {},
   "outputs": [],
   "source": [
    "fig, ax  = plt.subplots(1, 1,figsize=(13,10) )\n",
    "MT_vs_sdmass_1500_750_central.plot(counts=True, equidistant='xy', counts_formatter=\"{:.2e} \\n$\\pm$\\n {:.2e}\".format, counts_fontsize=10,)\n",
    "ax.set_xlabel(r'$M_{T}$')\n",
    "ax.set_ylabel(r'$softdrop\\ mass$')\n",
    "#fig.savefig('/home/users/ewallace/public_html/HbbMET/plots/MT_vs_sdmass_1750_750.png')"
   ]
  },
  {
   "cell_type": "code",
   "execution_count": null,
   "id": "72ee9da1",
   "metadata": {},
   "outputs": [],
   "source": [
    "fig, ax  = plt.subplots(1, 1,figsize=(13,10) )\n",
    "MT_vs_sdmass_tt_central.plot(counts=True, equidistant='xy', counts_formatter=\"{:.2e} \\n$\\pm$\\n {:.2e}\".format, counts_fontsize=10,)\n",
    "ax.set_xlabel(r'$M_{T}$')\n",
    "ax.set_ylabel(r'$softdrop\\ mass$')\n",
    "#fig.savefig('/home/users/ewallace/public_html/HbbMET/plots/MT_vs_sdmass_tt.png')"
   ]
  },
  {
   "cell_type": "code",
   "execution_count": null,
   "id": "3585db40",
   "metadata": {},
   "outputs": [],
   "source": [
    "fig, ax  = plt.subplots(1, 1,figsize=(13,10) )\n",
    "MT_vs_sdmass_tt_up.plot(counts=True, equidistant='xy', counts_formatter=\"{:.2e} \\n$\\pm$\\n {:.2e}\".format, counts_fontsize=10,)\n",
    "ax.set_xlabel(r'$M_{T}$')\n",
    "ax.set_ylabel(r'$softdrop\\ mass$')\n",
    "#fig.savefig('/home/users/ewallace/public_html/HbbMET/plots/MT_vs_sdmass_tt.png')"
   ]
  },
  {
   "cell_type": "code",
   "execution_count": null,
   "id": "850aec45",
   "metadata": {},
   "outputs": [],
   "source": [
    "fig, ax  = plt.subplots(1, 1,figsize=(13,10) )\n",
    "MT_vs_sdmass_tt_down.plot(counts=True, equidistant='xy', counts_formatter=\"{:.2e} \\n$\\pm$\\n {:.2e}\".format, counts_fontsize=10,)\n",
    "ax.set_xlabel(r'$M_{T}$')\n",
    "ax.set_ylabel(r'$softdrop\\ mass$')\n",
    "#fig.savefig('/home/users/ewallace/public_html/HbbMET/plots/MT_vs_sdmass_tt.png')"
   ]
  },
  {
   "cell_type": "code",
   "execution_count": null,
   "id": "4a10fc36",
   "metadata": {},
   "outputs": [],
   "source": [
    "fig, ax  = plt.subplots(1, 1,figsize=(13,10) )\n",
    "MT_vs_sdmass_W_central.plot(counts=True, equidistant='xy', counts_formatter=\"{:.2e} \\n$\\pm$\\n {:.2e}\".format, counts_fontsize=10,)\n",
    "ax.set_xlabel(r'$M_{T}$')\n",
    "ax.set_ylabel(r'$softdrop\\ mass$')"
   ]
  },
  {
   "cell_type": "code",
   "execution_count": null,
   "id": "368701e2",
   "metadata": {},
   "outputs": [],
   "source": [
    "fig, ax  = plt.subplots(1, 1,figsize=(13,10) )\n",
    "MT_vs_sdmass_QCD_central.plot(counts=True, equidistant='xy', counts_formatter=\"{:.2e} \\n$\\pm$\\n {:.2e}\".format, counts_fontsize=10,)\n",
    "ax.set_xlabel(r'$M_{T}$')\n",
    "ax.set_ylabel(r'$softdrop\\ mass$')"
   ]
  },
  {
   "cell_type": "code",
   "execution_count": null,
   "id": "db91ad02",
   "metadata": {},
   "outputs": [],
   "source": []
  },
  {
   "cell_type": "markdown",
   "id": "a343ddc2",
   "metadata": {},
   "source": [
    "## Setting Up Plots"
   ]
  },
  {
   "cell_type": "code",
   "execution_count": null,
   "id": "e5cca204",
   "metadata": {},
   "outputs": [],
   "source": [
    "N_bins = hist.Bin('multiplicity', r'$N$', 6, -0.5, 5.5)\n",
    "mass_bins = hist.Bin('mass', r'$M\\ (GeV)$', 40, 0, 400)\n",
    "ht_bins = hist.Bin('pt', r'$H_{T}\\ (GeV)$', 60, 0, 3000)\n",
    "pt_bins = hist.Bin('pt', r'$p_{T}\\ (GeV)$', 80, 200, 1000)\n",
    "eta_bins = hist.Bin(\"eta\", \"$\\eta$\", 33, -4, 4)\n",
    "phi_bins = hist.Bin(\"phi\", \"$\\phi$\", 33, -4, 4)\n",
    "deltaR_bins = hist.Bin(\"deltaR\", \"$\\DeltaR$\", 10, 0, 1)\n",
    "tau1_bins = hist.Bin(\"tau\", \"$\\tau_1$\", 10, 0, 0.7)\n",
    "tau2_bins = hist.Bin(\"tau\", \"$\\tau_2$\", 10, 0, 0.5)\n",
    "tau3_bins = hist.Bin(\"tau\", \"$\\tau_3$\", 10, 0, 0.4)\n",
    "tau4_bins = hist.Bin(\"tau\", \"$\\tau_4$\", 10, 0, 0.3)\n",
    "\n",
    "labels ={\n",
    "            ('QCD_bEnriched_HT',): r'$QCD\\ b-enriched\\ (binned\\ by\\ HT)$',\n",
    "            ('ZJetsToNuNu_HT',): r'$ZJets\\to\\nu\\nu\\ (binned\\ by\\ HT)$',\n",
    "            ('WJetsToLNu_Njet',): r'$WJets\\to L\\nu\\ (binned\\ by\\ N_{jets})$',\n",
    "            ('TT_TuneCUETP8M2T4_14TeV-powheg-pythia8_200PU',): r'$t\\bar{t}$',\n",
    "            ('2HDMa_sinp_0.35_tanb_1.0_mXd_10_MH3_1500_MH4_750_MH2_1500_MHC_1500',): '2HDMa_1500_750_10',\n",
    "            ('2HDMa_sinp_0.35_tanb_1.0_mXd_10_MH3_1750_MH4_750_MH2_1750_MHC_1750',): '2HDMa_1750_750_10',\n",
    "            ('2HDMa_sinp_0.35_tanb_1.0_mXd_10_MH3_2000_MH4_750_MH2_2000_MHC_2000',): '2HDMa_2000_750_10',\n",
    "        }\n",
    "\n",
    "colors ={\n",
    "            ('QCD_bEnriched_HT',): '#D23FFE',\n",
    "            ('ZJetsToNuNu_HT',): '#6BFE3F',\n",
    "            ('WJetsToLNu_Njet',): '#FED23F',\n",
    "            ('TT_TuneCUETP8M2T4_14TeV-powheg-pythia8_200PU',): '#FE3F6B',\n",
    "        }\n",
    "        \n",
    "signals = [\n",
    "            ('2HDMa_sinp_0.35_tanb_1.0_mXd_10_MH3_1500_MH4_750_MH2_1500_MHC_1500',),\n",
    "            ('2HDMa_sinp_0.35_tanb_1.0_mXd_10_MH3_1750_MH4_750_MH2_1750_MHC_1750',), \n",
    "            ('2HDMa_sinp_0.35_tanb_1.0_mXd_10_MH3_2000_MH4_750_MH2_2000_MHC_2000',),\n",
    "        ]\n",
    "\n",
    "plot_dir = '/home/users/$USER/public_html/HbbMET/plots/'"
   ]
  },
  {
   "cell_type": "code",
   "execution_count": null,
   "id": "187ea37c",
   "metadata": {},
   "outputs": [],
   "source": [
    "tmp1 = scaled_output['MT_vs_sdmass']\n",
    "        \n",
    "keys = tmp1.values().keys()\n",
    "\n",
    "histos1 = {}\n",
    "\n",
    "for sample in keys:\n",
    "    h1 = Hist1D.from_bincounts(\n",
    "        tmp1.sum('mt', overflow='over').values(overflow = 'over')[sample].T,\n",
    "        (tmp1.axis('mass').edges(overflow = 'over')),\n",
    "        #errors = np.sqrt(tmp1.sum('pt', 'dataset', overflow = 'all').values(sumw2=True, overflow = 'all')[()][1].T),\n",
    "        )\n",
    "    histos1[sample] = h1\n",
    "\n",
    "backgrounds = []\n",
    "for sample in keys:\n",
    "    if sample not in signals:\n",
    "        backgrounds += (sample,)\n",
    "           \n",
    "fig, (ax) = plt.subplots(figsize=(10,10))\n",
    "hep.cms.label(\n",
    "    'Preliminary',\n",
    "    loc=0,\n",
    "    ax=ax,\n",
    "    #lumi = 3000,\n",
    "    rlabel = '14 TeV',\n",
    "    )\n",
    "\n",
    "hep.histplot(\n",
    "    [histos1[sample].counts for sample in backgrounds],\n",
    "    histos1[list(keys)[0]].edges,\n",
    "    #w2=[(hists[x].errors)**2 for x in keys ],\n",
    "    histtype=\"step\",\n",
    "    density = True,\n",
    "    stack=False,\n",
    "    label=[labels[sample] for sample in backgrounds],\n",
    "    color=[colors[sample] for sample in backgrounds],\n",
    "    ax=ax\n",
    "    )\n",
    "\n",
    "hep.histplot(\n",
    "    [histos1[sample].counts for sample in signals],\n",
    "    histos1[list(keys)[0]].edges,\n",
    "    w2=[(histos1[sample].errors)**2 for sample in signals],\n",
    "    histtype=\"step\",\n",
    "    density = True,\n",
    "    stack=False,\n",
    "    label=[labels[sample] for sample in signals],\n",
    "    ax=ax\n",
    "        )\n",
    "\n",
    "ax.set_xlabel(r'$softdrop\\ mass\\ (GeV)$')\n",
    "ax.set_ylabel(r'Events')\n",
    "ax.set_yscale('log')\n",
    "ax.legend(prop={'size': 12})\n",
    "\n",
    "#fig.savefig('/home/users/ewallace/public_html/HbbMET/plots/AK8_sdmass_BL.png')"
   ]
  },
  {
   "cell_type": "code",
   "execution_count": null,
   "id": "535d8a54",
   "metadata": {},
   "outputs": [],
   "source": [
    "makePlot2(scaled_output, 'met_pt', 'pt', met_bins, r'$MET_{pt}\\ (GeV)$', labels, colors, signals, plot_dir)\n",
    "makePlot2(scaled_output, 'met_pt_BL', 'pt', met_bins, r'$MET_{pt}\\ (GeV)$', labels, colors, signals, plot_dir)\n",
    "makePlot2(scaled_output, 'dphi_AK4_MET', 'phi', phi_bins2, r'$\\Delta\\varphi$', labels, colors, signals, plot_dir)\n",
    "makePlot2(scaled_output, 'dphi_AK4_MET_BL', 'phi', phi_bins2, r'$\\Delta\\varphi$', labels, colors, signals, plot_dir)\n",
    "makePlot2(scaled_output, 'dphi_AK8_MET', 'phi', phi_bins2, r'$\\Delta\\varphi$', labels, colors, signals, plot_dir)\n",
    "makePlot2(scaled_output, 'dphi_AK8_MET_BL', 'phi', phi_bins2, r'$\\Delta\\varphi$', labels, colors, signals, plot_dir)\n",
    "makePlot2(scaled_output, 'AK4_QCD_veto', 'phi', phi_bins2, r'$\\Delta\\varphi$', labels, colors, signals, plot_dir)\n",
    "makePlot2(scaled_output, 'AK4_QCD_veto_BL', 'phi', phi_bins2, r'$\\Delta\\varphi$', labels, colors, signals, plot_dir)\n",
    "makePlot2(scaled_output, 'AK8_QCD_veto', 'phi', phi_bins2, r'$\\Delta\\varphi$', labels, colors, signals, plot_dir)\n",
    "makePlot2(scaled_output, 'AK8_QCD_veto_BL', 'phi', phi_bins2, r'$\\Delta\\varphi$', labels, colors, signals, plot_dir)"
   ]
  },
  {
   "cell_type": "markdown",
   "id": "8940d043",
   "metadata": {},
   "source": [
    "# Cutflow"
   ]
  },
  {
   "cell_type": "code",
   "execution_count": null,
   "id": "04a0288a",
   "metadata": {},
   "outputs": [],
   "source": [
    "path = '../analysis/histos/output_flat.pkl.gz'\n",
    "with gzip.open(path) as fin:\n",
    "    output_flat = pickle.load(fin)"
   ]
  },
  {
   "cell_type": "code",
   "execution_count": null,
   "id": "3f28523f",
   "metadata": {},
   "outputs": [],
   "source": [
    "with open('../data/samples.yaml', 'r') as f:\n",
    "    samples = yaml.load(f, Loader = Loader)"
   ]
  },
  {
   "cell_type": "code",
   "execution_count": null,
   "id": "85044341",
   "metadata": {},
   "outputs": [],
   "source": [
    "fileset = {\n",
    "    'TT_TuneCUETP8M2T4_14TeV-powheg-pythia8_200PU': samples['TT_TuneCUETP8M2T4_14TeV-powheg-pythia8_200PU']['skim'],\n",
    "    'ZJetsToNuNu_HT-100To200_14TeV-madgraph_200PU': samples['ZJetsToNuNu_HT-100To200_14TeV-madgraph_200PU']['skim'],\n",
    "    'ZJetsToNuNu_HT-200To400_14TeV-madgraph_200PU': samples['ZJetsToNuNu_HT-200To400_14TeV-madgraph_200PU']['skim'],\n",
    "    'ZJetsToNuNu_HT-400To600_14TeV-madgraph_200PU': samples['ZJetsToNuNu_HT-400To600_14TeV-madgraph_200PU']['skim'],\n",
    "    'ZJetsToNuNu_HT-600To800_14TeV-madgraph_200PU': samples['ZJetsToNuNu_HT-600To800_14TeV-madgraph_200PU']['skim'],\n",
    "    'ZJetsToNuNu_HT-800To1200_14TeV-madgraph_200PU': samples['ZJetsToNuNu_HT-800To1200_14TeV-madgraph_200PU']['skim'],\n",
    "    'ZJetsToNuNu_HT-1200To2500_14TeV-madgraph_200PU': samples['ZJetsToNuNu_HT-1200To2500_14TeV-madgraph_200PU']['skim'],\n",
    "    #'W0JetsToLNu_TuneCUETP8M1_14TeV-madgraphMLM-pythia8_200PU': samples['W0JetsToLNu_TuneCUETP8M1_14TeV-madgraphMLM-pythia8_200PU']['skim'],\n",
    "    'W1JetsToLNu_TuneCUETP8M1_14TeV-madgraphMLM-pythia8_200PU': samples['W1JetsToLNu_TuneCUETP8M1_14TeV-madgraphMLM-pythia8_200PU']['skim'],\n",
    "    'W2JetsToLNu_TuneCUETP8M1_14TeV-madgraphMLM-pythia8_200PU': samples['W2JetsToLNu_TuneCUETP8M1_14TeV-madgraphMLM-pythia8_200PU']['skim'],\n",
    "    'W3JetsToLNu_TuneCUETP8M1_14TeV-madgraphMLM-pythia8_200PU': samples['W3JetsToLNu_TuneCUETP8M1_14TeV-madgraphMLM-pythia8_200PU']['skim'],\n",
    "    'QCD_bEnriched_HT1000to1500_TuneCUETP8M1_14TeV-madgraphMLM-pythia8_200PU': samples['QCD_bEnriched_HT1000to1500_TuneCUETP8M1_14TeV-madgraphMLM-pythia8_200PU']['skim'],\n",
    "    'QCD_bEnriched_HT1500to2000_TuneCUETP8M1_14TeV-madgraphMLM-pythia8_200PU': samples['QCD_bEnriched_HT1500to2000_TuneCUETP8M1_14TeV-madgraphMLM-pythia8_200PU']['skim'],\n",
    "    'QCD_bEnriched_HT2000toInf_TuneCUETP8M1_14TeV-madgraphMLM-pythia8_200PU': samples['QCD_bEnriched_HT2000toInf_TuneCUETP8M1_14TeV-madgraphMLM-pythia8_200PU']['skim'],\n",
    "    'QCD_bEnriched_HT200to300_TuneCUETP8M1_14TeV-madgraphMLM-pythia8_200PU': samples['QCD_bEnriched_HT200to300_TuneCUETP8M1_14TeV-madgraphMLM-pythia8_200PU']['skim'],\n",
    "    'QCD_bEnriched_HT300to500_TuneCUETP8M1_14TeV-madgraphMLM-pythia8_200PU': samples['QCD_bEnriched_HT300to500_TuneCUETP8M1_14TeV-madgraphMLM-pythia8_200PU']['skim'],\n",
    "    'QCD_bEnriched_HT500to700_TuneCUETP8M1_14TeV-madgraphMLM-pythia8_200PU': samples['QCD_bEnriched_HT500to700_TuneCUETP8M1_14TeV-madgraphMLM-pythia8_200PU']['skim'],\n",
    "    'QCD_bEnriched_HT700to1000_TuneCUETP8M1_14TeV-madgraphMLM-pythia8_200PU': samples['QCD_bEnriched_HT700to1000_TuneCUETP8M1_14TeV-madgraphMLM-pythia8_200PU']['skim'],\n",
    "    '2HDMa_bb_sinp_0.35_tanb_1.0_mXd_10_MH3_1500_MH4_750_MH2_1500_MHC_1500': samples['2HDMa_bb_sinp_0.35_tanb_1.0_mXd_10_MH3_1500_MH4_750_MH2_1500_MHC_1500']['ntuples'],\n",
    "    '2HDMa_bb_sinp_0.35_tanb_1.0_mXd_10_MH3_1750_MH4_750_MH2_1750_MHC_1750': samples['2HDMa_bb_sinp_0.35_tanb_1.0_mXd_10_MH3_1750_MH4_750_MH2_1750_MHC_1750']['ntuples'],\n",
    "    '2HDMa_bb_sinp_0.35_tanb_1.0_mXd_10_MH3_2000_MH4_750_MH2_2000_MHC_2000': samples['2HDMa_bb_sinp_0.35_tanb_1.0_mXd_10_MH3_2000_MH4_750_MH2_2000_MHC_2000']['ntuples'],\n",
    "    '2HDMa_gg_sinp_0.35_tanb_1.0_mXd_10_MH3_1500_MH4_750_MH2_1500_MHC_1500': samples['2HDMa_gg_sinp_0.35_tanb_1.0_mXd_10_MH3_1500_MH4_750_MH2_1500_MHC_1500']['ntuples'],\n",
    "    '2HDMa_gg_sinp_0.35_tanb_1.0_mXd_10_MH3_1750_MH4_750_MH2_1750_MHC_1750': samples['2HDMa_gg_sinp_0.35_tanb_1.0_mXd_10_MH3_1750_MH4_750_MH2_1750_MHC_1750']['ntuples'],\n",
    "    '2HDMa_gg_sinp_0.35_tanb_1.0_mXd_10_MH3_2000_MH4_750_MH2_2000_MHC_2000': samples['2HDMa_gg_sinp_0.35_tanb_1.0_mXd_10_MH3_2000_MH4_750_MH2_2000_MHC_2000']['ntuples'],\n",
    "}"
   ]
  },
  {
   "cell_type": "code",
   "execution_count": null,
   "id": "929181b0",
   "metadata": {},
   "outputs": [],
   "source": [
    "meta = {}\n",
    "\n",
    "for sample in fileset:\n",
    "    meta[sample] = output_flat[sample]\n",
    "    meta[sample]['xsec'] = samples[sample]['xsec']\n",
    "    meta[sample]['nevents'] = samples[sample]['nevents']"
   ]
  },
  {
   "cell_type": "code",
   "execution_count": null,
   "id": "8a9b4f54",
   "metadata": {},
   "outputs": [],
   "source": [
    "output_flat['cutflow']"
   ]
  },
  {
   "cell_type": "code",
   "execution_count": null,
   "id": "7de30853",
   "metadata": {},
   "outputs": [],
   "source": [
    "cutflow = cutflow_scale_and_merge(output_flat['cutflow'], meta, fileset, 3000)"
   ]
  },
  {
   "cell_type": "code",
   "execution_count": null,
   "id": "b638c75b",
   "metadata": {},
   "outputs": [],
   "source": [
    "cutflow"
   ]
  },
  {
   "cell_type": "code",
   "execution_count": null,
   "id": "b51786c3",
   "metadata": {},
   "outputs": [],
   "source": [
    "proceses = ['ZJetsToNuNu_HT', 'WJetsToLNu_Njet', 'QCD_bEnriched_HT', 'TT_TuneCUETP8M2T4_14TeV-powheg-pythia8_200PU', '2HDMa_1500_750', '2HDMa_1750_750', '2HDMa_2000_750']\n",
    "cuts = ['total', 'lepton_veto', 'MET>300', 'N_AK8>0', 'N_AK4>1', 'min_AK8_pt', 'dphi_AK8_MET>1', '1<dphi_AK4_MET<3', 'AK4_QCD_veto', 'AK8_QCD_veto', 'on_H', 'MT>600',  'N_H>0',]"
   ]
  },
  {
   "cell_type": "code",
   "execution_count": null,
   "id": "62c316ae",
   "metadata": {},
   "outputs": [],
   "source": [
    "getCutFlowTable(cutflow, proceses, cuts, significantFigures=4, absolute=True, signal = ['2HDMa_1500_750', '2HDMa_1750_750', '2HDMa_2000_750'])"
   ]
  }
 ],
 "metadata": {
  "kernelspec": {
   "display_name": "coffeadev",
   "language": "python",
   "name": "coffeadev"
  },
  "language_info": {
   "codemirror_mode": {
    "name": "ipython",
    "version": 3
   },
   "file_extension": ".py",
   "mimetype": "text/x-python",
   "name": "python",
   "nbconvert_exporter": "python",
   "pygments_lexer": "ipython3",
   "version": "3.9.7"
  }
 },
 "nbformat": 4,
 "nbformat_minor": 5
}
