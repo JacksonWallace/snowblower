{
 "cells": [
  {
   "cell_type": "markdown",
   "id": "22c76d58",
   "metadata": {},
   "source": [
    "# Post Processing"
   ]
  },
  {
   "cell_type": "code",
   "execution_count": null,
   "id": "366c6eb3",
   "metadata": {},
   "outputs": [],
   "source": [
    "import gzip\n",
    "import pickle"
   ]
  },
  {
   "cell_type": "code",
   "execution_count": null,
   "id": "a9695d40",
   "metadata": {},
   "outputs": [],
   "source": [
    "import matplotlib.pyplot as plt\n",
    "import mplhep as hep\n",
    "plt.style.use(hep.style.CMS)\n",
    "from coffea import hist\n",
    "from plots.helpers import makePlot2\n",
    "from yahist import Hist1D, Hist2D"
   ]
  },
  {
   "cell_type": "markdown",
   "id": "a5948a7d",
   "metadata": {},
   "source": [
    "## Import Histograms"
   ]
  },
  {
   "cell_type": "code",
   "execution_count": null,
   "id": "ed5c4d93",
   "metadata": {},
   "outputs": [],
   "source": [
    "from yaml import Loader, Dumper\n",
    "import yaml\n",
    "\n",
    "with open('../data/samples.yaml', 'r') as f:\n",
    "    samples = yaml.load(f, Loader = Loader)"
   ]
  },
  {
   "cell_type": "code",
   "execution_count": null,
   "id": "d3711224",
   "metadata": {},
   "outputs": [],
   "source": [
    "samples.keys()"
   ]
  },
  {
   "cell_type": "code",
   "execution_count": null,
   "id": "5e915069",
   "metadata": {},
   "outputs": [],
   "source": [
    "path = '../analysis/histos/for_plotting.pkl.gz'\n",
    "with gzip.open(path) as fin:\n",
    "    scaled_output = pickle.load(fin)"
   ]
  },
  {
   "cell_type": "code",
   "execution_count": null,
   "id": "ba3d28a5",
   "metadata": {},
   "outputs": [],
   "source": [
    "import math\n",
    "import pandas as pd\n",
    "import numpy as np"
   ]
  },
  {
   "cell_type": "code",
   "execution_count": null,
   "id": "bcb709a3",
   "metadata": {},
   "outputs": [],
   "source": [
    "def getCutFlowTable(output, processes=['tW_scattering', 'TTW', 'ttbar'], lines=['skim', 'twoJet', 'oneBTag'], significantFigures=3, absolute=True, signal=None, total=False):\n",
    "    '''\n",
    "    Takes the output of a coffea processor (i.e. a python dictionary) and returns a formated cut-flow table of processes.\n",
    "    Lines and processes have to follow the naming of the coffea processor output.\n",
    "    '''\n",
    "    res = {}\n",
    "    eff = {}\n",
    "    for proc in processes:\n",
    "        res[proc] = {line: \"%s +/- %s\"%(round(output[proc][line], significantFigures-len(str(int(output[proc][line])))), round(math.sqrt(output[proc][line+'_w2']), significantFigures-len(str(int(output[proc][line]))))) for line in lines}\n",
    "        \n",
    "        # for efficiencies. doesn't deal with uncertainties yet\n",
    "        eff[proc] = {lines[i]: round(output[proc][lines[i]]/output[proc][lines[i-1]], significantFigures) if (i>0 and output[proc][lines[i-1]]>0) else 1. for i,x in enumerate(lines)}\n",
    "    \n",
    "    if total:\n",
    "        res['total'] = {line: \"%s\"%round( sum([ output[proc][line] for proc in total ] ), significantFigures-len(str(int(sum([ output[proc][line] for proc in total ] ))))) for line in lines }\n",
    "    \n",
    "    # if a signal is specified, calculate S/B\n",
    "    if signal is not None:\n",
    "        backgrounds = copy.deepcopy(processes)\n",
    "        for s in signal:\n",
    "            backgrounds.remove(s)\n",
    "        res['S/B'] = {line: round( sum([output[s][line] for s in signal])/sum([ output[proc][line] for proc in backgrounds ]) if sum([ output[proc][line] for proc in backgrounds ])>0 else 1, significantFigures) for line in lines }\n",
    "            \n",
    "    if not absolute:\n",
    "        res=eff\n",
    "    df = pd.DataFrame(res)\n",
    "    df = df.reindex(lines) # restores the proper order\n",
    "    return df"
   ]
  },
  {
   "cell_type": "code",
   "execution_count": null,
   "id": "2741c068",
   "metadata": {},
   "outputs": [],
   "source": [
    "getCutFlowTable(output_flat, processes=['W3JetsToLNu_TuneCUETP8M1_14TeV-madgraphMLM-pythia8_200PU'], lines=['total'])"
   ]
  },
  {
   "cell_type": "markdown",
   "id": "a343ddc2",
   "metadata": {},
   "source": [
    "## Setting Up Plots"
   ]
  },
  {
   "cell_type": "code",
   "execution_count": null,
   "id": "e5cca204",
   "metadata": {},
   "outputs": [],
   "source": [
    "N_bins = hist.Bin('multiplicity', r'$N$', 6, -0.5, 5.5)\n",
    "mass_bins = hist.Bin('mass', r'$M\\ (GeV)$', 40, 0, 400)\n",
    "ht_bins = hist.Bin('pt', r'$H_{T}\\ (GeV)$', 60, 0, 3000)\n",
    "pt_bins = hist.Bin('pt', r'$p_{T}\\ (GeV)$', 80, 200, 1000)\n",
    "eta_bins = hist.Bin(\"eta\", \"$\\eta$\", 33, -4, 4)\n",
    "phi_bins = hist.Bin(\"phi\", \"$\\phi$\", 33, -4, 4)\n",
    "deltaR_bins = hist.Bin(\"deltaR\", \"$\\DeltaR$\", 10, 0, 1)\n",
    "tau1_bins = hist.Bin(\"tau\", \"$\\tau_1$\", 10, 0, 0.7)\n",
    "tau2_bins = hist.Bin(\"tau\", \"$\\tau_2$\", 10, 0, 0.5)\n",
    "tau3_bins = hist.Bin(\"tau\", \"$\\tau_3$\", 10, 0, 0.4)\n",
    "tau4_bins = hist.Bin(\"tau\", \"$\\tau_4$\", 10, 0, 0.3)\n",
    "\n",
    "labels ={\n",
    "            ('QCD_bEnriched_HT',): r'$QCD\\ b-enriched\\ (binned\\ by\\ HT)$',\n",
    "            ('ZJetsToNuNu_HT',): r'$ZJets\\to\\nu\\nu\\ (binned\\ by\\ HT)$',\n",
    "            ('WJetsToLNu_Njet',): r'$WJets\\to L\\nu\\ (binned\\ by\\ N_{jets})$',\n",
    "            ('TT_TuneCUETP8M2T4_14TeV-powheg-pythia8_200PU',): r'$t\\bar{t}$',\n",
    "            ('2HDMa_sinp_0.35_tanb_1.0_mXd_10_MH3_1500_MH4_750_MH2_1500_MHC_1500',): '2HDMa_1500_750_10',\n",
    "            ('2HDMa_sinp_0.35_tanb_1.0_mXd_10_MH3_1750_MH4_750_MH2_1750_MHC_1750',): '2HDMa_1750_750_10',\n",
    "            ('2HDMa_sinp_0.35_tanb_1.0_mXd_10_MH3_2000_MH4_750_MH2_2000_MHC_2000',): '2HDMa_2000_750_10',\n",
    "        }\n",
    "\n",
    "colors ={\n",
    "            ('QCD_bEnriched_HT',): '#D23FFE',\n",
    "            ('ZJetsToNuNu_HT',): '#6BFE3F',\n",
    "            ('WJetsToLNu_Njet',): '#FED23F',\n",
    "            ('TT_TuneCUETP8M2T4_14TeV-powheg-pythia8_200PU',): '#FE3F6B',\n",
    "        }\n",
    "        \n",
    "signals = [\n",
    "            ('2HDMa_sinp_0.35_tanb_1.0_mXd_10_MH3_1500_MH4_750_MH2_1500_MHC_1500',),\n",
    "            ('2HDMa_sinp_0.35_tanb_1.0_mXd_10_MH3_1750_MH4_750_MH2_1750_MHC_1750',), \n",
    "            ('2HDMa_sinp_0.35_tanb_1.0_mXd_10_MH3_2000_MH4_750_MH2_2000_MHC_2000',),\n",
    "        ]"
   ]
  },
  {
   "cell_type": "code",
   "execution_count": null,
   "id": "921fd919",
   "metadata": {},
   "outputs": [],
   "source": [
    "scaled_output.keys()"
   ]
  },
  {
   "cell_type": "code",
   "execution_count": null,
   "id": "9350fada",
   "metadata": {},
   "outputs": [],
   "source": [
    "keys"
   ]
  },
  {
   "cell_type": "code",
   "execution_count": null,
   "id": "187ea37c",
   "metadata": {},
   "outputs": [],
   "source": [
    "tmp1 = scaled_output['MT_vs_sdmass']\n",
    "        \n",
    "keys = tmp1.values().keys()\n",
    "\n",
    "histos1 = {}\n",
    "\n",
    "for sample in keys:\n",
    "    h1 = Hist1D.from_bincounts(\n",
    "        tmp1.sum('mt', overflow='over').values(overflow = 'over')[sample].T,\n",
    "        (tmp1.axis('mass').edges(overflow = 'over')),\n",
    "        #errors = np.sqrt(tmp1.sum('pt', 'dataset', overflow = 'all').values(sumw2=True, overflow = 'all')[()][1].T),\n",
    "        )\n",
    "    histos1[sample] = h1\n",
    "\n",
    "backgrounds = []\n",
    "for sample in keys:\n",
    "    if sample not in signals:\n",
    "        backgrounds += (sample,)\n",
    "           \n",
    "fig, (ax) = plt.subplots(figsize=(10,10))\n",
    "hep.cms.label(\n",
    "    'Preliminary',\n",
    "    loc=0,\n",
    "    ax=ax,\n",
    "    #lumi = 3000,\n",
    "    rlabel = '14 TeV',\n",
    "    )\n",
    "\n",
    "hep.histplot(\n",
    "    [histos1[sample].counts for sample in backgrounds],\n",
    "    histos1[list(keys)[0]].edges,\n",
    "    #w2=[(hists[x].errors)**2 for x in keys ],\n",
    "    histtype=\"step\",\n",
    "    density = True,\n",
    "    stack=False,\n",
    "    label=[labels[sample] for sample in backgrounds],\n",
    "    color=[colors[sample] for sample in backgrounds],\n",
    "    ax=ax\n",
    "    )\n",
    "\n",
    "hep.histplot(\n",
    "    [histos1[sample].counts for sample in signals],\n",
    "    histos1[list(keys)[0]].edges,\n",
    "    w2=[(histos1[sample].errors)**2 for sample in signals],\n",
    "    histtype=\"step\",\n",
    "    density = True,\n",
    "    stack=False,\n",
    "    label=[labels[sample] for sample in signals],\n",
    "    ax=ax\n",
    "        )\n",
    "\n",
    "ax.set_xlabel(r'$softdrop\\ mass\\ (GeV)$')\n",
    "ax.set_ylabel(r'Events')\n",
    "ax.set_yscale('log')\n",
    "ax.legend(prop={'size': 12})\n",
    "\n",
    "#fig.savefig('/home/users/ewallace/public_html/HbbMET/plots/AK8_sdmass_BL.png')"
   ]
  },
  {
   "cell_type": "code",
   "execution_count": null,
   "id": "535d8a54",
   "metadata": {},
   "outputs": [],
   "source": [
    "makePlot2(output_flat, 'met', 'pt', pt_bins, r'$MET_{pt}\\ (GeV)$', labels, colors, signals=signals)\n",
    "makePlot2(output_flat, 'lead_fatjet_pt', 'pt', pt_bins, r'$p_{T}\\ (GeV)$', labels, colors, signals=signals)\n",
    "makePlot2(output_flat, 'lead_fatjet_eta', 'eta', eta_bins, r'$\\eta$', labels, colors, signals=signals)\n",
    "makePlot2(output_flat, 'lead_fatjet_phi', 'phi', phi_bins, r'$\\phi$', labels, colors, signals=signals)\n",
    "makePlot2(output_flat, 'lead_fatjet_sdmass', 'mass', mass_bins, r'$mass\\ (GeV)$', labels, colors, signals=signals)\n",
    "makePlot2(output_flat, 'lead_fatjet_tau1', 'tau', tau1_bins, r'$\\tau_1$', labels, colors, signals=signals)\n",
    "makePlot2(output_flat, 'lead_fatjet_tau2', 'tau', tau2_bins, r'$\\tau_2$', labels, colors, signals=signals)\n",
    "makePlot2(output_flat, 'lead_fatjet_tau3', 'tau', tau3_bins, r'$\\tau_3$', labels, colors, signals=signals)\n",
    "makePlot2(output_flat, 'lead_fatjet_tau4', 'tau', tau4_bins, r'$\\tau_4$', labels, colors, signals=signals)\n",
    "makePlot2(output_flat, 'nfatjet', 'multiplicity', N_bins, r'$n_{fatjet}$', labels, colors, signals=signals)\n",
    "makePlot2(output_flat, 'ht', 'pt', ht_bins, r'$H_{T}$', labels, colors, signals=signals)"
   ]
  },
  {
   "cell_type": "code",
   "execution_count": null,
   "id": "e64c2e4b",
   "metadata": {},
   "outputs": [],
   "source": [
    "plot_dir = '/home/users/$USER/public_html/HbbMET/plots/'\n",
    "makePlot2(output_flat, 'lead_fatjet_sdmass', 'mass', mass_bins, r'$mass\\ (GeV)$', labels, colors, signals=signals)\n",
    "scaled_output['MT_vs_sdmass'].sum('mt', overflow='over').values(overflow='over')"
   ]
  },
  {
   "cell_type": "code",
   "execution_count": null,
   "id": "5a3a283a",
   "metadata": {},
   "outputs": [],
   "source": []
  },
  {
   "cell_type": "code",
   "execution_count": null,
   "id": "d093008f",
   "metadata": {},
   "outputs": [],
   "source": [
    "MT_vs_sdmass_1500_750 = Hist2D.from_bincounts(\n",
    "    scaled_output['MT_vs_sdmass'].values(overflow='over')[('2HDMa_sinp_0.35_tanb_1.0_mXd_10_MH3_1500_MH4_750_MH2_1500_MHC_1500',)].T,\n",
    "    (scaled_output['MT_vs_sdmass'].axis('mt').edges(overflow='over'), scaled_output['MT_vs_sdmass'].axis('mass').edges(overflow='over')),\n",
    "    errors = np.sqrt(scaled_output['MT_vs_sdmass'].values(sumw2=True, overflow='over')[('2HDMa_sinp_0.35_tanb_1.0_mXd_10_MH3_1500_MH4_750_MH2_1500_MHC_1500',)][1].T),\n",
    ")"
   ]
  },
  {
   "cell_type": "code",
   "execution_count": null,
   "id": "44cb770c",
   "metadata": {},
   "outputs": [],
   "source": [
    "MT_vs_sdmass_1500_750.projection('y')"
   ]
  },
  {
   "cell_type": "code",
   "execution_count": null,
   "id": "1ec7015b",
   "metadata": {},
   "outputs": [],
   "source": [
    "for b in range(0,4):\n",
    "    for j in range(0,10):\n",
    "        if MT_vs_sdmass_1500_750.counts[b][j] == 0:\n",
    "            MT_vs_sdmass_1500_750.counts[b][j] = 0.01\n",
    "            MT_vs_sdmass_1500_750.errors[b][j] = 0.01"
   ]
  },
  {
   "cell_type": "code",
   "execution_count": null,
   "id": "15b8ed7f",
   "metadata": {},
   "outputs": [],
   "source": [
    "MT_vs_sdmass_tt = Hist2D.from_bincounts(\n",
    "     scaled_output['MT_vs_sdmass'].values(overflow='over')[('TT_TuneCUETP8M2T4_14TeV-powheg-pythia8_200PU',)].T,\n",
    "    (scaled_output['MT_vs_sdmass'].axis('mt').edges(overflow='over'), scaled_output['MT_vs_sdmass'].axis('mass').edges(overflow='over')),\n",
    "    errors = np.sqrt(scaled_output['MT_vs_sdmass'].values(sumw2=True, overflow='over')[('TT_TuneCUETP8M2T4_14TeV-powheg-pythia8_200PU',)][1].T),\n",
    ")"
   ]
  },
  {
   "cell_type": "code",
   "execution_count": null,
   "id": "1424b315",
   "metadata": {},
   "outputs": [],
   "source": [
    "for b in range(0,4):\n",
    "    for j in range(0,10):\n",
    "        if MT_vs_sdmass_tt.counts[b][j] == 0:\n",
    "            MT_vs_sdmass_tt.counts[b][j] = 0.01\n",
    "            MT_vs_sdmass_tt.errors[b][j] = 0.01"
   ]
  },
  {
   "cell_type": "code",
   "execution_count": null,
   "id": "e33de33b",
   "metadata": {},
   "outputs": [],
   "source": [
    "MT_vs_sdmass_W = Hist2D.from_bincounts(\n",
    "     scaled_output['MT_vs_sdmass'].values(overflow='over')[('WJetsToLNu_Njet',)].T,\n",
    "    (scaled_output['MT_vs_sdmass'].axis('mt').edges(overflow='over'), scaled_output['MT_vs_sdmass'].axis('mass').edges(overflow='over')),\n",
    "    errors = np.sqrt(scaled_output['MT_vs_sdmass'].values(sumw2=True, overflow='over')[('WJetsToLNu_Njet',)][1].T),\n",
    ")"
   ]
  },
  {
   "cell_type": "code",
   "execution_count": null,
   "id": "fe093eab",
   "metadata": {},
   "outputs": [],
   "source": [
    "for b in range(0,4):\n",
    "    for j in range(0,10):\n",
    "        if MT_vs_sdmass_W.counts[b][j] == 0:\n",
    "            MT_vs_sdmass_W.counts[b][j] = 0.01\n",
    "            MT_vs_sdmass_W.errors[b][j] = 0.01"
   ]
  },
  {
   "cell_type": "code",
   "execution_count": null,
   "id": "7bcd6d3c",
   "metadata": {},
   "outputs": [],
   "source": [
    "MT_vs_sdmass_QCD = Hist2D.from_bincounts(\n",
    "     scaled_output['MT_vs_sdmass'].values(overflow='over')[('QCD_bEnriched_HT',)].T,\n",
    "    (scaled_output['MT_vs_sdmass'].axis('mt').edges(overflow='over'), scaled_output['MT_vs_sdmass'].axis('mass').edges(overflow='over')),\n",
    "    errors = np.sqrt(scaled_output['MT_vs_sdmass'].values(sumw2=True, overflow='over')[('QCD_bEnriched_HT',)][1].T),\n",
    ")"
   ]
  },
  {
   "cell_type": "code",
   "execution_count": null,
   "id": "c118a250",
   "metadata": {},
   "outputs": [],
   "source": [
    "for b in range(0,4):\n",
    "    for j in range(0,10):\n",
    "        if MT_vs_sdmass_QCD.counts[b][j] == 0:\n",
    "            MT_vs_sdmass_QCD.counts[b][j] = 0.01\n",
    "            MT_vs_sdmass_QCD.errors[b][j] = 0.01"
   ]
  },
  {
   "cell_type": "code",
   "execution_count": null,
   "id": "a747c5c5",
   "metadata": {},
   "outputs": [],
   "source": [
    "fig, ax  = plt.subplots(1, 1,figsize=(10,10) )\n",
    "MT_vs_sdmass_1500_750.plot(counts=True, equidistant='xy', counts_formatter=\"{:.1e}\".format,\n",
    "        counts_fontsize=10,)\n",
    "ax.set_xlabel(r'$M_{T}$')\n",
    "ax.set_ylabel(r'$softdrop\\ mass$')\n",
    "#fig.savefig('/home/users/ewallace/public_html/HbbMET/plots/MT_vs_sdmass_1750_750.png')"
   ]
  },
  {
   "cell_type": "code",
   "execution_count": null,
   "id": "72ee9da1",
   "metadata": {},
   "outputs": [],
   "source": [
    "fig, ax  = plt.subplots(1, 1,figsize=(10,10) )\n",
    "MT_vs_sdmass_tt.plot(counts=True, equidistant='xy', counts_formatter=\"{:.1e}\".format,\n",
    "        counts_fontsize=10,)\n",
    "ax.set_xlabel(r'$M_{T}$')\n",
    "ax.set_ylabel(r'$softdrop\\ mass$')\n",
    "#fig.savefig('/home/users/ewallace/public_html/HbbMET/plots/MT_vs_sdmass_tt.png')"
   ]
  },
  {
   "cell_type": "code",
   "execution_count": null,
   "id": "4a10fc36",
   "metadata": {},
   "outputs": [],
   "source": [
    "fig, ax  = plt.subplots(1, 1,figsize=(10,10) )\n",
    "MT_vs_sdmass_W.plot(counts=True, equidistant='xy', counts_formatter=\"{:.1e}\".format,\n",
    "        counts_fontsize=10,)\n",
    "ax.set_xlabel(r'$M_{T}$')\n",
    "ax.set_ylabel(r'$softdrop\\ mass$')"
   ]
  },
  {
   "cell_type": "code",
   "execution_count": null,
   "id": "368701e2",
   "metadata": {},
   "outputs": [],
   "source": [
    "fig, ax  = plt.subplots(1, 1,figsize=(10,10) )\n",
    "MT_vs_sdmass_QCD.plot(counts=True, equidistant='xy', counts_formatter=\"{:.1e} \\n$\\pm$\\n {:.1e}\".format,\n",
    "        counts_fontsize=10,)\n",
    "ax.set_xlabel(r'$M_{T}$')\n",
    "ax.set_ylabel(r'$softdrop\\ mass$')"
   ]
  },
  {
   "cell_type": "code",
   "execution_count": null,
   "id": "e56236b2",
   "metadata": {},
   "outputs": [],
   "source": [
    "from tools.dataCard import dataCard\n",
    "\n",
    "c = dataCard()\n",
    "c.setPrecision(3)\n",
    "\n",
    "c.addUncertainty('lumi',        'lnN')\n",
    "\n",
    "binnum = 0\n",
    "\n",
    "for b in range(0,4):\n",
    "    for j in range(0,10):\n",
    "        binname = 'bin'+str(binnum)\n",
    "        Binname = str(b+1)+'_'+str(j+2)\n",
    "        binnum += 1\n",
    "        c.addBin(binname, ['QCD', 'Wjets', 'ttjets'], Binname) # signal is automatically added\n",
    "        \n",
    "        processes = {'signal': MT_vs_sdmass_1500_750, 'QCD': MT_vs_sdmass_QCD, 'Wjets': MT_vs_sdmass_W, 'ttjets': MT_vs_sdmass_tt}\n",
    "        for process in processes:\n",
    "            uname = 'Stat_'+binname+'_'+process\n",
    "            c.addUncertainty(uname, 'lnN')\n",
    "            c.specifyUncertainty(uname, binname, process, round(1+processes[process].errors[b][j]/processes[process].counts[b][j], 3))\n",
    "        \n",
    "        c.specifyExpectation(binname, 'signal',  round(MT_vs_sdmass_1500_750.counts[b][j], 3))\n",
    "        c.specifyExpectation(binname, 'QCD',    round(MT_vs_sdmass_QCD.counts[b][j], 3))\n",
    "        c.specifyExpectation(binname, 'Wjets',    round(MT_vs_sdmass_W.counts[b][j], 3))\n",
    "        c.specifyExpectation(binname, 'ttjets',    round(MT_vs_sdmass_tt.counts[b][j], 3))\n",
    "\n",
    "        c.specifyObservation(binname, round(MT_vs_sdmass_QCD.counts[b][j] + MT_vs_sdmass_W.counts[b][j] + MT_vs_sdmass_tt.counts[b][j], 3))\n",
    "        \n",
    "c.specifyFlatUncertainty('lumi', 1.01)\n",
    "c.writeToFile('./2HDMa_1500_750_1.txt')"
   ]
  },
  {
   "cell_type": "code",
   "execution_count": null,
   "id": "c387784f",
   "metadata": {},
   "outputs": [],
   "source": [
    "res = c.calcLimit('./2HDMa_1500_750_1.txt')"
   ]
  },
  {
   "cell_type": "code",
   "execution_count": null,
   "id": "add74ce6",
   "metadata": {},
   "outputs": [],
   "source": []
  }
 ],
 "metadata": {
  "kernelspec": {
   "display_name": "coffeadev",
   "language": "python",
   "name": "coffeadev"
  },
  "language_info": {
   "codemirror_mode": {
    "name": "ipython",
    "version": 3
   },
   "file_extension": ".py",
   "mimetype": "text/x-python",
   "name": "python",
   "nbconvert_exporter": "python",
   "pygments_lexer": "ipython3",
   "version": "3.9.7"
  }
 },
 "nbformat": 4,
 "nbformat_minor": 5
}
