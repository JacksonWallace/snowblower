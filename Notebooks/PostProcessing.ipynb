{
 "cells": [
  {
   "cell_type": "markdown",
   "id": "22c76d58",
   "metadata": {},
   "source": [
    "# Post Processing"
   ]
  },
  {
   "cell_type": "code",
   "execution_count": null,
   "id": "366c6eb3",
   "metadata": {},
   "outputs": [],
   "source": [
    "import gzip\n",
    "import pickle\n",
    "from yaml import Loader, Dumper\n",
    "import yaml"
   ]
  },
  {
   "cell_type": "code",
   "execution_count": null,
   "id": "a9695d40",
   "metadata": {},
   "outputs": [],
   "source": [
    "import numpy as np\n",
    "import awkward as ak\n",
    "import matplotlib.pyplot as plt\n",
    "import mplhep as hep\n",
    "plt.style.use(hep.style.CMS)\n",
    "from coffea import hist\n",
    "from plots.helpers import makePlot2\n",
    "from tools.helpers import cutflow_scale_and_merge, getCutFlowTable\n",
    "from yahist import Hist1D, Hist2D"
   ]
  },
  {
   "cell_type": "markdown",
   "id": "a5948a7d",
   "metadata": {},
   "source": [
    "## Import Histograms"
   ]
  },
  {
   "cell_type": "code",
   "execution_count": null,
   "id": "5e915069",
   "metadata": {},
   "outputs": [],
   "source": [
    "path = '../analysis/histos/limits.pkl.gz'\n",
    "with gzip.open(path) as fin:\n",
    "    scaled_output = pickle.load(fin)"
   ]
  },
  {
   "cell_type": "markdown",
   "id": "a343ddc2",
   "metadata": {},
   "source": [
    "## Setting Up Plots"
   ]
  },
  {
   "cell_type": "code",
   "execution_count": null,
   "id": "e5cca204",
   "metadata": {},
   "outputs": [],
   "source": [
    "N_bins = hist.Bin('multiplicity', r'$N$', 6, -0.5, 5.5)\n",
    "mass_bins = hist.Bin('mass', r'$M\\ (GeV)$', 40, 0, 400)\n",
    "ht_bins = hist.Bin('pt', r'$H_{T}\\ (GeV)$', 60, 0, 3000)\n",
    "pt_bins = hist.Bin('pt', r'$p_{T}\\ (GeV)$', 80, 200, 1000)\n",
    "eta_bins = hist.Bin(\"eta\", \"$\\eta$\", 33, -4, 4)\n",
    "phi_bins = hist.Bin(\"phi\", \"$\\phi$\", 33, -4, 4)\n",
    "deltaR_bins = hist.Bin(\"deltaR\", \"$\\DeltaR$\", 10, 0, 1)\n",
    "tau1_bins = hist.Bin(\"tau\", \"$\\tau_1$\", 10, 0, 0.7)\n",
    "tau2_bins = hist.Bin(\"tau\", \"$\\tau_2$\", 10, 0, 0.5)\n",
    "tau3_bins = hist.Bin(\"tau\", \"$\\tau_3$\", 10, 0, 0.4)\n",
    "tau4_bins = hist.Bin(\"tau\", \"$\\tau_4$\", 10, 0, 0.3)\n",
    "\n",
    "labels ={\n",
    "            ('QCD_bEnriched_HT',): r'$QCD\\ b-enriched\\ (binned\\ by\\ HT)$',\n",
    "            ('ZJetsToNuNu_HT',): r'$ZJets\\to\\nu\\nu\\ (binned\\ by\\ HT)$',\n",
    "            ('WJetsToLNu_Njet',): r'$WJets\\to L\\nu\\ (binned\\ by\\ N_{jets})$',\n",
    "            ('TT_TuneCUETP8M2T4_14TeV-powheg-pythia8_200PU',): r'$t\\bar{t}$',\n",
    "            ('2HDMa_sinp_0.35_tanb_1.0_mXd_10_MH3_1500_MH4_750_MH2_1500_MHC_1500',): '2HDMa_1500_750_10',\n",
    "            ('2HDMa_sinp_0.35_tanb_1.0_mXd_10_MH3_1750_MH4_750_MH2_1750_MHC_1750',): '2HDMa_1750_750_10',\n",
    "            ('2HDMa_sinp_0.35_tanb_1.0_mXd_10_MH3_2000_MH4_750_MH2_2000_MHC_2000',): '2HDMa_2000_750_10',\n",
    "        }\n",
    "\n",
    "colors ={\n",
    "            ('QCD_bEnriched_HT',): '#D23FFE',\n",
    "            ('ZJetsToNuNu_HT',): '#6BFE3F',\n",
    "            ('WJetsToLNu_Njet',): '#FED23F',\n",
    "            ('TT_TuneCUETP8M2T4_14TeV-powheg-pythia8_200PU',): '#FE3F6B',\n",
    "        }\n",
    "        \n",
    "signals = [\n",
    "            ('2HDMa_sinp_0.35_tanb_1.0_mXd_10_MH3_1500_MH4_750_MH2_1500_MHC_1500',),\n",
    "            ('2HDMa_sinp_0.35_tanb_1.0_mXd_10_MH3_1750_MH4_750_MH2_1750_MHC_1750',), \n",
    "            ('2HDMa_sinp_0.35_tanb_1.0_mXd_10_MH3_2000_MH4_750_MH2_2000_MHC_2000',),\n",
    "        ]\n",
    "\n",
    "plot_dir = '/home/users/$USER/public_html/HbbMET/plots/'"
   ]
  },
  {
   "cell_type": "code",
   "execution_count": null,
   "id": "187ea37c",
   "metadata": {},
   "outputs": [],
   "source": [
    "tmp1 = scaled_output['MT_vs_sdmass']\n",
    "        \n",
    "keys = tmp1.values().keys()\n",
    "\n",
    "histos1 = {}\n",
    "\n",
    "for sample in keys:\n",
    "    h1 = Hist1D.from_bincounts(\n",
    "        tmp1.sum('mt', overflow='over').values(overflow = 'over')[sample].T,\n",
    "        (tmp1.axis('mass').edges(overflow = 'over')),\n",
    "        #errors = np.sqrt(tmp1.sum('pt', 'dataset', overflow = 'all').values(sumw2=True, overflow = 'all')[()][1].T),\n",
    "        )\n",
    "    histos1[sample] = h1\n",
    "\n",
    "backgrounds = []\n",
    "for sample in keys:\n",
    "    if sample not in signals:\n",
    "        backgrounds += (sample,)\n",
    "           \n",
    "fig, (ax) = plt.subplots(figsize=(10,10))\n",
    "hep.cms.label(\n",
    "    'Preliminary',\n",
    "    loc=0,\n",
    "    ax=ax,\n",
    "    #lumi = 3000,\n",
    "    rlabel = '14 TeV',\n",
    "    )\n",
    "\n",
    "hep.histplot(\n",
    "    [histos1[sample].counts for sample in backgrounds],\n",
    "    histos1[list(keys)[0]].edges,\n",
    "    #w2=[(hists[x].errors)**2 for x in keys ],\n",
    "    histtype=\"step\",\n",
    "    density = True,\n",
    "    stack=False,\n",
    "    label=[labels[sample] for sample in backgrounds],\n",
    "    color=[colors[sample] for sample in backgrounds],\n",
    "    ax=ax\n",
    "    )\n",
    "\n",
    "hep.histplot(\n",
    "    [histos1[sample].counts for sample in signals],\n",
    "    histos1[list(keys)[0]].edges,\n",
    "    w2=[(histos1[sample].errors)**2 for sample in signals],\n",
    "    histtype=\"step\",\n",
    "    density = True,\n",
    "    stack=False,\n",
    "    label=[labels[sample] for sample in signals],\n",
    "    ax=ax\n",
    "        )\n",
    "\n",
    "ax.set_xlabel(r'$softdrop\\ mass\\ (GeV)$')\n",
    "ax.set_ylabel(r'Events')\n",
    "ax.set_yscale('log')\n",
    "ax.legend(prop={'size': 12})\n",
    "\n",
    "#fig.savefig('/home/users/ewallace/public_html/HbbMET/plots/AK8_sdmass_BL.png')"
   ]
  },
  {
   "cell_type": "code",
   "execution_count": null,
   "id": "535d8a54",
   "metadata": {},
   "outputs": [],
   "source": [
    "makePlot2(scaled_output, 'met_pt', 'pt', met_bins, r'$MET_{pt}\\ (GeV)$', labels, colors, signals, plot_dir)\n",
    "makePlot2(scaled_output, 'met_pt_BL', 'pt', met_bins, r'$MET_{pt}\\ (GeV)$', labels, colors, signals, plot_dir)\n",
    "makePlot2(scaled_output, 'dphi_AK4_MET', 'phi', phi_bins2, r'$\\Delta\\varphi$', labels, colors, signals, plot_dir)\n",
    "makePlot2(scaled_output, 'dphi_AK4_MET_BL', 'phi', phi_bins2, r'$\\Delta\\varphi$', labels, colors, signals, plot_dir)\n",
    "makePlot2(scaled_output, 'dphi_AK8_MET', 'phi', phi_bins2, r'$\\Delta\\varphi$', labels, colors, signals, plot_dir)\n",
    "makePlot2(scaled_output, 'dphi_AK8_MET_BL', 'phi', phi_bins2, r'$\\Delta\\varphi$', labels, colors, signals, plot_dir)\n",
    "makePlot2(scaled_output, 'AK4_QCD_veto', 'phi', phi_bins2, r'$\\Delta\\varphi$', labels, colors, signals, plot_dir)\n",
    "makePlot2(scaled_output, 'AK4_QCD_veto_BL', 'phi', phi_bins2, r'$\\Delta\\varphi$', labels, colors, signals, plot_dir)\n",
    "makePlot2(scaled_output, 'AK8_QCD_veto', 'phi', phi_bins2, r'$\\Delta\\varphi$', labels, colors, signals, plot_dir)\n",
    "makePlot2(scaled_output, 'AK8_QCD_veto_BL', 'phi', phi_bins2, r'$\\Delta\\varphi$', labels, colors, signals, plot_dir)"
   ]
  },
  {
   "cell_type": "markdown",
   "id": "8940d043",
   "metadata": {},
   "source": [
    "## Cutflow"
   ]
  },
  {
   "cell_type": "code",
   "execution_count": null,
   "id": "04a0288a",
   "metadata": {},
   "outputs": [],
   "source": [
    "path = '../analysis/histos/output_flat.pkl.gz'\n",
    "with gzip.open(path) as fin:\n",
    "    output_flat = pickle.load(fin)"
   ]
  },
  {
   "cell_type": "code",
   "execution_count": null,
   "id": "3f28523f",
   "metadata": {},
   "outputs": [],
   "source": [
    "with open('../data/samples.yaml', 'r') as f:\n",
    "    samples = yaml.load(f, Loader = Loader)"
   ]
  },
  {
   "cell_type": "code",
   "execution_count": null,
   "id": "85044341",
   "metadata": {},
   "outputs": [],
   "source": [
    "fileset = {\n",
    "    'TT_TuneCUETP8M2T4_14TeV-powheg-pythia8_200PU': samples['TT_TuneCUETP8M2T4_14TeV-powheg-pythia8_200PU']['skim'],\n",
    "    'ZJetsToNuNu_HT-100To200_14TeV-madgraph_200PU': samples['ZJetsToNuNu_HT-100To200_14TeV-madgraph_200PU']['skim'],\n",
    "    'ZJetsToNuNu_HT-200To400_14TeV-madgraph_200PU': samples['ZJetsToNuNu_HT-200To400_14TeV-madgraph_200PU']['skim'],\n",
    "    'ZJetsToNuNu_HT-400To600_14TeV-madgraph_200PU': samples['ZJetsToNuNu_HT-400To600_14TeV-madgraph_200PU']['skim'],\n",
    "    'ZJetsToNuNu_HT-600To800_14TeV-madgraph_200PU': samples['ZJetsToNuNu_HT-600To800_14TeV-madgraph_200PU']['skim'],\n",
    "    'ZJetsToNuNu_HT-800To1200_14TeV-madgraph_200PU': samples['ZJetsToNuNu_HT-800To1200_14TeV-madgraph_200PU']['skim'],\n",
    "    'ZJetsToNuNu_HT-1200To2500_14TeV-madgraph_200PU': samples['ZJetsToNuNu_HT-1200To2500_14TeV-madgraph_200PU']['skim'],\n",
    "    #'W0JetsToLNu_TuneCUETP8M1_14TeV-madgraphMLM-pythia8_200PU': samples['W0JetsToLNu_TuneCUETP8M1_14TeV-madgraphMLM-pythia8_200PU']['skim'],\n",
    "    'W1JetsToLNu_TuneCUETP8M1_14TeV-madgraphMLM-pythia8_200PU': samples['W1JetsToLNu_TuneCUETP8M1_14TeV-madgraphMLM-pythia8_200PU']['skim'],\n",
    "    'W2JetsToLNu_TuneCUETP8M1_14TeV-madgraphMLM-pythia8_200PU': samples['W2JetsToLNu_TuneCUETP8M1_14TeV-madgraphMLM-pythia8_200PU']['skim'],\n",
    "    'W3JetsToLNu_TuneCUETP8M1_14TeV-madgraphMLM-pythia8_200PU': samples['W3JetsToLNu_TuneCUETP8M1_14TeV-madgraphMLM-pythia8_200PU']['skim'],\n",
    "    'QCD_bEnriched_HT1000to1500_TuneCUETP8M1_14TeV-madgraphMLM-pythia8_200PU': samples['QCD_bEnriched_HT1000to1500_TuneCUETP8M1_14TeV-madgraphMLM-pythia8_200PU']['skim'],\n",
    "    'QCD_bEnriched_HT1500to2000_TuneCUETP8M1_14TeV-madgraphMLM-pythia8_200PU': samples['QCD_bEnriched_HT1500to2000_TuneCUETP8M1_14TeV-madgraphMLM-pythia8_200PU']['skim'],\n",
    "    'QCD_bEnriched_HT2000toInf_TuneCUETP8M1_14TeV-madgraphMLM-pythia8_200PU': samples['QCD_bEnriched_HT2000toInf_TuneCUETP8M1_14TeV-madgraphMLM-pythia8_200PU']['skim'],\n",
    "    'QCD_bEnriched_HT200to300_TuneCUETP8M1_14TeV-madgraphMLM-pythia8_200PU': samples['QCD_bEnriched_HT200to300_TuneCUETP8M1_14TeV-madgraphMLM-pythia8_200PU']['skim'],\n",
    "    'QCD_bEnriched_HT300to500_TuneCUETP8M1_14TeV-madgraphMLM-pythia8_200PU': samples['QCD_bEnriched_HT300to500_TuneCUETP8M1_14TeV-madgraphMLM-pythia8_200PU']['skim'],\n",
    "    'QCD_bEnriched_HT500to700_TuneCUETP8M1_14TeV-madgraphMLM-pythia8_200PU': samples['QCD_bEnriched_HT500to700_TuneCUETP8M1_14TeV-madgraphMLM-pythia8_200PU']['skim'],\n",
    "    'QCD_bEnriched_HT700to1000_TuneCUETP8M1_14TeV-madgraphMLM-pythia8_200PU': samples['QCD_bEnriched_HT700to1000_TuneCUETP8M1_14TeV-madgraphMLM-pythia8_200PU']['skim'],\n",
    "    '2HDMa_bb_sinp_0.35_tanb_1.0_mXd_10_MH3_1500_MH4_750_MH2_1500_MHC_1500': samples['2HDMa_bb_sinp_0.35_tanb_1.0_mXd_10_MH3_1500_MH4_750_MH2_1500_MHC_1500']['ntuples'],\n",
    "    '2HDMa_bb_sinp_0.35_tanb_1.0_mXd_10_MH3_1750_MH4_750_MH2_1750_MHC_1750': samples['2HDMa_bb_sinp_0.35_tanb_1.0_mXd_10_MH3_1750_MH4_750_MH2_1750_MHC_1750']['ntuples'],\n",
    "    '2HDMa_bb_sinp_0.35_tanb_1.0_mXd_10_MH3_2000_MH4_750_MH2_2000_MHC_2000': samples['2HDMa_bb_sinp_0.35_tanb_1.0_mXd_10_MH3_2000_MH4_750_MH2_2000_MHC_2000']['ntuples'],\n",
    "    '2HDMa_gg_sinp_0.35_tanb_1.0_mXd_10_MH3_1500_MH4_750_MH2_1500_MHC_1500': samples['2HDMa_gg_sinp_0.35_tanb_1.0_mXd_10_MH3_1500_MH4_750_MH2_1500_MHC_1500']['ntuples'],\n",
    "    '2HDMa_gg_sinp_0.35_tanb_1.0_mXd_10_MH3_1750_MH4_750_MH2_1750_MHC_1750': samples['2HDMa_gg_sinp_0.35_tanb_1.0_mXd_10_MH3_1750_MH4_750_MH2_1750_MHC_1750']['ntuples'],\n",
    "    '2HDMa_gg_sinp_0.35_tanb_1.0_mXd_10_MH3_2000_MH4_750_MH2_2000_MHC_2000': samples['2HDMa_gg_sinp_0.35_tanb_1.0_mXd_10_MH3_2000_MH4_750_MH2_2000_MHC_2000']['ntuples'],\n",
    "}"
   ]
  },
  {
   "cell_type": "code",
   "execution_count": null,
   "id": "929181b0",
   "metadata": {},
   "outputs": [],
   "source": [
    "meta = {}\n",
    "\n",
    "for sample in fileset:\n",
    "    meta[sample] = output_flat[sample]\n",
    "    meta[sample]['xsec'] = samples[sample]['xsec']\n",
    "    meta[sample]['nevents'] = samples[sample]['nevents']"
   ]
  },
  {
   "cell_type": "code",
   "execution_count": null,
   "id": "8a9b4f54",
   "metadata": {},
   "outputs": [],
   "source": [
    "output_flat['cutflow']"
   ]
  },
  {
   "cell_type": "code",
   "execution_count": null,
   "id": "7de30853",
   "metadata": {},
   "outputs": [],
   "source": [
    "cutflow = cutflow_scale_and_merge(output_flat['cutflow'], meta, fileset, 3000)"
   ]
  },
  {
   "cell_type": "code",
   "execution_count": null,
   "id": "b638c75b",
   "metadata": {},
   "outputs": [],
   "source": [
    "cutflow"
   ]
  },
  {
   "cell_type": "code",
   "execution_count": null,
   "id": "b51786c3",
   "metadata": {},
   "outputs": [],
   "source": [
    "proceses = ['ZJetsToNuNu_HT', 'WJetsToLNu_Njet', 'QCD_bEnriched_HT', 'TT_TuneCUETP8M2T4_14TeV-powheg-pythia8_200PU', '2HDMa_1500_750', '2HDMa_1750_750', '2HDMa_2000_750']\n",
    "cuts = ['total', 'lepton_veto', 'MET>300', 'N_AK8>0', 'N_AK4>1', 'min_AK8_pt', 'dphi_AK8_MET>1', '1<dphi_AK4_MET<3', 'AK4_QCD_veto', 'AK8_QCD_veto', 'on_H', 'MT>600',  'N_H>0',]"
   ]
  },
  {
   "cell_type": "code",
   "execution_count": null,
   "id": "62c316ae",
   "metadata": {},
   "outputs": [],
   "source": [
    "getCutFlowTable(cutflow, proceses, cuts, significantFigures=4, absolute=True, signal = ['2HDMa_1500_750', '2HDMa_1750_750', '2HDMa_2000_750'])"
   ]
  },
  {
   "cell_type": "markdown",
   "id": "ebb04b3d",
   "metadata": {},
   "source": [
    "# Data Cards"
   ]
  },
  {
   "cell_type": "code",
   "execution_count": null,
   "id": "d093008f",
   "metadata": {},
   "outputs": [],
   "source": [
    "MT_vs_sdmass_1500_750_central = Hist2D.from_bincounts(\n",
    "    scaled_output['MT_vs_sdmass_central'].values(overflow='over')[('2HDMa_sinp_0.35_tanb_1.0_mXd_10_MH3_1500_MH4_750_MH2_1500_MHC_1500',)].T,\n",
    "    (scaled_output['MT_vs_sdmass_central'].axis('mt').edges(overflow='over'), scaled_output['MT_vs_sdmass_central'].axis('mass').edges(overflow='over')),\n",
    "    errors = np.sqrt(scaled_output['MT_vs_sdmass_central'].values(sumw2=True, overflow='over')[('2HDMa_sinp_0.35_tanb_1.0_mXd_10_MH3_1500_MH4_750_MH2_1500_MHC_1500',)][1].T),\n",
    ")"
   ]
  },
  {
   "cell_type": "code",
   "execution_count": null,
   "id": "1ec7015b",
   "metadata": {},
   "outputs": [],
   "source": [
    "for b in range(0,4):\n",
    "    for j in range(0,10):\n",
    "        if MT_vs_sdmass_1500_750_central.counts[b][j] == 0:\n",
    "            MT_vs_sdmass_1500_750_central.counts[b][j] = 0.01\n",
    "            MT_vs_sdmass_1500_750_central.errors[b][j] = 0.01"
   ]
  },
  {
   "cell_type": "code",
   "execution_count": null,
   "id": "47d2a81a",
   "metadata": {},
   "outputs": [],
   "source": [
    "MT_vs_sdmass_1750_750_central = Hist2D.from_bincounts(\n",
    "    scaled_output['MT_vs_sdmass_central'].values(overflow='over')[('2HDMa_sinp_0.35_tanb_1.0_mXd_10_MH3_1750_MH4_750_MH2_1750_MHC_1750',)].T,\n",
    "    (scaled_output['MT_vs_sdmass_central'].axis('mt').edges(overflow='over'), scaled_output['MT_vs_sdmass_central'].axis('mass').edges(overflow='over')),\n",
    "    errors = np.sqrt(scaled_output['MT_vs_sdmass_central'].values(sumw2=True, overflow='over')[('2HDMa_sinp_0.35_tanb_1.0_mXd_10_MH3_1750_MH4_750_MH2_1750_MHC_1750',)][1].T),\n",
    ")"
   ]
  },
  {
   "cell_type": "code",
   "execution_count": null,
   "id": "98da6046",
   "metadata": {},
   "outputs": [],
   "source": [
    "for b in range(0,4):\n",
    "    for j in range(0,10):\n",
    "        if MT_vs_sdmass_1750_750_central.counts[b][j] == 0:\n",
    "            MT_vs_sdmass_1750_750_central.counts[b][j] = 0.01\n",
    "            MT_vs_sdmass_1750_750_central.errors[b][j] = 0.01"
   ]
  },
  {
   "cell_type": "code",
   "execution_count": null,
   "id": "bab84992",
   "metadata": {},
   "outputs": [],
   "source": [
    "MT_vs_sdmass_2000_750_central = Hist2D.from_bincounts(\n",
    "    scaled_output['MT_vs_sdmass_central'].values(overflow='over')[('2HDMa_sinp_0.35_tanb_1.0_mXd_10_MH3_2000_MH4_750_MH2_2000_MHC_2000',)].T,\n",
    "    (scaled_output['MT_vs_sdmass_central'].axis('mt').edges(overflow='over'), scaled_output['MT_vs_sdmass_central'].axis('mass').edges(overflow='over')),\n",
    "    errors = np.sqrt(scaled_output['MT_vs_sdmass_central'].values(sumw2=True, overflow='over')[('2HDMa_sinp_0.35_tanb_1.0_mXd_10_MH3_2000_MH4_750_MH2_2000_MHC_2000',)][1].T),\n",
    ")"
   ]
  },
  {
   "cell_type": "code",
   "execution_count": null,
   "id": "3373250f",
   "metadata": {},
   "outputs": [],
   "source": [
    "for b in range(0,4):\n",
    "    for j in range(0,10):\n",
    "        if MT_vs_sdmass_2000_750_central.counts[b][j] == 0:\n",
    "            MT_vs_sdmass_2000_750_central.counts[b][j] = 0.01\n",
    "            MT_vs_sdmass_2000_750_central.errors[b][j] = 0.01"
   ]
  },
  {
   "cell_type": "code",
   "execution_count": null,
   "id": "15b8ed7f",
   "metadata": {},
   "outputs": [],
   "source": [
    "MT_vs_sdmass_tt_central = Hist2D.from_bincounts(\n",
    "     scaled_output['MT_vs_sdmass_central'].values(overflow='over')[('TT',)].T,\n",
    "    (scaled_output['MT_vs_sdmass_central'].axis('mt').edges(overflow='over'), scaled_output['MT_vs_sdmass_central'].axis('mass').edges(overflow='over')),\n",
    "    errors = np.sqrt(scaled_output['MT_vs_sdmass_central'].values(sumw2=True, overflow='over')[('TT',)][1].T),\n",
    ")"
   ]
  },
  {
   "cell_type": "code",
   "execution_count": null,
   "id": "1424b315",
   "metadata": {},
   "outputs": [],
   "source": [
    "for b in range(0,4):\n",
    "    for j in range(0,10):\n",
    "        if MT_vs_sdmass_tt_central.counts[b][j] == 0:\n",
    "            MT_vs_sdmass_tt_central.counts[b][j] = 0.01\n",
    "            MT_vs_sdmass_tt_central.errors[b][j] = 0.01"
   ]
  },
  {
   "cell_type": "code",
   "execution_count": null,
   "id": "e33de33b",
   "metadata": {},
   "outputs": [],
   "source": [
    "MT_vs_sdmass_W_central = Hist2D.from_bincounts(\n",
    "     scaled_output['MT_vs_sdmass_central'].values(overflow='over')[('WJetsToLNu_Njet',)].T,\n",
    "    (scaled_output['MT_vs_sdmass_central'].axis('mt').edges(overflow='over'), scaled_output['MT_vs_sdmass_central'].axis('mass').edges(overflow='over')),\n",
    "    errors = np.sqrt(scaled_output['MT_vs_sdmass_central'].values(sumw2=True, overflow='over')[('WJetsToLNu_Njet',)][1].T),\n",
    ")"
   ]
  },
  {
   "cell_type": "code",
   "execution_count": null,
   "id": "fe093eab",
   "metadata": {},
   "outputs": [],
   "source": [
    "for b in range(0,4):\n",
    "    for j in range(0,10):\n",
    "        if MT_vs_sdmass_W_central.counts[b][j] == 0:\n",
    "            MT_vs_sdmass_W_central.counts[b][j] = 0.01\n",
    "            MT_vs_sdmass_W_central.errors[b][j] = 0.01"
   ]
  },
  {
   "cell_type": "code",
   "execution_count": null,
   "id": "7bcd6d3c",
   "metadata": {},
   "outputs": [],
   "source": [
    "MT_vs_sdmass_QCD_central = Hist2D.from_bincounts(\n",
    "     scaled_output['MT_vs_sdmass_central'].values(overflow='over')[('QCD_bEnriched_HT',)].T,\n",
    "    (scaled_output['MT_vs_sdmass_central'].axis('mt').edges(overflow='over'), scaled_output['MT_vs_sdmass_central'].axis('mass').edges(overflow='over')),\n",
    "    errors = np.sqrt(scaled_output['MT_vs_sdmass_central'].values(sumw2=True, overflow='over')[('QCD_bEnriched_HT',)][1].T),\n",
    ")"
   ]
  },
  {
   "cell_type": "code",
   "execution_count": null,
   "id": "c118a250",
   "metadata": {},
   "outputs": [],
   "source": [
    "for b in range(0,4):\n",
    "    for j in range(0,10):\n",
    "        if MT_vs_sdmass_QCD_central.counts[b][j] == 0:\n",
    "            MT_vs_sdmass_QCD_central.counts[b][j] = 0.01\n",
    "            MT_vs_sdmass_QCD_central.errors[b][j] = 0.01"
   ]
  },
  {
   "cell_type": "markdown",
   "id": "9a1d6177",
   "metadata": {},
   "source": [
    "$~$"
   ]
  },
  {
   "cell_type": "code",
   "execution_count": null,
   "id": "70d51410",
   "metadata": {},
   "outputs": [],
   "source": [
    "MT_vs_sdmass_1500_750_up = Hist2D.from_bincounts(\n",
    "    scaled_output['MT_vs_sdmass_up'].values(overflow='over')[('2HDMa_sinp_0.35_tanb_1.0_mXd_10_MH3_1500_MH4_750_MH2_1500_MHC_1500',)].T,\n",
    "    (scaled_output['MT_vs_sdmass_up'].axis('mt').edges(overflow='over'), scaled_output['MT_vs_sdmass_up'].axis('mass').edges(overflow='over')),\n",
    "    errors = np.sqrt(scaled_output['MT_vs_sdmass_up'].values(sumw2=True, overflow='over')[('2HDMa_sinp_0.35_tanb_1.0_mXd_10_MH3_1500_MH4_750_MH2_1500_MHC_1500',)][1].T),\n",
    ")"
   ]
  },
  {
   "cell_type": "code",
   "execution_count": null,
   "id": "f4146ebe",
   "metadata": {},
   "outputs": [],
   "source": [
    "for b in range(0,4):\n",
    "    for j in range(0,10):\n",
    "        if MT_vs_sdmass_1500_750_up.counts[b][j] == 0:\n",
    "            MT_vs_sdmass_1500_750_up.counts[b][j] = 0.01\n",
    "            MT_vs_sdmass_1500_750_up.errors[b][j] = 0.01"
   ]
  },
  {
   "cell_type": "code",
   "execution_count": null,
   "id": "9aa85405",
   "metadata": {},
   "outputs": [],
   "source": [
    "MT_vs_sdmass_1750_750_up = Hist2D.from_bincounts(\n",
    "    scaled_output['MT_vs_sdmass_up'].values(overflow='over')[('2HDMa_sinp_0.35_tanb_1.0_mXd_10_MH3_1750_MH4_750_MH2_1750_MHC_1750',)].T,\n",
    "    (scaled_output['MT_vs_sdmass_up'].axis('mt').edges(overflow='over'), scaled_output['MT_vs_sdmass_up'].axis('mass').edges(overflow='over')),\n",
    "    errors = np.sqrt(scaled_output['MT_vs_sdmass_up'].values(sumw2=True, overflow='over')[('2HDMa_sinp_0.35_tanb_1.0_mXd_10_MH3_1750_MH4_750_MH2_1750_MHC_1750',)][1].T),\n",
    ")"
   ]
  },
  {
   "cell_type": "code",
   "execution_count": null,
   "id": "19d9fd11",
   "metadata": {},
   "outputs": [],
   "source": [
    "for b in range(0,4):\n",
    "    for j in range(0,10):\n",
    "        if MT_vs_sdmass_1750_750_up.counts[b][j] == 0:\n",
    "            MT_vs_sdmass_1750_750_up.counts[b][j] = 0.01\n",
    "            MT_vs_sdmass_1750_750_up.errors[b][j] = 0.01"
   ]
  },
  {
   "cell_type": "code",
   "execution_count": null,
   "id": "4476530a",
   "metadata": {},
   "outputs": [],
   "source": [
    "MT_vs_sdmass_2000_750_up = Hist2D.from_bincounts(\n",
    "    scaled_output['MT_vs_sdmass_up'].values(overflow='over')[('2HDMa_sinp_0.35_tanb_1.0_mXd_10_MH3_2000_MH4_750_MH2_2000_MHC_2000',)].T,\n",
    "    (scaled_output['MT_vs_sdmass_up'].axis('mt').edges(overflow='over'), scaled_output['MT_vs_sdmass_up'].axis('mass').edges(overflow='over')),\n",
    "    errors = np.sqrt(scaled_output['MT_vs_sdmass_up'].values(sumw2=True, overflow='over')[('2HDMa_sinp_0.35_tanb_1.0_mXd_10_MH3_2000_MH4_750_MH2_2000_MHC_2000',)][1].T),\n",
    ")"
   ]
  },
  {
   "cell_type": "code",
   "execution_count": null,
   "id": "6080bba7",
   "metadata": {},
   "outputs": [],
   "source": [
    "for b in range(0,4):\n",
    "    for j in range(0,10):\n",
    "        if MT_vs_sdmass_2000_750_up.counts[b][j] == 0:\n",
    "            MT_vs_sdmass_2000_750_up.counts[b][j] = 0.01\n",
    "            MT_vs_sdmass_2000_750_up.errors[b][j] = 0.01"
   ]
  },
  {
   "cell_type": "code",
   "execution_count": null,
   "id": "59a8e06c",
   "metadata": {},
   "outputs": [],
   "source": [
    "MT_vs_sdmass_tt_up = Hist2D.from_bincounts(\n",
    "     scaled_output['MT_vs_sdmass_up'].values(overflow='over')[('TT',)].T,\n",
    "    (scaled_output['MT_vs_sdmass_up'].axis('mt').edges(overflow='over'), scaled_output['MT_vs_sdmass_up'].axis('mass').edges(overflow='over')),\n",
    "    errors = np.sqrt(scaled_output['MT_vs_sdmass_up'].values(sumw2=True, overflow='over')[('TT',)][1].T),\n",
    ")"
   ]
  },
  {
   "cell_type": "code",
   "execution_count": null,
   "id": "2a9d6c3b",
   "metadata": {},
   "outputs": [],
   "source": [
    "for b in range(0,4):\n",
    "    for j in range(0,10):\n",
    "        if MT_vs_sdmass_tt_up.counts[b][j] == 0:\n",
    "            MT_vs_sdmass_tt_up.counts[b][j] = 0.01\n",
    "            MT_vs_sdmass_tt_up.errors[b][j] = 0.01"
   ]
  },
  {
   "cell_type": "code",
   "execution_count": null,
   "id": "4f231227",
   "metadata": {},
   "outputs": [],
   "source": [
    "MT_vs_sdmass_W_up = Hist2D.from_bincounts(\n",
    "     scaled_output['MT_vs_sdmass_up'].values(overflow='over')[('WJetsToLNu_Njet',)].T,\n",
    "    (scaled_output['MT_vs_sdmass_up'].axis('mt').edges(overflow='over'), scaled_output['MT_vs_sdmass_up'].axis('mass').edges(overflow='over')),\n",
    "    errors = np.sqrt(scaled_output['MT_vs_sdmass_up'].values(sumw2=True, overflow='over')[('WJetsToLNu_Njet',)][1].T),\n",
    ")"
   ]
  },
  {
   "cell_type": "code",
   "execution_count": null,
   "id": "10f6ba72",
   "metadata": {},
   "outputs": [],
   "source": [
    "for b in range(0,4):\n",
    "    for j in range(0,10):\n",
    "        if MT_vs_sdmass_W_up.counts[b][j] == 0:\n",
    "            MT_vs_sdmass_W_up.counts[b][j] = 0.01\n",
    "            MT_vs_sdmass_W_up.errors[b][j] = 0.01"
   ]
  },
  {
   "cell_type": "code",
   "execution_count": null,
   "id": "737c9a13",
   "metadata": {},
   "outputs": [],
   "source": [
    "MT_vs_sdmass_QCD_up = Hist2D.from_bincounts(\n",
    "     scaled_output['MT_vs_sdmass_up'].values(overflow='over')[('QCD_bEnriched_HT',)].T,\n",
    "    (scaled_output['MT_vs_sdmass_up'].axis('mt').edges(overflow='over'), scaled_output['MT_vs_sdmass_up'].axis('mass').edges(overflow='over')),\n",
    "    errors = np.sqrt(scaled_output['MT_vs_sdmass_up'].values(sumw2=True, overflow='over')[('QCD_bEnriched_HT',)][1].T),\n",
    ")"
   ]
  },
  {
   "cell_type": "code",
   "execution_count": null,
   "id": "9b7e9e61",
   "metadata": {},
   "outputs": [],
   "source": [
    "for b in range(0,4):\n",
    "    for j in range(0,10):\n",
    "        if MT_vs_sdmass_QCD_up.counts[b][j] == 0:\n",
    "            MT_vs_sdmass_QCD_up.counts[b][j] = 0.01\n",
    "            MT_vs_sdmass_QCD_up.errors[b][j] = 0.01"
   ]
  },
  {
   "cell_type": "markdown",
   "id": "ecac0cbb",
   "metadata": {},
   "source": [
    "$~$"
   ]
  },
  {
   "cell_type": "code",
   "execution_count": null,
   "id": "fbeafc79",
   "metadata": {},
   "outputs": [],
   "source": [
    "MT_vs_sdmass_1500_750_down = Hist2D.from_bincounts(\n",
    "    scaled_output['MT_vs_sdmass_down'].values(overflow='over')[('2HDMa_sinp_0.35_tanb_1.0_mXd_10_MH3_1500_MH4_750_MH2_1500_MHC_1500',)].T,\n",
    "    (scaled_output['MT_vs_sdmass_down'].axis('mt').edges(overflow='over'), scaled_output['MT_vs_sdmass_down'].axis('mass').edges(overflow='over')),\n",
    "    errors = np.sqrt(scaled_output['MT_vs_sdmass_down'].values(sumw2=True, overflow='over')[('2HDMa_sinp_0.35_tanb_1.0_mXd_10_MH3_1500_MH4_750_MH2_1500_MHC_1500',)][1].T),\n",
    ")"
   ]
  },
  {
   "cell_type": "code",
   "execution_count": null,
   "id": "4d57c12d",
   "metadata": {},
   "outputs": [],
   "source": [
    "for b in range(0,4):\n",
    "    for j in range(0,10):\n",
    "        if MT_vs_sdmass_1500_750_down.counts[b][j] == 0:\n",
    "            MT_vs_sdmass_1500_750_down.counts[b][j] = 0.01\n",
    "            MT_vs_sdmass_1500_750_down.errors[b][j] = 0.01"
   ]
  },
  {
   "cell_type": "code",
   "execution_count": null,
   "id": "e04e882f",
   "metadata": {},
   "outputs": [],
   "source": [
    "MT_vs_sdmass_1750_750_down = Hist2D.from_bincounts(\n",
    "    scaled_output['MT_vs_sdmass_down'].values(overflow='over')[('2HDMa_sinp_0.35_tanb_1.0_mXd_10_MH3_1750_MH4_750_MH2_1750_MHC_1750',)].T,\n",
    "    (scaled_output['MT_vs_sdmass_down'].axis('mt').edges(overflow='over'), scaled_output['MT_vs_sdmass_down'].axis('mass').edges(overflow='over')),\n",
    "    errors = np.sqrt(scaled_output['MT_vs_sdmass_down'].values(sumw2=True, overflow='over')[('2HDMa_sinp_0.35_tanb_1.0_mXd_10_MH3_1750_MH4_750_MH2_1750_MHC_1750',)][1].T),\n",
    ")"
   ]
  },
  {
   "cell_type": "code",
   "execution_count": null,
   "id": "cf2e96c2",
   "metadata": {},
   "outputs": [],
   "source": [
    "for b in range(0,4):\n",
    "    for j in range(0,10):\n",
    "        if MT_vs_sdmass_1750_750_down.counts[b][j] == 0:\n",
    "            MT_vs_sdmass_1750_750_down.counts[b][j] = 0.01\n",
    "            MT_vs_sdmass_1750_750_down.errors[b][j] = 0.01"
   ]
  },
  {
   "cell_type": "code",
   "execution_count": null,
   "id": "f5fce205",
   "metadata": {},
   "outputs": [],
   "source": [
    "MT_vs_sdmass_2000_750_down = Hist2D.from_bincounts(\n",
    "    scaled_output['MT_vs_sdmass_down'].values(overflow='over')[('2HDMa_sinp_0.35_tanb_1.0_mXd_10_MH3_2000_MH4_750_MH2_2000_MHC_2000',)].T,\n",
    "    (scaled_output['MT_vs_sdmass_down'].axis('mt').edges(overflow='over'), scaled_output['MT_vs_sdmass_down'].axis('mass').edges(overflow='over')),\n",
    "    errors = np.sqrt(scaled_output['MT_vs_sdmass_down'].values(sumw2=True, overflow='over')[('2HDMa_sinp_0.35_tanb_1.0_mXd_10_MH3_2000_MH4_750_MH2_2000_MHC_2000',)][1].T),\n",
    ")"
   ]
  },
  {
   "cell_type": "code",
   "execution_count": null,
   "id": "06ba324b",
   "metadata": {},
   "outputs": [],
   "source": [
    "for b in range(0,4):\n",
    "    for j in range(0,10):\n",
    "        if MT_vs_sdmass_2000_750_down.counts[b][j] == 0:\n",
    "            MT_vs_sdmass_2000_750_down.counts[b][j] = 0.01\n",
    "            MT_vs_sdmass_2000_750_down.errors[b][j] = 0.01"
   ]
  },
  {
   "cell_type": "code",
   "execution_count": null,
   "id": "aa4671ee",
   "metadata": {},
   "outputs": [],
   "source": [
    "MT_vs_sdmass_tt_down = Hist2D.from_bincounts(\n",
    "     scaled_output['MT_vs_sdmass_down'].values(overflow='over')[('TT',)].T,\n",
    "    (scaled_output['MT_vs_sdmass_down'].axis('mt').edges(overflow='over'), scaled_output['MT_vs_sdmass_down'].axis('mass').edges(overflow='over')),\n",
    "    errors = np.sqrt(scaled_output['MT_vs_sdmass_down'].values(sumw2=True, overflow='over')[('TT',)][1].T),\n",
    ")"
   ]
  },
  {
   "cell_type": "code",
   "execution_count": null,
   "id": "5502369d",
   "metadata": {},
   "outputs": [],
   "source": [
    "for b in range(0,4):\n",
    "    for j in range(0,10):\n",
    "        if MT_vs_sdmass_tt_down.counts[b][j] == 0:\n",
    "            MT_vs_sdmass_tt_down.counts[b][j] = 0.01\n",
    "            MT_vs_sdmass_tt_down.errors[b][j] = 0.01"
   ]
  },
  {
   "cell_type": "code",
   "execution_count": null,
   "id": "7baef86d",
   "metadata": {},
   "outputs": [],
   "source": [
    "MT_vs_sdmass_W_down = Hist2D.from_bincounts(\n",
    "     scaled_output['MT_vs_sdmass_down'].values(overflow='over')[('WJetsToLNu_Njet',)].T,\n",
    "    (scaled_output['MT_vs_sdmass_down'].axis('mt').edges(overflow='over'), scaled_output['MT_vs_sdmass_down'].axis('mass').edges(overflow='over')),\n",
    "    errors = np.sqrt(scaled_output['MT_vs_sdmass_down'].values(sumw2=True, overflow='over')[('WJetsToLNu_Njet',)][1].T),\n",
    ")"
   ]
  },
  {
   "cell_type": "code",
   "execution_count": null,
   "id": "980acd9f",
   "metadata": {},
   "outputs": [],
   "source": [
    "for b in range(0,4):\n",
    "    for j in range(0,10):\n",
    "        if MT_vs_sdmass_W_down.counts[b][j] == 0:\n",
    "            MT_vs_sdmass_W_down.counts[b][j] = 0.01\n",
    "            MT_vs_sdmass_W_down.errors[b][j] = 0.01"
   ]
  },
  {
   "cell_type": "code",
   "execution_count": null,
   "id": "3f90208a",
   "metadata": {},
   "outputs": [],
   "source": [
    "MT_vs_sdmass_QCD_down = Hist2D.from_bincounts(\n",
    "     scaled_output['MT_vs_sdmass_down'].values(overflow='over')[('QCD_bEnriched_HT',)].T,\n",
    "    (scaled_output['MT_vs_sdmass_down'].axis('mt').edges(overflow='over'), scaled_output['MT_vs_sdmass_down'].axis('mass').edges(overflow='over')),\n",
    "    errors = np.sqrt(scaled_output['MT_vs_sdmass_down'].values(sumw2=True, overflow='over')[('QCD_bEnriched_HT',)][1].T),\n",
    ")"
   ]
  },
  {
   "cell_type": "code",
   "execution_count": null,
   "id": "2fda041c",
   "metadata": {},
   "outputs": [],
   "source": [
    "for b in range(0,4):\n",
    "    for j in range(0,10):\n",
    "        if MT_vs_sdmass_QCD_down.counts[b][j] == 0:\n",
    "            MT_vs_sdmass_QCD_down.counts[b][j] = 0.01\n",
    "            MT_vs_sdmass_QCD_down.errors[b][j] = 0.01"
   ]
  },
  {
   "cell_type": "markdown",
   "id": "958d7e85",
   "metadata": {},
   "source": [
    "$~$"
   ]
  },
  {
   "cell_type": "code",
   "execution_count": null,
   "id": "077ae1b0",
   "metadata": {},
   "outputs": [],
   "source": [
    "differences_up_1500_750 = MT_vs_sdmass_1500_750_up/MT_vs_sdmass_1500_750_central\n",
    "differences_down_1500_750 = MT_vs_sdmass_1500_750_down/MT_vs_sdmass_1500_750_central\n",
    "differences_avg_1500_750 = (differences_up_1500_750+differences_down_1500_750)/2"
   ]
  },
  {
   "cell_type": "code",
   "execution_count": null,
   "id": "f7a841c0",
   "metadata": {},
   "outputs": [],
   "source": [
    "differences_up_1750_750 = MT_vs_sdmass_1750_750_up/MT_vs_sdmass_1750_750_central\n",
    "differences_down_1750_750 = MT_vs_sdmass_1750_750_down/MT_vs_sdmass_1750_750_central\n",
    "differences_avg_1750_750 = (differences_up_1750_750+differences_down_1750_750)/2"
   ]
  },
  {
   "cell_type": "code",
   "execution_count": null,
   "id": "274f68f3",
   "metadata": {},
   "outputs": [],
   "source": [
    "differences_up_2000_750 = MT_vs_sdmass_2000_750_up/MT_vs_sdmass_2000_750_central\n",
    "differences_down_2000_750 = MT_vs_sdmass_2000_750_down/MT_vs_sdmass_2000_750_central\n",
    "differences_avg_2000_750 = (differences_up_2000_750+differences_down_2000_750)/2"
   ]
  },
  {
   "cell_type": "code",
   "execution_count": null,
   "id": "deb83616",
   "metadata": {},
   "outputs": [],
   "source": [
    "differences_up_tt = MT_vs_sdmass_tt_up/MT_vs_sdmass_tt_central\n",
    "differences_down_tt = MT_vs_sdmass_tt_down/MT_vs_sdmass_tt_central\n",
    "differences_avg_tt = (differences_up_tt+differences_down_tt)/2"
   ]
  },
  {
   "cell_type": "code",
   "execution_count": null,
   "id": "b028d783",
   "metadata": {},
   "outputs": [],
   "source": [
    "differences_up_W = MT_vs_sdmass_W_up/MT_vs_sdmass_W_central\n",
    "differences_down_W = MT_vs_sdmass_W_down/MT_vs_sdmass_W_central\n",
    "differences_avg_W = (differences_up_W+differences_down_W)/2"
   ]
  },
  {
   "cell_type": "code",
   "execution_count": null,
   "id": "57e948f6",
   "metadata": {},
   "outputs": [],
   "source": [
    "differences_up_QCD = MT_vs_sdmass_QCD_up/MT_vs_sdmass_QCD_central\n",
    "differences_down_QCD = MT_vs_sdmass_QCD_down/MT_vs_sdmass_QCD_central\n",
    "differences_avg_QCD = (differences_up_QCD+differences_down_QCD)/2"
   ]
  },
  {
   "cell_type": "code",
   "execution_count": null,
   "id": "e56236b2",
   "metadata": {
    "scrolled": false
   },
   "outputs": [],
   "source": [
    "from tools.dataCard import dataCard\n",
    "\n",
    "c = dataCard()\n",
    "c.setPrecision(3)\n",
    "\n",
    "c.addUncertainty('lumi',        'lnN')\n",
    "c.addUncertainty('JES',        'lnN')\n",
    "\n",
    "binnum = 0\n",
    "\n",
    "for b in range(0,4):\n",
    "    for j in range(0,10):\n",
    "        binname = 'bin'+str(binnum)\n",
    "        Binname = str(b+1)+'_'+str(j+1)\n",
    "        binnum += 1\n",
    "        c.addBin(binname, ['Wjets', 'QCD','ttjets'], Binname) # signal is automatically added\n",
    "        \n",
    "        processes = {'signal': MT_vs_sdmass_1500_750_central, 'QCD': MT_vs_sdmass_QCD_central, 'Wjets': MT_vs_sdmass_W_central, 'ttjets': MT_vs_sdmass_tt_central}\n",
    "        for process in processes:\n",
    "            uname = 'Stat_'+binname+'_'+process\n",
    "            c.addUncertainty(uname, 'lnN')\n",
    "            c.specifyUncertainty(uname, binname, process, round(1+processes[process].errors[b][j]/processes[process].counts[b][j], 3))\n",
    "        \n",
    "        c.specifyExpectation(binname, 'signal',  round(MT_vs_sdmass_1500_750_central.counts[b][j], 3))\n",
    "        c.specifyExpectation(binname, 'QCD',    round(MT_vs_sdmass_QCD_central.counts[b][j], 3))\n",
    "        c.specifyExpectation(binname, 'Wjets',    round(MT_vs_sdmass_W_central.counts[b][j], 3))\n",
    "        c.specifyExpectation(binname, 'ttjets',    round(MT_vs_sdmass_tt_central.counts[b][j], 3))\n",
    "\n",
    "        c.specifyObservation(binname, round(MT_vs_sdmass_QCD_central.counts[b][j] + MT_vs_sdmass_W_central.counts[b][j] + MT_vs_sdmass_tt_central.counts[b][j], 3))\n",
    "        \n",
    "        c.specifyUncertainty('JES', binname, 'signal', differences_avg_1500_750.counts[b][j])\n",
    "        c.specifyUncertainty('JES', binname, 'QCD',   differences_avg_QCD.counts[b][j])\n",
    "        c.specifyUncertainty('JES', binname, 'Wjets',   differences_avg_W.counts[b][j])\n",
    "        c.specifyUncertainty('JES', binname, 'ttjets',  differences_avg_tt.counts[b][j])\n",
    "        \n",
    "c.specifyFlatUncertainty('lumi', 1.01)\n",
    "c.writeToFile('./2HDMa_1500_750_1.txt')"
   ]
  },
  {
   "cell_type": "code",
   "execution_count": null,
   "id": "271584f1",
   "metadata": {
    "scrolled": false
   },
   "outputs": [],
   "source": [
    "from tools.dataCard import dataCard\n",
    "\n",
    "c = dataCard()\n",
    "c.setPrecision(3)\n",
    "\n",
    "c.addUncertainty('lumi',        'lnN')\n",
    "c.addUncertainty('JES',        'lnN')\n",
    "\n",
    "binnum = 0\n",
    "\n",
    "for b in range(0,4):\n",
    "    for j in range(0,10):\n",
    "        binname = 'bin'+str(binnum)\n",
    "        Binname = str(b+1)+'_'+str(j+1)\n",
    "        binnum += 1\n",
    "        c.addBin(binname, ['Wjets', 'QCD','ttjets'], Binname) # signal is automatically added\n",
    "        \n",
    "        processes = {'signal': MT_vs_sdmass_1750_750_central, 'QCD': MT_vs_sdmass_QCD_central, 'Wjets': MT_vs_sdmass_W_central, 'ttjets': MT_vs_sdmass_tt_central}\n",
    "        for process in processes:\n",
    "            uname = 'Stat_'+binname+'_'+process\n",
    "            c.addUncertainty(uname, 'lnN')\n",
    "            c.specifyUncertainty(uname, binname, process, round(1+processes[process].errors[b][j]/processes[process].counts[b][j], 3))\n",
    "        \n",
    "        c.specifyExpectation(binname, 'signal',  round(MT_vs_sdmass_1750_750_central.counts[b][j], 3))\n",
    "        c.specifyExpectation(binname, 'QCD',    round(MT_vs_sdmass_QCD_central.counts[b][j], 3))\n",
    "        c.specifyExpectation(binname, 'Wjets',    round(MT_vs_sdmass_W_central.counts[b][j], 3))\n",
    "        c.specifyExpectation(binname, 'ttjets',    round(MT_vs_sdmass_tt_central.counts[b][j], 3))\n",
    "\n",
    "        c.specifyObservation(binname, round(MT_vs_sdmass_QCD_central.counts[b][j] + MT_vs_sdmass_W_central.counts[b][j] + MT_vs_sdmass_tt_central.counts[b][j], 3))\n",
    "        \n",
    "        c.specifyUncertainty('JES', binname, 'signal', differences_avg_1750_750.counts[b][j])\n",
    "        c.specifyUncertainty('JES', binname, 'QCD',   differences_avg_QCD.counts[b][j])\n",
    "        c.specifyUncertainty('JES', binname, 'Wjets',   differences_avg_W.counts[b][j])\n",
    "        c.specifyUncertainty('JES', binname, 'ttjets',  differences_avg_tt.counts[b][j])\n",
    "        \n",
    "c.specifyFlatUncertainty('lumi', 1.01)\n",
    "c.writeToFile('./2HDMa_1750_750_1.txt')"
   ]
  },
  {
   "cell_type": "code",
   "execution_count": null,
   "id": "33b8e47f",
   "metadata": {
    "scrolled": false
   },
   "outputs": [],
   "source": [
    "from tools.dataCard import dataCard\n",
    "\n",
    "c = dataCard()\n",
    "c.setPrecision(3)\n",
    "\n",
    "c.addUncertainty('lumi',        'lnN')\n",
    "c.addUncertainty('JES',        'lnN')\n",
    "\n",
    "binnum = 0\n",
    "\n",
    "for b in range(0,4):\n",
    "    for j in range(0,10):\n",
    "        binname = 'bin'+str(binnum)\n",
    "        Binname = str(b+1)+'_'+str(j+1)\n",
    "        binnum += 1\n",
    "        c.addBin(binname, ['Wjets', 'QCD','ttjets'], Binname) # signal is automatically added\n",
    "        \n",
    "        processes = {'signal': MT_vs_sdmass_2000_750_central, 'QCD': MT_vs_sdmass_QCD_central, 'Wjets': MT_vs_sdmass_W_central, 'ttjets': MT_vs_sdmass_tt_central}\n",
    "        for process in processes:\n",
    "            uname = 'Stat_'+binname+'_'+process\n",
    "            c.addUncertainty(uname, 'lnN')\n",
    "            c.specifyUncertainty(uname, binname, process, round(1+processes[process].errors[b][j]/processes[process].counts[b][j], 3))\n",
    "        \n",
    "        c.specifyExpectation(binname, 'signal',  round(MT_vs_sdmass_2000_750_central.counts[b][j], 3))\n",
    "        c.specifyExpectation(binname, 'QCD',    round(MT_vs_sdmass_QCD_central.counts[b][j], 3))\n",
    "        c.specifyExpectation(binname, 'Wjets',    round(MT_vs_sdmass_W_central.counts[b][j], 3))\n",
    "        c.specifyExpectation(binname, 'ttjets',    round(MT_vs_sdmass_tt_central.counts[b][j], 3))\n",
    "\n",
    "        c.specifyObservation(binname, round(MT_vs_sdmass_QCD_central.counts[b][j] + MT_vs_sdmass_W_central.counts[b][j] + MT_vs_sdmass_tt_central.counts[b][j], 3))\n",
    "        \n",
    "        c.specifyUncertainty('JES', binname, 'signal', differences_avg_2000_750.counts[b][j])\n",
    "        c.specifyUncertainty('JES', binname, 'QCD',   differences_avg_QCD.counts[b][j])\n",
    "        c.specifyUncertainty('JES', binname, 'Wjets',   differences_avg_W.counts[b][j])\n",
    "        c.specifyUncertainty('JES', binname, 'ttjets',  differences_avg_tt.counts[b][j])\n",
    "        \n",
    "c.specifyFlatUncertainty('lumi', 1.01)\n",
    "c.writeToFile('./2HDMa_2000_750_1.txt')"
   ]
  },
  {
   "cell_type": "markdown",
   "id": "57d137a7",
   "metadata": {},
   "source": [
    "# Plotting Regions"
   ]
  },
  {
   "cell_type": "code",
   "execution_count": null,
   "id": "a747c5c5",
   "metadata": {},
   "outputs": [],
   "source": [
    "fig, ax  = plt.subplots(1, 1,figsize=(13,10) )\n",
    "MT_vs_sdmass_1500_750_central.plot(counts=True, equidistant='xy', counts_formatter=\"{:.2e} \\n$\\pm$\\n {:.2e}\".format, counts_fontsize=10,)\n",
    "ax.set_xlabel(r'$M_{T}$')\n",
    "ax.set_ylabel(r'$softdrop\\ mass$')\n",
    "#fig.savefig('/home/users/ewallace/public_html/HbbMET/plots/MT_vs_sdmass_1750_750.png')"
   ]
  },
  {
   "cell_type": "code",
   "execution_count": null,
   "id": "72ee9da1",
   "metadata": {},
   "outputs": [],
   "source": [
    "fig, ax  = plt.subplots(1, 1,figsize=(13,10) )\n",
    "MT_vs_sdmass_tt_central.plot(counts=True, equidistant='xy', counts_formatter=\"{:.2e} \\n$\\pm$\\n {:.2e}\".format, counts_fontsize=10,)\n",
    "ax.set_xlabel(r'$M_{T}$')\n",
    "ax.set_ylabel(r'$softdrop\\ mass$')\n",
    "#fig.savefig('/home/users/ewallace/public_html/HbbMET/plots/MT_vs_sdmass_tt.png')"
   ]
  },
  {
   "cell_type": "code",
   "execution_count": null,
   "id": "3585db40",
   "metadata": {},
   "outputs": [],
   "source": [
    "fig, ax  = plt.subplots(1, 1,figsize=(13,10) )\n",
    "MT_vs_sdmass_tt_up.plot(counts=True, equidistant='xy', counts_formatter=\"{:.2e} \\n$\\pm$\\n {:.2e}\".format, counts_fontsize=10,)\n",
    "ax.set_xlabel(r'$M_{T}$')\n",
    "ax.set_ylabel(r'$softdrop\\ mass$')\n",
    "#fig.savefig('/home/users/ewallace/public_html/HbbMET/plots/MT_vs_sdmass_tt.png')"
   ]
  },
  {
   "cell_type": "code",
   "execution_count": null,
   "id": "850aec45",
   "metadata": {},
   "outputs": [],
   "source": [
    "fig, ax  = plt.subplots(1, 1,figsize=(13,10) )\n",
    "MT_vs_sdmass_tt_down.plot(counts=True, equidistant='xy', counts_formatter=\"{:.2e} \\n$\\pm$\\n {:.2e}\".format, counts_fontsize=10,)\n",
    "ax.set_xlabel(r'$M_{T}$')\n",
    "ax.set_ylabel(r'$softdrop\\ mass$')\n",
    "#fig.savefig('/home/users/ewallace/public_html/HbbMET/plots/MT_vs_sdmass_tt.png')"
   ]
  },
  {
   "cell_type": "code",
   "execution_count": null,
   "id": "4a10fc36",
   "metadata": {},
   "outputs": [],
   "source": [
    "fig, ax  = plt.subplots(1, 1,figsize=(13,10) )\n",
    "MT_vs_sdmass_W_central.plot(counts=True, equidistant='xy', counts_formatter=\"{:.2e} \\n$\\pm$\\n {:.2e}\".format, counts_fontsize=10,)\n",
    "ax.set_xlabel(r'$M_{T}$')\n",
    "ax.set_ylabel(r'$softdrop\\ mass$')"
   ]
  },
  {
   "cell_type": "code",
   "execution_count": null,
   "id": "368701e2",
   "metadata": {},
   "outputs": [],
   "source": [
    "fig, ax  = plt.subplots(1, 1,figsize=(13,10) )\n",
    "MT_vs_sdmass_QCD_central.plot(counts=True, equidistant='xy', counts_formatter=\"{:.2e} \\n$\\pm$\\n {:.2e}\".format, counts_fontsize=10,)\n",
    "ax.set_xlabel(r'$M_{T}$')\n",
    "ax.set_ylabel(r'$softdrop\\ mass$')"
   ]
  },
  {
   "cell_type": "code",
   "execution_count": null,
   "id": "db91ad02",
   "metadata": {},
   "outputs": [],
   "source": []
  }
 ],
 "metadata": {
  "kernelspec": {
   "display_name": "coffeadev",
   "language": "python",
   "name": "coffeadev"
  },
  "language_info": {
   "codemirror_mode": {
    "name": "ipython",
    "version": 3
   },
   "file_extension": ".py",
   "mimetype": "text/x-python",
   "name": "python",
   "nbconvert_exporter": "python",
   "pygments_lexer": "ipython3",
   "version": "3.9.7"
  }
 },
 "nbformat": 4,
 "nbformat_minor": 5
}
