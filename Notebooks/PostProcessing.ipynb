{
 "cells": [
  {
   "cell_type": "markdown",
   "id": "22c76d58",
   "metadata": {},
   "source": [
    "# Post Processing"
   ]
  },
  {
   "cell_type": "code",
   "execution_count": null,
   "id": "366c6eb3",
   "metadata": {},
   "outputs": [],
   "source": [
    "import gzip\n",
    "import pickle"
   ]
  },
  {
   "cell_type": "code",
   "execution_count": null,
   "id": "a9695d40",
   "metadata": {},
   "outputs": [],
   "source": [
    "import matplotlib.pyplot as plt\n",
    "import mplhep as hep\n",
    "plt.style.use(hep.style.CMS)\n",
    "from coffea import hist\n",
    "from plots.helpers import makePlot2, merge_histos"
   ]
  },
  {
   "cell_type": "markdown",
   "id": "a5948a7d",
   "metadata": {},
   "source": [
    "## Import Histograms"
   ]
  },
  {
   "cell_type": "code",
   "execution_count": null,
   "id": "5e915069",
   "metadata": {},
   "outputs": [],
   "source": [
    "path = '../analysis/background_histos.pkl.gz'\n",
    "with gzip.open(path) as fin:\n",
    "    output_flat= pickle.load(fin)"
   ]
  },
  {
   "cell_type": "markdown",
   "id": "a343ddc2",
   "metadata": {},
   "source": [
    "## Setting Up Plots"
   ]
  },
  {
   "cell_type": "code",
   "execution_count": null,
   "id": "e5cca204",
   "metadata": {},
   "outputs": [],
   "source": [
    "N_bins = hist.Bin('multiplicity', r'$N$', 6, -0.5, 5.5)\n",
    "mass_bins = hist.Bin('mass', r'$M\\ (GeV)$', 40, 0, 400)\n",
    "ht_bins = hist.Bin('pt', r'$H_{T}\\ (GeV)$', 60, 0, 3000)\n",
    "pt_bins = hist.Bin('pt', r'$p_{T}\\ (GeV)$', 80, 200, 1000)\n",
    "eta_bins = hist.Bin(\"eta\", \"$\\eta$\", 33, -4, 4)\n",
    "phi_bins = hist.Bin(\"phi\", \"$\\phi$\", 33, -4, 4)\n",
    "deltaR_bins = hist.Bin(\"deltaR\", \"$\\DeltaR$\", 10, 0, 1)\n",
    "tau1_bins = hist.Bin(\"tau\", \"$\\tau_1$\", 10, 0, 0.7)\n",
    "tau2_bins = hist.Bin(\"tau\", \"$\\tau_2$\", 10, 0, 0.5)\n",
    "tau3_bins = hist.Bin(\"tau\", \"$\\tau_3$\", 10, 0, 0.4)\n",
    "tau4_bins = hist.Bin(\"tau\", \"$\\tau_4$\", 10, 0, 0.3)\n",
    "\n",
    "labels ={\n",
    "    ('ZJetsToNuNu_HT',): r'$ZJets\\to\\nu\\nu\\ (binned\\ by\\ HT)$',\n",
    "    ('WJetsToLNu_Njet',): r'$WJets\\to L\\nu\\ (binned\\ by\\ N_{jets})$',\n",
    "    #('TT_TuneCUETP8M2T4_14TeV-powheg-pythia8_200PU',): r'$t\\bar{t}$',\n",
    "    ('2HDMa_bb_sinp_0.35_tanb_1.0_mXd_10_MH3_1500_MH4_150_MH2_1500_MHC_1500',): '2HDMa_bb_1500_150_10',\n",
    "    ('2HDMa_bb_sinp_0.35_tanb_1.0_mXd_10_MH3_1500_MH4_250_MH2_1500_MHC_1500',): '2HDMa_bb_1500_250_10',\n",
    "    ('2HDMa_bb_sinp_0.35_tanb_1.0_mXd_10_MH3_1500_MH4_350_MH2_1500_MHC_1500',): '2HDMa_bb_1500_350_10',\n",
    "    ('2HDMa_bb_sinp_0.35_tanb_1.0_mXd_10_MH3_1500_MH4_500_MH2_1500_MHC_1500',): '2HDMa_bb_1500_500_10',\n",
    "    ('2HDMa_bb_sinp_0.35_tanb_1.0_mXd_10_MH3_1500_MH4_750_MH2_1500_MHC_1500',): '2HDMa_bb_1500_750_10',\n",
    "}\n",
    "\n",
    "colors ={\n",
    "    ('ZJetsToNuNu_HT',): '#355C7D',\n",
    "    ('WJetsToLNu_Njet',): '#FED23F',\n",
    "    #('TT_TuneCUETP8M2T4_14TeV-powheg-pythia8_200PU',): '#EB7DB5',\n",
    "}\n",
    "        \n",
    "signals = [\n",
    "    ('2HDMa_bb_sinp_0.35_tanb_1.0_mXd_10_MH3_1500_MH4_150_MH2_1500_MHC_1500',),\n",
    "    ('2HDMa_bb_sinp_0.35_tanb_1.0_mXd_10_MH3_1500_MH4_250_MH2_1500_MHC_1500',), \n",
    "    ('2HDMa_bb_sinp_0.35_tanb_1.0_mXd_10_MH3_1500_MH4_350_MH2_1500_MHC_1500',), \n",
    "    ('2HDMa_bb_sinp_0.35_tanb_1.0_mXd_10_MH3_1500_MH4_500_MH2_1500_MHC_1500',), \n",
    "    ('2HDMa_bb_sinp_0.35_tanb_1.0_mXd_10_MH3_1500_MH4_750_MH2_1500_MHC_1500',)\n",
    "]"
   ]
  },
  {
   "cell_type": "code",
   "execution_count": null,
   "id": "535d8a54",
   "metadata": {},
   "outputs": [],
   "source": [
    "makePlot2(output_flat, 'met', 'pt', pt_bins, r'$MET_{pt}\\ (GeV)$', labels, colors, signals=signals)\n",
    "makePlot2(output_flat, 'lead_fatjet_pt', 'pt', pt_bins, r'$p_{T}\\ (GeV)$', labels, colors, signals=signals)\n",
    "makePlot2(output_flat, 'lead_fatjet_eta', 'eta', eta_bins, r'$\\eta$', labels, colors, signals=signals)\n",
    "makePlot2(output_flat, 'lead_fatjet_phi', 'phi', phi_bins, r'$\\phi$', labels, colors, signals=signals)\n",
    "makePlot2(output_flat, 'lead_fatjet_sdmass', 'mass', mass_bins, r'$mass\\ (GeV)$', labels, colors, signals=signals)\n",
    "makePlot2(output_flat, 'lead_fatjet_tau1', 'tau', tau1_bins, r'$\\tau_1$', labels, colors, signals=signals)\n",
    "makePlot2(output_flat, 'lead_fatjet_tau2', 'tau', tau2_bins, r'$\\tau_2$', labels, colors, signals=signals)\n",
    "makePlot2(output_flat, 'lead_fatjet_tau3', 'tau', tau3_bins, r'$\\tau_3$', labels, colors, signals=signals)\n",
    "makePlot2(output_flat, 'lead_fatjet_tau4', 'tau', tau4_bins, r'$\\tau_4$', labels, colors, signals=signals)\n",
    "makePlot2(output_flat, 'nfatjet', 'multiplicity', N_bins, r'$n_{fatjet}$', labels, colors, signals=signals)\n",
    "makePlot2(output_flat, 'ht', 'pt', ht_bins, r'$H_{T}$', labels, colors, signals=signals)"
   ]
  }
 ],
 "metadata": {
  "kernelspec": {
   "display_name": "coffeadev",
   "language": "python",
   "name": "coffeadev"
  },
  "language_info": {
   "codemirror_mode": {
    "name": "ipython",
    "version": 3
   },
   "file_extension": ".py",
   "mimetype": "text/x-python",
   "name": "python",
   "nbconvert_exporter": "python",
   "pygments_lexer": "ipython3",
   "version": "3.9.7"
  }
 },
 "nbformat": 4,
 "nbformat_minor": 5
}
