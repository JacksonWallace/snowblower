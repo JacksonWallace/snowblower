{
 "cells": [
  {
   "cell_type": "markdown",
   "id": "22c76d58",
   "metadata": {},
   "source": [
    "# Post Processing"
   ]
  },
  {
   "cell_type": "code",
   "execution_count": null,
   "id": "366c6eb3",
   "metadata": {
    "scrolled": true
   },
   "outputs": [],
   "source": [
    "import gzip\n",
    "import pickle\n",
    "from yaml import Loader, Dumper\n",
    "import yaml"
   ]
  },
  {
   "cell_type": "code",
   "execution_count": null,
   "id": "a9695d40",
   "metadata": {
    "scrolled": true
   },
   "outputs": [],
   "source": [
    "import numpy as np\n",
    "import awkward as ak\n",
    "import matplotlib.pyplot as plt\n",
    "import mplhep as hep\n",
    "plt.style.use(hep.style.CMS)\n",
    "from coffea import hist\n",
    "from plots.helpers import makePlot2\n",
    "from tools.helpers import cutflow_scale_and_merge, getCutFlowTable\n",
    "from yahist import Hist1D, Hist2D"
   ]
  },
  {
   "cell_type": "markdown",
   "id": "a5948a7d",
   "metadata": {},
   "source": [
    "## Import Histograms"
   ]
  },
  {
   "cell_type": "code",
   "execution_count": null,
   "id": "5e915069",
   "metadata": {
    "scrolled": true
   },
   "outputs": [],
   "source": [
    "path = '../analysis/histos/limits_3000.pkl.gz'\n",
    "with gzip.open(path) as fin:\n",
    "    scaled_output = pickle.load(fin)"
   ]
  },
  {
   "cell_type": "code",
   "execution_count": null,
   "id": "3fcced5d",
   "metadata": {},
   "outputs": [],
   "source": [
    "scaled_output['MT_vs_sdmass_central'].values()"
   ]
  },
  {
   "cell_type": "markdown",
   "id": "ebb04b3d",
   "metadata": {},
   "source": [
    "# Data Cards"
   ]
  },
  {
   "cell_type": "code",
   "execution_count": null,
   "id": "3b092f8a",
   "metadata": {
    "scrolled": true
   },
   "outputs": [],
   "source": [
    "MT_vs_sdmass_1500_150_central = Hist2D.from_bincounts(\n",
    "    scaled_output['MT_vs_sdmass_central'].values(overflow='over')[('2HDMa_sinp_0.35_tanb_1.0_mXd_10_MH3_1500_MH4_150_MH2_1500_MHC_1500',)].T,\n",
    "    (scaled_output['MT_vs_sdmass_central'].axis('mt').edges(overflow='over'), scaled_output['MT_vs_sdmass_central'].axis('mass').edges(overflow='over')),\n",
    "    errors = np.sqrt(scaled_output['MT_vs_sdmass_central'].values(sumw2=True, overflow='over')[('2HDMa_sinp_0.35_tanb_1.0_mXd_10_MH3_1500_MH4_150_MH2_1500_MHC_1500',)][1].T),\n",
    ")"
   ]
  },
  {
   "cell_type": "code",
   "execution_count": null,
   "id": "4d56b081",
   "metadata": {
    "scrolled": true
   },
   "outputs": [],
   "source": [
    "for b in range(0,4):\n",
    "    for j in range(0,10):\n",
    "        if MT_vs_sdmass_1500_150_central.counts[b][j] == 0:\n",
    "            MT_vs_sdmass_1500_150_central.counts[b][j] = 0.01\n",
    "            MT_vs_sdmass_1500_150_central.errors[b][j] = 0.01"
   ]
  },
  {
   "cell_type": "code",
   "execution_count": null,
   "id": "d093008f",
   "metadata": {
    "scrolled": true
   },
   "outputs": [],
   "source": [
    "MT_vs_sdmass_1500_750_central = Hist2D.from_bincounts(\n",
    "    scaled_output['MT_vs_sdmass_central'].values(overflow='over')[('2HDMa_sinp_0.35_tanb_1.0_mXd_10_MH3_1500_MH4_750_MH2_1500_MHC_1500',)].T,\n",
    "    (scaled_output['MT_vs_sdmass_central'].axis('mt').edges(overflow='over'), scaled_output['MT_vs_sdmass_central'].axis('mass').edges(overflow='over')),\n",
    "    errors = np.sqrt(scaled_output['MT_vs_sdmass_central'].values(sumw2=True, overflow='over')[('2HDMa_sinp_0.35_tanb_1.0_mXd_10_MH3_1500_MH4_750_MH2_1500_MHC_1500',)][1].T),\n",
    ")"
   ]
  },
  {
   "cell_type": "code",
   "execution_count": null,
   "id": "1ec7015b",
   "metadata": {
    "scrolled": true
   },
   "outputs": [],
   "source": [
    "for b in range(0,4):\n",
    "    for j in range(0,10):\n",
    "        if MT_vs_sdmass_1500_750_central.counts[b][j] == 0:\n",
    "            MT_vs_sdmass_1500_750_central.counts[b][j] = 0.01\n",
    "            MT_vs_sdmass_1500_750_central.errors[b][j] = 0.01"
   ]
  },
  {
   "cell_type": "code",
   "execution_count": null,
   "id": "47d2a81a",
   "metadata": {
    "scrolled": true
   },
   "outputs": [],
   "source": [
    "MT_vs_sdmass_1750_750_central = Hist2D.from_bincounts(\n",
    "    scaled_output['MT_vs_sdmass_central'].values(overflow='over')[('2HDMa_sinp_0.35_tanb_1.0_mXd_10_MH3_1750_MH4_750_MH2_1750_MHC_1750',)].T,\n",
    "    (scaled_output['MT_vs_sdmass_central'].axis('mt').edges(overflow='over'), scaled_output['MT_vs_sdmass_central'].axis('mass').edges(overflow='over')),\n",
    "    errors = np.sqrt(scaled_output['MT_vs_sdmass_central'].values(sumw2=True, overflow='over')[('2HDMa_sinp_0.35_tanb_1.0_mXd_10_MH3_1750_MH4_750_MH2_1750_MHC_1750',)][1].T),\n",
    ")"
   ]
  },
  {
   "cell_type": "code",
   "execution_count": null,
   "id": "98da6046",
   "metadata": {
    "scrolled": true
   },
   "outputs": [],
   "source": [
    "for b in range(0,4):\n",
    "    for j in range(0,10):\n",
    "        if MT_vs_sdmass_1750_750_central.counts[b][j] == 0:\n",
    "            MT_vs_sdmass_1750_750_central.counts[b][j] = 0.01\n",
    "            MT_vs_sdmass_1750_750_central.errors[b][j] = 0.01"
   ]
  },
  {
   "cell_type": "code",
   "execution_count": null,
   "id": "bab84992",
   "metadata": {
    "scrolled": true
   },
   "outputs": [],
   "source": [
    "MT_vs_sdmass_2000_750_central = Hist2D.from_bincounts(\n",
    "    scaled_output['MT_vs_sdmass_central'].values(overflow='over')[('2HDMa_sinp_0.35_tanb_1.0_mXd_10_MH3_2000_MH4_750_MH2_2000_MHC_2000',)].T,\n",
    "    (scaled_output['MT_vs_sdmass_central'].axis('mt').edges(overflow='over'), scaled_output['MT_vs_sdmass_central'].axis('mass').edges(overflow='over')),\n",
    "    errors = np.sqrt(scaled_output['MT_vs_sdmass_central'].values(sumw2=True, overflow='over')[('2HDMa_sinp_0.35_tanb_1.0_mXd_10_MH3_2000_MH4_750_MH2_2000_MHC_2000',)][1].T),\n",
    ")"
   ]
  },
  {
   "cell_type": "code",
   "execution_count": null,
   "id": "3373250f",
   "metadata": {
    "scrolled": true
   },
   "outputs": [],
   "source": [
    "for b in range(0,4):\n",
    "    for j in range(0,10):\n",
    "        if MT_vs_sdmass_2000_750_central.counts[b][j] == 0:\n",
    "            MT_vs_sdmass_2000_750_central.counts[b][j] = 0.01\n",
    "            MT_vs_sdmass_2000_750_central.errors[b][j] = 0.01"
   ]
  },
  {
   "cell_type": "code",
   "execution_count": null,
   "id": "37a0e383",
   "metadata": {
    "scrolled": true
   },
   "outputs": [],
   "source": [
    "MT_vs_sdmass_Z_central = Hist2D.from_bincounts(\n",
    "     scaled_output['MT_vs_sdmass_central'].values(overflow='over')[('ZJetsToNuNu_HT',)].T,\n",
    "    (scaled_output['MT_vs_sdmass_central'].axis('mt').edges(overflow='over'), scaled_output['MT_vs_sdmass_central'].axis('mass').edges(overflow='over')),\n",
    "    errors = np.sqrt(scaled_output['MT_vs_sdmass_central'].values(sumw2=True, overflow='over')[('ZJetsToNuNu_HT',)][1].T),\n",
    ")"
   ]
  },
  {
   "cell_type": "code",
   "execution_count": null,
   "id": "83466cf5",
   "metadata": {
    "scrolled": true
   },
   "outputs": [],
   "source": [
    "for b in range(0,4):\n",
    "    for j in range(0,10):\n",
    "        if MT_vs_sdmass_Z_central.counts[b][j] == 0:\n",
    "            MT_vs_sdmass_Z_central.counts[b][j] = 0.01\n",
    "            MT_vs_sdmass_Z_central.errors[b][j] = 0.01"
   ]
  },
  {
   "cell_type": "code",
   "execution_count": null,
   "id": "15b8ed7f",
   "metadata": {
    "scrolled": true
   },
   "outputs": [],
   "source": [
    "MT_vs_sdmass_tt_central = Hist2D.from_bincounts(\n",
    "     scaled_output['MT_vs_sdmass_central'].values(overflow='over')[('TT',)].T,\n",
    "    (scaled_output['MT_vs_sdmass_central'].axis('mt').edges(overflow='over'), scaled_output['MT_vs_sdmass_central'].axis('mass').edges(overflow='over')),\n",
    "    errors = np.sqrt(scaled_output['MT_vs_sdmass_central'].values(sumw2=True, overflow='over')[('TT',)][1].T),\n",
    ")"
   ]
  },
  {
   "cell_type": "code",
   "execution_count": null,
   "id": "1424b315",
   "metadata": {
    "scrolled": true
   },
   "outputs": [],
   "source": [
    "for b in range(0,4):\n",
    "    for j in range(0,10):\n",
    "        if MT_vs_sdmass_tt_central.counts[b][j] == 0:\n",
    "            MT_vs_sdmass_tt_central.counts[b][j] = 0.01\n",
    "            MT_vs_sdmass_tt_central.errors[b][j] = 0.01"
   ]
  },
  {
   "cell_type": "code",
   "execution_count": null,
   "id": "e33de33b",
   "metadata": {
    "scrolled": true
   },
   "outputs": [],
   "source": [
    "MT_vs_sdmass_W_central = Hist2D.from_bincounts(\n",
    "     scaled_output['MT_vs_sdmass_central'].values(overflow='over')[('WJetsToLNu_Njet',)].T,\n",
    "    (scaled_output['MT_vs_sdmass_central'].axis('mt').edges(overflow='over'), scaled_output['MT_vs_sdmass_central'].axis('mass').edges(overflow='over')),\n",
    "    errors = np.sqrt(scaled_output['MT_vs_sdmass_central'].values(sumw2=True, overflow='over')[('WJetsToLNu_Njet',)][1].T),\n",
    ")"
   ]
  },
  {
   "cell_type": "code",
   "execution_count": null,
   "id": "fe093eab",
   "metadata": {
    "scrolled": true
   },
   "outputs": [],
   "source": [
    "for b in range(0,4):\n",
    "    for j in range(0,10):\n",
    "        if MT_vs_sdmass_W_central.counts[b][j] == 0:\n",
    "            MT_vs_sdmass_W_central.counts[b][j] = 0.01\n",
    "            MT_vs_sdmass_W_central.errors[b][j] = 0.01"
   ]
  },
  {
   "cell_type": "code",
   "execution_count": null,
   "id": "7bcd6d3c",
   "metadata": {
    "scrolled": true
   },
   "outputs": [],
   "source": [
    "MT_vs_sdmass_QCD_central = Hist2D.from_bincounts(\n",
    "     scaled_output['MT_vs_sdmass_central'].values(overflow='over')[('QCD_bEnriched_HT',)].T,\n",
    "    (scaled_output['MT_vs_sdmass_central'].axis('mt').edges(overflow='over'), scaled_output['MT_vs_sdmass_central'].axis('mass').edges(overflow='over')),\n",
    "    errors = np.sqrt(scaled_output['MT_vs_sdmass_central'].values(sumw2=True, overflow='over')[('QCD_bEnriched_HT',)][1].T),\n",
    ")"
   ]
  },
  {
   "cell_type": "code",
   "execution_count": null,
   "id": "c118a250",
   "metadata": {
    "scrolled": true
   },
   "outputs": [],
   "source": [
    "for b in range(0,4):\n",
    "    for j in range(0,10):\n",
    "        if MT_vs_sdmass_QCD_central.counts[b][j] == 0:\n",
    "            MT_vs_sdmass_QCD_central.counts[b][j] = 0.01\n",
    "            MT_vs_sdmass_QCD_central.errors[b][j] = 0.01"
   ]
  },
  {
   "cell_type": "markdown",
   "id": "9a1d6177",
   "metadata": {},
   "source": [
    "$~$"
   ]
  },
  {
   "cell_type": "code",
   "execution_count": null,
   "id": "75a26357",
   "metadata": {
    "scrolled": true
   },
   "outputs": [],
   "source": [
    "MT_vs_sdmass_1500_150_up = Hist2D.from_bincounts(\n",
    "    scaled_output['MT_vs_sdmass_up'].values(overflow='over')[('2HDMa_sinp_0.35_tanb_1.0_mXd_10_MH3_1500_MH4_150_MH2_1500_MHC_1500',)].T,\n",
    "    (scaled_output['MT_vs_sdmass_up'].axis('mt').edges(overflow='over'), scaled_output['MT_vs_sdmass_up'].axis('mass').edges(overflow='over')),\n",
    "    errors = np.sqrt(scaled_output['MT_vs_sdmass_up'].values(sumw2=True, overflow='over')[('2HDMa_sinp_0.35_tanb_1.0_mXd_10_MH3_1500_MH4_150_MH2_1500_MHC_1500',)][1].T),\n",
    ")"
   ]
  },
  {
   "cell_type": "code",
   "execution_count": null,
   "id": "f692a4fc",
   "metadata": {
    "scrolled": true
   },
   "outputs": [],
   "source": [
    "for b in range(0,4):\n",
    "    for j in range(0,10):\n",
    "        if MT_vs_sdmass_1500_150_up.counts[b][j] == 0:\n",
    "            MT_vs_sdmass_1500_150_up.counts[b][j] = 0.01\n",
    "            MT_vs_sdmass_1500_150_up.errors[b][j] = 0.01"
   ]
  },
  {
   "cell_type": "code",
   "execution_count": null,
   "id": "70d51410",
   "metadata": {
    "scrolled": true
   },
   "outputs": [],
   "source": [
    "MT_vs_sdmass_1500_750_up = Hist2D.from_bincounts(\n",
    "    scaled_output['MT_vs_sdmass_up'].values(overflow='over')[('2HDMa_sinp_0.35_tanb_1.0_mXd_10_MH3_1500_MH4_750_MH2_1500_MHC_1500',)].T,\n",
    "    (scaled_output['MT_vs_sdmass_up'].axis('mt').edges(overflow='over'), scaled_output['MT_vs_sdmass_up'].axis('mass').edges(overflow='over')),\n",
    "    errors = np.sqrt(scaled_output['MT_vs_sdmass_up'].values(sumw2=True, overflow='over')[('2HDMa_sinp_0.35_tanb_1.0_mXd_10_MH3_1500_MH4_750_MH2_1500_MHC_1500',)][1].T),\n",
    ")"
   ]
  },
  {
   "cell_type": "code",
   "execution_count": null,
   "id": "f4146ebe",
   "metadata": {
    "scrolled": true
   },
   "outputs": [],
   "source": [
    "for b in range(0,4):\n",
    "    for j in range(0,10):\n",
    "        if MT_vs_sdmass_1500_750_up.counts[b][j] == 0:\n",
    "            MT_vs_sdmass_1500_750_up.counts[b][j] = 0.01\n",
    "            MT_vs_sdmass_1500_750_up.errors[b][j] = 0.01"
   ]
  },
  {
   "cell_type": "code",
   "execution_count": null,
   "id": "9aa85405",
   "metadata": {
    "scrolled": true
   },
   "outputs": [],
   "source": [
    "MT_vs_sdmass_1750_750_up = Hist2D.from_bincounts(\n",
    "    scaled_output['MT_vs_sdmass_up'].values(overflow='over')[('2HDMa_sinp_0.35_tanb_1.0_mXd_10_MH3_1750_MH4_750_MH2_1750_MHC_1750',)].T,\n",
    "    (scaled_output['MT_vs_sdmass_up'].axis('mt').edges(overflow='over'), scaled_output['MT_vs_sdmass_up'].axis('mass').edges(overflow='over')),\n",
    "    errors = np.sqrt(scaled_output['MT_vs_sdmass_up'].values(sumw2=True, overflow='over')[('2HDMa_sinp_0.35_tanb_1.0_mXd_10_MH3_1750_MH4_750_MH2_1750_MHC_1750',)][1].T),\n",
    ")"
   ]
  },
  {
   "cell_type": "code",
   "execution_count": null,
   "id": "19d9fd11",
   "metadata": {
    "scrolled": true
   },
   "outputs": [],
   "source": [
    "for b in range(0,4):\n",
    "    for j in range(0,10):\n",
    "        if MT_vs_sdmass_1750_750_up.counts[b][j] == 0:\n",
    "            MT_vs_sdmass_1750_750_up.counts[b][j] = 0.01\n",
    "            MT_vs_sdmass_1750_750_up.errors[b][j] = 0.01"
   ]
  },
  {
   "cell_type": "code",
   "execution_count": null,
   "id": "4476530a",
   "metadata": {
    "scrolled": true
   },
   "outputs": [],
   "source": [
    "MT_vs_sdmass_2000_750_up = Hist2D.from_bincounts(\n",
    "    scaled_output['MT_vs_sdmass_up'].values(overflow='over')[('2HDMa_sinp_0.35_tanb_1.0_mXd_10_MH3_2000_MH4_750_MH2_2000_MHC_2000',)].T,\n",
    "    (scaled_output['MT_vs_sdmass_up'].axis('mt').edges(overflow='over'), scaled_output['MT_vs_sdmass_up'].axis('mass').edges(overflow='over')),\n",
    "    errors = np.sqrt(scaled_output['MT_vs_sdmass_up'].values(sumw2=True, overflow='over')[('2HDMa_sinp_0.35_tanb_1.0_mXd_10_MH3_2000_MH4_750_MH2_2000_MHC_2000',)][1].T),\n",
    ")"
   ]
  },
  {
   "cell_type": "code",
   "execution_count": null,
   "id": "6080bba7",
   "metadata": {
    "scrolled": true
   },
   "outputs": [],
   "source": [
    "for b in range(0,4):\n",
    "    for j in range(0,10):\n",
    "        if MT_vs_sdmass_2000_750_up.counts[b][j] == 0:\n",
    "            MT_vs_sdmass_2000_750_up.counts[b][j] = 0.01\n",
    "            MT_vs_sdmass_2000_750_up.errors[b][j] = 0.01"
   ]
  },
  {
   "cell_type": "code",
   "execution_count": null,
   "id": "39146aaa",
   "metadata": {
    "scrolled": true
   },
   "outputs": [],
   "source": [
    "MT_vs_sdmass_Z_up = Hist2D.from_bincounts(\n",
    "     scaled_output['MT_vs_sdmass_up'].values(overflow='over')[('ZJetsToNuNu_HT',)].T,\n",
    "    (scaled_output['MT_vs_sdmass_up'].axis('mt').edges(overflow='over'), scaled_output['MT_vs_sdmass_up'].axis('mass').edges(overflow='over')),\n",
    "    errors = np.sqrt(scaled_output['MT_vs_sdmass_up'].values(sumw2=True, overflow='over')[('ZJetsToNuNu_HT',)][1].T),\n",
    ")"
   ]
  },
  {
   "cell_type": "code",
   "execution_count": null,
   "id": "12f610b0",
   "metadata": {
    "scrolled": true
   },
   "outputs": [],
   "source": [
    "for b in range(0,4):\n",
    "    for j in range(0,10):\n",
    "        if MT_vs_sdmass_Z_up.counts[b][j] == 0:\n",
    "            MT_vs_sdmass_Z_up.counts[b][j] = 0.01\n",
    "            MT_vs_sdmass_Z_up.errors[b][j] = 0.01"
   ]
  },
  {
   "cell_type": "code",
   "execution_count": null,
   "id": "59a8e06c",
   "metadata": {
    "scrolled": true
   },
   "outputs": [],
   "source": [
    "MT_vs_sdmass_tt_up = Hist2D.from_bincounts(\n",
    "     scaled_output['MT_vs_sdmass_up'].values(overflow='over')[('TT',)].T,\n",
    "    (scaled_output['MT_vs_sdmass_up'].axis('mt').edges(overflow='over'), scaled_output['MT_vs_sdmass_up'].axis('mass').edges(overflow='over')),\n",
    "    errors = np.sqrt(scaled_output['MT_vs_sdmass_up'].values(sumw2=True, overflow='over')[('TT',)][1].T),\n",
    ")"
   ]
  },
  {
   "cell_type": "code",
   "execution_count": null,
   "id": "2a9d6c3b",
   "metadata": {
    "scrolled": true
   },
   "outputs": [],
   "source": [
    "for b in range(0,4):\n",
    "    for j in range(0,10):\n",
    "        if MT_vs_sdmass_tt_up.counts[b][j] == 0:\n",
    "            MT_vs_sdmass_tt_up.counts[b][j] = 0.01\n",
    "            MT_vs_sdmass_tt_up.errors[b][j] = 0.01"
   ]
  },
  {
   "cell_type": "code",
   "execution_count": null,
   "id": "4f231227",
   "metadata": {
    "scrolled": true
   },
   "outputs": [],
   "source": [
    "MT_vs_sdmass_W_up = Hist2D.from_bincounts(\n",
    "     scaled_output['MT_vs_sdmass_up'].values(overflow='over')[('WJetsToLNu_Njet',)].T,\n",
    "    (scaled_output['MT_vs_sdmass_up'].axis('mt').edges(overflow='over'), scaled_output['MT_vs_sdmass_up'].axis('mass').edges(overflow='over')),\n",
    "    errors = np.sqrt(scaled_output['MT_vs_sdmass_up'].values(sumw2=True, overflow='over')[('WJetsToLNu_Njet',)][1].T),\n",
    ")"
   ]
  },
  {
   "cell_type": "code",
   "execution_count": null,
   "id": "10f6ba72",
   "metadata": {
    "scrolled": true
   },
   "outputs": [],
   "source": [
    "for b in range(0,4):\n",
    "    for j in range(0,10):\n",
    "        if MT_vs_sdmass_W_up.counts[b][j] == 0:\n",
    "            MT_vs_sdmass_W_up.counts[b][j] = 0.01\n",
    "            MT_vs_sdmass_W_up.errors[b][j] = 0.01"
   ]
  },
  {
   "cell_type": "code",
   "execution_count": null,
   "id": "737c9a13",
   "metadata": {
    "scrolled": true
   },
   "outputs": [],
   "source": [
    "MT_vs_sdmass_QCD_up = Hist2D.from_bincounts(\n",
    "     scaled_output['MT_vs_sdmass_up'].values(overflow='over')[('QCD_bEnriched_HT',)].T,\n",
    "    (scaled_output['MT_vs_sdmass_up'].axis('mt').edges(overflow='over'), scaled_output['MT_vs_sdmass_up'].axis('mass').edges(overflow='over')),\n",
    "    errors = np.sqrt(scaled_output['MT_vs_sdmass_up'].values(sumw2=True, overflow='over')[('QCD_bEnriched_HT',)][1].T),\n",
    ")"
   ]
  },
  {
   "cell_type": "code",
   "execution_count": null,
   "id": "9b7e9e61",
   "metadata": {
    "scrolled": true
   },
   "outputs": [],
   "source": [
    "for b in range(0,4):\n",
    "    for j in range(0,10):\n",
    "        if MT_vs_sdmass_QCD_up.counts[b][j] == 0:\n",
    "            MT_vs_sdmass_QCD_up.counts[b][j] = 0.01\n",
    "            MT_vs_sdmass_QCD_up.errors[b][j] = 0.01"
   ]
  },
  {
   "cell_type": "markdown",
   "id": "ecac0cbb",
   "metadata": {},
   "source": [
    "$~$"
   ]
  },
  {
   "cell_type": "code",
   "execution_count": null,
   "id": "1a92946e",
   "metadata": {
    "scrolled": true
   },
   "outputs": [],
   "source": [
    "MT_vs_sdmass_1500_150_down = Hist2D.from_bincounts(\n",
    "    scaled_output['MT_vs_sdmass_down'].values(overflow='over')[('2HDMa_sinp_0.35_tanb_1.0_mXd_10_MH3_1500_MH4_150_MH2_1500_MHC_1500',)].T,\n",
    "    (scaled_output['MT_vs_sdmass_down'].axis('mt').edges(overflow='over'), scaled_output['MT_vs_sdmass_down'].axis('mass').edges(overflow='over')),\n",
    "    errors = np.sqrt(scaled_output['MT_vs_sdmass_down'].values(sumw2=True, overflow='over')[('2HDMa_sinp_0.35_tanb_1.0_mXd_10_MH3_1500_MH4_150_MH2_1500_MHC_1500',)][1].T),\n",
    ")"
   ]
  },
  {
   "cell_type": "code",
   "execution_count": null,
   "id": "fc8f1a83",
   "metadata": {
    "scrolled": true
   },
   "outputs": [],
   "source": [
    "for b in range(0,4):\n",
    "    for j in range(0,10):\n",
    "        if MT_vs_sdmass_1500_150_down.counts[b][j] == 0:\n",
    "            MT_vs_sdmass_1500_150_down.counts[b][j] = 0.01\n",
    "            MT_vs_sdmass_1500_150_down.errors[b][j] = 0.01"
   ]
  },
  {
   "cell_type": "code",
   "execution_count": null,
   "id": "fbeafc79",
   "metadata": {
    "scrolled": true
   },
   "outputs": [],
   "source": [
    "MT_vs_sdmass_1500_750_down = Hist2D.from_bincounts(\n",
    "    scaled_output['MT_vs_sdmass_down'].values(overflow='over')[('2HDMa_sinp_0.35_tanb_1.0_mXd_10_MH3_1500_MH4_750_MH2_1500_MHC_1500',)].T,\n",
    "    (scaled_output['MT_vs_sdmass_down'].axis('mt').edges(overflow='over'), scaled_output['MT_vs_sdmass_down'].axis('mass').edges(overflow='over')),\n",
    "    errors = np.sqrt(scaled_output['MT_vs_sdmass_down'].values(sumw2=True, overflow='over')[('2HDMa_sinp_0.35_tanb_1.0_mXd_10_MH3_1500_MH4_750_MH2_1500_MHC_1500',)][1].T),\n",
    ")"
   ]
  },
  {
   "cell_type": "code",
   "execution_count": null,
   "id": "4d57c12d",
   "metadata": {
    "scrolled": true
   },
   "outputs": [],
   "source": [
    "for b in range(0,4):\n",
    "    for j in range(0,10):\n",
    "        if MT_vs_sdmass_1500_750_down.counts[b][j] == 0:\n",
    "            MT_vs_sdmass_1500_750_down.counts[b][j] = 0.01\n",
    "            MT_vs_sdmass_1500_750_down.errors[b][j] = 0.01"
   ]
  },
  {
   "cell_type": "code",
   "execution_count": null,
   "id": "e04e882f",
   "metadata": {
    "scrolled": true
   },
   "outputs": [],
   "source": [
    "MT_vs_sdmass_1750_750_down = Hist2D.from_bincounts(\n",
    "    scaled_output['MT_vs_sdmass_down'].values(overflow='over')[('2HDMa_sinp_0.35_tanb_1.0_mXd_10_MH3_1750_MH4_750_MH2_1750_MHC_1750',)].T,\n",
    "    (scaled_output['MT_vs_sdmass_down'].axis('mt').edges(overflow='over'), scaled_output['MT_vs_sdmass_down'].axis('mass').edges(overflow='over')),\n",
    "    errors = np.sqrt(scaled_output['MT_vs_sdmass_down'].values(sumw2=True, overflow='over')[('2HDMa_sinp_0.35_tanb_1.0_mXd_10_MH3_1750_MH4_750_MH2_1750_MHC_1750',)][1].T),\n",
    ")"
   ]
  },
  {
   "cell_type": "code",
   "execution_count": null,
   "id": "cf2e96c2",
   "metadata": {
    "scrolled": true
   },
   "outputs": [],
   "source": [
    "for b in range(0,4):\n",
    "    for j in range(0,10):\n",
    "        if MT_vs_sdmass_1750_750_down.counts[b][j] == 0:\n",
    "            MT_vs_sdmass_1750_750_down.counts[b][j] = 0.01\n",
    "            MT_vs_sdmass_1750_750_down.errors[b][j] = 0.01"
   ]
  },
  {
   "cell_type": "code",
   "execution_count": null,
   "id": "f5fce205",
   "metadata": {
    "scrolled": true
   },
   "outputs": [],
   "source": [
    "MT_vs_sdmass_2000_750_down = Hist2D.from_bincounts(\n",
    "    scaled_output['MT_vs_sdmass_down'].values(overflow='over')[('2HDMa_sinp_0.35_tanb_1.0_mXd_10_MH3_2000_MH4_750_MH2_2000_MHC_2000',)].T,\n",
    "    (scaled_output['MT_vs_sdmass_down'].axis('mt').edges(overflow='over'), scaled_output['MT_vs_sdmass_down'].axis('mass').edges(overflow='over')),\n",
    "    errors = np.sqrt(scaled_output['MT_vs_sdmass_down'].values(sumw2=True, overflow='over')[('2HDMa_sinp_0.35_tanb_1.0_mXd_10_MH3_2000_MH4_750_MH2_2000_MHC_2000',)][1].T),\n",
    ")"
   ]
  },
  {
   "cell_type": "code",
   "execution_count": null,
   "id": "06ba324b",
   "metadata": {
    "scrolled": true
   },
   "outputs": [],
   "source": [
    "for b in range(0,4):\n",
    "    for j in range(0,10):\n",
    "        if MT_vs_sdmass_2000_750_down.counts[b][j] == 0:\n",
    "            MT_vs_sdmass_2000_750_down.counts[b][j] = 0.01\n",
    "            MT_vs_sdmass_2000_750_down.errors[b][j] = 0.01"
   ]
  },
  {
   "cell_type": "code",
   "execution_count": null,
   "id": "5471d6ca",
   "metadata": {
    "scrolled": true
   },
   "outputs": [],
   "source": [
    "MT_vs_sdmass_Z_down = Hist2D.from_bincounts(\n",
    "     scaled_output['MT_vs_sdmass_down'].values(overflow='over')[('ZJetsToNuNu_HT',)].T,\n",
    "    (scaled_output['MT_vs_sdmass_down'].axis('mt').edges(overflow='over'), scaled_output['MT_vs_sdmass_down'].axis('mass').edges(overflow='over')),\n",
    "    errors = np.sqrt(scaled_output['MT_vs_sdmass_down'].values(sumw2=True, overflow='over')[('ZJetsToNuNu_HT',)][1].T),\n",
    ")"
   ]
  },
  {
   "cell_type": "code",
   "execution_count": null,
   "id": "d721b0a4",
   "metadata": {
    "scrolled": true
   },
   "outputs": [],
   "source": [
    "for b in range(0,4):\n",
    "    for j in range(0,10):\n",
    "        if MT_vs_sdmass_Z_down.counts[b][j] == 0:\n",
    "            MT_vs_sdmass_Z_down.counts[b][j] = 0.01\n",
    "            MT_vs_sdmass_Z_down.errors[b][j] = 0.01"
   ]
  },
  {
   "cell_type": "code",
   "execution_count": null,
   "id": "aa4671ee",
   "metadata": {
    "scrolled": true
   },
   "outputs": [],
   "source": [
    "MT_vs_sdmass_tt_down = Hist2D.from_bincounts(\n",
    "     scaled_output['MT_vs_sdmass_down'].values(overflow='over')[('TT',)].T,\n",
    "    (scaled_output['MT_vs_sdmass_down'].axis('mt').edges(overflow='over'), scaled_output['MT_vs_sdmass_down'].axis('mass').edges(overflow='over')),\n",
    "    errors = np.sqrt(scaled_output['MT_vs_sdmass_down'].values(sumw2=True, overflow='over')[('TT',)][1].T),\n",
    ")"
   ]
  },
  {
   "cell_type": "code",
   "execution_count": null,
   "id": "5502369d",
   "metadata": {
    "scrolled": true
   },
   "outputs": [],
   "source": [
    "for b in range(0,4):\n",
    "    for j in range(0,10):\n",
    "        if MT_vs_sdmass_tt_down.counts[b][j] == 0:\n",
    "            MT_vs_sdmass_tt_down.counts[b][j] = 0.01\n",
    "            MT_vs_sdmass_tt_down.errors[b][j] = 0.01"
   ]
  },
  {
   "cell_type": "code",
   "execution_count": null,
   "id": "7baef86d",
   "metadata": {
    "scrolled": true
   },
   "outputs": [],
   "source": [
    "MT_vs_sdmass_W_down = Hist2D.from_bincounts(\n",
    "     scaled_output['MT_vs_sdmass_down'].values(overflow='over')[('WJetsToLNu_Njet',)].T,\n",
    "    (scaled_output['MT_vs_sdmass_down'].axis('mt').edges(overflow='over'), scaled_output['MT_vs_sdmass_down'].axis('mass').edges(overflow='over')),\n",
    "    errors = np.sqrt(scaled_output['MT_vs_sdmass_down'].values(sumw2=True, overflow='over')[('WJetsToLNu_Njet',)][1].T),\n",
    ")"
   ]
  },
  {
   "cell_type": "code",
   "execution_count": null,
   "id": "980acd9f",
   "metadata": {
    "scrolled": true
   },
   "outputs": [],
   "source": [
    "for b in range(0,4):\n",
    "    for j in range(0,10):\n",
    "        if MT_vs_sdmass_W_down.counts[b][j] == 0:\n",
    "            MT_vs_sdmass_W_down.counts[b][j] = 0.01\n",
    "            MT_vs_sdmass_W_down.errors[b][j] = 0.01"
   ]
  },
  {
   "cell_type": "code",
   "execution_count": null,
   "id": "3f90208a",
   "metadata": {
    "scrolled": true
   },
   "outputs": [],
   "source": [
    "MT_vs_sdmass_QCD_down = Hist2D.from_bincounts(\n",
    "     scaled_output['MT_vs_sdmass_down'].values(overflow='over')[('QCD_bEnriched_HT',)].T,\n",
    "    (scaled_output['MT_vs_sdmass_down'].axis('mt').edges(overflow='over'), scaled_output['MT_vs_sdmass_down'].axis('mass').edges(overflow='over')),\n",
    "    errors = np.sqrt(scaled_output['MT_vs_sdmass_down'].values(sumw2=True, overflow='over')[('QCD_bEnriched_HT',)][1].T),\n",
    ")"
   ]
  },
  {
   "cell_type": "code",
   "execution_count": null,
   "id": "2fda041c",
   "metadata": {
    "scrolled": true
   },
   "outputs": [],
   "source": [
    "for b in range(0,4):\n",
    "    for j in range(0,10):\n",
    "        if MT_vs_sdmass_QCD_down.counts[b][j] == 0:\n",
    "            MT_vs_sdmass_QCD_down.counts[b][j] = 0.01\n",
    "            MT_vs_sdmass_QCD_down.errors[b][j] = 0.01"
   ]
  },
  {
   "cell_type": "markdown",
   "id": "958d7e85",
   "metadata": {},
   "source": [
    "$~$"
   ]
  },
  {
   "cell_type": "code",
   "execution_count": null,
   "id": "39adc18d",
   "metadata": {
    "scrolled": true
   },
   "outputs": [],
   "source": [
    "differences_avg_1500_150 = abs((MT_vs_sdmass_1500_150_up-MT_vs_sdmass_1500_150_down).counts)/(2*MT_vs_sdmass_1500_150_central.counts)+1"
   ]
  },
  {
   "cell_type": "code",
   "execution_count": null,
   "id": "077ae1b0",
   "metadata": {
    "scrolled": true
   },
   "outputs": [],
   "source": [
    "differences_avg_1500_750 = abs((MT_vs_sdmass_1500_750_up-MT_vs_sdmass_1500_750_down).counts)/(2*MT_vs_sdmass_1500_750_central.counts)+1"
   ]
  },
  {
   "cell_type": "code",
   "execution_count": null,
   "id": "f7a841c0",
   "metadata": {
    "scrolled": true
   },
   "outputs": [],
   "source": [
    "differences_avg_1750_750 = abs((MT_vs_sdmass_1750_750_up-MT_vs_sdmass_1750_750_down).counts)/(2*MT_vs_sdmass_1750_750_central.counts)+1"
   ]
  },
  {
   "cell_type": "code",
   "execution_count": null,
   "id": "274f68f3",
   "metadata": {
    "scrolled": true
   },
   "outputs": [],
   "source": [
    "differences_avg_2000_750 = abs((MT_vs_sdmass_2000_750_up-MT_vs_sdmass_2000_750_down).counts)/(2*MT_vs_sdmass_2000_750_central.counts)+1"
   ]
  },
  {
   "cell_type": "code",
   "execution_count": null,
   "id": "7091a96c",
   "metadata": {
    "scrolled": true
   },
   "outputs": [],
   "source": [
    "differences_avg_Z = abs((MT_vs_sdmass_Z_up-MT_vs_sdmass_Z_down).counts)/(2*MT_vs_sdmass_Z_central.counts)+1"
   ]
  },
  {
   "cell_type": "code",
   "execution_count": null,
   "id": "deb83616",
   "metadata": {
    "scrolled": true
   },
   "outputs": [],
   "source": [
    "differences_avg_tt = abs((MT_vs_sdmass_tt_up-MT_vs_sdmass_tt_down).counts)/(2*MT_vs_sdmass_tt_central.counts)+1"
   ]
  },
  {
   "cell_type": "code",
   "execution_count": null,
   "id": "b028d783",
   "metadata": {
    "scrolled": true
   },
   "outputs": [],
   "source": [
    "differences_avg_W = abs((MT_vs_sdmass_W_up-MT_vs_sdmass_W_down).counts)/(2*MT_vs_sdmass_W_central.counts)+1"
   ]
  },
  {
   "cell_type": "code",
   "execution_count": null,
   "id": "57e948f6",
   "metadata": {
    "scrolled": true
   },
   "outputs": [],
   "source": [
    "differences_avg_QCD = abs((MT_vs_sdmass_QCD_up-MT_vs_sdmass_QCD_down).counts)/(2*MT_vs_sdmass_QCD_central.counts)+1"
   ]
  },
  {
   "cell_type": "markdown",
   "id": "f4d5cc5c",
   "metadata": {},
   "source": [
    "$~$"
   ]
  },
  {
   "cell_type": "code",
   "execution_count": null,
   "id": "e6645f32",
   "metadata": {
    "scrolled": true
   },
   "outputs": [],
   "source": [
    "MT_vs_sdmass_1500_150_0b_up = Hist2D.from_bincounts(\n",
    "    scaled_output['MT_vs_sdmass_central_0b_up'].values(overflow='over')[('2HDMa_sinp_0.35_tanb_1.0_mXd_10_MH3_1500_MH4_150_MH2_1500_MHC_1500',)].T,\n",
    "    (scaled_output['MT_vs_sdmass_central_0b_up'].axis('mt').edges(overflow='over'), scaled_output['MT_vs_sdmass_central_0b_up'].axis('mass').edges(overflow='over')),\n",
    "    errors = np.sqrt(scaled_output['MT_vs_sdmass_central_0b_up'].values(sumw2=True, overflow='over')[('2HDMa_sinp_0.35_tanb_1.0_mXd_10_MH3_1500_MH4_150_MH2_1500_MHC_1500',)][1].T),\n",
    ")"
   ]
  },
  {
   "cell_type": "code",
   "execution_count": null,
   "id": "f4725d91",
   "metadata": {
    "scrolled": true
   },
   "outputs": [],
   "source": [
    "for b in range(0,4):\n",
    "    for j in range(0,10):\n",
    "        if MT_vs_sdmass_1500_150_0b_up.counts[b][j] == 0:\n",
    "            MT_vs_sdmass_1500_150_0b_up.counts[b][j] = 0.01\n",
    "            MT_vs_sdmass_1500_150_0b_up.errors[b][j] = 0.01"
   ]
  },
  {
   "cell_type": "code",
   "execution_count": null,
   "id": "7f1395ba",
   "metadata": {
    "scrolled": true
   },
   "outputs": [],
   "source": [
    "MT_vs_sdmass_1500_750_0b_up = Hist2D.from_bincounts(\n",
    "    scaled_output['MT_vs_sdmass_central_0b_up'].values(overflow='over')[('2HDMa_sinp_0.35_tanb_1.0_mXd_10_MH3_1500_MH4_750_MH2_1500_MHC_1500',)].T,\n",
    "    (scaled_output['MT_vs_sdmass_central_0b_up'].axis('mt').edges(overflow='over'), scaled_output['MT_vs_sdmass_central_0b_up'].axis('mass').edges(overflow='over')),\n",
    "    errors = np.sqrt(scaled_output['MT_vs_sdmass_central_0b_up'].values(sumw2=True, overflow='over')[('2HDMa_sinp_0.35_tanb_1.0_mXd_10_MH3_1500_MH4_750_MH2_1500_MHC_1500',)][1].T),\n",
    ")"
   ]
  },
  {
   "cell_type": "code",
   "execution_count": null,
   "id": "bf3ec52b",
   "metadata": {
    "scrolled": true
   },
   "outputs": [],
   "source": [
    "for b in range(0,4):\n",
    "    for j in range(0,10):\n",
    "        if MT_vs_sdmass_1500_750_0b_up.counts[b][j] == 0:\n",
    "            MT_vs_sdmass_1500_750_0b_up.counts[b][j] = 0.01\n",
    "            MT_vs_sdmass_1500_750_0b_up.errors[b][j] = 0.01"
   ]
  },
  {
   "cell_type": "code",
   "execution_count": null,
   "id": "0ce2ca53",
   "metadata": {
    "scrolled": true
   },
   "outputs": [],
   "source": [
    "MT_vs_sdmass_1750_750_0b_up = Hist2D.from_bincounts(\n",
    "    scaled_output['MT_vs_sdmass_central_0b_up'].values(overflow='over')[('2HDMa_sinp_0.35_tanb_1.0_mXd_10_MH3_1750_MH4_750_MH2_1750_MHC_1750',)].T,\n",
    "    (scaled_output['MT_vs_sdmass_central_0b_up'].axis('mt').edges(overflow='over'), scaled_output['MT_vs_sdmass_central_0b_up'].axis('mass').edges(overflow='over')),\n",
    "    errors = np.sqrt(scaled_output['MT_vs_sdmass_central_0b_up'].values(sumw2=True, overflow='over')[('2HDMa_sinp_0.35_tanb_1.0_mXd_10_MH3_1750_MH4_750_MH2_1750_MHC_1750',)][1].T),\n",
    ")"
   ]
  },
  {
   "cell_type": "code",
   "execution_count": null,
   "id": "e5d1a500",
   "metadata": {
    "scrolled": true
   },
   "outputs": [],
   "source": [
    "for b in range(0,4):\n",
    "    for j in range(0,10):\n",
    "        if MT_vs_sdmass_1750_750_0b_up.counts[b][j] == 0:\n",
    "            MT_vs_sdmass_1750_750_0b_up.counts[b][j] = 0.01\n",
    "            MT_vs_sdmass_1750_750_0b_up.errors[b][j] = 0.01"
   ]
  },
  {
   "cell_type": "code",
   "execution_count": null,
   "id": "3761f4e5",
   "metadata": {
    "scrolled": true
   },
   "outputs": [],
   "source": [
    "MT_vs_sdmass_2000_750_0b_up = Hist2D.from_bincounts(\n",
    "    scaled_output['MT_vs_sdmass_central_0b_up'].values(overflow='over')[('2HDMa_sinp_0.35_tanb_1.0_mXd_10_MH3_2000_MH4_750_MH2_2000_MHC_2000',)].T,\n",
    "    (scaled_output['MT_vs_sdmass_central_0b_up'].axis('mt').edges(overflow='over'), scaled_output['MT_vs_sdmass_central_0b_up'].axis('mass').edges(overflow='over')),\n",
    "    errors = np.sqrt(scaled_output['MT_vs_sdmass_central_0b_up'].values(sumw2=True, overflow='over')[('2HDMa_sinp_0.35_tanb_1.0_mXd_10_MH3_2000_MH4_750_MH2_2000_MHC_2000',)][1].T),\n",
    ")"
   ]
  },
  {
   "cell_type": "code",
   "execution_count": null,
   "id": "523e1735",
   "metadata": {
    "scrolled": true
   },
   "outputs": [],
   "source": [
    "for b in range(0,4):\n",
    "    for j in range(0,10):\n",
    "        if MT_vs_sdmass_2000_750_0b_up.counts[b][j] == 0:\n",
    "            MT_vs_sdmass_2000_750_0b_up.counts[b][j] = 0.01\n",
    "            MT_vs_sdmass_2000_750_0b_up.errors[b][j] = 0.01"
   ]
  },
  {
   "cell_type": "code",
   "execution_count": null,
   "id": "49220285",
   "metadata": {
    "scrolled": true
   },
   "outputs": [],
   "source": [
    "MT_vs_sdmass_Z_0b_up = Hist2D.from_bincounts(\n",
    "     scaled_output['MT_vs_sdmass_central_0b_up'].values(overflow='over')[('ZJetsToNuNu_HT',)].T,\n",
    "    (scaled_output['MT_vs_sdmass_central_0b_up'].axis('mt').edges(overflow='over'), scaled_output['MT_vs_sdmass_central_0b_up'].axis('mass').edges(overflow='over')),\n",
    "    errors = np.sqrt(scaled_output['MT_vs_sdmass_central_0b_up'].values(sumw2=True, overflow='over')[('ZJetsToNuNu_HT',)][1].T),\n",
    ")"
   ]
  },
  {
   "cell_type": "code",
   "execution_count": null,
   "id": "564e5428",
   "metadata": {
    "scrolled": true
   },
   "outputs": [],
   "source": [
    "for b in range(0,4):\n",
    "    for j in range(0,10):\n",
    "        if MT_vs_sdmass_Z_0b_up.counts[b][j] == 0:\n",
    "            MT_vs_sdmass_Z_0b_up.counts[b][j] = 0.01\n",
    "            MT_vs_sdmass_Z_0b_up.errors[b][j] = 0.01"
   ]
  },
  {
   "cell_type": "code",
   "execution_count": null,
   "id": "29c2333e",
   "metadata": {
    "scrolled": true
   },
   "outputs": [],
   "source": [
    "MT_vs_sdmass_tt_0b_up = Hist2D.from_bincounts(\n",
    "     scaled_output['MT_vs_sdmass_central_0b_up'].values(overflow='over')[('TT',)].T,\n",
    "    (scaled_output['MT_vs_sdmass_central_0b_up'].axis('mt').edges(overflow='over'), scaled_output['MT_vs_sdmass_central_0b_up'].axis('mass').edges(overflow='over')),\n",
    "    errors = np.sqrt(scaled_output['MT_vs_sdmass_central_0b_up'].values(sumw2=True, overflow='over')[('TT',)][1].T),\n",
    ")"
   ]
  },
  {
   "cell_type": "code",
   "execution_count": null,
   "id": "f99bd783",
   "metadata": {
    "scrolled": true
   },
   "outputs": [],
   "source": [
    "for b in range(0,4):\n",
    "    for j in range(0,10):\n",
    "        if MT_vs_sdmass_tt_0b_up.counts[b][j] == 0:\n",
    "            MT_vs_sdmass_tt_0b_up.counts[b][j] = 0.01\n",
    "            MT_vs_sdmass_tt_0b_up.errors[b][j] = 0.01"
   ]
  },
  {
   "cell_type": "code",
   "execution_count": null,
   "id": "ca745380",
   "metadata": {
    "scrolled": true
   },
   "outputs": [],
   "source": [
    "MT_vs_sdmass_W_0b_up = Hist2D.from_bincounts(\n",
    "     scaled_output['MT_vs_sdmass_central_0b_up'].values(overflow='over')[('WJetsToLNu_Njet',)].T,\n",
    "    (scaled_output['MT_vs_sdmass_central_0b_up'].axis('mt').edges(overflow='over'), scaled_output['MT_vs_sdmass_central_0b_up'].axis('mass').edges(overflow='over')),\n",
    "    errors = np.sqrt(scaled_output['MT_vs_sdmass_central_0b_up'].values(sumw2=True, overflow='over')[('WJetsToLNu_Njet',)][1].T),\n",
    ")"
   ]
  },
  {
   "cell_type": "code",
   "execution_count": null,
   "id": "a844b4e5",
   "metadata": {
    "scrolled": true
   },
   "outputs": [],
   "source": [
    "for b in range(0,4):\n",
    "    for j in range(0,10):\n",
    "        if MT_vs_sdmass_W_0b_up.counts[b][j] == 0:\n",
    "            MT_vs_sdmass_W_0b_up.counts[b][j] = 0.01\n",
    "            MT_vs_sdmass_W_0b_up.errors[b][j] = 0.01"
   ]
  },
  {
   "cell_type": "code",
   "execution_count": null,
   "id": "0599d24a",
   "metadata": {
    "scrolled": true
   },
   "outputs": [],
   "source": [
    "MT_vs_sdmass_QCD_0b_up = Hist2D.from_bincounts(\n",
    "     scaled_output['MT_vs_sdmass_central_0b_up'].values(overflow='over')[('QCD_bEnriched_HT',)].T,\n",
    "    (scaled_output['MT_vs_sdmass_central_0b_up'].axis('mt').edges(overflow='over'), scaled_output['MT_vs_sdmass_central_0b_up'].axis('mass').edges(overflow='over')),\n",
    "    errors = np.sqrt(scaled_output['MT_vs_sdmass_central_0b_up'].values(sumw2=True, overflow='over')[('QCD_bEnriched_HT',)][1].T),\n",
    ")"
   ]
  },
  {
   "cell_type": "code",
   "execution_count": null,
   "id": "ddee3929",
   "metadata": {
    "scrolled": true
   },
   "outputs": [],
   "source": [
    "for b in range(0,4):\n",
    "    for j in range(0,10):\n",
    "        if MT_vs_sdmass_QCD_0b_up.counts[b][j] == 0:\n",
    "            MT_vs_sdmass_QCD_0b_up.counts[b][j] = 0.01\n",
    "            MT_vs_sdmass_QCD_0b_up.errors[b][j] = 0.01"
   ]
  },
  {
   "cell_type": "markdown",
   "id": "f10fbda7",
   "metadata": {},
   "source": [
    "$~$"
   ]
  },
  {
   "cell_type": "code",
   "execution_count": null,
   "id": "1813bb2c",
   "metadata": {
    "scrolled": true
   },
   "outputs": [],
   "source": [
    "MT_vs_sdmass_1500_150_0b_down = Hist2D.from_bincounts(\n",
    "    scaled_output['MT_vs_sdmass_central_0b_down'].values(overflow='over')[('2HDMa_sinp_0.35_tanb_1.0_mXd_10_MH3_1500_MH4_150_MH2_1500_MHC_1500',)].T,\n",
    "    (scaled_output['MT_vs_sdmass_central_0b_down'].axis('mt').edges(overflow='over'), scaled_output['MT_vs_sdmass_central_0b_down'].axis('mass').edges(overflow='over')),\n",
    "    errors = np.sqrt(scaled_output['MT_vs_sdmass_central_0b_down'].values(sumw2=True, overflow='over')[('2HDMa_sinp_0.35_tanb_1.0_mXd_10_MH3_1500_MH4_150_MH2_1500_MHC_1500',)][1].T),\n",
    ")"
   ]
  },
  {
   "cell_type": "code",
   "execution_count": null,
   "id": "5d359517",
   "metadata": {
    "scrolled": true
   },
   "outputs": [],
   "source": [
    "for b in range(0,4):\n",
    "    for j in range(0,10):\n",
    "        if MT_vs_sdmass_1500_150_0b_down.counts[b][j] == 0:\n",
    "            MT_vs_sdmass_1500_150_0b_down.counts[b][j] = 0.01\n",
    "            MT_vs_sdmass_1500_150_0b_down.errors[b][j] = 0.01"
   ]
  },
  {
   "cell_type": "code",
   "execution_count": null,
   "id": "c9870eaa",
   "metadata": {
    "scrolled": true
   },
   "outputs": [],
   "source": [
    "MT_vs_sdmass_1500_750_0b_down = Hist2D.from_bincounts(\n",
    "    scaled_output['MT_vs_sdmass_central_0b_down'].values(overflow='over')[('2HDMa_sinp_0.35_tanb_1.0_mXd_10_MH3_1500_MH4_750_MH2_1500_MHC_1500',)].T,\n",
    "    (scaled_output['MT_vs_sdmass_central_0b_down'].axis('mt').edges(overflow='over'), scaled_output['MT_vs_sdmass_central_0b_down'].axis('mass').edges(overflow='over')),\n",
    "    errors = np.sqrt(scaled_output['MT_vs_sdmass_central_0b_down'].values(sumw2=True, overflow='over')[('2HDMa_sinp_0.35_tanb_1.0_mXd_10_MH3_1500_MH4_750_MH2_1500_MHC_1500',)][1].T),\n",
    ")"
   ]
  },
  {
   "cell_type": "code",
   "execution_count": null,
   "id": "05a432de",
   "metadata": {
    "scrolled": true
   },
   "outputs": [],
   "source": [
    "for b in range(0,4):\n",
    "    for j in range(0,10):\n",
    "        if MT_vs_sdmass_1500_750_0b_down.counts[b][j] == 0:\n",
    "            MT_vs_sdmass_1500_750_0b_down.counts[b][j] = 0.01\n",
    "            MT_vs_sdmass_1500_750_0b_down.errors[b][j] = 0.01"
   ]
  },
  {
   "cell_type": "code",
   "execution_count": null,
   "id": "d1118a24",
   "metadata": {
    "scrolled": true
   },
   "outputs": [],
   "source": [
    "MT_vs_sdmass_1750_750_0b_down = Hist2D.from_bincounts(\n",
    "    scaled_output['MT_vs_sdmass_central_0b_down'].values(overflow='over')[('2HDMa_sinp_0.35_tanb_1.0_mXd_10_MH3_1750_MH4_750_MH2_1750_MHC_1750',)].T,\n",
    "    (scaled_output['MT_vs_sdmass_central_0b_down'].axis('mt').edges(overflow='over'), scaled_output['MT_vs_sdmass_central_0b_down'].axis('mass').edges(overflow='over')),\n",
    "    errors = np.sqrt(scaled_output['MT_vs_sdmass_central_0b_down'].values(sumw2=True, overflow='over')[('2HDMa_sinp_0.35_tanb_1.0_mXd_10_MH3_1750_MH4_750_MH2_1750_MHC_1750',)][1].T),\n",
    ")"
   ]
  },
  {
   "cell_type": "code",
   "execution_count": null,
   "id": "cc78b1e1",
   "metadata": {
    "scrolled": true
   },
   "outputs": [],
   "source": [
    "for b in range(0,4):\n",
    "    for j in range(0,10):\n",
    "        if MT_vs_sdmass_1750_750_0b_down.counts[b][j] == 0:\n",
    "            MT_vs_sdmass_1750_750_0b_down.counts[b][j] = 0.01\n",
    "            MT_vs_sdmass_1750_750_0b_down.errors[b][j] = 0.01"
   ]
  },
  {
   "cell_type": "code",
   "execution_count": null,
   "id": "6c016115",
   "metadata": {
    "scrolled": true
   },
   "outputs": [],
   "source": [
    "MT_vs_sdmass_2000_750_0b_down = Hist2D.from_bincounts(\n",
    "    scaled_output['MT_vs_sdmass_central_0b_down'].values(overflow='over')[('2HDMa_sinp_0.35_tanb_1.0_mXd_10_MH3_2000_MH4_750_MH2_2000_MHC_2000',)].T,\n",
    "    (scaled_output['MT_vs_sdmass_central_0b_down'].axis('mt').edges(overflow='over'), scaled_output['MT_vs_sdmass_central_0b_down'].axis('mass').edges(overflow='over')),\n",
    "    errors = np.sqrt(scaled_output['MT_vs_sdmass_central_0b_down'].values(sumw2=True, overflow='over')[('2HDMa_sinp_0.35_tanb_1.0_mXd_10_MH3_2000_MH4_750_MH2_2000_MHC_2000',)][1].T),\n",
    ")"
   ]
  },
  {
   "cell_type": "code",
   "execution_count": null,
   "id": "d0c2d402",
   "metadata": {
    "scrolled": true
   },
   "outputs": [],
   "source": [
    "for b in range(0,4):\n",
    "    for j in range(0,10):\n",
    "        if MT_vs_sdmass_2000_750_0b_down.counts[b][j] == 0:\n",
    "            MT_vs_sdmass_2000_750_0b_down.counts[b][j] = 0.01\n",
    "            MT_vs_sdmass_2000_750_0b_down.errors[b][j] = 0.01"
   ]
  },
  {
   "cell_type": "code",
   "execution_count": null,
   "id": "68d56c48",
   "metadata": {
    "scrolled": true
   },
   "outputs": [],
   "source": [
    "MT_vs_sdmass_Z_0b_down = Hist2D.from_bincounts(\n",
    "     scaled_output['MT_vs_sdmass_central_0b_down'].values(overflow='over')[('ZJetsToNuNu_HT',)].T,\n",
    "    (scaled_output['MT_vs_sdmass_central_0b_down'].axis('mt').edges(overflow='over'), scaled_output['MT_vs_sdmass_central_0b_down'].axis('mass').edges(overflow='over')),\n",
    "    errors = np.sqrt(scaled_output['MT_vs_sdmass_central_0b_down'].values(sumw2=True, overflow='over')[('ZJetsToNuNu_HT',)][1].T),\n",
    ")"
   ]
  },
  {
   "cell_type": "code",
   "execution_count": null,
   "id": "82cd2a1d",
   "metadata": {
    "scrolled": true
   },
   "outputs": [],
   "source": [
    "for b in range(0,4):\n",
    "    for j in range(0,10):\n",
    "        if MT_vs_sdmass_Z_0b_down.counts[b][j] == 0:\n",
    "            MT_vs_sdmass_Z_0b_down.counts[b][j] = 0.01\n",
    "            MT_vs_sdmass_Z_0b_down.errors[b][j] = 0.01"
   ]
  },
  {
   "cell_type": "code",
   "execution_count": null,
   "id": "849a58f0",
   "metadata": {
    "scrolled": true
   },
   "outputs": [],
   "source": [
    "MT_vs_sdmass_tt_0b_down = Hist2D.from_bincounts(\n",
    "     scaled_output['MT_vs_sdmass_central_0b_down'].values(overflow='over')[('TT',)].T,\n",
    "    (scaled_output['MT_vs_sdmass_central_0b_down'].axis('mt').edges(overflow='over'), scaled_output['MT_vs_sdmass_central_0b_down'].axis('mass').edges(overflow='over')),\n",
    "    errors = np.sqrt(scaled_output['MT_vs_sdmass_central_0b_down'].values(sumw2=True, overflow='over')[('TT',)][1].T),\n",
    ")"
   ]
  },
  {
   "cell_type": "code",
   "execution_count": null,
   "id": "f61e087d",
   "metadata": {
    "scrolled": true
   },
   "outputs": [],
   "source": [
    "for b in range(0,4):\n",
    "    for j in range(0,10):\n",
    "        if MT_vs_sdmass_tt_0b_down.counts[b][j] == 0:\n",
    "            MT_vs_sdmass_tt_0b_down.counts[b][j] = 0.01\n",
    "            MT_vs_sdmass_tt_0b_down.errors[b][j] = 0.01"
   ]
  },
  {
   "cell_type": "code",
   "execution_count": null,
   "id": "b637e9cb",
   "metadata": {
    "scrolled": true
   },
   "outputs": [],
   "source": [
    "MT_vs_sdmass_W_0b_down = Hist2D.from_bincounts(\n",
    "     scaled_output['MT_vs_sdmass_central_0b_down'].values(overflow='over')[('WJetsToLNu_Njet',)].T,\n",
    "    (scaled_output['MT_vs_sdmass_central_0b_down'].axis('mt').edges(overflow='over'), scaled_output['MT_vs_sdmass_central_0b_down'].axis('mass').edges(overflow='over')),\n",
    "    errors = np.sqrt(scaled_output['MT_vs_sdmass_central_0b_down'].values(sumw2=True, overflow='over')[('WJetsToLNu_Njet',)][1].T),\n",
    ")"
   ]
  },
  {
   "cell_type": "code",
   "execution_count": null,
   "id": "1494b45a",
   "metadata": {
    "scrolled": true
   },
   "outputs": [],
   "source": [
    "for b in range(0,4):\n",
    "    for j in range(0,10):\n",
    "        if MT_vs_sdmass_W_0b_down.counts[b][j] == 0:\n",
    "            MT_vs_sdmass_W_0b_down.counts[b][j] = 0.01\n",
    "            MT_vs_sdmass_W_0b_down.errors[b][j] = 0.01"
   ]
  },
  {
   "cell_type": "code",
   "execution_count": null,
   "id": "03d377db",
   "metadata": {
    "scrolled": true
   },
   "outputs": [],
   "source": [
    "MT_vs_sdmass_QCD_0b_down = Hist2D.from_bincounts(\n",
    "     scaled_output['MT_vs_sdmass_central_0b_down'].values(overflow='over')[('QCD_bEnriched_HT',)].T,\n",
    "    (scaled_output['MT_vs_sdmass_central_0b_down'].axis('mt').edges(overflow='over'), scaled_output['MT_vs_sdmass_central_0b_down'].axis('mass').edges(overflow='over')),\n",
    "    errors = np.sqrt(scaled_output['MT_vs_sdmass_central_0b_down'].values(sumw2=True, overflow='over')[('QCD_bEnriched_HT',)][1].T),\n",
    ")"
   ]
  },
  {
   "cell_type": "code",
   "execution_count": null,
   "id": "90da3be3",
   "metadata": {
    "scrolled": true
   },
   "outputs": [],
   "source": [
    "for b in range(0,4):\n",
    "    for j in range(0,10):\n",
    "        if MT_vs_sdmass_QCD_0b_down.counts[b][j] == 0:\n",
    "            MT_vs_sdmass_QCD_0b_down.counts[b][j] = 0.01\n",
    "            MT_vs_sdmass_QCD_0b_down.errors[b][j] = 0.01"
   ]
  },
  {
   "cell_type": "markdown",
   "id": "53b1a4f9",
   "metadata": {},
   "source": [
    "$~$"
   ]
  },
  {
   "cell_type": "code",
   "execution_count": null,
   "id": "a78fdbd8",
   "metadata": {
    "scrolled": true
   },
   "outputs": [],
   "source": [
    "differences_0b_avg_1500_150 = abs((MT_vs_sdmass_1500_150_0b_up-MT_vs_sdmass_1500_150_0b_down).counts)/(2*MT_vs_sdmass_1500_150_central.counts)+1"
   ]
  },
  {
   "cell_type": "code",
   "execution_count": null,
   "id": "0d84e785",
   "metadata": {
    "scrolled": true
   },
   "outputs": [],
   "source": [
    "differences_0b_avg_1500_750 = abs((MT_vs_sdmass_1500_750_0b_up-MT_vs_sdmass_1500_750_0b_down).counts)/(2*MT_vs_sdmass_1500_750_central.counts)+1"
   ]
  },
  {
   "cell_type": "code",
   "execution_count": null,
   "id": "62166f2f",
   "metadata": {
    "scrolled": true
   },
   "outputs": [],
   "source": [
    "differences_0b_avg_1750_750 = abs((MT_vs_sdmass_1750_750_0b_up-MT_vs_sdmass_1750_750_0b_down).counts)/(2*MT_vs_sdmass_1750_750_central.counts)+1"
   ]
  },
  {
   "cell_type": "code",
   "execution_count": null,
   "id": "3aeaae8b",
   "metadata": {
    "scrolled": true
   },
   "outputs": [],
   "source": [
    "differences_0b_avg_2000_750 = abs((MT_vs_sdmass_2000_750_0b_up-MT_vs_sdmass_2000_750_0b_down).counts)/(2*MT_vs_sdmass_2000_750_central.counts)+1"
   ]
  },
  {
   "cell_type": "code",
   "execution_count": null,
   "id": "93d0dfa7",
   "metadata": {
    "scrolled": true
   },
   "outputs": [],
   "source": [
    "differences_0b_avg_Z = abs((MT_vs_sdmass_Z_0b_up-MT_vs_sdmass_Z_0b_down).counts)/(2*MT_vs_sdmass_Z_central.counts)+1"
   ]
  },
  {
   "cell_type": "code",
   "execution_count": null,
   "id": "1c7a29e2",
   "metadata": {
    "scrolled": true
   },
   "outputs": [],
   "source": [
    "differences_0b_avg_tt = abs((MT_vs_sdmass_tt_0b_up-MT_vs_sdmass_tt_0b_down).counts)/(2*MT_vs_sdmass_tt_central.counts)+1"
   ]
  },
  {
   "cell_type": "code",
   "execution_count": null,
   "id": "311b7951",
   "metadata": {
    "scrolled": true
   },
   "outputs": [],
   "source": [
    "differences_0b_avg_W = abs((MT_vs_sdmass_W_0b_up-MT_vs_sdmass_W_0b_down).counts)/(2*MT_vs_sdmass_W_central.counts)+1"
   ]
  },
  {
   "cell_type": "code",
   "execution_count": null,
   "id": "a2b334cb",
   "metadata": {
    "scrolled": true
   },
   "outputs": [],
   "source": [
    "differences_0b_avg_QCD = abs((MT_vs_sdmass_QCD_0b_up-MT_vs_sdmass_QCD_0b_down).counts)/(2*MT_vs_sdmass_QCD_central.counts)+1"
   ]
  },
  {
   "cell_type": "markdown",
   "id": "c416ebac",
   "metadata": {},
   "source": [
    "$~$"
   ]
  },
  {
   "cell_type": "code",
   "execution_count": null,
   "id": "2fcea44a",
   "metadata": {
    "scrolled": true
   },
   "outputs": [],
   "source": [
    "MT_vs_sdmass_1500_150_1b_up = Hist2D.from_bincounts(\n",
    "    scaled_output['MT_vs_sdmass_central_1b_up'].values(overflow='over')[('2HDMa_sinp_0.35_tanb_1.0_mXd_10_MH3_1500_MH4_150_MH2_1500_MHC_1500',)].T,\n",
    "    (scaled_output['MT_vs_sdmass_central_1b_up'].axis('mt').edges(overflow='over'), scaled_output['MT_vs_sdmass_central_1b_up'].axis('mass').edges(overflow='over')),\n",
    "    errors = np.sqrt(scaled_output['MT_vs_sdmass_central_1b_up'].values(sumw2=True, overflow='over')[('2HDMa_sinp_0.35_tanb_1.0_mXd_10_MH3_1500_MH4_150_MH2_1500_MHC_1500',)][1].T),\n",
    ")"
   ]
  },
  {
   "cell_type": "code",
   "execution_count": null,
   "id": "31692337",
   "metadata": {
    "scrolled": true
   },
   "outputs": [],
   "source": [
    "for b in range(0,4):\n",
    "    for j in range(0,10):\n",
    "        if MT_vs_sdmass_1500_150_1b_up.counts[b][j] == 0:\n",
    "            MT_vs_sdmass_1500_150_1b_up.counts[b][j] = 0.01\n",
    "            MT_vs_sdmass_1500_150_1b_up.errors[b][j] = 0.01"
   ]
  },
  {
   "cell_type": "code",
   "execution_count": null,
   "id": "2c82f815",
   "metadata": {
    "scrolled": true
   },
   "outputs": [],
   "source": [
    "MT_vs_sdmass_1500_750_1b_up = Hist2D.from_bincounts(\n",
    "    scaled_output['MT_vs_sdmass_central_1b_up'].values(overflow='over')[('2HDMa_sinp_0.35_tanb_1.0_mXd_10_MH3_1500_MH4_750_MH2_1500_MHC_1500',)].T,\n",
    "    (scaled_output['MT_vs_sdmass_central_1b_up'].axis('mt').edges(overflow='over'), scaled_output['MT_vs_sdmass_central_1b_up'].axis('mass').edges(overflow='over')),\n",
    "    errors = np.sqrt(scaled_output['MT_vs_sdmass_central_1b_up'].values(sumw2=True, overflow='over')[('2HDMa_sinp_0.35_tanb_1.0_mXd_10_MH3_1500_MH4_750_MH2_1500_MHC_1500',)][1].T),\n",
    ")"
   ]
  },
  {
   "cell_type": "code",
   "execution_count": null,
   "id": "8902d927",
   "metadata": {
    "scrolled": true
   },
   "outputs": [],
   "source": [
    "for b in range(0,4):\n",
    "    for j in range(0,10):\n",
    "        if MT_vs_sdmass_1500_750_1b_up.counts[b][j] == 0:\n",
    "            MT_vs_sdmass_1500_750_1b_up.counts[b][j] = 0.01\n",
    "            MT_vs_sdmass_1500_750_1b_up.errors[b][j] = 0.01"
   ]
  },
  {
   "cell_type": "code",
   "execution_count": null,
   "id": "43f591e1",
   "metadata": {
    "scrolled": true
   },
   "outputs": [],
   "source": [
    "MT_vs_sdmass_1750_750_1b_up = Hist2D.from_bincounts(\n",
    "    scaled_output['MT_vs_sdmass_central_1b_up'].values(overflow='over')[('2HDMa_sinp_0.35_tanb_1.0_mXd_10_MH3_1750_MH4_750_MH2_1750_MHC_1750',)].T,\n",
    "    (scaled_output['MT_vs_sdmass_central_1b_up'].axis('mt').edges(overflow='over'), scaled_output['MT_vs_sdmass_central_1b_up'].axis('mass').edges(overflow='over')),\n",
    "    errors = np.sqrt(scaled_output['MT_vs_sdmass_central_1b_up'].values(sumw2=True, overflow='over')[('2HDMa_sinp_0.35_tanb_1.0_mXd_10_MH3_1750_MH4_750_MH2_1750_MHC_1750',)][1].T),\n",
    ")"
   ]
  },
  {
   "cell_type": "code",
   "execution_count": null,
   "id": "27d3dd3c",
   "metadata": {
    "scrolled": true
   },
   "outputs": [],
   "source": [
    "for b in range(0,4):\n",
    "    for j in range(0,10):\n",
    "        if MT_vs_sdmass_1750_750_1b_up.counts[b][j] == 0:\n",
    "            MT_vs_sdmass_1750_750_1b_up.counts[b][j] = 0.01\n",
    "            MT_vs_sdmass_1750_750_1b_up.errors[b][j] = 0.01"
   ]
  },
  {
   "cell_type": "code",
   "execution_count": null,
   "id": "bf80d5c4",
   "metadata": {
    "scrolled": true
   },
   "outputs": [],
   "source": [
    "MT_vs_sdmass_2000_750_1b_up = Hist2D.from_bincounts(\n",
    "    scaled_output['MT_vs_sdmass_central_1b_up'].values(overflow='over')[('2HDMa_sinp_0.35_tanb_1.0_mXd_10_MH3_2000_MH4_750_MH2_2000_MHC_2000',)].T,\n",
    "    (scaled_output['MT_vs_sdmass_central_1b_up'].axis('mt').edges(overflow='over'), scaled_output['MT_vs_sdmass_central_1b_up'].axis('mass').edges(overflow='over')),\n",
    "    errors = np.sqrt(scaled_output['MT_vs_sdmass_central_1b_up'].values(sumw2=True, overflow='over')[('2HDMa_sinp_0.35_tanb_1.0_mXd_10_MH3_2000_MH4_750_MH2_2000_MHC_2000',)][1].T),\n",
    ")"
   ]
  },
  {
   "cell_type": "code",
   "execution_count": null,
   "id": "fbf5a4ac",
   "metadata": {
    "scrolled": true
   },
   "outputs": [],
   "source": [
    "for b in range(0,4):\n",
    "    for j in range(0,10):\n",
    "        if MT_vs_sdmass_2000_750_1b_up.counts[b][j] == 0:\n",
    "            MT_vs_sdmass_2000_750_1b_up.counts[b][j] = 0.01\n",
    "            MT_vs_sdmass_2000_750_1b_up.errors[b][j] = 0.01"
   ]
  },
  {
   "cell_type": "code",
   "execution_count": null,
   "id": "79d98c47",
   "metadata": {
    "scrolled": true
   },
   "outputs": [],
   "source": [
    "MT_vs_sdmass_Z_1b_up = Hist2D.from_bincounts(\n",
    "     scaled_output['MT_vs_sdmass_central_1b_up'].values(overflow='over')[('ZJetsToNuNu_HT',)].T,\n",
    "    (scaled_output['MT_vs_sdmass_central_1b_up'].axis('mt').edges(overflow='over'), scaled_output['MT_vs_sdmass_central_1b_up'].axis('mass').edges(overflow='over')),\n",
    "    errors = np.sqrt(scaled_output['MT_vs_sdmass_central_1b_up'].values(sumw2=True, overflow='over')[('ZJetsToNuNu_HT',)][1].T),\n",
    ")"
   ]
  },
  {
   "cell_type": "code",
   "execution_count": null,
   "id": "577d5d35",
   "metadata": {
    "scrolled": true
   },
   "outputs": [],
   "source": [
    "for b in range(0,4):\n",
    "    for j in range(0,10):\n",
    "        if MT_vs_sdmass_Z_1b_up.counts[b][j] == 0:\n",
    "            MT_vs_sdmass_Z_1b_up.counts[b][j] = 0.01\n",
    "            MT_vs_sdmass_Z_1b_up.errors[b][j] = 0.01"
   ]
  },
  {
   "cell_type": "code",
   "execution_count": null,
   "id": "23d7bcd7",
   "metadata": {
    "scrolled": true
   },
   "outputs": [],
   "source": [
    "MT_vs_sdmass_tt_1b_up = Hist2D.from_bincounts(\n",
    "     scaled_output['MT_vs_sdmass_central_1b_up'].values(overflow='over')[('TT',)].T,\n",
    "    (scaled_output['MT_vs_sdmass_central_1b_up'].axis('mt').edges(overflow='over'), scaled_output['MT_vs_sdmass_central_1b_up'].axis('mass').edges(overflow='over')),\n",
    "    errors = np.sqrt(scaled_output['MT_vs_sdmass_central_1b_up'].values(sumw2=True, overflow='over')[('TT',)][1].T),\n",
    ")"
   ]
  },
  {
   "cell_type": "code",
   "execution_count": null,
   "id": "0c2474c4",
   "metadata": {
    "scrolled": true
   },
   "outputs": [],
   "source": [
    "for b in range(0,4):\n",
    "    for j in range(0,10):\n",
    "        if MT_vs_sdmass_tt_1b_up.counts[b][j] == 0:\n",
    "            MT_vs_sdmass_tt_1b_up.counts[b][j] = 0.01\n",
    "            MT_vs_sdmass_tt_1b_up.errors[b][j] = 0.01"
   ]
  },
  {
   "cell_type": "code",
   "execution_count": null,
   "id": "834809a4",
   "metadata": {
    "scrolled": true
   },
   "outputs": [],
   "source": [
    "MT_vs_sdmass_W_1b_up = Hist2D.from_bincounts(\n",
    "     scaled_output['MT_vs_sdmass_central_1b_up'].values(overflow='over')[('WJetsToLNu_Njet',)].T,\n",
    "    (scaled_output['MT_vs_sdmass_central_1b_up'].axis('mt').edges(overflow='over'), scaled_output['MT_vs_sdmass_central_1b_up'].axis('mass').edges(overflow='over')),\n",
    "    errors = np.sqrt(scaled_output['MT_vs_sdmass_central_1b_up'].values(sumw2=True, overflow='over')[('WJetsToLNu_Njet',)][1].T),\n",
    ")"
   ]
  },
  {
   "cell_type": "code",
   "execution_count": null,
   "id": "38299988",
   "metadata": {
    "scrolled": true
   },
   "outputs": [],
   "source": [
    "for b in range(0,4):\n",
    "    for j in range(0,10):\n",
    "        if MT_vs_sdmass_W_1b_up.counts[b][j] == 0:\n",
    "            MT_vs_sdmass_W_1b_up.counts[b][j] = 0.01\n",
    "            MT_vs_sdmass_W_1b_up.errors[b][j] = 0.01"
   ]
  },
  {
   "cell_type": "code",
   "execution_count": null,
   "id": "921f3612",
   "metadata": {
    "scrolled": true
   },
   "outputs": [],
   "source": [
    "MT_vs_sdmass_QCD_1b_up = Hist2D.from_bincounts(\n",
    "     scaled_output['MT_vs_sdmass_central_1b_up'].values(overflow='over')[('QCD_bEnriched_HT',)].T,\n",
    "    (scaled_output['MT_vs_sdmass_central_1b_up'].axis('mt').edges(overflow='over'), scaled_output['MT_vs_sdmass_central_1b_up'].axis('mass').edges(overflow='over')),\n",
    "    errors = np.sqrt(scaled_output['MT_vs_sdmass_central_1b_up'].values(sumw2=True, overflow='over')[('QCD_bEnriched_HT',)][1].T),\n",
    ")"
   ]
  },
  {
   "cell_type": "code",
   "execution_count": null,
   "id": "e83402db",
   "metadata": {
    "scrolled": true
   },
   "outputs": [],
   "source": [
    "for b in range(0,4):\n",
    "    for j in range(0,10):\n",
    "        if MT_vs_sdmass_QCD_1b_up.counts[b][j] == 0:\n",
    "            MT_vs_sdmass_QCD_1b_up.counts[b][j] = 0.01\n",
    "            MT_vs_sdmass_QCD_1b_up.errors[b][j] = 0.01"
   ]
  },
  {
   "cell_type": "markdown",
   "id": "ef079e1a",
   "metadata": {},
   "source": [
    "$~$"
   ]
  },
  {
   "cell_type": "code",
   "execution_count": null,
   "id": "8eadcb69",
   "metadata": {
    "scrolled": true
   },
   "outputs": [],
   "source": [
    "MT_vs_sdmass_1500_150_1b_down = Hist2D.from_bincounts(\n",
    "    scaled_output['MT_vs_sdmass_central_1b_down'].values(overflow='over')[('2HDMa_sinp_0.35_tanb_1.0_mXd_10_MH3_1500_MH4_150_MH2_1500_MHC_1500',)].T,\n",
    "    (scaled_output['MT_vs_sdmass_central_1b_down'].axis('mt').edges(overflow='over'), scaled_output['MT_vs_sdmass_central_1b_down'].axis('mass').edges(overflow='over')),\n",
    "    errors = np.sqrt(scaled_output['MT_vs_sdmass_central_1b_down'].values(sumw2=True, overflow='over')[('2HDMa_sinp_0.35_tanb_1.0_mXd_10_MH3_1500_MH4_150_MH2_1500_MHC_1500',)][1].T),\n",
    ")"
   ]
  },
  {
   "cell_type": "code",
   "execution_count": null,
   "id": "ab9478e4",
   "metadata": {
    "scrolled": true
   },
   "outputs": [],
   "source": [
    "for b in range(0,4):\n",
    "    for j in range(0,10):\n",
    "        if MT_vs_sdmass_1500_150_1b_down.counts[b][j] == 0:\n",
    "            MT_vs_sdmass_1500_150_1b_down.counts[b][j] = 0.01\n",
    "            MT_vs_sdmass_1500_150_1b_down.errors[b][j] = 0.01"
   ]
  },
  {
   "cell_type": "code",
   "execution_count": null,
   "id": "c259a084",
   "metadata": {
    "scrolled": true
   },
   "outputs": [],
   "source": [
    "MT_vs_sdmass_1500_750_1b_down = Hist2D.from_bincounts(\n",
    "    scaled_output['MT_vs_sdmass_central_1b_down'].values(overflow='over')[('2HDMa_sinp_0.35_tanb_1.0_mXd_10_MH3_1500_MH4_750_MH2_1500_MHC_1500',)].T,\n",
    "    (scaled_output['MT_vs_sdmass_central_1b_down'].axis('mt').edges(overflow='over'), scaled_output['MT_vs_sdmass_central_1b_down'].axis('mass').edges(overflow='over')),\n",
    "    errors = np.sqrt(scaled_output['MT_vs_sdmass_central_1b_down'].values(sumw2=True, overflow='over')[('2HDMa_sinp_0.35_tanb_1.0_mXd_10_MH3_1500_MH4_750_MH2_1500_MHC_1500',)][1].T),\n",
    ")"
   ]
  },
  {
   "cell_type": "code",
   "execution_count": null,
   "id": "e545ff93",
   "metadata": {
    "scrolled": true
   },
   "outputs": [],
   "source": [
    "for b in range(0,4):\n",
    "    for j in range(0,10):\n",
    "        if MT_vs_sdmass_1500_750_1b_down.counts[b][j] == 0:\n",
    "            MT_vs_sdmass_1500_750_1b_down.counts[b][j] = 0.01\n",
    "            MT_vs_sdmass_1500_750_1b_down.errors[b][j] = 0.01"
   ]
  },
  {
   "cell_type": "code",
   "execution_count": null,
   "id": "32445177",
   "metadata": {
    "scrolled": true
   },
   "outputs": [],
   "source": [
    "MT_vs_sdmass_1750_750_1b_down = Hist2D.from_bincounts(\n",
    "    scaled_output['MT_vs_sdmass_central_1b_down'].values(overflow='over')[('2HDMa_sinp_0.35_tanb_1.0_mXd_10_MH3_1750_MH4_750_MH2_1750_MHC_1750',)].T,\n",
    "    (scaled_output['MT_vs_sdmass_central_1b_down'].axis('mt').edges(overflow='over'), scaled_output['MT_vs_sdmass_central_1b_down'].axis('mass').edges(overflow='over')),\n",
    "    errors = np.sqrt(scaled_output['MT_vs_sdmass_central_1b_down'].values(sumw2=True, overflow='over')[('2HDMa_sinp_0.35_tanb_1.0_mXd_10_MH3_1750_MH4_750_MH2_1750_MHC_1750',)][1].T),\n",
    ")"
   ]
  },
  {
   "cell_type": "code",
   "execution_count": null,
   "id": "a664b08e",
   "metadata": {
    "scrolled": true
   },
   "outputs": [],
   "source": [
    "for b in range(0,4):\n",
    "    for j in range(0,10):\n",
    "        if MT_vs_sdmass_1750_750_1b_down.counts[b][j] == 0:\n",
    "            MT_vs_sdmass_1750_750_1b_down.counts[b][j] = 0.01\n",
    "            MT_vs_sdmass_1750_750_1b_down.errors[b][j] = 0.01"
   ]
  },
  {
   "cell_type": "code",
   "execution_count": null,
   "id": "69835ae4",
   "metadata": {
    "scrolled": true
   },
   "outputs": [],
   "source": [
    "MT_vs_sdmass_2000_750_1b_down = Hist2D.from_bincounts(\n",
    "    scaled_output['MT_vs_sdmass_central_1b_down'].values(overflow='over')[('2HDMa_sinp_0.35_tanb_1.0_mXd_10_MH3_2000_MH4_750_MH2_2000_MHC_2000',)].T,\n",
    "    (scaled_output['MT_vs_sdmass_central_1b_down'].axis('mt').edges(overflow='over'), scaled_output['MT_vs_sdmass_central_1b_down'].axis('mass').edges(overflow='over')),\n",
    "    errors = np.sqrt(scaled_output['MT_vs_sdmass_central_1b_down'].values(sumw2=True, overflow='over')[('2HDMa_sinp_0.35_tanb_1.0_mXd_10_MH3_2000_MH4_750_MH2_2000_MHC_2000',)][1].T),\n",
    ")"
   ]
  },
  {
   "cell_type": "code",
   "execution_count": null,
   "id": "e1e3691c",
   "metadata": {
    "scrolled": true
   },
   "outputs": [],
   "source": [
    "for b in range(0,4):\n",
    "    for j in range(0,10):\n",
    "        if MT_vs_sdmass_2000_750_1b_down.counts[b][j] == 0:\n",
    "            MT_vs_sdmass_2000_750_1b_down.counts[b][j] = 0.01\n",
    "            MT_vs_sdmass_2000_750_1b_down.errors[b][j] = 0.01"
   ]
  },
  {
   "cell_type": "code",
   "execution_count": null,
   "id": "67f42f33",
   "metadata": {
    "scrolled": true
   },
   "outputs": [],
   "source": [
    "MT_vs_sdmass_Z_1b_down = Hist2D.from_bincounts(\n",
    "     scaled_output['MT_vs_sdmass_central_1b_down'].values(overflow='over')[('ZJetsToNuNu_HT',)].T,\n",
    "    (scaled_output['MT_vs_sdmass_central_1b_down'].axis('mt').edges(overflow='over'), scaled_output['MT_vs_sdmass_central_1b_down'].axis('mass').edges(overflow='over')),\n",
    "    errors = np.sqrt(scaled_output['MT_vs_sdmass_central_1b_down'].values(sumw2=True, overflow='over')[('ZJetsToNuNu_HT',)][1].T),\n",
    ")"
   ]
  },
  {
   "cell_type": "code",
   "execution_count": null,
   "id": "b64d23a0",
   "metadata": {
    "scrolled": true
   },
   "outputs": [],
   "source": [
    "for b in range(0,4):\n",
    "    for j in range(0,10):\n",
    "        if MT_vs_sdmass_Z_1b_down.counts[b][j] == 0:\n",
    "            MT_vs_sdmass_Z_1b_down.counts[b][j] = 0.01\n",
    "            MT_vs_sdmass_Z_1b_down.errors[b][j] = 0.01"
   ]
  },
  {
   "cell_type": "code",
   "execution_count": null,
   "id": "bb9b937a",
   "metadata": {
    "scrolled": true
   },
   "outputs": [],
   "source": [
    "MT_vs_sdmass_tt_1b_down = Hist2D.from_bincounts(\n",
    "     scaled_output['MT_vs_sdmass_central_1b_down'].values(overflow='over')[('TT',)].T,\n",
    "    (scaled_output['MT_vs_sdmass_central_1b_down'].axis('mt').edges(overflow='over'), scaled_output['MT_vs_sdmass_central_1b_down'].axis('mass').edges(overflow='over')),\n",
    "    errors = np.sqrt(scaled_output['MT_vs_sdmass_central_1b_down'].values(sumw2=True, overflow='over')[('TT',)][1].T),\n",
    ")"
   ]
  },
  {
   "cell_type": "code",
   "execution_count": null,
   "id": "2421cb9a",
   "metadata": {
    "scrolled": true
   },
   "outputs": [],
   "source": [
    "for b in range(0,4):\n",
    "    for j in range(0,10):\n",
    "        if MT_vs_sdmass_tt_1b_down.counts[b][j] == 0:\n",
    "            MT_vs_sdmass_tt_1b_down.counts[b][j] = 0.01\n",
    "            MT_vs_sdmass_tt_1b_down.errors[b][j] = 0.01"
   ]
  },
  {
   "cell_type": "code",
   "execution_count": null,
   "id": "97d89cba",
   "metadata": {
    "scrolled": true
   },
   "outputs": [],
   "source": [
    "MT_vs_sdmass_W_1b_down = Hist2D.from_bincounts(\n",
    "     scaled_output['MT_vs_sdmass_central_1b_down'].values(overflow='over')[('WJetsToLNu_Njet',)].T,\n",
    "    (scaled_output['MT_vs_sdmass_central_1b_down'].axis('mt').edges(overflow='over'), scaled_output['MT_vs_sdmass_central_1b_down'].axis('mass').edges(overflow='over')),\n",
    "    errors = np.sqrt(scaled_output['MT_vs_sdmass_central_1b_down'].values(sumw2=True, overflow='over')[('WJetsToLNu_Njet',)][1].T),\n",
    ")"
   ]
  },
  {
   "cell_type": "code",
   "execution_count": null,
   "id": "367959b3",
   "metadata": {
    "scrolled": true
   },
   "outputs": [],
   "source": [
    "for b in range(0,4):\n",
    "    for j in range(0,10):\n",
    "        if MT_vs_sdmass_W_1b_down.counts[b][j] == 0:\n",
    "            MT_vs_sdmass_W_1b_down.counts[b][j] = 0.01\n",
    "            MT_vs_sdmass_W_1b_down.errors[b][j] = 0.01"
   ]
  },
  {
   "cell_type": "code",
   "execution_count": null,
   "id": "2561a116",
   "metadata": {
    "scrolled": true
   },
   "outputs": [],
   "source": [
    "MT_vs_sdmass_QCD_1b_down = Hist2D.from_bincounts(\n",
    "     scaled_output['MT_vs_sdmass_central_1b_down'].values(overflow='over')[('QCD_bEnriched_HT',)].T,\n",
    "    (scaled_output['MT_vs_sdmass_central_1b_down'].axis('mt').edges(overflow='over'), scaled_output['MT_vs_sdmass_central_1b_down'].axis('mass').edges(overflow='over')),\n",
    "    errors = np.sqrt(scaled_output['MT_vs_sdmass_central_1b_down'].values(sumw2=True, overflow='over')[('QCD_bEnriched_HT',)][1].T),\n",
    ")"
   ]
  },
  {
   "cell_type": "code",
   "execution_count": null,
   "id": "8640c32e",
   "metadata": {
    "scrolled": true
   },
   "outputs": [],
   "source": [
    "for b in range(0,4):\n",
    "    for j in range(0,10):\n",
    "        if MT_vs_sdmass_QCD_1b_down.counts[b][j] == 0:\n",
    "            MT_vs_sdmass_QCD_1b_down.counts[b][j] = 0.01\n",
    "            MT_vs_sdmass_QCD_1b_down.errors[b][j] = 0.01"
   ]
  },
  {
   "cell_type": "markdown",
   "id": "4882d47a",
   "metadata": {},
   "source": [
    "$~$"
   ]
  },
  {
   "cell_type": "code",
   "execution_count": null,
   "id": "6b30235e",
   "metadata": {
    "scrolled": true
   },
   "outputs": [],
   "source": [
    "differences_1b_avg_1500_150 = abs((MT_vs_sdmass_1500_150_1b_up-MT_vs_sdmass_1500_150_1b_down).counts)/(2*MT_vs_sdmass_1500_150_central.counts)+1"
   ]
  },
  {
   "cell_type": "code",
   "execution_count": null,
   "id": "fe183af6",
   "metadata": {
    "scrolled": true
   },
   "outputs": [],
   "source": [
    "differences_1b_avg_1500_750 = abs((MT_vs_sdmass_1500_750_1b_up-MT_vs_sdmass_1500_750_1b_down).counts)/(2*MT_vs_sdmass_1500_750_central.counts)+1"
   ]
  },
  {
   "cell_type": "code",
   "execution_count": null,
   "id": "ff7bf1c9",
   "metadata": {
    "scrolled": true
   },
   "outputs": [],
   "source": [
    "differences_1b_avg_1750_750 = abs((MT_vs_sdmass_1750_750_1b_up-MT_vs_sdmass_1750_750_1b_down).counts)/(2*MT_vs_sdmass_1750_750_central.counts)+1"
   ]
  },
  {
   "cell_type": "code",
   "execution_count": null,
   "id": "068d7623",
   "metadata": {
    "scrolled": true
   },
   "outputs": [],
   "source": [
    "differences_1b_avg_2000_750 = abs((MT_vs_sdmass_2000_750_1b_up-MT_vs_sdmass_2000_750_1b_down).counts)/(2*MT_vs_sdmass_2000_750_central.counts)+1"
   ]
  },
  {
   "cell_type": "code",
   "execution_count": null,
   "id": "0662afd8",
   "metadata": {
    "scrolled": true
   },
   "outputs": [],
   "source": [
    "differences_1b_avg_Z = abs((MT_vs_sdmass_Z_1b_up-MT_vs_sdmass_Z_1b_down).counts)/(2*MT_vs_sdmass_Z_central.counts)+1"
   ]
  },
  {
   "cell_type": "code",
   "execution_count": null,
   "id": "a6ff7f96",
   "metadata": {
    "scrolled": true
   },
   "outputs": [],
   "source": [
    "differences_1b_avg_tt = abs((MT_vs_sdmass_tt_1b_up-MT_vs_sdmass_tt_1b_down).counts)/(2*MT_vs_sdmass_tt_central.counts)+1"
   ]
  },
  {
   "cell_type": "code",
   "execution_count": null,
   "id": "f0fac46d",
   "metadata": {
    "scrolled": true
   },
   "outputs": [],
   "source": [
    "differences_1b_avg_W = abs((MT_vs_sdmass_W_1b_up-MT_vs_sdmass_W_1b_down).counts)/(2*MT_vs_sdmass_W_central.counts)+1"
   ]
  },
  {
   "cell_type": "code",
   "execution_count": null,
   "id": "4bad79f9",
   "metadata": {
    "scrolled": true
   },
   "outputs": [],
   "source": [
    "differences_1b_avg_QCD = abs((MT_vs_sdmass_QCD_1b_up-MT_vs_sdmass_QCD_1b_down).counts)/(2*MT_vs_sdmass_QCD_central.counts)+1"
   ]
  },
  {
   "cell_type": "markdown",
   "id": "9cbfa63e",
   "metadata": {},
   "source": [
    "$~$"
   ]
  },
  {
   "cell_type": "code",
   "execution_count": null,
   "id": "c12280f5",
   "metadata": {
    "scrolled": true
   },
   "outputs": [],
   "source": [
    "MT_vs_sdmass_1500_150_2b_up = Hist2D.from_bincounts(\n",
    "    scaled_output['MT_vs_sdmass_central_2b_up'].values(overflow='over')[('2HDMa_sinp_0.35_tanb_1.0_mXd_10_MH3_1500_MH4_150_MH2_1500_MHC_1500',)].T,\n",
    "    (scaled_output['MT_vs_sdmass_central_2b_up'].axis('mt').edges(overflow='over'), scaled_output['MT_vs_sdmass_central_2b_up'].axis('mass').edges(overflow='over')),\n",
    "    errors = np.sqrt(scaled_output['MT_vs_sdmass_central_2b_up'].values(sumw2=True, overflow='over')[('2HDMa_sinp_0.35_tanb_1.0_mXd_10_MH3_1500_MH4_150_MH2_1500_MHC_1500',)][1].T),\n",
    ")"
   ]
  },
  {
   "cell_type": "code",
   "execution_count": null,
   "id": "b6b7b5a4",
   "metadata": {
    "scrolled": true
   },
   "outputs": [],
   "source": [
    "for b in range(0,4):\n",
    "    for j in range(0,10):\n",
    "        if MT_vs_sdmass_1500_150_2b_up.counts[b][j] == 0:\n",
    "            MT_vs_sdmass_1500_150_2b_up.counts[b][j] = 0.01\n",
    "            MT_vs_sdmass_1500_150_2b_up.errors[b][j] = 0.01"
   ]
  },
  {
   "cell_type": "code",
   "execution_count": null,
   "id": "9eb6ddb8",
   "metadata": {
    "scrolled": true
   },
   "outputs": [],
   "source": [
    "MT_vs_sdmass_1500_750_2b_up = Hist2D.from_bincounts(\n",
    "    scaled_output['MT_vs_sdmass_central_2b_up'].values(overflow='over')[('2HDMa_sinp_0.35_tanb_1.0_mXd_10_MH3_1500_MH4_750_MH2_1500_MHC_1500',)].T,\n",
    "    (scaled_output['MT_vs_sdmass_central_2b_up'].axis('mt').edges(overflow='over'), scaled_output['MT_vs_sdmass_central_2b_up'].axis('mass').edges(overflow='over')),\n",
    "    errors = np.sqrt(scaled_output['MT_vs_sdmass_central_2b_up'].values(sumw2=True, overflow='over')[('2HDMa_sinp_0.35_tanb_1.0_mXd_10_MH3_1500_MH4_750_MH2_1500_MHC_1500',)][1].T),\n",
    ")"
   ]
  },
  {
   "cell_type": "code",
   "execution_count": null,
   "id": "c65cb772",
   "metadata": {
    "scrolled": true
   },
   "outputs": [],
   "source": [
    "for b in range(0,4):\n",
    "    for j in range(0,10):\n",
    "        if MT_vs_sdmass_1500_750_2b_up.counts[b][j] == 0:\n",
    "            MT_vs_sdmass_1500_750_2b_up.counts[b][j] = 0.01\n",
    "            MT_vs_sdmass_1500_750_2b_up.errors[b][j] = 0.01"
   ]
  },
  {
   "cell_type": "code",
   "execution_count": null,
   "id": "6ed9f204",
   "metadata": {
    "scrolled": true
   },
   "outputs": [],
   "source": [
    "MT_vs_sdmass_1750_750_2b_up = Hist2D.from_bincounts(\n",
    "    scaled_output['MT_vs_sdmass_central_2b_up'].values(overflow='over')[('2HDMa_sinp_0.35_tanb_1.0_mXd_10_MH3_1750_MH4_750_MH2_1750_MHC_1750',)].T,\n",
    "    (scaled_output['MT_vs_sdmass_central_2b_up'].axis('mt').edges(overflow='over'), scaled_output['MT_vs_sdmass_central_2b_up'].axis('mass').edges(overflow='over')),\n",
    "    errors = np.sqrt(scaled_output['MT_vs_sdmass_central_2b_up'].values(sumw2=True, overflow='over')[('2HDMa_sinp_0.35_tanb_1.0_mXd_10_MH3_1750_MH4_750_MH2_1750_MHC_1750',)][1].T),\n",
    ")"
   ]
  },
  {
   "cell_type": "code",
   "execution_count": null,
   "id": "956d3512",
   "metadata": {
    "scrolled": true
   },
   "outputs": [],
   "source": [
    "for b in range(0,4):\n",
    "    for j in range(0,10):\n",
    "        if MT_vs_sdmass_1750_750_2b_up.counts[b][j] == 0:\n",
    "            MT_vs_sdmass_1750_750_2b_up.counts[b][j] = 0.01\n",
    "            MT_vs_sdmass_1750_750_2b_up.errors[b][j] = 0.01"
   ]
  },
  {
   "cell_type": "code",
   "execution_count": null,
   "id": "1b35217d",
   "metadata": {
    "scrolled": true
   },
   "outputs": [],
   "source": [
    "MT_vs_sdmass_2000_750_2b_up = Hist2D.from_bincounts(\n",
    "    scaled_output['MT_vs_sdmass_central_2b_up'].values(overflow='over')[('2HDMa_sinp_0.35_tanb_1.0_mXd_10_MH3_2000_MH4_750_MH2_2000_MHC_2000',)].T,\n",
    "    (scaled_output['MT_vs_sdmass_central_2b_up'].axis('mt').edges(overflow='over'), scaled_output['MT_vs_sdmass_central_2b_up'].axis('mass').edges(overflow='over')),\n",
    "    errors = np.sqrt(scaled_output['MT_vs_sdmass_central_2b_up'].values(sumw2=True, overflow='over')[('2HDMa_sinp_0.35_tanb_1.0_mXd_10_MH3_2000_MH4_750_MH2_2000_MHC_2000',)][1].T),\n",
    ")"
   ]
  },
  {
   "cell_type": "code",
   "execution_count": null,
   "id": "5a18c3a9",
   "metadata": {
    "scrolled": true
   },
   "outputs": [],
   "source": [
    "for b in range(0,4):\n",
    "    for j in range(0,10):\n",
    "        if MT_vs_sdmass_2000_750_2b_up.counts[b][j] == 0:\n",
    "            MT_vs_sdmass_2000_750_2b_up.counts[b][j] = 0.01\n",
    "            MT_vs_sdmass_2000_750_2b_up.errors[b][j] = 0.01"
   ]
  },
  {
   "cell_type": "code",
   "execution_count": null,
   "id": "86def889",
   "metadata": {
    "scrolled": true
   },
   "outputs": [],
   "source": [
    "MT_vs_sdmass_Z_2b_up = Hist2D.from_bincounts(\n",
    "     scaled_output['MT_vs_sdmass_central_2b_up'].values(overflow='over')[('ZJetsToNuNu_HT',)].T,\n",
    "    (scaled_output['MT_vs_sdmass_central_2b_up'].axis('mt').edges(overflow='over'), scaled_output['MT_vs_sdmass_central_2b_up'].axis('mass').edges(overflow='over')),\n",
    "    errors = np.sqrt(scaled_output['MT_vs_sdmass_central_2b_up'].values(sumw2=True, overflow='over')[('ZJetsToNuNu_HT',)][1].T),\n",
    ")"
   ]
  },
  {
   "cell_type": "code",
   "execution_count": null,
   "id": "769fb7b1",
   "metadata": {
    "scrolled": true
   },
   "outputs": [],
   "source": [
    "for b in range(0,4):\n",
    "    for j in range(0,10):\n",
    "        if MT_vs_sdmass_Z_2b_up.counts[b][j] == 0:\n",
    "            MT_vs_sdmass_Z_2b_up.counts[b][j] = 0.01\n",
    "            MT_vs_sdmass_Z_2b_up.errors[b][j] = 0.01"
   ]
  },
  {
   "cell_type": "code",
   "execution_count": null,
   "id": "5984629e",
   "metadata": {
    "scrolled": true
   },
   "outputs": [],
   "source": [
    "MT_vs_sdmass_tt_2b_up = Hist2D.from_bincounts(\n",
    "     scaled_output['MT_vs_sdmass_central_2b_up'].values(overflow='over')[('TT',)].T,\n",
    "    (scaled_output['MT_vs_sdmass_central_2b_up'].axis('mt').edges(overflow='over'), scaled_output['MT_vs_sdmass_central_2b_up'].axis('mass').edges(overflow='over')),\n",
    "    errors = np.sqrt(scaled_output['MT_vs_sdmass_central_2b_up'].values(sumw2=True, overflow='over')[('TT',)][1].T),\n",
    ")"
   ]
  },
  {
   "cell_type": "code",
   "execution_count": null,
   "id": "b6b1bde2",
   "metadata": {
    "scrolled": true
   },
   "outputs": [],
   "source": [
    "for b in range(0,4):\n",
    "    for j in range(0,10):\n",
    "        if MT_vs_sdmass_tt_2b_up.counts[b][j] == 0:\n",
    "            MT_vs_sdmass_tt_2b_up.counts[b][j] = 0.01\n",
    "            MT_vs_sdmass_tt_2b_up.errors[b][j] = 0.01"
   ]
  },
  {
   "cell_type": "code",
   "execution_count": null,
   "id": "e5f83b60",
   "metadata": {
    "scrolled": true
   },
   "outputs": [],
   "source": [
    "MT_vs_sdmass_W_2b_up = Hist2D.from_bincounts(\n",
    "     scaled_output['MT_vs_sdmass_central_2b_up'].values(overflow='over')[('WJetsToLNu_Njet',)].T,\n",
    "    (scaled_output['MT_vs_sdmass_central_2b_up'].axis('mt').edges(overflow='over'), scaled_output['MT_vs_sdmass_central_2b_up'].axis('mass').edges(overflow='over')),\n",
    "    errors = np.sqrt(scaled_output['MT_vs_sdmass_central_2b_up'].values(sumw2=True, overflow='over')[('WJetsToLNu_Njet',)][1].T),\n",
    ")"
   ]
  },
  {
   "cell_type": "code",
   "execution_count": null,
   "id": "16bdb0ce",
   "metadata": {
    "scrolled": true
   },
   "outputs": [],
   "source": [
    "for b in range(0,4):\n",
    "    for j in range(0,10):\n",
    "        if MT_vs_sdmass_W_2b_up.counts[b][j] == 0:\n",
    "            MT_vs_sdmass_W_2b_up.counts[b][j] = 0.01\n",
    "            MT_vs_sdmass_W_2b_up.errors[b][j] = 0.01"
   ]
  },
  {
   "cell_type": "code",
   "execution_count": null,
   "id": "025ab3fb",
   "metadata": {
    "scrolled": true
   },
   "outputs": [],
   "source": [
    "MT_vs_sdmass_QCD_2b_up = Hist2D.from_bincounts(\n",
    "     scaled_output['MT_vs_sdmass_central_2b_up'].values(overflow='over')[('QCD_bEnriched_HT',)].T,\n",
    "    (scaled_output['MT_vs_sdmass_central_2b_up'].axis('mt').edges(overflow='over'), scaled_output['MT_vs_sdmass_central_2b_up'].axis('mass').edges(overflow='over')),\n",
    "    errors = np.sqrt(scaled_output['MT_vs_sdmass_central_2b_up'].values(sumw2=True, overflow='over')[('QCD_bEnriched_HT',)][1].T),\n",
    ")"
   ]
  },
  {
   "cell_type": "code",
   "execution_count": null,
   "id": "94bba2ae",
   "metadata": {
    "scrolled": true
   },
   "outputs": [],
   "source": [
    "for b in range(0,4):\n",
    "    for j in range(0,10):\n",
    "        if MT_vs_sdmass_QCD_2b_up.counts[b][j] == 0:\n",
    "            MT_vs_sdmass_QCD_2b_up.counts[b][j] = 0.01\n",
    "            MT_vs_sdmass_QCD_2b_up.errors[b][j] = 0.01"
   ]
  },
  {
   "cell_type": "markdown",
   "id": "e4539d31",
   "metadata": {},
   "source": [
    "$~$"
   ]
  },
  {
   "cell_type": "code",
   "execution_count": null,
   "id": "4ec13fc6",
   "metadata": {
    "scrolled": true
   },
   "outputs": [],
   "source": [
    "MT_vs_sdmass_1500_150_2b_down = Hist2D.from_bincounts(\n",
    "    scaled_output['MT_vs_sdmass_central_2b_down'].values(overflow='over')[('2HDMa_sinp_0.35_tanb_1.0_mXd_10_MH3_1500_MH4_150_MH2_1500_MHC_1500',)].T,\n",
    "    (scaled_output['MT_vs_sdmass_central_2b_down'].axis('mt').edges(overflow='over'), scaled_output['MT_vs_sdmass_central_2b_down'].axis('mass').edges(overflow='over')),\n",
    "    errors = np.sqrt(scaled_output['MT_vs_sdmass_central_2b_down'].values(sumw2=True, overflow='over')[('2HDMa_sinp_0.35_tanb_1.0_mXd_10_MH3_1500_MH4_150_MH2_1500_MHC_1500',)][1].T),\n",
    ")"
   ]
  },
  {
   "cell_type": "code",
   "execution_count": null,
   "id": "67335d47",
   "metadata": {
    "scrolled": true
   },
   "outputs": [],
   "source": [
    "for b in range(0,4):\n",
    "    for j in range(0,10):\n",
    "        if MT_vs_sdmass_1500_150_2b_down.counts[b][j] == 0:\n",
    "            MT_vs_sdmass_1500_150_2b_down.counts[b][j] = 0.01\n",
    "            MT_vs_sdmass_1500_150_2b_down.errors[b][j] = 0.01"
   ]
  },
  {
   "cell_type": "code",
   "execution_count": null,
   "id": "b917ec61",
   "metadata": {
    "scrolled": true
   },
   "outputs": [],
   "source": [
    "MT_vs_sdmass_1500_750_2b_down = Hist2D.from_bincounts(\n",
    "    scaled_output['MT_vs_sdmass_central_2b_down'].values(overflow='over')[('2HDMa_sinp_0.35_tanb_1.0_mXd_10_MH3_1500_MH4_750_MH2_1500_MHC_1500',)].T,\n",
    "    (scaled_output['MT_vs_sdmass_central_2b_down'].axis('mt').edges(overflow='over'), scaled_output['MT_vs_sdmass_central_2b_down'].axis('mass').edges(overflow='over')),\n",
    "    errors = np.sqrt(scaled_output['MT_vs_sdmass_central_2b_down'].values(sumw2=True, overflow='over')[('2HDMa_sinp_0.35_tanb_1.0_mXd_10_MH3_1500_MH4_750_MH2_1500_MHC_1500',)][1].T),\n",
    ")"
   ]
  },
  {
   "cell_type": "code",
   "execution_count": null,
   "id": "8606a4da",
   "metadata": {
    "scrolled": true
   },
   "outputs": [],
   "source": [
    "for b in range(0,4):\n",
    "    for j in range(0,10):\n",
    "        if MT_vs_sdmass_1500_750_2b_down.counts[b][j] == 0:\n",
    "            MT_vs_sdmass_1500_750_2b_down.counts[b][j] = 0.01\n",
    "            MT_vs_sdmass_1500_750_2b_down.errors[b][j] = 0.01"
   ]
  },
  {
   "cell_type": "code",
   "execution_count": null,
   "id": "ae6dbfa8",
   "metadata": {
    "scrolled": true
   },
   "outputs": [],
   "source": [
    "MT_vs_sdmass_1750_750_2b_down = Hist2D.from_bincounts(\n",
    "    scaled_output['MT_vs_sdmass_central_2b_down'].values(overflow='over')[('2HDMa_sinp_0.35_tanb_1.0_mXd_10_MH3_1750_MH4_750_MH2_1750_MHC_1750',)].T,\n",
    "    (scaled_output['MT_vs_sdmass_central_2b_down'].axis('mt').edges(overflow='over'), scaled_output['MT_vs_sdmass_central_2b_down'].axis('mass').edges(overflow='over')),\n",
    "    errors = np.sqrt(scaled_output['MT_vs_sdmass_central_2b_down'].values(sumw2=True, overflow='over')[('2HDMa_sinp_0.35_tanb_1.0_mXd_10_MH3_1750_MH4_750_MH2_1750_MHC_1750',)][1].T),\n",
    ")"
   ]
  },
  {
   "cell_type": "code",
   "execution_count": null,
   "id": "ea5a0036",
   "metadata": {
    "scrolled": true
   },
   "outputs": [],
   "source": [
    "for b in range(0,4):\n",
    "    for j in range(0,10):\n",
    "        if MT_vs_sdmass_1750_750_2b_down.counts[b][j] == 0:\n",
    "            MT_vs_sdmass_1750_750_2b_down.counts[b][j] = 0.01\n",
    "            MT_vs_sdmass_1750_750_2b_down.errors[b][j] = 0.01"
   ]
  },
  {
   "cell_type": "code",
   "execution_count": null,
   "id": "7ca816f5",
   "metadata": {
    "scrolled": true
   },
   "outputs": [],
   "source": [
    "MT_vs_sdmass_2000_750_2b_down = Hist2D.from_bincounts(\n",
    "    scaled_output['MT_vs_sdmass_central_2b_down'].values(overflow='over')[('2HDMa_sinp_0.35_tanb_1.0_mXd_10_MH3_2000_MH4_750_MH2_2000_MHC_2000',)].T,\n",
    "    (scaled_output['MT_vs_sdmass_central_2b_down'].axis('mt').edges(overflow='over'), scaled_output['MT_vs_sdmass_central_2b_down'].axis('mass').edges(overflow='over')),\n",
    "    errors = np.sqrt(scaled_output['MT_vs_sdmass_central_2b_down'].values(sumw2=True, overflow='over')[('2HDMa_sinp_0.35_tanb_1.0_mXd_10_MH3_2000_MH4_750_MH2_2000_MHC_2000',)][1].T),\n",
    ")"
   ]
  },
  {
   "cell_type": "code",
   "execution_count": null,
   "id": "55553e7b",
   "metadata": {
    "scrolled": true
   },
   "outputs": [],
   "source": [
    "for b in range(0,4):\n",
    "    for j in range(0,10):\n",
    "        if MT_vs_sdmass_2000_750_2b_down.counts[b][j] == 0:\n",
    "            MT_vs_sdmass_2000_750_2b_down.counts[b][j] = 0.01\n",
    "            MT_vs_sdmass_2000_750_2b_down.errors[b][j] = 0.01"
   ]
  },
  {
   "cell_type": "code",
   "execution_count": null,
   "id": "fac34703",
   "metadata": {
    "scrolled": true
   },
   "outputs": [],
   "source": [
    "MT_vs_sdmass_Z_2b_down = Hist2D.from_bincounts(\n",
    "     scaled_output['MT_vs_sdmass_central_2b_down'].values(overflow='over')[('ZJetsToNuNu_HT',)].T,\n",
    "    (scaled_output['MT_vs_sdmass_central_2b_down'].axis('mt').edges(overflow='over'), scaled_output['MT_vs_sdmass_central_2b_down'].axis('mass').edges(overflow='over')),\n",
    "    errors = np.sqrt(scaled_output['MT_vs_sdmass_central_2b_down'].values(sumw2=True, overflow='over')[('ZJetsToNuNu_HT',)][1].T),\n",
    ")"
   ]
  },
  {
   "cell_type": "code",
   "execution_count": null,
   "id": "2687615a",
   "metadata": {
    "scrolled": true
   },
   "outputs": [],
   "source": [
    "for b in range(0,4):\n",
    "    for j in range(0,10):\n",
    "        if MT_vs_sdmass_Z_2b_down.counts[b][j] == 0:\n",
    "            MT_vs_sdmass_Z_2b_down.counts[b][j] = 0.01\n",
    "            MT_vs_sdmass_Z_2b_down.errors[b][j] = 0.01"
   ]
  },
  {
   "cell_type": "code",
   "execution_count": null,
   "id": "f14dee13",
   "metadata": {
    "scrolled": true
   },
   "outputs": [],
   "source": [
    "MT_vs_sdmass_tt_2b_down = Hist2D.from_bincounts(\n",
    "     scaled_output['MT_vs_sdmass_central_2b_down'].values(overflow='over')[('TT',)].T,\n",
    "    (scaled_output['MT_vs_sdmass_central_2b_down'].axis('mt').edges(overflow='over'), scaled_output['MT_vs_sdmass_central_2b_down'].axis('mass').edges(overflow='over')),\n",
    "    errors = np.sqrt(scaled_output['MT_vs_sdmass_central_2b_down'].values(sumw2=True, overflow='over')[('TT',)][1].T),\n",
    ")"
   ]
  },
  {
   "cell_type": "code",
   "execution_count": null,
   "id": "d020d988",
   "metadata": {
    "scrolled": true
   },
   "outputs": [],
   "source": [
    "for b in range(0,4):\n",
    "    for j in range(0,10):\n",
    "        if MT_vs_sdmass_tt_2b_down.counts[b][j] == 0:\n",
    "            MT_vs_sdmass_tt_2b_down.counts[b][j] = 0.01\n",
    "            MT_vs_sdmass_tt_2b_down.errors[b][j] = 0.01"
   ]
  },
  {
   "cell_type": "code",
   "execution_count": null,
   "id": "78267a48",
   "metadata": {
    "scrolled": true
   },
   "outputs": [],
   "source": [
    "MT_vs_sdmass_W_2b_down = Hist2D.from_bincounts(\n",
    "     scaled_output['MT_vs_sdmass_central_2b_down'].values(overflow='over')[('WJetsToLNu_Njet',)].T,\n",
    "    (scaled_output['MT_vs_sdmass_central_2b_down'].axis('mt').edges(overflow='over'), scaled_output['MT_vs_sdmass_central_2b_down'].axis('mass').edges(overflow='over')),\n",
    "    errors = np.sqrt(scaled_output['MT_vs_sdmass_central_2b_down'].values(sumw2=True, overflow='over')[('WJetsToLNu_Njet',)][1].T),\n",
    ")"
   ]
  },
  {
   "cell_type": "code",
   "execution_count": null,
   "id": "37282b55",
   "metadata": {
    "scrolled": true
   },
   "outputs": [],
   "source": [
    "for b in range(0,4):\n",
    "    for j in range(0,10):\n",
    "        if MT_vs_sdmass_W_2b_down.counts[b][j] == 0:\n",
    "            MT_vs_sdmass_W_2b_down.counts[b][j] = 0.01\n",
    "            MT_vs_sdmass_W_2b_down.errors[b][j] = 0.01"
   ]
  },
  {
   "cell_type": "code",
   "execution_count": null,
   "id": "64c29185",
   "metadata": {
    "scrolled": true
   },
   "outputs": [],
   "source": [
    "MT_vs_sdmass_QCD_2b_down = Hist2D.from_bincounts(\n",
    "     scaled_output['MT_vs_sdmass_central_2b_down'].values(overflow='over')[('QCD_bEnriched_HT',)].T,\n",
    "    (scaled_output['MT_vs_sdmass_central_2b_down'].axis('mt').edges(overflow='over'), scaled_output['MT_vs_sdmass_central_2b_down'].axis('mass').edges(overflow='over')),\n",
    "    errors = np.sqrt(scaled_output['MT_vs_sdmass_central_2b_down'].values(sumw2=True, overflow='over')[('QCD_bEnriched_HT',)][1].T),\n",
    ")"
   ]
  },
  {
   "cell_type": "code",
   "execution_count": null,
   "id": "6e5eb243",
   "metadata": {
    "scrolled": true
   },
   "outputs": [],
   "source": [
    "for b in range(0,4):\n",
    "    for j in range(0,10):\n",
    "        if MT_vs_sdmass_QCD_2b_down.counts[b][j] == 0:\n",
    "            MT_vs_sdmass_QCD_2b_down.counts[b][j] = 0.01\n",
    "            MT_vs_sdmass_QCD_2b_down.errors[b][j] = 0.01"
   ]
  },
  {
   "cell_type": "markdown",
   "id": "d9f76105",
   "metadata": {},
   "source": [
    "$~$"
   ]
  },
  {
   "cell_type": "code",
   "execution_count": null,
   "id": "4d3b0051",
   "metadata": {
    "scrolled": true
   },
   "outputs": [],
   "source": [
    "differences_2b_avg_1500_150 = abs((MT_vs_sdmass_1500_150_2b_up-MT_vs_sdmass_1500_150_2b_down).counts)/(2*MT_vs_sdmass_1500_150_central.counts)+1"
   ]
  },
  {
   "cell_type": "code",
   "execution_count": null,
   "id": "49735c53",
   "metadata": {
    "scrolled": true
   },
   "outputs": [],
   "source": [
    "differences_2b_avg_1500_750 = abs((MT_vs_sdmass_1500_750_2b_up-MT_vs_sdmass_1500_750_2b_down).counts)/(2*MT_vs_sdmass_1500_750_central.counts)+1"
   ]
  },
  {
   "cell_type": "code",
   "execution_count": null,
   "id": "e4e11d9b",
   "metadata": {
    "scrolled": true
   },
   "outputs": [],
   "source": [
    "differences_2b_avg_1750_750 = abs((MT_vs_sdmass_1750_750_2b_up-MT_vs_sdmass_1750_750_2b_down).counts)/(2*MT_vs_sdmass_1750_750_central.counts)+1"
   ]
  },
  {
   "cell_type": "code",
   "execution_count": null,
   "id": "8130a724",
   "metadata": {
    "scrolled": true
   },
   "outputs": [],
   "source": [
    "differences_2b_avg_2000_750 = abs((MT_vs_sdmass_2000_750_2b_up-MT_vs_sdmass_2000_750_2b_down).counts)/(2*MT_vs_sdmass_2000_750_central.counts)+1"
   ]
  },
  {
   "cell_type": "code",
   "execution_count": null,
   "id": "dff50f14",
   "metadata": {
    "scrolled": true
   },
   "outputs": [],
   "source": [
    "differences_2b_avg_Z = abs((MT_vs_sdmass_Z_2b_up-MT_vs_sdmass_Z_2b_down).counts)/(2*MT_vs_sdmass_Z_central.counts)+1"
   ]
  },
  {
   "cell_type": "code",
   "execution_count": null,
   "id": "c15a7090",
   "metadata": {
    "scrolled": true
   },
   "outputs": [],
   "source": [
    "differences_2b_avg_tt = abs((MT_vs_sdmass_tt_2b_up-MT_vs_sdmass_tt_2b_down).counts)/(2*MT_vs_sdmass_tt_central.counts)+1"
   ]
  },
  {
   "cell_type": "code",
   "execution_count": null,
   "id": "aed09426",
   "metadata": {
    "scrolled": true
   },
   "outputs": [],
   "source": [
    "differences_2b_avg_W = abs((MT_vs_sdmass_W_2b_up-MT_vs_sdmass_W_2b_down).counts)/(2*MT_vs_sdmass_W_central.counts)+1"
   ]
  },
  {
   "cell_type": "code",
   "execution_count": null,
   "id": "54ce0488",
   "metadata": {
    "scrolled": true
   },
   "outputs": [],
   "source": [
    "differences_2b_avg_QCD = abs((MT_vs_sdmass_QCD_2b_up-MT_vs_sdmass_QCD_2b_down).counts)/(2*MT_vs_sdmass_QCD_central.counts)+1"
   ]
  },
  {
   "cell_type": "markdown",
   "id": "3c32a8ce",
   "metadata": {},
   "source": [
    "$~$"
   ]
  },
  {
   "cell_type": "code",
   "execution_count": null,
   "id": "57f22c21",
   "metadata": {
    "scrolled": true
   },
   "outputs": [],
   "source": [
    "MT_vs_sdmass_1500_150_1h_up = Hist2D.from_bincounts(\n",
    "    scaled_output['MT_vs_sdmass_central_1h_up'].values(overflow='over')[('2HDMa_sinp_0.35_tanb_1.0_mXd_10_MH3_1500_MH4_150_MH2_1500_MHC_1500',)].T,\n",
    "    (scaled_output['MT_vs_sdmass_central_1h_up'].axis('mt').edges(overflow='over'), scaled_output['MT_vs_sdmass_central_1h_up'].axis('mass').edges(overflow='over')),\n",
    "    errors = np.sqrt(scaled_output['MT_vs_sdmass_central_1h_up'].values(sumw2=True, overflow='over')[('2HDMa_sinp_0.35_tanb_1.0_mXd_10_MH3_1500_MH4_150_MH2_1500_MHC_1500',)][1].T),\n",
    ")"
   ]
  },
  {
   "cell_type": "code",
   "execution_count": null,
   "id": "4c1ed2c3",
   "metadata": {
    "scrolled": true
   },
   "outputs": [],
   "source": [
    "for b in range(0,4):\n",
    "    for j in range(0,10):\n",
    "        if MT_vs_sdmass_1500_150_1h_up.counts[b][j] == 0:\n",
    "            MT_vs_sdmass_1500_150_1h_up.counts[b][j] = 0.01\n",
    "            MT_vs_sdmass_1500_150_1h_up.errors[b][j] = 0.01"
   ]
  },
  {
   "cell_type": "code",
   "execution_count": null,
   "id": "ece09d4d",
   "metadata": {
    "scrolled": true
   },
   "outputs": [],
   "source": [
    "MT_vs_sdmass_1500_750_1h_up = Hist2D.from_bincounts(\n",
    "    scaled_output['MT_vs_sdmass_central_1h_up'].values(overflow='over')[('2HDMa_sinp_0.35_tanb_1.0_mXd_10_MH3_1500_MH4_750_MH2_1500_MHC_1500',)].T,\n",
    "    (scaled_output['MT_vs_sdmass_central_1h_up'].axis('mt').edges(overflow='over'), scaled_output['MT_vs_sdmass_central_1h_up'].axis('mass').edges(overflow='over')),\n",
    "    errors = np.sqrt(scaled_output['MT_vs_sdmass_central_1h_up'].values(sumw2=True, overflow='over')[('2HDMa_sinp_0.35_tanb_1.0_mXd_10_MH3_1500_MH4_750_MH2_1500_MHC_1500',)][1].T),\n",
    ")"
   ]
  },
  {
   "cell_type": "code",
   "execution_count": null,
   "id": "414a6247",
   "metadata": {
    "scrolled": true
   },
   "outputs": [],
   "source": [
    "for b in range(0,4):\n",
    "    for j in range(0,10):\n",
    "        if MT_vs_sdmass_1500_750_1h_up.counts[b][j] == 0:\n",
    "            MT_vs_sdmass_1500_750_1h_up.counts[b][j] = 0.01\n",
    "            MT_vs_sdmass_1500_750_1h_up.errors[b][j] = 0.01"
   ]
  },
  {
   "cell_type": "code",
   "execution_count": null,
   "id": "6dd7d459",
   "metadata": {
    "scrolled": true
   },
   "outputs": [],
   "source": [
    "MT_vs_sdmass_1750_750_1h_up = Hist2D.from_bincounts(\n",
    "    scaled_output['MT_vs_sdmass_central_1h_up'].values(overflow='over')[('2HDMa_sinp_0.35_tanb_1.0_mXd_10_MH3_1750_MH4_750_MH2_1750_MHC_1750',)].T,\n",
    "    (scaled_output['MT_vs_sdmass_central_1h_up'].axis('mt').edges(overflow='over'), scaled_output['MT_vs_sdmass_central_1h_up'].axis('mass').edges(overflow='over')),\n",
    "    errors = np.sqrt(scaled_output['MT_vs_sdmass_central_1h_up'].values(sumw2=True, overflow='over')[('2HDMa_sinp_0.35_tanb_1.0_mXd_10_MH3_1750_MH4_750_MH2_1750_MHC_1750',)][1].T),\n",
    ")"
   ]
  },
  {
   "cell_type": "code",
   "execution_count": null,
   "id": "962e21d8",
   "metadata": {
    "scrolled": true
   },
   "outputs": [],
   "source": [
    "for b in range(0,4):\n",
    "    for j in range(0,10):\n",
    "        if MT_vs_sdmass_1750_750_1h_up.counts[b][j] == 0:\n",
    "            MT_vs_sdmass_1750_750_1h_up.counts[b][j] = 0.01\n",
    "            MT_vs_sdmass_1750_750_1h_up.errors[b][j] = 0.01"
   ]
  },
  {
   "cell_type": "code",
   "execution_count": null,
   "id": "7b26d9e8",
   "metadata": {
    "scrolled": true
   },
   "outputs": [],
   "source": [
    "MT_vs_sdmass_2000_750_1h_up = Hist2D.from_bincounts(\n",
    "    scaled_output['MT_vs_sdmass_central_1h_up'].values(overflow='over')[('2HDMa_sinp_0.35_tanb_1.0_mXd_10_MH3_2000_MH4_750_MH2_2000_MHC_2000',)].T,\n",
    "    (scaled_output['MT_vs_sdmass_central_1h_up'].axis('mt').edges(overflow='over'), scaled_output['MT_vs_sdmass_central_1h_up'].axis('mass').edges(overflow='over')),\n",
    "    errors = np.sqrt(scaled_output['MT_vs_sdmass_central_1h_up'].values(sumw2=True, overflow='over')[('2HDMa_sinp_0.35_tanb_1.0_mXd_10_MH3_2000_MH4_750_MH2_2000_MHC_2000',)][1].T),\n",
    ")"
   ]
  },
  {
   "cell_type": "code",
   "execution_count": null,
   "id": "d2297e51",
   "metadata": {
    "scrolled": true
   },
   "outputs": [],
   "source": [
    "for b in range(0,4):\n",
    "    for j in range(0,10):\n",
    "        if MT_vs_sdmass_2000_750_1h_up.counts[b][j] == 0:\n",
    "            MT_vs_sdmass_2000_750_1h_up.counts[b][j] = 0.01\n",
    "            MT_vs_sdmass_2000_750_1h_up.errors[b][j] = 0.01"
   ]
  },
  {
   "cell_type": "code",
   "execution_count": null,
   "id": "652dbb49",
   "metadata": {
    "scrolled": true
   },
   "outputs": [],
   "source": [
    "MT_vs_sdmass_Z_1h_up = Hist2D.from_bincounts(\n",
    "     scaled_output['MT_vs_sdmass_central_1h_up'].values(overflow='over')[('ZJetsToNuNu_HT',)].T,\n",
    "    (scaled_output['MT_vs_sdmass_central_1h_up'].axis('mt').edges(overflow='over'), scaled_output['MT_vs_sdmass_central_1h_up'].axis('mass').edges(overflow='over')),\n",
    "    errors = np.sqrt(scaled_output['MT_vs_sdmass_central_1h_up'].values(sumw2=True, overflow='over')[('ZJetsToNuNu_HT',)][1].T),\n",
    ")"
   ]
  },
  {
   "cell_type": "code",
   "execution_count": null,
   "id": "81d56a7c",
   "metadata": {
    "scrolled": true
   },
   "outputs": [],
   "source": [
    "for b in range(0,4):\n",
    "    for j in range(0,10):\n",
    "        if MT_vs_sdmass_Z_1h_up.counts[b][j] == 0:\n",
    "            MT_vs_sdmass_Z_1h_up.counts[b][j] = 0.01\n",
    "            MT_vs_sdmass_Z_1h_up.errors[b][j] = 0.01"
   ]
  },
  {
   "cell_type": "code",
   "execution_count": null,
   "id": "555e8ad1",
   "metadata": {
    "scrolled": true
   },
   "outputs": [],
   "source": [
    "MT_vs_sdmass_tt_1h_up = Hist2D.from_bincounts(\n",
    "     scaled_output['MT_vs_sdmass_central_1h_up'].values(overflow='over')[('TT',)].T,\n",
    "    (scaled_output['MT_vs_sdmass_central_1h_up'].axis('mt').edges(overflow='over'), scaled_output['MT_vs_sdmass_central_1h_up'].axis('mass').edges(overflow='over')),\n",
    "    errors = np.sqrt(scaled_output['MT_vs_sdmass_central_1h_up'].values(sumw2=True, overflow='over')[('TT',)][1].T),\n",
    ")"
   ]
  },
  {
   "cell_type": "code",
   "execution_count": null,
   "id": "a3a05812",
   "metadata": {
    "scrolled": true
   },
   "outputs": [],
   "source": [
    "for b in range(0,4):\n",
    "    for j in range(0,10):\n",
    "        if MT_vs_sdmass_tt_1h_up.counts[b][j] == 0:\n",
    "            MT_vs_sdmass_tt_1h_up.counts[b][j] = 0.01\n",
    "            MT_vs_sdmass_tt_1h_up.errors[b][j] = 0.01"
   ]
  },
  {
   "cell_type": "code",
   "execution_count": null,
   "id": "8808659f",
   "metadata": {
    "scrolled": true
   },
   "outputs": [],
   "source": [
    "MT_vs_sdmass_W_1h_up = Hist2D.from_bincounts(\n",
    "     scaled_output['MT_vs_sdmass_central_1h_up'].values(overflow='over')[('WJetsToLNu_Njet',)].T,\n",
    "    (scaled_output['MT_vs_sdmass_central_1h_up'].axis('mt').edges(overflow='over'), scaled_output['MT_vs_sdmass_central_1h_up'].axis('mass').edges(overflow='over')),\n",
    "    errors = np.sqrt(scaled_output['MT_vs_sdmass_central_1h_up'].values(sumw2=True, overflow='over')[('WJetsToLNu_Njet',)][1].T),\n",
    ")"
   ]
  },
  {
   "cell_type": "code",
   "execution_count": null,
   "id": "ef303108",
   "metadata": {
    "scrolled": true
   },
   "outputs": [],
   "source": [
    "for b in range(0,4):\n",
    "    for j in range(0,10):\n",
    "        if MT_vs_sdmass_W_1h_up.counts[b][j] == 0:\n",
    "            MT_vs_sdmass_W_1h_up.counts[b][j] = 0.01\n",
    "            MT_vs_sdmass_W_1h_up.errors[b][j] = 0.01"
   ]
  },
  {
   "cell_type": "code",
   "execution_count": null,
   "id": "bb3e0990",
   "metadata": {
    "scrolled": true
   },
   "outputs": [],
   "source": [
    "MT_vs_sdmass_QCD_1h_up = Hist2D.from_bincounts(\n",
    "     scaled_output['MT_vs_sdmass_central_1h_up'].values(overflow='over')[('QCD_bEnriched_HT',)].T,\n",
    "    (scaled_output['MT_vs_sdmass_central_1h_up'].axis('mt').edges(overflow='over'), scaled_output['MT_vs_sdmass_central_1h_up'].axis('mass').edges(overflow='over')),\n",
    "    errors = np.sqrt(scaled_output['MT_vs_sdmass_central_1h_up'].values(sumw2=True, overflow='over')[('QCD_bEnriched_HT',)][1].T),\n",
    ")"
   ]
  },
  {
   "cell_type": "code",
   "execution_count": null,
   "id": "ffeed213",
   "metadata": {
    "scrolled": true
   },
   "outputs": [],
   "source": [
    "for b in range(0,4):\n",
    "    for j in range(0,10):\n",
    "        if MT_vs_sdmass_QCD_1h_up.counts[b][j] == 0:\n",
    "            MT_vs_sdmass_QCD_1h_up.counts[b][j] = 0.01\n",
    "            MT_vs_sdmass_QCD_1h_up.errors[b][j] = 0.01"
   ]
  },
  {
   "cell_type": "markdown",
   "id": "d82119e9",
   "metadata": {},
   "source": [
    "$~$"
   ]
  },
  {
   "cell_type": "code",
   "execution_count": null,
   "id": "e526505e",
   "metadata": {
    "scrolled": true
   },
   "outputs": [],
   "source": [
    "MT_vs_sdmass_1500_150_1h_down = Hist2D.from_bincounts(\n",
    "    scaled_output['MT_vs_sdmass_central_1h_down'].values(overflow='over')[('2HDMa_sinp_0.35_tanb_1.0_mXd_10_MH3_1500_MH4_150_MH2_1500_MHC_1500',)].T,\n",
    "    (scaled_output['MT_vs_sdmass_central_1h_down'].axis('mt').edges(overflow='over'), scaled_output['MT_vs_sdmass_central_1h_down'].axis('mass').edges(overflow='over')),\n",
    "    errors = np.sqrt(scaled_output['MT_vs_sdmass_central_1h_down'].values(sumw2=True, overflow='over')[('2HDMa_sinp_0.35_tanb_1.0_mXd_10_MH3_1500_MH4_150_MH2_1500_MHC_1500',)][1].T),\n",
    ")"
   ]
  },
  {
   "cell_type": "code",
   "execution_count": null,
   "id": "a4018f75",
   "metadata": {
    "scrolled": true
   },
   "outputs": [],
   "source": [
    "for b in range(0,4):\n",
    "    for j in range(0,10):\n",
    "        if MT_vs_sdmass_1500_150_1h_down.counts[b][j] == 0:\n",
    "            MT_vs_sdmass_1500_150_1h_down.counts[b][j] = 0.01\n",
    "            MT_vs_sdmass_1500_150_1h_down.errors[b][j] = 0.01"
   ]
  },
  {
   "cell_type": "code",
   "execution_count": null,
   "id": "d5ba7082",
   "metadata": {
    "scrolled": true
   },
   "outputs": [],
   "source": [
    "MT_vs_sdmass_1500_750_1h_down = Hist2D.from_bincounts(\n",
    "    scaled_output['MT_vs_sdmass_central_1h_down'].values(overflow='over')[('2HDMa_sinp_0.35_tanb_1.0_mXd_10_MH3_1500_MH4_750_MH2_1500_MHC_1500',)].T,\n",
    "    (scaled_output['MT_vs_sdmass_central_1h_down'].axis('mt').edges(overflow='over'), scaled_output['MT_vs_sdmass_central_1h_down'].axis('mass').edges(overflow='over')),\n",
    "    errors = np.sqrt(scaled_output['MT_vs_sdmass_central_1h_down'].values(sumw2=True, overflow='over')[('2HDMa_sinp_0.35_tanb_1.0_mXd_10_MH3_1500_MH4_750_MH2_1500_MHC_1500',)][1].T),\n",
    ")"
   ]
  },
  {
   "cell_type": "code",
   "execution_count": null,
   "id": "dc7e818f",
   "metadata": {
    "scrolled": true
   },
   "outputs": [],
   "source": [
    "for b in range(0,4):\n",
    "    for j in range(0,10):\n",
    "        if MT_vs_sdmass_1500_750_1h_down.counts[b][j] == 0:\n",
    "            MT_vs_sdmass_1500_750_1h_down.counts[b][j] = 0.01\n",
    "            MT_vs_sdmass_1500_750_1h_down.errors[b][j] = 0.01"
   ]
  },
  {
   "cell_type": "code",
   "execution_count": null,
   "id": "32ccaaa3",
   "metadata": {
    "scrolled": true
   },
   "outputs": [],
   "source": [
    "MT_vs_sdmass_1750_750_1h_down = Hist2D.from_bincounts(\n",
    "    scaled_output['MT_vs_sdmass_central_1h_down'].values(overflow='over')[('2HDMa_sinp_0.35_tanb_1.0_mXd_10_MH3_1750_MH4_750_MH2_1750_MHC_1750',)].T,\n",
    "    (scaled_output['MT_vs_sdmass_central_1h_down'].axis('mt').edges(overflow='over'), scaled_output['MT_vs_sdmass_central_1h_down'].axis('mass').edges(overflow='over')),\n",
    "    errors = np.sqrt(scaled_output['MT_vs_sdmass_central_1h_down'].values(sumw2=True, overflow='over')[('2HDMa_sinp_0.35_tanb_1.0_mXd_10_MH3_1750_MH4_750_MH2_1750_MHC_1750',)][1].T),\n",
    ")"
   ]
  },
  {
   "cell_type": "code",
   "execution_count": null,
   "id": "4d8993f1",
   "metadata": {
    "scrolled": true
   },
   "outputs": [],
   "source": [
    "for b in range(0,4):\n",
    "    for j in range(0,10):\n",
    "        if MT_vs_sdmass_1750_750_1h_down.counts[b][j] == 0:\n",
    "            MT_vs_sdmass_1750_750_1h_down.counts[b][j] = 0.01\n",
    "            MT_vs_sdmass_1750_750_1h_down.errors[b][j] = 0.01"
   ]
  },
  {
   "cell_type": "code",
   "execution_count": null,
   "id": "16da5801",
   "metadata": {
    "scrolled": true
   },
   "outputs": [],
   "source": [
    "MT_vs_sdmass_2000_750_1h_down = Hist2D.from_bincounts(\n",
    "    scaled_output['MT_vs_sdmass_central_1h_down'].values(overflow='over')[('2HDMa_sinp_0.35_tanb_1.0_mXd_10_MH3_2000_MH4_750_MH2_2000_MHC_2000',)].T,\n",
    "    (scaled_output['MT_vs_sdmass_central_1h_down'].axis('mt').edges(overflow='over'), scaled_output['MT_vs_sdmass_central_1h_down'].axis('mass').edges(overflow='over')),\n",
    "    errors = np.sqrt(scaled_output['MT_vs_sdmass_central_1h_down'].values(sumw2=True, overflow='over')[('2HDMa_sinp_0.35_tanb_1.0_mXd_10_MH3_2000_MH4_750_MH2_2000_MHC_2000',)][1].T),\n",
    ")"
   ]
  },
  {
   "cell_type": "code",
   "execution_count": null,
   "id": "968de94e",
   "metadata": {
    "scrolled": true
   },
   "outputs": [],
   "source": [
    "for b in range(0,4):\n",
    "    for j in range(0,10):\n",
    "        if MT_vs_sdmass_2000_750_1h_down.counts[b][j] == 0:\n",
    "            MT_vs_sdmass_2000_750_1h_down.counts[b][j] = 0.01\n",
    "            MT_vs_sdmass_2000_750_1h_down.errors[b][j] = 0.01"
   ]
  },
  {
   "cell_type": "code",
   "execution_count": null,
   "id": "6e54ac37",
   "metadata": {
    "scrolled": true
   },
   "outputs": [],
   "source": [
    "MT_vs_sdmass_Z_1h_down = Hist2D.from_bincounts(\n",
    "     scaled_output['MT_vs_sdmass_central_1h_down'].values(overflow='over')[('ZJetsToNuNu_HT',)].T,\n",
    "    (scaled_output['MT_vs_sdmass_central_1h_down'].axis('mt').edges(overflow='over'), scaled_output['MT_vs_sdmass_central_1h_down'].axis('mass').edges(overflow='over')),\n",
    "    errors = np.sqrt(scaled_output['MT_vs_sdmass_central_1h_down'].values(sumw2=True, overflow='over')[('ZJetsToNuNu_HT',)][1].T),\n",
    ")"
   ]
  },
  {
   "cell_type": "code",
   "execution_count": null,
   "id": "1fb1b1f1",
   "metadata": {
    "scrolled": true
   },
   "outputs": [],
   "source": [
    "for b in range(0,4):\n",
    "    for j in range(0,10):\n",
    "        if MT_vs_sdmass_Z_1h_down.counts[b][j] == 0:\n",
    "            MT_vs_sdmass_Z_1h_down.counts[b][j] = 0.01\n",
    "            MT_vs_sdmass_Z_1h_down.errors[b][j] = 0.01"
   ]
  },
  {
   "cell_type": "code",
   "execution_count": null,
   "id": "c8f9488e",
   "metadata": {
    "scrolled": true
   },
   "outputs": [],
   "source": [
    "MT_vs_sdmass_tt_1h_down = Hist2D.from_bincounts(\n",
    "     scaled_output['MT_vs_sdmass_central_1h_down'].values(overflow='over')[('TT',)].T,\n",
    "    (scaled_output['MT_vs_sdmass_central_1h_down'].axis('mt').edges(overflow='over'), scaled_output['MT_vs_sdmass_central_1h_down'].axis('mass').edges(overflow='over')),\n",
    "    errors = np.sqrt(scaled_output['MT_vs_sdmass_central_1h_down'].values(sumw2=True, overflow='over')[('TT',)][1].T),\n",
    ")"
   ]
  },
  {
   "cell_type": "code",
   "execution_count": null,
   "id": "39e1504f",
   "metadata": {
    "scrolled": true
   },
   "outputs": [],
   "source": [
    "for b in range(0,4):\n",
    "    for j in range(0,10):\n",
    "        if MT_vs_sdmass_tt_1h_down.counts[b][j] == 0:\n",
    "            MT_vs_sdmass_tt_1h_down.counts[b][j] = 0.01\n",
    "            MT_vs_sdmass_tt_1h_down.errors[b][j] = 0.01"
   ]
  },
  {
   "cell_type": "code",
   "execution_count": null,
   "id": "b6fc3609",
   "metadata": {
    "scrolled": true
   },
   "outputs": [],
   "source": [
    "MT_vs_sdmass_W_1h_down = Hist2D.from_bincounts(\n",
    "     scaled_output['MT_vs_sdmass_central_1h_down'].values(overflow='over')[('WJetsToLNu_Njet',)].T,\n",
    "    (scaled_output['MT_vs_sdmass_central_1h_down'].axis('mt').edges(overflow='over'), scaled_output['MT_vs_sdmass_central_1h_down'].axis('mass').edges(overflow='over')),\n",
    "    errors = np.sqrt(scaled_output['MT_vs_sdmass_central_1h_down'].values(sumw2=True, overflow='over')[('WJetsToLNu_Njet',)][1].T),\n",
    ")"
   ]
  },
  {
   "cell_type": "code",
   "execution_count": null,
   "id": "fbe706bd",
   "metadata": {
    "scrolled": true
   },
   "outputs": [],
   "source": [
    "for b in range(0,4):\n",
    "    for j in range(0,10):\n",
    "        if MT_vs_sdmass_W_1h_down.counts[b][j] == 0:\n",
    "            MT_vs_sdmass_W_1h_down.counts[b][j] = 0.01\n",
    "            MT_vs_sdmass_W_1h_down.errors[b][j] = 0.01"
   ]
  },
  {
   "cell_type": "code",
   "execution_count": null,
   "id": "1d9aeb89",
   "metadata": {
    "scrolled": true
   },
   "outputs": [],
   "source": [
    "MT_vs_sdmass_QCD_1h_down = Hist2D.from_bincounts(\n",
    "     scaled_output['MT_vs_sdmass_central_1h_down'].values(overflow='over')[('QCD_bEnriched_HT',)].T,\n",
    "    (scaled_output['MT_vs_sdmass_central_1h_down'].axis('mt').edges(overflow='over'), scaled_output['MT_vs_sdmass_central_1h_down'].axis('mass').edges(overflow='over')),\n",
    "    errors = np.sqrt(scaled_output['MT_vs_sdmass_central_1h_down'].values(sumw2=True, overflow='over')[('QCD_bEnriched_HT',)][1].T),\n",
    ")"
   ]
  },
  {
   "cell_type": "code",
   "execution_count": null,
   "id": "a58dcee8",
   "metadata": {
    "scrolled": true
   },
   "outputs": [],
   "source": [
    "for b in range(0,4):\n",
    "    for j in range(0,10):\n",
    "        if MT_vs_sdmass_QCD_1h_down.counts[b][j] == 0:\n",
    "            MT_vs_sdmass_QCD_1h_down.counts[b][j] = 0.01\n",
    "            MT_vs_sdmass_QCD_1h_down.errors[b][j] = 0.01"
   ]
  },
  {
   "cell_type": "markdown",
   "id": "e59fe765",
   "metadata": {},
   "source": [
    "$~$"
   ]
  },
  {
   "cell_type": "code",
   "execution_count": null,
   "id": "05b4b1c3",
   "metadata": {
    "scrolled": true
   },
   "outputs": [],
   "source": [
    "differences_1h_avg_1500_150 = abs((MT_vs_sdmass_1500_150_1h_up-MT_vs_sdmass_1500_150_1h_down).counts)/(2*MT_vs_sdmass_1500_150_central.counts)+1"
   ]
  },
  {
   "cell_type": "code",
   "execution_count": null,
   "id": "d9d86c57",
   "metadata": {
    "scrolled": true
   },
   "outputs": [],
   "source": [
    "differences_1h_avg_1500_750 = abs((MT_vs_sdmass_1500_750_1h_up-MT_vs_sdmass_1500_750_1h_down).counts)/(2*MT_vs_sdmass_1500_750_central.counts)+1"
   ]
  },
  {
   "cell_type": "code",
   "execution_count": null,
   "id": "8da10873",
   "metadata": {
    "scrolled": true
   },
   "outputs": [],
   "source": [
    "differences_1h_avg_1750_750 = abs((MT_vs_sdmass_1750_750_1h_up-MT_vs_sdmass_1750_750_1h_down).counts)/(2*MT_vs_sdmass_1750_750_central.counts)+1"
   ]
  },
  {
   "cell_type": "code",
   "execution_count": null,
   "id": "e8ae93fc",
   "metadata": {
    "scrolled": true
   },
   "outputs": [],
   "source": [
    "differences_1h_avg_2000_750 = abs((MT_vs_sdmass_2000_750_1h_up-MT_vs_sdmass_2000_750_1h_down).counts)/(2*MT_vs_sdmass_2000_750_central.counts)+1"
   ]
  },
  {
   "cell_type": "code",
   "execution_count": null,
   "id": "b1fd408a",
   "metadata": {
    "scrolled": true
   },
   "outputs": [],
   "source": [
    "differences_1h_avg_Z = abs((MT_vs_sdmass_Z_1h_up-MT_vs_sdmass_Z_1h_down).counts)/(2*MT_vs_sdmass_1500_150_central.counts)+1"
   ]
  },
  {
   "cell_type": "code",
   "execution_count": null,
   "id": "34aff108",
   "metadata": {
    "scrolled": true
   },
   "outputs": [],
   "source": [
    "differences_1h_avg_tt = abs((MT_vs_sdmass_tt_1h_up-MT_vs_sdmass_tt_1h_down).counts)/(2*MT_vs_sdmass_1500_150_central.counts)+1"
   ]
  },
  {
   "cell_type": "code",
   "execution_count": null,
   "id": "1958a276",
   "metadata": {
    "scrolled": true
   },
   "outputs": [],
   "source": [
    "differences_1h_avg_W = abs((MT_vs_sdmass_W_1h_up-MT_vs_sdmass_W_1h_down).counts)/(2*MT_vs_sdmass_1500_150_central.counts)+1"
   ]
  },
  {
   "cell_type": "code",
   "execution_count": null,
   "id": "0d526ac1",
   "metadata": {
    "scrolled": true
   },
   "outputs": [],
   "source": [
    "differences_1h_avg_QCD = abs((MT_vs_sdmass_QCD_1h_up-MT_vs_sdmass_QCD_1h_down).counts)/(2*MT_vs_sdmass_1500_150_central.counts)+1"
   ]
  },
  {
   "cell_type": "markdown",
   "id": "dc45fb30",
   "metadata": {},
   "source": [
    "## datacards"
   ]
  },
  {
   "cell_type": "code",
   "execution_count": null,
   "id": "926e7d8b",
   "metadata": {
    "scrolled": true
   },
   "outputs": [],
   "source": [
    "from tools.dataCard import dataCard\n",
    "\n",
    "c = dataCard()\n",
    "c.setPrecision(3)\n",
    "\n",
    "c.addUncertainty('lumi',        'lnN')\n",
    "c.addUncertainty('signal_unc', 'lnN')\n",
    "c.addUncertainty('QCD_unc', 'lnN')\n",
    "c.addUncertainty('Wjets_unc', 'lnN')\n",
    "c.addUncertainty('Zinv_unc', 'lnN')\n",
    "c.addUncertainty('tt_unc', 'lnN')\n",
    "c.addUncertainty('JES',        'lnN')\n",
    "c.addUncertainty('0b',         'lnN')\n",
    "c.addUncertainty('1b',         'lnN')\n",
    "c.addUncertainty('2b',         'lnN')\n",
    "c.addUncertainty('1h',         'lnN')\n",
    "\n",
    "binnum = 0\n",
    "\n",
    "for b in range(0,4):\n",
    "    for j in range(0,10):\n",
    "        binname = 'bin'+str(binnum)\n",
    "        Binname = str(b+1)+'_'+str(j+1)\n",
    "        binnum += 1\n",
    "        c.addBin(binname, ['Wjets', 'QCD', 'tt', 'Zjets'], Binname) # signal is automatically added\n",
    "        \n",
    "        processes = {'signal': MT_vs_sdmass_1500_150_central, 'QCD': MT_vs_sdmass_QCD_central, 'Wjets': MT_vs_sdmass_W_central, 'tt': MT_vs_sdmass_tt_central, 'Zjets': MT_vs_sdmass_Z_central}\n",
    "        for process in processes:\n",
    "            uname = 'Stat_'+binname+'_'+process\n",
    "            c.addUncertainty(uname, 'lnN')\n",
    "            c.specifyUncertainty(uname, binname, process, round(1+processes[process].errors[b][j]/processes[process].counts[b][j], 3))\n",
    "        \n",
    "        c.specifyExpectation(binname, 'signal',  round(MT_vs_sdmass_1500_150_central.counts[b][j], 3))\n",
    "        c.specifyExpectation(binname, 'QCD',    round(MT_vs_sdmass_QCD_central.counts[b][j], 3))\n",
    "        c.specifyExpectation(binname, 'Wjets',    round(MT_vs_sdmass_W_central.counts[b][j], 3))\n",
    "        c.specifyExpectation(binname, 'tt',    round(MT_vs_sdmass_tt_central.counts[b][j], 3))\n",
    "        c.specifyExpectation(binname, 'Zjets',    round(MT_vs_sdmass_Z_central.counts[b][j], 3))\n",
    "\n",
    "        c.specifyUncertainty('signal_unc', binname, 'signal', 1.20)\n",
    "        c.specifyUncertainty('QCD_unc',    binname, 'QCD',   1.50)\n",
    "        c.specifyUncertainty('Wjets_unc',    binname, 'Wjets',   1.25)\n",
    "        c.specifyUncertainty('Zinv_unc',   binname, 'Zjets',   1.25)\n",
    "        c.specifyUncertainty('tt_unc',   binname, 'tt',   1.25)\n",
    "        \n",
    "        c.specifyUncertainty('JES', binname, 'signal', differences_avg_1500_150[b][j])\n",
    "        c.specifyUncertainty('JES', binname, 'QCD',   differences_avg_QCD[b][j])\n",
    "        c.specifyUncertainty('JES', binname, 'Wjets',   differences_avg_W[b][j])\n",
    "        c.specifyUncertainty('JES', binname, 'tt',  differences_avg_tt[b][j])\n",
    "        c.specifyUncertainty('JES', binname, 'Zjets',  differences_avg_Z[b][j])\n",
    "        \n",
    "        c.specifyUncertainty('0b', binname, 'signal', differences_0b_avg_1500_150[b][j])\n",
    "        c.specifyUncertainty('0b', binname, 'QCD',   differences_0b_avg_QCD[b][j])\n",
    "        c.specifyUncertainty('0b', binname, 'Wjets',   differences_0b_avg_W[b][j])\n",
    "        c.specifyUncertainty('0b', binname, 'tt',  differences_0b_avg_tt[b][j])\n",
    "        c.specifyUncertainty('0b', binname, 'Zjets',  differences_0b_avg_Z[b][j])\n",
    "        \n",
    "        c.specifyUncertainty('1b', binname, 'signal', differences_1b_avg_1500_150[b][j])\n",
    "        c.specifyUncertainty('1b', binname, 'QCD',   differences_1b_avg_QCD[b][j])\n",
    "        c.specifyUncertainty('1b', binname, 'Wjets',   differences_1b_avg_W[b][j])\n",
    "        c.specifyUncertainty('1b', binname, 'tt',  differences_1b_avg_tt[b][j])\n",
    "        c.specifyUncertainty('1b', binname, 'Zjets',  differences_1b_avg_Z[b][j])\n",
    "        \n",
    "        c.specifyUncertainty('2b', binname, 'signal', differences_2b_avg_1500_150[b][j])\n",
    "        c.specifyUncertainty('2b', binname, 'QCD',   differences_2b_avg_QCD[b][j])\n",
    "        c.specifyUncertainty('2b', binname, 'Wjets',   differences_2b_avg_W[b][j])\n",
    "        c.specifyUncertainty('2b', binname, 'tt',  differences_2b_avg_tt[b][j])\n",
    "        c.specifyUncertainty('2b', binname, 'Zjets',  differences_2b_avg_Z[b][j])\n",
    "        \n",
    "        c.specifyUncertainty('1h', binname, 'signal', differences_1h_avg_1500_150[b][j])\n",
    "        \n",
    "        c.specifyObservation(binname, round(MT_vs_sdmass_QCD_central.counts[b][j] + MT_vs_sdmass_W_central.counts[b][j] + MT_vs_sdmass_tt_central.counts[b][j] + MT_vs_sdmass_Z_central.counts[b][j], 3))\n",
    "\n",
    "        \n",
    "c.specifyFlatUncertainty('lumi', 1.01)\n",
    "c.writeToFile('./2HDMa_1500_150_2.txt')"
   ]
  },
  {
   "cell_type": "code",
   "execution_count": null,
   "id": "e56236b2",
   "metadata": {
    "scrolled": true
   },
   "outputs": [],
   "source": [
    "from tools.dataCard import dataCard\n",
    "\n",
    "c = dataCard()\n",
    "c.setPrecision(3)\n",
    "\n",
    "c.addUncertainty('lumi',        'lnN')\n",
    "c.addUncertainty('signal_unc', 'lnN')\n",
    "c.addUncertainty('QCD_unc', 'lnN')\n",
    "c.addUncertainty('Wjets_unc', 'lnN')\n",
    "c.addUncertainty('Zinv_unc', 'lnN')\n",
    "c.addUncertainty('tt_unc', 'lnN')\n",
    "c.addUncertainty('JES',        'lnN')\n",
    "c.addUncertainty('0b',         'lnN')\n",
    "c.addUncertainty('1b',         'lnN')\n",
    "c.addUncertainty('2b',         'lnN')\n",
    "c.addUncertainty('1h',         'lnN')\n",
    "\n",
    "binnum = 0\n",
    "\n",
    "for b in range(0,4):\n",
    "    for j in range(0,10):\n",
    "        binname = 'bin'+str(binnum)\n",
    "        Binname = str(b+1)+'_'+str(j+1)\n",
    "        binnum += 1\n",
    "        c.addBin(binname, ['Wjets', 'QCD', 'tt', 'Zjets'], Binname) # signal is automatically added\n",
    "        \n",
    "        processes = {'signal': MT_vs_sdmass_1500_750_central, 'QCD': MT_vs_sdmass_QCD_central, 'Wjets': MT_vs_sdmass_W_central, 'tt': MT_vs_sdmass_tt_central, 'Zjets': MT_vs_sdmass_Z_central}\n",
    "        for process in processes:\n",
    "            uname = 'Stat_'+binname+'_'+process\n",
    "            c.addUncertainty(uname, 'lnN')\n",
    "            c.specifyUncertainty(uname, binname, process, round(1+processes[process].errors[b][j]/processes[process].counts[b][j], 3))\n",
    "        \n",
    "        c.specifyExpectation(binname, 'signal',  round(MT_vs_sdmass_1500_750_central.counts[b][j], 3))\n",
    "        c.specifyExpectation(binname, 'QCD',    round(MT_vs_sdmass_QCD_central.counts[b][j], 3))\n",
    "        c.specifyExpectation(binname, 'Wjets',    round(MT_vs_sdmass_W_central.counts[b][j], 3))\n",
    "        c.specifyExpectation(binname, 'tt',    round(MT_vs_sdmass_tt_central.counts[b][j], 3))\n",
    "        c.specifyExpectation(binname, 'Zjets',    round(MT_vs_sdmass_Z_central.counts[b][j], 3))\n",
    "        \n",
    "        c.specifyUncertainty('signal_unc', binname, 'signal', 1.20)\n",
    "        c.specifyUncertainty('QCD_unc',    binname, 'QCD',   1.50)\n",
    "        c.specifyUncertainty('Wjets_unc',    binname, 'Wjets',   1.25)\n",
    "        c.specifyUncertainty('Zinv_unc',   binname, 'Zjets',   1.25)\n",
    "        c.specifyUncertainty('tt_unc',   binname, 'tt',   1.25)\n",
    "\n",
    "        \n",
    "        c.specifyUncertainty('JES', binname, 'signal', differences_avg_1500_750[b][j])\n",
    "        c.specifyUncertainty('JES', binname, 'QCD',   differences_avg_QCD[b][j])\n",
    "        c.specifyUncertainty('JES', binname, 'Wjets',   differences_avg_W[b][j])\n",
    "        c.specifyUncertainty('JES', binname, 'tt',  differences_avg_tt[b][j])\n",
    "        c.specifyUncertainty('JES', binname, 'Zjets',  differences_avg_Z[b][j])\n",
    "        \n",
    "        c.specifyUncertainty('0b', binname, 'signal', differences_0b_avg_1500_750[b][j])\n",
    "        c.specifyUncertainty('0b', binname, 'QCD',   differences_0b_avg_QCD[b][j])\n",
    "        c.specifyUncertainty('0b', binname, 'Wjets',   differences_0b_avg_W[b][j])\n",
    "        c.specifyUncertainty('0b', binname, 'tt',  differences_0b_avg_tt[b][j])\n",
    "        c.specifyUncertainty('0b', binname, 'Zjets',  differences_0b_avg_Z[b][j])\n",
    "        \n",
    "        c.specifyUncertainty('1b', binname, 'signal', differences_1b_avg_1500_750[b][j])\n",
    "        c.specifyUncertainty('1b', binname, 'QCD',   differences_1b_avg_QCD[b][j])\n",
    "        c.specifyUncertainty('1b', binname, 'Wjets',   differences_1b_avg_W[b][j])\n",
    "        c.specifyUncertainty('1b', binname, 'tt',  differences_1b_avg_tt[b][j])\n",
    "        c.specifyUncertainty('1b', binname, 'Zjets',  differences_1b_avg_Z[b][j])\n",
    "        \n",
    "        c.specifyUncertainty('2b', binname, 'signal', differences_2b_avg_1500_750[b][j])\n",
    "        c.specifyUncertainty('2b', binname, 'QCD',   differences_2b_avg_QCD[b][j])\n",
    "        c.specifyUncertainty('2b', binname, 'Wjets',   differences_2b_avg_W[b][j])\n",
    "        c.specifyUncertainty('2b', binname, 'tt',  differences_2b_avg_tt[b][j])\n",
    "        c.specifyUncertainty('2b', binname, 'Zjets',  differences_2b_avg_Z[b][j])\n",
    "                \n",
    "        c.specifyUncertainty('1h', binname, 'signal', differences_1h_avg_1500_750[b][j])\n",
    "        \n",
    "        c.specifyObservation(binname, round(MT_vs_sdmass_QCD_central.counts[b][j] + MT_vs_sdmass_W_central.counts[b][j] + MT_vs_sdmass_tt_central.counts[b][j] + MT_vs_sdmass_Z_central.counts[b][j], 3))\n",
    "        \n",
    "c.specifyFlatUncertainty('lumi', 1.01)\n",
    "c.writeToFile('./2HDMa_1500_750_1.txt')"
   ]
  },
  {
   "cell_type": "code",
   "execution_count": null,
   "id": "271584f1",
   "metadata": {
    "scrolled": true
   },
   "outputs": [],
   "source": [
    "from tools.dataCard import dataCard\n",
    "\n",
    "c = dataCard()\n",
    "c.setPrecision(3)\n",
    "\n",
    "c.addUncertainty('lumi',        'lnN')\n",
    "c.addUncertainty('signal_unc', 'lnN')\n",
    "c.addUncertainty('QCD_unc', 'lnN')\n",
    "c.addUncertainty('Wjets_unc', 'lnN')\n",
    "c.addUncertainty('Zinv_unc', 'lnN')\n",
    "c.addUncertainty('tt_unc', 'lnN')\n",
    "c.addUncertainty('JES',        'lnN')\n",
    "c.addUncertainty('0b',         'lnN')\n",
    "c.addUncertainty('1b',         'lnN')\n",
    "c.addUncertainty('2b',         'lnN')\n",
    "c.addUncertainty('1h',         'lnN')\n",
    "\n",
    "binnum = 0\n",
    "\n",
    "for b in range(0,4):\n",
    "    for j in range(0,10):\n",
    "        binname = 'bin'+str(binnum)\n",
    "        Binname = str(b+1)+'_'+str(j+1)\n",
    "        binnum += 1\n",
    "        c.addBin(binname, ['Wjets', 'QCD', 'tt', 'Zjets'], Binname) # signal is automatically added\n",
    "        \n",
    "        processes = {'signal': MT_vs_sdmass_1750_750_central, 'QCD': MT_vs_sdmass_QCD_central, 'Wjets': MT_vs_sdmass_W_central, 'tt': MT_vs_sdmass_tt_central, 'Zjets': MT_vs_sdmass_Z_central}\n",
    "        for process in processes:\n",
    "            uname = 'Stat_'+binname+'_'+process\n",
    "            c.addUncertainty(uname, 'lnN')\n",
    "            c.specifyUncertainty(uname, binname, process, round(1+processes[process].errors[b][j]/processes[process].counts[b][j], 3))\n",
    "        \n",
    "        c.specifyExpectation(binname, 'signal',  round(MT_vs_sdmass_1750_750_central.counts[b][j], 3))\n",
    "        c.specifyExpectation(binname, 'QCD',    round(MT_vs_sdmass_QCD_central.counts[b][j], 3))\n",
    "        c.specifyExpectation(binname, 'Wjets',    round(MT_vs_sdmass_W_central.counts[b][j], 3))\n",
    "        c.specifyExpectation(binname, 'tt',    round(MT_vs_sdmass_tt_central.counts[b][j], 3))\n",
    "        c.specifyExpectation(binname, 'Zjets',    round(MT_vs_sdmass_Z_central.counts[b][j], 3))\n",
    "\n",
    "        c.specifyUncertainty('signal_unc', binname, 'signal', 1.20)\n",
    "        c.specifyUncertainty('QCD_unc',    binname, 'QCD',   1.50)\n",
    "        c.specifyUncertainty('Wjets_unc',    binname, 'Wjets',   1.25)\n",
    "        c.specifyUncertainty('Zinv_unc',   binname, 'Zjets',   1.25)\n",
    "        c.specifyUncertainty('tt_unc',   binname, 'tt',   1.25)\n",
    "                \n",
    "        c.specifyUncertainty('JES', binname, 'signal', differences_avg_1750_750[b][j])\n",
    "        c.specifyUncertainty('JES', binname, 'QCD',   differences_avg_QCD[b][j])\n",
    "        c.specifyUncertainty('JES', binname, 'Wjets',   differences_avg_W[b][j])\n",
    "        c.specifyUncertainty('JES', binname, 'tt',  differences_avg_tt[b][j])\n",
    "        c.specifyUncertainty('JES', binname, 'Zjets',  differences_avg_Z[b][j])\n",
    "        \n",
    "        c.specifyUncertainty('0b', binname, 'signal', differences_0b_avg_1750_750[b][j])\n",
    "        c.specifyUncertainty('0b', binname, 'QCD',   differences_0b_avg_QCD[b][j])\n",
    "        c.specifyUncertainty('0b', binname, 'Wjets',   differences_0b_avg_W[b][j])\n",
    "        c.specifyUncertainty('0b', binname, 'tt',  differences_0b_avg_tt[b][j])\n",
    "        c.specifyUncertainty('0b', binname, 'Zjets',  differences_0b_avg_Z[b][j])\n",
    "        \n",
    "        c.specifyUncertainty('1b', binname, 'signal', differences_1b_avg_1750_750[b][j])\n",
    "        c.specifyUncertainty('1b', binname, 'QCD',   differences_1b_avg_QCD[b][j])\n",
    "        c.specifyUncertainty('1b', binname, 'Wjets',   differences_1b_avg_W[b][j])\n",
    "        c.specifyUncertainty('1b', binname, 'tt',  differences_1b_avg_tt[b][j])\n",
    "        c.specifyUncertainty('1b', binname, 'Zjets',  differences_1b_avg_Z[b][j])\n",
    "        \n",
    "        c.specifyUncertainty('2b', binname, 'signal', differences_2b_avg_1750_750[b][j])\n",
    "        c.specifyUncertainty('2b', binname, 'QCD',   differences_2b_avg_QCD[b][j])\n",
    "        c.specifyUncertainty('2b', binname, 'Wjets',   differences_2b_avg_W[b][j])\n",
    "        c.specifyUncertainty('2b', binname, 'tt',  differences_2b_avg_tt[b][j])\n",
    "        c.specifyUncertainty('2b', binname, 'Zjets',  differences_2b_avg_Z[b][j])\n",
    "        \n",
    "        c.specifyUncertainty('1h', binname, 'signal', differences_1h_avg_1750_750[b][j])\n",
    "        \n",
    "        c.specifyObservation(binname, round(MT_vs_sdmass_QCD_central.counts[b][j] + MT_vs_sdmass_W_central.counts[b][j] + MT_vs_sdmass_tt_central.counts[b][j] + MT_vs_sdmass_Z_central.counts[b][j], 3))\n",
    "        \n",
    "c.specifyFlatUncertainty('lumi', 1.01)\n",
    "c.writeToFile('./2HDMa_1750_750_1.txt')"
   ]
  },
  {
   "cell_type": "code",
   "execution_count": null,
   "id": "33b8e47f",
   "metadata": {
    "scrolled": true
   },
   "outputs": [],
   "source": [
    "from tools.dataCard import dataCard\n",
    "\n",
    "c = dataCard()\n",
    "c.setPrecision(3)\n",
    "\n",
    "c.addUncertainty('lumi',        'lnN')\n",
    "c.addUncertainty('JES',        'lnN')\n",
    "c.addUncertainty('signal_unc', 'lnN')\n",
    "c.addUncertainty('QCD_unc', 'lnN')\n",
    "c.addUncertainty('Wjets_unc', 'lnN')\n",
    "c.addUncertainty('Zinv_unc', 'lnN')\n",
    "c.addUncertainty('tt_unc', 'lnN')\n",
    "c.addUncertainty('0b',         'lnN')\n",
    "c.addUncertainty('1b',         'lnN')\n",
    "c.addUncertainty('2b',         'lnN')\n",
    "c.addUncertainty('1h',         'lnN')\n",
    "\n",
    "binnum = 0\n",
    "\n",
    "for b in range(0,4):\n",
    "    for j in range(0,10):\n",
    "        binname = 'bin'+str(binnum)\n",
    "        Binname = str(b+1)+'_'+str(j+1)\n",
    "        binnum += 1\n",
    "        c.addBin(binname, ['Wjets', 'QCD', 'tt', 'Zjets'], Binname) # signal is automatically added\n",
    "        \n",
    "        processes = {'signal': MT_vs_sdmass_2000_750_central, 'QCD': MT_vs_sdmass_QCD_central, 'Wjets': MT_vs_sdmass_W_central, 'tt': MT_vs_sdmass_tt_central, 'Zjets': MT_vs_sdmass_Z_central}\n",
    "        for process in processes:\n",
    "            uname = 'Stat_'+binname+'_'+process\n",
    "            c.addUncertainty(uname, 'lnN')\n",
    "            c.specifyUncertainty(uname, binname, process, round(1+processes[process].errors[b][j]/processes[process].counts[b][j], 3))\n",
    "        \n",
    "        c.specifyExpectation(binname, 'signal',  round(MT_vs_sdmass_2000_750_central.counts[b][j], 3))\n",
    "        c.specifyExpectation(binname, 'QCD',    round(MT_vs_sdmass_QCD_central.counts[b][j], 3))\n",
    "        c.specifyExpectation(binname, 'Wjets',    round(MT_vs_sdmass_W_central.counts[b][j], 3))\n",
    "        c.specifyExpectation(binname, 'tt',    round(MT_vs_sdmass_tt_central.counts[b][j], 3))\n",
    "        c.specifyExpectation(binname, 'Zjets',    round(MT_vs_sdmass_Z_central.counts[b][j], 3))\n",
    "        \n",
    "        c.specifyUncertainty('signal_unc', binname, 'signal', 1.20)\n",
    "        c.specifyUncertainty('QCD_unc',    binname, 'QCD',   1.50)\n",
    "        c.specifyUncertainty('Wjets_unc',    binname, 'Wjets',   1.25)\n",
    "        c.specifyUncertainty('Zinv_unc',   binname, 'Zjets',   1.25)\n",
    "        c.specifyUncertainty('tt_unc',   binname, 'tt',   1.25)\n",
    "        \n",
    "        c.specifyUncertainty('JES', binname, 'signal', differences_avg_2000_750[b][j])\n",
    "        c.specifyUncertainty('JES', binname, 'QCD',   differences_avg_QCD[b][j])\n",
    "        c.specifyUncertainty('JES', binname, 'Wjets',   differences_avg_W[b][j])\n",
    "        c.specifyUncertainty('JES', binname, 'tt',  differences_avg_tt[b][j])\n",
    "        c.specifyUncertainty('JES', binname, 'Zjets',  differences_avg_Z[b][j])\n",
    "      \n",
    "        c.specifyUncertainty('0b', binname, 'signal', differences_0b_avg_2000_750[b][j])\n",
    "        c.specifyUncertainty('0b', binname, 'QCD',   differences_0b_avg_QCD[b][j])\n",
    "        c.specifyUncertainty('0b', binname, 'Wjets',   differences_0b_avg_W[b][j])\n",
    "        c.specifyUncertainty('0b', binname, 'tt',  differences_0b_avg_tt[b][j])\n",
    "        c.specifyUncertainty('0b', binname, 'Zjets',  differences_0b_avg_Z[b][j])\n",
    "        \n",
    "        c.specifyUncertainty('1b', binname, 'signal', differences_1b_avg_2000_750[b][j])\n",
    "        c.specifyUncertainty('1b', binname, 'QCD',   differences_1b_avg_QCD[b][j])\n",
    "        c.specifyUncertainty('1b', binname, 'Wjets',   differences_1b_avg_W[b][j])\n",
    "        c.specifyUncertainty('1b', binname, 'tt',  differences_1b_avg_tt[b][j])\n",
    "        c.specifyUncertainty('1b', binname, 'Zjets',  differences_1b_avg_Z[b][j])\n",
    "        \n",
    "        c.specifyUncertainty('2b', binname, 'signal', differences_2b_avg_2000_750[b][j])\n",
    "        c.specifyUncertainty('2b', binname, 'QCD',   differences_2b_avg_QCD[b][j])\n",
    "        c.specifyUncertainty('2b', binname, 'Wjets',   differences_2b_avg_W[b][j])\n",
    "        c.specifyUncertainty('2b', binname, 'tt',  differences_2b_avg_tt[b][j])\n",
    "        c.specifyUncertainty('2b', binname, 'Zjets',  differences_2b_avg_Z[b][j])\n",
    "        \n",
    "        c.specifyUncertainty('1h', binname, 'signal', differences_1h_avg_2000_750[b][j])\n",
    "        \n",
    "        c.specifyObservation(binname, round(MT_vs_sdmass_QCD_central.counts[b][j] + MT_vs_sdmass_W_central.counts[b][j] + MT_vs_sdmass_tt_central.counts[b][j] + MT_vs_sdmass_Z_central.counts[b][j], 3))\n",
    "        \n",
    "c.specifyFlatUncertainty('lumi', 1.01)\n",
    "c.writeToFile('./2HDMa_2000_750_1.txt')"
   ]
  },
  {
   "cell_type": "markdown",
   "id": "57d137a7",
   "metadata": {},
   "source": [
    "## Plotting Regions"
   ]
  },
  {
   "cell_type": "code",
   "execution_count": null,
   "id": "4ed478e0",
   "metadata": {
    "scrolled": true
   },
   "outputs": [],
   "source": [
    "bin_array_signal = np.ones(40)\n",
    "i=0\n",
    "for row in MT_vs_sdmass_2000_750_central.counts:\n",
    "    for col in row:\n",
    "        bin_array_signal[i] = col\n",
    "        i+=1"
   ]
  },
  {
   "cell_type": "code",
   "execution_count": null,
   "id": "6075ea95",
   "metadata": {
    "scrolled": true
   },
   "outputs": [],
   "source": [
    "bin_array_signal_errors = np.ones(40)\n",
    "i=0\n",
    "for row in MT_vs_sdmass_2000_750_central.errors:\n",
    "    for col in row:\n",
    "        bin_array_signal_errors[i] = col\n",
    "        i+=1"
   ]
  },
  {
   "cell_type": "code",
   "execution_count": null,
   "id": "f52df419",
   "metadata": {
    "scrolled": true
   },
   "outputs": [],
   "source": [
    "bin_array_Z = np.ones(40)\n",
    "i=0\n",
    "for row in MT_vs_sdmass_Z_central.counts:\n",
    "    for col in row:\n",
    "        bin_array_Z[i] = col\n",
    "        i+=1"
   ]
  },
  {
   "cell_type": "code",
   "execution_count": null,
   "id": "40ce1be9",
   "metadata": {
    "scrolled": true
   },
   "outputs": [],
   "source": [
    "bin_array_Z_errors = np.ones(40)\n",
    "i=0\n",
    "for row in MT_vs_sdmass_Z_central.errors:\n",
    "    for col in row:\n",
    "        bin_array_Z_errors[i] = col\n",
    "        i+=1"
   ]
  },
  {
   "cell_type": "code",
   "execution_count": null,
   "id": "6ab0e871",
   "metadata": {
    "scrolled": true
   },
   "outputs": [],
   "source": [
    "bin_array_tt = np.ones(40)\n",
    "i=0\n",
    "for row in MT_vs_sdmass_tt_central.counts:\n",
    "    for col in row:\n",
    "        bin_array_tt[i] = col\n",
    "        i+=1"
   ]
  },
  {
   "cell_type": "code",
   "execution_count": null,
   "id": "b6a1db5d",
   "metadata": {
    "scrolled": true
   },
   "outputs": [],
   "source": [
    "bin_array_tt_errors = np.ones(40)\n",
    "i=0\n",
    "for row in MT_vs_sdmass_tt_central.errors:\n",
    "    for col in row:\n",
    "        bin_array_tt_errors[i] = col\n",
    "        i+=1"
   ]
  },
  {
   "cell_type": "code",
   "execution_count": null,
   "id": "d0543f15",
   "metadata": {
    "scrolled": true
   },
   "outputs": [],
   "source": [
    "bin_array_W = np.ones(40)\n",
    "i=0\n",
    "for row in MT_vs_sdmass_W_central.counts:\n",
    "    for col in row:\n",
    "        bin_array_W[i] = col\n",
    "        i+=1"
   ]
  },
  {
   "cell_type": "code",
   "execution_count": null,
   "id": "203dfc5a",
   "metadata": {
    "scrolled": true
   },
   "outputs": [],
   "source": [
    "bin_array_W_errors = np.ones(40)\n",
    "i=0\n",
    "for row in MT_vs_sdmass_W_central.errors:\n",
    "    for col in row:\n",
    "        bin_array_W_errors[i] = col\n",
    "        i+=1"
   ]
  },
  {
   "cell_type": "code",
   "execution_count": null,
   "id": "a9286513",
   "metadata": {
    "scrolled": true
   },
   "outputs": [],
   "source": [
    "bin_array_QCD = np.ones(40)\n",
    "i=0\n",
    "for row in MT_vs_sdmass_QCD_central.counts:\n",
    "    for col in row:\n",
    "        bin_array_QCD[i] = col\n",
    "        i+=1"
   ]
  },
  {
   "cell_type": "code",
   "execution_count": null,
   "id": "f9778dc5",
   "metadata": {
    "scrolled": true
   },
   "outputs": [],
   "source": [
    "bin_array_QCD_errors = np.ones(40)\n",
    "i=0\n",
    "for row in MT_vs_sdmass_QCD_central.errors:\n",
    "    for col in row:\n",
    "        bin_array_QCD_errors[i] = col\n",
    "        i+=1"
   ]
  },
  {
   "cell_type": "code",
   "execution_count": null,
   "id": "64e32f91",
   "metadata": {
    "scrolled": true
   },
   "outputs": [],
   "source": [
    "unrolled = [bin_array_Z,  bin_array_QCD, bin_array_tt, bin_array_W,]\n",
    "unrolled_errors = [bin_array_Z_errors, bin_array_QCD_errors, bin_array_tt_errors, bin_array_W_errors]\n",
    "\n",
    "labels =[r'$ZJets\\to\\nu\\nu$', r'$QCD\\ b-enriched$', r'$t\\bar{t}$', r'$WJets\\to L\\nu$', ]\n",
    "\n",
    "colors =['#7DDC61', '#C061DC',  '#FE3F6B',  '#FED23F', ]\n",
    "\n",
    "fig, (ax) = plt.subplots(figsize=(10,10))\n",
    "hep.cms.label(\n",
    "    'Preliminary',\n",
    "    loc=0,\n",
    "    ax=ax,\n",
    "    #lumi = 3000,\n",
    "    rlabel = '(14 TeV)',\n",
    "    )\n",
    "\n",
    "hep.histplot(\n",
    "    [bin_array for bin_array in unrolled],\n",
    "    #w2=[bin_array**2 for bin_array in unrolled_errors],\n",
    "    histtype=\"fill\",\n",
    "    #density = True,\n",
    "    stack=True,\n",
    "    label=[label for label in labels],\n",
    "    color=[color for color in colors],\n",
    "    ax=ax\n",
    "    )\n",
    "\n",
    "hep.histplot(\n",
    "    bin_array_signal,\n",
    "    w2=bin_array_signal_errors**2,\n",
    "    histtype=\"step\",\n",
    "    #density = True,\n",
    "    stack=False,\n",
    "    label='2HDMa_2000_750_10',\n",
    "    #color=[colors[sample] for sample in backgrounds],\n",
    "    ax=ax\n",
    "    )\n",
    "\n",
    "ax.set_xlabel(r'$Bin$')\n",
    "ax.set_ylabel(r'Events')\n",
    "ax.set_yscale('log')\n",
    "ax.legend(prop={'size': 10})\n",
    "\n",
    "fig.savefig('/home/users/ewallace/public_html/HbbMET/plots/signal_region/unrolled_stack_2000_750.png')"
   ]
  },
  {
   "cell_type": "code",
   "execution_count": null,
   "id": "223d08ac",
   "metadata": {
    "scrolled": true
   },
   "outputs": [],
   "source": [
    "bin_array_signal2 = np.ones(40)\n",
    "k=0\n",
    "for i in range(len(MT_vs_sdmass_2000_750_central.counts[0])):\n",
    "    for j in range(len(MT_vs_sdmass_2000_750_central.counts[:,i:i+1])):\n",
    "        bin_array_signal2[k] = MT_vs_sdmass_2000_750_central.counts[j][i]\n",
    "        k+=1"
   ]
  },
  {
   "cell_type": "code",
   "execution_count": null,
   "id": "790a2910",
   "metadata": {
    "scrolled": true
   },
   "outputs": [],
   "source": [
    "bin_array_signal_errors2 = np.ones(40)\n",
    "k=0\n",
    "for i in range(len(MT_vs_sdmass_2000_750_central.errors[0])):\n",
    "    for j in range(len(MT_vs_sdmass_2000_750_central.errors[:,i:i+1])):\n",
    "        bin_array_signal_errors2[k] = MT_vs_sdmass_2000_750_central.errors[j][i]\n",
    "        k+=1"
   ]
  },
  {
   "cell_type": "code",
   "execution_count": null,
   "id": "b7135da0",
   "metadata": {
    "scrolled": true
   },
   "outputs": [],
   "source": [
    "bin_array_Z2 = np.ones(40)\n",
    "k=0\n",
    "for i in range(len(MT_vs_sdmass_Z_central.counts[0])):\n",
    "    for j in range(len(MT_vs_sdmass_Z_central.counts[:,i:i+1])):\n",
    "        bin_array_Z2[k] = MT_vs_sdmass_Z_central.counts[j][i]\n",
    "        k+=1"
   ]
  },
  {
   "cell_type": "code",
   "execution_count": null,
   "id": "7f4c3ca1",
   "metadata": {
    "scrolled": true
   },
   "outputs": [],
   "source": [
    "bin_array_tt2 = np.ones(40)\n",
    "k=0\n",
    "for i in range(len(MT_vs_sdmass_tt_central.counts[0])):\n",
    "    for j in range(len(MT_vs_sdmass_tt_central.counts[:,i:i+1])):\n",
    "        bin_array_tt2[k] = MT_vs_sdmass_tt_central.counts[j][i]\n",
    "        k+=1"
   ]
  },
  {
   "cell_type": "code",
   "execution_count": null,
   "id": "5fffdc20",
   "metadata": {
    "scrolled": true
   },
   "outputs": [],
   "source": [
    "bin_array_W2 = np.ones(40)\n",
    "k=0\n",
    "for i in range(len(MT_vs_sdmass_W_central.counts[0])):\n",
    "    for j in range(len(MT_vs_sdmass_W_central.counts[:,i:i+1])):\n",
    "        bin_array_W2[k] = MT_vs_sdmass_W_central.counts[j][i]\n",
    "        k+=1"
   ]
  },
  {
   "cell_type": "code",
   "execution_count": null,
   "id": "c3ecbc89",
   "metadata": {
    "scrolled": true
   },
   "outputs": [],
   "source": [
    "bin_array_QCD2 = np.ones(40)\n",
    "i=0\n",
    "k=0\n",
    "for i in range(len(MT_vs_sdmass_QCD_central.counts[0])):\n",
    "    for j in range(len(MT_vs_sdmass_QCD_central.counts[:,i:i+1])):\n",
    "        bin_array_QCD2[k] = MT_vs_sdmass_QCD_central.counts[j][i]\n",
    "        k+=1"
   ]
  },
  {
   "cell_type": "code",
   "execution_count": null,
   "id": "07c5dea9",
   "metadata": {},
   "outputs": [],
   "source": [
    "unrolled = [bin_array_Z2,  bin_array_QCD2, bin_array_tt2, bin_array_W2,]\n",
    "#unrolled_errors = [bin_array_Z_errors, bin_array_QCD_errors, bin_array_tt_errors, bin_array_W_errors]\n",
    "\n",
    "labels =[r'$ZJets\\to\\nu\\nu$', r'$QCD\\ b-enriched$', r'$t\\bar{t}$', r'$WJets\\to L\\nu$', ]\n",
    "\n",
    "colors =['#7DDC61', '#C061DC',  '#FE3F6B',  '#FED23F', ]\n",
    "\n",
    "fig, (ax) = plt.subplots(figsize=(10,10))\n",
    "hep.cms.label(\n",
    "    'Preliminary',\n",
    "    loc=0,\n",
    "    ax=ax,\n",
    "    #lumi = 3000,\n",
    "    rlabel = '(14 TeV)',\n",
    "    )\n",
    "\n",
    "hep.histplot(\n",
    "    [bin_array for bin_array in unrolled],\n",
    "    #w2=[bin_array**2 for bin_array in unrolled_errors],\n",
    "    histtype=\"fill\",\n",
    "    #density = True,\n",
    "    stack=True,\n",
    "    label=[label for label in labels],\n",
    "    color=[color for color in colors],\n",
    "    ax=ax\n",
    "    )\n",
    "\n",
    "hep.histplot(\n",
    "    bin_array_signal2,\n",
    "    w2=bin_array_signal_errors2**2,\n",
    "    histtype=\"step\",\n",
    "    #density = True,\n",
    "    stack=False,\n",
    "    label='2HDMa_1500_150_10',\n",
    "    #color=[colors[sample] for sample in backgrounds],\n",
    "    ax=ax\n",
    "    )\n",
    "\n",
    "ax.set_xlabel(r'$Bin$')\n",
    "ax.set_ylabel(r'Events')\n",
    "ax.set_yscale('log')\n",
    "ax.legend(prop={'size': 14})\n",
    "\n",
    "fig.savefig('/home/users/ewallace/public_html/HbbMET/plots/signal_region/unrolled_stack_2000_750_alt.png')"
   ]
  },
  {
   "cell_type": "code",
   "execution_count": null,
   "id": "a747c5c5",
   "metadata": {
    "scrolled": true
   },
   "outputs": [],
   "source": [
    "fig, ax  = plt.subplots(1, 1,figsize=(13,10) )\n",
    "MT_vs_sdmass_2000_750_central.plot(counts=True, equidistant='xy', counts_formatter=\"{:.2e} \\n$\\pm$\\n {:.2e}\".format, counts_fontsize=10,)\n",
    "ax.set_xlabel(r'$M_{T}$')\n",
    "ax.set_ylabel(r'$softdrop\\ mass$')\n",
    "fig.savefig('/home/users/ewallace/public_html/HbbMET/plots/signal_region/MT_vs_sdmass_2000_750.png')"
   ]
  },
  {
   "cell_type": "code",
   "execution_count": null,
   "id": "72ee9da1",
   "metadata": {
    "scrolled": true
   },
   "outputs": [],
   "source": [
    "fig, ax  = plt.subplots(1, 1,figsize=(13,10) )\n",
    "MT_vs_sdmass_tt_central.plot(counts=True, equidistant='xy', counts_formatter=\"{:.2e} \\n$\\pm$\\n {:.2e}\".format, counts_fontsize=10,)\n",
    "ax.set_xlabel(r'$M_{T}$')\n",
    "ax.set_ylabel(r'$softdrop\\ mass$')\n",
    "fig.savefig('/home/users/ewallace/public_html/HbbMET/plots/signal_region/MT_vs_sdmass_tt.png')"
   ]
  },
  {
   "cell_type": "code",
   "execution_count": null,
   "id": "4a10fc36",
   "metadata": {
    "scrolled": true
   },
   "outputs": [],
   "source": [
    "fig, ax  = plt.subplots(1, 1,figsize=(13,10) )\n",
    "MT_vs_sdmass_W_central.plot(counts=True, equidistant='xy', counts_formatter=\"{:.2e} \\n$\\pm$\\n {:.2e}\".format, counts_fontsize=10,)\n",
    "ax.set_xlabel(r'$M_{T}$')\n",
    "ax.set_ylabel(r'$softdrop\\ mass$')\n",
    "fig.savefig('/home/users/ewallace/public_html/HbbMET/plots/signal_region/MT_vs_sdmass_W.png')"
   ]
  },
  {
   "cell_type": "code",
   "execution_count": null,
   "id": "368701e2",
   "metadata": {
    "scrolled": true
   },
   "outputs": [],
   "source": [
    "fig, ax  = plt.subplots(1, 1,figsize=(13,10) )\n",
    "MT_vs_sdmass_QCD_central.plot(counts=True, equidistant='xy', counts_formatter=\"{:.2e} \\n$\\pm$\\n {:.2e}\".format, counts_fontsize=10,)\n",
    "ax.set_xlabel(r'$M_{T}$')\n",
    "ax.set_ylabel(r'$softdrop\\ mass$')\n",
    "fig.savefig('/home/users/ewallace/public_html/HbbMET/plots/signal_region/MT_vs_sdmass_QCD.png')"
   ]
  },
  {
   "cell_type": "code",
   "execution_count": null,
   "id": "db91ad02",
   "metadata": {
    "scrolled": true
   },
   "outputs": [],
   "source": [
    "fig, ax  = plt.subplots(1, 1,figsize=(13,10) )\n",
    "MT_vs_sdmass_Z_central.plot(counts=True, equidistant='xy', counts_formatter=\"{:.2e} \\n$\\pm$\\n {:.2e}\".format, counts_fontsize=10,)\n",
    "ax.set_xlabel(r'$M_{T}$')\n",
    "ax.set_ylabel(r'$softdrop\\ mass$')\n",
    "fig.savefig('/home/users/ewallace/public_html/HbbMET/plots/signal_region/MT_vs_sdmass_Z.png')"
   ]
  }
 ],
 "metadata": {
  "kernelspec": {
   "display_name": "coffeadev",
   "language": "python",
   "name": "coffeadev"
  },
  "language_info": {
   "codemirror_mode": {
    "name": "ipython",
    "version": 3
   },
   "file_extension": ".py",
   "mimetype": "text/x-python",
   "name": "python",
   "nbconvert_exporter": "python",
   "pygments_lexer": "ipython3",
   "version": "3.9.7"
  }
 },
 "nbformat": 4,
 "nbformat_minor": 5
}
