{
 "cells": [
  {
   "cell_type": "markdown",
   "id": "cc90a116",
   "metadata": {},
   "source": [
    "## Setting Up Plots"
   ]
  },
  {
   "cell_type": "code",
   "execution_count": null,
   "id": "7f7fca5e",
   "metadata": {},
   "outputs": [],
   "source": [
    "import numpy as np\n",
    "import awkward as ak\n",
    "import matplotlib.pyplot as plt\n",
    "import gzip\n",
    "import pickle\n",
    "from coffea import hist, processor, util\n",
    "from plots.helpers import makePlot2\n",
    "from coffea.processor import accumulate\n",
    "from yahist import Hist1D, Hist2D\n",
    "from yaml import Loader, Dumper\n",
    "import yaml\n",
    "from tools.helpers import cutflow_scale_and_merge, getCutFlowTable"
   ]
  },
  {
   "cell_type": "code",
   "execution_count": null,
   "id": "537c7655",
   "metadata": {},
   "outputs": [],
   "source": [
    "scaled_output = accumulate(\n",
    "    [\n",
    "        util.load(\"/home/users/dspitzba/snowblower/analysis/outputs/output_signal_scaled_run20220125_150734.coffea\"),\n",
    "        util.load(\"/home/users/dspitzba/snowblower/analysis/outputs/output_QCD_scaled_run20220125_171824.coffea\"),\n",
    "        util.load(\"/home/users/dspitzba/snowblower/analysis/outputs/output_TT_scaled_run20220125_171025.coffea\"),\n",
    "        util.load(\"/home/users/dspitzba/snowblower/analysis/outputs/output_W_scaled_run20220125_170224.coffea\"),\n",
    "        util.load(\"/home/users/dspitzba/snowblower/analysis/outputs/output_Z_scaled_run20220125_183109.coffea\"),\n",
    "        #util.load(\"/home/users/dspitzba/snowblower/analysis/outputs/output_other_scaled_run20220125_163014.coffea\"),\n",
    "    ]\n",
    ")"
   ]
  },
  {
   "cell_type": "code",
   "execution_count": null,
   "id": "9d6f7e61",
   "metadata": {},
   "outputs": [],
   "source": [
    "scaled_output = accumulate(\n",
    "        [\n",
    "            util.load(\"/home/users/ewallace/snowblower/analysis/outputs/output_all_scaled_run20220131_132242.coffea\"),\n",
    "        ]\n",
    "    )"
   ]
  },
  {
   "cell_type": "code",
   "execution_count": null,
   "id": "4df21d26",
   "metadata": {},
   "outputs": [],
   "source": [
    "scaled_output2 = accumulate(\n",
    "        [\n",
    "            util.load(\"/home/users/ewallace/snowblower/analysis/outputs/output_other_scaled_run20220203_174135.coffea\"),\n",
    "        ]\n",
    "    )"
   ]
  },
  {
   "cell_type": "code",
   "execution_count": null,
   "id": "5a0f7235",
   "metadata": {},
   "outputs": [],
   "source": [
    "scaled_output['met_pt'].values()"
   ]
  },
  {
   "cell_type": "code",
   "execution_count": null,
   "id": "e7759568",
   "metadata": {},
   "outputs": [],
   "source": [
    "scaled_output2['met_pt'].values()"
   ]
  },
  {
   "cell_type": "code",
   "execution_count": null,
   "id": "f0bf0614",
   "metadata": {},
   "outputs": [],
   "source": [
    "N_bins = hist.Bin('multiplicity', r'$N$', 4, 0.5, 4.5)\n",
    "N_bins2 = hist.Bin('multiplicity', r'$N$', 7, 0.5, 7.5)\n",
    "N_H_bins = hist.Bin('multiplicity', r'$N$', 1, -0.5, 0.5)\n",
    "mass_bins = hist.Bin('mass', r'$M\\ (GeV)$', 40, 0, 400)\n",
    "mass_bins2 = hist.Bin('mass', r'$M\\ (GeV)$', 3, 0, 150)\n",
    "ht_bins = hist.Bin('pt', r'$H_{T}\\ (GeV)$', 60, 0, 3000)\n",
    "mt_bins = hist.Bin('mt', r'$M_{T}\\ (GeV)$', 9, 600, 2400)\n",
    "pt_bins = hist.Bin('pt', r'$p_{T}\\ (GeV)$', 40, 200, 1200)\n",
    "pt_bins2 = hist.Bin('pt', r'$p_{T}\\ (GeV)$', 50, 0, 500)\n",
    "met_bins = hist.Bin('pt', r'$MET_{pt}\\ (GeV)$', 18, 100, 1000)\n",
    "met_bins_ext = hist.Bin('pt', r'$MET_{pt}\\ (GeV)$', 20, 0, 1000)\n",
    "eta_bins = hist.Bin(\"eta\", \"$\\eta$\", 33, -4, 4)\n",
    "phi_bins = hist.Bin(\"phi\", \"$\\phi$\", 33, -4, 4)\n",
    "phi_bins2 = hist.Bin(\"phi\", \"$\\phi$\", 20, 0, 4)\n",
    "tau1_bins = hist.Bin(\"tau\", \"$\\tau_1$\", 10, 0, 0.7)\n",
    "tau2_bins = hist.Bin(\"tau\", \"$\\tau_2$\", 10, 0, 0.5)\n",
    "tau3_bins = hist.Bin(\"tau\", \"$\\tau_3$\", 10, 0, 0.4)\n",
    "tau4_bins = hist.Bin(\"tau\", \"$\\tau_4$\", 10, 0, 0.3)\n",
    "tau21_bins = hist.Bin(\"tau\", \"$\\tau_4$\", 50, 0, 1.0)\n",
    "\n",
    "labels ={\n",
    "            ('QCD_bEnriched_HT',): r'$Mulitijet$',\n",
    "            ('ZJetsToNuNu_HT',): r'$Z\\to\\nu\\nu$',\n",
    "            ('WJetsToLNu',): r'$W+jets$',\n",
    "            ('TT',): r'$t\\bar{t}/single-t$',\n",
    "            ('other',): 'SM Higgs',\n",
    "            ('2HDMa_sinp_0.35_tanb_1.0_mXd_10_MH3_1500_MH4_150_MH2_1500_MHC_1500',): r'$m_A=1500, m_a=150$',\n",
    "            ('2HDMa_sinp_0.35_tanb_1.0_mXd_10_MH3_1500_MH4_750_MH2_1500_MHC_1500',): r'$m_A=1500, m_a=750$',\n",
    "            ('2HDMa_sinp_0.35_tanb_1.0_mXd_10_MH3_1750_MH4_750_MH2_1750_MHC_1750',): r'$m_A=1750, m_a=750$',\n",
    "            ('2HDMa_sinp_0.35_tanb_1.0_mXd_10_MH3_2000_MH4_750_MH2_2000_MHC_2000',): r'$m_A=2000, m_a=750$',\n",
    "        }\n",
    "\n",
    "colors ={\n",
    "            ('QCD_bEnriched_HT',): '#93CCEA',\n",
    "            ('ZJetsToNuNu_HT',): '#00C239',\n",
    "            ('WJetsToLNu',): '#FED23F',\n",
    "            ('TT',): '#FE3F6B',\n",
    "            ('other',): '#EAB193'\n",
    "        }\n",
    "        \n",
    "signals = [('2HDMa_sinp_0.35_tanb_1.0_mXd_10_MH3_1500_MH4_150_MH2_1500_MHC_1500',),\n",
    "           ('2HDMa_sinp_0.35_tanb_1.0_mXd_10_MH3_1500_MH4_750_MH2_1500_MHC_1500',),\n",
    "           ('2HDMa_sinp_0.35_tanb_1.0_mXd_10_MH3_1750_MH4_750_MH2_1750_MHC_1750',), \n",
    "           ('2HDMa_sinp_0.35_tanb_1.0_mXd_10_MH3_2000_MH4_750_MH2_2000_MHC_2000',),\n",
    "           ('ST',),\n",
    "           ('Rares',),\n",
    "           ('2HDMa_sinp_0.35_tanb_1.0_mXd_10_MH3_1250_MH4_750_MH2_1250_MHC_1250',),\n",
    "           ('2HDMa_sinp_0.35_tanb_1.0_mXd_10_MH3_1600_MH4_750_MH2_1600_MHC_1600',),\n",
    "           ('2HDMa_sinp_0.35_tanb_1.0_mXd_10_MH3_1900_MH4_750_MH2_1900_MHC_1900',),\n",
    "           ('2HDMa_sinp_0.35_tanb_1.0_mXd_10_MH3_2250_MH4_750_MH2_2250_MHC_2250',),\n",
    "           ('2HDMa_sinp_0.35_tanb_1.0_mXd_10_MH3_750_MH4_250_MH2_750_MHC_750',),\n",
    "           ('2HDMa_sinp_0.35_tanb_1.0_mXd_10_MH3_1000_MH4_250_MH2_1000_MHC_1000',),\n",
    "           ('2HDMa_sinp_0.35_tanb_1.0_mXd_10_MH3_1250_MH4_250_MH2_1250_MHC_1250',),\n",
    "           ('2HDMa_sinp_0.35_tanb_1.0_mXd_10_MH3_1500_MH4_250_MH2_1500_MHC_1500',),\n",
    "           ('2HDMa_sinp_0.35_tanb_1.0_mXd_10_MH3_1600_MH4_250_MH2_1600_MHC_1600',),\n",
    "           ('2HDMa_sinp_0.35_tanb_1.0_mXd_10_MH3_1750_MH4_250_MH2_1750_MHC_1750',),\n",
    "           ('2HDMa_sinp_0.35_tanb_1.0_mXd_10_MH3_1900_MH4_250_MH2_1900_MHC_1900',),\n",
    "           ('2HDMa_sinp_0.35_tanb_1.0_mXd_10_MH3_2000_MH4_250_MH2_2000_MHC_2000',),\n",
    "           ('2HDMa_sinp_0.35_tanb_1.0_mXd_10_MH3_2250_MH4_250_MH2_2250_MHC_2250',),\n",
    "        ]\n",
    "\n",
    "plot_dir = '/home/users/$USER/public_html/HbbMET/plots/Jan30/'"
   ]
  },
  {
   "cell_type": "code",
   "execution_count": null,
   "id": "485cfb6d",
   "metadata": {},
   "outputs": [],
   "source": [
    "import matplotlib.pyplot as plt\n",
    "import mplhep as hep\n",
    "plt.style.use(hep.style.CMS)"
   ]
  },
  {
   "cell_type": "code",
   "execution_count": null,
   "id": "f721cf40",
   "metadata": {},
   "outputs": [],
   "source": [
    "makePlot2(scaled_output, 'met_pt', 'pt', met_bins, r'$MET_{pt}\\ (GeV)$', labels, colors, signals, plot_dir)\n",
    "makePlot2(scaled_output, 'min_AK8_pt', 'pt', pt_bins, r'$p_{T}\\ (GeV)$', labels, colors, signals, plot_dir)\n",
    "makePlot2(scaled_output, 'n_AK4', 'multiplicity', N_bins2, r'$N_{AK4}$', labels, colors, signals, plot_dir)\n",
    "makePlot2(scaled_output, 'AK4_QCD_veto', 'phi', phi_bins2, r'$\\Delta\\varphi$', labels, colors, signals, plot_dir)\n",
    "makePlot2(scaled_output, 'AK8_QCD_veto', 'phi', phi_bins2, r'$\\Delta\\varphi$', labels, colors, signals, plot_dir)\n",
    "makePlot2(scaled_output, 'dphi_AK4_MET', 'phi', phi_bins2, r'$\\Delta\\varphi$', labels, colors, signals, plot_dir)\n",
    "makePlot2(scaled_output, 'dphi_AK8_MET', 'phi', phi_bins2, r'$\\Delta\\varphi$', labels, colors, signals, plot_dir)\n",
    "makePlot2(scaled_output, 'AK8_sdmass', 'mass', mass_bins, r'$softdrop\\ mass\\ (GeV)$', labels, colors, signals, plot_dir)\n",
    "makePlot2(scaled_output, 'MT', 'mt', mt_bins, r'$M_{T}$', labels, colors, signals, plot_dir)\n",
    "makePlot2(scaled_output, 'NH_weight', 'multiplicity', N_H_bins, r'$N_{H-tagged}$', labels, colors, signals, plot_dir)"
   ]
  },
  {
   "cell_type": "code",
   "execution_count": null,
   "id": "2d9de621",
   "metadata": {},
   "outputs": [],
   "source": [
    "import os\n",
    "\n",
    "output = scaled_output\n",
    "histo = 'met_pt'\n",
    "axis = 'pt'\n",
    "bins = met_bins\n",
    "xlabel = r'$MET_{pt}\\ (GeV)$'\n",
    "\n",
    "histos = {}\n",
    "        \n",
    "tmp1 = output[histo]\n",
    "tmp1 = tmp1.rebin(axis, bins)\n",
    "\n",
    "tmp2 = scaled_output2[histo].copy()\n",
    "tmp2 = tmp2.rebin(axis, bins)\n",
    "    \n",
    "keys = tmp1.values().keys()\n",
    "            \n",
    "for sample in keys:\n",
    "    if sample == ('other',):\n",
    "        h1 = Hist1D.from_bincounts(\n",
    "            tmp2.values(overflow = 'all')[sample].T,\n",
    "            (tmp2.axis(axis).edges(overflow = 'all')),\n",
    "            errors = np.sqrt(tmp2.values(sumw2=True, overflow = 'all')[sample][1].T),\n",
    "        )\n",
    "    else:\n",
    "        h1 = Hist1D.from_bincounts(\n",
    "            tmp1.values(overflow = 'all')[sample].T,\n",
    "            (tmp1.axis(axis).edges(overflow = 'all')),\n",
    "            errors = np.sqrt(tmp1.values(sumw2=True, overflow = 'all')[sample][1].T),\n",
    "        )\n",
    "    histos[sample] = h1\n",
    "\n",
    "edge = list(keys)[0]\n",
    "        \n",
    "backgrounds = []\n",
    "for sample in keys:\n",
    "    if sample not in signals:\n",
    "        backgrounds += (sample,)\n",
    "                           \n",
    "order = [('other',), ('WJetsToLNu',), ('TT',), ('QCD_bEnriched_HT',), ('ZJetsToNuNu_HT',),]\n",
    "#total_mc = get_total(histos, backgrounds)\n",
    "        \n",
    "fig, (ax) = plt.subplots(figsize=(10,10))\n",
    "hep.cms.label(\n",
    "    'Preliminary',\n",
    "    loc=0,\n",
    "    ax=ax,\n",
    "    #lumi = 3000,\n",
    "    rlabel = '14 TeV',\n",
    "        )\n",
    "if backgrounds != []:\n",
    "    hep.histplot(\n",
    "        [histos[sample].counts for sample in order],\n",
    "        histos[edge].edges,\n",
    "        #w2=[(histos[sample].errors)**2 for sample in order],\n",
    "        histtype=\"fill\",\n",
    "        density = False,\n",
    "        stack=True,\n",
    "        label=[labels[sample] for sample in order],\n",
    "        color=[colors[sample] for sample in order],\n",
    "        ax=ax\n",
    "    )\n",
    "        \n",
    "hep.histplot(\n",
    "    [histos[sample].counts for sample in signals[1:4]],\n",
    "    histos[edge].edges,\n",
    "    w2=[(histos[sample].errors)**2 for sample in signals[1:4]],\n",
    "    histtype=\"step\",\n",
    "    density = False,\n",
    "    stack=False,\n",
    "    label=[labels[sample] for sample in signals[1:4]],\n",
    "    ax=ax\n",
    ")\n",
    "        \n",
    "ax.set_xlabel(xlabel)\n",
    "ax.set_ylabel(r'Events')\n",
    "ax.set_yscale('log')\n",
    "ax.legend(prop={'size': 10})\n",
    "        \n",
    "#add_uncertainty(total_mc, ax, ratio=True)\n",
    "\n",
    "fig.savefig('/home/users/ewallace/public_html/HbbMET/plots/Feb3/'+str(histo)+'.png')"
   ]
  },
  {
   "cell_type": "markdown",
   "id": "3a548fc5",
   "metadata": {},
   "source": [
    "# 2D Plots"
   ]
  },
  {
   "cell_type": "code",
   "execution_count": null,
   "id": "973858e9",
   "metadata": {},
   "outputs": [],
   "source": [
    "MT_vs_sdmass = {\n",
    "    #'2HDMa_sinp_0.35_tanb_1.0_mXd_10_MH3_1500_MH4_150_MH2_1500_MHC_1500': {},\n",
    "    '2HDMa_sinp_0.35_tanb_1.0_mXd_10_MH3_1500_MH4_750_MH2_1500_MHC_1500': {},\n",
    "    '2HDMa_sinp_0.35_tanb_1.0_mXd_10_MH3_1750_MH4_750_MH2_1750_MHC_1750': {},\n",
    "    '2HDMa_sinp_0.35_tanb_1.0_mXd_10_MH3_2000_MH4_750_MH2_2000_MHC_2000': {},\n",
    "    'ZJetsToNuNu_HT':        {},\n",
    "    'other':                 {},\n",
    "    'TT':        {},\n",
    "    'WJetsToLNu':        {},\n",
    "    'QCD_bEnriched_HT':        {},\n",
    "}"
   ]
  },
  {
   "cell_type": "code",
   "execution_count": null,
   "id": "324eb0c2",
   "metadata": {},
   "outputs": [],
   "source": [
    "for sample in MT_vs_sdmass:\n",
    "    MT_vs_sdmass[sample] = Hist2D.from_bincounts(\n",
    "        scaled_output['MT_vs_sdmass'].values(overflow='over')[(sample,)].T,\n",
    "        (scaled_output['MT_vs_sdmass'].axis('mt').edges(overflow='over'), scaled_output['MT_vs_sdmass'].axis('mass').edges(overflow='over')),\n",
    "        errors = np.sqrt(scaled_output['MT_vs_sdmass'].values(sumw2=True, overflow='over')[(sample,)][1].T),\n",
    "    )"
   ]
  },
  {
   "cell_type": "code",
   "execution_count": null,
   "id": "3a5a2843",
   "metadata": {},
   "outputs": [],
   "source": [
    "fig, ax  = plt.subplots(1, 1,figsize=(13,10) )\n",
    "MT_vs_sdmass['QCD_bEnriched_HT'].plot(counts=True, equidistant='xy', counts_formatter=\"{:.2e} \\n$\\pm$\\n {:.2e}\".format, counts_fontsize=10,)\n",
    "ax.set_xlabel(r'$M_{T}$')\n",
    "ax.set_ylabel(r'$softdrop\\ mass$')\n",
    "fig.savefig('/home/users/ewallace/public_html/HbbMET/plots/Jan30/MT_vs_sdmass_QCD.png')"
   ]
  },
  {
   "cell_type": "code",
   "execution_count": null,
   "id": "14ef7219",
   "metadata": {},
   "outputs": [],
   "source": [
    "fig, ax  = plt.subplots(1, 1,figsize=(13,10) )\n",
    "MT_vs_sdmass['TT'].plot(counts=True, equidistant='xy', counts_formatter=\"{:.2e} \\n$\\pm$\\n {:.2e}\".format, counts_fontsize=10,)\n",
    "ax.set_xlabel(r'$M_{T}$')\n",
    "ax.set_ylabel(r'$softdrop\\ mass$')\n",
    "fig.savefig('/home/users/ewallace/public_html/HbbMET/plots/Jan30/MT_vs_sdmass_TT.png')"
   ]
  },
  {
   "cell_type": "code",
   "execution_count": null,
   "id": "01382ed6",
   "metadata": {},
   "outputs": [],
   "source": [
    "fig, ax  = plt.subplots(1, 1,figsize=(13,10) )\n",
    "MT_vs_sdmass['WJetsToLNu'].plot(counts=True, equidistant='xy', counts_formatter=\"{:.2e} \\n$\\pm$\\n {:.2e}\".format, counts_fontsize=10,)\n",
    "ax.set_xlabel(r'$M_{T}$')\n",
    "ax.set_ylabel(r'$softdrop\\ mass$')\n",
    "fig.savefig('/home/users/ewallace/public_html/HbbMET/plots/Jan30/MT_vs_sdmass_WJetsToLNu.png')"
   ]
  },
  {
   "cell_type": "code",
   "execution_count": null,
   "id": "bd746ae9",
   "metadata": {},
   "outputs": [],
   "source": [
    "fig, ax  = plt.subplots(1, 1,figsize=(13,10) )\n",
    "MT_vs_sdmass['ZJetsToNuNu_HT'].plot(counts=True, equidistant='xy', counts_formatter=\"{:.2e} \\n$\\pm$\\n {:.2e}\".format, counts_fontsize=10,)\n",
    "ax.set_xlabel(r'$M_{T}$')\n",
    "ax.set_ylabel(r'$softdrop\\ mass$')\n",
    "fig.savefig('/home/users/ewallace/public_html/HbbMET/plots/Jan30/MT_vs_sdmass_ZJetsToNuNu.png')"
   ]
  },
  {
   "cell_type": "code",
   "execution_count": null,
   "id": "e5e7695a",
   "metadata": {},
   "outputs": [],
   "source": [
    "fig, ax  = plt.subplots(1, 1,figsize=(13,10) )\n",
    "MT_vs_sdmass['other'].plot(counts=True, equidistant='xy', counts_formatter=\"{:.2e} \\n$\\pm$\\n {:.2e}\".format, counts_fontsize=10,)\n",
    "ax.set_xlabel(r'$M_{T}$')\n",
    "ax.set_ylabel(r'$softdrop\\ mass$')\n",
    "fig.savefig('/home/users/ewallace/public_html/HbbMET/plots/Jan30/MT_vs_sdmass_SMHiggs.png')"
   ]
  },
  {
   "cell_type": "code",
   "execution_count": null,
   "id": "42eacd41",
   "metadata": {},
   "outputs": [],
   "source": [
    "fig, ax  = plt.subplots(1, 1,figsize=(13,10) )\n",
    "MT_vs_sdmass['2HDMa_sinp_0.35_tanb_1.0_mXd_10_MH3_1500_MH4_750_MH2_1500_MHC_1500'].plot(counts=True, equidistant='xy', counts_formatter=\"{:.2e} \\n$\\pm$\\n {:.2e}\".format, counts_fontsize=10,)\n",
    "ax.set_xlabel(r'$M_{T}$')\n",
    "ax.set_ylabel(r'$softdrop\\ mass$')\n",
    "fig.savefig('/home/users/ewallace/public_html/HbbMET/plots/Jan30/MT_vs_sdmass_1500_750.png')"
   ]
  },
  {
   "cell_type": "code",
   "execution_count": null,
   "id": "b5f2293e",
   "metadata": {},
   "outputs": [],
   "source": [
    "fig, ax  = plt.subplots(1, 1,figsize=(13,10) )\n",
    "MT_vs_sdmass['2HDMa_sinp_0.35_tanb_1.0_mXd_10_MH3_1750_MH4_750_MH2_1750_MHC_1750'].plot(counts=True, equidistant='xy', counts_formatter=\"{:.2e} \\n$\\pm$\\n {:.2e}\".format, counts_fontsize=10,)\n",
    "ax.set_xlabel(r'$M_{T}$')\n",
    "ax.set_ylabel(r'$softdrop\\ mass$')\n",
    "fig.savefig('/home/users/ewallace/public_html/HbbMET/plots/Jan30/MT_vs_sdmass_1750_750.png')"
   ]
  },
  {
   "cell_type": "code",
   "execution_count": null,
   "id": "3b13344e",
   "metadata": {},
   "outputs": [],
   "source": [
    "fig, ax  = plt.subplots(1, 1,figsize=(13,10) )\n",
    "MT_vs_sdmass['2HDMa_sinp_0.35_tanb_1.0_mXd_10_MH3_2000_MH4_750_MH2_2000_MHC_2000'].plot(counts=True, equidistant='xy', counts_formatter=\"{:.2e} \\n$\\pm$\\n {:.2e}\".format, counts_fontsize=10,)\n",
    "ax.set_xlabel(r'$M_{T}$')\n",
    "ax.set_ylabel(r'$softdrop\\ mass$')\n",
    "fig.savefig('/home/users/ewallace/public_html/HbbMET/plots/Jan30/MT_vs_sdmass_2000_750.png')"
   ]
  },
  {
   "cell_type": "markdown",
   "id": "6e9c71f3",
   "metadata": {},
   "source": [
    "# Cutflow"
   ]
  },
  {
   "cell_type": "code",
   "execution_count": null,
   "id": "7ca52f0b",
   "metadata": {},
   "outputs": [],
   "source": [
    "output_flat = accumulate(\n",
    "    [\n",
    "        util.load(\"/home/users/dspitzba/snowblower/analysis/outputs/output_signal_run20220125_150734.coffea\"),\n",
    "        util.load(\"/home/users/dspitzba/snowblower/analysis/outputs/output_QCD_run20220125_171824.coffea\"),\n",
    "        util.load(\"/home/users/dspitzba/snowblower/analysis/outputs/output_TT_run20220125_171025.coffea\"),\n",
    "        util.load(\"/home/users/dspitzba/snowblower/analysis/outputs/output_W_run20220125_170224.coffea\"),\n",
    "        util.load(\"/home/users/dspitzba/snowblower/analysis/outputs/output_Z_run20220125_183109.coffea\"),\n",
    "        #util.load(\"/home/users/dspitzba/snowblower/analysis/outputs/output_other_scaled_run20220125_163014.coffea\"),\n",
    "    ]\n",
    ")"
   ]
  },
  {
   "cell_type": "code",
   "execution_count": null,
   "id": "5d5f487e",
   "metadata": {},
   "outputs": [],
   "source": [
    "output_flat = accumulate(\n",
    "    [\n",
    "        util.load(\"/home/users/ewallace/snowblower/analysis/outputs/output_all_run20220131_132242.coffea\"),\n",
    "        util.load(\"/home/users/ewallace/snowblower/analysis/outputs/output_signal_run20220203_124123.coffea\"),\n",
    "    ]\n",
    ")"
   ]
  },
  {
   "cell_type": "code",
   "execution_count": null,
   "id": "3ff057be",
   "metadata": {},
   "outputs": [],
   "source": [
    "with open('../data/samples.yaml', 'r') as f:\n",
    "    samples = yaml.load(f, Loader = Loader)"
   ]
  },
  {
   "cell_type": "code",
   "execution_count": null,
   "id": "73244dbb",
   "metadata": {},
   "outputs": [],
   "source": [
    "fileset = {\n",
    "    'TT_TuneCUETP8M2T4_14TeV-powheg-pythia8_200PU': samples['TT_TuneCUETP8M2T4_14TeV-powheg-pythia8_200PU']['skim'],\n",
    "    'TT_Mtt1000toInf_TuneCUETP8M1_14TeV-powheg-pythia8_200PU': samples['TT_Mtt1000toInf_TuneCUETP8M1_14TeV-powheg-pythia8_200PU']['skim'],\n",
    "    'ST_tch_14TeV_top_incl-powheg-pythia8-madspin_200PU': samples['ST_tch_14TeV_top_incl-powheg-pythia8-madspin_200PU']['skim'],\n",
    "    'ST_tch_14TeV_antitop_incl-powheg-pythia8-madspin_200PU': samples['ST_tch_14TeV_antitop_incl-powheg-pythia8-madspin_200PU']['skim'],\n",
    "    'ST_tW_top_5f_inclusiveDecays_14TeV-powheg-pythia8_TuneCUETP8M1_200PU': samples['ST_tW_top_5f_inclusiveDecays_14TeV-powheg-pythia8_TuneCUETP8M1_200PU']['skim'],\n",
    "    'ST_tW_antitop_5f_inclusiveDecays_14TeV-powheg-pythia8_TuneCUETP8M1_200PU': samples['ST_tW_antitop_5f_inclusiveDecays_14TeV-powheg-pythia8_TuneCUETP8M1_200PU']['skim'],\n",
    "    'ZJetsToNuNu_HT-100To200_14TeV-madgraph_200PU': samples['ZJetsToNuNu_HT-100To200_14TeV-madgraph_200PU']['skim'],\n",
    "    'ZJetsToNuNu_HT-200To400_14TeV-madgraph_200PU': samples['ZJetsToNuNu_HT-200To400_14TeV-madgraph_200PU']['skim'],\n",
    "    'ZJetsToNuNu_HT-400To600_14TeV-madgraph_200PU': samples['ZJetsToNuNu_HT-400To600_14TeV-madgraph_200PU']['skim'],\n",
    "    'ZJetsToNuNu_HT-600To800_14TeV-madgraph_200PU': samples['ZJetsToNuNu_HT-600To800_14TeV-madgraph_200PU']['skim'],\n",
    "    'ZJetsToNuNu_HT-800To1200_14TeV-madgraph_200PU': samples['ZJetsToNuNu_HT-800To1200_14TeV-madgraph_200PU']['skim'],\n",
    "    'ZJetsToNuNu_HT-1200To2500_14TeV-madgraph_200PU': samples['ZJetsToNuNu_HT-1200To2500_14TeV-madgraph_200PU']['skim'],\n",
    "    'ZJetsToNuNu_HT2500toInf_HLLHC': samples['ZJetsToNuNu_HT2500toInf_HLLHC']['skim'],\n",
    "    'WJetsToLNu_GenMET-100_TuneCUETP8M1_14TeV-madgraphMLM-pythia8_200PU': samples['WJetsToLNu_GenMET-100_TuneCUETP8M1_14TeV-madgraphMLM-pythia8_200PU']['skim'],\n",
    "    'WJetsToLNu_TuneCUETP8M1_14TeV-madgraphMLM-pythia8_200PU': samples['WJetsToLNu_TuneCUETP8M1_14TeV-madgraphMLM-pythia8_200PU']['skim'],\n",
    "    'QCD_bEnriched_HT1000to1500_TuneCUETP8M1_14TeV-madgraphMLM-pythia8_200PU': samples['QCD_bEnriched_HT1000to1500_TuneCUETP8M1_14TeV-madgraphMLM-pythia8_200PU']['skim'],\n",
    "    'QCD_bEnriched_HT1500to2000_TuneCUETP8M1_14TeV-madgraphMLM-pythia8_200PU': samples['QCD_bEnriched_HT1500to2000_TuneCUETP8M1_14TeV-madgraphMLM-pythia8_200PU']['skim'],\n",
    "    'QCD_bEnriched_HT2000toInf_TuneCUETP8M1_14TeV-madgraphMLM-pythia8_200PU': samples['QCD_bEnriched_HT2000toInf_TuneCUETP8M1_14TeV-madgraphMLM-pythia8_200PU']['skim'],\n",
    "    'QCD_bEnriched_HT200to300_TuneCUETP8M1_14TeV-madgraphMLM-pythia8_200PU': samples['QCD_bEnriched_HT200to300_TuneCUETP8M1_14TeV-madgraphMLM-pythia8_200PU']['skim'],\n",
    "    'QCD_bEnriched_HT300to500_TuneCUETP8M1_14TeV-madgraphMLM-pythia8_200PU': samples['QCD_bEnriched_HT300to500_TuneCUETP8M1_14TeV-madgraphMLM-pythia8_200PU']['skim'],\n",
    "    'QCD_bEnriched_HT500to700_TuneCUETP8M1_14TeV-madgraphMLM-pythia8_200PU': samples['QCD_bEnriched_HT500to700_TuneCUETP8M1_14TeV-madgraphMLM-pythia8_200PU']['skim'],\n",
    "    'QCD_bEnriched_HT700to1000_TuneCUETP8M1_14TeV-madgraphMLM-pythia8_200PU': samples['QCD_bEnriched_HT700to1000_TuneCUETP8M1_14TeV-madgraphMLM-pythia8_200PU']['skim'],\n",
    "    'ZH_HToBB_ZToNuNu_M125_13TeV_powheg_pythia8_200PU': samples['ZH_HToBB_ZToNuNu_M125_13TeV_powheg_pythia8_200PU']['skim'],\n",
    "    'WminusH_HToBB_WToLNu_M125_14TeV_powheg_pythia8_200PU': samples['WminusH_HToBB_WToLNu_M125_14TeV_powheg_pythia8_200PU']['skim'],\n",
    "    'WplusH_HToBB_WToLNu_M125_14TeV_powheg_pythia8_200PU': samples['WplusH_HToBB_WToLNu_M125_14TeV_powheg_pythia8_200PU']['skim'],\n",
    "    '2HDMa_bb_sinp_0.35_tanb_1.0_mXd_10_MH3_1000_MH4_150_MH2_1000_MHC_1000': samples['2HDMa_bb_sinp_0.35_tanb_1.0_mXd_10_MH3_1000_MH4_150_MH2_1000_MHC_1000']['ntuples'],\n",
    "    '2HDMa_gg_sinp_0.35_tanb_1.0_mXd_10_MH3_1000_MH4_150_MH2_1000_MHC_1000': samples['2HDMa_gg_sinp_0.35_tanb_1.0_mXd_10_MH3_1000_MH4_150_MH2_1000_MHC_1000']['ntuples'],\n",
    "    '2HDMa_bb_sinp_0.35_tanb_1.0_mXd_10_MH3_1500_MH4_150_MH2_1500_MHC_1500': samples['2HDMa_bb_sinp_0.35_tanb_1.0_mXd_10_MH3_1500_MH4_150_MH2_1500_MHC_1500']['ntuples'],\n",
    "    '2HDMa_gg_sinp_0.35_tanb_1.0_mXd_10_MH3_1500_MH4_150_MH2_1500_MHC_1500': samples['2HDMa_gg_sinp_0.35_tanb_1.0_mXd_10_MH3_1500_MH4_150_MH2_1500_MHC_1500']['ntuples'],\n",
    "    '2HDMa_bb_sinp_0.35_tanb_1.0_mXd_10_MH3_1500_MH4_750_MH2_1500_MHC_1500': samples['2HDMa_bb_sinp_0.35_tanb_1.0_mXd_10_MH3_1500_MH4_750_MH2_1500_MHC_1500']['ntuples'],\n",
    "    '2HDMa_bb_sinp_0.35_tanb_1.0_mXd_10_MH3_1750_MH4_750_MH2_1750_MHC_1750': samples['2HDMa_bb_sinp_0.35_tanb_1.0_mXd_10_MH3_1750_MH4_750_MH2_1750_MHC_1750']['ntuples'],\n",
    "    '2HDMa_bb_sinp_0.35_tanb_1.0_mXd_10_MH3_2000_MH4_750_MH2_2000_MHC_2000': samples['2HDMa_bb_sinp_0.35_tanb_1.0_mXd_10_MH3_2000_MH4_750_MH2_2000_MHC_2000']['ntuples'],\n",
    "    '2HDMa_gg_sinp_0.35_tanb_1.0_mXd_10_MH3_1500_MH4_750_MH2_1500_MHC_1500': samples['2HDMa_gg_sinp_0.35_tanb_1.0_mXd_10_MH3_1500_MH4_750_MH2_1500_MHC_1500']['ntuples'],\n",
    "    '2HDMa_gg_sinp_0.35_tanb_1.0_mXd_10_MH3_1750_MH4_750_MH2_1750_MHC_1750': samples['2HDMa_gg_sinp_0.35_tanb_1.0_mXd_10_MH3_1750_MH4_750_MH2_1750_MHC_1750']['ntuples'],\n",
    "    '2HDMa_gg_sinp_0.35_tanb_1.0_mXd_10_MH3_2000_MH4_750_MH2_2000_MHC_2000': samples['2HDMa_gg_sinp_0.35_tanb_1.0_mXd_10_MH3_2000_MH4_750_MH2_2000_MHC_2000']['ntuples'],\n",
    "}"
   ]
  },
  {
   "cell_type": "code",
   "execution_count": null,
   "id": "d5a4d9f9",
   "metadata": {},
   "outputs": [],
   "source": [
    "import uproot\n",
    "signal = [\n",
    "    '2HDMa_bb_sinp_0.35_tanb_1.0_mXd_10_MH3_1000_MH4_150_MH2_1000_MHC_1000',\n",
    "    '2HDMa_gg_sinp_0.35_tanb_1.0_mXd_10_MH3_1000_MH4_150_MH2_1000_MHC_1000',\n",
    "    '2HDMa_bb_sinp_0.35_tanb_1.0_mXd_10_MH3_1500_MH4_150_MH2_1500_MHC_1500',\n",
    "    '2HDMa_gg_sinp_0.35_tanb_1.0_mXd_10_MH3_1500_MH4_150_MH2_1500_MHC_1500',\n",
    "    '2HDMa_bb_sinp_0.35_tanb_1.0_mXd_10_MH3_1500_MH4_750_MH2_1500_MHC_1500',\n",
    "    '2HDMa_bb_sinp_0.35_tanb_1.0_mXd_10_MH3_1750_MH4_750_MH2_1750_MHC_1750',\n",
    "    '2HDMa_bb_sinp_0.35_tanb_1.0_mXd_10_MH3_2000_MH4_750_MH2_2000_MHC_2000',\n",
    "    '2HDMa_gg_sinp_0.35_tanb_1.0_mXd_10_MH3_1500_MH4_750_MH2_1500_MHC_1500',\n",
    "    '2HDMa_gg_sinp_0.35_tanb_1.0_mXd_10_MH3_1750_MH4_750_MH2_1750_MHC_1750',\n",
    "    '2HDMa_gg_sinp_0.35_tanb_1.0_mXd_10_MH3_2000_MH4_750_MH2_2000_MHC_2000'\n",
    "]\n",
    "\n",
    "nevents = {}\n",
    "\n",
    "for sample in fileset:\n",
    "    nevents[sample] = 0\n",
    "    if sample in signal:\n",
    "        nevents[sample] = samples[sample]['nevents']\n",
    "    else:   \n",
    "        for file in fileset[sample]:\n",
    "            with uproot.open(file+':nevents') as counts:\n",
    "                nevents[file] = counts.counts()[0]  \n",
    "                nevents[sample] += nevents[file]\n",
    "\n",
    "meta = {}\n",
    "\n",
    "for sample in fileset:\n",
    "    meta[sample] = output_flat[sample]\n",
    "    meta[sample]['xsec'] = samples[sample]['xsec']\n",
    "    meta[sample]['nevents'] = nevents[sample]"
   ]
  },
  {
   "cell_type": "code",
   "execution_count": null,
   "id": "352c50ad",
   "metadata": {},
   "outputs": [],
   "source": [
    "output_flat['cutflow']"
   ]
  },
  {
   "cell_type": "code",
   "execution_count": null,
   "id": "b6808c9a",
   "metadata": {},
   "outputs": [],
   "source": [
    "cutflow = cutflow_scale_and_merge(output_flat['cutflow'], meta, fileset, 3000)"
   ]
  },
  {
   "cell_type": "code",
   "execution_count": null,
   "id": "98ca80b1",
   "metadata": {},
   "outputs": [],
   "source": [
    "proceses = ['ZJetsToNuNu_HT', 'WJetsToLNu', 'QCD_bEnriched_HT', 'TT', 'other', '2HDMa_1500__150', '2HDMa_1000__150']\n",
    "cuts = ['total', 'lepton_veto', 'MET>300', 'N_AK8>0', 'N_AK4>1', 'min_AK8_pt', 'dphi_AK8_MET>1', '1<dphi_AK4_MET<3', 'AK4_QCD_veto', 'AK8_QCD_veto', 'N_H>0', 'on_H', 'MT>600', 'MT>1200' ]"
   ]
  },
  {
   "cell_type": "code",
   "execution_count": null,
   "id": "61421ff8",
   "metadata": {},
   "outputs": [],
   "source": [
    "getCutFlowTable(cutflow, proceses, cuts, significantFigures=4, absolute=True, signal = ['2HDMa_1500__150', '2HDMa_1000__150'])"
   ]
  },
  {
   "cell_type": "code",
   "execution_count": null,
   "id": "82eb2df9",
   "metadata": {},
   "outputs": [],
   "source": [
    "cutflow2"
   ]
  },
  {
   "cell_type": "markdown",
   "id": "4763ad0c",
   "metadata": {},
   "source": [
    "# Other Plots"
   ]
  },
  {
   "cell_type": "code",
   "execution_count": null,
   "id": "a6ac8d36",
   "metadata": {},
   "outputs": [],
   "source": [
    "path = '../analysis/histos/scaled_output.pkl.gz'\n",
    "with gzip.open(path) as fin:\n",
    "    scaled_output = pickle.load(fin)"
   ]
  },
  {
   "cell_type": "code",
   "execution_count": null,
   "id": "fddeffa9",
   "metadata": {},
   "outputs": [],
   "source": [
    "pt_coarse_bins = hist.Bin('pt', r'$p_{T}\\ (GeV)$', 10, 200, 1200)\n",
    "phi_coarse_bins = hist.Bin(\"phi\", \"$\\phi$\", 20, 0, 4)\n",
    "\n",
    "scaled_output['b_DeltaR_vs_H_pt'] = scaled_output['b_DeltaR_vs_H_pt'].rebin('pt', pt_coarse_bins)\n",
    "scaled_output['b_DeltaR_vs_H_pt'] = scaled_output['b_DeltaR_vs_H_pt'].rebin('phi', phi_coarse_bins)\n",
    "\n",
    "b_DeltaR_vs_H_pt_1500_150 = Hist2D.from_bincounts(\n",
    "    scaled_output['b_DeltaR_vs_H_pt'].values(overflow='over')[('2HDMa_sinp_0.35_tanb_1.0_mXd_10_MH3_1500_MH4_150_MH2_1500_MHC_1500',)].T,\n",
    "    (scaled_output['b_DeltaR_vs_H_pt'].axis('pt').edges(overflow='over'), scaled_output['b_DeltaR_vs_H_pt'].axis('phi').edges(overflow='over')),\n",
    "    errors = np.sqrt(scaled_output['b_DeltaR_vs_H_pt'].values(sumw2=True, overflow='over')[('2HDMa_sinp_0.35_tanb_1.0_mXd_10_MH3_1500_MH4_150_MH2_1500_MHC_1500',)][1].T),\n",
    ")\n",
    "\n",
    "b_DeltaR_vs_H_pt_1500_750 = Hist2D.from_bincounts(\n",
    "    scaled_output['b_DeltaR_vs_H_pt'].values(overflow='over')[('2HDMa_sinp_0.35_tanb_1.0_mXd_10_MH3_1500_MH4_750_MH2_1500_MHC_1500',)].T,\n",
    "    (scaled_output['b_DeltaR_vs_H_pt'].axis('pt').edges(overflow='over'), scaled_output['b_DeltaR_vs_H_pt'].axis('phi').edges(overflow='over')),\n",
    "    errors = np.sqrt(scaled_output['b_DeltaR_vs_H_pt'].values(sumw2=True, overflow='over')[('2HDMa_sinp_0.35_tanb_1.0_mXd_10_MH3_1500_MH4_750_MH2_1500_MHC_1500',)][1].T),\n",
    ")\n",
    "\n",
    "b_DeltaR_vs_H_pt_1750_750 = Hist2D.from_bincounts(\n",
    "    scaled_output['b_DeltaR_vs_H_pt'].values(overflow='over')[('2HDMa_sinp_0.35_tanb_1.0_mXd_10_MH3_1750_MH4_750_MH2_1750_MHC_1750',)].T,\n",
    "    (scaled_output['b_DeltaR_vs_H_pt'].axis('pt').edges(overflow='over'), scaled_output['b_DeltaR_vs_H_pt'].axis('phi').edges(overflow='over')),\n",
    "    errors = np.sqrt(scaled_output['b_DeltaR_vs_H_pt'].values(sumw2=True, overflow='over')[('2HDMa_sinp_0.35_tanb_1.0_mXd_10_MH3_1750_MH4_750_MH2_1750_MHC_1750',)][1].T),\n",
    ")\n",
    "\n",
    "b_DeltaR_vs_H_pt_2000_750 = Hist2D.from_bincounts(\n",
    "    scaled_output['b_DeltaR_vs_H_pt'].values(overflow='over')[('2HDMa_sinp_0.35_tanb_1.0_mXd_10_MH3_2000_MH4_750_MH2_2000_MHC_2000',)].T,\n",
    "    (scaled_output['b_DeltaR_vs_H_pt'].axis('pt').edges(overflow='over'), scaled_output['b_DeltaR_vs_H_pt'].axis('phi').edges(overflow='over')),\n",
    "    errors = np.sqrt(scaled_output['b_DeltaR_vs_H_pt'].values(sumw2=True, overflow='over')[('2HDMa_sinp_0.35_tanb_1.0_mXd_10_MH3_2000_MH4_750_MH2_2000_MHC_2000',)][1].T),\n",
    ")"
   ]
  },
  {
   "cell_type": "code",
   "execution_count": null,
   "id": "b3e3c49f",
   "metadata": {},
   "outputs": [],
   "source": [
    "scaled_output['b_DeltaR_vs_H_pt']"
   ]
  },
  {
   "cell_type": "code",
   "execution_count": null,
   "id": "2ebbe055",
   "metadata": {},
   "outputs": [],
   "source": [
    "fig, ax  = plt.subplots(1, 1,figsize=(13,10) )\n",
    "b_DeltaR_vs_H_pt_1500_150.plot(counts=False, equidistant='xy', counts_formatter=\"{:.1e} \\n$\\pm$\\n {:.1e}\".format, counts_fontsize=10,)\n",
    "ax.set_xlabel(r'$p_{T}$')\n",
    "ax.set_ylabel(r'$\\Delta\\ R$')\n",
    "#fig.savefig('/home/users/ewallace/public_html/HbbMET/plots/signal_region/MT_vs_sdmass_2000_750.png')"
   ]
  },
  {
   "cell_type": "code",
   "execution_count": null,
   "id": "724508d1",
   "metadata": {},
   "outputs": [],
   "source": [
    "target = scaled_output['b_DeltaR_vs_H_pt'].integrate('pt', slice(200,1200), overflow='over').integrate('phi', slice(0,0.8)).values()"
   ]
  },
  {
   "cell_type": "code",
   "execution_count": null,
   "id": "5156cdf0",
   "metadata": {},
   "outputs": [],
   "source": [
    "total = scaled_output['b_DeltaR_vs_H_pt'].integrate('pt', overflow='over').integrate('phi', overflow='over').values()"
   ]
  },
  {
   "cell_type": "code",
   "execution_count": null,
   "id": "84e91e3b",
   "metadata": {},
   "outputs": [],
   "source": [
    "frac = {}\n",
    "for key in target:\n",
    "    frac[key] = target[key]/total[key]"
   ]
  },
  {
   "cell_type": "code",
   "execution_count": null,
   "id": "6ecd29f9",
   "metadata": {},
   "outputs": [],
   "source": [
    "frac"
   ]
  },
  {
   "cell_type": "code",
   "execution_count": null,
   "id": "039d762e",
   "metadata": {},
   "outputs": [],
   "source": [
    "fig, ax  = plt.subplots(1, 1,figsize=(13,10) )\n",
    "b_DeltaR_vs_H_pt_1500_750.plot(counts=True, equidistant='xy', counts_formatter=\"{:.2e} \\n$\\pm$\\n {:.2e}\".format, counts_fontsize=10,)\n",
    "ax.set_xlabel(r'$p_{T}$')\n",
    "ax.set_ylabel(r'$\\Delta\\ R$')\n",
    "#fig.savefig('/home/users/ewallace/public_html/HbbMET/plots/signal_region/MT_vs_sdmass_2000_750.png')"
   ]
  },
  {
   "cell_type": "code",
   "execution_count": null,
   "id": "e9481c3e",
   "metadata": {},
   "outputs": [],
   "source": [
    "fig, ax  = plt.subplots(1, 1,figsize=(13,10) )\n",
    "b_DeltaR_vs_H_pt_1750_750.plot(counts=False, equidistant='xy', counts_formatter=\"{:.2e} \\n$\\pm$\\n {:.2e}\".format, counts_fontsize=10,)\n",
    "ax.set_xlabel(r'$p_{T}$')\n",
    "ax.set_ylabel(r'$\\Delta\\ R$')\n",
    "#fig.savefig('/home/users/ewallace/public_html/HbbMET/plots/signal_region/MT_vs_sdmass_2000_750.png')"
   ]
  },
  {
   "cell_type": "code",
   "execution_count": null,
   "id": "754b3d3f",
   "metadata": {},
   "outputs": [],
   "source": [
    "fig, ax  = plt.subplots(1, 1,figsize=(13,10) )\n",
    "b_DeltaR_vs_H_pt_2000_750.plot(counts=False, equidistant='xy', counts_formatter=\"{:.1e} \\n$\\pm$\\n {:.1e}\".format, counts_fontsize=10,)\n",
    "ax.set_xlabel(r'$p_{T}$')\n",
    "ax.set_ylabel(r'$\\Delta\\ R$')\n",
    "fig.savefig('/home/users/ewallace/public_html/HbbMET/plots/b_DeltaR_vs_H_pt_2000_750.png')"
   ]
  },
  {
   "cell_type": "code",
   "execution_count": null,
   "id": "583cedb4",
   "metadata": {},
   "outputs": [],
   "source": [
    "import mplhep as hep\n",
    "plt.style.use(hep.style.CMS)"
   ]
  },
  {
   "cell_type": "code",
   "execution_count": null,
   "id": "260d65a4",
   "metadata": {},
   "outputs": [],
   "source": [
    "fig, (ax) = plt.subplots(figsize=(10,10))\n",
    "hep.cms.label(\n",
    "    'Preliminary',\n",
    "    loc=0,\n",
    "    ax=ax,\n",
    "    lumi = 3000,\n",
    "    rlabel = r'$3000\\ fb^{-1}\\ (14\\ TeV)$',\n",
    "    )\n",
    "\n",
    "x_750 = np.array([1250, 1500, 1600, 1750, 1900, 2000, 2250])\n",
    "y_750 = np.array([9.2188, 2.5547, 1.8672, 1.7266, 1.8984, 2.0234, 3.1719])\n",
    "error_down_750 = np.array([6.5739, 1.8218, 1.3202, 1.2229, 1.3330, 1.4109, 2.2116])\n",
    "error_up_750 = np.array([13.1506, 3.6646, 2.6933, 2.5111, 2.7838, 2.9752, 4.6764])\n",
    "\n",
    "\n",
    "x_250 = np.array([750, 1000, 1250, 1500, 1600, 1750, 1900, 2000, 2250])\n",
    "y_250 = np.array([1.3516, 0.3135, 0.2998, 0.3496, 0.4102, 0.5820, 0.7227, 0.7812, 1.6953])\n",
    "error_down_250 = np.array([0.9912, 0.2251, 0.2131, 0.2463, 0.2880, 0.4058, 0.5021, 0.5379, 1.1438])\n",
    "error_up_250 = np.array([1.8849, 0.4447, 0.4325, 0.5085, 0.5998, 0.8581, 1.0770, 1.1767, 2.6076])\n",
    "\n",
    "\n",
    "plt.plot(x_750, y_750, linewidth = 1.75, color='#9D5783', label=r'$m_a=750$')\n",
    "plt.plot(x_250, y_250, linewidth = 1.75, color='#579D71', label=r'$m_a=250$')\n",
    "plt.fill_between(x_750, error_down_750, error_up_750, color='#9D5783', alpha=0.5)\n",
    "plt.fill_between(x_250, error_down_250, error_up_250, color='#579D71', alpha=0.5)\n",
    "plt.hlines(1, 750, 2250,linewidths = 1.0,color='gray',zorder=5)\n",
    "plt.xlabel(r'$m_A$')\n",
    "plt.ylabel(r'$\\mu=\\sigma/\\sigma_{theory}$')\n",
    "plt.legend()\n",
    "#plt.ylim((0,3))\n",
    "#plt.yscale('log')\n",
    "plt.show()\n",
    "fig.savefig('/home/users/ewallace/public_html/HbbMET/plots/limit_scan_3.png')"
   ]
  },
  {
   "cell_type": "code",
   "execution_count": null,
   "id": "5eeeb072",
   "metadata": {},
   "outputs": [],
   "source": [
    "fig, (ax) = plt.subplots(figsize=(10,10))\n",
    "hep.cms.label(\n",
    "    'Preliminary',\n",
    "    loc=0,\n",
    "    ax=ax,\n",
    "    lumi = 3000,\n",
    "    rlabel = r'$3000\\ fb^{-1}\\ (14\\ TeV)$',\n",
    "    )\n",
    "x_750 = np.array([1250, 1500, 1600, 1750, 1900, 2000, 2250])\n",
    "y_750 = np.array([0.206839, 0.729349, 1.01019, 1.11584, 1.04449, 0.993213, 0.65128])\n",
    "#error_up_750 = np.array([3.6189, 0.9219, 0.6194, 0.5942, 0.7469, 0.8486, 1.3864])\n",
    "#error_down_750 = np.array([2.4117, 0.5971, 0.3938, 0.3860, 0.4810, 0.5306, 0.8774])\n",
    "\n",
    "x_250 = np.array([750, 1000, 1250, 1500, 1600, 1750, 1900, 2000, 2250])\n",
    "y_250 = np.array([1.13001, 4.18344, 4.88364, 4.64232, 4.1621, 3.11653, 2.54679, 2.38059, 1.27641])\n",
    "#error_up_250 = np.array([0.5288, 0.1251, 0.1048, 0.1215, 0.1549, 0.2377, 0.3109, 0.3541, 0.8388])\n",
    "#error_down_250 = np.array([0.3604, 0.0843, 0.0680, 0.0789, 0.0989, 0.1544, 0.1951, 0.2169, 0.5046])\n",
    "\n",
    "plt.plot(x_750, y_750, linewidth = 1.75, color='#9D5783', label=r'$m_a=750$')\n",
    "plt.plot(x_250, y_250, linewidth = 1.75, color='#579D71', label=r'$m_a=250$')\n",
    "#plt.fill_between(x_750, y_750-error_down_750, y_750+error_up_750, color='#9D5783', alpha=0.5)\n",
    "#plt.fill_between(x_250, y_250-error_down_250, y_250+error_up_250, color='#D4969A', alpha=0.5)\n",
    "plt.hlines(3, 750, 2250,linewidths = 1.0,color='gray',zorder=5)\n",
    "plt.hlines(5, 750, 2250,linewidths = 1.0,color='gray',zorder=5)\n",
    "plt.xlabel(r'$m_A$')\n",
    "plt.ylabel(r'$\\sigma$')\n",
    "plt.legend()\n",
    "#plt.ylim((0,3))\n",
    "#plt.yscale('log')\n",
    "plt.show()\n",
    "fig.savefig('/home/users/ewallace/public_html/HbbMET/plots/significance_scan_2.png')"
   ]
  },
  {
   "cell_type": "code",
   "execution_count": null,
   "id": "3d1f1987",
   "metadata": {},
   "outputs": [],
   "source": []
  }
 ],
 "metadata": {
  "kernelspec": {
   "display_name": "coffeadev",
   "language": "python",
   "name": "coffeadev"
  },
  "language_info": {
   "codemirror_mode": {
    "name": "ipython",
    "version": 3
   },
   "file_extension": ".py",
   "mimetype": "text/x-python",
   "name": "python",
   "nbconvert_exporter": "python",
   "pygments_lexer": "ipython3",
   "version": "3.9.7"
  }
 },
 "nbformat": 4,
 "nbformat_minor": 5
}
