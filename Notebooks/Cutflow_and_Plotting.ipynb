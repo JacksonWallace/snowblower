{
 "cells": [
  {
   "cell_type": "markdown",
   "id": "cc90a116",
   "metadata": {},
   "source": [
    "## Setting Up Plots"
   ]
  },
  {
   "cell_type": "code",
   "execution_count": null,
   "id": "7f7fca5e",
   "metadata": {},
   "outputs": [],
   "source": [
    "import numpy as np\n",
    "import awkward as ak\n",
    "import matplotlib.pyplot as plt\n",
    "import gzip\n",
    "import pickle\n",
    "from coffea import hist, processor, util\n",
    "from plots.helpers import makePlot2\n",
    "from coffea.processor import accumulate\n",
    "from yahist import Hist1D, Hist2D\n",
    "from yaml import Loader, Dumper\n",
    "import yaml\n",
    "from tools.helpers import cutflow_scale_and_merge, getCutFlowTable"
   ]
  },
  {
   "cell_type": "code",
   "execution_count": null,
   "id": "537c7655",
   "metadata": {},
   "outputs": [],
   "source": [
    "scaled_output = accumulate(\n",
    "    [\n",
    "        util.load(\"/home/users/dspitzba/snowblower/analysis/outputs/output_signal_scaled_run20220125_150734.coffea\"),\n",
    "        util.load(\"/home/users/dspitzba/snowblower/analysis/outputs/output_QCD_scaled_run20220125_171824.coffea\"),\n",
    "        util.load(\"/home/users/dspitzba/snowblower/analysis/outputs/output_TT_scaled_run20220125_171025.coffea\"),\n",
    "        util.load(\"/home/users/dspitzba/snowblower/analysis/outputs/output_W_scaled_run20220125_170224.coffea\"),\n",
    "        util.load(\"/home/users/dspitzba/snowblower/analysis/outputs/output_Z_scaled_run20220125_183109.coffea\"),\n",
    "        #util.load(\"/home/users/dspitzba/snowblower/analysis/outputs/output_other_scaled_run20220125_163014.coffea\"),\n",
    "    ]\n",
    ")"
   ]
  },
  {
   "cell_type": "code",
   "execution_count": null,
   "id": "f0bf0614",
   "metadata": {},
   "outputs": [],
   "source": [
    "N_bins = hist.Bin('multiplicity', r'$N$', 4, 0.5, 4.5)\n",
    "N_bins2 = hist.Bin('multiplicity', r'$N$', 7, 0.5, 7.5)\n",
    "N_H_bins = hist.Bin('multiplicity', r'$N$', 1, -0.5, 0.5)\n",
    "mass_bins = hist.Bin('mass', r'$M\\ (GeV)$', 40, 0, 400)\n",
    "mass_bins2 = hist.Bin('mass', r'$M\\ (GeV)$', 3, 0, 150)\n",
    "ht_bins = hist.Bin('pt', r'$H_{T}\\ (GeV)$', 60, 0, 3000)\n",
    "mt_bins = hist.Bin('mt', r'$M_{T}\\ (GeV)$', 9, 600, 2400)\n",
    "pt_bins = hist.Bin('pt', r'$p_{T}\\ (GeV)$', 40, 200, 1200)\n",
    "pt_bins2 = hist.Bin('pt', r'$p_{T}\\ (GeV)$', 50, 0, 500)\n",
    "met_bins = hist.Bin('pt', r'$MET_{pt}\\ (GeV)$', 18, 100, 1000)\n",
    "met_bins_ext = hist.Bin('pt', r'$MET_{pt}\\ (GeV)$', 20, 0, 1000)\n",
    "eta_bins = hist.Bin(\"eta\", \"$\\eta$\", 33, -4, 4)\n",
    "phi_bins = hist.Bin(\"phi\", \"$\\phi$\", 33, -4, 4)\n",
    "phi_bins2 = hist.Bin(\"phi\", \"$\\phi$\", 16, 0, 4)\n",
    "tau1_bins = hist.Bin(\"tau\", \"$\\tau_1$\", 10, 0, 0.7)\n",
    "tau2_bins = hist.Bin(\"tau\", \"$\\tau_2$\", 10, 0, 0.5)\n",
    "tau3_bins = hist.Bin(\"tau\", \"$\\tau_3$\", 10, 0, 0.4)\n",
    "tau4_bins = hist.Bin(\"tau\", \"$\\tau_4$\", 10, 0, 0.3)\n",
    "tau21_bins = hist.Bin(\"tau\", \"$\\tau_4$\", 50, 0, 1.0)\n",
    "\n",
    "labels ={\n",
    "            ('QCD_bEnriched_HT',): r'$QCD\\ b-enriched$',\n",
    "            ('ZJetsToNuNu_HT',): r'$ZJets\\to\\nu\\nu$',\n",
    "            ('WJetsToLNu_Njet',): r'$WJets\\to L\\nu$',\n",
    "            ('TT',): r'$t\\bar{t}$',\n",
    "            ('2HDMa_sinp_0.35_tanb_1.0_mXd_10_MH3_1500_MH4_150_MH2_1500_MHC_1500',): '2HDMa_1500_150_10',\n",
    "            ('2HDMa_sinp_0.35_tanb_1.0_mXd_10_MH3_1500_MH4_750_MH2_1500_MHC_1500',): '2HDMa_1500_750_10',\n",
    "            ('2HDMa_sinp_0.35_tanb_1.0_mXd_10_MH3_1750_MH4_750_MH2_1750_MHC_1750',): '2HDMa_1750_750_10',\n",
    "            ('2HDMa_sinp_0.35_tanb_1.0_mXd_10_MH3_2000_MH4_750_MH2_2000_MHC_2000',): '2HDMa_2000_750_10',\n",
    "        }\n",
    "\n",
    "colors ={\n",
    "            ('QCD_bEnriched_HT',): '#93CCEA',\n",
    "            ('ZJetsToNuNu_HT',): '#00755E',\n",
    "            ('WJetsToLNu_Njet',): '#FED23F',\n",
    "            ('TT',): '#FE3F6B',\n",
    "        }\n",
    "        \n",
    "signals = [('2HDMa_sinp_0.35_tanb_1.0_mXd_10_MH3_1500_MH4_150_MH2_1500_MHC_1500',),\n",
    "           ('2HDMa_sinp_0.35_tanb_1.0_mXd_10_MH3_1500_MH4_750_MH2_1500_MHC_1500',),\n",
    "           ('2HDMa_sinp_0.35_tanb_1.0_mXd_10_MH3_1750_MH4_750_MH2_1750_MHC_1750',), \n",
    "           ('2HDMa_sinp_0.35_tanb_1.0_mXd_10_MH3_2000_MH4_750_MH2_2000_MHC_2000',),\n",
    "        ]\n",
    "\n",
    "plot_dir = '/home/users/$USER/public_html/HbbMET/plots/Jan26/'"
   ]
  },
  {
   "cell_type": "code",
   "execution_count": null,
   "id": "485cfb6d",
   "metadata": {},
   "outputs": [],
   "source": [
    "import matplotlib.pyplot as plt\n",
    "import mplhep as hep\n",
    "plt.style.use(hep.style.CMS)"
   ]
  },
  {
   "cell_type": "code",
   "execution_count": null,
   "id": "8f254999",
   "metadata": {},
   "outputs": [],
   "source": [
    "scaled_output.keys()"
   ]
  },
  {
   "cell_type": "code",
   "execution_count": null,
   "id": "f721cf40",
   "metadata": {},
   "outputs": [],
   "source": [
    "makePlot2(scaled_output, 'met_pt', 'pt', met_bins, r'$MET_{pt}\\ (GeV)$', labels, colors, signals, plot_dir)\n",
    "makePlot2(scaled_output, 'min_AK8_pt', 'pt', pt_bins, r'$p_{T}\\ (GeV)$', labels, colors, signals, plot_dir)\n",
    "makePlot2(scaled_output, 'n_AK4', 'multiplicity', N_bins2, r'$N_{AK4}$', labels, colors, signals, plot_dir)\n",
    "makePlot2(scaled_output, 'AK4_QCD_veto', 'phi', phi_bins2, r'$\\Delta\\varphi$', labels, colors, signals, plot_dir)\n",
    "makePlot2(scaled_output, 'AK8_QCD_veto', 'phi', phi_bins2, r'$\\Delta\\varphi$', labels, colors, signals, plot_dir)\n",
    "makePlot2(scaled_output, 'dphi_AK4_MET', 'phi', phi_bins2, r'$\\Delta\\varphi$', labels, colors, signals, plot_dir)\n",
    "makePlot2(scaled_output, 'dphi_AK8_MET', 'phi', phi_bins2, r'$\\Delta\\varphi$', labels, colors, signals, plot_dir)\n",
    "makePlot2(scaled_output, 'AK8_sdmass', 'mass', mass_bins, r'$softdrop\\ mass\\ (GeV)$', labels, colors, signals, plot_dir)\n",
    "makePlot2(scaled_output, 'MT', 'mt', mt_bins, r'$M_{T}$', labels, colors, signals, plot_dir)\n",
    "makePlot2(scaled_output, 'NH_weight', 'multiplicity', N_H_bins, r'$N_{H-tagged}$', labels, colors, signals, plot_dir)"
   ]
  },
  {
   "cell_type": "markdown",
   "id": "3a548fc5",
   "metadata": {},
   "source": [
    "# 2D Plots"
   ]
  },
  {
   "cell_type": "code",
   "execution_count": null,
   "id": "973858e9",
   "metadata": {},
   "outputs": [],
   "source": [
    "MT_vs_sdmass = {\n",
    "    '2HDMa_sinp_0.35_tanb_1.0_mXd_10_MH3_1500_MH4_150_MH2_1500_MHC_1500': {},\n",
    "    '2HDMa_sinp_0.35_tanb_1.0_mXd_10_MH3_1500_MH4_750_MH2_1500_MHC_1500': {},\n",
    "    '2HDMa_sinp_0.35_tanb_1.0_mXd_10_MH3_1750_MH4_750_MH2_1750_MHC_1750': {},\n",
    "    '2HDMa_sinp_0.35_tanb_1.0_mXd_10_MH3_2000_MH4_750_MH2_2000_MHC_2000': {},\n",
    "    'ZJetsToNuNu_HT':        {},\n",
    "    'TT':        {},\n",
    "    'WJetsToLNu_Njet':        {},\n",
    "    'QCD_bEnriched_HT':        {},\n",
    "}"
   ]
  },
  {
   "cell_type": "code",
   "execution_count": null,
   "id": "324eb0c2",
   "metadata": {},
   "outputs": [],
   "source": [
    "for sample in MT_vs_sdmass:\n",
    "    MT_vs_sdmass[sample] = Hist2D.from_bincounts(\n",
    "        scaled_output['MT_vs_sdmass'].values(overflow='over')[(sample,)].T,\n",
    "        (scaled_output['MT_vs_sdmass'].axis('mt').edges(overflow='over'), scaled_output['MT_vs_sdmass'].axis('mass').edges(overflow='over')),\n",
    "        errors = np.sqrt(scaled_output['MT_vs_sdmass'].values(sumw2=True, overflow='over')[(sample,)][1].T),\n",
    "    )"
   ]
  },
  {
   "cell_type": "code",
   "execution_count": null,
   "id": "3a5a2843",
   "metadata": {},
   "outputs": [],
   "source": [
    "fig, ax  = plt.subplots(1, 1,figsize=(13,10) )\n",
    "MT_vs_sdmass['QCD_bEnriched_HT'].plot(counts=True, equidistant='xy', counts_formatter=\"{:.2e} \\n$\\pm$\\n {:.2e}\".format, counts_fontsize=10,)\n",
    "ax.set_xlabel(r'$M_{T}$')\n",
    "ax.set_ylabel(r'$softdrop\\ mass$')\n",
    "fig.savefig('/home/users/ewallace/public_html/HbbMET/plots/Jan26/MT_vs_sdmass_QCD.png')"
   ]
  },
  {
   "cell_type": "code",
   "execution_count": null,
   "id": "14ef7219",
   "metadata": {},
   "outputs": [],
   "source": []
  },
  {
   "cell_type": "code",
   "execution_count": null,
   "id": "01382ed6",
   "metadata": {},
   "outputs": [],
   "source": []
  },
  {
   "cell_type": "code",
   "execution_count": null,
   "id": "bd746ae9",
   "metadata": {},
   "outputs": [],
   "source": []
  },
  {
   "cell_type": "code",
   "execution_count": null,
   "id": "e5e7695a",
   "metadata": {},
   "outputs": [],
   "source": []
  },
  {
   "cell_type": "code",
   "execution_count": null,
   "id": "42eacd41",
   "metadata": {},
   "outputs": [],
   "source": []
  },
  {
   "cell_type": "code",
   "execution_count": null,
   "id": "b5f2293e",
   "metadata": {},
   "outputs": [],
   "source": []
  },
  {
   "cell_type": "markdown",
   "id": "6e9c71f3",
   "metadata": {},
   "source": [
    "# Cutflow"
   ]
  },
  {
   "cell_type": "code",
   "execution_count": null,
   "id": "7ca52f0b",
   "metadata": {},
   "outputs": [],
   "source": [
    "output_flat = accumulate(\n",
    "    [\n",
    "        util.load(\"/home/users/dspitzba/snowblower/analysis/outputs/output_signal_run20220125_150734.coffea\"),\n",
    "        util.load(\"/home/users/dspitzba/snowblower/analysis/outputs/output_QCD_run20220125_171824.coffea\"),\n",
    "        util.load(\"/home/users/dspitzba/snowblower/analysis/outputs/output_TT_run20220125_171025.coffea\"),\n",
    "        util.load(\"/home/users/dspitzba/snowblower/analysis/outputs/output_W_run20220125_170224.coffea\"),\n",
    "        util.load(\"/home/users/dspitzba/snowblower/analysis/outputs/output_Z_run20220125_183109.coffea\"),\n",
    "        #util.load(\"/home/users/dspitzba/snowblower/analysis/outputs/output_other_scaled_run20220125_163014.coffea\"),\n",
    "    ]\n",
    ")"
   ]
  },
  {
   "cell_type": "code",
   "execution_count": null,
   "id": "6e2eb0e1",
   "metadata": {},
   "outputs": [],
   "source": [
    "output_flat"
   ]
  },
  {
   "cell_type": "code",
   "execution_count": null,
   "id": "3ff057be",
   "metadata": {},
   "outputs": [],
   "source": [
    "with open('../data/samples.yaml', 'r') as f:\n",
    "    samples = yaml.load(f, Loader = Loader)"
   ]
  },
  {
   "cell_type": "code",
   "execution_count": null,
   "id": "73244dbb",
   "metadata": {},
   "outputs": [],
   "source": [
    "fileset = {\n",
    "    'TT_TuneCUETP8M2T4_14TeV-powheg-pythia8_200PU': samples['TT_TuneCUETP8M2T4_14TeV-powheg-pythia8_200PU']['skim'],\n",
    "    'TT_Mtt1000toInf_TuneCUETP8M1_14TeV-powheg-pythia8_200PU': samples['TT_Mtt1000toInf_TuneCUETP8M1_14TeV-powheg-pythia8_200PU']['skim'],\n",
    "    'ZJetsToNuNu_HT-100To200_14TeV-madgraph_200PU': samples['ZJetsToNuNu_HT-100To200_14TeV-madgraph_200PU']['skim'],\n",
    "    'ZJetsToNuNu_HT-200To400_14TeV-madgraph_200PU': samples['ZJetsToNuNu_HT-200To400_14TeV-madgraph_200PU']['skim'],\n",
    "    'ZJetsToNuNu_HT-400To600_14TeV-madgraph_200PU': samples['ZJetsToNuNu_HT-400To600_14TeV-madgraph_200PU']['skim'],\n",
    "    'ZJetsToNuNu_HT-600To800_14TeV-madgraph_200PU': samples['ZJetsToNuNu_HT-600To800_14TeV-madgraph_200PU']['skim'],\n",
    "    'ZJetsToNuNu_HT-800To1200_14TeV-madgraph_200PU': samples['ZJetsToNuNu_HT-800To1200_14TeV-madgraph_200PU']['skim'],\n",
    "    'ZJetsToNuNu_HT-1200To2500_14TeV-madgraph_200PU': samples['ZJetsToNuNu_HT-1200To2500_14TeV-madgraph_200PU']['skim'],\n",
    "    'ZJetsToNuNu_HT2500toInf_HLLHC': samples['ZJetsToNuNu_HT2500toInf_HLLHC']['skim'],\n",
    "    'WJetsToLNu_GenMET-100_TuneCUETP8M1_14TeV-madgraphMLM-pythia8_200PU': samples['WJetsToLNu_GenMET-100_TuneCUETP8M1_14TeV-madgraphMLM-pythia8_200PU']['skim'],\n",
    "    'WJetsToLNu_TuneCUETP8M1_14TeV-madgraphMLM-pythia8_200PU': samples['WJetsToLNu_TuneCUETP8M1_14TeV-madgraphMLM-pythia8_200PU']['skim'],\n",
    "    'QCD_bEnriched_HT1000to1500_TuneCUETP8M1_14TeV-madgraphMLM-pythia8_200PU': samples['QCD_bEnriched_HT1000to1500_TuneCUETP8M1_14TeV-madgraphMLM-pythia8_200PU']['skim'],\n",
    "    'QCD_bEnriched_HT1500to2000_TuneCUETP8M1_14TeV-madgraphMLM-pythia8_200PU': samples['QCD_bEnriched_HT1500to2000_TuneCUETP8M1_14TeV-madgraphMLM-pythia8_200PU']['skim'],\n",
    "    'QCD_bEnriched_HT2000toInf_TuneCUETP8M1_14TeV-madgraphMLM-pythia8_200PU': samples['QCD_bEnriched_HT2000toInf_TuneCUETP8M1_14TeV-madgraphMLM-pythia8_200PU']['skim'],\n",
    "    'QCD_bEnriched_HT200to300_TuneCUETP8M1_14TeV-madgraphMLM-pythia8_200PU': samples['QCD_bEnriched_HT200to300_TuneCUETP8M1_14TeV-madgraphMLM-pythia8_200PU']['skim'],\n",
    "    'QCD_bEnriched_HT300to500_TuneCUETP8M1_14TeV-madgraphMLM-pythia8_200PU': samples['QCD_bEnriched_HT300to500_TuneCUETP8M1_14TeV-madgraphMLM-pythia8_200PU']['skim'],\n",
    "    'QCD_bEnriched_HT500to700_TuneCUETP8M1_14TeV-madgraphMLM-pythia8_200PU': samples['QCD_bEnriched_HT500to700_TuneCUETP8M1_14TeV-madgraphMLM-pythia8_200PU']['skim'],\n",
    "    'QCD_bEnriched_HT700to1000_TuneCUETP8M1_14TeV-madgraphMLM-pythia8_200PU': samples['QCD_bEnriched_HT700to1000_TuneCUETP8M1_14TeV-madgraphMLM-pythia8_200PU']['skim'],\n",
    "    '2HDMa_bb_sinp_0.35_tanb_1.0_mXd_10_MH3_1500_MH4_150_MH2_1500_MHC_1500': samples['2HDMa_bb_sinp_0.35_tanb_1.0_mXd_10_MH3_1500_MH4_150_MH2_1500_MHC_1500']['ntuples'],\n",
    "    '2HDMa_gg_sinp_0.35_tanb_1.0_mXd_10_MH3_1500_MH4_150_MH2_1500_MHC_1500': samples['2HDMa_gg_sinp_0.35_tanb_1.0_mXd_10_MH3_1500_MH4_150_MH2_1500_MHC_1500']['ntuples'],\n",
    "    '2HDMa_bb_sinp_0.35_tanb_1.0_mXd_10_MH3_1500_MH4_750_MH2_1500_MHC_1500': samples['2HDMa_bb_sinp_0.35_tanb_1.0_mXd_10_MH3_1500_MH4_750_MH2_1500_MHC_1500']['ntuples'],\n",
    "    '2HDMa_bb_sinp_0.35_tanb_1.0_mXd_10_MH3_1750_MH4_750_MH2_1750_MHC_1750': samples['2HDMa_bb_sinp_0.35_tanb_1.0_mXd_10_MH3_1750_MH4_750_MH2_1750_MHC_1750']['ntuples'],\n",
    "    '2HDMa_bb_sinp_0.35_tanb_1.0_mXd_10_MH3_2000_MH4_750_MH2_2000_MHC_2000': samples['2HDMa_bb_sinp_0.35_tanb_1.0_mXd_10_MH3_2000_MH4_750_MH2_2000_MHC_2000']['ntuples'],\n",
    "    '2HDMa_gg_sinp_0.35_tanb_1.0_mXd_10_MH3_1500_MH4_750_MH2_1500_MHC_1500': samples['2HDMa_gg_sinp_0.35_tanb_1.0_mXd_10_MH3_1500_MH4_750_MH2_1500_MHC_1500']['ntuples'],\n",
    "    '2HDMa_gg_sinp_0.35_tanb_1.0_mXd_10_MH3_1750_MH4_750_MH2_1750_MHC_1750': samples['2HDMa_gg_sinp_0.35_tanb_1.0_mXd_10_MH3_1750_MH4_750_MH2_1750_MHC_1750']['ntuples'],\n",
    "    '2HDMa_gg_sinp_0.35_tanb_1.0_mXd_10_MH3_2000_MH4_750_MH2_2000_MHC_2000': samples['2HDMa_gg_sinp_0.35_tanb_1.0_mXd_10_MH3_2000_MH4_750_MH2_2000_MHC_2000']['ntuples'],\n",
    "}"
   ]
  },
  {
   "cell_type": "code",
   "execution_count": null,
   "id": "d5a4d9f9",
   "metadata": {},
   "outputs": [],
   "source": [
    "import uproot\n",
    "signal = [\n",
    "            '2HDMa_bb_sinp_0.35_tanb_1.0_mXd_10_MH3_1500_MH4_150_MH2_1500_MHC_1500',\n",
    "            '2HDMa_gg_sinp_0.35_tanb_1.0_mXd_10_MH3_1500_MH4_150_MH2_1500_MHC_1500',\n",
    "            '2HDMa_bb_sinp_0.35_tanb_1.0_mXd_10_MH3_1500_MH4_750_MH2_1500_MHC_1500',\n",
    "            '2HDMa_bb_sinp_0.35_tanb_1.0_mXd_10_MH3_1750_MH4_750_MH2_1750_MHC_1750',\n",
    "            '2HDMa_bb_sinp_0.35_tanb_1.0_mXd_10_MH3_2000_MH4_750_MH2_2000_MHC_2000',\n",
    "            '2HDMa_gg_sinp_0.35_tanb_1.0_mXd_10_MH3_1500_MH4_750_MH2_1500_MHC_1500',\n",
    "            '2HDMa_gg_sinp_0.35_tanb_1.0_mXd_10_MH3_1750_MH4_750_MH2_1750_MHC_1750',\n",
    "            '2HDMa_gg_sinp_0.35_tanb_1.0_mXd_10_MH3_2000_MH4_750_MH2_2000_MHC_2000'\n",
    "        ]\n",
    "\n",
    "nevents = {}\n",
    "\n",
    "for sample in fileset:\n",
    "    nevents[sample] = 0\n",
    "    if sample in signal:\n",
    "        nevents[sample] = samples[sample]['nevents']\n",
    "    else:   \n",
    "        for file in fileset[sample]:\n",
    "            with uproot.open(file+':nevents') as counts:\n",
    "                nevents[file] = counts.counts()[0]  \n",
    "                nevents[sample] += nevents[file]\n",
    "\n",
    "meta = {}\n",
    "\n",
    "for sample in fileset:\n",
    "    meta[sample] = output_flat[sample]\n",
    "    meta[sample]['xsec'] = samples[sample]['xsec']\n",
    "    meta[sample]['nevents'] = nevents[sample]"
   ]
  },
  {
   "cell_type": "code",
   "execution_count": null,
   "id": "352c50ad",
   "metadata": {},
   "outputs": [],
   "source": [
    "output_flat['cutflow']"
   ]
  },
  {
   "cell_type": "code",
   "execution_count": null,
   "id": "b6808c9a",
   "metadata": {},
   "outputs": [],
   "source": [
    "cutflow = cutflow_scale_and_merge(output_flat['cutflow'], meta, fileset, 3000)"
   ]
  },
  {
   "cell_type": "code",
   "execution_count": null,
   "id": "8a110a9c",
   "metadata": {},
   "outputs": [],
   "source": [
    "cutflow"
   ]
  },
  {
   "cell_type": "code",
   "execution_count": null,
   "id": "98ca80b1",
   "metadata": {},
   "outputs": [],
   "source": [
    "proceses = ['ZJetsToNuNu_HT', 'WJetsToLNu_Njet', 'QCD_bEnriched_HT', 'TT', '2HDMa_1500_750', '2HDMa_1750_750', '2HDMa_2000_750']\n",
    "cuts = ['total', 'lepton_veto', 'MET>300', 'N_AK8>0', 'N_AK4>1', 'min_AK8_pt', 'dphi_AK8_MET>1', '1<dphi_AK4_MET<3', 'AK4_QCD_veto', 'AK8_QCD_veto', 'N_H>0', 'on_H', 'MT>600', 'MT>1200' ]"
   ]
  },
  {
   "cell_type": "code",
   "execution_count": null,
   "id": "61421ff8",
   "metadata": {},
   "outputs": [],
   "source": [
    "getCutFlowTable(cutflow, proceses, cuts, significantFigures=4, absolute=True, signal = ['2HDMa_1500_750'])"
   ]
  },
  {
   "cell_type": "markdown",
   "id": "4763ad0c",
   "metadata": {},
   "source": [
    "# Other Plots"
   ]
  },
  {
   "cell_type": "code",
   "execution_count": null,
   "id": "a6ac8d36",
   "metadata": {},
   "outputs": [],
   "source": [
    "path = '../analysis/histos/scaled_output.pkl.gz'\n",
    "with gzip.open(path) as fin:\n",
    "    scaled_output = pickle.load(fin)"
   ]
  },
  {
   "cell_type": "code",
   "execution_count": null,
   "id": "fddeffa9",
   "metadata": {},
   "outputs": [],
   "source": [
    "pt_coarse_bins = hist.Bin('pt', r'$p_{T}\\ (GeV)$', 10, 200, 1200)\n",
    "phi_coarse_bins = hist.Bin(\"phi\", \"$\\phi$\", 20, 0, 4)\n",
    "\n",
    "scaled_output['b_DeltaR_vs_H_pt'] = scaled_output['b_DeltaR_vs_H_pt'].rebin('pt', pt_coarse_bins)\n",
    "scaled_output['b_DeltaR_vs_H_pt'] = scaled_output['b_DeltaR_vs_H_pt'].rebin('phi', phi_coarse_bins)\n",
    "\n",
    "b_DeltaR_vs_H_pt_1500_150 = Hist2D.from_bincounts(\n",
    "    scaled_output['b_DeltaR_vs_H_pt'].values(overflow='over')[('2HDMa_sinp_0.35_tanb_1.0_mXd_10_MH3_1500_MH4_150_MH2_1500_MHC_1500',)].T,\n",
    "    (scaled_output['b_DeltaR_vs_H_pt'].axis('pt').edges(overflow='over'), scaled_output['b_DeltaR_vs_H_pt'].axis('phi').edges(overflow='over')),\n",
    "    errors = np.sqrt(scaled_output['b_DeltaR_vs_H_pt'].values(sumw2=True, overflow='over')[('2HDMa_sinp_0.35_tanb_1.0_mXd_10_MH3_1500_MH4_150_MH2_1500_MHC_1500',)][1].T),\n",
    ")\n",
    "\n",
    "b_DeltaR_vs_H_pt_1500_750 = Hist2D.from_bincounts(\n",
    "    scaled_output['b_DeltaR_vs_H_pt'].values(overflow='over')[('2HDMa_sinp_0.35_tanb_1.0_mXd_10_MH3_1500_MH4_750_MH2_1500_MHC_1500',)].T,\n",
    "    (scaled_output['b_DeltaR_vs_H_pt'].axis('pt').edges(overflow='over'), scaled_output['b_DeltaR_vs_H_pt'].axis('phi').edges(overflow='over')),\n",
    "    errors = np.sqrt(scaled_output['b_DeltaR_vs_H_pt'].values(sumw2=True, overflow='over')[('2HDMa_sinp_0.35_tanb_1.0_mXd_10_MH3_1500_MH4_750_MH2_1500_MHC_1500',)][1].T),\n",
    ")\n",
    "\n",
    "b_DeltaR_vs_H_pt_1750_750 = Hist2D.from_bincounts(\n",
    "    scaled_output['b_DeltaR_vs_H_pt'].values(overflow='over')[('2HDMa_sinp_0.35_tanb_1.0_mXd_10_MH3_1750_MH4_750_MH2_1750_MHC_1750',)].T,\n",
    "    (scaled_output['b_DeltaR_vs_H_pt'].axis('pt').edges(overflow='over'), scaled_output['b_DeltaR_vs_H_pt'].axis('phi').edges(overflow='over')),\n",
    "    errors = np.sqrt(scaled_output['b_DeltaR_vs_H_pt'].values(sumw2=True, overflow='over')[('2HDMa_sinp_0.35_tanb_1.0_mXd_10_MH3_1750_MH4_750_MH2_1750_MHC_1750',)][1].T),\n",
    ")\n",
    "\n",
    "b_DeltaR_vs_H_pt_2000_750 = Hist2D.from_bincounts(\n",
    "    scaled_output['b_DeltaR_vs_H_pt'].values(overflow='over')[('2HDMa_sinp_0.35_tanb_1.0_mXd_10_MH3_2000_MH4_750_MH2_2000_MHC_2000',)].T,\n",
    "    (scaled_output['b_DeltaR_vs_H_pt'].axis('pt').edges(overflow='over'), scaled_output['b_DeltaR_vs_H_pt'].axis('phi').edges(overflow='over')),\n",
    "    errors = np.sqrt(scaled_output['b_DeltaR_vs_H_pt'].values(sumw2=True, overflow='over')[('2HDMa_sinp_0.35_tanb_1.0_mXd_10_MH3_2000_MH4_750_MH2_2000_MHC_2000',)][1].T),\n",
    ")"
   ]
  },
  {
   "cell_type": "code",
   "execution_count": null,
   "id": "b3e3c49f",
   "metadata": {},
   "outputs": [],
   "source": [
    "scaled_output['b_DeltaR_vs_H_pt']"
   ]
  },
  {
   "cell_type": "code",
   "execution_count": null,
   "id": "2ebbe055",
   "metadata": {},
   "outputs": [],
   "source": [
    "fig, ax  = plt.subplots(1, 1,figsize=(13,10) )\n",
    "b_DeltaR_vs_H_pt_1500_150.plot(counts=False, equidistant='xy', counts_formatter=\"{:.1e} \\n$\\pm$\\n {:.1e}\".format, counts_fontsize=10,)\n",
    "ax.set_xlabel(r'$p_{T}$')\n",
    "ax.set_ylabel(r'$\\Delta\\ R$')\n",
    "#fig.savefig('/home/users/ewallace/public_html/HbbMET/plots/signal_region/MT_vs_sdmass_2000_750.png')"
   ]
  },
  {
   "cell_type": "code",
   "execution_count": null,
   "id": "724508d1",
   "metadata": {},
   "outputs": [],
   "source": [
    "target = scaled_output['b_DeltaR_vs_H_pt'].integrate('pt', slice(200,1200), overflow='over').integrate('phi', slice(0,0.8)).values()"
   ]
  },
  {
   "cell_type": "code",
   "execution_count": null,
   "id": "5156cdf0",
   "metadata": {},
   "outputs": [],
   "source": [
    "total = scaled_output['b_DeltaR_vs_H_pt'].integrate('pt', overflow='over').integrate('phi', overflow='over').values()"
   ]
  },
  {
   "cell_type": "code",
   "execution_count": null,
   "id": "84e91e3b",
   "metadata": {},
   "outputs": [],
   "source": [
    "frac = {}\n",
    "for key in target:\n",
    "    frac[key] = target[key]/total[key]"
   ]
  },
  {
   "cell_type": "code",
   "execution_count": null,
   "id": "6ecd29f9",
   "metadata": {},
   "outputs": [],
   "source": [
    "frac"
   ]
  },
  {
   "cell_type": "code",
   "execution_count": null,
   "id": "039d762e",
   "metadata": {},
   "outputs": [],
   "source": [
    "fig, ax  = plt.subplots(1, 1,figsize=(13,10) )\n",
    "b_DeltaR_vs_H_pt_1500_750.plot(counts=True, equidistant='xy', counts_formatter=\"{:.2e} \\n$\\pm$\\n {:.2e}\".format, counts_fontsize=10,)\n",
    "ax.set_xlabel(r'$p_{T}$')\n",
    "ax.set_ylabel(r'$\\Delta\\ R$')\n",
    "#fig.savefig('/home/users/ewallace/public_html/HbbMET/plots/signal_region/MT_vs_sdmass_2000_750.png')"
   ]
  },
  {
   "cell_type": "code",
   "execution_count": null,
   "id": "e9481c3e",
   "metadata": {},
   "outputs": [],
   "source": [
    "fig, ax  = plt.subplots(1, 1,figsize=(13,10) )\n",
    "b_DeltaR_vs_H_pt_1750_750.plot(counts=False, equidistant='xy', counts_formatter=\"{:.2e} \\n$\\pm$\\n {:.2e}\".format, counts_fontsize=10,)\n",
    "ax.set_xlabel(r'$p_{T}$')\n",
    "ax.set_ylabel(r'$\\Delta\\ R$')\n",
    "#fig.savefig('/home/users/ewallace/public_html/HbbMET/plots/signal_region/MT_vs_sdmass_2000_750.png')"
   ]
  },
  {
   "cell_type": "code",
   "execution_count": null,
   "id": "754b3d3f",
   "metadata": {},
   "outputs": [],
   "source": [
    "fig, ax  = plt.subplots(1, 1,figsize=(13,10) )\n",
    "b_DeltaR_vs_H_pt_2000_750.plot(counts=False, equidistant='xy', counts_formatter=\"{:.1e} \\n$\\pm$\\n {:.1e}\".format, counts_fontsize=10,)\n",
    "ax.set_xlabel(r'$p_{T}$')\n",
    "ax.set_ylabel(r'$\\Delta\\ R$')\n",
    "fig.savefig('/home/users/ewallace/public_html/HbbMET/plots/b_DeltaR_vs_H_pt_2000_750.png')"
   ]
  },
  {
   "cell_type": "code",
   "execution_count": null,
   "id": "583cedb4",
   "metadata": {},
   "outputs": [],
   "source": [
    "import mplhep as hep\n",
    "plt.style.use(hep.style.CMS)"
   ]
  },
  {
   "cell_type": "code",
   "execution_count": null,
   "id": "260d65a4",
   "metadata": {},
   "outputs": [],
   "source": [
    "fig, ax  = plt.subplots(1, 1,figsize=(10,10) )\n",
    "x_750 = np.array([1250, 1500, 1600, 1750, 1900, 2000, 2250])\n",
    "y_750 = np.array([8.4062, 2.0469, 1.3281, 1.2852, 1.6016, 1.7891, 2.8984])\n",
    "error_up_750 = np.array([3.6189, 0.9219, 0.6194, 0.5942, 0.7469, 0.8486, 1.3864])\n",
    "error_down_750 = np.array([2.4117, 0.5971, 0.3938, 0.3860, 0.4810, 0.5306, 0.8774])\n",
    "\n",
    "x_250 = np.array([750, 1000, 1250, 1500, 1600, 1750, 1900, 2000, 2250])\n",
    "y_250 = np.array([1.3398, 0.2988, 0.2285, 0.2627, 0.3320, 0.5098, 0.6445, 0.7051, 1.5703])\n",
    "error_up_250 = np.array([0.5288, 0.1251, 0.1048, 0.1215, 0.1549, 0.2377, 0.3109, 0.3541, 0.8388])\n",
    "error_down_250 = np.array([0.3604, 0.0843, 0.0680, 0.0789, 0.0989, 0.1544, 0.1951, 0.2169, 0.5046])\n",
    "\n",
    "plt.plot(x_750, y_750, linewidth = 1.75, color='#9D5783', label=r'$m_a=750$')\n",
    "plt.plot(x_250, y_250, linewidth = 1.75, color='#D4969A', label=r'$m_a=250$')\n",
    "plt.fill_between(x_750, y_750-error_down_750, y_750+error_up_750, color='#9D5783', alpha=0.5)\n",
    "plt.fill_between(x_250, y_250-error_down_250, y_250+error_up_250, color='#D4969A', alpha=0.5)\n",
    "plt.hlines(1, 750, 2250,linewidths = 1.0,color='r',zorder=5)\n",
    "plt.xlabel(r'$m_A$')\n",
    "plt.ylabel(r'$\\mu=\\sigma/\\sigma_{theory}$')\n",
    "plt.legend(prop={'size': 15})\n",
    "#plt.ylim((0,3))\n",
    "#plt.yscale('log')\n",
    "plt.show()\n",
    "fig.savefig('/home/users/ewallace/public_html/HbbMET/plots/limit_scan_2.png')"
   ]
  },
  {
   "cell_type": "code",
   "execution_count": null,
   "id": "5eeeb072",
   "metadata": {},
   "outputs": [],
   "source": [
    "fig, ax  = plt.subplots(1, 1,figsize=(10,10) )\n",
    "x_750 = np.array([1250, 1500, 1600, 1750, 1900, 2000, 2250])\n",
    "y_750 = np.array([0.228344, 0.944632, 1.48924, 1.53995, 1.23717, 1.10539, 0.704713])\n",
    "#error_up_750 = np.array([3.6189, 0.9219, 0.6194, 0.5942, 0.7469, 0.8486, 1.3864])\n",
    "#error_down_750 = np.array([2.4117, 0.5971, 0.3938, 0.3860, 0.4810, 0.5306, 0.8774])\n",
    "\n",
    "x_250 = np.array([750, 1000, 1250, 1500, 1600, 1750, 1900, 2000, 2250])\n",
    "y_250 = np.array([1.15554, 0, 6.81107, 6.32253, 5.108, 3.49319, 2.7271, 2.50754, 1.35522])\n",
    "#error_up_250 = np.array([0.5288, 0.1251, 0.1048, 0.1215, 0.1549, 0.2377, 0.3109, 0.3541, 0.8388])\n",
    "#error_down_250 = np.array([0.3604, 0.0843, 0.0680, 0.0789, 0.0989, 0.1544, 0.1951, 0.2169, 0.5046])\n",
    "\n",
    "plt.plot(x_750, y_750, linewidth = 1.75, color='#9D5783', label=r'$m_a=750$')\n",
    "plt.plot(x_250, y_250, linewidth = 1.75, color='#D4969A', label=r'$m_a=250$')\n",
    "#plt.fill_between(x_750, y_750-error_down_750, y_750+error_up_750, color='#9D5783', alpha=0.5)\n",
    "#plt.fill_between(x_250, y_250-error_down_250, y_250+error_up_250, color='#D4969A', alpha=0.5)\n",
    "plt.hlines(3, 750, 2250,linewidths = 1.0,color='r',zorder=5)\n",
    "plt.hlines(5, 750, 2250,linewidths = 1.0,color='r',zorder=5)\n",
    "plt.xlabel(r'$m_A$')\n",
    "plt.ylabel(r'$\\sigma$')\n",
    "plt.legend(prop={'size': 15})\n",
    "#plt.ylim((0,3))\n",
    "#plt.yscale('log')\n",
    "plt.show()\n",
    "fig.savefig('/home/users/ewallace/public_html/HbbMET/plots/significance_scan.png')"
   ]
  },
  {
   "cell_type": "code",
   "execution_count": null,
   "id": "9a815587",
   "metadata": {},
   "outputs": [],
   "source": []
  }
 ],
 "metadata": {
  "kernelspec": {
   "display_name": "coffeadev",
   "language": "python",
   "name": "coffeadev"
  },
  "language_info": {
   "codemirror_mode": {
    "name": "ipython",
    "version": 3
   },
   "file_extension": ".py",
   "mimetype": "text/x-python",
   "name": "python",
   "nbconvert_exporter": "python",
   "pygments_lexer": "ipython3",
   "version": "3.9.7"
  }
 },
 "nbformat": 4,
 "nbformat_minor": 5
}
