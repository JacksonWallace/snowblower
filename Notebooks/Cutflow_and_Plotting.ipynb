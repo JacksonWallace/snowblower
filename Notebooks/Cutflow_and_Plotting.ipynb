{
 "cells": [
  {
   "cell_type": "markdown",
   "id": "cc90a116",
   "metadata": {},
   "source": [
    "## Setting Up Plots"
   ]
  },
  {
   "cell_type": "code",
   "execution_count": null,
   "id": "7f7fca5e",
   "metadata": {},
   "outputs": [],
   "source": [
    "import numpy as np\n",
    "import awkward as ak\n",
    "import matplotlib.pyplot as plt\n",
    "import gzip\n",
    "import pickle\n",
    "from coffea import hist, processor\n",
    "from yahist import Hist1D, Hist2D"
   ]
  },
  {
   "cell_type": "code",
   "execution_count": null,
   "id": "f0bf0614",
   "metadata": {},
   "outputs": [],
   "source": [
    "N_bins = hist.Bin('multiplicity', r'$N$', 6, -0.5, 5.5)\n",
    "mass_bins = hist.Bin('mass', r'$M\\ (GeV)$', 40, 0, 400)\n",
    "ht_bins = hist.Bin('pt', r'$H_{T}\\ (GeV)$', 60, 0, 3000)\n",
    "pt_bins = hist.Bin('pt', r'$p_{T}\\ (GeV)$', 80, 200, 1000)\n",
    "eta_bins = hist.Bin(\"eta\", \"$\\eta$\", 33, -4, 4)\n",
    "phi_bins = hist.Bin(\"phi\", \"$\\phi$\", 33, -4, 4)\n",
    "deltaR_bins = hist.Bin(\"deltaR\", \"$\\DeltaR$\", 10, 0, 1)\n",
    "tau1_bins = hist.Bin(\"tau\", \"$\\tau_1$\", 10, 0, 0.7)\n",
    "tau2_bins = hist.Bin(\"tau\", \"$\\tau_2$\", 10, 0, 0.5)\n",
    "tau3_bins = hist.Bin(\"tau\", \"$\\tau_3$\", 10, 0, 0.4)\n",
    "tau4_bins = hist.Bin(\"tau\", \"$\\tau_4$\", 10, 0, 0.3)\n",
    "\n",
    "labels ={\n",
    "            ('QCD_bEnriched_HT',): r'$QCD\\ b-enriched\\ (binned\\ by\\ HT)$',\n",
    "            ('ZJetsToNuNu_HT',): r'$ZJets\\to\\nu\\nu\\ (binned\\ by\\ HT)$',\n",
    "            ('WJetsToLNu_Njet',): r'$WJets\\to L\\nu\\ (binned\\ by\\ N_{jets})$',\n",
    "            ('TT',): r'$t\\bar{t}$',\n",
    "            ('2HDMa_sinp_0.35_tanb_1.0_mXd_10_MH3_1500_MH4_150_MH2_1500_MHC_1500',): '2HDMa_1500_150_10',\n",
    "            ('2HDMa_sinp_0.35_tanb_1.0_mXd_10_MH3_1750_MH4_750_MH2_1750_MHC_1750',): '2HDMa_1750_750_10',\n",
    "            ('2HDMa_sinp_0.35_tanb_1.0_mXd_10_MH3_2000_MH4_750_MH2_2000_MHC_2000',): '2HDMa_2000_750_10',\n",
    "        }\n",
    "\n",
    "colors ={\n",
    "            ('QCD_bEnriched_HT',): '#D23FFE',\n",
    "            ('ZJetsToNuNu_HT',): '#6BFE3F',\n",
    "            ('WJetsToLNu_Njet',): '#FED23F',\n",
    "            ('TT',): '#FE3F6B',\n",
    "        }\n",
    "        \n",
    "signals = [('2HDMa_sinp_0.35_tanb_1.0_mXd_10_MH3_1500_MH4_150_MH2_1500_MHC_1500',),\n",
    "            #('2HDMa_sinp_0.35_tanb_1.0_mXd_10_MH3_1500_MH4_750_MH2_1500_MHC_1500',),\n",
    "            #('2HDMa_sinp_0.35_tanb_1.0_mXd_10_MH3_1750_MH4_750_MH2_1750_MHC_1750',), \n",
    "            #('2HDMa_sinp_0.35_tanb_1.0_mXd_10_MH3_2000_MH4_750_MH2_2000_MHC_2000',),\n",
    "        ]\n",
    "\n",
    "plot_dir = '/home/users/$USER/public_html/HbbMET/plots/'"
   ]
  },
  {
   "cell_type": "code",
   "execution_count": null,
   "id": "7806683a",
   "metadata": {},
   "outputs": [],
   "source": [
    "tmp1 = scaled_output['MT_vs_sdmass_central']\n",
    "        \n",
    "keys = tmp1.values().keys()\n",
    "\n",
    "histos1 = {}\n",
    "\n",
    "for sample in keys:\n",
    "    h1 = Hist1D.from_bincounts(\n",
    "        tmp1.sum('mt', overflow='over').values(overflow = 'over')[sample].T,\n",
    "        (tmp1.axis('mass').edges(overflow = 'over')),\n",
    "        #errors = np.sqrt(tmp1.sum('pt', 'dataset', overflow = 'all').values(sumw2=True, overflow = 'all')[()][1].T),\n",
    "        )\n",
    "    histos1[sample] = h1\n",
    "\n",
    "backgrounds = []\n",
    "for sample in keys:\n",
    "    if sample not in signals:\n",
    "        backgrounds += (sample,)\n",
    "           \n",
    "fig, (ax) = plt.subplots(figsize=(10,10))\n",
    "hep.cms.label(\n",
    "    'Preliminary',\n",
    "    loc=0,\n",
    "    ax=ax,\n",
    "    #lumi = 3000,\n",
    "    rlabel = '14 TeV',\n",
    "    )\n",
    "\n",
    "hep.histplot(\n",
    "    [histos1[sample].counts for sample in backgrounds],\n",
    "    histos1[list(keys)[0]].edges,\n",
    "    #w2=[(hists[x].errors)**2 for x in keys ],\n",
    "    histtype=\"step\",\n",
    "    density = True,\n",
    "    stack=False,\n",
    "    label=[labels[sample] for sample in backgrounds],\n",
    "    color=[colors[sample] for sample in backgrounds],\n",
    "    ax=ax\n",
    "    )\n",
    "\n",
    "hep.histplot(\n",
    "    [histos1[sample].counts for sample in signals],\n",
    "    histos1[list(keys)[0]].edges,\n",
    "    w2=[(histos1[sample].errors)**2 for sample in signals],\n",
    "    histtype=\"step\",\n",
    "    density = True,\n",
    "    stack=False,\n",
    "    label=[labels[sample] for sample in signals],\n",
    "    ax=ax\n",
    "        )\n",
    "\n",
    "ax.set_xlabel(r'$softdrop\\ mass\\ (GeV)$')\n",
    "ax.set_ylabel(r'Events')\n",
    "ax.set_yscale('log')\n",
    "ax.legend(prop={'size': 12})\n",
    "\n",
    "#fig.savefig('/home/users/ewallace/public_html/HbbMET/plots/AK8_sdmass_BL.png')"
   ]
  },
  {
   "cell_type": "code",
   "execution_count": null,
   "id": "c1cc7bb8",
   "metadata": {},
   "outputs": [],
   "source": [
    "[labels[sample] for sample in backgrounds]"
   ]
  },
  {
   "cell_type": "code",
   "execution_count": null,
   "id": "f721cf40",
   "metadata": {},
   "outputs": [],
   "source": [
    "makePlot2(scaled_output, 'met_pt', 'pt', met_bins, r'$MET_{pt}\\ (GeV)$', labels, colors, signals, plot_dir)\n",
    "makePlot2(scaled_output, 'met_pt_BL', 'pt', met_bins, r'$MET_{pt}\\ (GeV)$', labels, colors, signals, plot_dir)\n",
    "makePlot2(scaled_output, 'dphi_AK4_MET', 'phi', phi_bins2, r'$\\Delta\\varphi$', labels, colors, signals, plot_dir)\n",
    "makePlot2(scaled_output, 'dphi_AK4_MET_BL', 'phi', phi_bins2, r'$\\Delta\\varphi$', labels, colors, signals, plot_dir)\n",
    "makePlot2(scaled_output, 'dphi_AK8_MET', 'phi', phi_bins2, r'$\\Delta\\varphi$', labels, colors, signals, plot_dir)\n",
    "makePlot2(scaled_output, 'dphi_AK8_MET_BL', 'phi', phi_bins2, r'$\\Delta\\varphi$', labels, colors, signals, plot_dir)\n",
    "makePlot2(scaled_output, 'AK4_QCD_veto', 'phi', phi_bins2, r'$\\Delta\\varphi$', labels, colors, signals, plot_dir)\n",
    "makePlot2(scaled_output, 'AK4_QCD_veto_BL', 'phi', phi_bins2, r'$\\Delta\\varphi$', labels, colors, signals, plot_dir)\n",
    "makePlot2(scaled_output, 'AK8_QCD_veto', 'phi', phi_bins2, r'$\\Delta\\varphi$', labels, colors, signals, plot_dir)\n",
    "makePlot2(scaled_output, 'AK8_QCD_veto_BL', 'phi', phi_bins2, r'$\\Delta\\varphi$', labels, colors, signals, plot_dir)"
   ]
  },
  {
   "cell_type": "markdown",
   "id": "6e9c71f3",
   "metadata": {},
   "source": [
    "# Cutflow"
   ]
  },
  {
   "cell_type": "code",
   "execution_count": null,
   "id": "b6dbd356",
   "metadata": {},
   "outputs": [],
   "source": [
    "path = '../analysis/histos/cutflow.pkl.gz'\n",
    "with gzip.open(path) as fin:\n",
    "    output_flat = pickle.load(fin)"
   ]
  },
  {
   "cell_type": "code",
   "execution_count": null,
   "id": "6e2eb0e1",
   "metadata": {},
   "outputs": [],
   "source": [
    "output_flat"
   ]
  },
  {
   "cell_type": "code",
   "execution_count": null,
   "id": "3ff057be",
   "metadata": {},
   "outputs": [],
   "source": [
    "with open('../data/samples.yaml', 'r') as f:\n",
    "    samples = yaml.load(f, Loader = Loader)"
   ]
  },
  {
   "cell_type": "code",
   "execution_count": null,
   "id": "73244dbb",
   "metadata": {},
   "outputs": [],
   "source": [
    "fileset = {\n",
    "    'TT_TuneCUETP8M2T4_14TeV-powheg-pythia8_200PU': samples['TT_TuneCUETP8M2T4_14TeV-powheg-pythia8_200PU']['skim'],\n",
    "    'ZJetsToNuNu_HT-100To200_14TeV-madgraph_200PU': samples['ZJetsToNuNu_HT-100To200_14TeV-madgraph_200PU']['skim'],\n",
    "    'ZJetsToNuNu_HT-200To400_14TeV-madgraph_200PU': samples['ZJetsToNuNu_HT-200To400_14TeV-madgraph_200PU']['skim'],\n",
    "    'ZJetsToNuNu_HT-400To600_14TeV-madgraph_200PU': samples['ZJetsToNuNu_HT-400To600_14TeV-madgraph_200PU']['skim'],\n",
    "    'ZJetsToNuNu_HT-600To800_14TeV-madgraph_200PU': samples['ZJetsToNuNu_HT-600To800_14TeV-madgraph_200PU']['skim'],\n",
    "    'ZJetsToNuNu_HT-800To1200_14TeV-madgraph_200PU': samples['ZJetsToNuNu_HT-800To1200_14TeV-madgraph_200PU']['skim'],\n",
    "    'ZJetsToNuNu_HT-1200To2500_14TeV-madgraph_200PU': samples['ZJetsToNuNu_HT-1200To2500_14TeV-madgraph_200PU']['skim'],\n",
    "    'WJetsToLNu_TuneCUETP8M1_14TeV-madgraphMLM-pythia8_200PU': samples['WJetsToLNu_TuneCUETP8M1_14TeV-madgraphMLM-pythia8_200PU']['skim'],\n",
    "    #'W1JetsToLNu_TuneCUETP8M1_14TeV-madgraphMLM-pythia8_200PU': samples['W1JetsToLNu_TuneCUETP8M1_14TeV-madgraphMLM-pythia8_200PU']['skim'],\n",
    "    #'W2JetsToLNu_TuneCUETP8M1_14TeV-madgraphMLM-pythia8_200PU': samples['W2JetsToLNu_TuneCUETP8M1_14TeV-madgraphMLM-pythia8_200PU']['skim'],\n",
    "    #'W3JetsToLNu_TuneCUETP8M1_14TeV-madgraphMLM-pythia8_200PU': samples['W3JetsToLNu_TuneCUETP8M1_14TeV-madgraphMLM-pythia8_200PU']['skim'],\n",
    "    'QCD_bEnriched_HT1000to1500_TuneCUETP8M1_14TeV-madgraphMLM-pythia8_200PU': samples['QCD_bEnriched_HT1000to1500_TuneCUETP8M1_14TeV-madgraphMLM-pythia8_200PU']['skim'],\n",
    "    'QCD_bEnriched_HT1500to2000_TuneCUETP8M1_14TeV-madgraphMLM-pythia8_200PU': samples['QCD_bEnriched_HT1500to2000_TuneCUETP8M1_14TeV-madgraphMLM-pythia8_200PU']['skim'],\n",
    "    'QCD_bEnriched_HT2000toInf_TuneCUETP8M1_14TeV-madgraphMLM-pythia8_200PU': samples['QCD_bEnriched_HT2000toInf_TuneCUETP8M1_14TeV-madgraphMLM-pythia8_200PU']['skim'],\n",
    "    'QCD_bEnriched_HT200to300_TuneCUETP8M1_14TeV-madgraphMLM-pythia8_200PU': samples['QCD_bEnriched_HT200to300_TuneCUETP8M1_14TeV-madgraphMLM-pythia8_200PU']['skim'],\n",
    "    'QCD_bEnriched_HT300to500_TuneCUETP8M1_14TeV-madgraphMLM-pythia8_200PU': samples['QCD_bEnriched_HT300to500_TuneCUETP8M1_14TeV-madgraphMLM-pythia8_200PU']['skim'],\n",
    "    'QCD_bEnriched_HT500to700_TuneCUETP8M1_14TeV-madgraphMLM-pythia8_200PU': samples['QCD_bEnriched_HT500to700_TuneCUETP8M1_14TeV-madgraphMLM-pythia8_200PU']['skim'],\n",
    "    'QCD_bEnriched_HT700to1000_TuneCUETP8M1_14TeV-madgraphMLM-pythia8_200PU': samples['QCD_bEnriched_HT700to1000_TuneCUETP8M1_14TeV-madgraphMLM-pythia8_200PU']['skim'],\n",
    "    '2HDMa_bb_sinp_0.35_tanb_1.0_mXd_10_MH3_1500_MH4_150_MH2_1500_MHC_1500': samples['2HDMa_bb_sinp_0.35_tanb_1.0_mXd_10_MH3_1500_MH4_150_MH2_1500_MHC_1500']['ntuples'],\n",
    "    '2HDMa_gg_sinp_0.35_tanb_1.0_mXd_10_MH3_1500_MH4_150_MH2_1500_MHC_1500': samples['2HDMa_gg_sinp_0.35_tanb_1.0_mXd_10_MH3_1500_MH4_150_MH2_1500_MHC_1500']['ntuples'],\n",
    "    '2HDMa_bb_sinp_0.35_tanb_1.0_mXd_10_MH3_1500_MH4_750_MH2_1500_MHC_1500': samples['2HDMa_bb_sinp_0.35_tanb_1.0_mXd_10_MH3_1500_MH4_750_MH2_1500_MHC_1500']['ntuples'],\n",
    "    '2HDMa_bb_sinp_0.35_tanb_1.0_mXd_10_MH3_1750_MH4_750_MH2_1750_MHC_1750': samples['2HDMa_bb_sinp_0.35_tanb_1.0_mXd_10_MH3_1750_MH4_750_MH2_1750_MHC_1750']['ntuples'],\n",
    "    '2HDMa_bb_sinp_0.35_tanb_1.0_mXd_10_MH3_2000_MH4_750_MH2_2000_MHC_2000': samples['2HDMa_bb_sinp_0.35_tanb_1.0_mXd_10_MH3_2000_MH4_750_MH2_2000_MHC_2000']['ntuples'],\n",
    "    '2HDMa_gg_sinp_0.35_tanb_1.0_mXd_10_MH3_1500_MH4_750_MH2_1500_MHC_1500': samples['2HDMa_gg_sinp_0.35_tanb_1.0_mXd_10_MH3_1500_MH4_750_MH2_1500_MHC_1500']['ntuples'],\n",
    "    '2HDMa_gg_sinp_0.35_tanb_1.0_mXd_10_MH3_1750_MH4_750_MH2_1750_MHC_1750': samples['2HDMa_gg_sinp_0.35_tanb_1.0_mXd_10_MH3_1750_MH4_750_MH2_1750_MHC_1750']['ntuples'],\n",
    "    '2HDMa_gg_sinp_0.35_tanb_1.0_mXd_10_MH3_2000_MH4_750_MH2_2000_MHC_2000': samples['2HDMa_gg_sinp_0.35_tanb_1.0_mXd_10_MH3_2000_MH4_750_MH2_2000_MHC_2000']['ntuples'],\n",
    "}"
   ]
  },
  {
   "cell_type": "code",
   "execution_count": null,
   "id": "d5a4d9f9",
   "metadata": {},
   "outputs": [],
   "source": [
    "import uproot\n",
    "signal = [\n",
    "            '2HDMa_bb_sinp_0.35_tanb_1.0_mXd_10_MH3_1500_MH4_150_MH2_1500_MHC_1500',\n",
    "            '2HDMa_gg_sinp_0.35_tanb_1.0_mXd_10_MH3_1500_MH4_150_MH2_1500_MHC_1500',\n",
    "            '2HDMa_bb_sinp_0.35_tanb_1.0_mXd_10_MH3_1500_MH4_750_MH2_1500_MHC_1500',\n",
    "            '2HDMa_bb_sinp_0.35_tanb_1.0_mXd_10_MH3_1750_MH4_750_MH2_1750_MHC_1750',\n",
    "            '2HDMa_bb_sinp_0.35_tanb_1.0_mXd_10_MH3_2000_MH4_750_MH2_2000_MHC_2000',\n",
    "            '2HDMa_gg_sinp_0.35_tanb_1.0_mXd_10_MH3_1500_MH4_750_MH2_1500_MHC_1500',\n",
    "            '2HDMa_gg_sinp_0.35_tanb_1.0_mXd_10_MH3_1750_MH4_750_MH2_1750_MHC_1750',\n",
    "            '2HDMa_gg_sinp_0.35_tanb_1.0_mXd_10_MH3_2000_MH4_750_MH2_2000_MHC_2000'\n",
    "        ]\n",
    "\n",
    "nevents = {}\n",
    "\n",
    "for sample in fileset:\n",
    "    nevents[sample] = 0\n",
    "    if sample in signal:\n",
    "        nevents[sample] = samples[sample]['nevents']\n",
    "    else:   \n",
    "        for file in fileset[sample]:\n",
    "            with uproot.open(file+':nevents') as counts:\n",
    "                nevents[file] = counts.counts()[0]  \n",
    "                nevents[sample] += nevents[file]\n",
    "\n",
    "meta = {}\n",
    "\n",
    "for sample in fileset:\n",
    "    meta[sample] = output_flat[sample]\n",
    "    meta[sample]['xsec'] = samples[sample]['xsec']\n",
    "    meta[sample]['nevents'] = nevents[sample]"
   ]
  },
  {
   "cell_type": "code",
   "execution_count": null,
   "id": "352c50ad",
   "metadata": {},
   "outputs": [],
   "source": [
    "output_flat['cutflow']"
   ]
  },
  {
   "cell_type": "code",
   "execution_count": null,
   "id": "b6808c9a",
   "metadata": {},
   "outputs": [],
   "source": [
    "cutflow = cutflow_scale_and_merge(output_flat['cutflow'], meta, fileset, 3000)"
   ]
  },
  {
   "cell_type": "code",
   "execution_count": null,
   "id": "8a110a9c",
   "metadata": {},
   "outputs": [],
   "source": [
    "cutflow"
   ]
  },
  {
   "cell_type": "code",
   "execution_count": null,
   "id": "98ca80b1",
   "metadata": {},
   "outputs": [],
   "source": [
    "proceses = ['ZJetsToNuNu_HT', 'WJetsToLNu_Njet', 'QCD_bEnriched_HT', 'TT', '2HDMa_1500_750', '2HDMa_1750_750', '2HDMa_2000_750']\n",
    "cuts = ['total', 'lepton_veto', 'MET>300', 'N_AK8>0', 'N_AK4>1', 'min_AK8_pt', 'dphi_AK8_MET>1', '1<dphi_AK4_MET<3', 'AK4_QCD_veto', 'AK8_QCD_veto', 'N_H>0', 'on_H', 'MT>600', 'MT>1200' ]"
   ]
  },
  {
   "cell_type": "code",
   "execution_count": null,
   "id": "61421ff8",
   "metadata": {},
   "outputs": [],
   "source": [
    "getCutFlowTable(cutflow, proceses, cuts, significantFigures=4, absolute=True, signal = ['2HDMa_1500_750'])"
   ]
  },
  {
   "cell_type": "markdown",
   "id": "4763ad0c",
   "metadata": {},
   "source": [
    "# Other Plots"
   ]
  },
  {
   "cell_type": "code",
   "execution_count": null,
   "id": "a6ac8d36",
   "metadata": {},
   "outputs": [],
   "source": [
    "path = '../analysis/histos/scaled_output.pkl.gz'\n",
    "with gzip.open(path) as fin:\n",
    "    scaled_output = pickle.load(fin)"
   ]
  },
  {
   "cell_type": "code",
   "execution_count": null,
   "id": "fddeffa9",
   "metadata": {},
   "outputs": [],
   "source": [
    "pt_coarse_bins = hist.Bin('pt', r'$p_{T}\\ (GeV)$', 10, 200, 1200)\n",
    "phi_coarse_bins = hist.Bin(\"phi\", \"$\\phi$\", 20, 0, 4)\n",
    "\n",
    "scaled_output['b_DeltaR_vs_H_pt'] = scaled_output['b_DeltaR_vs_H_pt'].rebin('pt', pt_coarse_bins)\n",
    "scaled_output['b_DeltaR_vs_H_pt'] = scaled_output['b_DeltaR_vs_H_pt'].rebin('phi', phi_coarse_bins)\n",
    "\n",
    "b_DeltaR_vs_H_pt_1500_150 = Hist2D.from_bincounts(\n",
    "    scaled_output['b_DeltaR_vs_H_pt'].values(overflow='over')[('2HDMa_sinp_0.35_tanb_1.0_mXd_10_MH3_1500_MH4_150_MH2_1500_MHC_1500',)].T,\n",
    "    (scaled_output['b_DeltaR_vs_H_pt'].axis('pt').edges(overflow='over'), scaled_output['b_DeltaR_vs_H_pt'].axis('phi').edges(overflow='over')),\n",
    "    errors = np.sqrt(scaled_output['b_DeltaR_vs_H_pt'].values(sumw2=True, overflow='over')[('2HDMa_sinp_0.35_tanb_1.0_mXd_10_MH3_1500_MH4_150_MH2_1500_MHC_1500',)][1].T),\n",
    ")\n",
    "\n",
    "b_DeltaR_vs_H_pt_1500_750 = Hist2D.from_bincounts(\n",
    "    scaled_output['b_DeltaR_vs_H_pt'].values(overflow='over')[('2HDMa_sinp_0.35_tanb_1.0_mXd_10_MH3_1500_MH4_750_MH2_1500_MHC_1500',)].T,\n",
    "    (scaled_output['b_DeltaR_vs_H_pt'].axis('pt').edges(overflow='over'), scaled_output['b_DeltaR_vs_H_pt'].axis('phi').edges(overflow='over')),\n",
    "    errors = np.sqrt(scaled_output['b_DeltaR_vs_H_pt'].values(sumw2=True, overflow='over')[('2HDMa_sinp_0.35_tanb_1.0_mXd_10_MH3_1500_MH4_750_MH2_1500_MHC_1500',)][1].T),\n",
    ")\n",
    "\n",
    "b_DeltaR_vs_H_pt_1750_750 = Hist2D.from_bincounts(\n",
    "    scaled_output['b_DeltaR_vs_H_pt'].values(overflow='over')[('2HDMa_sinp_0.35_tanb_1.0_mXd_10_MH3_1750_MH4_750_MH2_1750_MHC_1750',)].T,\n",
    "    (scaled_output['b_DeltaR_vs_H_pt'].axis('pt').edges(overflow='over'), scaled_output['b_DeltaR_vs_H_pt'].axis('phi').edges(overflow='over')),\n",
    "    errors = np.sqrt(scaled_output['b_DeltaR_vs_H_pt'].values(sumw2=True, overflow='over')[('2HDMa_sinp_0.35_tanb_1.0_mXd_10_MH3_1750_MH4_750_MH2_1750_MHC_1750',)][1].T),\n",
    ")\n",
    "\n",
    "b_DeltaR_vs_H_pt_2000_750 = Hist2D.from_bincounts(\n",
    "    scaled_output['b_DeltaR_vs_H_pt'].values(overflow='over')[('2HDMa_sinp_0.35_tanb_1.0_mXd_10_MH3_2000_MH4_750_MH2_2000_MHC_2000',)].T,\n",
    "    (scaled_output['b_DeltaR_vs_H_pt'].axis('pt').edges(overflow='over'), scaled_output['b_DeltaR_vs_H_pt'].axis('phi').edges(overflow='over')),\n",
    "    errors = np.sqrt(scaled_output['b_DeltaR_vs_H_pt'].values(sumw2=True, overflow='over')[('2HDMa_sinp_0.35_tanb_1.0_mXd_10_MH3_2000_MH4_750_MH2_2000_MHC_2000',)][1].T),\n",
    ")"
   ]
  },
  {
   "cell_type": "code",
   "execution_count": null,
   "id": "b3e3c49f",
   "metadata": {},
   "outputs": [],
   "source": [
    "scaled_output['b_DeltaR_vs_H_pt']"
   ]
  },
  {
   "cell_type": "code",
   "execution_count": null,
   "id": "2ebbe055",
   "metadata": {},
   "outputs": [],
   "source": [
    "fig, ax  = plt.subplots(1, 1,figsize=(13,10) )\n",
    "b_DeltaR_vs_H_pt_1500_150.plot(counts=False, equidistant='xy', counts_formatter=\"{:.1e} \\n$\\pm$\\n {:.1e}\".format, counts_fontsize=10,)\n",
    "ax.set_xlabel(r'$p_{T}$')\n",
    "ax.set_ylabel(r'$\\Delta\\ R$')\n",
    "#fig.savefig('/home/users/ewallace/public_html/HbbMET/plots/signal_region/MT_vs_sdmass_2000_750.png')"
   ]
  },
  {
   "cell_type": "code",
   "execution_count": null,
   "id": "724508d1",
   "metadata": {},
   "outputs": [],
   "source": [
    "target = scaled_output['b_DeltaR_vs_H_pt'].integrate('pt', slice(200,1200), overflow='over').integrate('phi', slice(0,0.8)).values()"
   ]
  },
  {
   "cell_type": "code",
   "execution_count": null,
   "id": "5156cdf0",
   "metadata": {},
   "outputs": [],
   "source": [
    "total = scaled_output['b_DeltaR_vs_H_pt'].integrate('pt', overflow='over').integrate('phi', overflow='over').values()"
   ]
  },
  {
   "cell_type": "code",
   "execution_count": null,
   "id": "84e91e3b",
   "metadata": {},
   "outputs": [],
   "source": [
    "frac = {}\n",
    "for key in target:\n",
    "    frac[key] = target[key]/total[key]"
   ]
  },
  {
   "cell_type": "code",
   "execution_count": null,
   "id": "6ecd29f9",
   "metadata": {},
   "outputs": [],
   "source": [
    "frac"
   ]
  },
  {
   "cell_type": "code",
   "execution_count": null,
   "id": "039d762e",
   "metadata": {},
   "outputs": [],
   "source": [
    "fig, ax  = plt.subplots(1, 1,figsize=(13,10) )\n",
    "b_DeltaR_vs_H_pt_1500_750.plot(counts=True, equidistant='xy', counts_formatter=\"{:.2e} \\n$\\pm$\\n {:.2e}\".format, counts_fontsize=10,)\n",
    "ax.set_xlabel(r'$p_{T}$')\n",
    "ax.set_ylabel(r'$\\Delta\\ R$')\n",
    "#fig.savefig('/home/users/ewallace/public_html/HbbMET/plots/signal_region/MT_vs_sdmass_2000_750.png')"
   ]
  },
  {
   "cell_type": "code",
   "execution_count": null,
   "id": "e9481c3e",
   "metadata": {},
   "outputs": [],
   "source": [
    "fig, ax  = plt.subplots(1, 1,figsize=(13,10) )\n",
    "b_DeltaR_vs_H_pt_1750_750.plot(counts=False, equidistant='xy', counts_formatter=\"{:.2e} \\n$\\pm$\\n {:.2e}\".format, counts_fontsize=10,)\n",
    "ax.set_xlabel(r'$p_{T}$')\n",
    "ax.set_ylabel(r'$\\Delta\\ R$')\n",
    "#fig.savefig('/home/users/ewallace/public_html/HbbMET/plots/signal_region/MT_vs_sdmass_2000_750.png')"
   ]
  },
  {
   "cell_type": "code",
   "execution_count": null,
   "id": "754b3d3f",
   "metadata": {},
   "outputs": [],
   "source": [
    "fig, ax  = plt.subplots(1, 1,figsize=(13,10) )\n",
    "b_DeltaR_vs_H_pt_2000_750.plot(counts=False, equidistant='xy', counts_formatter=\"{:.1e} \\n$\\pm$\\n {:.1e}\".format, counts_fontsize=10,)\n",
    "ax.set_xlabel(r'$p_{T}$')\n",
    "ax.set_ylabel(r'$\\Delta\\ R$')\n",
    "fig.savefig('/home/users/ewallace/public_html/HbbMET/plots/b_DeltaR_vs_H_pt_2000_750.png')"
   ]
  },
  {
   "cell_type": "code",
   "execution_count": null,
   "id": "583cedb4",
   "metadata": {},
   "outputs": [],
   "source": [
    "import mplhep as hep\n",
    "plt.style.use(hep.style.CMS)"
   ]
  },
  {
   "cell_type": "code",
   "execution_count": null,
   "id": "260d65a4",
   "metadata": {},
   "outputs": [],
   "source": [
    "fig, ax  = plt.subplots(1, 1,figsize=(10,10) )\n",
    "x_750 = np.array([1250, 1500, 1600, 1750, 1900, 2000, 2250])\n",
    "y_750 = np.array([11.2812, 2.3828, 1.4922,  1.3867, 1.6484,  1.8125, 2.8906])\n",
    "error_up_750 = np.array([4.8116, 1.0638, 0.6840, 0.6357, 0.7688, 0.8525, 1.3827])\n",
    "error_down_750 = np.array([3.1687, 0.6951, 0.4389, 0.4130, 0.4888, 0.5487, 0.8751])\n",
    "\n",
    "x_250 = np.array([1250, 1500, 1600, 1750, 1900, 2000, 2250])\n",
    "y_250 = np.array([])\n",
    "error_up_250 = np.array([])\n",
    "error_down_250 = np.array([])\n",
    "\n",
    "plt.plot(x_750, y_750, linewidth = 1.75, color='#9D5783', label=r'$m_a=750$')\n",
    "#plt.plot(x_250, y_250, linewidth = 1.75, color='#D4969A', label=r'$m_a=250$')\n",
    "plt.fill_between(x_750, y_750-error_down_750, y_750+error_up_750, color='#9D5783', alpha=0.5)\n",
    "#plt.fill_between(x_750, y_250-error_down_250, y_250+error_up_250, color='#D4969A', alpha=0.5)\n",
    "plt.hlines(1, 1250, 2250,linewidths = 1.0,color='r',zorder=5)\n",
    "plt.xlabel(r'$m_A$')\n",
    "plt.ylabel(r'$\\mu=\\sigma/\\sigma_{theory}$')\n",
    "plt.legend(prop={'size': 15})\n",
    "#plt.ylim((0,3))\n",
    "plt.yscale('log')\n",
    "plt.show()\n",
    "#fig.savefig('/home/users/ewallace/public_html/HbbMET/plots/limit_scan.png')"
   ]
  }
 ],
 "metadata": {
  "kernelspec": {
   "display_name": "coffeadev",
   "language": "python",
   "name": "coffeadev"
  },
  "language_info": {
   "codemirror_mode": {
    "name": "ipython",
    "version": 3
   },
   "file_extension": ".py",
   "mimetype": "text/x-python",
   "name": "python",
   "nbconvert_exporter": "python",
   "pygments_lexer": "ipython3",
   "version": "3.9.7"
  }
 },
 "nbformat": 4,
 "nbformat_minor": 5
}
